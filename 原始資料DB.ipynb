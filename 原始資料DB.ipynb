{
 "cells": [
  {
   "cell_type": "code",
   "execution_count": 17,
   "id": "ba72dbb1-14a7-4e89-a984-7fe378020214",
   "metadata": {},
   "outputs": [],
   "source": [
    "import pandas as pd\n",
    "import numpy as np\n",
    "import seaborn as sns\n",
    "from sklearn import metrics\n",
    "from sklearn.cluster import DBSCAN, KMeans\n",
    "import matplotlib.pyplot as plt\n",
    "from sklearn.metrics import pairwise_distances_argmin_min\n",
    "import plotly.graph_objects as go\n",
    "from sklearn.decomposition import PCA\n",
    "\n",
    "from functions import *\n",
    "from chi import *\n",
    "from regressionP import *\n",
    "from models import *"
   ]
  },
  {
   "cell_type": "code",
   "execution_count": 2,
   "id": "38ce4183-a896-4f81-b9eb-5bef91924c33",
   "metadata": {},
   "outputs": [],
   "source": [
    "data1 = pd.read_csv(\"./Data/NPA_TMA2_1.csv\", low_memory=False)[:-2]\n",
    "data2 = pd.read_csv(\"./Data/NPA_TMA2_2.csv\", low_memory=False)[:-2]\n",
    "data3 = pd.read_csv(\"./Data/NPA_TMA2_3.csv\", low_memory=False)[:-2]\n",
    "data4 = pd.read_csv(\"./Data/NPA_TMA2_4.csv\", low_memory=False)[:-2]\n",
    "dataA1 = pd.read_csv(\"./Data/NPA_TMA1.csv\")[:-2]\n",
    "\n",
    "dataA2 = pd.concat([data1, data2, data3, data4], ignore_index=True)"
   ]
  },
  {
   "cell_type": "code",
   "execution_count": 10,
   "id": "93b8ce73-b577-4117-8ee9-ed95748bb202",
   "metadata": {},
   "outputs": [
    {
     "data": {
      "text/html": [
       "<div>\n",
       "<style scoped>\n",
       "    .dataframe tbody tr th:only-of-type {\n",
       "        vertical-align: middle;\n",
       "    }\n",
       "\n",
       "    .dataframe tbody tr th {\n",
       "        vertical-align: top;\n",
       "    }\n",
       "\n",
       "    .dataframe thead th {\n",
       "        text-align: right;\n",
       "    }\n",
       "</style>\n",
       "<table border=\"1\" class=\"dataframe\">\n",
       "  <thead>\n",
       "    <tr style=\"text-align: right;\">\n",
       "      <th></th>\n",
       "      <th>光線名稱</th>\n",
       "      <th>道路類別-第1當事者-名稱</th>\n",
       "      <th>速限-第1當事者</th>\n",
       "      <th>道路型態大類別名稱</th>\n",
       "      <th>事故位置大類別名稱</th>\n",
       "      <th>號誌-號誌種類名稱</th>\n",
       "      <th>車道劃分設施-分向設施大類別名稱</th>\n",
       "      <th>車道劃分設施-分道設施-快車道或一般車道間名稱</th>\n",
       "      <th>車道劃分設施-分道設施-快慢車道間名稱</th>\n",
       "      <th>車道劃分設施-分道設施-路面邊線名稱</th>\n",
       "      <th>事故類型及型態大類別名稱</th>\n",
       "      <th>經度</th>\n",
       "      <th>緯度</th>\n",
       "      <th>死亡</th>\n",
       "      <th>受傷</th>\n",
       "    </tr>\n",
       "  </thead>\n",
       "  <tbody>\n",
       "    <tr>\n",
       "      <th>0</th>\n",
       "      <td>0.146102</td>\n",
       "      <td>2.120706</td>\n",
       "      <td>-0.146069</td>\n",
       "      <td>1.210906</td>\n",
       "      <td>0.485564</td>\n",
       "      <td>-0.713755</td>\n",
       "      <td>-1.627801</td>\n",
       "      <td>1.771301</td>\n",
       "      <td>-1.697696</td>\n",
       "      <td>-0.917071</td>\n",
       "      <td>1.798967</td>\n",
       "      <td>-0.634220</td>\n",
       "      <td>-1.868211</td>\n",
       "      <td>13.660843</td>\n",
       "      <td>-2.803204</td>\n",
       "    </tr>\n",
       "    <tr>\n",
       "      <th>1</th>\n",
       "      <td>1.465217</td>\n",
       "      <td>-0.251720</td>\n",
       "      <td>-0.146069</td>\n",
       "      <td>-0.814068</td>\n",
       "      <td>-0.872635</td>\n",
       "      <td>2.771975</td>\n",
       "      <td>-1.627801</td>\n",
       "      <td>-0.822895</td>\n",
       "      <td>-1.697696</td>\n",
       "      <td>-0.917071</td>\n",
       "      <td>-0.012319</td>\n",
       "      <td>1.111877</td>\n",
       "      <td>0.974928</td>\n",
       "      <td>13.660843</td>\n",
       "      <td>-0.620846</td>\n",
       "    </tr>\n",
       "    <tr>\n",
       "      <th>2</th>\n",
       "      <td>-1.173013</td>\n",
       "      <td>2.911514</td>\n",
       "      <td>-0.146069</td>\n",
       "      <td>1.210906</td>\n",
       "      <td>1.164664</td>\n",
       "      <td>-0.713755</td>\n",
       "      <td>1.177412</td>\n",
       "      <td>1.122752</td>\n",
       "      <td>-1.697696</td>\n",
       "      <td>-0.917071</td>\n",
       "      <td>1.798967</td>\n",
       "      <td>-2.459704</td>\n",
       "      <td>-0.633180</td>\n",
       "      <td>13.660843</td>\n",
       "      <td>-2.803204</td>\n",
       "    </tr>\n",
       "    <tr>\n",
       "      <th>3</th>\n",
       "      <td>-1.173013</td>\n",
       "      <td>-0.251720</td>\n",
       "      <td>-0.146069</td>\n",
       "      <td>-0.814068</td>\n",
       "      <td>-0.872635</td>\n",
       "      <td>2.771975</td>\n",
       "      <td>-0.225194</td>\n",
       "      <td>-0.822895</td>\n",
       "      <td>0.422707</td>\n",
       "      <td>1.090428</td>\n",
       "      <td>-0.012319</td>\n",
       "      <td>0.936797</td>\n",
       "      <td>1.016777</td>\n",
       "      <td>13.660843</td>\n",
       "      <td>-0.620846</td>\n",
       "    </tr>\n",
       "    <tr>\n",
       "      <th>4</th>\n",
       "      <td>1.465217</td>\n",
       "      <td>2.120706</td>\n",
       "      <td>-0.146069</td>\n",
       "      <td>1.210906</td>\n",
       "      <td>1.164664</td>\n",
       "      <td>-0.713755</td>\n",
       "      <td>0.476109</td>\n",
       "      <td>-0.822895</td>\n",
       "      <td>0.422707</td>\n",
       "      <td>-0.917071</td>\n",
       "      <td>1.798967</td>\n",
       "      <td>1.832866</td>\n",
       "      <td>0.186897</td>\n",
       "      <td>13.660843</td>\n",
       "      <td>-2.803204</td>\n",
       "    </tr>\n",
       "  </tbody>\n",
       "</table>\n",
       "</div>"
      ],
      "text/plain": [
       "       光線名稱  道路類別-第1當事者-名稱  速限-第1當事者  道路型態大類別名稱  事故位置大類別名稱  號誌-號誌種類名稱  \\\n",
       "0  0.146102       2.120706 -0.146069   1.210906   0.485564  -0.713755   \n",
       "1  1.465217      -0.251720 -0.146069  -0.814068  -0.872635   2.771975   \n",
       "2 -1.173013       2.911514 -0.146069   1.210906   1.164664  -0.713755   \n",
       "3 -1.173013      -0.251720 -0.146069  -0.814068  -0.872635   2.771975   \n",
       "4  1.465217       2.120706 -0.146069   1.210906   1.164664  -0.713755   \n",
       "\n",
       "   車道劃分設施-分向設施大類別名稱  車道劃分設施-分道設施-快車道或一般車道間名稱  車道劃分設施-分道設施-快慢車道間名稱  \\\n",
       "0         -1.627801                 1.771301            -1.697696   \n",
       "1         -1.627801                -0.822895            -1.697696   \n",
       "2          1.177412                 1.122752            -1.697696   \n",
       "3         -0.225194                -0.822895             0.422707   \n",
       "4          0.476109                -0.822895             0.422707   \n",
       "\n",
       "   車道劃分設施-分道設施-路面邊線名稱  事故類型及型態大類別名稱        經度        緯度         死亡        受傷  \n",
       "0           -0.917071      1.798967 -0.634220 -1.868211  13.660843 -2.803204  \n",
       "1           -0.917071     -0.012319  1.111877  0.974928  13.660843 -0.620846  \n",
       "2           -0.917071      1.798967 -2.459704 -0.633180  13.660843 -2.803204  \n",
       "3            1.090428     -0.012319  0.936797  1.016777  13.660843 -0.620846  \n",
       "4           -0.917071      1.798967  1.832866  0.186897  13.660843 -2.803204  "
      ]
     },
     "execution_count": 10,
     "metadata": {},
     "output_type": "execute_result"
    }
   ],
   "source": [
    "def preprocess(input_data, select_lst, sample = 592):\n",
    "    sample_data = input_data[input_data['當事者順位'] == 1].reset_index(drop=True, inplace=False)\n",
    "    dataA = sample_data[select_lst]\n",
    "    \n",
    "    death_injury_data = split_death_injury(dataA['死亡受傷人數'])\n",
    "    dist_df = pd.concat([dataA, death_injury_data], axis=1)\n",
    "    dist_df.drop(columns=['死亡受傷人數'], inplace=True)\n",
    "    \n",
    "    return dist_df, sample_data\n",
    "\n",
    "# List of columns to select\n",
    "select_lst = [\n",
    "    '光線名稱',\n",
    "    '道路類別-第1當事者-名稱',\n",
    "    '速限-第1當事者', #'道路障礙-視距品質名稱', # 和速限共線\n",
    "    '道路型態大類別名稱', '事故位置大類別名稱', \n",
    "    # '路面狀況-路面鋪裝名稱', '路面狀況-路面缺陷名稱', '道路障礙-障礙物名稱', # 分類幾乎都是無缺陷\n",
    "    '號誌-號誌種類名稱',\n",
    "    '車道劃分設施-分向設施大類別名稱', '車道劃分設施-分道設施-快車道或一般車道間名稱',\n",
    "    '車道劃分設施-分道設施-快慢車道間名稱', '車道劃分設施-分道設施-路面邊線名稱',\n",
    "    '事故類型及型態大類別名稱',\n",
    "    '死亡受傷人數',\n",
    "    '經度', '緯度',\n",
    "]\n",
    "\n",
    "dist_dfA1 = preprocess(dataA1, select_lst, sample = 592)\n",
    "dist_dfA2 = preprocess(dataA2, select_lst, sample = 11840) # 120420\n",
    "\n",
    "    \n",
    "rbind_data = pd.concat([dist_dfA1[0], dist_dfA2[0]], axis=0, ignore_index=True)\n",
    "\n",
    "rbind_data.loc[rbind_data['受傷'] > 1, '受傷'] = 2\n",
    "rbind_data['速限-第1當事者'] = rbind_data['速限-第1當事者'].apply(lambda x: 1 if x > 60 else 0)\n",
    "# rbind_data = process_age(rbind_data)\n",
    "\n",
    "dist_df = process_data(rbind_data)\n",
    "scaler = StandardScaler()\n",
    "\n",
    "full_dist = pd.DataFrame(scaler.fit_transform(dist_df), columns = dist_df.columns)\n",
    "X1 = full_dist.drop(['受傷', '死亡', '經度', '緯度'], axis=1)\n",
    "\n",
    "full_dist.head()"
   ]
  },
  {
   "cell_type": "code",
   "execution_count": 39,
   "id": "b20f41a4-816c-480a-b67d-54b011670087",
   "metadata": {},
   "outputs": [
    {
     "data": {
      "text/plain": [
       "True"
      ]
     },
     "execution_count": 39,
     "metadata": {},
     "output_type": "execute_result"
    }
   ],
   "source": [
    "rbind_data.shape[0] == full_dist.shape[0]"
   ]
  },
  {
   "cell_type": "code",
   "execution_count": 15,
   "id": "30599123-bff6-4503-bbd7-cbf3e2d6fbe6",
   "metadata": {},
   "outputs": [
    {
     "name": "stdout",
     "output_type": "stream",
     "text": [
      "Explained Variance Ratio: [0.21695054 0.13478921]\n",
      "Principal Component Loadings:\n",
      "                              PC1       PC2\n",
      "光線名稱                     0.007175 -0.110614\n",
      "道路類別-第1當事者-名稱            0.023615 -0.126597\n",
      "速限-第1當事者                 0.133018  0.352007\n",
      "道路型態大類別名稱                0.590220 -0.152242\n",
      "事故位置大類別名稱                0.591466 -0.146258\n",
      "號誌-號誌種類名稱               -0.359922  0.286140\n",
      "車道劃分設施-分向設施大類別名稱        -0.026578 -0.492137\n",
      "車道劃分設施-分道設施-快車道或一般車道間名稱  0.241412  0.528466\n",
      "車道劃分設施-分道設施-快慢車道間名稱     -0.144481 -0.429436\n",
      "車道劃分設施-分道設施-路面邊線名稱      -0.258382 -0.122170\n",
      "事故類型及型態大類別名稱             0.085670  0.023831\n"
     ]
    }
   ],
   "source": [
    "lens1 = PCA(2)\n",
    "lens_result = lens1.fit_transform(X1.to_numpy())\n",
    "\n",
    "# Get the principal components and explained variance\n",
    "principal_components = lens1.components_\n",
    "explained_variance = lens1.explained_variance_ratio_\n",
    "\n",
    "# Create a DataFrame for loadings (principal component coefficients)\n",
    "loadings_df = pd.DataFrame(principal_components.T, columns=['PC1', 'PC2'], index=X1.columns)\n",
    "\n",
    "# Add PCA results back to the combined DataFrame for further analysis\n",
    "X1['PC1'] = lens_result[:, 0]\n",
    "X1['PC2'] = lens_result[:, 1]\n",
    "\n",
    "print(\"Explained Variance Ratio:\", explained_variance)\n",
    "print(\"Principal Component Loadings:\")\n",
    "print(loadings_df)"
   ]
  },
  {
   "cell_type": "code",
   "execution_count": 88,
   "id": "ebe7783e-2d16-4e29-a6a9-38b5d7d58025",
   "metadata": {},
   "outputs": [],
   "source": [
    "# plt.figure(figsize=(10, 8))\n",
    "# sns.scatterplot(\n",
    "#     data=X1,\n",
    "#     x='PC1',\n",
    "#     y='PC2',\n",
    "#     hue='事故位置大類別名稱',\n",
    "#     palette='Set1',\n",
    "#     s=100,\n",
    "#     edgecolor='w',\n",
    "#     alpha=0.7\n",
    "# )\n",
    "\n",
    "# # Set plot title and labels\n",
    "# plt.title('PCA Clusters by User')\n",
    "# plt.xlabel('PC 1')\n",
    "# plt.ylabel('PC 2')\n",
    "# plt.legend(title='User ID')\n",
    "# plt.grid(True)\n",
    "\n",
    "# # Show the plot\n",
    "# plt.show()"
   ]
  },
  {
   "cell_type": "code",
   "execution_count": 68,
   "id": "59301e28-f723-486d-8d41-92c4f20b78a8",
   "metadata": {},
   "outputs": [
    {
     "name": "stdout",
     "output_type": "stream",
     "text": [
      "最佳成分數： 6\n",
      "解釋方差比率累計值： 0.7999701757701387\n"
     ]
    }
   ],
   "source": [
    "def find_ratio(input_data, components) :\n",
    "    best_comp = {}\n",
    "    for comp in range(1,components+1):   \n",
    "        pca = PCA(comp).fit(input_data)\n",
    "        \n",
    "        best_comp[comp] = pca.explained_variance_ratio_.sum()\n",
    "        \n",
    "    max_comp = max(best_comp, key=best_comp.get)  # 使用 key=best_comp.get 找到最大值的鍵\n",
    "    print(\"最佳成分數：\", max_comp)\n",
    "    print(\"解釋方差比率累計值：\", best_comp[max_comp])\n",
    "\n",
    "lens1 = find_ratio(X1.to_numpy(), 6)"
   ]
  },
  {
   "cell_type": "code",
   "execution_count": 97,
   "id": "97317e02-bd0b-4f15-8071-79ea75e449fc",
   "metadata": {},
   "outputs": [],
   "source": [
    "lens1 = PCA(6)\n",
    "lens_result = lens1.fit_transform(X1.to_numpy())\n",
    "\n",
    "db = DBSCAN(eps=1.7, min_samples=10).fit(lens_result)\n",
    "labels = db.labels_\n",
    "\n",
    "# Number of clusters in labels, ignoring noise if present.\n",
    "n_clusters_ = len(set(labels)) - (1 if -1 in labels else 0)\n",
    "n_noise_ = list(labels).count(-1)"
   ]
  },
  {
   "cell_type": "code",
   "execution_count": 84,
   "id": "3ac6d8fe-7ca2-4d7d-80aa-119eaa4c79c6",
   "metadata": {},
   "outputs": [
    {
     "data": {
      "text/plain": [
       "2"
      ]
     },
     "execution_count": 84,
     "metadata": {},
     "output_type": "execute_result"
    }
   ],
   "source": [
    "n_clusters_"
   ]
  },
  {
   "cell_type": "code",
   "execution_count": 85,
   "id": "091f146b-b903-4032-a09e-a745425889d5",
   "metadata": {},
   "outputs": [
    {
     "data": {
      "text/plain": [
       "(99, 15)"
      ]
     },
     "execution_count": 85,
     "metadata": {},
     "output_type": "execute_result"
    }
   ],
   "source": [
    "noise_mask = labels == -1\n",
    "noise_rows = rbind_data[noise_mask]\n",
    "\n",
    "noise_rows.shape"
   ]
  },
  {
   "cell_type": "code",
   "execution_count": 93,
   "id": "b952f20c-491e-41d9-a642-809fe6b3f408",
   "metadata": {},
   "outputs": [],
   "source": [
    "# noise_rows.to_csv('CalculatedData/離群比較/原始.csv', index=False)"
   ]
  },
  {
   "cell_type": "code",
   "execution_count": 96,
   "id": "80b88f58-79a4-4ff9-ac29-7893089e90f2",
   "metadata": {},
   "outputs": [],
   "source": [
    "# origin_noise = process_data(noise_rows)\n",
    "# origin_noise.drop(['經度', '緯度'], axis=1)"
   ]
  }
 ],
 "metadata": {
  "kernelspec": {
   "display_name": "Python 3 (ipykernel)",
   "language": "python",
   "name": "python3"
  },
  "language_info": {
   "codemirror_mode": {
    "name": "ipython",
    "version": 3
   },
   "file_extension": ".py",
   "mimetype": "text/x-python",
   "name": "python",
   "nbconvert_exporter": "python",
   "pygments_lexer": "ipython3",
   "version": "3.9.12"
  }
 },
 "nbformat": 4,
 "nbformat_minor": 5
}

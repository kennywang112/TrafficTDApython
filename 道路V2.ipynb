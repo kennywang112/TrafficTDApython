{
 "cells": [
  {
   "cell_type": "code",
   "execution_count": 2,
   "id": "f86ea7dc-6799-42a5-8e84-aa0f6422f5f9",
   "metadata": {},
   "outputs": [],
   "source": [
    "import pickle\n",
    "import time\n",
    "import numpy as np\n",
    "import pandas as pd\n",
    "import seaborn as sns\n",
    "import matplotlib.pyplot as plt\n",
    "import plotly.graph_objects as go\n",
    "\n",
    "from sklearn.decomposition import PCA\n",
    "from sklearn.cluster import DBSCAN, AgglomerativeClustering\n",
    "from sklearn.preprocessing import StandardScaler\n",
    "from sklearn.metrics import silhouette_score, confusion_matrix, accuracy_score, precision_score, recall_score, f1_score\n",
    "\n",
    "from tdamapper.core import MapperAlgorithm\n",
    "from tdamapper.cover import CubicalCover\n",
    "from tdamapper.plot import MapperLayoutInteractive, MapperLayoutStatic\n",
    "from tdamapper.clustering import FailSafeClustering\n",
    "from sklearn import metrics\n",
    "\n",
    "from functions import *\n",
    "from chi import *\n",
    "from regressionP import *\n",
    "from models import *"
   ]
  },
  {
   "cell_type": "code",
   "execution_count": 3,
   "id": "00a8edb3-600c-4782-ad38-55d0c5fcf445",
   "metadata": {},
   "outputs": [],
   "source": [
    "data1 = pd.read_csv(\"./Data/NPA_TMA2_1.csv\", low_memory=False)[:-2]\n",
    "data2 = pd.read_csv(\"./Data/NPA_TMA2_2.csv\", low_memory=False)[:-2]\n",
    "data3 = pd.read_csv(\"./Data/NPA_TMA2_3.csv\", low_memory=False)[:-2]\n",
    "data4 = pd.read_csv(\"./Data/NPA_TMA2_4_new.csv\", low_memory=False)[:-2]\n",
    "data5 = pd.read_csv(\"./Data/NPA_TMA2_5.csv\", low_memory=False)[:-2]\n",
    "data6 = pd.read_csv(\"./Data/NPA_TMA2_6.csv\", low_memory=False)[:-2]\n",
    "\n",
    "dataA2 = pd.concat([data1, data2, data3, data4, data5, data6], ignore_index=True)\n",
    "\n",
    "dataA1 = pd.read_csv(\"./Data/NPA_TMA1_new.csv\")[:-2]"
   ]
  },
  {
   "cell_type": "code",
   "execution_count": 26,
   "id": "a55ceb49-6238-4d71-b524-8b21abe7da4b",
   "metadata": {},
   "outputs": [
    {
     "data": {
      "text/html": [
       "<div>\n",
       "<style scoped>\n",
       "    .dataframe tbody tr th:only-of-type {\n",
       "        vertical-align: middle;\n",
       "    }\n",
       "\n",
       "    .dataframe tbody tr th {\n",
       "        vertical-align: top;\n",
       "    }\n",
       "\n",
       "    .dataframe thead th {\n",
       "        text-align: right;\n",
       "    }\n",
       "</style>\n",
       "<table border=\"1\" class=\"dataframe\">\n",
       "  <thead>\n",
       "    <tr style=\"text-align: right;\">\n",
       "      <th></th>\n",
       "      <th>光線名稱</th>\n",
       "      <th>道路類別-第1當事者-名稱</th>\n",
       "      <th>速限-第1當事者</th>\n",
       "      <th>道路型態大類別名稱</th>\n",
       "      <th>事故位置大類別名稱</th>\n",
       "      <th>號誌-號誌種類名稱</th>\n",
       "      <th>車道劃分設施-分向設施大類別名稱</th>\n",
       "      <th>車道劃分設施-分道設施-快車道或一般車道間名稱</th>\n",
       "      <th>車道劃分設施-分道設施-快慢車道間名稱</th>\n",
       "      <th>車道劃分設施-分道設施-路面邊線名稱</th>\n",
       "      <th>事故類型及型態大類別名稱</th>\n",
       "      <th>經度</th>\n",
       "      <th>緯度</th>\n",
       "      <th>死亡</th>\n",
       "      <th>受傷</th>\n",
       "    </tr>\n",
       "  </thead>\n",
       "  <tbody>\n",
       "    <tr>\n",
       "      <th>0</th>\n",
       "      <td>0.123017</td>\n",
       "      <td>2.096435</td>\n",
       "      <td>-0.148895</td>\n",
       "      <td>1.213567</td>\n",
       "      <td>0.486423</td>\n",
       "      <td>-0.712247</td>\n",
       "      <td>-1.628151</td>\n",
       "      <td>1.775343</td>\n",
       "      <td>-1.706019</td>\n",
       "      <td>-0.916000</td>\n",
       "      <td>1.800087</td>\n",
       "      <td>-0.612124</td>\n",
       "      <td>-1.839571</td>\n",
       "      <td>14.069323</td>\n",
       "      <td>-2.803115</td>\n",
       "    </tr>\n",
       "    <tr>\n",
       "      <th>1</th>\n",
       "      <td>1.452595</td>\n",
       "      <td>-0.257342</td>\n",
       "      <td>-0.148895</td>\n",
       "      <td>-0.812716</td>\n",
       "      <td>-0.871796</td>\n",
       "      <td>2.776686</td>\n",
       "      <td>-1.628151</td>\n",
       "      <td>-0.819002</td>\n",
       "      <td>-1.706019</td>\n",
       "      <td>-0.916000</td>\n",
       "      <td>-0.025626</td>\n",
       "      <td>1.113577</td>\n",
       "      <td>0.990073</td>\n",
       "      <td>14.069323</td>\n",
       "      <td>-0.620256</td>\n",
       "    </tr>\n",
       "    <tr>\n",
       "      <th>2</th>\n",
       "      <td>-1.206562</td>\n",
       "      <td>2.881027</td>\n",
       "      <td>-0.148895</td>\n",
       "      <td>1.213567</td>\n",
       "      <td>1.165533</td>\n",
       "      <td>-0.712247</td>\n",
       "      <td>1.180580</td>\n",
       "      <td>1.126756</td>\n",
       "      <td>-1.706019</td>\n",
       "      <td>-0.916000</td>\n",
       "      <td>1.800087</td>\n",
       "      <td>-2.416285</td>\n",
       "      <td>-0.610402</td>\n",
       "      <td>14.069323</td>\n",
       "      <td>-2.803115</td>\n",
       "    </tr>\n",
       "    <tr>\n",
       "      <th>3</th>\n",
       "      <td>-1.206562</td>\n",
       "      <td>-0.257342</td>\n",
       "      <td>-0.148895</td>\n",
       "      <td>-0.812716</td>\n",
       "      <td>-0.871796</td>\n",
       "      <td>2.776686</td>\n",
       "      <td>-0.223786</td>\n",
       "      <td>-0.819002</td>\n",
       "      <td>0.423384</td>\n",
       "      <td>1.091703</td>\n",
       "      <td>-0.025626</td>\n",
       "      <td>0.940543</td>\n",
       "      <td>1.031724</td>\n",
       "      <td>14.069323</td>\n",
       "      <td>-0.620256</td>\n",
       "    </tr>\n",
       "    <tr>\n",
       "      <th>4</th>\n",
       "      <td>1.452595</td>\n",
       "      <td>2.096435</td>\n",
       "      <td>-0.148895</td>\n",
       "      <td>1.213567</td>\n",
       "      <td>1.165533</td>\n",
       "      <td>-0.712247</td>\n",
       "      <td>0.478397</td>\n",
       "      <td>-0.819002</td>\n",
       "      <td>0.423384</td>\n",
       "      <td>-0.916000</td>\n",
       "      <td>1.800087</td>\n",
       "      <td>1.826145</td>\n",
       "      <td>0.205783</td>\n",
       "      <td>14.069323</td>\n",
       "      <td>-2.803115</td>\n",
       "    </tr>\n",
       "  </tbody>\n",
       "</table>\n",
       "</div>"
      ],
      "text/plain": [
       "       光線名稱  道路類別-第1當事者-名稱  速限-第1當事者  道路型態大類別名稱  事故位置大類別名稱  號誌-號誌種類名稱  \\\n",
       "0  0.123017       2.096435 -0.148895   1.213567   0.486423  -0.712247   \n",
       "1  1.452595      -0.257342 -0.148895  -0.812716  -0.871796   2.776686   \n",
       "2 -1.206562       2.881027 -0.148895   1.213567   1.165533  -0.712247   \n",
       "3 -1.206562      -0.257342 -0.148895  -0.812716  -0.871796   2.776686   \n",
       "4  1.452595       2.096435 -0.148895   1.213567   1.165533  -0.712247   \n",
       "\n",
       "   車道劃分設施-分向設施大類別名稱  車道劃分設施-分道設施-快車道或一般車道間名稱  車道劃分設施-分道設施-快慢車道間名稱  \\\n",
       "0         -1.628151                 1.775343            -1.706019   \n",
       "1         -1.628151                -0.819002            -1.706019   \n",
       "2          1.180580                 1.126756            -1.706019   \n",
       "3         -0.223786                -0.819002             0.423384   \n",
       "4          0.478397                -0.819002             0.423384   \n",
       "\n",
       "   車道劃分設施-分道設施-路面邊線名稱  事故類型及型態大類別名稱        經度        緯度         死亡        受傷  \n",
       "0           -0.916000      1.800087 -0.612124 -1.839571  14.069323 -2.803115  \n",
       "1           -0.916000     -0.025626  1.113577  0.990073  14.069323 -0.620256  \n",
       "2           -0.916000      1.800087 -2.416285 -0.610402  14.069323 -2.803115  \n",
       "3            1.091703     -0.025626  0.940543  1.031724  14.069323 -0.620256  \n",
       "4           -0.916000      1.800087  1.826145  0.205783  14.069323 -2.803115  "
      ]
     },
     "execution_count": 26,
     "metadata": {},
     "output_type": "execute_result"
    }
   ],
   "source": [
    "def preprocess(input_data, select_lst):\n",
    "    sample_data = input_data[input_data['當事者順位'] == 1].reset_index(drop=True, inplace=False)\n",
    "    sample_data = sample_data[sample_data['發生月份'] < 7]\n",
    "    dataA = sample_data[select_lst]\n",
    "    \n",
    "    death_injury_data = split_death_injury(dataA['死亡受傷人數'])\n",
    "    dist_df = pd.concat([dataA, death_injury_data], axis=1)\n",
    "    dist_df.drop(columns=['死亡受傷人數'], inplace=True)\n",
    "    \n",
    "    return dist_df, sample_data\n",
    "\n",
    "select_lst = [\n",
    "    '光線名稱', '道路類別-第1當事者-名稱', '速限-第1當事者',\n",
    "    '道路型態大類別名稱', '事故位置大類別名稱',  '號誌-號誌種類名稱',\n",
    "    '車道劃分設施-分向設施大類別名稱', '車道劃分設施-分道設施-快車道或一般車道間名稱',\n",
    "    '車道劃分設施-分道設施-快慢車道間名稱', '車道劃分設施-分道設施-路面邊線名稱',\n",
    "    '事故類型及型態大類別名稱',\n",
    "    '死亡受傷人數', '經度', '緯度',\n",
    "]\n",
    "\n",
    "dist_dfA1 = preprocess(dataA1, select_lst)\n",
    "dist_dfA2 = preprocess(dataA2, select_lst)\n",
    "\n",
    "rbind_data = pd.concat([dist_dfA1[0], dist_dfA2[0]], axis=0, ignore_index=True)\n",
    "\n",
    "rbind_data.loc[rbind_data['受傷'] > 1, '受傷'] = 2\n",
    "rbind_data['速限-第1當事者'] = rbind_data['速限-第1當事者'].apply(lambda x: 1 if x > 60 else 0)\n",
    "\n",
    "dist_df = process_data(rbind_data)\n",
    "scaler = StandardScaler()\n",
    "\n",
    "full_dist = pd.DataFrame(scaler.fit_transform(dist_df), columns = dist_df.columns)\n",
    "X1 = full_dist.drop(['受傷', '死亡', '經度', '緯度'], axis=1).to_numpy()\n",
    "\n",
    "full_dist.head()"
   ]
  },
  {
   "cell_type": "code",
   "execution_count": 26,
   "id": "141ae2b8-f7b9-4044-9fa1-b8810326f7c5",
   "metadata": {},
   "outputs": [
    {
     "name": "stdout",
     "output_type": "stream",
     "text": [
      "1373.2033610343933\n"
     ]
    }
   ],
   "source": [
    "start_time = time.time()\n",
    "\n",
    "lens1 = PCA(10).fit_transform(X1)\n",
    "\n",
    "mapper_algo1 = MapperAlgorithm(\n",
    "    cover = CubicalCover(\n",
    "        n_intervals = 4,\n",
    "        overlap_frac = 0.4\n",
    "    ),\n",
    "    clustering = FailSafeClustering(\n",
    "        clustering = AgglomerativeClustering(3, linkage='ward'),\n",
    "        verbose = False)\n",
    ")\n",
    "\n",
    "mapper_graph1 = mapper_algo1.fit_transform(X1, lens1)\n",
    "\n",
    "end_time = time.time()\n",
    "elapsed_time = end_time - start_time\n",
    "print(elapsed_time)"
   ]
  },
  {
   "cell_type": "code",
   "execution_count": 6,
   "id": "759e3a20-04f6-44dc-904d-563c43ba819d",
   "metadata": {},
   "outputs": [],
   "source": [
    "# mapper_plot1 = MapperLayoutInteractive(\n",
    "#     mapper_graph1,\n",
    "#     colors = dist_df[['事故類型及型態大類別名稱']].to_numpy(),\n",
    "#     cmap = 'jet',\n",
    "#     # agg = np.nanmean,\n",
    "#     agg = most_frequent_nonan,\n",
    "#     dim = 3,\n",
    "#     iterations = 30,\n",
    "#     seed = 6,\n",
    "#     width = 800,\n",
    "#     height = 500)"
   ]
  },
  {
   "cell_type": "code",
   "execution_count": 7,
   "id": "b76f2796-b242-4c65-8c3c-d6411266e627",
   "metadata": {},
   "outputs": [],
   "source": [
    "# fig_mean1 = mapper_plot1.plot()\n",
    "# fig_mean1.show(config={'scrollZoom': True})"
   ]
  },
  {
   "cell_type": "code",
   "execution_count": 100,
   "id": "80968938-b915-4b08-a38e-3a6d90a1f41e",
   "metadata": {},
   "outputs": [],
   "source": [
    "# import pickle\n",
    "\n",
    "# with open('CalculatedData/道路V2.pkl', 'wb') as f:\n",
    "#     pickle.dump(mapper_graph1, f)"
   ]
  },
  {
   "cell_type": "markdown",
   "id": "1e6c0e0f-f626-4701-86bf-91e47e81379a",
   "metadata": {},
   "source": [
    "# 模型比較"
   ]
  },
  {
   "cell_type": "code",
   "execution_count": 4,
   "id": "94276c2d-c9c8-4ab1-8aca-15533a004ea6",
   "metadata": {},
   "outputs": [
    {
     "data": {
      "text/html": [
       "<div>\n",
       "<style scoped>\n",
       "    .dataframe tbody tr th:only-of-type {\n",
       "        vertical-align: middle;\n",
       "    }\n",
       "\n",
       "    .dataframe tbody tr th {\n",
       "        vertical-align: top;\n",
       "    }\n",
       "\n",
       "    .dataframe thead th {\n",
       "        text-align: right;\n",
       "    }\n",
       "</style>\n",
       "<table border=\"1\" class=\"dataframe\">\n",
       "  <thead>\n",
       "    <tr style=\"text-align: right;\">\n",
       "      <th></th>\n",
       "      <th>天候名稱</th>\n",
       "      <th>路面狀況-路面狀態名稱</th>\n",
       "      <th>肇因研判大類別名稱-主要</th>\n",
       "      <th>當事者屬-性-別名稱</th>\n",
       "      <th>當事者事故發生時年齡</th>\n",
       "      <th>車輛撞擊部位大類別名稱-最初</th>\n",
       "      <th>光線名稱</th>\n",
       "      <th>道路類別-第1當事者-名稱</th>\n",
       "      <th>速限-第1當事者</th>\n",
       "      <th>道路型態大類別名稱</th>\n",
       "      <th>...</th>\n",
       "      <th>肇因研判大類別名稱-個別</th>\n",
       "      <th>肇事逃逸類別名稱-是否肇逃</th>\n",
       "      <th>路面狀況-路面鋪裝名稱</th>\n",
       "      <th>路面狀況-路面缺陷名稱</th>\n",
       "      <th>道路障礙-障礙物名稱</th>\n",
       "      <th>道路障礙-視距品質名稱</th>\n",
       "      <th>道路障礙-視距名稱</th>\n",
       "      <th>號誌-號誌動作名稱</th>\n",
       "      <th>死亡</th>\n",
       "      <th>受傷</th>\n",
       "    </tr>\n",
       "  </thead>\n",
       "  <tbody>\n",
       "    <tr>\n",
       "      <th>0</th>\n",
       "      <td>-0.467609</td>\n",
       "      <td>-0.353119</td>\n",
       "      <td>0.507206</td>\n",
       "      <td>0.744425</td>\n",
       "      <td>-1.094758</td>\n",
       "      <td>-0.371149</td>\n",
       "      <td>0.123017</td>\n",
       "      <td>2.096435</td>\n",
       "      <td>-0.148895</td>\n",
       "      <td>1.213567</td>\n",
       "      <td>...</td>\n",
       "      <td>0.506353</td>\n",
       "      <td>-0.134302</td>\n",
       "      <td>-0.045993</td>\n",
       "      <td>-0.030455</td>\n",
       "      <td>0.000242</td>\n",
       "      <td>0.121369</td>\n",
       "      <td>0.063659</td>\n",
       "      <td>0.836165</td>\n",
       "      <td>14.069323</td>\n",
       "      <td>-2.803115</td>\n",
       "    </tr>\n",
       "    <tr>\n",
       "      <th>1</th>\n",
       "      <td>-0.467609</td>\n",
       "      <td>-0.353119</td>\n",
       "      <td>0.507206</td>\n",
       "      <td>0.744425</td>\n",
       "      <td>0.675067</td>\n",
       "      <td>1.176375</td>\n",
       "      <td>1.452595</td>\n",
       "      <td>-0.257342</td>\n",
       "      <td>-0.148895</td>\n",
       "      <td>-0.812716</td>\n",
       "      <td>...</td>\n",
       "      <td>0.506353</td>\n",
       "      <td>-0.134302</td>\n",
       "      <td>-0.045993</td>\n",
       "      <td>-0.030455</td>\n",
       "      <td>0.000242</td>\n",
       "      <td>0.121369</td>\n",
       "      <td>0.063659</td>\n",
       "      <td>-1.194649</td>\n",
       "      <td>14.069323</td>\n",
       "      <td>-0.620256</td>\n",
       "    </tr>\n",
       "    <tr>\n",
       "      <th>2</th>\n",
       "      <td>1.125243</td>\n",
       "      <td>-0.353119</td>\n",
       "      <td>0.507206</td>\n",
       "      <td>0.744425</td>\n",
       "      <td>0.675067</td>\n",
       "      <td>-0.371149</td>\n",
       "      <td>-1.206562</td>\n",
       "      <td>2.881027</td>\n",
       "      <td>-0.148895</td>\n",
       "      <td>1.213567</td>\n",
       "      <td>...</td>\n",
       "      <td>0.506353</td>\n",
       "      <td>-0.134302</td>\n",
       "      <td>-0.045993</td>\n",
       "      <td>-0.030455</td>\n",
       "      <td>0.000242</td>\n",
       "      <td>0.121369</td>\n",
       "      <td>0.063659</td>\n",
       "      <td>0.836165</td>\n",
       "      <td>14.069323</td>\n",
       "      <td>-2.803115</td>\n",
       "    </tr>\n",
       "    <tr>\n",
       "      <th>3</th>\n",
       "      <td>-0.467609</td>\n",
       "      <td>-0.353119</td>\n",
       "      <td>0.507206</td>\n",
       "      <td>0.744425</td>\n",
       "      <td>-0.209846</td>\n",
       "      <td>-0.371149</td>\n",
       "      <td>-1.206562</td>\n",
       "      <td>-0.257342</td>\n",
       "      <td>-0.148895</td>\n",
       "      <td>-0.812716</td>\n",
       "      <td>...</td>\n",
       "      <td>0.506353</td>\n",
       "      <td>-0.134302</td>\n",
       "      <td>-0.045993</td>\n",
       "      <td>-0.030455</td>\n",
       "      <td>0.000242</td>\n",
       "      <td>0.121369</td>\n",
       "      <td>0.063659</td>\n",
       "      <td>-1.194649</td>\n",
       "      <td>14.069323</td>\n",
       "      <td>-0.620256</td>\n",
       "    </tr>\n",
       "    <tr>\n",
       "      <th>4</th>\n",
       "      <td>1.125243</td>\n",
       "      <td>-0.353119</td>\n",
       "      <td>0.507206</td>\n",
       "      <td>0.744425</td>\n",
       "      <td>-1.094758</td>\n",
       "      <td>-0.371149</td>\n",
       "      <td>1.452595</td>\n",
       "      <td>2.096435</td>\n",
       "      <td>-0.148895</td>\n",
       "      <td>1.213567</td>\n",
       "      <td>...</td>\n",
       "      <td>0.506353</td>\n",
       "      <td>-0.134302</td>\n",
       "      <td>-0.045993</td>\n",
       "      <td>-0.030455</td>\n",
       "      <td>0.000242</td>\n",
       "      <td>0.121369</td>\n",
       "      <td>0.063659</td>\n",
       "      <td>0.836165</td>\n",
       "      <td>14.069323</td>\n",
       "      <td>-2.803115</td>\n",
       "    </tr>\n",
       "  </tbody>\n",
       "</table>\n",
       "<p>5 rows × 43 columns</p>\n",
       "</div>"
      ],
      "text/plain": [
       "       天候名稱  路面狀況-路面狀態名稱  肇因研判大類別名稱-主要  當事者屬-性-別名稱  當事者事故發生時年齡  \\\n",
       "0 -0.467609    -0.353119      0.507206    0.744425   -1.094758   \n",
       "1 -0.467609    -0.353119      0.507206    0.744425    0.675067   \n",
       "2  1.125243    -0.353119      0.507206    0.744425    0.675067   \n",
       "3 -0.467609    -0.353119      0.507206    0.744425   -0.209846   \n",
       "4  1.125243    -0.353119      0.507206    0.744425   -1.094758   \n",
       "\n",
       "   車輛撞擊部位大類別名稱-最初      光線名稱  道路類別-第1當事者-名稱  速限-第1當事者  道路型態大類別名稱  ...  \\\n",
       "0       -0.371149  0.123017       2.096435 -0.148895   1.213567  ...   \n",
       "1        1.176375  1.452595      -0.257342 -0.148895  -0.812716  ...   \n",
       "2       -0.371149 -1.206562       2.881027 -0.148895   1.213567  ...   \n",
       "3       -0.371149 -1.206562      -0.257342 -0.148895  -0.812716  ...   \n",
       "4       -0.371149  1.452595       2.096435 -0.148895   1.213567  ...   \n",
       "\n",
       "   肇因研判大類別名稱-個別  肇事逃逸類別名稱-是否肇逃  路面狀況-路面鋪裝名稱  路面狀況-路面缺陷名稱  道路障礙-障礙物名稱  \\\n",
       "0      0.506353      -0.134302    -0.045993    -0.030455    0.000242   \n",
       "1      0.506353      -0.134302    -0.045993    -0.030455    0.000242   \n",
       "2      0.506353      -0.134302    -0.045993    -0.030455    0.000242   \n",
       "3      0.506353      -0.134302    -0.045993    -0.030455    0.000242   \n",
       "4      0.506353      -0.134302    -0.045993    -0.030455    0.000242   \n",
       "\n",
       "   道路障礙-視距品質名稱  道路障礙-視距名稱  號誌-號誌動作名稱         死亡        受傷  \n",
       "0     0.121369   0.063659   0.836165  14.069323 -2.803115  \n",
       "1     0.121369   0.063659  -1.194649  14.069323 -0.620256  \n",
       "2     0.121369   0.063659   0.836165  14.069323 -2.803115  \n",
       "3     0.121369   0.063659  -1.194649  14.069323 -0.620256  \n",
       "4     0.121369   0.063659   0.836165  14.069323 -2.803115  \n",
       "\n",
       "[5 rows x 43 columns]"
      ]
     },
     "execution_count": 4,
     "metadata": {},
     "output_type": "execute_result"
    }
   ],
   "source": [
    "def preprocess(input_data, select_lst):\n",
    "    sample_data = input_data[input_data['當事者順位'] == 1].reset_index(drop=True, inplace=False)\n",
    "    sample_data = sample_data[sample_data['發生月份'] < 7]\n",
    "    dataA = sample_data[select_lst]\n",
    "    \n",
    "    death_injury_data = split_death_injury(dataA['死亡受傷人數'])\n",
    "    dist_df = pd.concat([dataA, death_injury_data], axis=1)\n",
    "    dist_df.drop(columns=['死亡受傷人數'], inplace=True)\n",
    "    \n",
    "    return dist_df, sample_data\n",
    "\n",
    "# List of columns to select\n",
    "select_lst = [\n",
    "    '天候名稱', \n",
    "    '路面狀況-路面狀態名稱',\n",
    "    '肇因研判大類別名稱-主要', '當事者屬-性-別名稱', '當事者事故發生時年齡', \n",
    "    '車輛撞擊部位大類別名稱-最初',\n",
    "    '光線名稱',\n",
    "    '道路類別-第1當事者-名稱',\n",
    "    '速限-第1當事者', \n",
    "    '道路型態大類別名稱',\n",
    "    '事故位置大類別名稱', \n",
    "    '號誌-號誌種類名稱',\n",
    "    '車道劃分設施-分向設施大類別名稱', '車道劃分設施-分道設施-快車道或一般車道間名稱',\n",
    "    '車道劃分設施-分道設施-快慢車道間名稱', '車道劃分設施-分道設施-路面邊線名稱',\n",
    "    '事故類型及型態大類別名稱',\n",
    "    '死亡受傷人數',\n",
    "    '經度', '緯度',\n",
    "    '道路型態子類別名稱', '事故位置子類別名稱', '車道劃分設施-分向設施子類別名稱', '事故類型及型態子類別名稱', \n",
    "    '當事者行動狀態子類別名稱', '車輛撞擊部位子類別名稱-最初', '車輛撞擊部位子類別名稱-其他', '肇因研判子類別名稱-個別',\n",
    "    \n",
    "    '當事者區分-類別-大類別名稱-車種', '當事者區分-類別-子類別名稱-車種',\n",
    "    '保護裝備名稱', '行動電話或電腦或其他相類功能裝置名稱', '當事者行動狀態大類別名稱',\n",
    "    '車輛撞擊部位大類別名稱-其他', '肇因研判大類別名稱-個別', '肇事逃逸類別名稱-是否肇逃',\n",
    "    '路面狀況-路面鋪裝名稱', '路面狀況-路面缺陷名稱',\n",
    "    '道路障礙-障礙物名稱', '道路障礙-視距品質名稱', '道路障礙-視距名稱','號誌-號誌動作名稱',\n",
    "]\n",
    "\n",
    "dist_dfA1 = preprocess(dataA1, select_lst)\n",
    "dist_dfA2 = preprocess(dataA2, select_lst)\n",
    "\n",
    "rbind_data = pd.concat([dist_dfA1[0], dist_dfA2[0]], axis=0, ignore_index=True)\n",
    "\n",
    "rbind_data.loc[rbind_data['受傷'] > 1, '受傷'] = 2\n",
    "rbind_data['速限-第1當事者'] = rbind_data['速限-第1當事者'].apply(lambda x: 1 if x > 60 else 0)\n",
    "rbind_data = process_age(rbind_data)\n",
    "# 顏色處理\n",
    "# rbind_data['color'] = rbind_data['速限-第1當事者'].astype(str) + rbind_data['事故類型及型態大類別名稱']\n",
    "\n",
    "dist_df = process_data(rbind_data)\n",
    "scaler = StandardScaler()\n",
    "\n",
    "full_dist = pd.DataFrame(scaler.fit_transform(dist_df), columns = dist_df.columns)\n",
    "X1 = full_dist.drop(['受傷', '死亡'], axis=1).to_numpy()\n",
    "\n",
    "full_dist.head()"
   ]
  },
  {
   "cell_type": "code",
   "execution_count": 5,
   "id": "db92e887-d74c-43ac-9f5c-e72b066bdc97",
   "metadata": {},
   "outputs": [],
   "source": [
    "with open('CalculatedData/道路V2.pkl', 'rb') as f:\n",
    "    mapper_graph1 = pickle.load(f)\n",
    "    \n",
    "mapper_plot1 = MapperLayoutInteractive(\n",
    "    mapper_graph1,\n",
    "    colors = dist_df[['事故類型及型態大類別名稱']].to_numpy(),\n",
    "    cmap = 'jet',\n",
    "    # agg = np.nanmean,\n",
    "    agg = most_frequent_nonan,\n",
    "    dim = 3,\n",
    "    iterations = 30,\n",
    "    seed = 6,\n",
    "    width = 800,\n",
    "    height = 500)"
   ]
  },
  {
   "cell_type": "code",
   "execution_count": 14,
   "id": "1c9fcaec-1867-467a-906c-f53a48cb11eb",
   "metadata": {},
   "outputs": [],
   "source": [
    "# fig_mean1 = mapper_plot1.plot()\n",
    "# fig_mean1.show(config={'scrollZoom': True})"
   ]
  },
  {
   "cell_type": "code",
   "execution_count": 6,
   "id": "03afc0b6-e649-43c7-9805-d2a709913430",
   "metadata": {},
   "outputs": [],
   "source": [
    "x = vars(mapper_plot1._MapperLayoutInteractive__fig)['_data_objs'][1]['x']\n",
    "y = vars(mapper_plot1._MapperLayoutInteractive__fig)['_data_objs'][1]['y']\n",
    "z = vars(mapper_plot1._MapperLayoutInteractive__fig)['_data_objs'][1]['z']\n",
    "\n",
    "threeDimData = pd.DataFrame({'x': x, 'y': y, 'z': z})\n",
    "\n",
    "import re\n",
    "data_tuple = vars(mapper_plot1._MapperLayoutInteractive__fig)['_data_objs'][1]['text']\n",
    "\n",
    "data = []\n",
    "for item in data_tuple:\n",
    "    color = int(re.search(r'color: (\\d+)', item).group(1))\n",
    "    node = int(re.search(r'node: (\\d+)', item).group(1))\n",
    "    size = int(re.search(r'size: (\\d+)', item).group(1))\n",
    "    data.append({'color': color, 'node': node, 'size': size})\n",
    "component_info = pd.DataFrame(data)\n",
    "\n",
    "full_info = pd.concat([component_info, threeDimData], axis=1)\n",
    "\n",
    "mp_content_origin = vars(mapper_plot1._MapperLayoutInteractive__graph)['_node']\n",
    "\n",
    "mp_content = pd.DataFrame.from_dict(mp_content_origin, orient='index')\n",
    "mp_content.reset_index(inplace=True)\n",
    "mp_content.rename(columns={'index': 'node'}, inplace=True)\n",
    "\n",
    "full_info = pd.merge(full_info, mp_content, on=['node', 'size'], how='inner')"
   ]
  },
  {
   "cell_type": "code",
   "execution_count": 7,
   "id": "eeaebfc3-9ae4-4b1c-bd58-f97e868a8837",
   "metadata": {},
   "outputs": [],
   "source": [
    "calinski_data = get_calinski_from_db(full_info, 0.045)\n",
    "labels = calinski_data[3]\n",
    "db = calinski_data[2]\n",
    "n_clusters_ = calinski_data[4]\n",
    "\n",
    "unique_labels = set(labels)\n",
    "core_samples_mask = np.zeros_like(labels, dtype=bool)\n",
    "core_samples_mask[db.core_sample_indices_] = True\n",
    "\n",
    "# def matplotlib_to_plotly(cmap, alpha=1):\n",
    "#     \"\"\"rgba\"\"\"\n",
    "#     return f'rgba({int(cmap[0]*200)}, {int(cmap[1]*200)}, {int(cmap[2]*200)}, {alpha})'\n",
    "\n",
    "# colors = [matplotlib_to_plotly(plt.cm.Spectral(each), alpha=0.8) for each in np.linspace(0, 1, len(unique_labels))]\n",
    "# fig = go.Figure()\n",
    "\n",
    "# for k, col in zip(unique_labels, colors):\n",
    "#     if k == -1:\n",
    "#         col = 'rgba(0,0,0,0)'\n",
    "\n",
    "#     class_member_mask = labels == k\n",
    "\n",
    "#     core_samples = full_info.iloc[:, 3:6][class_member_mask & core_samples_mask]\n",
    "#     fig.add_trace(go.Scatter3d(\n",
    "#         x=core_samples.iloc[:, 0],\n",
    "#         y=core_samples.iloc[:, 1],\n",
    "#         z=core_samples.iloc[:, 2],\n",
    "#         mode='markers',\n",
    "#         marker=dict(\n",
    "#             size=6,\n",
    "#             color=col,\n",
    "#             opacity=0.8\n",
    "#         ),\n",
    "#         name=f'Cluster {k} Core'\n",
    "#     ))\n",
    "\n",
    "#     non_core_samples = full_info.iloc[:, 3:6][class_member_mask & ~core_samples_mask]\n",
    "#     fig.add_trace(go.Scatter3d(\n",
    "#         x=non_core_samples.iloc[:, 0],\n",
    "#         y=non_core_samples.iloc[:, 1],\n",
    "#         z=non_core_samples.iloc[:, 2],\n",
    "#         mode='markers',\n",
    "#         marker=dict(\n",
    "#             size=6,\n",
    "#             color=col,\n",
    "#             opacity=0.5\n",
    "#         ),\n",
    "#         name=f'Cluster {k} Non-Core'\n",
    "#     ))\n",
    "\n",
    "# fig.update_layout(\n",
    "#     title=f\"Estimated number of clusters: {n_clusters_}\",\n",
    "#     margin=dict(l=0, r=0, b=0, t=0)\n",
    "# )\n",
    "\n",
    "# fig.show()"
   ]
  },
  {
   "cell_type": "code",
   "execution_count": 8,
   "id": "4e1b7d8f-059a-48cc-83db-f9be90f7fe7f",
   "metadata": {},
   "outputs": [
    {
     "name": "stdout",
     "output_type": "stream",
     "text": [
      "[ 0  1  2 -1]\n",
      "01連接點數量 971\n",
      "02連接點數量 0\n",
      "12連接點數量 0\n",
      "o0連接點數量 11\n",
      "o1連接點數量 14\n",
      "o2連接點數量 69\n",
      "離群值數量 196\n"
     ]
    },
    {
     "data": {
      "text/plain": [
       "True"
      ]
     },
     "execution_count": 8,
     "metadata": {},
     "output_type": "execute_result"
    }
   ],
   "source": [
    "label_0 = full_info[full_info['label'] == 0]\n",
    "label_1 = full_info[full_info['label'] == 1]\n",
    "label_2 = full_info[full_info['label'] == 2]\n",
    "label_out = full_info[(full_info['label'] != 1) & (full_info['label'] != 2) & (full_info['label'] != 0)]\n",
    "\n",
    "count_0 = get_count_dict(label_0)\n",
    "count_1 = get_count_dict(label_1)\n",
    "count_2 = get_count_dict(label_2)\n",
    "count_out = get_count_dict(label_out)\n",
    "\n",
    "print(full_info['label'].unique())\n",
    "\n",
    "full_0 = rbind_data.loc[count_0.keys()]\n",
    "full_1 = rbind_data.loc[count_1.keys()]\n",
    "full_2 = rbind_data.loc[count_2.keys()]\n",
    "\n",
    "# 離群值不需要被處理\n",
    "full_out = rbind_data.loc[count_out.keys()]\n",
    "\n",
    "lst01 = list(count_0.keys() & count_1.keys())\n",
    "lst02 = list(count_0.keys() & count_2.keys())\n",
    "lst12 = list(count_1.keys() & count_2.keys())\n",
    "lsto0 = list(count_out.keys() & count_0.keys())\n",
    "lsto1 = list(count_out.keys() & count_1.keys())\n",
    "lsto2 = list(count_out.keys() & count_2.keys())\n",
    "\n",
    "# 將重複的key另外拉出進行分析，這裡drop是為了符合卡方的獨立性前提假設\n",
    "full_01 = full_0.loc[lst01]\n",
    "full_02 = full_0.loc[lst02]\n",
    "full_12 = full_1.loc[lst12]\n",
    "\n",
    "full_combine = pd.concat([full_01, full_02, full_12], axis=0) # full_out\n",
    "full_combine = full_combine.reset_index()\n",
    "full_combine = full_combine.drop_duplicates(subset='index', keep='first')\n",
    "full_combine = full_combine.drop('index', axis=1)\n",
    "# 去掉連接點，使分析更嚴謹\n",
    "full_0 = full_0.drop(lst01 + lst02 + lsto0, errors='ignore')\n",
    "full_1 = full_1.drop(lst01 + lst12 + lsto1, errors='ignore')\n",
    "full_2 = full_2.drop(lst02 + lst12 + lsto2, errors='ignore')\n",
    "\n",
    "print('01連接點數量', len(lst01))\n",
    "print('02連接點數量', len(lst02))\n",
    "print('12連接點數量', len(lst12))\n",
    "print('o0連接點數量', len(lsto0))\n",
    "print('o1連接點數量', len(lsto1))\n",
    "print('o2連接點數量', len(lsto2))\n",
    "print('離群值數量', full_out.shape[0])\n",
    "\n",
    "full_combine.shape[0] + full_0.shape[0] + full_1.shape[0] + full_2.shape[0] + full_out.shape[0] == rbind_data.shape[0]"
   ]
  },
  {
   "cell_type": "markdown",
   "id": "e071553c-0e69-463c-aa49-38d7c47d8003",
   "metadata": {},
   "source": [
    "# 重疊區域"
   ]
  },
  {
   "cell_type": "code",
   "execution_count": 8,
   "id": "74beb753-90fb-48c4-8c3d-b6821a850f34",
   "metadata": {},
   "outputs": [],
   "source": [
    "lstv2 = [\n",
    "    '路面狀況-路面狀態名稱',\n",
    "    '當事者屬-性-別名稱', '當事者事故發生時年齡', \n",
    "    '車輛撞擊部位大類別名稱-最初',\n",
    "    '光線名稱',\n",
    "    '道路類別-第1當事者-名稱',\n",
    "    '速限-第1當事者',\n",
    "    '道路型態大類別名稱',\n",
    "    '事故位置大類別名稱', \n",
    "    '號誌-號誌種類名稱',\n",
    "    '車道劃分設施-分向設施大類別名稱', '車道劃分設施-分道設施-快車道或一般車道間名稱',\n",
    "    '車道劃分設施-分道設施-快慢車道間名稱', '車道劃分設施-分道設施-路面邊線名稱',\n",
    "    '事故類型及型態大類別名稱',\n",
    "    '事故位置子類別名稱', '事故類型及型態子類別名稱', \n",
    "    '當事者行動狀態子類別名稱', '車輛撞擊部位子類別名稱-最初', '肇因研判子類別名稱-個別',\n",
    "    '當事者區分-類別-子類別名稱-車種',\n",
    "    '保護裝備名稱', '行動電話或電腦或其他相類功能裝置名稱', \n",
    "    '當事者行動狀態大類別名稱',\n",
    "    '車輛撞擊部位大類別名稱-其他', '肇因研判大類別名稱-個別', '肇事逃逸類別名稱-是否肇逃',\n",
    "    '號誌-號誌動作名稱'\n",
    "]"
   ]
  },
  {
   "cell_type": "code",
   "execution_count": 14,
   "id": "02ddbee2-7e9f-484e-ab74-cf4a36ced2c9",
   "metadata": {},
   "outputs": [
    {
     "name": "stdout",
     "output_type": "stream",
     "text": [
      "原始V1/拓墣V2 (49, 28)\n",
      "原始V1/拓墣V1 (53, 28)\n"
     ]
    }
   ],
   "source": [
    "data_origin = pd.read_csv('CalculatedData/離群比較/原始27.csv')\n",
    "data_mapper = pd.read_csv('CalculatedData/離群比較/拓墣.csv')\n",
    "print('原始V1/拓墣V2', pd.merge(data_origin[lstv2], rbind_data.loc[full_out.index][lstv2]).shape)\n",
    "print('原始V1/拓墣V1', pd.merge(data_origin[lstv2], data_mapper[lstv2]).shape)"
   ]
  },
  {
   "cell_type": "code",
   "execution_count": 15,
   "id": "e2a205fc-abc5-4ef3-ba25-6607a7f7560c",
   "metadata": {},
   "outputs": [
    {
     "name": "stdout",
     "output_type": "stream",
     "text": [
      "原始V2/拓墣V2 (39, 28)\n",
      "原始V2/拓墣V1 (33, 28)\n"
     ]
    }
   ],
   "source": [
    "data_origin = pd.read_csv('CalculatedData/離群比較/原始27_V2.csv')\n",
    "data_mapper = pd.read_csv('CalculatedData/離群比較/拓墣.csv')\n",
    "print('原始V2/拓墣V2', pd.merge(data_origin[lstv2], rbind_data.loc[full_out.index][lstv2]).shape)\n",
    "print('原始V2/拓墣V1', pd.merge(data_origin[lstv2], data_mapper[lstv2]).shape)"
   ]
  },
  {
   "cell_type": "code",
   "execution_count": 16,
   "id": "9c8c3d17-bd34-4e8e-9e74-fb31c36fde0e",
   "metadata": {},
   "outputs": [],
   "source": [
    "# rbind_data.loc[full_out.index].to_csv('CalculatedData/離群比較/拓樸V2.csv', index=False)"
   ]
  },
  {
   "cell_type": "code",
   "execution_count": 12,
   "id": "808fc784-1f28-4ca9-bfd3-bf8d5b44ac0f",
   "metadata": {},
   "outputs": [
    {
     "name": "stdout",
     "output_type": "stream",
     "text": [
      "2    951\n",
      "1     20\n",
      "dtype: int64\n",
      "2    156427\n",
      "1       595\n",
      "dtype: int64\n",
      "2    6902\n",
      "1      87\n",
      "dtype: int64\n",
      "2    3452\n",
      "1      74\n",
      "dtype: int64\n"
     ]
    }
   ],
   "source": [
    "lst_logit = [\n",
    "    '路面狀況-路面狀態名稱',\n",
    "    '當事者屬-性-別名稱', '當事者事故發生時年齡', \n",
    "    '車輛撞擊部位大類別名稱-最初',\n",
    "    '光線名稱',\n",
    "    '道路類別-第1當事者-名稱',\n",
    "    '速限-第1當事者',\n",
    "    '道路型態大類別名稱',\n",
    "    '事故位置大類別名稱', \n",
    "    '號誌-號誌種類名稱',\n",
    "    '車道劃分設施-分向設施大類別名稱', '車道劃分設施-分道設施-快車道或一般車道間名稱',\n",
    "    '車道劃分設施-分道設施-快慢車道間名稱', '車道劃分設施-分道設施-路面邊線名稱',\n",
    "    '事故類型及型態大類別名稱',\n",
    "    '事故位置子類別名稱', '事故類型及型態子類別名稱', \n",
    "    '當事者行動狀態子類別名稱',\n",
    "    '車輛撞擊部位子類別名稱-最初', '肇因研判子類別名稱-個別',\n",
    "    '當事者區分-類別-子類別名稱-車種',\n",
    "    '保護裝備名稱', '行動電話或電腦或其他相類功能裝置名稱', \n",
    "    '當事者行動狀態大類別名稱',\n",
    "    '車輛撞擊部位大類別名稱-其他', \n",
    "    '肇因研判大類別名稱-個別', '肇事逃逸類別名稱-是否肇逃',\n",
    "    '路面狀況-路面鋪裝名稱', \n",
    "    '車道劃分設施-分向設施子類別名稱',\n",
    "    '道路障礙-障礙物名稱', '車輛撞擊部位子類別名稱-其他'\n",
    "    \n",
    "    # '號誌-號誌動作名稱', '當事者區分-類別-大類別名稱-車種', '肇因研判大類別名稱-主要' # 降低預測值\n",
    "    # '道路障礙-視距名稱', '車道劃分設施-分道設施-快慢車道間名稱', '車輛撞擊部位大類別名稱-其他' # 降低預測值\n",
    "    # '道路型態子類別名稱', '路面狀況-路面缺陷名稱', '天候名稱' # 降低\n",
    "]\n",
    "\n",
    "def get_clusterN_logit(cluster_data, lst):\n",
    "    scaler = StandardScaler()\n",
    "    \n",
    "    c0_for_lm = process_data(cluster_data)\n",
    "    c0_for_lm_X = pd.DataFrame(scaler.fit_transform(c0_for_lm), columns=c0_for_lm.columns).reset_index(drop=True, inplace=False)\n",
    "    # label設定\n",
    "    c0_for_lm_y = cluster_data.apply(lambda row: 1 if row['死亡'] != 0 else 2, axis=1)\n",
    "        \n",
    "    c0_for_lm_X = c0_for_lm_X[lst]\n",
    "    \n",
    "    return c0_for_lm_X, c0_for_lm_y\n",
    "\n",
    "\n",
    "full_combine_X, full_combine_y = get_clusterN_logit(full_combine, lst_logit)\n",
    "full_0_X, full_0_y = get_clusterN_logit(full_0, lst_logit)\n",
    "full_1_X, full_1_y = get_clusterN_logit(full_1, lst_logit)\n",
    "full_2_X, full_2_y = get_clusterN_logit(full_2, lst_logit)\n",
    "\n",
    "full_out_X, full_out_y = get_clusterN_logit(full_out, lst_logit) # 新增\n",
    "\n",
    "print(full_combine_y.value_counts())\n",
    "print(full_0_y.value_counts())\n",
    "print(full_1_y.value_counts())\n",
    "print(full_2_y.value_counts())"
   ]
  },
  {
   "cell_type": "code",
   "execution_count": 10,
   "id": "ebf19c17-456d-4050-955a-38b13fdb7ee5",
   "metadata": {
    "collapsed": true,
    "jupyter": {
     "outputs_hidden": true
    },
    "tags": []
   },
   "outputs": [
    {
     "name": "stderr",
     "output_type": "stream",
     "text": [
      "/Users/wangqiqian/opt/anaconda3/lib/python3.9/site-packages/sklearn/linear_model/_sag.py:350: ConvergenceWarning:\n",
      "\n",
      "The max_iter was reached which means the coef_ did not converge\n",
      "\n",
      "/Users/wangqiqian/opt/anaconda3/lib/python3.9/site-packages/sklearn/linear_model/_sag.py:350: ConvergenceWarning:\n",
      "\n",
      "The max_iter was reached which means the coef_ did not converge\n",
      "\n",
      "/Users/wangqiqian/opt/anaconda3/lib/python3.9/site-packages/sklearn/linear_model/_sag.py:350: ConvergenceWarning:\n",
      "\n",
      "The max_iter was reached which means the coef_ did not converge\n",
      "\n",
      "/Users/wangqiqian/opt/anaconda3/lib/python3.9/site-packages/sklearn/linear_model/_sag.py:350: ConvergenceWarning:\n",
      "\n",
      "The max_iter was reached which means the coef_ did not converge\n",
      "\n",
      "/Users/wangqiqian/opt/anaconda3/lib/python3.9/site-packages/sklearn/linear_model/_sag.py:350: ConvergenceWarning:\n",
      "\n",
      "The max_iter was reached which means the coef_ did not converge\n",
      "\n",
      "/Users/wangqiqian/opt/anaconda3/lib/python3.9/site-packages/sklearn/linear_model/_sag.py:350: ConvergenceWarning:\n",
      "\n",
      "The max_iter was reached which means the coef_ did not converge\n",
      "\n",
      "/Users/wangqiqian/opt/anaconda3/lib/python3.9/site-packages/sklearn/linear_model/_sag.py:350: ConvergenceWarning:\n",
      "\n",
      "The max_iter was reached which means the coef_ did not converge\n",
      "\n",
      "/Users/wangqiqian/opt/anaconda3/lib/python3.9/site-packages/sklearn/linear_model/_sag.py:350: ConvergenceWarning:\n",
      "\n",
      "The max_iter was reached which means the coef_ did not converge\n",
      "\n",
      "/Users/wangqiqian/opt/anaconda3/lib/python3.9/site-packages/sklearn/linear_model/_sag.py:350: ConvergenceWarning:\n",
      "\n",
      "The max_iter was reached which means the coef_ did not converge\n",
      "\n",
      "/Users/wangqiqian/opt/anaconda3/lib/python3.9/site-packages/sklearn/linear_model/_sag.py:350: ConvergenceWarning:\n",
      "\n",
      "The max_iter was reached which means the coef_ did not converge\n",
      "\n",
      "/Users/wangqiqian/opt/anaconda3/lib/python3.9/site-packages/sklearn/linear_model/_sag.py:350: ConvergenceWarning:\n",
      "\n",
      "The max_iter was reached which means the coef_ did not converge\n",
      "\n",
      "/Users/wangqiqian/opt/anaconda3/lib/python3.9/site-packages/sklearn/linear_model/_sag.py:350: ConvergenceWarning:\n",
      "\n",
      "The max_iter was reached which means the coef_ did not converge\n",
      "\n",
      "/Users/wangqiqian/opt/anaconda3/lib/python3.9/site-packages/sklearn/linear_model/_sag.py:350: ConvergenceWarning:\n",
      "\n",
      "The max_iter was reached which means the coef_ did not converge\n",
      "\n",
      "/Users/wangqiqian/opt/anaconda3/lib/python3.9/site-packages/sklearn/linear_model/_sag.py:350: ConvergenceWarning:\n",
      "\n",
      "The max_iter was reached which means the coef_ did not converge\n",
      "\n",
      "/Users/wangqiqian/opt/anaconda3/lib/python3.9/site-packages/sklearn/linear_model/_sag.py:350: ConvergenceWarning:\n",
      "\n",
      "The max_iter was reached which means the coef_ did not converge\n",
      "\n",
      "/Users/wangqiqian/opt/anaconda3/lib/python3.9/site-packages/sklearn/linear_model/_sag.py:350: ConvergenceWarning:\n",
      "\n",
      "The max_iter was reached which means the coef_ did not converge\n",
      "\n",
      "/Users/wangqiqian/opt/anaconda3/lib/python3.9/site-packages/sklearn/linear_model/_sag.py:350: ConvergenceWarning:\n",
      "\n",
      "The max_iter was reached which means the coef_ did not converge\n",
      "\n",
      "/Users/wangqiqian/opt/anaconda3/lib/python3.9/site-packages/sklearn/linear_model/_sag.py:350: ConvergenceWarning:\n",
      "\n",
      "The max_iter was reached which means the coef_ did not converge\n",
      "\n",
      "/Users/wangqiqian/opt/anaconda3/lib/python3.9/site-packages/sklearn/linear_model/_sag.py:350: ConvergenceWarning:\n",
      "\n",
      "The max_iter was reached which means the coef_ did not converge\n",
      "\n",
      "/Users/wangqiqian/opt/anaconda3/lib/python3.9/site-packages/sklearn/linear_model/_sag.py:350: ConvergenceWarning:\n",
      "\n",
      "The max_iter was reached which means the coef_ did not converge\n",
      "\n",
      "/Users/wangqiqian/opt/anaconda3/lib/python3.9/site-packages/sklearn/linear_model/_sag.py:350: ConvergenceWarning:\n",
      "\n",
      "The max_iter was reached which means the coef_ did not converge\n",
      "\n",
      "/Users/wangqiqian/opt/anaconda3/lib/python3.9/site-packages/sklearn/linear_model/_sag.py:350: ConvergenceWarning:\n",
      "\n",
      "The max_iter was reached which means the coef_ did not converge\n",
      "\n",
      "/Users/wangqiqian/opt/anaconda3/lib/python3.9/site-packages/sklearn/linear_model/_sag.py:350: ConvergenceWarning:\n",
      "\n",
      "The max_iter was reached which means the coef_ did not converge\n",
      "\n",
      "/Users/wangqiqian/opt/anaconda3/lib/python3.9/site-packages/sklearn/linear_model/_sag.py:350: ConvergenceWarning:\n",
      "\n",
      "The max_iter was reached which means the coef_ did not converge\n",
      "\n",
      "/Users/wangqiqian/opt/anaconda3/lib/python3.9/site-packages/sklearn/linear_model/_sag.py:350: ConvergenceWarning:\n",
      "\n",
      "The max_iter was reached which means the coef_ did not converge\n",
      "\n",
      "/Users/wangqiqian/opt/anaconda3/lib/python3.9/site-packages/sklearn/linear_model/_sag.py:350: ConvergenceWarning:\n",
      "\n",
      "The max_iter was reached which means the coef_ did not converge\n",
      "\n",
      "/Users/wangqiqian/opt/anaconda3/lib/python3.9/site-packages/sklearn/linear_model/_sag.py:350: ConvergenceWarning:\n",
      "\n",
      "The max_iter was reached which means the coef_ did not converge\n",
      "\n"
     ]
    },
    {
     "name": "stdout",
     "output_type": "stream",
     "text": [
      "0.625 0.375\n"
     ]
    },
    {
     "name": "stderr",
     "output_type": "stream",
     "text": [
      "/Users/wangqiqian/opt/anaconda3/lib/python3.9/site-packages/sklearn/linear_model/_sag.py:350: ConvergenceWarning:\n",
      "\n",
      "The max_iter was reached which means the coef_ did not converge\n",
      "\n",
      "/Users/wangqiqian/opt/anaconda3/lib/python3.9/site-packages/sklearn/linear_model/_sag.py:350: ConvergenceWarning:\n",
      "\n",
      "The max_iter was reached which means the coef_ did not converge\n",
      "\n"
     ]
    }
   ],
   "source": [
    "matrix_combine, score_combine, cm_combine = logistic_cm_gridsearch(full_combine_X,  full_combine_y)\n",
    "matrix_out, score_out, cm_out = logistic_cm_gridsearch(full_out_X,  full_out_y)\n",
    "print(score_combine, score_out)"
   ]
  },
  {
   "cell_type": "code",
   "execution_count": 11,
   "id": "5b90f08b-1ac6-4efd-bc99-7cd96e7ab1e9",
   "metadata": {},
   "outputs": [
    {
     "data": {
      "text/html": [
       "<div>\n",
       "<style scoped>\n",
       "    .dataframe tbody tr th:only-of-type {\n",
       "        vertical-align: middle;\n",
       "    }\n",
       "\n",
       "    .dataframe tbody tr th {\n",
       "        vertical-align: top;\n",
       "    }\n",
       "\n",
       "    .dataframe thead th {\n",
       "        text-align: right;\n",
       "    }\n",
       "</style>\n",
       "<table border=\"1\" class=\"dataframe\">\n",
       "  <thead>\n",
       "    <tr style=\"text-align: right;\">\n",
       "      <th></th>\n",
       "      <th>Label</th>\n",
       "      <th>Precision</th>\n",
       "      <th>Recall</th>\n",
       "      <th>F1 Score</th>\n",
       "    </tr>\n",
       "  </thead>\n",
       "  <tbody>\n",
       "    <tr>\n",
       "      <th>0</th>\n",
       "      <td>Class_0</td>\n",
       "      <td>0.666667</td>\n",
       "      <td>0.50</td>\n",
       "      <td>0.571429</td>\n",
       "    </tr>\n",
       "    <tr>\n",
       "      <th>1</th>\n",
       "      <td>Class_1</td>\n",
       "      <td>0.600000</td>\n",
       "      <td>0.75</td>\n",
       "      <td>0.666667</td>\n",
       "    </tr>\n",
       "  </tbody>\n",
       "</table>\n",
       "</div>"
      ],
      "text/plain": [
       "     Label  Precision  Recall  F1 Score\n",
       "0  Class_0   0.666667    0.50  0.571429\n",
       "1  Class_1   0.600000    0.75  0.666667"
      ]
     },
     "execution_count": 11,
     "metadata": {},
     "output_type": "execute_result"
    }
   ],
   "source": [
    "matrix_combine"
   ]
  },
  {
   "cell_type": "code",
   "execution_count": 12,
   "id": "1cfc0d67-0c1b-494d-a6d8-bbe2037db0db",
   "metadata": {},
   "outputs": [
    {
     "data": {
      "text/html": [
       "<div>\n",
       "<style scoped>\n",
       "    .dataframe tbody tr th:only-of-type {\n",
       "        vertical-align: middle;\n",
       "    }\n",
       "\n",
       "    .dataframe tbody tr th {\n",
       "        vertical-align: top;\n",
       "    }\n",
       "\n",
       "    .dataframe thead th {\n",
       "        text-align: right;\n",
       "    }\n",
       "</style>\n",
       "<table border=\"1\" class=\"dataframe\">\n",
       "  <thead>\n",
       "    <tr style=\"text-align: right;\">\n",
       "      <th></th>\n",
       "      <th>Label</th>\n",
       "      <th>Precision</th>\n",
       "      <th>Recall</th>\n",
       "      <th>F1 Score</th>\n",
       "    </tr>\n",
       "  </thead>\n",
       "  <tbody>\n",
       "    <tr>\n",
       "      <th>0</th>\n",
       "      <td>Class_0</td>\n",
       "      <td>0.000000</td>\n",
       "      <td>0.00</td>\n",
       "      <td>0.000000</td>\n",
       "    </tr>\n",
       "    <tr>\n",
       "      <th>1</th>\n",
       "      <td>Class_1</td>\n",
       "      <td>0.428571</td>\n",
       "      <td>0.75</td>\n",
       "      <td>0.545455</td>\n",
       "    </tr>\n",
       "  </tbody>\n",
       "</table>\n",
       "</div>"
      ],
      "text/plain": [
       "     Label  Precision  Recall  F1 Score\n",
       "0  Class_0   0.000000    0.00  0.000000\n",
       "1  Class_1   0.428571    0.75  0.545455"
      ]
     },
     "execution_count": 12,
     "metadata": {},
     "output_type": "execute_result"
    }
   ],
   "source": [
    "matrix_out"
   ]
  },
  {
   "cell_type": "code",
   "execution_count": 15,
   "id": "378e8049-9717-400a-9a07-3d6563d91641",
   "metadata": {
    "collapsed": true,
    "jupyter": {
     "outputs_hidden": true
    },
    "tags": []
   },
   "outputs": [
    {
     "name": "stderr",
     "output_type": "stream",
     "text": [
      "/Users/wangqiqian/opt/anaconda3/lib/python3.9/site-packages/sklearn/linear_model/_sag.py:350: ConvergenceWarning:\n",
      "\n",
      "The max_iter was reached which means the coef_ did not converge\n",
      "\n",
      "/Users/wangqiqian/opt/anaconda3/lib/python3.9/site-packages/sklearn/linear_model/_sag.py:350: ConvergenceWarning:\n",
      "\n",
      "The max_iter was reached which means the coef_ did not converge\n",
      "\n",
      "/Users/wangqiqian/opt/anaconda3/lib/python3.9/site-packages/sklearn/linear_model/_sag.py:350: ConvergenceWarning:\n",
      "\n",
      "The max_iter was reached which means the coef_ did not converge\n",
      "\n",
      "/Users/wangqiqian/opt/anaconda3/lib/python3.9/site-packages/sklearn/linear_model/_sag.py:350: ConvergenceWarning:\n",
      "\n",
      "The max_iter was reached which means the coef_ did not converge\n",
      "\n",
      "/Users/wangqiqian/opt/anaconda3/lib/python3.9/site-packages/sklearn/linear_model/_sag.py:350: ConvergenceWarning:\n",
      "\n",
      "The max_iter was reached which means the coef_ did not converge\n",
      "\n",
      "/Users/wangqiqian/opt/anaconda3/lib/python3.9/site-packages/sklearn/linear_model/_sag.py:350: ConvergenceWarning:\n",
      "\n",
      "The max_iter was reached which means the coef_ did not converge\n",
      "\n",
      "/Users/wangqiqian/opt/anaconda3/lib/python3.9/site-packages/sklearn/linear_model/_sag.py:350: ConvergenceWarning:\n",
      "\n",
      "The max_iter was reached which means the coef_ did not converge\n",
      "\n",
      "/Users/wangqiqian/opt/anaconda3/lib/python3.9/site-packages/sklearn/linear_model/_sag.py:350: ConvergenceWarning:\n",
      "\n",
      "The max_iter was reached which means the coef_ did not converge\n",
      "\n",
      "/Users/wangqiqian/opt/anaconda3/lib/python3.9/site-packages/sklearn/linear_model/_sag.py:350: ConvergenceWarning:\n",
      "\n",
      "The max_iter was reached which means the coef_ did not converge\n",
      "\n",
      "/Users/wangqiqian/opt/anaconda3/lib/python3.9/site-packages/sklearn/linear_model/_sag.py:350: ConvergenceWarning:\n",
      "\n",
      "The max_iter was reached which means the coef_ did not converge\n",
      "\n",
      "/Users/wangqiqian/opt/anaconda3/lib/python3.9/site-packages/sklearn/linear_model/_sag.py:350: ConvergenceWarning:\n",
      "\n",
      "The max_iter was reached which means the coef_ did not converge\n",
      "\n",
      "/Users/wangqiqian/opt/anaconda3/lib/python3.9/site-packages/sklearn/linear_model/_sag.py:350: ConvergenceWarning:\n",
      "\n",
      "The max_iter was reached which means the coef_ did not converge\n",
      "\n",
      "/Users/wangqiqian/opt/anaconda3/lib/python3.9/site-packages/sklearn/linear_model/_sag.py:350: ConvergenceWarning:\n",
      "\n",
      "The max_iter was reached which means the coef_ did not converge\n",
      "\n",
      "/Users/wangqiqian/opt/anaconda3/lib/python3.9/site-packages/sklearn/linear_model/_sag.py:350: ConvergenceWarning:\n",
      "\n",
      "The max_iter was reached which means the coef_ did not converge\n",
      "\n",
      "/Users/wangqiqian/opt/anaconda3/lib/python3.9/site-packages/sklearn/linear_model/_sag.py:350: ConvergenceWarning:\n",
      "\n",
      "The max_iter was reached which means the coef_ did not converge\n",
      "\n",
      "/Users/wangqiqian/opt/anaconda3/lib/python3.9/site-packages/sklearn/linear_model/_sag.py:350: ConvergenceWarning:\n",
      "\n",
      "The max_iter was reached which means the coef_ did not converge\n",
      "\n",
      "/Users/wangqiqian/opt/anaconda3/lib/python3.9/site-packages/sklearn/linear_model/_sag.py:350: ConvergenceWarning:\n",
      "\n",
      "The max_iter was reached which means the coef_ did not converge\n",
      "\n",
      "/Users/wangqiqian/opt/anaconda3/lib/python3.9/site-packages/sklearn/linear_model/_sag.py:350: ConvergenceWarning:\n",
      "\n",
      "The max_iter was reached which means the coef_ did not converge\n",
      "\n",
      "/Users/wangqiqian/opt/anaconda3/lib/python3.9/site-packages/sklearn/linear_model/_sag.py:350: ConvergenceWarning:\n",
      "\n",
      "The max_iter was reached which means the coef_ did not converge\n",
      "\n",
      "/Users/wangqiqian/opt/anaconda3/lib/python3.9/site-packages/sklearn/linear_model/_sag.py:350: ConvergenceWarning:\n",
      "\n",
      "The max_iter was reached which means the coef_ did not converge\n",
      "\n",
      "/Users/wangqiqian/opt/anaconda3/lib/python3.9/site-packages/sklearn/linear_model/_sag.py:350: ConvergenceWarning:\n",
      "\n",
      "The max_iter was reached which means the coef_ did not converge\n",
      "\n",
      "/Users/wangqiqian/opt/anaconda3/lib/python3.9/site-packages/sklearn/linear_model/_sag.py:350: ConvergenceWarning:\n",
      "\n",
      "The max_iter was reached which means the coef_ did not converge\n",
      "\n",
      "/Users/wangqiqian/opt/anaconda3/lib/python3.9/site-packages/sklearn/linear_model/_sag.py:350: ConvergenceWarning:\n",
      "\n",
      "The max_iter was reached which means the coef_ did not converge\n",
      "\n",
      "/Users/wangqiqian/opt/anaconda3/lib/python3.9/site-packages/sklearn/linear_model/_sag.py:350: ConvergenceWarning:\n",
      "\n",
      "The max_iter was reached which means the coef_ did not converge\n",
      "\n",
      "/Users/wangqiqian/opt/anaconda3/lib/python3.9/site-packages/sklearn/linear_model/_sag.py:350: ConvergenceWarning:\n",
      "\n",
      "The max_iter was reached which means the coef_ did not converge\n",
      "\n",
      "/Users/wangqiqian/opt/anaconda3/lib/python3.9/site-packages/sklearn/linear_model/_sag.py:350: ConvergenceWarning:\n",
      "\n",
      "The max_iter was reached which means the coef_ did not converge\n",
      "\n",
      "/Users/wangqiqian/opt/anaconda3/lib/python3.9/site-packages/sklearn/linear_model/_sag.py:350: ConvergenceWarning:\n",
      "\n",
      "The max_iter was reached which means the coef_ did not converge\n",
      "\n",
      "/Users/wangqiqian/opt/anaconda3/lib/python3.9/site-packages/sklearn/linear_model/_sag.py:350: ConvergenceWarning:\n",
      "\n",
      "The max_iter was reached which means the coef_ did not converge\n",
      "\n",
      "/Users/wangqiqian/opt/anaconda3/lib/python3.9/site-packages/sklearn/linear_model/_sag.py:350: ConvergenceWarning:\n",
      "\n",
      "The max_iter was reached which means the coef_ did not converge\n",
      "\n",
      "/Users/wangqiqian/opt/anaconda3/lib/python3.9/site-packages/sklearn/linear_model/_sag.py:350: ConvergenceWarning:\n",
      "\n",
      "The max_iter was reached which means the coef_ did not converge\n",
      "\n",
      "/Users/wangqiqian/opt/anaconda3/lib/python3.9/site-packages/sklearn/linear_model/_sag.py:350: ConvergenceWarning:\n",
      "\n",
      "The max_iter was reached which means the coef_ did not converge\n",
      "\n",
      "/Users/wangqiqian/opt/anaconda3/lib/python3.9/site-packages/sklearn/linear_model/_sag.py:350: ConvergenceWarning:\n",
      "\n",
      "The max_iter was reached which means the coef_ did not converge\n",
      "\n",
      "/Users/wangqiqian/opt/anaconda3/lib/python3.9/site-packages/sklearn/linear_model/_sag.py:350: ConvergenceWarning:\n",
      "\n",
      "The max_iter was reached which means the coef_ did not converge\n",
      "\n",
      "/Users/wangqiqian/opt/anaconda3/lib/python3.9/site-packages/sklearn/linear_model/_sag.py:350: ConvergenceWarning:\n",
      "\n",
      "The max_iter was reached which means the coef_ did not converge\n",
      "\n",
      "/Users/wangqiqian/opt/anaconda3/lib/python3.9/site-packages/sklearn/linear_model/_sag.py:350: ConvergenceWarning:\n",
      "\n",
      "The max_iter was reached which means the coef_ did not converge\n",
      "\n",
      "/Users/wangqiqian/opt/anaconda3/lib/python3.9/site-packages/sklearn/linear_model/_sag.py:350: ConvergenceWarning:\n",
      "\n",
      "The max_iter was reached which means the coef_ did not converge\n",
      "\n",
      "/Users/wangqiqian/opt/anaconda3/lib/python3.9/site-packages/sklearn/linear_model/_sag.py:350: ConvergenceWarning:\n",
      "\n",
      "The max_iter was reached which means the coef_ did not converge\n",
      "\n",
      "/Users/wangqiqian/opt/anaconda3/lib/python3.9/site-packages/sklearn/linear_model/_sag.py:350: ConvergenceWarning:\n",
      "\n",
      "The max_iter was reached which means the coef_ did not converge\n",
      "\n",
      "/Users/wangqiqian/opt/anaconda3/lib/python3.9/site-packages/sklearn/linear_model/_sag.py:350: ConvergenceWarning:\n",
      "\n",
      "The max_iter was reached which means the coef_ did not converge\n",
      "\n"
     ]
    },
    {
     "name": "stdout",
     "output_type": "stream",
     "text": [
      "0.7162921348314607 0.875 1.0\n",
      "1998.25505900383\n"
     ]
    },
    {
     "name": "stderr",
     "output_type": "stream",
     "text": [
      "/Users/wangqiqian/opt/anaconda3/lib/python3.9/site-packages/sklearn/linear_model/_sag.py:350: ConvergenceWarning:\n",
      "\n",
      "The max_iter was reached which means the coef_ did not converge\n",
      "\n"
     ]
    }
   ],
   "source": [
    "start_time = time.time()\n",
    "# matrix_combine, score_combine, cm_combine = logistic_cm_gridsearch(full_combine_X,  full_combine_y)\n",
    "matrix_0, score_0, cm_0 = logistic_cm_gridsearch(full_0_X, full_0_y)\n",
    "matrix_1, score_1, cm_1 = logistic_cm_gridsearch(full_1_X, full_1_y)\n",
    "matrix_2, score_2, cm_2 = logistic_cm_gridsearch(full_2_X, full_2_y)\n",
    "# print(score_combine, score_0, score_1, score_2)\n",
    "print(score_0, score_1, score_2)\n",
    "end_time = time.time()\n",
    "elapsed_time = end_time - start_time\n",
    "print(elapsed_time)"
   ]
  },
  {
   "cell_type": "code",
   "execution_count": 16,
   "id": "e732e23c-337e-4e03-82ba-dd0750e13ca9",
   "metadata": {},
   "outputs": [
    {
     "name": "stdout",
     "output_type": "stream",
     "text": [
      "[[114  64]\n",
      " [ 37 141]] \n",
      " [[19  5]\n",
      " [ 1 23]] \n",
      " [[20  0]\n",
      " [ 0 20]]\n"
     ]
    }
   ],
   "source": [
    "print(cm_0, '\\n', cm_1, '\\n', cm_2)"
   ]
  },
  {
   "cell_type": "code",
   "execution_count": 49,
   "id": "8dc7a845-8289-4e47-8d7e-39e44571b147",
   "metadata": {},
   "outputs": [],
   "source": [
    "cm_combine = [[4, 0],[0, 4]]\n",
    "cm_out = [[3, 1],[0, 4]]\n",
    "cm_0 = [[114,  64], [37, 141]] \n",
    "cm_1 = [[19, 5], [1, 23]] \n",
    "cm_2 = [[20, 0], [0, 20]]\n",
    "cm_origin = [[163, 82], [62, 183]]\n",
    "\n",
    "np.savetxt('CalculatedData/V2準確資料/cm_combine.txt', cm_combine, fmt='%d')\n",
    "np.savetxt('CalculatedData/V2準確資料/cm_out.txt', cm_out, fmt='%d')\n",
    "np.savetxt('CalculatedData/V2準確資料/cm_0.txt', cm_0, fmt='%d')\n",
    "np.savetxt('CalculatedData/V2準確資料/cm_1.txt', cm_1, fmt='%d')\n",
    "np.savetxt('CalculatedData/V2準確資料/cm_2.txt', cm_2, fmt='%d')\n",
    "\n",
    "np.savetxt('CalculatedData/V2準確資料/cm_origin.txt', cm_origin, fmt='%d')"
   ]
  },
  {
   "cell_type": "code",
   "execution_count": 17,
   "id": "dfd7b629-5d73-47d8-9771-00f9eb8bbb49",
   "metadata": {},
   "outputs": [
    {
     "name": "stdout",
     "output_type": "stream",
     "text": [
      "[[153  69]\n",
      " [ 38 184]]\n"
     ]
    }
   ],
   "source": [
    "print(cm_0 + cm_1 + cm_2)"
   ]
  },
  {
   "cell_type": "code",
   "execution_count": 18,
   "id": "287c0acb-bb03-49f0-827b-b14744231e24",
   "metadata": {},
   "outputs": [
    {
     "name": "stdout",
     "output_type": "stream",
     "text": [
      "     Label  Precision    Recall  F1 Score\n",
      "0  Class_0   0.754967  0.640449  0.693009\n",
      "1  Class_1   0.687805  0.792135  0.736292 \n",
      "\n",
      "      Label  Precision    Recall  F1 Score\n",
      "0  Class_0   0.950000  0.791667  0.863636\n",
      "1  Class_1   0.821429  0.958333  0.884615 \n",
      "\n",
      "      Label  Precision  Recall  F1 Score\n",
      "0  Class_0        1.0     1.0       1.0\n",
      "1  Class_1        1.0     1.0       1.0\n"
     ]
    }
   ],
   "source": [
    "print(matrix_0, '\\n\\n', matrix_1, '\\n\\n', matrix_2)"
   ]
  },
  {
   "cell_type": "code",
   "execution_count": 19,
   "id": "8f00407e-a824-421f-887d-18b5e154c859",
   "metadata": {},
   "outputs": [],
   "source": [
    "conf_matrix = cm_0 + cm_1 + cm_2\n",
    "\n",
    "y_test, y_pred = [], []\n",
    "for i in range(len(conf_matrix)):\n",
    "    for j in range(len(conf_matrix[i])):\n",
    "        y_test.extend([i] * conf_matrix[i][j])\n",
    "        y_pred.extend([j] * conf_matrix[i][j])\n",
    "\n",
    "accuracy = accuracy_score(y_test, y_pred)\n",
    "precision = precision_score(y_test, y_pred, average=None, zero_division=0)\n",
    "recall = recall_score(y_test, y_pred, average=None)\n",
    "f1 = f1_score(y_test, y_pred, average=None)\n",
    "\n",
    "metrics_df = pd.DataFrame({\n",
    "    'Label': [f'Class_{i}' for i in range(len(precision))],\n",
    "    'Precision': precision,\n",
    "    'Recall': recall,\n",
    "    'F1 Score': f1\n",
    "})"
   ]
  },
  {
   "cell_type": "markdown",
   "id": "db96939c-bf44-43b2-8964-2a3b3403df5e",
   "metadata": {},
   "source": [
    "### Mapper logistic總平均和評估指標"
   ]
  },
  {
   "cell_type": "code",
   "execution_count": 21,
   "id": "3d446821-c7c6-4a06-a3e4-194ec145e42c",
   "metadata": {},
   "outputs": [
    {
     "name": "stdout",
     "output_type": "stream",
     "text": [
      "0.765217391304348\n"
     ]
    }
   ],
   "source": [
    "de = np.sum(cm_0 + cm_1 + cm_2 + cm_combine + cm_out)\n",
    "logit_avg_score = (np.sum(cm_0)/de)*score_0 + (np.sum(cm_1)/de)*score_1 + (np.sum(cm_2)/de)*score_2 + (np.sum(cm_combine)/de)*score_combine + (np.sum(cm_out)/de)*score_out\n",
    "print(logit_avg_score)"
   ]
  },
  {
   "cell_type": "markdown",
   "id": "f7dea203-3dd0-4a3e-9547-9154e3dd8d44",
   "metadata": {},
   "source": [
    "### 原始logistic方法總平均和評估指標"
   ]
  },
  {
   "cell_type": "code",
   "execution_count": 22,
   "id": "8968f801-0ce1-4663-a8b4-2682b4aaceb7",
   "metadata": {},
   "outputs": [
    {
     "name": "stdout",
     "output_type": "stream",
     "text": [
      "0.7061224489795919\n",
      "206.4304027557373\n"
     ]
    }
   ],
   "source": [
    "origin_X, origin_y = get_clusterN_logit(rbind_data, lst_logit)\n",
    "\n",
    "start_time = time.time()\n",
    "\n",
    "matrix_origin, score_origin, cm_origin = logistic_cm_gridsearch(origin_X, origin_y)\n",
    "print(score_origin)\n",
    "\n",
    "end_time = time.time()\n",
    "elapsed_time = end_time - start_time\n",
    "print(elapsed_time)"
   ]
  },
  {
   "cell_type": "code",
   "execution_count": 24,
   "id": "daedad54-5669-400b-a7ec-08cc62a4066b",
   "metadata": {},
   "outputs": [
    {
     "name": "stdout",
     "output_type": "stream",
     "text": [
      "     Label  Precision    Recall  F1 Score\n",
      "0  Class_0   0.724444  0.665306  0.693617\n",
      "1  Class_1   0.690566  0.746939  0.717647 \n",
      "\n",
      " [[163  82]\n",
      " [ 62 183]]\n"
     ]
    }
   ],
   "source": [
    "print(matrix_origin, '\\n\\n', cm_origin)"
   ]
  },
  {
   "cell_type": "markdown",
   "id": "7f88b481-1caa-4460-a678-37173da55262",
   "metadata": {},
   "source": [
    "# SVM"
   ]
  },
  {
   "cell_type": "code",
   "execution_count": 11,
   "id": "06a3e01b-e736-48ae-bd3d-ea2cd85df1c7",
   "metadata": {},
   "outputs": [
    {
     "name": "stdout",
     "output_type": "stream",
     "text": [
      "1.0 0.875\n",
      "2.681870698928833\n"
     ]
    }
   ],
   "source": [
    "start_time = time.time()\n",
    "\n",
    "matrix_combine_svm, score_combine_svm, cm_combine_svm = svc_cm_with_grid_search(full_combine_X,  full_combine_y)\n",
    "matrix_out_svm, score_out_svm, cm_out_svm = svc_cm_with_grid_search(full_out_X,  full_out_y)\n",
    "print(score_combine_svm, score_out_svm)\n",
    "\n",
    "end_time = time.time()\n",
    "elapsed_time = end_time - start_time\n",
    "print(elapsed_time)"
   ]
  },
  {
   "cell_type": "code",
   "execution_count": 12,
   "id": "811aa39b-9260-44e0-8de1-d6f7c4b22cf6",
   "metadata": {},
   "outputs": [
    {
     "data": {
      "text/plain": [
       "array([[4, 0],\n",
       "       [0, 4]])"
      ]
     },
     "execution_count": 12,
     "metadata": {},
     "output_type": "execute_result"
    }
   ],
   "source": [
    "cm_combine_svm"
   ]
  },
  {
   "cell_type": "code",
   "execution_count": 13,
   "id": "4ffd7989-2cbf-4f02-9029-669c3ba6658c",
   "metadata": {},
   "outputs": [
    {
     "data": {
      "text/plain": [
       "array([[4, 0],\n",
       "       [1, 3]])"
      ]
     },
     "execution_count": 13,
     "metadata": {},
     "output_type": "execute_result"
    }
   ],
   "source": [
    "cm_out_svm"
   ]
  },
  {
   "cell_type": "code",
   "execution_count": 14,
   "id": "1ade01aa-dfa7-456d-8edf-65bd9f6461d0",
   "metadata": {
    "collapsed": true,
    "jupyter": {
     "outputs_hidden": true
    },
    "tags": []
   },
   "outputs": [
    {
     "name": "stderr",
     "output_type": "stream",
     "text": [
      "/Users/wangqiqian/opt/anaconda3/lib/python3.9/site-packages/sklearn/svm/_base.py:1250: ConvergenceWarning:\n",
      "\n",
      "Liblinear failed to converge, increase the number of iterations.\n",
      "\n",
      "/Users/wangqiqian/opt/anaconda3/lib/python3.9/site-packages/sklearn/svm/_base.py:1250: ConvergenceWarning:\n",
      "\n",
      "Liblinear failed to converge, increase the number of iterations.\n",
      "\n",
      "/Users/wangqiqian/opt/anaconda3/lib/python3.9/site-packages/sklearn/svm/_base.py:1250: ConvergenceWarning:\n",
      "\n",
      "Liblinear failed to converge, increase the number of iterations.\n",
      "\n",
      "/Users/wangqiqian/opt/anaconda3/lib/python3.9/site-packages/sklearn/svm/_base.py:1250: ConvergenceWarning:\n",
      "\n",
      "Liblinear failed to converge, increase the number of iterations.\n",
      "\n",
      "/Users/wangqiqian/opt/anaconda3/lib/python3.9/site-packages/sklearn/svm/_base.py:1250: ConvergenceWarning:\n",
      "\n",
      "Liblinear failed to converge, increase the number of iterations.\n",
      "\n",
      "/Users/wangqiqian/opt/anaconda3/lib/python3.9/site-packages/sklearn/svm/_base.py:1250: ConvergenceWarning:\n",
      "\n",
      "Liblinear failed to converge, increase the number of iterations.\n",
      "\n"
     ]
    },
    {
     "name": "stdout",
     "output_type": "stream",
     "text": [
      "0\n"
     ]
    },
    {
     "name": "stderr",
     "output_type": "stream",
     "text": [
      "/Users/wangqiqian/opt/anaconda3/lib/python3.9/site-packages/sklearn/svm/_base.py:1250: ConvergenceWarning:\n",
      "\n",
      "Liblinear failed to converge, increase the number of iterations.\n",
      "\n",
      "/Users/wangqiqian/opt/anaconda3/lib/python3.9/site-packages/sklearn/svm/_base.py:1250: ConvergenceWarning:\n",
      "\n",
      "Liblinear failed to converge, increase the number of iterations.\n",
      "\n",
      "/Users/wangqiqian/opt/anaconda3/lib/python3.9/site-packages/sklearn/svm/_base.py:1250: ConvergenceWarning:\n",
      "\n",
      "Liblinear failed to converge, increase the number of iterations.\n",
      "\n",
      "/Users/wangqiqian/opt/anaconda3/lib/python3.9/site-packages/sklearn/svm/_base.py:1250: ConvergenceWarning:\n",
      "\n",
      "Liblinear failed to converge, increase the number of iterations.\n",
      "\n",
      "/Users/wangqiqian/opt/anaconda3/lib/python3.9/site-packages/sklearn/svm/_base.py:1250: ConvergenceWarning:\n",
      "\n",
      "Liblinear failed to converge, increase the number of iterations.\n",
      "\n"
     ]
    },
    {
     "name": "stdout",
     "output_type": "stream",
     "text": [
      "1\n"
     ]
    },
    {
     "name": "stderr",
     "output_type": "stream",
     "text": [
      "/Users/wangqiqian/opt/anaconda3/lib/python3.9/site-packages/sklearn/svm/_base.py:1250: ConvergenceWarning:\n",
      "\n",
      "Liblinear failed to converge, increase the number of iterations.\n",
      "\n"
     ]
    },
    {
     "name": "stdout",
     "output_type": "stream",
     "text": [
      "2\n",
      "0.7219101123595506 0.9375 0.975\n",
      "4891.341880083084\n"
     ]
    }
   ],
   "source": [
    "start_time = time.time()\n",
    "\n",
    "matrix_0_svm, score_0_svm, cm_0_svm = svc_cm_with_grid_search(full_0_X, full_0_y)\n",
    "print('0')\n",
    "matrix_1_svm, score_1_svm, cm_1_svm = svc_cm_with_grid_search(full_1_X, full_1_y)\n",
    "print('1')\n",
    "matrix_2_svm, score_2_svm, cm_2_svm = svc_cm_with_grid_search(full_2_X, full_2_y)\n",
    "print('2')\n",
    "\n",
    "print(score_0_svm, score_1_svm, score_2_svm)\n",
    "end_time = time.time()\n",
    "elapsed_time = end_time - start_time\n",
    "print(elapsed_time)"
   ]
  },
  {
   "cell_type": "code",
   "execution_count": 20,
   "id": "fc6d85a2-2b0d-4166-948a-37c3faf819c3",
   "metadata": {},
   "outputs": [
    {
     "name": "stdout",
     "output_type": "stream",
     "text": [
      "[[115  63]\n",
      " [ 36 142]] \n",
      " [[22  2]\n",
      " [ 1 23]] \n",
      " [[19  1]\n",
      " [ 0 20]]\n"
     ]
    }
   ],
   "source": [
    "print(cm_0_svm, '\\n', cm_1_svm, '\\n', cm_2_svm)"
   ]
  },
  {
   "cell_type": "code",
   "execution_count": 21,
   "id": "890692b4-bb24-42e1-addb-71bd73a36f46",
   "metadata": {},
   "outputs": [
    {
     "name": "stdout",
     "output_type": "stream",
     "text": [
      "[[156  66]\n",
      " [ 37 185]]\n"
     ]
    }
   ],
   "source": [
    "print(cm_0_svm + cm_1_svm + cm_2_svm)"
   ]
  },
  {
   "cell_type": "markdown",
   "id": "e98f2a32-d75e-4f5a-9cce-b631cb006bc3",
   "metadata": {},
   "source": [
    "### Mapper svm總平均和評估指標"
   ]
  },
  {
   "cell_type": "code",
   "execution_count": 22,
   "id": "a9667ece-fb33-43ec-9f08-8b9058c4ac51",
   "metadata": {},
   "outputs": [
    {
     "name": "stdout",
     "output_type": "stream",
     "text": [
      "     Label  Precision    Recall  F1 Score\n",
      "0  Class_0   0.761589  0.646067  0.699088\n",
      "1  Class_1   0.692683  0.797753  0.741514 \n",
      "\n",
      "      Label  Precision    Recall  F1 Score\n",
      "0  Class_0   0.956522  0.916667  0.936170\n",
      "1  Class_1   0.920000  0.958333  0.938776 \n",
      "\n",
      "      Label  Precision  Recall  F1 Score\n",
      "0  Class_0   1.000000    0.95  0.974359\n",
      "1  Class_1   0.952381    1.00  0.975610\n"
     ]
    }
   ],
   "source": [
    "print(matrix_0_svm, '\\n\\n', matrix_1_svm, '\\n\\n', matrix_2_svm)"
   ]
  },
  {
   "cell_type": "code",
   "execution_count": 16,
   "id": "3df7b6ce-3b38-4675-9ecd-f519f8bb05da",
   "metadata": {},
   "outputs": [
    {
     "name": "stdout",
     "output_type": "stream",
     "text": [
      "0.7739130434782608\n"
     ]
    }
   ],
   "source": [
    "de = np.sum(cm_0_svm + cm_1_svm + cm_2_svm + cm_combine_svm + cm_out_svm)\n",
    "logit_avg_score = (np.sum(cm_0_svm)/de)*score_0_svm + (np.sum(cm_1_svm)/de)*score_1_svm + (np.sum(cm_2_svm)/de)*score_2_svm + (np.sum(cm_combine_svm)/de)*score_combine_svm + (np.sum(cm_out_svm)/de)*score_out_svm\n",
    "print(logit_avg_score)"
   ]
  },
  {
   "cell_type": "code",
   "execution_count": 17,
   "id": "6bd337ea-8542-4f09-a8e4-6250e980636d",
   "metadata": {
    "collapsed": true,
    "jupyter": {
     "outputs_hidden": true
    },
    "tags": []
   },
   "outputs": [
    {
     "name": "stderr",
     "output_type": "stream",
     "text": [
      "/Users/wangqiqian/opt/anaconda3/lib/python3.9/site-packages/sklearn/svm/_base.py:1250: ConvergenceWarning:\n",
      "\n",
      "Liblinear failed to converge, increase the number of iterations.\n",
      "\n",
      "/Users/wangqiqian/opt/anaconda3/lib/python3.9/site-packages/sklearn/svm/_base.py:1250: ConvergenceWarning:\n",
      "\n",
      "Liblinear failed to converge, increase the number of iterations.\n",
      "\n",
      "/Users/wangqiqian/opt/anaconda3/lib/python3.9/site-packages/sklearn/svm/_base.py:1250: ConvergenceWarning:\n",
      "\n",
      "Liblinear failed to converge, increase the number of iterations.\n",
      "\n",
      "/Users/wangqiqian/opt/anaconda3/lib/python3.9/site-packages/sklearn/svm/_base.py:1250: ConvergenceWarning:\n",
      "\n",
      "Liblinear failed to converge, increase the number of iterations.\n",
      "\n",
      "/Users/wangqiqian/opt/anaconda3/lib/python3.9/site-packages/sklearn/svm/_base.py:1250: ConvergenceWarning:\n",
      "\n",
      "Liblinear failed to converge, increase the number of iterations.\n",
      "\n"
     ]
    },
    {
     "name": "stdout",
     "output_type": "stream",
     "text": [
      "0.7122448979591837\n",
      "6112.937726974487\n"
     ]
    },
    {
     "name": "stderr",
     "output_type": "stream",
     "text": [
      "/Users/wangqiqian/opt/anaconda3/lib/python3.9/site-packages/sklearn/svm/_base.py:1250: ConvergenceWarning:\n",
      "\n",
      "Liblinear failed to converge, increase the number of iterations.\n",
      "\n"
     ]
    }
   ],
   "source": [
    "origin_X, origin_y = get_clusterN_logit(rbind_data, lst_logit)\n",
    "\n",
    "start_time = time.time()\n",
    "\n",
    "matrix_origin_svm, score_origin_svm, cm_origin_svm = svc_cm_with_grid_search(origin_X, origin_y)\n",
    "print(score_origin_svm)\n",
    "\n",
    "end_time = time.time()\n",
    "elapsed_time = end_time - start_time\n",
    "print(elapsed_time)"
   ]
  },
  {
   "cell_type": "markdown",
   "id": "73e201de-ad67-4da0-9a61-897835eda29c",
   "metadata": {},
   "source": [
    "### 原始svm方法總平均和評估指標"
   ]
  },
  {
   "cell_type": "code",
   "execution_count": 46,
   "id": "9d054a80-669b-4b0e-95b5-69ded494dd2f",
   "metadata": {},
   "outputs": [
    {
     "data": {
      "text/html": [
       "<div>\n",
       "<style scoped>\n",
       "    .dataframe tbody tr th:only-of-type {\n",
       "        vertical-align: middle;\n",
       "    }\n",
       "\n",
       "    .dataframe tbody tr th {\n",
       "        vertical-align: top;\n",
       "    }\n",
       "\n",
       "    .dataframe thead th {\n",
       "        text-align: right;\n",
       "    }\n",
       "</style>\n",
       "<table border=\"1\" class=\"dataframe\">\n",
       "  <thead>\n",
       "    <tr style=\"text-align: right;\">\n",
       "      <th></th>\n",
       "      <th>Label</th>\n",
       "      <th>Precision</th>\n",
       "      <th>Recall</th>\n",
       "      <th>F1 Score</th>\n",
       "    </tr>\n",
       "  </thead>\n",
       "  <tbody>\n",
       "    <tr>\n",
       "      <th>0</th>\n",
       "      <td>Class_0</td>\n",
       "      <td>0.718487</td>\n",
       "      <td>0.697959</td>\n",
       "      <td>0.708075</td>\n",
       "    </tr>\n",
       "    <tr>\n",
       "      <th>1</th>\n",
       "      <td>Class_1</td>\n",
       "      <td>0.706349</td>\n",
       "      <td>0.726531</td>\n",
       "      <td>0.716298</td>\n",
       "    </tr>\n",
       "  </tbody>\n",
       "</table>\n",
       "</div>"
      ],
      "text/plain": [
       "     Label  Precision    Recall  F1 Score\n",
       "0  Class_0   0.718487  0.697959  0.708075\n",
       "1  Class_1   0.706349  0.726531  0.716298"
      ]
     },
     "execution_count": 46,
     "metadata": {},
     "output_type": "execute_result"
    }
   ],
   "source": [
    "matrix_origin_svm"
   ]
  },
  {
   "cell_type": "code",
   "execution_count": 47,
   "id": "0e32f37d-21fa-4c4a-9435-c7856f77a97c",
   "metadata": {},
   "outputs": [
    {
     "data": {
      "text/plain": [
       "0.7122448979591837"
      ]
     },
     "execution_count": 47,
     "metadata": {},
     "output_type": "execute_result"
    }
   ],
   "source": [
    "score_origin_svm"
   ]
  },
  {
   "cell_type": "code",
   "execution_count": 48,
   "id": "798eb403-c05c-4cbf-8fdf-a8080c2a7fd1",
   "metadata": {},
   "outputs": [
    {
     "data": {
      "text/plain": [
       "array([[171,  74],\n",
       "       [ 67, 178]])"
      ]
     },
     "execution_count": 48,
     "metadata": {},
     "output_type": "execute_result"
    }
   ],
   "source": [
    "cm_origin_svm"
   ]
  },
  {
   "cell_type": "code",
   "execution_count": 50,
   "id": "21b6640b-c344-4e4c-8885-997a2469d3fd",
   "metadata": {},
   "outputs": [],
   "source": [
    "np.savetxt('CalculatedData/V2準確資料/cm_combine_svm.txt', cm_combine_svm, fmt='%d')\n",
    "np.savetxt('CalculatedData/V2準確資料/cm_out_svm.txt', cm_out_svm, fmt='%d')\n",
    "np.savetxt('CalculatedData/V2準確資料/cm_0_svm.txt', cm_0_svm, fmt='%d')\n",
    "np.savetxt('CalculatedData/V2準確資料/cm_1_svm.txt', cm_1_svm, fmt='%d')\n",
    "np.savetxt('CalculatedData/V2準確資料/cm_2_svm.txt', cm_2_svm, fmt='%d')\n",
    "\n",
    "np.savetxt('CalculatedData/V2準確資料/cm_origin_svm.txt', cm_origin_svm, fmt='%d')"
   ]
  },
  {
   "cell_type": "code",
   "execution_count": 18,
   "id": "dcf2927a-faeb-42a8-b22f-c569bc55849c",
   "metadata": {},
   "outputs": [
    {
     "data": {
      "text/plain": [
       "array([[171,  74],\n",
       "       [ 67, 178]])"
      ]
     },
     "execution_count": 18,
     "metadata": {},
     "output_type": "execute_result"
    }
   ],
   "source": [
    "cm_origin_svm"
   ]
  },
  {
   "cell_type": "code",
   "execution_count": 19,
   "id": "9794f142-c3a5-4841-ae95-800bb02cc15b",
   "metadata": {},
   "outputs": [
    {
     "data": {
      "text/html": [
       "<div>\n",
       "<style scoped>\n",
       "    .dataframe tbody tr th:only-of-type {\n",
       "        vertical-align: middle;\n",
       "    }\n",
       "\n",
       "    .dataframe tbody tr th {\n",
       "        vertical-align: top;\n",
       "    }\n",
       "\n",
       "    .dataframe thead th {\n",
       "        text-align: right;\n",
       "    }\n",
       "</style>\n",
       "<table border=\"1\" class=\"dataframe\">\n",
       "  <thead>\n",
       "    <tr style=\"text-align: right;\">\n",
       "      <th></th>\n",
       "      <th>Label</th>\n",
       "      <th>Precision</th>\n",
       "      <th>Recall</th>\n",
       "      <th>F1 Score</th>\n",
       "    </tr>\n",
       "  </thead>\n",
       "  <tbody>\n",
       "    <tr>\n",
       "      <th>0</th>\n",
       "      <td>Class_0</td>\n",
       "      <td>0.718487</td>\n",
       "      <td>0.697959</td>\n",
       "      <td>0.708075</td>\n",
       "    </tr>\n",
       "    <tr>\n",
       "      <th>1</th>\n",
       "      <td>Class_1</td>\n",
       "      <td>0.706349</td>\n",
       "      <td>0.726531</td>\n",
       "      <td>0.716298</td>\n",
       "    </tr>\n",
       "  </tbody>\n",
       "</table>\n",
       "</div>"
      ],
      "text/plain": [
       "     Label  Precision    Recall  F1 Score\n",
       "0  Class_0   0.718487  0.697959  0.708075\n",
       "1  Class_1   0.706349  0.726531  0.716298"
      ]
     },
     "execution_count": 19,
     "metadata": {},
     "output_type": "execute_result"
    }
   ],
   "source": [
    "matrix_origin_svm"
   ]
  },
  {
   "cell_type": "markdown",
   "id": "3b3ca93e-6472-4e0e-8276-65b214f327c7",
   "metadata": {},
   "source": [
    "# Get all data"
   ]
  },
  {
   "cell_type": "code",
   "execution_count": 13,
   "id": "bc6ec643-39d4-4877-bc72-ab9169eef8a1",
   "metadata": {},
   "outputs": [],
   "source": [
    "cm_combine = np.loadtxt('CalculatedData/V2準確資料/cm_combine.txt', dtype=int)\n",
    "cm_out = np.loadtxt('CalculatedData/V2準確資料/cm_out.txt', dtype=int)\n",
    "cm_0 = np.loadtxt('CalculatedData/V2準確資料/cm_0.txt', dtype=int)\n",
    "cm_1 = np.loadtxt('CalculatedData/V2準確資料/cm_1.txt', dtype=int)\n",
    "cm_2 = np.loadtxt('CalculatedData/V2準確資料/cm_2.txt', dtype=int)\n",
    "cm_origin = np.loadtxt('CalculatedData/V2準確資料/cm_origin.txt', dtype=int)\n",
    "\n",
    "cm_combine_svm = np.loadtxt('CalculatedData/V2準確資料/cm_combine_svm.txt', dtype=int)\n",
    "cm_out_svm = np.loadtxt('CalculatedData/V2準確資料/cm_out_svm.txt', dtype=int)\n",
    "cm_0_svm = np.loadtxt('CalculatedData/V2準確資料/cm_0_svm.txt', dtype=int)\n",
    "cm_1_svm = np.loadtxt('CalculatedData/V2準確資料/cm_1_svm.txt', dtype=int)\n",
    "cm_2_svm = np.loadtxt('CalculatedData/V2準確資料/cm_2_svm.txt', dtype=int)\n",
    "cm_origin_svm = np.loadtxt('CalculatedData/V2準確資料/cm_origin_svm.txt', dtype=int)"
   ]
  },
  {
   "cell_type": "code",
   "execution_count": 25,
   "id": "8b50145e-1e4c-4fac-a82f-c95da44a196f",
   "metadata": {},
   "outputs": [
    {
     "name": "stdout",
     "output_type": "stream",
     "text": [
      "[[163  82]\n",
      " [ 62 183]]\n",
      "[[171  74]\n",
      " [ 67 178]]\n"
     ]
    }
   ],
   "source": [
    "print(cm_origin)\n",
    "print(cm_origin_svm)"
   ]
  },
  {
   "cell_type": "code",
   "execution_count": 17,
   "id": "5acd9921-e96b-4b8e-bd5d-95dc402475fc",
   "metadata": {},
   "outputs": [],
   "source": [
    "mapper_logistic = cm_combine + cm_out + cm_0 + cm_1 + cm_2\n",
    "mapper_svm = cm_combine_svm + cm_out_svm + cm_0_svm + cm_1_svm + cm_2_svm"
   ]
  },
  {
   "cell_type": "code",
   "execution_count": 24,
   "id": "80d642dc-1b5c-4bad-9a45-726ada502713",
   "metadata": {},
   "outputs": [
    {
     "name": "stdout",
     "output_type": "stream",
     "text": [
      "[[164  66]\n",
      " [ 38 192]]\n"
     ]
    }
   ],
   "source": [
    "print(mapper_svm)"
   ]
  },
  {
   "cell_type": "code",
   "execution_count": 23,
   "id": "9c026be9-8e55-4e88-a965-892d05f6e30a",
   "metadata": {},
   "outputs": [
    {
     "name": "stdout",
     "output_type": "stream",
     "text": [
      "[[160  70]\n",
      " [ 38 192]]\n"
     ]
    }
   ],
   "source": [
    "print(mapper_logistic)"
   ]
  },
  {
   "cell_type": "code",
   "execution_count": 20,
   "id": "aaf72237-a888-47cc-9f87-89ad0f5c7469",
   "metadata": {},
   "outputs": [
    {
     "data": {
      "text/html": [
       "<div>\n",
       "<style scoped>\n",
       "    .dataframe tbody tr th:only-of-type {\n",
       "        vertical-align: middle;\n",
       "    }\n",
       "\n",
       "    .dataframe tbody tr th {\n",
       "        vertical-align: top;\n",
       "    }\n",
       "\n",
       "    .dataframe thead th {\n",
       "        text-align: right;\n",
       "    }\n",
       "</style>\n",
       "<table border=\"1\" class=\"dataframe\">\n",
       "  <thead>\n",
       "    <tr style=\"text-align: right;\">\n",
       "      <th></th>\n",
       "      <th>Label</th>\n",
       "      <th>Precision</th>\n",
       "      <th>Recall</th>\n",
       "      <th>F1 Score</th>\n",
       "    </tr>\n",
       "  </thead>\n",
       "  <tbody>\n",
       "    <tr>\n",
       "      <th>0</th>\n",
       "      <td>Class_0</td>\n",
       "      <td>0.808081</td>\n",
       "      <td>0.695652</td>\n",
       "      <td>0.747664</td>\n",
       "    </tr>\n",
       "    <tr>\n",
       "      <th>1</th>\n",
       "      <td>Class_1</td>\n",
       "      <td>0.732824</td>\n",
       "      <td>0.834783</td>\n",
       "      <td>0.780488</td>\n",
       "    </tr>\n",
       "  </tbody>\n",
       "</table>\n",
       "</div>"
      ],
      "text/plain": [
       "     Label  Precision    Recall  F1 Score\n",
       "0  Class_0   0.808081  0.695652  0.747664\n",
       "1  Class_1   0.732824  0.834783  0.780488"
      ]
     },
     "execution_count": 20,
     "metadata": {},
     "output_type": "execute_result"
    }
   ],
   "source": [
    "TP = mapper_logistic[0, 0]\n",
    "FP = mapper_logistic[0, 1]\n",
    "FN = mapper_logistic[1, 0]\n",
    "TN = mapper_logistic[1, 1]\n",
    "\n",
    "# Manually constructing the predicted and actual values based on the confusion matrix\n",
    "y_true = [0] * (TP + FP) + [1] * (FN + TN)\n",
    "y_pred = [0] * TP + [1] * FP + [0] * FN + [1] * TN\n",
    "\n",
    "# Calculating the precision, recall, f1 score and accuracy using scikit-learn\n",
    "precision = precision_score(y_true, y_pred, average=None, zero_division=0)\n",
    "recall = recall_score(y_true, y_pred, average=None)\n",
    "f1 = f1_score(y_true, y_pred, average=None)\n",
    "\n",
    "metrics_df = pd.DataFrame({\n",
    "    'Label': [f'Class_{i}' for i in range(len(precision))],\n",
    "    'Precision': precision,\n",
    "    'Recall': recall,\n",
    "    'F1 Score': f1\n",
    "})\n",
    "\n",
    "metrics_df"
   ]
  },
  {
   "cell_type": "code",
   "execution_count": 21,
   "id": "b589bc8c-ddf4-4b7c-a791-cddcace14b05",
   "metadata": {},
   "outputs": [
    {
     "data": {
      "text/html": [
       "<div>\n",
       "<style scoped>\n",
       "    .dataframe tbody tr th:only-of-type {\n",
       "        vertical-align: middle;\n",
       "    }\n",
       "\n",
       "    .dataframe tbody tr th {\n",
       "        vertical-align: top;\n",
       "    }\n",
       "\n",
       "    .dataframe thead th {\n",
       "        text-align: right;\n",
       "    }\n",
       "</style>\n",
       "<table border=\"1\" class=\"dataframe\">\n",
       "  <thead>\n",
       "    <tr style=\"text-align: right;\">\n",
       "      <th></th>\n",
       "      <th>Label</th>\n",
       "      <th>Precision</th>\n",
       "      <th>Recall</th>\n",
       "      <th>F1 Score</th>\n",
       "    </tr>\n",
       "  </thead>\n",
       "  <tbody>\n",
       "    <tr>\n",
       "      <th>0</th>\n",
       "      <td>Class_0</td>\n",
       "      <td>0.811881</td>\n",
       "      <td>0.713043</td>\n",
       "      <td>0.759259</td>\n",
       "    </tr>\n",
       "    <tr>\n",
       "      <th>1</th>\n",
       "      <td>Class_1</td>\n",
       "      <td>0.744186</td>\n",
       "      <td>0.834783</td>\n",
       "      <td>0.786885</td>\n",
       "    </tr>\n",
       "  </tbody>\n",
       "</table>\n",
       "</div>"
      ],
      "text/plain": [
       "     Label  Precision    Recall  F1 Score\n",
       "0  Class_0   0.811881  0.713043  0.759259\n",
       "1  Class_1   0.744186  0.834783  0.786885"
      ]
     },
     "execution_count": 21,
     "metadata": {},
     "output_type": "execute_result"
    }
   ],
   "source": [
    "TP = mapper_svm[0, 0]\n",
    "FP = mapper_svm[0, 1]\n",
    "FN = mapper_svm[1, 0]\n",
    "TN = mapper_svm[1, 1]\n",
    "\n",
    "# Manually constructing the predicted and actual values based on the confusion matrix\n",
    "y_true = [0] * (TP + FP) + [1] * (FN + TN)\n",
    "y_pred = [0] * TP + [1] * FP + [0] * FN + [1] * TN\n",
    "\n",
    "# Calculating the precision, recall, f1 score and accuracy using scikit-learn\n",
    "precision = precision_score(y_true, y_pred, average=None, zero_division=0)\n",
    "recall = recall_score(y_true, y_pred, average=None)\n",
    "f1 = f1_score(y_true, y_pred, average=None)\n",
    "\n",
    "metrics_df = pd.DataFrame({\n",
    "    'Label': [f'Class_{i}' for i in range(len(precision))],\n",
    "    'Precision': precision,\n",
    "    'Recall': recall,\n",
    "    'F1 Score': f1\n",
    "})\n",
    "\n",
    "metrics_df"
   ]
  },
  {
   "cell_type": "code",
   "execution_count": 14,
   "id": "005776a9-bc5a-4151-aa9b-3c85849bed03",
   "metadata": {},
   "outputs": [],
   "source": [
    "def get_acc(cm):\n",
    "    accuracy = (cm[0, 0] + cm[1, 1]) / np.sum(cm)\n",
    "    return accuracy\n",
    "\n",
    "score_origin = get_acc(cm_origin)\n",
    "score_origin_svm = get_acc(cm_origin_svm)"
   ]
  },
  {
   "cell_type": "code",
   "execution_count": 15,
   "id": "c16741be-ad26-4f2e-91a5-68eee1898132",
   "metadata": {},
   "outputs": [
    {
     "name": "stdout",
     "output_type": "stream",
     "text": [
      "0.765217391304348\n",
      "0.7739130434782608\n"
     ]
    }
   ],
   "source": [
    "de = np.sum(cm_0 + cm_1 + cm_2 + cm_combine + cm_out)\n",
    "logit_avg_score = (np.sum(cm_0)/de)*get_acc(cm_0) + (np.sum(cm_1)/de)*get_acc(cm_1) + (np.sum(cm_2)/de)*get_acc(cm_2) + (np.sum(cm_combine)/de)*get_acc(cm_combine) + (np.sum(cm_out)/de)*get_acc(cm_out)\n",
    "print(logit_avg_score)\n",
    "\n",
    "de = np.sum(cm_0_svm + cm_1_svm + cm_2_svm + cm_combine_svm + cm_out_svm)\n",
    "svm_avg_score = (np.sum(cm_0_svm)/de)*get_acc(cm_0_svm) + (np.sum(cm_1_svm)/de)*get_acc(cm_1_svm) + (np.sum(cm_2_svm)/de)*get_acc(cm_2_svm) + (np.sum(cm_combine_svm)/de)*get_acc(cm_combine_svm) + (np.sum(cm_out_svm)/de)*get_acc(cm_out_svm)\n",
    "print(svm_avg_score)"
   ]
  },
  {
   "cell_type": "code",
   "execution_count": 23,
   "id": "9e5688a6-d4c6-4a7a-a204-8b3c70222a80",
   "metadata": {},
   "outputs": [
    {
     "data": {
      "image/png": "[encoded data removed]",
      "text/plain": [
       "<Figure size 864x576 with 1 Axes>"
      ]
     },
     "metadata": {
      "needs_background": "light"
     },
     "output_type": "display_data"
    }
   ],
   "source": [
    "from matplotlib import rcParams\n",
    "\n",
    "rcParams['font.sans-serif'] = ['DejaVu Sans']\n",
    "\n",
    "categories = ['Mapper', 'Origin']\n",
    "logit_scores = [logit_avg_score, score_origin]\n",
    "svm_scores = [svm_avg_score, score_origin_svm]\n",
    "\n",
    "x = np.arange(len(categories))\n",
    "width = 0.35  \n",
    "\n",
    "fig, ax = plt.subplots(figsize=(12, 8))  # 设置图像大小\n",
    "rects1 = ax.bar(x - width/2, logit_scores, width, label='Logit', color='skyblue')\n",
    "rects3 = ax.bar(x + width/2, svm_scores, width, label='SVM', color='orange')\n",
    "\n",
    "# 添加网格线\n",
    "ax.grid(True, linestyle='--', alpha=0.7)\n",
    "\n",
    "ax.set_xlabel('Models', fontsize=14)\n",
    "ax.set_ylabel('Scores', fontsize=14)\n",
    "ax.set_title('Mapper vs Origin', fontsize=16)\n",
    "ax.set_xticks(x)\n",
    "ax.set_xticklabels(categories, fontsize=12)\n",
    "ax.legend(loc='upper center', bbox_to_anchor=(0.5, -0.1), ncol=2, fontsize=12)\n",
    "\n",
    "def autolabel(rects):\n",
    "    for rect in rects:\n",
    "        height = rect.get_height()\n",
    "        ax.annotate(f'{height:.3f}',\n",
    "                    xy=(rect.get_x() + rect.get_width() / 2, height),\n",
    "                    xytext=(0, 3),\n",
    "                    textcoords=\"offset points\",\n",
    "                    ha='center', va='bottom',\n",
    "                    fontsize=12)\n",
    "\n",
    "autolabel(rects1)\n",
    "autolabel(rects3)\n",
    "\n",
    "fig.tight_layout()\n",
    "\n",
    "plt.show()\n",
    "\n",
    "fig.savefig('CalculatedData/道路分析.png', bbox_inches='tight')"
   ]
  },
  {
   "cell_type": "markdown",
   "id": "08e3ae67-f1db-401a-8c89-1feb7c4d6c46",
   "metadata": {},
   "source": [
    "# 顯著特徵"
   ]
  },
  {
   "cell_type": "code",
   "execution_count": 1,
   "id": "2784971f-c61e-4873-8c25-78f117bdcd21",
   "metadata": {},
   "outputs": [],
   "source": [
    "# lst_regression = [\n",
    "#     '光線名稱',\n",
    "#     '道路類別-第1當事者-名稱', \n",
    "#     '速限-第1當事者', \n",
    "#     '道路型態大類別名稱', '事故位置大類別名稱',\n",
    "#     '號誌-號誌種類名稱',\n",
    "#     '車道劃分設施-分向設施大類別名稱', '車道劃分設施-分道設施-快車道或一般車道間名稱',\n",
    "#     '車道劃分設施-分道設施-快慢車道間名稱', '車道劃分設施-分道設施-路面邊線名稱',\n",
    "#     '事故類型及型態大類別名稱',\n",
    "# ]\n",
    "\n",
    "# X01, y01, p01 = pval(full_0, full_1, lst_regression)\n",
    "\n",
    "# p01[p01['p_value'] < 0.05]"
   ]
  },
  {
   "cell_type": "code",
   "execution_count": 19,
   "id": "0783da52-2c60-42c9-bb9b-089c7bb9efb2",
   "metadata": {},
   "outputs": [],
   "source": [
    "def table(colnames, full_0, full_1, full_12):\n",
    "    \n",
    "    combined_df = pd.concat([full_0[colnames].value_counts(normalize = True), \n",
    "                             full_1[colnames].value_counts(normalize = True),\n",
    "                             full_12[colnames].value_counts(normalize = True)\n",
    "                            ],\n",
    "                            axis=1).fillna(0)\n",
    "\n",
    "    combined_df.columns = ['車與車、低速線', '人與車、低速限', '車與車、高速限']\n",
    "    \n",
    "    return combined_df"
   ]
  },
  {
   "cell_type": "code",
   "execution_count": 43,
   "id": "a83bc835-ef04-444a-a7b1-6c2ab0fada68",
   "metadata": {},
   "outputs": [],
   "source": [
    "table_lst = [\n",
    "    # '路面狀況-路面狀態名稱',\n",
    "    # '當事者屬-性-別名稱', \n",
    "    # '當事者事故發生時年齡', \n",
    "    # '車輛撞擊部位大類別名稱-最初',\n",
    "    # '光線名稱',\n",
    "    # '道路類別-第1當事者-名稱',1\n",
    "    # '道路型態大類別名稱',\n",
    "    # '事故位置大類別名稱',1\n",
    "    # '號誌-號誌種類名稱',\n",
    "    # '車道劃分設施-分向設施大類別名稱', '車道劃分設施-分道設施-快車道或一般車道間名稱',\n",
    "    # '車道劃分設施-分道設施-快慢車道間名稱', '車道劃分設施-分道設施-路面邊線名稱',\n",
    "    # '事故類型及型態大類別名稱',\n",
    "    # '保護裝備名稱', '行動電話或電腦或其他相類功能裝置名稱', \n",
    "    # '當事者行動狀態大類別名稱',\n",
    "    # '車輛撞擊部位大類別名稱-其他', \n",
    "    # '肇因研判大類別名稱-個別', \n",
    "    # '肇事逃逸類別名稱-是否肇逃',\n",
    "    # '路面狀況-路面鋪裝名稱', \n",
    "    # '道路障礙-障礙物名稱',\n",
    "    # '死亡'1\n",
    "]\n",
    "for i in table_lst:\n",
    "    result = table(i, full_0, full_1, full_2)\n",
    "    print(i,'\\n',result)"
   ]
  },
  {
   "cell_type": "code",
   "execution_count": 27,
   "id": "e3fce72e-2d97-44d7-87e0-b9114d1d1187",
   "metadata": {},
   "outputs": [
    {
     "name": "stdout",
     "output_type": "stream",
     "text": [
      "天候名稱 p值: 3.7423913829414446e-84 可分群\n",
      "路面狀況-路面狀態名稱 p值: 1.96698856787791e-66 可分群\n",
      "肇因研判大類別名稱-主要 p值: 0.0 可分群\n",
      "當事者屬-性-別名稱 p值: 1.9208024450862807e-19 可分群\n",
      "當事者事故發生時年齡 p值: 2.877871255650202e-119 可分群\n",
      "車輛撞擊部位大類別名稱-最初 p值: 0.0 可分群\n",
      "光線名稱 p值: 4.5575293150708896e-32 可分群\n",
      "道路類別-第1當事者-名稱 p值: 9.896001421504978e-12 可分群\n",
      "速限-第1當事者 p值: 1.0 不可分群\n",
      "道路型態大類別名稱 p值: 2.3971756564178616e-118 可分群\n",
      "事故位置大類別名稱 p值: 0.0 可分群\n",
      "號誌-號誌種類名稱 p值: 6.400071832738002e-68 可分群\n",
      "車道劃分設施-分向設施大類別名稱 p值: 3.844146913876763e-133 可分群\n",
      "車道劃分設施-分道設施-快車道或一般車道間名稱 p值: 7.937562385899556e-07 可分群\n",
      "車道劃分設施-分道設施-快慢車道間名稱 p值: 1.8210249862734978e-17 可分群\n",
      "車道劃分設施-分道設施-路面邊線名稱 p值: 5.818908126846127e-25 可分群\n",
      "事故類型及型態大類別名稱 p值: 0.0 可分群\n",
      "經度 p值: 1.8109807470313417e-40 可分群\n",
      "緯度 p值: 3.0842286074638883e-27 可分群\n",
      "道路型態子類別名稱 p值: 3.3397421101568733e-165 可分群\n",
      "事故位置子類別名稱 p值: 0.0 可分群\n",
      "車道劃分設施-分向設施子類別名稱 p值: 3.546043933354523e-135 可分群\n",
      "事故類型及型態子類別名稱 p值: 0.0 可分群\n",
      "當事者行動狀態子類別名稱 p值: 0.0 可分群\n",
      "車輛撞擊部位子類別名稱-最初 p值: 0.0 可分群\n",
      "車輛撞擊部位子類別名稱-其他 p值: 0.0 可分群\n",
      "肇因研判子類別名稱-個別 p值: 0.0 可分群\n",
      "當事者區分-類別-大類別名稱-車種 p值: 0.0 可分群\n",
      "當事者區分-類別-子類別名稱-車種 p值: 0.0 可分群\n",
      "保護裝備名稱 p值: 0.0 可分群\n",
      "行動電話或電腦或其他相類功能裝置名稱 p值: 0.0 可分群\n",
      "當事者行動狀態大類別名稱 p值: 0.0 可分群\n",
      "車輛撞擊部位大類別名稱-其他 p值: 1.0276766564399661e-50 可分群\n",
      "肇因研判大類別名稱-個別 p值: 0.0 可分群\n",
      "肇事逃逸類別名稱-是否肇逃 p值: 2.435878917095484e-33 可分群\n",
      "路面狀況-路面鋪裝名稱 p值: 2.681346118835594e-35 可分群\n",
      "路面狀況-路面缺陷名稱 p值: 0.019119043597566675 可分群\n",
      "道路障礙-障礙物名稱 p值: 5.205146733399556e-12 可分群\n",
      "道路障礙-視距品質名稱 p值: 0.008506602149702855 可分群\n",
      "道路障礙-視距名稱 p值: 1.1162676430726879e-05 可分群\n",
      "號誌-號誌動作名稱 p值: 3.2129811047751587e-31 可分群\n",
      "死亡 p值: 3.2493886063117e-27 可分群\n"
     ]
    },
    {
     "data": {
      "text/plain": [
       "[]"
      ]
     },
     "execution_count": 27,
     "metadata": {},
     "output_type": "execute_result"
    }
   ],
   "source": [
    "chi_compare(full_0, full_1)"
   ]
  },
  {
   "cell_type": "code",
   "execution_count": 28,
   "id": "0536e985-1d99-4828-9391-7fadc3bb9179",
   "metadata": {},
   "outputs": [
    {
     "name": "stdout",
     "output_type": "stream",
     "text": [
      "天候名稱 p值: 2.117077609696697e-07 可分群\n",
      "路面狀況-路面狀態名稱 p值: 0.0020400827698896905 可分群\n",
      "肇因研判大類別名稱-主要 p值: 1.213752308797994e-23 可分群\n",
      "當事者屬-性-別名稱 p值: 4.31668075008718e-67 可分群\n",
      "當事者事故發生時年齡 p值: 3.676778231078707e-33 可分群\n",
      "車輛撞擊部位大類別名稱-最初 p值: 0.0 可分群\n",
      "光線名稱 p值: 7.104963991197325e-09 可分群\n",
      "道路類別-第1當事者-名稱 p值: 0.0 可分群\n",
      "速限-第1當事者 p值: 0.0 可分群\n",
      "道路型態大類別名稱 p值: 3.250294483273938e-280 可分群\n",
      "事故位置大類別名稱 p值: 1.395200716288879e-306 可分群\n",
      "號誌-號誌種類名稱 p值: 1.401993065361633e-60 可分群\n",
      "車道劃分設施-分向設施大類別名稱 p值: 0.0 可分群\n",
      "車道劃分設施-分道設施-快車道或一般車道間名稱 p值: 0.0 可分群\n",
      "車道劃分設施-分道設施-快慢車道間名稱 p值: 1.3054819624004788e-69 可分群\n",
      "車道劃分設施-分道設施-路面邊線名稱 p值: 0.0 可分群\n",
      "事故類型及型態大類別名稱 p值: 4.982887308647495e-25 可分群\n",
      "經度 p值: 0.0 可分群\n",
      "緯度 p值: 0.0 可分群\n",
      "道路型態子類別名稱 p值: 0.0 可分群\n",
      "事故位置子類別名稱 p值: 0.0 可分群\n",
      "車道劃分設施-分向設施子類別名稱 p值: 0.0 可分群\n",
      "事故類型及型態子類別名稱 p值: 0.0 可分群\n",
      "當事者行動狀態子類別名稱 p值: 0.0 可分群\n",
      "車輛撞擊部位子類別名稱-最初 p值: 4.543735083455736e-139 可分群\n",
      "車輛撞擊部位子類別名稱-其他 p值: 4.806765614303571e-124 可分群\n",
      "肇因研判子類別名稱-個別 p值: 0.0 可分群\n",
      "當事者區分-類別-大類別名稱-車種 p值: 0.0 可分群\n",
      "當事者區分-類別-子類別名稱-車種 p值: 0.0 可分群\n",
      "保護裝備名稱 p值: 0.0 可分群\n",
      "行動電話或電腦或其他相類功能裝置名稱 p值: 8.484022267981888e-11 可分群\n",
      "當事者行動狀態大類別名稱 p值: 0.4977688899728999 不可分群\n",
      "車輛撞擊部位大類別名稱-其他 p值: 4.823038713303075e-131 可分群\n",
      "肇因研判大類別名稱-個別 p值: 7.038772701273498e-24 可分群\n",
      "肇事逃逸類別名稱-是否肇逃 p值: 0.013732596999097143 可分群\n",
      "路面狀況-路面鋪裝名稱 p值: 0.008311976769208368 可分群\n",
      "路面狀況-路面缺陷名稱 p值: 0.0016329419593534302 可分群\n",
      "道路障礙-障礙物名稱 p值: 6.858478359026743e-12 可分群\n",
      "道路障礙-視距品質名稱 p值: 3.2152135803678646e-05 可分群\n",
      "道路障礙-視距名稱 p值: 0.00033440143058862244 可分群\n",
      "號誌-號誌動作名稱 p值: 1.9632076483673934e-31 可分群\n",
      "死亡 p值: 5.529972927772768e-67 可分群\n"
     ]
    },
    {
     "data": {
      "text/plain": [
       "[]"
      ]
     },
     "execution_count": 28,
     "metadata": {},
     "output_type": "execute_result"
    }
   ],
   "source": [
    "chi_compare(full_0, full_2)"
   ]
  },
  {
   "cell_type": "code",
   "execution_count": 29,
   "id": "b2b12841-76b7-4944-bbcb-a2e665537813",
   "metadata": {},
   "outputs": [
    {
     "name": "stdout",
     "output_type": "stream",
     "text": [
      "天候名稱 p值: 4.2916216127351034e-12 可分群\n",
      "路面狀況-路面狀態名稱 p值: 1.6409963716758847e-08 可分群\n",
      "肇因研判大類別名稱-主要 p值: 3.297160885604259e-234 可分群\n",
      "當事者屬-性-別名稱 p值: 1.4292987327130624e-48 可分群\n",
      "當事者事故發生時年齡 p值: 8.026403716927883e-88 可分群\n",
      "車輛撞擊部位大類別名稱-最初 p值: 0.0 可分群\n",
      "光線名稱 p值: 4.486805866522666e-23 可分群\n",
      "道路類別-第1當事者-名稱 p值: 0.0 可分群\n",
      "速限-第1當事者 p值: 0.0 可分群\n",
      "道路型態大類別名稱 p值: 1.8876990735760174e-64 可分群\n",
      "事故位置大類別名稱 p值: 6.181266777651324e-132 可分群\n",
      "號誌-號誌種類名稱 p值: 1.4075867541730207e-75 可分群\n",
      "車道劃分設施-分向設施大類別名稱 p值: 0.0 可分群\n",
      "車道劃分設施-分道設施-快車道或一般車道間名稱 p值: 0.0 可分群\n",
      "車道劃分設施-分道設施-快慢車道間名稱 p值: 2.9572893745014933e-75 可分群\n",
      "車道劃分設施-分道設施-路面邊線名稱 p值: 6.259367692201811e-196 可分群\n",
      "事故類型及型態大類別名稱 p值: 0.0 可分群\n",
      "經度 p值: 5.422583871734164e-12 可分群\n",
      "緯度 p值: 1.0169860507081644e-11 可分群\n",
      "道路型態子類別名稱 p值: 2.776188174711388e-139 可分群\n",
      "事故位置子類別名稱 p值: 0.0 可分群\n",
      "車道劃分設施-分向設施子類別名稱 p值: 0.0 可分群\n",
      "事故類型及型態子類別名稱 p值: 0.0 可分群\n",
      "當事者行動狀態子類別名稱 p值: 0.0 可分群\n",
      "車輛撞擊部位子類別名稱-最初 p值: 6.080493198036302e-259 可分群\n",
      "車輛撞擊部位子類別名稱-其他 p值: 2.518962460677094e-49 可分群\n",
      "肇因研判子類別名稱-個別 p值: 0.0 可分群\n",
      "當事者區分-類別-大類別名稱-車種 p值: 0.0 可分群\n",
      "當事者區分-類別-子類別名稱-車種 p值: 0.0 可分群\n",
      "保護裝備名稱 p值: 0.0 可分群\n",
      "行動電話或電腦或其他相類功能裝置名稱 p值: 2.600161376419363e-218 可分群\n",
      "當事者行動狀態大類別名稱 p值: 2.8013453099529174e-203 可分群\n",
      "車輛撞擊部位大類別名稱-其他 p值: 1.001823311920545e-58 可分群\n",
      "肇因研判大類別名稱-個別 p值: 3.331056980969238e-233 可分群\n",
      "肇事逃逸類別名稱-是否肇逃 p值: 0.00015945305086202848 可分群\n",
      "路面狀況-路面鋪裝名稱 p值: 5.3926061791667996e-09 可分群\n",
      "路面狀況-路面缺陷名稱 p值: 0.06190544828111509 不可分群\n",
      "道路障礙-障礙物名稱 p值: 5.806485213324313e-10 可分群\n",
      "道路障礙-視距品質名稱 p值: 5.255751135758362e-07 可分群\n",
      "道路障礙-視距名稱 p值: 2.4600924340619984e-05 可分群\n",
      "號誌-號誌動作名稱 p值: 0.001736885023925385 可分群\n",
      "死亡 p值: 0.0008424699325439694 可分群\n"
     ]
    },
    {
     "data": {
      "text/plain": [
       "[]"
      ]
     },
     "execution_count": 29,
     "metadata": {},
     "output_type": "execute_result"
    }
   ],
   "source": [
    "chi_compare(full_1, full_2)"
   ]
  }
 ],
 "metadata": {
  "kernelspec": {
   "display_name": "Python 3 (ipykernel)",
   "language": "python",
   "name": "python3"
  },
  "language_info": {
   "codemirror_mode": {
    "name": "ipython",
    "version": 3
   },
   "file_extension": ".py",
   "mimetype": "text/x-python",
   "name": "python",
   "nbconvert_exporter": "python",
   "pygments_lexer": "ipython3",
   "version": "3.9.12"
  }
 },
 "nbformat": 4,
 "nbformat_minor": 5
}

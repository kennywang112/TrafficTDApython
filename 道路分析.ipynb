{
 "cells": [
  {
   "cell_type": "code",
   "execution_count": 1,
   "id": "78289c91-c044-437a-824b-f4c3105a9b7f",
   "metadata": {},
   "outputs": [],
   "source": [
    "import numpy as np\n",
    "import pandas as pd\n",
    "import time\n",
    "import matplotlib.pyplot as plt\n",
    "\n",
    "from sklearn.decomposition import PCA\n",
    "from sklearn.cluster import DBSCAN, AgglomerativeClustering\n",
    "from sklearn.preprocessing import StandardScaler\n",
    "from sklearn.metrics import pairwise_distances_argmin_min, silhouette_score\n",
    "\n",
    "from tdamapper.core import MapperAlgorithm\n",
    "from tdamapper.cover import CubicalCover\n",
    "from tdamapper.plot import MapperLayoutInteractive\n",
    "from tdamapper.clustering import FailSafeClustering\n",
    "from sklearn import metrics\n",
    "\n",
    "from functions import *"
   ]
  },
  {
   "cell_type": "code",
   "execution_count": 54,
   "id": "50a26aea-3cc8-42f1-bb5d-a31da36c3655",
   "metadata": {},
   "outputs": [],
   "source": [
    "# import pickle\n",
    "\n",
    "# with open('CalculatedData/new1.pkl', 'wb') as f:\n",
    "#     pickle.dump(mapper_graph1, f)\n",
    "\n",
    "# import pickle\n",
    "\n",
    "# with open('CalculatedData/mapper_graph1.pkl', 'rb') as f:\n",
    "#     mapper_graph1 = pickle.load(f)"
   ]
  },
  {
   "cell_type": "code",
   "execution_count": 2,
   "id": "e63bfa3b-5bf1-48fc-a175-b106df259eee",
   "metadata": {
    "tags": []
   },
   "outputs": [],
   "source": [
    "data1 = pd.read_csv(\"./Data/NPA_TMA2_1.csv\", low_memory=False)[:-2]\n",
    "data2 = pd.read_csv(\"./Data/NPA_TMA2_2.csv\", low_memory=False)[:-2]\n",
    "data3 = pd.read_csv(\"./Data/NPA_TMA2_3.csv\", low_memory=False)[:-2]\n",
    "data4 = pd.read_csv(\"./Data/NPA_TMA2_4.csv\", low_memory=False)[:-2]\n",
    "dataA2 = pd.concat([data1, data2, data3, data4], ignore_index=True)\n",
    "\n",
    "dataA1 = pd.read_csv(\"./Data/NPA_TMA1.csv\")[:-2]"
   ]
  },
  {
   "cell_type": "markdown",
   "id": "b606ac45-e657-41e3-9d3d-e22ec8a52bcd",
   "metadata": {},
   "source": [
    "rbind_dataprocess_age資料應該先合併，再proccess_data，再分離，因為個別做可能標籤會不同"
   ]
  },
  {
   "cell_type": "code",
   "execution_count": 12,
   "id": "4a1b9ca8-3782-44a5-b8bc-975a507f8190",
   "metadata": {},
   "outputs": [
    {
     "data": {
      "text/html": [
       "<div>\n",
       "<style scoped>\n",
       "    .dataframe tbody tr th:only-of-type {\n",
       "        vertical-align: middle;\n",
       "    }\n",
       "\n",
       "    .dataframe tbody tr th {\n",
       "        vertical-align: top;\n",
       "    }\n",
       "\n",
       "    .dataframe thead th {\n",
       "        text-align: right;\n",
       "    }\n",
       "</style>\n",
       "<table border=\"1\" class=\"dataframe\">\n",
       "  <thead>\n",
       "    <tr style=\"text-align: right;\">\n",
       "      <th></th>\n",
       "      <th>光線名稱</th>\n",
       "      <th>道路類別-第1當事者-名稱</th>\n",
       "      <th>道路型態大類別名稱</th>\n",
       "      <th>事故位置大類別名稱</th>\n",
       "      <th>號誌-號誌種類名稱</th>\n",
       "      <th>車道劃分設施-分向設施大類別名稱</th>\n",
       "      <th>車道劃分設施-分道設施-快車道或一般車道間名稱</th>\n",
       "      <th>車道劃分設施-分道設施-快慢車道間名稱</th>\n",
       "      <th>車道劃分設施-分道設施-路面邊線名稱</th>\n",
       "      <th>事故類型及型態大類別名稱</th>\n",
       "      <th>經度</th>\n",
       "      <th>緯度</th>\n",
       "      <th>死亡</th>\n",
       "      <th>受傷</th>\n",
       "    </tr>\n",
       "  </thead>\n",
       "  <tbody>\n",
       "    <tr>\n",
       "      <th>0</th>\n",
       "      <td>0.146102</td>\n",
       "      <td>2.120706</td>\n",
       "      <td>1.210906</td>\n",
       "      <td>0.485564</td>\n",
       "      <td>-0.713755</td>\n",
       "      <td>-1.627801</td>\n",
       "      <td>1.771301</td>\n",
       "      <td>-1.697696</td>\n",
       "      <td>-0.917071</td>\n",
       "      <td>1.798967</td>\n",
       "      <td>-0.634220</td>\n",
       "      <td>-1.868211</td>\n",
       "      <td>13.660843</td>\n",
       "      <td>-2.803204</td>\n",
       "    </tr>\n",
       "    <tr>\n",
       "      <th>1</th>\n",
       "      <td>1.465217</td>\n",
       "      <td>-0.251720</td>\n",
       "      <td>-0.814068</td>\n",
       "      <td>-0.872635</td>\n",
       "      <td>2.771975</td>\n",
       "      <td>-1.627801</td>\n",
       "      <td>-0.822895</td>\n",
       "      <td>-1.697696</td>\n",
       "      <td>-0.917071</td>\n",
       "      <td>-0.012319</td>\n",
       "      <td>1.111877</td>\n",
       "      <td>0.974928</td>\n",
       "      <td>13.660843</td>\n",
       "      <td>-0.620846</td>\n",
       "    </tr>\n",
       "    <tr>\n",
       "      <th>2</th>\n",
       "      <td>-1.173013</td>\n",
       "      <td>2.911514</td>\n",
       "      <td>1.210906</td>\n",
       "      <td>1.164664</td>\n",
       "      <td>-0.713755</td>\n",
       "      <td>1.177412</td>\n",
       "      <td>1.122752</td>\n",
       "      <td>-1.697696</td>\n",
       "      <td>-0.917071</td>\n",
       "      <td>1.798967</td>\n",
       "      <td>-2.459704</td>\n",
       "      <td>-0.633180</td>\n",
       "      <td>13.660843</td>\n",
       "      <td>-2.803204</td>\n",
       "    </tr>\n",
       "    <tr>\n",
       "      <th>3</th>\n",
       "      <td>-1.173013</td>\n",
       "      <td>-0.251720</td>\n",
       "      <td>-0.814068</td>\n",
       "      <td>-0.872635</td>\n",
       "      <td>2.771975</td>\n",
       "      <td>-0.225194</td>\n",
       "      <td>-0.822895</td>\n",
       "      <td>0.422707</td>\n",
       "      <td>1.090428</td>\n",
       "      <td>-0.012319</td>\n",
       "      <td>0.936797</td>\n",
       "      <td>1.016777</td>\n",
       "      <td>13.660843</td>\n",
       "      <td>-0.620846</td>\n",
       "    </tr>\n",
       "    <tr>\n",
       "      <th>4</th>\n",
       "      <td>1.465217</td>\n",
       "      <td>2.120706</td>\n",
       "      <td>1.210906</td>\n",
       "      <td>1.164664</td>\n",
       "      <td>-0.713755</td>\n",
       "      <td>0.476109</td>\n",
       "      <td>-0.822895</td>\n",
       "      <td>0.422707</td>\n",
       "      <td>-0.917071</td>\n",
       "      <td>1.798967</td>\n",
       "      <td>1.832866</td>\n",
       "      <td>0.186897</td>\n",
       "      <td>13.660843</td>\n",
       "      <td>-2.803204</td>\n",
       "    </tr>\n",
       "  </tbody>\n",
       "</table>\n",
       "</div>"
      ],
      "text/plain": [
       "       光線名稱  道路類別-第1當事者-名稱  道路型態大類別名稱  事故位置大類別名稱  號誌-號誌種類名稱  車道劃分設施-分向設施大類別名稱  \\\n",
       "0  0.146102       2.120706   1.210906   0.485564  -0.713755         -1.627801   \n",
       "1  1.465217      -0.251720  -0.814068  -0.872635   2.771975         -1.627801   \n",
       "2 -1.173013       2.911514   1.210906   1.164664  -0.713755          1.177412   \n",
       "3 -1.173013      -0.251720  -0.814068  -0.872635   2.771975         -0.225194   \n",
       "4  1.465217       2.120706   1.210906   1.164664  -0.713755          0.476109   \n",
       "\n",
       "   車道劃分設施-分道設施-快車道或一般車道間名稱  車道劃分設施-分道設施-快慢車道間名稱  車道劃分設施-分道設施-路面邊線名稱  \\\n",
       "0                 1.771301            -1.697696           -0.917071   \n",
       "1                -0.822895            -1.697696           -0.917071   \n",
       "2                 1.122752            -1.697696           -0.917071   \n",
       "3                -0.822895             0.422707            1.090428   \n",
       "4                -0.822895             0.422707           -0.917071   \n",
       "\n",
       "   事故類型及型態大類別名稱        經度        緯度         死亡        受傷  \n",
       "0      1.798967 -0.634220 -1.868211  13.660843 -2.803204  \n",
       "1     -0.012319  1.111877  0.974928  13.660843 -0.620846  \n",
       "2      1.798967 -2.459704 -0.633180  13.660843 -2.803204  \n",
       "3     -0.012319  0.936797  1.016777  13.660843 -0.620846  \n",
       "4      1.798967  1.832866  0.186897  13.660843 -2.803204  "
      ]
     },
     "execution_count": 12,
     "metadata": {},
     "output_type": "execute_result"
    }
   ],
   "source": [
    "def preprocess(input_data, select_lst, sample = 592):\n",
    "    sample_data = input_data[input_data['當事者順位'] == 1].reset_index(drop=True, inplace=False)#.sample(sample).reset_index(drop=True)\n",
    "    # sample_data = sample_data[sample_data['發生月份'] < 3]\n",
    "    dataA = sample_data[select_lst]\n",
    "    \n",
    "    death_injury_data = split_death_injury(dataA['死亡受傷人數'])\n",
    "    dist_df = pd.concat([dataA, death_injury_data], axis=1)\n",
    "    dist_df.drop(columns=['死亡受傷人數'], inplace=True)\n",
    "    \n",
    "    return dist_df, sample_data\n",
    "\n",
    "# List of columns to select\n",
    "select_lst = [\n",
    "    '光線名稱',\n",
    "    '道路類別-第1當事者-名稱',\n",
    "    # '速限-第1當事者', #'道路障礙-視距品質名稱', # 和速限共線\n",
    "    '道路型態大類別名稱', '事故位置大類別名稱', \n",
    "    # '路面狀況-路面鋪裝名稱', '路面狀況-路面缺陷名稱', '道路障礙-障礙物名稱', # 分類幾乎都是無缺陷\n",
    "    '號誌-號誌種類名稱',\n",
    "    '車道劃分設施-分向設施大類別名稱', '車道劃分設施-分道設施-快車道或一般車道間名稱',\n",
    "    '車道劃分設施-分道設施-快慢車道間名稱', '車道劃分設施-分道設施-路面邊線名稱',\n",
    "    '事故類型及型態大類別名稱',\n",
    "    '死亡受傷人數',\n",
    "    '經度', '緯度',\n",
    "]\n",
    "\n",
    "dist_dfA1 = preprocess(dataA1, select_lst, sample = 592)\n",
    "dist_dfA2 = preprocess(dataA2, select_lst, sample = 20000) # 120420\n",
    "\n",
    "    \n",
    "rbind_data = pd.concat([dist_dfA1[0], dist_dfA2[0]], axis=0, ignore_index=True)\n",
    "\n",
    "rbind_data.loc[rbind_data['受傷'] > 1, '受傷'] = 2\n",
    "# rbind_data['速限-第1當事者'] = rbind_data['速限-第1當事者'].apply(lambda x: 1 if x > 60 else 0)\n",
    "\n",
    "dist_df = process_data(rbind_data)\n",
    "scaler = StandardScaler()\n",
    "\n",
    "full_dist = pd.DataFrame(scaler.fit_transform(dist_df), columns = dist_df.columns)\n",
    "X1 = full_dist.drop(['受傷', '死亡', '經度', '緯度'], axis=1).to_numpy()\n",
    "\n",
    "full_dist.head()"
   ]
  },
  {
   "cell_type": "code",
   "execution_count": 4,
   "id": "b20c6e6f-4ec9-41f3-b409-5c3e42822efe",
   "metadata": {},
   "outputs": [
    {
     "data": {
      "text/plain": [
       "(121012, 18)"
      ]
     },
     "execution_count": 4,
     "metadata": {},
     "output_type": "execute_result"
    }
   ],
   "source": [
    "full_dist.shape"
   ]
  },
  {
   "cell_type": "code",
   "execution_count": null,
   "id": "a25d0823-bc61-4ee9-b630-d413c0cbd879",
   "metadata": {},
   "outputs": [],
   "source": [
    "# 最佳模型\n",
    "# start_time = time.time()\n",
    "\n",
    "# lens1 = PCA(10).fit_transform(X1)\n",
    "\n",
    "# mapper_algo1 = MapperAlgorithm(\n",
    "#     cover = CubicalCover(\n",
    "#         n_intervals = 4,\n",
    "#         overlap_frac = 0.4\n",
    "#     ),\n",
    "#     clustering = FailSafeClustering(\n",
    "#         clustering = AgglomerativeClustering(3, linkage='ward'),\n",
    "#         verbose = False)\n",
    "# )\n",
    "\n",
    "# mapper_graph1 = mapper_algo1.fit_transform(X1, lens1)\n",
    "\n",
    "# end_time = time.time()\n",
    "# elapsed_time = end_time - start_time\n",
    "# print(elapsed_time)"
   ]
  },
  {
   "cell_type": "code",
   "execution_count": 41,
   "id": "d9c2f4d2-8a66-47fe-8960-2ef3bc8f4732",
   "metadata": {
    "tags": []
   },
   "outputs": [
    {
     "name": "stdout",
     "output_type": "stream",
     "text": [
      "343.48361802101135\n"
     ]
    }
   ],
   "source": [
    "start_time = time.time()\n",
    "\n",
    "lens1 = PCA(10).fit_transform(X1)\n",
    "\n",
    "mapper_algo1 = MapperAlgorithm(\n",
    "    cover = CubicalCover(\n",
    "        n_intervals = 4,\n",
    "        overlap_frac = 0.35\n",
    "    ),\n",
    "    clustering = FailSafeClustering(\n",
    "        clustering = AgglomerativeClustering(2, linkage='ward'),\n",
    "        verbose = False)\n",
    ")\n",
    "\n",
    "mapper_graph1 = mapper_algo1.fit_transform(X1, lens1)\n",
    "\n",
    "end_time = time.time()\n",
    "elapsed_time = end_time - start_time\n",
    "print(elapsed_time)"
   ]
  },
  {
   "cell_type": "code",
   "execution_count": 55,
   "id": "fe3decb5-c06e-4e9d-83b3-c1561027581e",
   "metadata": {},
   "outputs": [],
   "source": [
    "# # 道路型態大類別名稱\n",
    "# mapper_plot1 = MapperLayoutInteractive(\n",
    "#     mapper_graph1,\n",
    "#     colors = dist_df[['道路型態大類別名稱']].to_numpy(),\n",
    "#     cmap = 'jet',\n",
    "#     # agg = np.nanmean,\n",
    "#     agg = most_frequent_nonan,\n",
    "#     dim = 3,\n",
    "#     iterations = 30,\n",
    "#     seed = 5,\n",
    "#     width = 800,\n",
    "#     height = 500)\n",
    "\n",
    "# fig_mean1 = mapper_plot1.plot()\n",
    "# fig_mean1.show(config={'scrollZoom': True})"
   ]
  },
  {
   "cell_type": "markdown",
   "id": "9e1ee75e-a9c9-4d69-a1e0-0d47c701e3bb",
   "metadata": {},
   "source": [
    "## Get plot information"
   ]
  },
  {
   "cell_type": "code",
   "execution_count": 43,
   "id": "0c96494c-8c3b-4a5d-ad7a-1964c9a082db",
   "metadata": {},
   "outputs": [],
   "source": [
    "x = vars(mapper_plot1._MapperLayoutInteractive__fig)['_data_objs'][1]['x']\n",
    "y = vars(mapper_plot1._MapperLayoutInteractive__fig)['_data_objs'][1]['y']\n",
    "z = vars(mapper_plot1._MapperLayoutInteractive__fig)['_data_objs'][1]['z']\n",
    "\n",
    "threeDimData = pd.DataFrame({'x': x, 'y': y, 'z': z})\n",
    "\n",
    "import re\n",
    "data_tuple = vars(mapper_plot1._MapperLayoutInteractive__fig)['_data_objs'][1]['text']\n",
    "\n",
    "data = []\n",
    "for item in data_tuple:\n",
    "    color = int(re.search(r'color: (\\d+)', item).group(1))\n",
    "    node = int(re.search(r'node: (\\d+)', item).group(1))\n",
    "    size = int(re.search(r'size: (\\d+)', item).group(1))\n",
    "    data.append({'color': color, 'node': node, 'size': size})\n",
    "component_info = pd.DataFrame(data)\n",
    "\n",
    "full_info = pd.concat([component_info, threeDimData], axis=1)\n",
    "\n",
    "mp_content_origin = vars(mapper_plot1._MapperLayoutInteractive__graph)['_node']\n",
    "\n",
    "mp_content = pd.DataFrame.from_dict(mp_content_origin, orient='index')\n",
    "mp_content.reset_index(inplace=True)\n",
    "mp_content.rename(columns={'index': 'node'}, inplace=True)\n",
    "\n",
    "full_info = pd.merge(full_info, mp_content, on=['node', 'size'], how='inner')\n",
    "# full_info.iloc[:, 3:6].head()"
   ]
  },
  {
   "cell_type": "markdown",
   "id": "f8d48814-b2c3-495c-87e3-b9206bac5c5c",
   "metadata": {},
   "source": [
    "## Cluster info for DBSCAN"
   ]
  },
  {
   "cell_type": "code",
   "execution_count": 56,
   "id": "b39641bd-6ccb-4a63-a794-6698dc1da523",
   "metadata": {},
   "outputs": [],
   "source": [
    "# import plotly.graph_objects as go\n",
    "# import pandas as pd\n",
    "# import numpy as np\n",
    "\n",
    "# calinski_data = get_calinski_from_db(full_info, 0.015)\n",
    "# labels = calinski_data[3]\n",
    "# db = calinski_data[2]\n",
    "# n_clusters_ = calinski_data[4]\n",
    "\n",
    "# unique_labels = set(labels)\n",
    "# core_samples_mask = np.zeros_like(labels, dtype=bool)\n",
    "# core_samples_mask[db.core_sample_indices_] = True\n",
    "\n",
    "# def matplotlib_to_plotly(cmap, alpha=1):\n",
    "#     \"\"\"rgba\"\"\"\n",
    "#     return f'rgba({int(cmap[0]*200)}, {int(cmap[1]*200)}, {int(cmap[2]*200)}, {alpha})'\n",
    "\n",
    "# # colors = [plt.cm.Spectral(each) for each in np.linspace(0, 1, len(unique_labels))]  \n",
    "# colors = [matplotlib_to_plotly(plt.cm.Spectral(each), alpha=0.8) for each in np.linspace(0, 1, len(unique_labels))]\n",
    "# fig = go.Figure()\n",
    "\n",
    "# for k, col in zip(unique_labels, colors):\n",
    "#     if k == -1:\n",
    "#         # col = 'rgba(0,0,0,0)'\n",
    "#         col = 'rgba(0,0,0,0)'\n",
    "\n",
    "#     class_member_mask = labels == k\n",
    "\n",
    "#     core_samples = full_info.iloc[:, 3:6][class_member_mask & core_samples_mask]\n",
    "#     fig.add_trace(go.Scatter3d(\n",
    "#         x=core_samples.iloc[:, 0],\n",
    "#         y=core_samples.iloc[:, 1],\n",
    "#         z=core_samples.iloc[:, 2],\n",
    "#         mode='markers',\n",
    "#         marker=dict(\n",
    "#             size=6,\n",
    "#             color=col,\n",
    "#             opacity=0.8\n",
    "#         ),\n",
    "#         name=f'Cluster {k} Core'\n",
    "#     ))\n",
    "\n",
    "#     non_core_samples = full_info.iloc[:, 3:6][class_member_mask & ~core_samples_mask]\n",
    "#     fig.add_trace(go.Scatter3d(\n",
    "#         x=non_core_samples.iloc[:, 0],\n",
    "#         y=non_core_samples.iloc[:, 1],\n",
    "#         z=non_core_samples.iloc[:, 2],\n",
    "#         mode='markers',\n",
    "#         marker=dict(\n",
    "#             size=6,\n",
    "#             color=col,\n",
    "#             opacity=0.5\n",
    "#         ),\n",
    "#         name=f'Cluster {k} Non-Core'\n",
    "#     ))\n",
    "\n",
    "# fig.update_layout(\n",
    "#     title=f\"Estimated number of clusters: {n_clusters_}\",\n",
    "#     margin=dict(l=0, r=0, b=0, t=0)\n",
    "# )\n",
    "\n",
    "# fig.show()"
   ]
  },
  {
   "cell_type": "markdown",
   "id": "504a260f-0765-4ef8-becf-3dcedaa87342",
   "metadata": {},
   "source": [
    "## Split label & Count the same point"
   ]
  },
  {
   "cell_type": "code",
   "execution_count": 52,
   "id": "1f12a785-60ad-469e-bc0b-83e9dea29a63",
   "metadata": {},
   "outputs": [
    {
     "name": "stdout",
     "output_type": "stream",
     "text": [
      "[ 0  1 -1  2  3  4]\n"
     ]
    }
   ],
   "source": [
    "from chi import *\n",
    "\n",
    "label_0 = full_info[full_info['label'] == 0]\n",
    "label_1 = full_info[full_info['label'] == 1]\n",
    "label_2 = full_info[full_info['label'] == 2]\n",
    "\n",
    "count_0 = get_count_dict(label_0)\n",
    "count_1 = get_count_dict(label_1)\n",
    "count_2 = get_count_dict(label_2)\n",
    "\n",
    "print(full_info['label'].unique())"
   ]
  },
  {
   "cell_type": "code",
   "execution_count": 27,
   "id": "7cef480a-66b4-4ca6-8a78-e5cd0284a4ea",
   "metadata": {},
   "outputs": [
    {
     "name": "stdout",
     "output_type": "stream",
     "text": [
      "01連接點數量 0\n",
      "02連接點數量 16\n",
      "12連接點數量 49\n",
      "各分群相加 120056\n",
      "各分群大小 (114580, 15) (2522, 15) (2954, 15)\n",
      "權重 767145 9193 18736\n"
     ]
    }
   ],
   "source": [
    "full_0 = rbind_data.loc[count_0.keys()]\n",
    "full_1 = rbind_data.loc[count_1.keys()]\n",
    "full_2 = rbind_data.loc[count_2.keys()]\n",
    "\n",
    "lst01 = list(count_0.keys() & count_1.keys())\n",
    "lst02 = list(count_0.keys() & count_2.keys())\n",
    "lst12 = list(count_1.keys() & count_2.keys())\n",
    "# 將重複的key另外拉出進行分析，這裡drop是為了符合卡方的獨立性前提假設\n",
    "full_01 = full_0.loc[lst01]\n",
    "full_02 = full_0.loc[lst02]\n",
    "full_12 = full_1.loc[lst12]\n",
    "\n",
    "full_0 = full_0.drop(lst01)\n",
    "full_0 = full_0.drop(lst02)\n",
    "full_1 = full_1.drop(lst01)\n",
    "full_1 = full_1.drop(lst12)\n",
    "full_2 = full_2.drop(lst02)\n",
    "full_2 = full_2.drop(lst12)\n",
    "\n",
    "print('01連接點數量', len(lst01))\n",
    "for key1 in lst01:\n",
    "    del count_0[key1]\n",
    "    del count_1[key1]\n",
    "print('02連接點數量', len(lst02))\n",
    "for key2 in lst02:\n",
    "    del count_0[key2]\n",
    "    del count_2[key2]\n",
    "print('12連接點數量', len(lst12))\n",
    "for key3 in lst12:\n",
    "    del count_1[key3]\n",
    "    del count_2[key3]\n",
    "\n",
    "full_0 = add_count(full_0, count_0)\n",
    "full_1 = add_count(full_1, count_1)\n",
    "full_2 = add_count(full_2, count_2)\n",
    "\n",
    "print('各分群相加', full_0.shape[0] + full_1.shape[0] + full_2.shape[0])\n",
    "print('各分群大小', full_0.shape, full_1.shape, full_2.shape)\n",
    "print('權重', full_0['count'].sum(), full_1['count'].sum(), full_2['count'].sum())"
   ]
  },
  {
   "cell_type": "markdown",
   "id": "72d21b49-50a8-4cf7-b84e-a2d240d4d919",
   "metadata": {},
   "source": [
    "## VIF"
   ]
  },
  {
   "cell_type": "code",
   "execution_count": 28,
   "id": "d36cdc23-5efc-4591-a740-9bf4be21023b",
   "metadata": {},
   "outputs": [],
   "source": [
    "lst_regression = [\n",
    "    '光線名稱',\n",
    "    '道路類別-第1當事者-名稱', \n",
    "    # '速限-第1當事者', \n",
    "    '道路型態大類別名稱', '事故位置大類別名稱',\n",
    "    '號誌-號誌種類名稱',\n",
    "    '車道劃分設施-分向設施大類別名稱', '車道劃分設施-分道設施-快車道或一般車道間名稱',\n",
    "    '車道劃分設施-分道設施-快慢車道間名稱', '車道劃分設施-分道設施-路面邊線名稱',\n",
    "    '事故類型及型態大類別名稱',\n",
    "]"
   ]
  },
  {
   "cell_type": "code",
   "execution_count": 35,
   "id": "699ae783-7491-4c60-a48b-e798123e867c",
   "metadata": {},
   "outputs": [
    {
     "name": "stdout",
     "output_type": "stream",
     "text": [
      "                  features       VIF\n",
      "0                     光線名稱  1.009844\n",
      "1            道路類別-第1當事者-名稱  1.016431\n",
      "2                道路型態大類別名稱  5.838461\n",
      "3                事故位置大類別名稱  5.479225\n",
      "4                號誌-號誌種類名稱  1.397519\n",
      "5         車道劃分設施-分向設施大類別名稱  1.068934\n",
      "6  車道劃分設施-分道設施-快車道或一般車道間名稱  1.122531\n",
      "7      車道劃分設施-分道設施-快慢車道間名稱  1.056576\n",
      "8       車道劃分設施-分道設施-路面邊線名稱  1.125107\n",
      "9             事故類型及型態大類別名稱       NaN\n"
     ]
    },
    {
     "name": "stderr",
     "output_type": "stream",
     "text": [
      "C:\\Users\\USER\\anaconda3\\lib\\site-packages\\statsmodels\\regression\\linear_model.py:1738: RuntimeWarning:\n",
      "\n",
      "invalid value encountered in scalar divide\n",
      "\n"
     ]
    }
   ],
   "source": [
    "from regressionP import *\n",
    "\n",
    "X, y, p = pval(full_2, full_1, lst_regression)\n",
    "\n",
    "from statsmodels.stats.outliers_influence import variance_inflation_factor\n",
    "select_lst = [\n",
    "    '光線名稱',\n",
    "    '道路類別-第1當事者-名稱',\n",
    "    #'速限-第1當事者', #'道路障礙-視距品質名稱', # 和速限共線\n",
    "    '道路型態大類別名稱', '事故位置大類別名稱', \n",
    "    # '路面狀況-路面鋪裝名稱', '路面狀況-路面缺陷名稱', '道路障礙-障礙物名稱', # 分類幾乎都是無缺陷\n",
    "    '號誌-號誌種類名稱',\n",
    "    '車道劃分設施-分向設施大類別名稱', '車道劃分設施-分道設施-快車道或一般車道間名稱',\n",
    "    '車道劃分設施-分道設施-快慢車道間名稱', '車道劃分設施-分道設施-路面邊線名稱',\n",
    "    '事故類型及型態大類別名稱',\n",
    "]\n",
    "def calculate_vif(X):\n",
    "    vif = pd.DataFrame()\n",
    "    vif[\"features\"] = X.columns\n",
    "    vif[\"VIF\"] = [variance_inflation_factor(X.values, i) for i in range(X.shape[1])]\n",
    "    return vif\n",
    "\n",
    "# 假设 c0_for_lm_X 是你的预测变量DataFrame\n",
    "vif_df = calculate_vif(X[select_lst])\n",
    "print(vif_df)"
   ]
  },
  {
   "cell_type": "code",
   "execution_count": null,
   "id": "217583df-340a-41a3-9db3-e746af1fa0d5",
   "metadata": {},
   "outputs": [],
   "source": [
    "# cluster0_X, cluster0_y = get_clusterN_logit(full_0)\n",
    "# cluster1_X, cluster1_y = get_clusterN_logit(full_1)\n",
    "# cluster2_X, cluster2_y = get_clusterN_logit(full_2)\n",
    "\n",
    "# cluster0_data = get_logit_data(cluster0_X, cluster0_y, lst_regression)\n",
    "# cluster1_data = get_logit_data(cluster1_X, cluster1_y, lst_regression)\n",
    "# cluster2_data = get_logit_data(cluster2_X, cluster2_y, lst_regression)"
   ]
  },
  {
   "cell_type": "markdown",
   "id": "e7846e40-5704-4d9c-92d6-c89ecf297db4",
   "metadata": {},
   "source": [
    "## 慢速限分析"
   ]
  },
  {
   "cell_type": "code",
   "execution_count": 29,
   "id": "19e029cb-d701-4f1e-b586-7229dc1a1d2e",
   "metadata": {},
   "outputs": [],
   "source": [
    "from regressionP import *"
   ]
  },
  {
   "cell_type": "code",
   "execution_count": 32,
   "id": "fb619d4e-0a5a-4dbe-b15e-c9ad1c826958",
   "metadata": {},
   "outputs": [],
   "source": [
    "lst_regression = [\n",
    "    '光線名稱',\n",
    "    '道路類別-第1當事者-名稱',\n",
    "    '道路型態大類別名稱', '事故位置大類別名稱',\n",
    "    '號誌-號誌種類名稱',\n",
    "    '車道劃分設施-分向設施大類別名稱', '車道劃分設施-分道設施-快車道或一般車道間名稱',\n",
    "    '車道劃分設施-分道設施-快慢車道間名稱', '車道劃分設施-分道設施-路面邊線名稱',\n",
    "    '事故類型及型態大類別名稱',\n",
    "]\n",
    "X01, y01, p01 = pval(full_1, full_2, lst_regression)"
   ]
  },
  {
   "cell_type": "code",
   "execution_count": 22,
   "id": "311ddc84-6838-4908-bd58-ef24f043f1b7",
   "metadata": {},
   "outputs": [],
   "source": [
    "lst_regression = [\n",
    "    '光線名稱',\n",
    "    '道路類別-第1當事者-名稱', \n",
    "    '速限-第1當事者', \n",
    "    '道路型態大類別名稱', '事故位置大類別名稱',\n",
    "    '號誌-號誌種類名稱',\n",
    "    '車道劃分設施-分向設施大類別名稱', '車道劃分設施-分道設施-快車道或一般車道間名稱',\n",
    "    '車道劃分設施-分道設施-快慢車道間名稱', '車道劃分設施-分道設施-路面邊線名稱',\n",
    "    '事故類型及型態大類別名稱',\n",
    "]\n",
    "\n",
    "# X01, y01, p01 = pval(full_0, full_1, lst_regression)\n",
    "\n",
    "# p01[p01['p_value'] < 0.05]"
   ]
  },
  {
   "cell_type": "code",
   "execution_count": 21,
   "id": "aba2d43f-365c-4eb7-b8a7-5578b03008b7",
   "metadata": {},
   "outputs": [],
   "source": [
    "p01.to_csv('CalculatedData/道路分析/慢速限分析_p.csv', index=False)"
   ]
  },
  {
   "cell_type": "code",
   "execution_count": 29,
   "id": "7cd8dc7c-d5bd-4331-8720-ef88d58d591c",
   "metadata": {},
   "outputs": [],
   "source": [
    "result = table('事故類型及型態大類別名稱', full_0, full_1, full_01)\n",
    "result.to_csv('CalculatedData/道路分析/慢速限分析_事故類型比例表01.csv', index=False)"
   ]
  },
  {
   "cell_type": "code",
   "execution_count": 30,
   "id": "fd3453a6-0cc3-4541-bd34-690c2b8bfbfa",
   "metadata": {},
   "outputs": [],
   "source": [
    "result = table('受傷', full_0, full_1, full_01)\n",
    "result.to_csv('CalculatedData/道路分析/慢速限分析_受傷比例表01.csv', index=False)"
   ]
  },
  {
   "cell_type": "code",
   "execution_count": 31,
   "id": "041ff492-9385-4e5b-8453-1fd41db952d7",
   "metadata": {},
   "outputs": [],
   "source": [
    "result = table('死亡', full_0, full_1, full_01)\n",
    "result.to_csv('CalculatedData/道路分析/慢速限分析_死亡比例表01.csv', index=False)"
   ]
  },
  {
   "cell_type": "markdown",
   "id": "516c69db-c88d-427f-8558-e0035c2186a2",
   "metadata": {},
   "source": [
    "## 去掉關鍵"
   ]
  },
  {
   "cell_type": "code",
   "execution_count": 33,
   "id": "ad893eef-0a86-495d-8542-024f96653493",
   "metadata": {},
   "outputs": [],
   "source": [
    "lst_regression = [\n",
    "    '光線名稱',\n",
    "    '道路類別-第1當事者-名稱', \n",
    "    '速限-第1當事者', \n",
    "    '道路型態大類別名稱', '事故位置大類別名稱',\n",
    "    '號誌-號誌種類名稱',\n",
    "    '車道劃分設施-分向設施大類別名稱', '車道劃分設施-分道設施-快車道或一般車道間名稱',\n",
    "    '車道劃分設施-分道設施-快慢車道間名稱', '車道劃分設施-分道設施-路面邊線名稱',\n",
    "    # '事故類型及型態大類別名稱',\n",
    "]\n",
    "\n",
    "# X01, y01, p01 = pval(full_0, full_1, lst_regression)\n",
    "\n",
    "# p01[p01['p_value'] < 0.05]"
   ]
  },
  {
   "cell_type": "code",
   "execution_count": 34,
   "id": "3ee39447-b197-45fa-8d79-3d7e2f05439f",
   "metadata": {},
   "outputs": [],
   "source": [
    "p01.to_csv('CalculatedData/道路分析/慢速限分析_去掉關鍵p.csv', index=False)"
   ]
  },
  {
   "cell_type": "code",
   "execution_count": 35,
   "id": "4174b36a-d7ee-485c-8a9a-83a6cf53f314",
   "metadata": {},
   "outputs": [],
   "source": [
    "proportions = calculate_proportions(full_0, '事故位置大類別名稱')\n",
    "proportions.to_csv('CalculatedData/道路分析/慢速限分析_事故位置大類別名稱0.csv', index=False)"
   ]
  },
  {
   "cell_type": "code",
   "execution_count": 36,
   "id": "ce8a0718-03ab-4ca4-8992-5ace4bbc706f",
   "metadata": {},
   "outputs": [],
   "source": [
    "proportions = calculate_proportions(full_1, '事故位置大類別名稱')\n",
    "proportions.to_csv('CalculatedData/道路分析/慢速限分析_事故位置大類別名稱1.csv', index=False)"
   ]
  },
  {
   "cell_type": "code",
   "execution_count": 37,
   "id": "3b35afb6-1555-4259-b909-9bbde8d023c1",
   "metadata": {},
   "outputs": [],
   "source": [
    "proportions = calculate_proportions(full_0, '光線名稱')\n",
    "proportions.to_csv('CalculatedData/道路分析/慢速限分析_光線名稱0.csv', index=False)"
   ]
  },
  {
   "cell_type": "code",
   "execution_count": 38,
   "id": "ba0c13f4-02ed-4403-9682-41f9ca4d6c2d",
   "metadata": {},
   "outputs": [],
   "source": [
    "proportions = calculate_proportions(full_1, '光線名稱')\n",
    "proportions.to_csv('CalculatedData/道路分析/慢速限分析_光線名稱1.csv', index=False)"
   ]
  },
  {
   "cell_type": "code",
   "execution_count": 39,
   "id": "adcc0841-5605-42ae-b985-421e6f5e645a",
   "metadata": {},
   "outputs": [],
   "source": [
    "proportions = calculate_proportions(full_0, '車道劃分設施-分向設施大類別名稱')\n",
    "proportions.to_csv('CalculatedData/道路分析/慢速限分析_分向設施0.csv', index=False)"
   ]
  },
  {
   "cell_type": "code",
   "execution_count": 40,
   "id": "9684cbdc-553c-4b85-b5c3-4c7976f896e8",
   "metadata": {},
   "outputs": [],
   "source": [
    "proportions = calculate_proportions(full_1, '車道劃分設施-分向設施大類別名稱')\n",
    "proportions.to_csv('CalculatedData/道路分析/慢速限分析_分向設施1.csv', index=False)"
   ]
  },
  {
   "cell_type": "code",
   "execution_count": 41,
   "id": "fe446758-0d37-4077-9ce3-b57815846411",
   "metadata": {},
   "outputs": [],
   "source": [
    "proportions = calculate_proportions(full_0, '道路型態大類別名稱')\n",
    "proportions.to_csv('CalculatedData/道路分析/慢速限分析_道路型態大類別名稱0.csv', index=False)"
   ]
  },
  {
   "cell_type": "code",
   "execution_count": 42,
   "id": "016a2158-0222-4c44-b98c-4665d1a0b50e",
   "metadata": {},
   "outputs": [],
   "source": [
    "proportions = calculate_proportions(full_1, '道路型態大類別名稱')\n",
    "proportions.to_csv('CalculatedData/道路分析/慢速限分析_道路型態大類別名稱1.csv', index=False)"
   ]
  },
  {
   "cell_type": "code",
   "execution_count": 153,
   "id": "38a692b5-e287-4eab-8064-24933debf987",
   "metadata": {},
   "outputs": [
    {
     "name": "stdout",
     "output_type": "stream",
     "text": [
      "光線名稱 p值: 1.2656663335407066e-06 可分群\n",
      "道路類別-第1當事者-名稱 p值: 0.0 可分群\n",
      "速限-第1當事者 p值: 0.0 可分群\n",
      "道路型態大類別名稱 p值: 8.274089870410125e-189 可分群\n",
      "事故位置大類別名稱 p值: 1.2087506450269801e-211 可分群\n",
      "號誌-號誌種類名稱 p值: 1.1218418944278677e-42 可分群\n",
      "車道劃分設施-分向設施大類別名稱 p值: 0.0 可分群\n",
      "車道劃分設施-分道設施-快車道或一般車道間名稱 p值: 0.0 可分群\n",
      "車道劃分設施-分道設施-快慢車道間名稱 p值: 1.0363314444658376e-66 可分群\n",
      "車道劃分設施-分道設施-路面邊線名稱 p值: 7.444777959171966e-260 可分群\n",
      "事故類型及型態大類別名稱 p值: 2.0005517390094274e-39 可分群\n",
      "經度 p值: 1.2286895557537435e-240 可分群\n",
      "緯度 p值: 4.4113423841556225e-210 可分群\n",
      "死亡 p值: 2.528585370123506e-68 可分群\n",
      "受傷 p值: 5.807063013139795e-25 可分群\n"
     ]
    }
   ],
   "source": [
    "pvalue_lst = chi_compare(full_0, full_1)"
   ]
  },
  {
   "cell_type": "markdown",
   "id": "9b480b8d-9e25-4a34-8752-e037cf9f6b57",
   "metadata": {},
   "source": [
    "## 快慢速限分析"
   ]
  },
  {
   "cell_type": "code",
   "execution_count": 45,
   "id": "6ee14cc6-4c0b-478f-9063-03cb54f72938",
   "metadata": {},
   "outputs": [],
   "source": [
    "lst_regression = [\n",
    "    '光線名稱',\n",
    "    '道路類別-第1當事者-名稱', \n",
    "    '速限-第1當事者', \n",
    "    '道路型態大類別名稱', '事故位置大類別名稱',\n",
    "    '號誌-號誌種類名稱',\n",
    "    '車道劃分設施-分向設施大類別名稱', '車道劃分設施-分道設施-快車道或一般車道間名稱',\n",
    "    '車道劃分設施-分道設施-快慢車道間名稱', '車道劃分設施-分道設施-路面邊線名稱',\n",
    "    '事故類型及型態大類別名稱',\n",
    "]\n",
    "\n",
    "# X02, y02, p02 = pval(full_0, full_2, lst_regression)\n",
    "\n",
    "# p02[p02['p_value'] < 0.05]"
   ]
  },
  {
   "cell_type": "code",
   "execution_count": 46,
   "id": "0aacda7a-af83-41f3-8194-09dc577afa9b",
   "metadata": {},
   "outputs": [],
   "source": [
    "p02.to_csv('CalculatedData/道路分析/快慢分析_p.csv', index=False)"
   ]
  },
  {
   "cell_type": "code",
   "execution_count": 47,
   "id": "239a1e60-bfb6-44ad-881f-3b47ea635a9b",
   "metadata": {},
   "outputs": [],
   "source": [
    "result = table('速限-第1當事者', full_0, full_2, full_02)\n",
    "result.to_csv('CalculatedData/道路分析/快慢分析_速限比例表.csv', index=False)"
   ]
  },
  {
   "cell_type": "markdown",
   "id": "6b00e8d2-0e63-4b94-8b89-2294060efa0f",
   "metadata": {},
   "source": [
    "## 去掉關件"
   ]
  },
  {
   "cell_type": "code",
   "execution_count": 49,
   "id": "4849e7a2-a2ef-4747-bb15-8eb0fd373817",
   "metadata": {},
   "outputs": [],
   "source": [
    "lst_regression = [\n",
    "    '光線名稱',\n",
    "    '道路類別-第1當事者-名稱', \n",
    "    # '速限-第1當事者', \n",
    "    '道路型態大類別名稱', '事故位置大類別名稱',\n",
    "    '號誌-號誌種類名稱',\n",
    "    '車道劃分設施-分向設施大類別名稱', '車道劃分設施-分道設施-快車道或一般車道間名稱',\n",
    "    '車道劃分設施-分道設施-快慢車道間名稱', '車道劃分設施-分道設施-路面邊線名稱',\n",
    "    '事故類型及型態大類別名稱',\n",
    "]\n",
    "\n",
    "# X02, y02, p02 = pval(full_0, full_2, lst_regression)\n",
    "\n",
    "# p02[p02['p_value'] < 0.05]"
   ]
  },
  {
   "cell_type": "code",
   "execution_count": 50,
   "id": "562b8ab8-8ef8-41a8-bc4c-2e1dc2da91ef",
   "metadata": {},
   "outputs": [],
   "source": [
    "p02.to_csv('CalculatedData/道路分析/快慢分析_去掉關鍵p.csv', index=False)"
   ]
  },
  {
   "cell_type": "code",
   "execution_count": 51,
   "id": "b4647eb7-c6a1-4c3c-93bb-2f9caf64d268",
   "metadata": {},
   "outputs": [],
   "source": [
    "proportions = calculate_proportions(full_0, '車道劃分設施-分向設施大類別名稱')\n",
    "proportions.to_csv('CalculatedData/道路分析/快慢分析_分向設施0.csv', index=False)"
   ]
  },
  {
   "cell_type": "code",
   "execution_count": 52,
   "id": "fc132144-8da5-45b4-8054-3d7ad8821609",
   "metadata": {},
   "outputs": [],
   "source": [
    "proportions = calculate_proportions(full_2, '車道劃分設施-分向設施大類別名稱')\n",
    "proportions.to_csv('CalculatedData/道路分析/快慢分析_分向設施2.csv', index=False)"
   ]
  },
  {
   "cell_type": "code",
   "execution_count": 55,
   "id": "9329c27b-1445-42a3-b1c7-4d8b585bd317",
   "metadata": {},
   "outputs": [],
   "source": [
    "proportions = calculate_proportions(full_0, '車道劃分設施-分道設施-快車道或一般車道間名稱')\n",
    "proportions.to_csv('CalculatedData/道路分析/快慢分析_快車道0.csv', index=False)"
   ]
  },
  {
   "cell_type": "code",
   "execution_count": 56,
   "id": "9e58e212-5408-438d-bfb8-655320678ebc",
   "metadata": {},
   "outputs": [],
   "source": [
    "proportions = calculate_proportions(full_2, '車道劃分設施-分道設施-快車道或一般車道間名稱')\n",
    "proportions.to_csv('CalculatedData/道路分析/快慢分析_快車道2.csv', index=False)"
   ]
  },
  {
   "cell_type": "code",
   "execution_count": 57,
   "id": "218cc7d5-f585-4829-8ff1-c09a04e95338",
   "metadata": {},
   "outputs": [],
   "source": [
    "proportions = calculate_proportions(full_0, '車道劃分設施-分道設施-路面邊線名稱')\n",
    "proportions.to_csv('CalculatedData/道路分析/快慢分析_路面邊線0.csv', index=False)"
   ]
  },
  {
   "cell_type": "code",
   "execution_count": 58,
   "id": "1372419e-a8e8-42e3-9b22-050a8cc3fb29",
   "metadata": {},
   "outputs": [],
   "source": [
    "proportions = calculate_proportions(full_2, '車道劃分設施-分道設施-路面邊線名稱')\n",
    "proportions.to_csv('CalculatedData/道路分析/快慢分析_路面邊線2.csv', index=False)"
   ]
  }
 ],
 "metadata": {
  "kernelspec": {
   "display_name": "Python 3 (ipykernel)",
   "language": "python",
   "name": "python3"
  },
  "language_info": {
   "codemirror_mode": {
    "name": "ipython",
    "version": 3
   },
   "file_extension": ".py",
   "mimetype": "text/x-python",
   "name": "python",
   "nbconvert_exporter": "python",
   "pygments_lexer": "ipython3",
   "version": "3.9.12"
  }
 },
 "nbformat": 4,
 "nbformat_minor": 5
}

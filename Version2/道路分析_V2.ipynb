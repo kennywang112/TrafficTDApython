{
 "cells": [
  {
   "cell_type": "code",
   "execution_count": 2,
   "id": "f86ea7dc-6799-42a5-8e84-aa0f6422f5f9",
   "metadata": {},
   "outputs": [],
   "source": [
    "import os\n",
    "\n",
    "current_dir_path = os.getcwd()\n",
    "current_file_path = os.path.abspath(current_dir_path)\n",
    "current_dir_path = os.path.dirname(current_file_path)\n",
    "parent_dir_path = os.path.dirname(current_dir_path)\n",
    "\n",
    "os.chdir(current_dir_path)\n",
    "\n",
    "import pickle\n",
    "import time\n",
    "import numpy as np\n",
    "import pandas as pd\n",
    "import seaborn as sns\n",
    "import matplotlib.pyplot as plt\n",
    "import plotly.graph_objects as go\n",
    "\n",
    "from sklearn.decomposition import PCA\n",
    "from sklearn.cluster import DBSCAN, AgglomerativeClustering\n",
    "from sklearn.preprocessing import StandardScaler\n",
    "from sklearn.metrics import silhouette_score, confusion_matrix, accuracy_score, precision_score, recall_score, f1_score\n",
    "\n",
    "from tdamapper.core import MapperAlgorithm\n",
    "from tdamapper.cover import CubicalCover\n",
    "from tdamapper.plot import MapperLayoutInteractive, MapperLayoutStatic\n",
    "from tdamapper.clustering import FailSafeClustering\n",
    "from sklearn import metrics\n",
    "\n",
    "from functions import *\n",
    "from chi import *\n",
    "from regressionP import *\n",
    "from models import *"
   ]
  },
  {
   "cell_type": "code",
   "execution_count": 2,
   "id": "00a8edb3-600c-4782-ad38-55d0c5fcf445",
   "metadata": {},
   "outputs": [],
   "source": [
    "data1 = pd.read_csv(\"./Data/NPA_TMA2_1.csv\", low_memory=False)[:-2]\n",
    "data2 = pd.read_csv(\"./Data/NPA_TMA2_2.csv\", low_memory=False)[:-2]\n",
    "data3 = pd.read_csv(\"./Data/NPA_TMA2_3.csv\", low_memory=False)[:-2]\n",
    "data4 = pd.read_csv(\"./Data/NPA_TMA2_4_new.csv\", low_memory=False)[:-2]\n",
    "data5 = pd.read_csv(\"./Data/NPA_TMA2_5.csv\", low_memory=False)[:-2]\n",
    "data6 = pd.read_csv(\"./Data/NPA_TMA2_6_new.csv\", low_memory=False)[:-2]\n",
    "\n",
    "dataA2 = pd.concat([data1, data2, data3, data4, data5, data6], ignore_index=True)\n",
    "\n",
    "dataA1 = pd.read_csv(\"./Data/NPA_TMA1_new.csv\")[:-2]"
   ]
  },
  {
   "cell_type": "code",
   "execution_count": 3,
   "id": "a55ceb49-6238-4d71-b524-8b21abe7da4b",
   "metadata": {},
   "outputs": [
    {
     "data": {
      "text/plain": [
       "(190002, 15)"
      ]
     },
     "execution_count": 3,
     "metadata": {},
     "output_type": "execute_result"
    }
   ],
   "source": [
    "def preprocess(input_data, select_lst):\n",
    "    sample_data = input_data[input_data['當事者順位'] == 1].reset_index(drop=True, inplace=False)\n",
    "    sample_data = sample_data[sample_data['發生月份'] < 7]\n",
    "    dataA = sample_data[select_lst]\n",
    "\n",
    "    death_injury_data = split_death_injury(dataA['死亡受傷人數'])\n",
    "    dist_df = pd.concat([dataA, death_injury_data], axis=1)\n",
    "    dist_df.drop(columns=['死亡受傷人數'], inplace=True)\n",
    "    \n",
    "    return dist_df, sample_data\n",
    "\n",
    "select_lst = [\n",
    "    '光線名稱', '道路類別-第1當事者-名稱', '速限-第1當事者',\n",
    "    '道路型態大類別名稱', '事故位置大類別名稱', '事故類型及型態大類別名稱',\n",
    "    '號誌-號誌種類名稱', '車道劃分設施-分向設施大類別名稱', '車道劃分設施-分道設施-快車道或一般車道間名稱',\n",
    "    '車道劃分設施-分道設施-快慢車道間名稱', '車道劃分設施-分道設施-路面邊線名稱',\n",
    "    '死亡受傷人數', '經度', '緯度',\n",
    "]\n",
    "\n",
    "dist_dfA1 = preprocess(dataA1, select_lst)\n",
    "dist_dfA2 = preprocess(dataA2, select_lst)\n",
    "\n",
    "rbind_data = pd.concat([dist_dfA1[0], dist_dfA2[0]], axis=0, ignore_index=True)\n",
    "\n",
    "rbind_data.loc[rbind_data['受傷'] > 1, '受傷'] = 2\n",
    "rbind_data['速限-第1當事者'] = rbind_data['速限-第1當事者'].apply(lambda x: 1 if x > 60 else 0)\n",
    "\n",
    "dist_df = process_data(rbind_data)\n",
    "scaler = StandardScaler()\n",
    "\n",
    "full_dist = pd.DataFrame(scaler.fit_transform(dist_df), columns = dist_df.columns)\n",
    "X1 = full_dist.drop(['受傷', '死亡', '經度', '緯度'], axis=1).to_numpy()\n",
    "\n",
    "full_dist.shape"
   ]
  },
  {
   "cell_type": "code",
   "execution_count": 4,
   "id": "cbf3b8be-8455-44ea-abda-59837183de66",
   "metadata": {},
   "outputs": [
    {
     "data": {
      "text/plain": [
       "0.8442766956454199"
      ]
     },
     "execution_count": 4,
     "metadata": {},
     "output_type": "execute_result"
    }
   ],
   "source": [
    "pca = PCA(n_components=10)\n",
    "lens1 = pca.fit_transform(X1)\n",
    "\n",
    "# 查看每個主成分保留的變異量比例\n",
    "explained_variance_ratio = pca.explained_variance_ratio_\n",
    "sum(explained_variance_ratio)"
   ]
  },
  {
   "cell_type": "code",
   "execution_count": 7,
   "id": "141ae2b8-f7b9-4044-9fa1-b8810326f7c5",
   "metadata": {},
   "outputs": [],
   "source": [
    "# start_time = time.time()\n",
    "\n",
    "# lens1 = PCA(10).fit_transform(X1)\n",
    "\n",
    "# mapper_algo1 = MapperAlgorithm(\n",
    "#     cover = CubicalCover(\n",
    "#         n_intervals = 4,\n",
    "#         overlap_frac = 0.4\n",
    "#     ),\n",
    "#     clustering = FailSafeClustering(\n",
    "#         clustering = AgglomerativeClustering(3, linkage='ward'),\n",
    "#         verbose = False)\n",
    "# )\n",
    "\n",
    "# mapper_graph1 = mapper_algo1.fit_transform(X1, lens1)\n",
    "\n",
    "# end_time = time.time()\n",
    "# elapsed_time = end_time - start_time\n",
    "# print(elapsed_time)"
   ]
  },
  {
   "cell_type": "code",
   "execution_count": 9,
   "id": "759e3a20-04f6-44dc-904d-563c43ba819d",
   "metadata": {},
   "outputs": [],
   "source": [
    "# mapper_plot1 = MapperLayoutInteractive(\n",
    "#     mapper_graph1,\n",
    "#     colors = dist_df[['速限-第1當事者']].to_numpy(),\n",
    "#     cmap = 'jet',\n",
    "#     # agg = np.nanmean,\n",
    "#     agg = most_frequent_nonan,\n",
    "#     dim = 3,\n",
    "#     iterations = 30,\n",
    "#     seed = 6,\n",
    "#     width = 800,\n",
    "#     height = 500)"
   ]
  },
  {
   "cell_type": "code",
   "execution_count": 18,
   "id": "b76f2796-b242-4c65-8c3c-d6411266e627",
   "metadata": {},
   "outputs": [],
   "source": [
    "# fig_mean1 = mapper_plot1.plot()\n",
    "# fig_mean1.show(config={'scrollZoom': True})"
   ]
  },
  {
   "cell_type": "code",
   "execution_count": 21,
   "id": "80968938-b915-4b08-a38e-3a6d90a1f41e",
   "metadata": {},
   "outputs": [],
   "source": [
    "# import pickle\n",
    "\n",
    "# with open('CalculatedData/道路V2_newV2.pkl', 'wb') as f:\n",
    "#     pickle.dump(mapper_graph1, f)"
   ]
  },
  {
   "cell_type": "markdown",
   "id": "1e6c0e0f-f626-4701-86bf-91e47e81379a",
   "metadata": {},
   "source": [
    "# 模型比較"
   ]
  },
  {
   "cell_type": "code",
   "execution_count": 10,
   "id": "94276c2d-c9c8-4ab1-8aca-15533a004ea6",
   "metadata": {
    "tags": []
   },
   "outputs": [],
   "source": [
    "# List of columns to select\n",
    "select_lst = [\n",
    "    '天候名稱', \n",
    "    '路面狀況-路面狀態名稱',\n",
    "    '肇因研判大類別名稱-主要', '當事者屬-性-別名稱', '當事者事故發生時年齡', \n",
    "    '車輛撞擊部位大類別名稱-最初',\n",
    "    '光線名稱',\n",
    "    '道路類別-第1當事者-名稱',\n",
    "    '速限-第1當事者', \n",
    "    '道路型態大類別名稱',\n",
    "    '事故位置大類別名稱', \n",
    "    '號誌-號誌種類名稱',\n",
    "    '車道劃分設施-分向設施大類別名稱', '車道劃分設施-分道設施-快車道或一般車道間名稱',\n",
    "    '車道劃分設施-分道設施-快慢車道間名稱', '車道劃分設施-分道設施-路面邊線名稱',\n",
    "    '事故類型及型態大類別名稱',\n",
    "    '死亡受傷人數',\n",
    "    '經度', '緯度',\n",
    "    '道路型態子類別名稱', '事故位置子類別名稱', '車道劃分設施-分向設施子類別名稱', '事故類型及型態子類別名稱', \n",
    "    '當事者行動狀態子類別名稱', '車輛撞擊部位子類別名稱-最初', '車輛撞擊部位子類別名稱-其他', '肇因研判子類別名稱-個別',\n",
    "    \n",
    "    '當事者區分-類別-大類別名稱-車種', '當事者區分-類別-子類別名稱-車種',\n",
    "    '保護裝備名稱', '行動電話或電腦或其他相類功能裝置名稱', '當事者行動狀態大類別名稱',\n",
    "    '車輛撞擊部位大類別名稱-其他', '肇因研判大類別名稱-個別', '肇事逃逸類別名稱-是否肇逃',\n",
    "    '路面狀況-路面鋪裝名稱', '路面狀況-路面缺陷名稱',\n",
    "    '道路障礙-障礙物名稱', '道路障礙-視距品質名稱', '道路障礙-視距名稱','號誌-號誌動作名稱',\n",
    "]\n",
    "\n",
    "dist_dfA1 = preprocess(dataA1, select_lst)\n",
    "dist_dfA2 = preprocess(dataA2, select_lst)\n",
    "\n",
    "rbind_data = pd.concat([dist_dfA1[0], dist_dfA2[0]], axis=0, ignore_index=True)\n",
    "\n",
    "rbind_data.loc[rbind_data['受傷'] > 1, '受傷'] = 2\n",
    "rbind_data['速限-第1當事者'] = rbind_data['速限-第1當事者'].apply(lambda x: 1 if x > 60 else 0)\n",
    "rbind_data = process_age(rbind_data)\n",
    "# 顏色處理\n",
    "rbind_data['color'] = rbind_data['速限-第1當事者'].astype(str) + rbind_data['事故類型及型態大類別名稱']\n",
    "\n",
    "dist_df = process_data(rbind_data)\n",
    "scaler = StandardScaler()\n",
    "\n",
    "full_dist = pd.DataFrame(scaler.fit_transform(dist_df), columns = dist_df.columns)\n",
    "X1 = full_dist.drop(['受傷', '死亡'], axis=1).to_numpy()\n",
    "\n",
    "# full_dist.head()"
   ]
  },
  {
   "cell_type": "code",
   "execution_count": 4,
   "id": "db92e887-d74c-43ac-9f5c-e72b066bdc97",
   "metadata": {},
   "outputs": [],
   "source": [
    "with open('CalculatedData/道路V2_new.pkl', 'rb') as f:\n",
    "    mapper_graph1 = pickle.load(f)\n",
    "    \n",
    "mapper_plot1 = MapperLayoutInteractive(\n",
    "    mapper_graph1,\n",
    "    colors = dist_df[['color']].to_numpy(),\n",
    "    cmap = 'jet',\n",
    "    agg = most_frequent_nonan,\n",
    "    dim = 3,\n",
    "    iterations = 30,\n",
    "    seed = 6,\n",
    "    width = 800,\n",
    "    height = 500)"
   ]
  },
  {
   "cell_type": "code",
   "execution_count": 8,
   "id": "1c9fcaec-1867-467a-906c-f53a48cb11eb",
   "metadata": {},
   "outputs": [],
   "source": [
    "# fig_mean1 = mapper_plot1.plot()\n",
    "# fig_mean1.show(config={'scrollZoom': True})"
   ]
  },
  {
   "cell_type": "code",
   "execution_count": 11,
   "id": "03afc0b6-e649-43c7-9805-d2a709913430",
   "metadata": {},
   "outputs": [],
   "source": [
    "x = vars(mapper_plot1._MapperLayoutInteractive__fig)['_data_objs'][1]['x']\n",
    "y = vars(mapper_plot1._MapperLayoutInteractive__fig)['_data_objs'][1]['y']\n",
    "z = vars(mapper_plot1._MapperLayoutInteractive__fig)['_data_objs'][1]['z']\n",
    "\n",
    "threeDimData = pd.DataFrame({'x': x, 'y': y, 'z': z})\n",
    "\n",
    "import re\n",
    "data_tuple = vars(mapper_plot1._MapperLayoutInteractive__fig)['_data_objs'][1]['text']\n",
    "\n",
    "data = []\n",
    "for item in data_tuple:\n",
    "    color = int(re.search(r'color: (-?\\d+)', item).group(1))\n",
    "    node = int(re.search(r'node: (\\d+)', item).group(1))\n",
    "    size = int(re.search(r'size: (\\d+)', item).group(1))\n",
    "    data.append({'color': color, 'node': node, 'size': size})\n",
    "component_info = pd.DataFrame(data)\n",
    "\n",
    "full_info = pd.concat([component_info, threeDimData], axis=1)\n",
    "\n",
    "mp_content_origin = vars(mapper_plot1._MapperLayoutInteractive__graph)['_node']\n",
    "\n",
    "mp_content = pd.DataFrame.from_dict(mp_content_origin, orient='index')\n",
    "mp_content.reset_index(inplace=True)\n",
    "mp_content.rename(columns={'index': 'node'}, inplace=True)\n",
    "\n",
    "full_info = pd.merge(full_info, mp_content, on=['node', 'size'], how='inner')"
   ]
  },
  {
   "cell_type": "code",
   "execution_count": 23,
   "id": "eeaebfc3-9ae4-4b1c-bd58-f97e868a8837",
   "metadata": {},
   "outputs": [
    {
     "name": "stdout",
     "output_type": "stream",
     "text": [
      "3\n"
     ]
    }
   ],
   "source": [
    "calinski_data = get_calinski_from_db(full_info, 0.025)\n",
    "labels = calinski_data[3]\n",
    "db = calinski_data[2]\n",
    "n_clusters_ = calinski_data[4]\n",
    "\n",
    "print(n_clusters_)\n",
    "\n",
    "# do_plot(full_info, calinski_data, labels, db, n_clusters_)"
   ]
  },
  {
   "cell_type": "code",
   "execution_count": 24,
   "id": "4e1b7d8f-059a-48cc-83db-f9be90f7fe7f",
   "metadata": {},
   "outputs": [
    {
     "name": "stdout",
     "output_type": "stream",
     "text": [
      "01連接點數量 1499\n",
      "02連接點數量 0\n",
      "12連接點數量 0\n",
      "o0連接點數量 85\n",
      "o1連接點數量 24\n",
      "o2連接點數量 162\n",
      "離群值數量 391\n"
     ]
    },
    {
     "data": {
      "text/plain": [
       "False"
      ]
     },
     "execution_count": 24,
     "metadata": {},
     "output_type": "execute_result"
    }
   ],
   "source": [
    "label_0 = full_info[full_info['label'] == 0]\n",
    "label_1 = full_info[full_info['label'] == 1]\n",
    "label_2 = full_info[full_info['label'] == 2]\n",
    "label_out = full_info[(full_info['label'] != 1) & (full_info['label'] != 2) & (full_info['label'] != 0)]\n",
    "\n",
    "count_0 = get_count_dict(label_0)\n",
    "count_1 = get_count_dict(label_1)\n",
    "count_2 = get_count_dict(label_2)\n",
    "count_out = get_count_dict(label_out)\n",
    "\n",
    "full_0 = rbind_data.loc[count_0.keys()]\n",
    "full_1 = rbind_data.loc[count_1.keys()]\n",
    "full_2 = rbind_data.loc[count_2.keys()]\n",
    "# 離群值不需要被處理\n",
    "full_out = rbind_data.loc[count_out.keys()]\n",
    "lst01 = list(count_0.keys() & count_1.keys())\n",
    "lst02 = list(count_0.keys() & count_2.keys())\n",
    "lst12 = list(count_1.keys() & count_2.keys())\n",
    "lsto0 = list(count_out.keys() & count_0.keys())\n",
    "lsto1 = list(count_out.keys() & count_1.keys())\n",
    "lsto2 = list(count_out.keys() & count_2.keys())\n",
    "# Node\n",
    "full_01 = full_0.loc[lst01]\n",
    "full_02 = full_0.loc[lst02]\n",
    "full_12 = full_1.loc[lst12]\n",
    "\n",
    "full_combine = pd.concat([full_01, full_02, full_12], axis=0)\n",
    "full_combine = full_combine.reset_index()\n",
    "full_combine = full_combine.drop_duplicates(subset='index', keep='first')\n",
    "full_combine = full_combine.drop('index', axis=1)\n",
    "# 去掉連接點，使分析更嚴謹\n",
    "full_0 = full_0.drop(lst01 + lst02 + lsto0, errors='ignore')\n",
    "full_1 = full_1.drop(lst01 + lst12 + lsto1, errors='ignore')\n",
    "full_2 = full_2.drop(lst02 + lst12 + lsto2, errors='ignore')\n",
    "\n",
    "print('01連接點數量', len(lst01))\n",
    "print('02連接點數量', len(lst02))\n",
    "print('12連接點數量', len(lst12))\n",
    "print('o0連接點數量', len(lsto0))\n",
    "print('o1連接點數量', len(lsto1))\n",
    "print('o2連接點數量', len(lsto2))\n",
    "print('離群值數量', full_out.shape[0])\n",
    "\n",
    "full_combine.shape[0] + full_0.shape[0] + full_1.shape[0] + full_2.shape[0] + full_out.shape[0] == rbind_data.shape[0]"
   ]
  },
  {
   "cell_type": "code",
   "execution_count": null,
   "id": "37b17847-438d-4a79-8430-7520310b666b",
   "metadata": {},
   "outputs": [],
   "source": []
  },
  {
   "cell_type": "code",
   "execution_count": 29,
   "id": "808fc784-1f28-4ca9-bfd3-bf8d5b44ac0f",
   "metadata": {
    "tags": []
   },
   "outputs": [
    {
     "name": "stdout",
     "output_type": "stream",
     "text": [
      "2    1478\n",
      "1      21\n",
      "dtype: int64\n",
      "2    378\n",
      "1     13\n",
      "dtype: int64\n",
      "2    176259\n",
      "1       594\n",
      "dtype: int64\n",
      "2    7228\n",
      "1      87\n",
      "dtype: int64\n",
      "2    3872\n",
      "1      72\n",
      "dtype: int64\n"
     ]
    }
   ],
   "source": [
    "lst_logit = [\n",
    "    '路面狀況-路面狀態名稱', '當事者屬-性-別名稱', '當事者事故發生時年齡', \n",
    "    '車輛撞擊部位大類別名稱-最初', \n",
    "    '光線名稱', '道路類別-第1當事者-名稱',\n",
    "    '速限-第1當事者', '道路型態大類別名稱', '事故位置大類別名稱', \n",
    "    '號誌-號誌種類名稱', '車道劃分設施-分向設施大類別名稱', '車道劃分設施-分道設施-快車道或一般車道間名稱',\n",
    "    '車道劃分設施-分道設施-快慢車道間名稱', '車道劃分設施-分道設施-路面邊線名稱',\n",
    "    '事故類型及型態大類別名稱', '事故位置子類別名稱', '事故類型及型態子類別名稱', \n",
    "    '當事者行動狀態子類別名稱', '車輛撞擊部位子類別名稱-最初', '肇因研判子類別名稱-個別',\n",
    "    '當事者區分-類別-子類別名稱-車種', '保護裝備名稱', '行動電話或電腦或其他相類功能裝置名稱', \n",
    "    '當事者行動狀態大類別名稱', '車輛撞擊部位大類別名稱-其他', \n",
    "    '肇因研判大類別名稱-個別', '肇事逃逸類別名稱-是否肇逃', '路面狀況-路面鋪裝名稱', \n",
    "    # '車道劃分設施-分向設施子類別名稱', '道路障礙-障礙物名稱', '車輛撞擊部位子類別名稱-其他',\n",
    "\n",
    "    # '號誌-號誌動作名稱', '當事者區分-類別-大類別名稱-車種', '肇因研判大類別名稱-主要', # 降低預測值\n",
    "    # '道路障礙-視距名稱', '車道劃分設施-分道設施-快慢車道間名稱', '車輛撞擊部位大類別名稱-其他', # 降低預測值\n",
    "    # '道路型態子類別名稱', '路面狀況-路面缺陷名稱', '天候名稱' # 降低\n",
    "]\n",
    "\n",
    "full_combine_X, full_combine_y = get_clusterN_logit(full_combine, lst_logit)\n",
    "full_0_X, full_0_y = get_clusterN_logit(full_0, lst_logit)\n",
    "full_1_X, full_1_y = get_clusterN_logit(full_1, lst_logit)\n",
    "full_2_X, full_2_y = get_clusterN_logit(full_2, lst_logit)\n",
    "full_out_X, full_out_y = get_clusterN_logit(full_out, lst_logit)\n",
    "\n",
    "print(full_combine_y.value_counts())\n",
    "print(full_out_y.value_counts())\n",
    "print(full_0_y.value_counts())\n",
    "print(full_1_y.value_counts())\n",
    "print(full_2_y.value_counts())"
   ]
  },
  {
   "cell_type": "markdown",
   "id": "1287481e-1196-4b5c-b117-2eea162a82f6",
   "metadata": {},
   "source": [
    "# Grid Search"
   ]
  },
  {
   "cell_type": "code",
   "execution_count": 13,
   "id": "79139d98-b35c-4392-becf-bc5c2527cc32",
   "metadata": {
    "tags": []
   },
   "outputs": [],
   "source": [
    "# lst_logit = [\n",
    "#     '路面狀況-路面狀態名稱', '當事者屬-性-別名稱', '當事者事故發生時年齡', \n",
    "#     '車輛撞擊部位大類別名稱-最初', \n",
    "#     '光線名稱', '道路類別-第1當事者-名稱',\n",
    "#     '速限-第1當事者', '道路型態大類別名稱', '事故位置大類別名稱', \n",
    "#     '號誌-號誌種類名稱', '車道劃分設施-分向設施大類別名稱', '車道劃分設施-分道設施-快車道或一般車道間名稱',\n",
    "#     '車道劃分設施-分道設施-快慢車道間名稱', '車道劃分設施-分道設施-路面邊線名稱',\n",
    "#     '事故類型及型態大類別名稱', '事故位置子類別名稱', '事故類型及型態子類別名稱', \n",
    "#     '當事者行動狀態子類別名稱', '車輛撞擊部位子類別名稱-最初', '肇因研判子類別名稱-個別',\n",
    "#     '當事者區分-類別-子類別名稱-車種', '保護裝備名稱', '行動電話或電腦或其他相類功能裝置名稱', \n",
    "#     '當事者行動狀態大類別名稱', '車輛撞擊部位大類別名稱-其他',\n",
    "#     '肇因研判大類別名稱-個別', '肇事逃逸類別名稱-是否肇逃', '路面狀況-路面鋪裝名稱',\n",
    "#     '車道劃分設施-分向設施子類別名稱', '道路障礙-障礙物名稱', '車輛撞擊部位子類別名稱-其他',\n",
    "    \n",
    "# ]\n",
    "\n",
    "# optional_features = [\n",
    "#     '號誌-號誌動作名稱', '當事者區分-類別-大類別名稱-車種', #'肇因研判大類別名稱-主要', # 降低預測值\n",
    "#     '道路障礙-視距名稱', '車道劃分設施-分道設施-快慢車道間名稱', '車輛撞擊部位大類別名稱-其他', # 降低預測值\n",
    "#     '道路型態子類別名稱', '路面狀況-路面缺陷名稱', '天候名稱' # 降低\n",
    "# ]\n",
    "\n",
    "# for i in range(len(optional_features)):\n",
    "#     # 每次迴圈加入一個新特徵\n",
    "#     current_lst_logit = lst_logit + [optional_features[i]]\n",
    "\n",
    "#     # 重新生成資料\n",
    "#     full_combine_X, full_combine_y = get_clusterN_logit(full_combine, current_lst_logit)\n",
    "#     full_0_X, full_0_y = get_clusterN_logit(full_0, current_lst_logit)\n",
    "#     full_1_X, full_1_y = get_clusterN_logit(full_1, current_lst_logit)\n",
    "#     full_2_X, full_2_y = get_clusterN_logit(full_2, current_lst_logit)\n",
    "#     full_out_X, full_out_y = get_clusterN_logit(full_out, current_lst_logit)\n",
    "\n",
    "#     start_time = time.time()\n",
    "#     matrix_0, score_0, cm_0 = logistic_cm_gridsearch(full_0_X, full_0_y)\n",
    "#     matrix_1, score_1, cm_1 = logistic_cm_gridsearch(full_1_X, full_1_y)\n",
    "#     matrix_2, score_2, cm_2 = logistic_cm_gridsearch(full_2_X, full_2_y)\n",
    "    \n",
    "#     # 輸出結果\n",
    "#     print(f\"特徵: {optional_features[i]}\")\n",
    "#     print(f\"Scores: {score_0}, {score_1}, {score_2}\")\n",
    "    \n",
    "#     end_time = time.time()\n",
    "#     elapsed_time = end_time - start_time\n",
    "#     print(f\"Elapsed Time: {elapsed_time} seconds\\n\")\n"
   ]
  },
  {
   "cell_type": "code",
   "execution_count": 143,
   "id": "3806a01c-a874-4421-b566-75195d1ee821",
   "metadata": {},
   "outputs": [],
   "source": [
    "# full_out.to_csv('CalculatedData/離群比較/拓墣V2_new.csv', index=False)"
   ]
  },
  {
   "cell_type": "code",
   "execution_count": 20,
   "id": "ebf19c17-456d-4050-955a-38b13fdb7ee5",
   "metadata": {
    "tags": []
   },
   "outputs": [
    {
     "name": "stdout",
     "output_type": "stream",
     "text": [
      "0.6 0.75\n",
      "25.610748767852783\n"
     ]
    }
   ],
   "source": [
    "start_time = time.time()\n",
    "matrix_combine, score_combine, cm_combine = logistic_cm_gridsearch(full_combine_X, full_combine_y)\n",
    "matrix_out, score_out, cm_out = logistic_cm_gridsearch(full_out_X, full_out_y)\n",
    "print(score_combine, score_out)\n",
    "end_time = time.time()\n",
    "elapsed_time = end_time - start_time\n",
    "print(elapsed_time)"
   ]
  },
  {
   "cell_type": "code",
   "execution_count": 21,
   "id": "bd58c06d-a799-41c8-8ba6-97fa5182bed3",
   "metadata": {},
   "outputs": [
    {
     "name": "stdout",
     "output_type": "stream",
     "text": [
      "0.6984126984126984 0.8 0.6521739130434783\n",
      "202.27635097503662\n"
     ]
    }
   ],
   "source": [
    "start_time = time.time()\n",
    "matrix_0, score_0, cm_0 = logistic_cm_gridsearch(full_0_X, full_0_y)\n",
    "matrix_1, score_1, cm_1 = logistic_cm_gridsearch(full_1_X, full_1_y)\n",
    "matrix_2, score_2, cm_2 = logistic_cm_gridsearch(full_2_X, full_2_y)\n",
    "print(score_0, score_1, score_2)\n",
    "end_time = time.time()\n",
    "elapsed_time = end_time - start_time\n",
    "print(elapsed_time)"
   ]
  },
  {
   "cell_type": "code",
   "execution_count": 22,
   "id": "287c0acb-bb03-49f0-827b-b14744231e24",
   "metadata": {},
   "outputs": [
    {
     "name": "stdout",
     "output_type": "stream",
     "text": [
      "     Label  Precision    Recall  F1 Score\n",
      "0  Class_0   0.714286  0.661376  0.686813\n",
      "1  Class_1   0.684729  0.735450  0.709184 \n",
      "\n",
      "      Label  Precision  Recall  F1 Score\n",
      "0  Class_0      0.875     0.7  0.777778\n",
      "1  Class_1      0.750     0.9  0.818182 \n",
      "\n",
      "      Label  Precision    Recall  F1 Score\n",
      "0  Class_0   0.705882  0.521739  0.600000\n",
      "1  Class_1   0.620690  0.782609  0.692308 \n",
      "\n",
      "      Label  Precision  Recall  F1 Score\n",
      "0  Class_0   1.000000     0.2  0.333333\n",
      "1  Class_1   0.555556     1.0  0.714286 \n",
      "\n",
      "      Label  Precision  Recall  F1 Score\n",
      "0  Class_0       0.75    0.75      0.75\n",
      "1  Class_1       0.75    0.75      0.75\n"
     ]
    }
   ],
   "source": [
    "print(matrix_0, '\\n\\n', matrix_1, '\\n\\n', matrix_2, '\\n\\n', matrix_combine, '\\n\\n', matrix_out)"
   ]
  },
  {
   "cell_type": "code",
   "execution_count": 48,
   "id": "8dc7a845-8289-4e47-8d7e-39e44571b147",
   "metadata": {},
   "outputs": [],
   "source": [
    "# np.savetxt('CalculatedData/V2準確資料/cm_combine.txt', cm_combine, fmt='%d')\n",
    "# np.savetxt('CalculatedData/V2準確資料/cm_out.txt', cm_out, fmt='%d')\n",
    "# np.savetxt('CalculatedData/V2準確資料/cm_0.txt', cm_0, fmt='%d')\n",
    "# np.savetxt('CalculatedData/V2準確資料/cm_1.txt', cm_1, fmt='%d')\n",
    "# np.savetxt('CalculatedData/V2準確資料/cm_2.txt', cm_2, fmt='%d')\n",
    "\n",
    "# np.savetxt('CalculatedData/V2準確資料/cm_origin.txt', cm_origin, fmt='%d')"
   ]
  },
  {
   "cell_type": "code",
   "execution_count": 140,
   "id": "dfd7b629-5d73-47d8-9771-00f9eb8bbb49",
   "metadata": {},
   "outputs": [
    {
     "name": "stdout",
     "output_type": "stream",
     "text": [
      "[[155  86]\n",
      " [ 58 183]]\n"
     ]
    }
   ],
   "source": [
    "print(cm_0 + cm_1 + cm_2 + cm_combine + cm_out)"
   ]
  },
  {
   "cell_type": "code",
   "execution_count": 40,
   "id": "8f00407e-a824-421f-887d-18b5e154c859",
   "metadata": {},
   "outputs": [
    {
     "data": {
      "text/html": [
       "<div>\n",
       "<style scoped>\n",
       "    .dataframe tbody tr th:only-of-type {\n",
       "        vertical-align: middle;\n",
       "    }\n",
       "\n",
       "    .dataframe tbody tr th {\n",
       "        vertical-align: top;\n",
       "    }\n",
       "\n",
       "    .dataframe thead th {\n",
       "        text-align: right;\n",
       "    }\n",
       "</style>\n",
       "<table border=\"1\" class=\"dataframe\">\n",
       "  <thead>\n",
       "    <tr style=\"text-align: right;\">\n",
       "      <th></th>\n",
       "      <th>Label</th>\n",
       "      <th>Precision</th>\n",
       "      <th>Recall</th>\n",
       "      <th>F1 Score</th>\n",
       "    </tr>\n",
       "  </thead>\n",
       "  <tbody>\n",
       "    <tr>\n",
       "      <th>0</th>\n",
       "      <td>Class_0</td>\n",
       "      <td>0.727700</td>\n",
       "      <td>0.643154</td>\n",
       "      <td>0.682819</td>\n",
       "    </tr>\n",
       "    <tr>\n",
       "      <th>1</th>\n",
       "      <td>Class_1</td>\n",
       "      <td>0.680297</td>\n",
       "      <td>0.759336</td>\n",
       "      <td>0.717647</td>\n",
       "    </tr>\n",
       "  </tbody>\n",
       "</table>\n",
       "</div>"
      ],
      "text/plain": [
       "     Label  Precision    Recall  F1 Score\n",
       "0  Class_0   0.727700  0.643154  0.682819\n",
       "1  Class_1   0.680297  0.759336  0.717647"
      ]
     },
     "execution_count": 40,
     "metadata": {},
     "output_type": "execute_result"
    }
   ],
   "source": [
    "conf_matrix = cm_0 + cm_1 + cm_2 + cm_combine + cm_out\n",
    "\n",
    "y_test, y_pred = [], []\n",
    "for i in range(len(conf_matrix)):\n",
    "    for j in range(len(conf_matrix[i])):\n",
    "        y_test.extend([i] * conf_matrix[i][j])\n",
    "        y_pred.extend([j] * conf_matrix[i][j])\n",
    "\n",
    "accuracy = accuracy_score(y_test, y_pred)\n",
    "precision = precision_score(y_test, y_pred, average=None, zero_division=0)\n",
    "recall = recall_score(y_test, y_pred, average=None)\n",
    "f1 = f1_score(y_test, y_pred, average=None)\n",
    "\n",
    "metrics_df = pd.DataFrame({\n",
    "    'Label': [f'Class_{i}' for i in range(len(precision))],\n",
    "    'Precision': precision,\n",
    "    'Recall': recall,\n",
    "    'F1 Score': f1\n",
    "})\n",
    "metrics_df"
   ]
  },
  {
   "cell_type": "markdown",
   "id": "db96939c-bf44-43b2-8964-2a3b3403df5e",
   "metadata": {},
   "source": [
    "### Mapper logistic總平均和評估指標"
   ]
  },
  {
   "cell_type": "code",
   "execution_count": 42,
   "id": "3d446821-c7c6-4a06-a3e4-194ec145e42c",
   "metadata": {},
   "outputs": [
    {
     "name": "stdout",
     "output_type": "stream",
     "text": [
      "0.7012448132780081\n"
     ]
    }
   ],
   "source": [
    "de = np.sum(cm_0 + cm_1 + cm_2 + cm_combine + cm_out)\n",
    "logit_avg_score = (np.sum(cm_0)/de)*score_0 + (np.sum(cm_1)/de)*score_1 + (np.sum(cm_2)/de)*score_2 + (np.sum(cm_combine)/de)*score_combine + (np.sum(cm_out)/de)*score_out\n",
    "print(logit_avg_score)"
   ]
  },
  {
   "cell_type": "markdown",
   "id": "f7dea203-3dd0-4a3e-9547-9154e3dd8d44",
   "metadata": {},
   "source": [
    "### 原始logistic方法總平均和評估指標"
   ]
  },
  {
   "cell_type": "code",
   "execution_count": 23,
   "id": "8968f801-0ce1-4663-a8b4-2682b4aaceb7",
   "metadata": {},
   "outputs": [
    {
     "name": "stdout",
     "output_type": "stream",
     "text": [
      "0.686046511627907\n",
      "212.16156220436096\n"
     ]
    }
   ],
   "source": [
    "origin_X, origin_y = get_clusterN_logit(rbind_data, lst_logit)\n",
    "\n",
    "start_time = time.time()\n",
    "\n",
    "matrix_origin, score_origin, cm_origin = logistic_cm_gridsearch(origin_X, origin_y)\n",
    "print(score_origin)\n",
    "\n",
    "end_time = time.time()\n",
    "elapsed_time = end_time - start_time\n",
    "print(elapsed_time)"
   ]
  },
  {
   "cell_type": "code",
   "execution_count": 24,
   "id": "daedad54-5669-400b-a7ec-08cc62a4066b",
   "metadata": {},
   "outputs": [
    {
     "name": "stdout",
     "output_type": "stream",
     "text": [
      "     Label  Precision    Recall  F1 Score\n",
      "0  Class_0   0.685185  0.688372  0.686775\n",
      "1  Class_1   0.686916  0.683721  0.685315 \n",
      "\n",
      " [[148  67]\n",
      " [ 68 147]]\n"
     ]
    }
   ],
   "source": [
    "print(matrix_origin, '\\n\\n', cm_origin)"
   ]
  },
  {
   "cell_type": "code",
   "execution_count": 72,
   "id": "661f1b3a-bff6-4158-88fb-4a1fbbd8bfb4",
   "metadata": {},
   "outputs": [
    {
     "name": "stdout",
     "output_type": "stream",
     "text": [
      "TDA\n",
      "[[155  86]\n",
      " [ 58 183]]\n",
      "     Label  Precision    Recall  F1 Score\n",
      "0  Class_0   0.727700  0.643154  0.682819\n",
      "1  Class_1   0.680297  0.759336  0.717647\n",
      "Origin\n",
      "[[148  67]\n",
      " [ 68 147]]\n",
      "     Label  Precision    Recall  F1 Score\n",
      "0  Class_0   0.685185  0.688372  0.686775\n",
      "1  Class_1   0.686916  0.683721  0.685315\n"
     ]
    }
   ],
   "source": [
    "print('TDA')\n",
    "print(cm_0 + cm_1 + cm_2 + cm_combine + cm_out)\n",
    "print(metrics_df)\n",
    "print('Origin')\n",
    "print(cm_origin)\n",
    "print(matrix_origin)"
   ]
  },
  {
   "cell_type": "markdown",
   "id": "7f88b481-1caa-4460-a678-37173da55262",
   "metadata": {},
   "source": [
    "# SVM"
   ]
  },
  {
   "cell_type": "code",
   "execution_count": 29,
   "id": "06a3e01b-e736-48ae-bd3d-ea2cd85df1c7",
   "metadata": {},
   "outputs": [
    {
     "name": "stderr",
     "output_type": "stream",
     "text": [
      "/Users/wangqiqian/opt/anaconda3/lib/python3.9/site-packages/sklearn/svm/_base.py:1250: ConvergenceWarning:\n",
      "\n",
      "Liblinear failed to converge, increase the number of iterations.\n",
      "\n",
      "/Users/wangqiqian/opt/anaconda3/lib/python3.9/site-packages/sklearn/svm/_base.py:1250: ConvergenceWarning:\n",
      "\n",
      "Liblinear failed to converge, increase the number of iterations.\n",
      "\n",
      "/Users/wangqiqian/opt/anaconda3/lib/python3.9/site-packages/sklearn/svm/_base.py:1250: ConvergenceWarning:\n",
      "\n",
      "Liblinear failed to converge, increase the number of iterations.\n",
      "\n"
     ]
    },
    {
     "name": "stdout",
     "output_type": "stream",
     "text": [
      "0.5 0.75\n",
      "7.847566843032837\n"
     ]
    }
   ],
   "source": [
    "start_time = time.time()\n",
    "\n",
    "matrix_combine_svm, score_combine_svm, cm_combine_svm = svc_cm_with_grid_search(full_combine_X,  full_combine_y)\n",
    "matrix_out_svm, score_out_svm, cm_out_svm = svc_cm_with_grid_search(full_out_X,  full_out_y)\n",
    "print(score_combine_svm, score_out_svm)\n",
    "\n",
    "end_time = time.time()\n",
    "elapsed_time = end_time - start_time\n",
    "print(elapsed_time)"
   ]
  },
  {
   "cell_type": "code",
   "execution_count": 43,
   "id": "811aa39b-9260-44e0-8de1-d6f7c4b22cf6",
   "metadata": {},
   "outputs": [
    {
     "data": {
      "text/plain": [
       "array([[1, 4],\n",
       "       [1, 4]])"
      ]
     },
     "execution_count": 43,
     "metadata": {},
     "output_type": "execute_result"
    }
   ],
   "source": [
    "cm_combine_svm"
   ]
  },
  {
   "cell_type": "code",
   "execution_count": 44,
   "id": "4ffd7989-2cbf-4f02-9029-669c3ba6658c",
   "metadata": {},
   "outputs": [
    {
     "data": {
      "text/plain": [
       "array([[3, 1],\n",
       "       [1, 3]])"
      ]
     },
     "execution_count": 44,
     "metadata": {},
     "output_type": "execute_result"
    }
   ],
   "source": [
    "cm_out_svm"
   ]
  },
  {
   "cell_type": "code",
   "execution_count": 32,
   "id": "1ade01aa-dfa7-456d-8edf-65bd9f6461d0",
   "metadata": {
    "collapsed": true,
    "jupyter": {
     "outputs_hidden": true
    },
    "tags": []
   },
   "outputs": [
    {
     "name": "stderr",
     "output_type": "stream",
     "text": [
      "/Users/wangqiqian/opt/anaconda3/lib/python3.9/site-packages/sklearn/svm/_base.py:1250: ConvergenceWarning:\n",
      "\n",
      "Liblinear failed to converge, increase the number of iterations.\n",
      "\n",
      "/Users/wangqiqian/opt/anaconda3/lib/python3.9/site-packages/sklearn/svm/_base.py:1250: ConvergenceWarning:\n",
      "\n",
      "Liblinear failed to converge, increase the number of iterations.\n",
      "\n",
      "/Users/wangqiqian/opt/anaconda3/lib/python3.9/site-packages/sklearn/svm/_base.py:1250: ConvergenceWarning:\n",
      "\n",
      "Liblinear failed to converge, increase the number of iterations.\n",
      "\n",
      "/Users/wangqiqian/opt/anaconda3/lib/python3.9/site-packages/sklearn/svm/_base.py:1250: ConvergenceWarning:\n",
      "\n",
      "Liblinear failed to converge, increase the number of iterations.\n",
      "\n",
      "/Users/wangqiqian/opt/anaconda3/lib/python3.9/site-packages/sklearn/svm/_base.py:1250: ConvergenceWarning:\n",
      "\n",
      "Liblinear failed to converge, increase the number of iterations.\n",
      "\n",
      "/Users/wangqiqian/opt/anaconda3/lib/python3.9/site-packages/sklearn/svm/_base.py:1250: ConvergenceWarning:\n",
      "\n",
      "Liblinear failed to converge, increase the number of iterations.\n",
      "\n"
     ]
    },
    {
     "name": "stdout",
     "output_type": "stream",
     "text": [
      "0\n"
     ]
    },
    {
     "name": "stderr",
     "output_type": "stream",
     "text": [
      "/Users/wangqiqian/opt/anaconda3/lib/python3.9/site-packages/sklearn/svm/_base.py:1250: ConvergenceWarning:\n",
      "\n",
      "Liblinear failed to converge, increase the number of iterations.\n",
      "\n",
      "/Users/wangqiqian/opt/anaconda3/lib/python3.9/site-packages/sklearn/svm/_base.py:1250: ConvergenceWarning:\n",
      "\n",
      "Liblinear failed to converge, increase the number of iterations.\n",
      "\n",
      "/Users/wangqiqian/opt/anaconda3/lib/python3.9/site-packages/sklearn/svm/_base.py:1250: ConvergenceWarning:\n",
      "\n",
      "Liblinear failed to converge, increase the number of iterations.\n",
      "\n",
      "/Users/wangqiqian/opt/anaconda3/lib/python3.9/site-packages/sklearn/svm/_base.py:1250: ConvergenceWarning:\n",
      "\n",
      "Liblinear failed to converge, increase the number of iterations.\n",
      "\n"
     ]
    },
    {
     "name": "stdout",
     "output_type": "stream",
     "text": [
      "1\n",
      "2\n",
      "0.6825396825396826 0.85 0.6304347826086957\n",
      "3671.2984499931335\n"
     ]
    },
    {
     "name": "stderr",
     "output_type": "stream",
     "text": [
      "/Users/wangqiqian/opt/anaconda3/lib/python3.9/site-packages/sklearn/svm/_base.py:1250: ConvergenceWarning:\n",
      "\n",
      "Liblinear failed to converge, increase the number of iterations.\n",
      "\n"
     ]
    }
   ],
   "source": [
    "start_time = time.time()\n",
    "\n",
    "matrix_0_svm, score_0_svm, cm_0_svm = svc_cm_with_grid_search(full_0_X, full_0_y)\n",
    "print('0')\n",
    "matrix_1_svm, score_1_svm, cm_1_svm = svc_cm_with_grid_search(full_1_X, full_1_y)\n",
    "print('1')\n",
    "matrix_2_svm, score_2_svm, cm_2_svm = svc_cm_with_grid_search(full_2_X, full_2_y)\n",
    "print('2')\n",
    "\n",
    "print(score_0_svm, score_1_svm, score_2_svm)\n",
    "end_time = time.time()\n",
    "elapsed_time = end_time - start_time\n",
    "print(elapsed_time)"
   ]
  },
  {
   "cell_type": "code",
   "execution_count": 33,
   "id": "fc6d85a2-2b0d-4166-948a-37c3faf819c3",
   "metadata": {},
   "outputs": [
    {
     "name": "stdout",
     "output_type": "stream",
     "text": [
      "[[123  66]\n",
      " [ 54 135]] \n",
      " [[16  4]\n",
      " [ 2 18]] \n",
      " [[14  9]\n",
      " [ 8 15]]\n"
     ]
    }
   ],
   "source": [
    "print(cm_0_svm, '\\n', cm_1_svm, '\\n', cm_2_svm)"
   ]
  },
  {
   "cell_type": "code",
   "execution_count": 34,
   "id": "890692b4-bb24-42e1-addb-71bd73a36f46",
   "metadata": {},
   "outputs": [
    {
     "name": "stdout",
     "output_type": "stream",
     "text": [
      "[[153  79]\n",
      " [ 64 168]]\n"
     ]
    }
   ],
   "source": [
    "print(cm_0_svm + cm_1_svm + cm_2_svm)"
   ]
  },
  {
   "cell_type": "markdown",
   "id": "e98f2a32-d75e-4f5a-9cce-b631cb006bc3",
   "metadata": {},
   "source": [
    "### Mapper svm總平均和評估指標"
   ]
  },
  {
   "cell_type": "code",
   "execution_count": 45,
   "id": "a9667ece-fb33-43ec-9f08-8b9058c4ac51",
   "metadata": {},
   "outputs": [
    {
     "name": "stdout",
     "output_type": "stream",
     "text": [
      "     Label  Precision    Recall  F1 Score\n",
      "0  Class_0   0.694915  0.650794  0.672131\n",
      "1  Class_1   0.671642  0.714286  0.692308 \n",
      "\n",
      "      Label  Precision  Recall  F1 Score\n",
      "0  Class_0   0.888889     0.8  0.842105\n",
      "1  Class_1   0.818182     0.9  0.857143 \n",
      "\n",
      "      Label  Precision    Recall  F1 Score\n",
      "0  Class_0   0.636364  0.608696  0.622222\n",
      "1  Class_1   0.625000  0.652174  0.638298\n"
     ]
    }
   ],
   "source": [
    "print(matrix_0_svm, '\\n\\n', matrix_1_svm, '\\n\\n', matrix_2_svm)"
   ]
  },
  {
   "cell_type": "code",
   "execution_count": 36,
   "id": "fd6f3703-0123-41fa-98ea-85ad12d7b902",
   "metadata": {},
   "outputs": [
    {
     "name": "stdout",
     "output_type": "stream",
     "text": [
      "0.6887966804979252\n"
     ]
    }
   ],
   "source": [
    "de = np.sum(cm_0_svm + cm_1_svm + cm_2_svm + cm_combine_svm + cm_out_svm)\n",
    "logit_avg_score = (np.sum(cm_0_svm)/de)*score_0_svm + (np.sum(cm_1_svm)/de)*score_1_svm + (np.sum(cm_2_svm)/de)*score_2_svm + (np.sum(cm_combine_svm)/de)*score_combine_svm + (np.sum(cm_out_svm)/de)*score_out_svm\n",
    "print(logit_avg_score)"
   ]
  },
  {
   "cell_type": "code",
   "execution_count": 73,
   "id": "6bd337ea-8542-4f09-a8e4-6250e980636d",
   "metadata": {
    "tags": []
   },
   "outputs": [
    {
     "name": "stderr",
     "output_type": "stream",
     "text": [
      "/Users/wangqiqian/opt/anaconda3/lib/python3.9/site-packages/sklearn/svm/_base.py:1250: ConvergenceWarning:\n",
      "\n",
      "Liblinear failed to converge, increase the number of iterations.\n",
      "\n",
      "/Users/wangqiqian/opt/anaconda3/lib/python3.9/site-packages/sklearn/svm/_base.py:1250: ConvergenceWarning:\n",
      "\n",
      "Liblinear failed to converge, increase the number of iterations.\n",
      "\n",
      "/Users/wangqiqian/opt/anaconda3/lib/python3.9/site-packages/sklearn/svm/_base.py:1250: ConvergenceWarning:\n",
      "\n",
      "Liblinear failed to converge, increase the number of iterations.\n",
      "\n",
      "/Users/wangqiqian/opt/anaconda3/lib/python3.9/site-packages/sklearn/svm/_base.py:1250: ConvergenceWarning:\n",
      "\n",
      "Liblinear failed to converge, increase the number of iterations.\n",
      "\n",
      "/Users/wangqiqian/opt/anaconda3/lib/python3.9/site-packages/sklearn/svm/_base.py:1250: ConvergenceWarning:\n",
      "\n",
      "Liblinear failed to converge, increase the number of iterations.\n",
      "\n"
     ]
    },
    {
     "name": "stdout",
     "output_type": "stream",
     "text": [
      "0.6883720930232559\n",
      "4749.776369094849\n"
     ]
    },
    {
     "name": "stderr",
     "output_type": "stream",
     "text": [
      "/Users/wangqiqian/opt/anaconda3/lib/python3.9/site-packages/sklearn/svm/_base.py:1250: ConvergenceWarning:\n",
      "\n",
      "Liblinear failed to converge, increase the number of iterations.\n",
      "\n"
     ]
    }
   ],
   "source": [
    "origin_X, origin_y = get_clusterN_logit(rbind_data, lst_logit)\n",
    "\n",
    "start_time = time.time()\n",
    "\n",
    "matrix_origin_svm, score_origin_svm, cm_origin_svm = svc_cm_with_grid_search(origin_X, origin_y)\n",
    "print(score_origin_svm)\n",
    "\n",
    "end_time = time.time()\n",
    "elapsed_time = end_time - start_time\n",
    "print(elapsed_time)"
   ]
  },
  {
   "cell_type": "markdown",
   "id": "73e201de-ad67-4da0-9a61-897835eda29c",
   "metadata": {},
   "source": [
    "### 原始svm方法總平均和評估指標"
   ]
  },
  {
   "cell_type": "code",
   "execution_count": 74,
   "id": "9d054a80-669b-4b0e-95b5-69ded494dd2f",
   "metadata": {},
   "outputs": [
    {
     "data": {
      "text/html": [
       "<div>\n",
       "<style scoped>\n",
       "    .dataframe tbody tr th:only-of-type {\n",
       "        vertical-align: middle;\n",
       "    }\n",
       "\n",
       "    .dataframe tbody tr th {\n",
       "        vertical-align: top;\n",
       "    }\n",
       "\n",
       "    .dataframe thead th {\n",
       "        text-align: right;\n",
       "    }\n",
       "</style>\n",
       "<table border=\"1\" class=\"dataframe\">\n",
       "  <thead>\n",
       "    <tr style=\"text-align: right;\">\n",
       "      <th></th>\n",
       "      <th>Label</th>\n",
       "      <th>Precision</th>\n",
       "      <th>Recall</th>\n",
       "      <th>F1 Score</th>\n",
       "    </tr>\n",
       "  </thead>\n",
       "  <tbody>\n",
       "    <tr>\n",
       "      <th>0</th>\n",
       "      <td>Class_0</td>\n",
       "      <td>0.681614</td>\n",
       "      <td>0.706977</td>\n",
       "      <td>0.694064</td>\n",
       "    </tr>\n",
       "    <tr>\n",
       "      <th>1</th>\n",
       "      <td>Class_1</td>\n",
       "      <td>0.695652</td>\n",
       "      <td>0.669767</td>\n",
       "      <td>0.682464</td>\n",
       "    </tr>\n",
       "  </tbody>\n",
       "</table>\n",
       "</div>"
      ],
      "text/plain": [
       "     Label  Precision    Recall  F1 Score\n",
       "0  Class_0   0.681614  0.706977  0.694064\n",
       "1  Class_1   0.695652  0.669767  0.682464"
      ]
     },
     "execution_count": 74,
     "metadata": {},
     "output_type": "execute_result"
    }
   ],
   "source": [
    "matrix_origin_svm"
   ]
  },
  {
   "cell_type": "code",
   "execution_count": 75,
   "id": "0e32f37d-21fa-4c4a-9435-c7856f77a97c",
   "metadata": {},
   "outputs": [
    {
     "data": {
      "text/plain": [
       "0.6883720930232559"
      ]
     },
     "execution_count": 75,
     "metadata": {},
     "output_type": "execute_result"
    }
   ],
   "source": [
    "score_origin_svm"
   ]
  },
  {
   "cell_type": "code",
   "execution_count": 76,
   "id": "798eb403-c05c-4cbf-8fdf-a8080c2a7fd1",
   "metadata": {},
   "outputs": [
    {
     "data": {
      "text/plain": [
       "array([[152,  63],\n",
       "       [ 71, 144]])"
      ]
     },
     "execution_count": 76,
     "metadata": {},
     "output_type": "execute_result"
    }
   ],
   "source": [
    "cm_origin_svm"
   ]
  },
  {
   "cell_type": "code",
   "execution_count": 77,
   "id": "21b6640b-c344-4e4c-8885-997a2469d3fd",
   "metadata": {},
   "outputs": [],
   "source": [
    "np.savetxt('CalculatedData/V2準確資料/cm_combine_svm.txt', cm_combine_svm, fmt='%d')\n",
    "np.savetxt('CalculatedData/V2準確資料/cm_out_svm.txt', cm_out_svm, fmt='%d')\n",
    "np.savetxt('CalculatedData/V2準確資料/cm_0_svm.txt', cm_0_svm, fmt='%d')\n",
    "np.savetxt('CalculatedData/V2準確資料/cm_1_svm.txt', cm_1_svm, fmt='%d')\n",
    "np.savetxt('CalculatedData/V2準確資料/cm_2_svm.txt', cm_2_svm, fmt='%d')\n",
    "\n",
    "np.savetxt('CalculatedData/V2準確資料/cm_origin_svm.txt', cm_origin_svm, fmt='%d')"
   ]
  },
  {
   "cell_type": "code",
   "execution_count": 78,
   "id": "9794f142-c3a5-4841-ae95-800bb02cc15b",
   "metadata": {},
   "outputs": [
    {
     "data": {
      "text/html": [
       "<div>\n",
       "<style scoped>\n",
       "    .dataframe tbody tr th:only-of-type {\n",
       "        vertical-align: middle;\n",
       "    }\n",
       "\n",
       "    .dataframe tbody tr th {\n",
       "        vertical-align: top;\n",
       "    }\n",
       "\n",
       "    .dataframe thead th {\n",
       "        text-align: right;\n",
       "    }\n",
       "</style>\n",
       "<table border=\"1\" class=\"dataframe\">\n",
       "  <thead>\n",
       "    <tr style=\"text-align: right;\">\n",
       "      <th></th>\n",
       "      <th>Label</th>\n",
       "      <th>Precision</th>\n",
       "      <th>Recall</th>\n",
       "      <th>F1 Score</th>\n",
       "    </tr>\n",
       "  </thead>\n",
       "  <tbody>\n",
       "    <tr>\n",
       "      <th>0</th>\n",
       "      <td>Class_0</td>\n",
       "      <td>0.681614</td>\n",
       "      <td>0.706977</td>\n",
       "      <td>0.694064</td>\n",
       "    </tr>\n",
       "    <tr>\n",
       "      <th>1</th>\n",
       "      <td>Class_1</td>\n",
       "      <td>0.695652</td>\n",
       "      <td>0.669767</td>\n",
       "      <td>0.682464</td>\n",
       "    </tr>\n",
       "  </tbody>\n",
       "</table>\n",
       "</div>"
      ],
      "text/plain": [
       "     Label  Precision    Recall  F1 Score\n",
       "0  Class_0   0.681614  0.706977  0.694064\n",
       "1  Class_1   0.695652  0.669767  0.682464"
      ]
     },
     "execution_count": 78,
     "metadata": {},
     "output_type": "execute_result"
    }
   ],
   "source": [
    "matrix_origin_svm"
   ]
  },
  {
   "cell_type": "markdown",
   "id": "3b3ca93e-6472-4e0e-8276-65b214f327c7",
   "metadata": {},
   "source": [
    "# Get all data"
   ]
  },
  {
   "cell_type": "code",
   "execution_count": 24,
   "id": "bc6ec643-39d4-4877-bc72-ab9169eef8a1",
   "metadata": {},
   "outputs": [],
   "source": [
    "cm_combine = np.loadtxt('CalculatedData/V2準確資料/cm_combine.txt', dtype=int)\n",
    "cm_out = np.loadtxt('CalculatedData/V2準確資料/cm_out.txt', dtype=int)\n",
    "cm_0 = np.loadtxt('CalculatedData/V2準確資料/cm_0.txt', dtype=int)\n",
    "cm_1 = np.loadtxt('CalculatedData/V2準確資料/cm_1.txt', dtype=int)\n",
    "cm_2 = np.loadtxt('CalculatedData/V2準確資料/cm_2.txt', dtype=int)\n",
    "cm_origin = np.loadtxt('CalculatedData/V2準確資料/cm_origin.txt', dtype=int)\n",
    "\n",
    "cm_combine_svm = np.loadtxt('CalculatedData/V2準確資料/cm_combine_svm.txt', dtype=int)\n",
    "cm_out_svm = np.loadtxt('CalculatedData/V2準確資料/cm_out_svm.txt', dtype=int)\n",
    "cm_0_svm = np.loadtxt('CalculatedData/V2準確資料/cm_0_svm.txt', dtype=int)\n",
    "cm_1_svm = np.loadtxt('CalculatedData/V2準確資料/cm_1_svm.txt', dtype=int)\n",
    "cm_2_svm = np.loadtxt('CalculatedData/V2準確資料/cm_2_svm.txt', dtype=int)\n",
    "cm_origin_svm = np.loadtxt('CalculatedData/V2準確資料/cm_origin_svm.txt', dtype=int)"
   ]
  },
  {
   "cell_type": "code",
   "execution_count": 25,
   "id": "25e3269e-94b5-4d2c-8499-9a6cbb207fff",
   "metadata": {},
   "outputs": [],
   "source": [
    "def get_matrix(conf_matrix):  \n",
    "    y_test, y_pred = [], []\n",
    "    for i in range(len(conf_matrix)):\n",
    "        for j in range(len(conf_matrix[i])):\n",
    "            y_test.extend([i] * conf_matrix[i][j])\n",
    "            y_pred.extend([j] * conf_matrix[i][j])\n",
    "\n",
    "    accuracy = accuracy_score(y_test, y_pred)\n",
    "    precision = precision_score(y_test, y_pred, average=None, zero_division=0)\n",
    "    recall = recall_score(y_test, y_pred, average=None)\n",
    "    f1 = f1_score(y_test, y_pred, average=None)\n",
    "\n",
    "    metrics_df = pd.DataFrame({\n",
    "        'Label': [f'Class_{i}' for i in range(len(precision))],\n",
    "        'Precision': precision,\n",
    "        'Recall': recall,\n",
    "        'F1 Score': f1\n",
    "    })\n",
    "    \n",
    "    return metrics_df"
   ]
  },
  {
   "cell_type": "markdown",
   "id": "84a847b8-ca5a-4108-9484-ad751c8a80d3",
   "metadata": {},
   "source": [
    "# Classification full inform"
   ]
  },
  {
   "cell_type": "code",
   "execution_count": 26,
   "id": "5fa3772c-7eca-4f5a-9801-48a1d2df7886",
   "metadata": {},
   "outputs": [
    {
     "name": "stdout",
     "output_type": "stream",
     "text": [
      "     Label  Precision  Recall  F1 Score\n",
      "0  Class_0       0.75    0.75      0.75\n",
      "1  Class_1       0.75    0.75      0.75\n",
      "     Label  Precision  Recall  F1 Score\n",
      "0  Class_0   1.000000     0.2  0.333333\n",
      "1  Class_1   0.555556     1.0  0.714286\n",
      "     Label  Precision    Recall  F1 Score\n",
      "0  Class_0   0.714286  0.661376  0.686813\n",
      "1  Class_1   0.684729  0.735450  0.709184\n",
      "     Label  Precision  Recall  F1 Score\n",
      "0  Class_0      0.875     0.7  0.777778\n",
      "1  Class_1      0.750     0.9  0.818182\n",
      "     Label  Precision    Recall  F1 Score\n",
      "0  Class_0   0.705882  0.521739  0.600000\n",
      "1  Class_1   0.620690  0.782609  0.692308\n"
     ]
    }
   ],
   "source": [
    "print(get_matrix(cm_out))\n",
    "print(get_matrix(cm_combine))\n",
    "print(get_matrix(cm_0))\n",
    "print(get_matrix(cm_1))\n",
    "print(get_matrix(cm_2))"
   ]
  },
  {
   "cell_type": "code",
   "execution_count": 27,
   "id": "e078385c-7a23-4830-81d2-f5eafe7425db",
   "metadata": {},
   "outputs": [
    {
     "name": "stdout",
     "output_type": "stream",
     "text": [
      "     Label  Precision  Recall  F1 Score\n",
      "0  Class_0       0.75    0.75      0.75\n",
      "1  Class_1       0.75    0.75      0.75\n",
      "     Label  Precision  Recall  F1 Score\n",
      "0  Class_0        0.5     0.2  0.285714\n",
      "1  Class_1        0.5     0.8  0.615385\n",
      "     Label  Precision    Recall  F1 Score\n",
      "0  Class_0   0.694915  0.650794  0.672131\n",
      "1  Class_1   0.671642  0.714286  0.692308\n",
      "     Label  Precision  Recall  F1 Score\n",
      "0  Class_0   0.888889     0.8  0.842105\n",
      "1  Class_1   0.818182     0.9  0.857143\n",
      "     Label  Precision    Recall  F1 Score\n",
      "0  Class_0   0.636364  0.608696  0.622222\n",
      "1  Class_1   0.625000  0.652174  0.638298\n"
     ]
    }
   ],
   "source": [
    "print(get_matrix(cm_out_svm))\n",
    "print(get_matrix(cm_combine_svm))\n",
    "print(get_matrix(cm_0_svm))\n",
    "print(get_matrix(cm_1_svm))\n",
    "print(get_matrix(cm_2_svm))"
   ]
  },
  {
   "cell_type": "code",
   "execution_count": 28,
   "id": "75777399-32a5-469a-92cb-5646733dcdff",
   "metadata": {},
   "outputs": [
    {
     "name": "stdout",
     "output_type": "stream",
     "text": [
      "     Label  Precision    Recall  F1 Score\n",
      "0  Class_0   0.727700  0.643154  0.682819\n",
      "1  Class_1   0.680297  0.759336  0.717647\n",
      "     Label  Precision    Recall  F1 Score\n",
      "0  Class_0   0.704036  0.651452  0.676724\n",
      "1  Class_1   0.675676  0.726141  0.700000\n",
      "     Label  Precision    Recall  F1 Score\n",
      "0  Class_0   0.685185  0.688372  0.686775\n",
      "1  Class_1   0.686916  0.683721  0.685315\n",
      "     Label  Precision    Recall  F1 Score\n",
      "0  Class_0   0.681614  0.706977  0.694064\n",
      "1  Class_1   0.695652  0.669767  0.682464\n"
     ]
    }
   ],
   "source": [
    "print(get_matrix(cm_out + cm_combine + cm_0 + cm_1 + cm_2))\n",
    "print(get_matrix(cm_out_svm + cm_combine_svm + cm_0_svm + cm_1_svm + cm_2_svm))\n",
    "print(get_matrix(cm_origin))\n",
    "print(get_matrix(cm_origin_svm))"
   ]
  },
  {
   "cell_type": "code",
   "execution_count": 29,
   "id": "8b50145e-1e4c-4fac-a82f-c95da44a196f",
   "metadata": {},
   "outputs": [
    {
     "name": "stdout",
     "output_type": "stream",
     "text": [
      "[[148  67]\n",
      " [ 68 147]]\n",
      "[[152  63]\n",
      " [ 71 144]]\n"
     ]
    }
   ],
   "source": [
    "print(cm_origin)\n",
    "print(cm_origin_svm)"
   ]
  },
  {
   "cell_type": "code",
   "execution_count": 30,
   "id": "5acd9921-e96b-4b8e-bd5d-95dc402475fc",
   "metadata": {},
   "outputs": [
    {
     "name": "stdout",
     "output_type": "stream",
     "text": [
      "[[155  86]\n",
      " [ 58 183]]\n",
      "[[157  84]\n",
      " [ 66 175]]\n"
     ]
    }
   ],
   "source": [
    "mapper_logistic = cm_combine + cm_out + cm_0 + cm_1 + cm_2\n",
    "mapper_svm = cm_combine_svm + cm_out_svm + cm_0_svm + cm_1_svm + cm_2_svm\n",
    "\n",
    "print(mapper_logistic)\n",
    "print(mapper_svm)"
   ]
  },
  {
   "cell_type": "code",
   "execution_count": 31,
   "id": "aaf72237-a888-47cc-9f87-89ad0f5c7469",
   "metadata": {},
   "outputs": [
    {
     "data": {
      "text/html": [
       "<div>\n",
       "<style scoped>\n",
       "    .dataframe tbody tr th:only-of-type {\n",
       "        vertical-align: middle;\n",
       "    }\n",
       "\n",
       "    .dataframe tbody tr th {\n",
       "        vertical-align: top;\n",
       "    }\n",
       "\n",
       "    .dataframe thead th {\n",
       "        text-align: right;\n",
       "    }\n",
       "</style>\n",
       "<table border=\"1\" class=\"dataframe\">\n",
       "  <thead>\n",
       "    <tr style=\"text-align: right;\">\n",
       "      <th></th>\n",
       "      <th>Label</th>\n",
       "      <th>Precision</th>\n",
       "      <th>Recall</th>\n",
       "      <th>F1 Score</th>\n",
       "    </tr>\n",
       "  </thead>\n",
       "  <tbody>\n",
       "    <tr>\n",
       "      <th>0</th>\n",
       "      <td>Class_0</td>\n",
       "      <td>0.727700</td>\n",
       "      <td>0.643154</td>\n",
       "      <td>0.682819</td>\n",
       "    </tr>\n",
       "    <tr>\n",
       "      <th>1</th>\n",
       "      <td>Class_1</td>\n",
       "      <td>0.680297</td>\n",
       "      <td>0.759336</td>\n",
       "      <td>0.717647</td>\n",
       "    </tr>\n",
       "  </tbody>\n",
       "</table>\n",
       "</div>"
      ],
      "text/plain": [
       "     Label  Precision    Recall  F1 Score\n",
       "0  Class_0   0.727700  0.643154  0.682819\n",
       "1  Class_1   0.680297  0.759336  0.717647"
      ]
     },
     "execution_count": 31,
     "metadata": {},
     "output_type": "execute_result"
    }
   ],
   "source": [
    "TP = mapper_logistic[0, 0]\n",
    "FP = mapper_logistic[0, 1]\n",
    "FN = mapper_logistic[1, 0]\n",
    "TN = mapper_logistic[1, 1]\n",
    "\n",
    "# Manually constructing the predicted and actual values based on the confusion matrix\n",
    "y_true = [0] * (TP + FP) + [1] * (FN + TN)\n",
    "y_pred = [0] * TP + [1] * FP + [0] * FN + [1] * TN\n",
    "\n",
    "# Calculating the precision, recall, f1 score and accuracy using scikit-learn\n",
    "precision = precision_score(y_true, y_pred, average=None, zero_division=0)\n",
    "recall = recall_score(y_true, y_pred, average=None)\n",
    "f1 = f1_score(y_true, y_pred, average=None)\n",
    "\n",
    "metrics_df = pd.DataFrame({\n",
    "    'Label': [f'Class_{i}' for i in range(len(precision))],\n",
    "    'Precision': precision,\n",
    "    'Recall': recall,\n",
    "    'F1 Score': f1\n",
    "})\n",
    "\n",
    "metrics_df"
   ]
  },
  {
   "cell_type": "code",
   "execution_count": 32,
   "id": "005776a9-bc5a-4151-aa9b-3c85849bed03",
   "metadata": {},
   "outputs": [],
   "source": [
    "def get_acc(cm):\n",
    "    accuracy = (cm[0, 0] + cm[1, 1]) / np.sum(cm)\n",
    "    return accuracy\n",
    "\n",
    "score_origin = get_acc(cm_origin)\n",
    "score_origin_svm = get_acc(cm_origin_svm)"
   ]
  },
  {
   "cell_type": "code",
   "execution_count": 33,
   "id": "c16741be-ad26-4f2e-91a5-68eee1898132",
   "metadata": {},
   "outputs": [
    {
     "name": "stdout",
     "output_type": "stream",
     "text": [
      "0.7012448132780081\n",
      "0.6887966804979252\n"
     ]
    }
   ],
   "source": [
    "de = np.sum(cm_0 + cm_1 + cm_2 + cm_combine + cm_out)\n",
    "logit_avg_score = (np.sum(cm_0)/de)*get_acc(cm_0) + (np.sum(cm_1)/de)*get_acc(cm_1) + (np.sum(cm_2)/de)*get_acc(cm_2) + (np.sum(cm_combine)/de)*get_acc(cm_combine) + (np.sum(cm_out)/de)*get_acc(cm_out)\n",
    "print(logit_avg_score)\n",
    "\n",
    "de = np.sum(cm_0_svm + cm_1_svm + cm_2_svm + cm_combine_svm + cm_out_svm)\n",
    "svm_avg_score = (np.sum(cm_0_svm)/de)*get_acc(cm_0_svm) + (np.sum(cm_1_svm)/de)*get_acc(cm_1_svm) + (np.sum(cm_2_svm)/de)*get_acc(cm_2_svm) + (np.sum(cm_combine_svm)/de)*get_acc(cm_combine_svm) + (np.sum(cm_out_svm)/de)*get_acc(cm_out_svm)\n",
    "print(svm_avg_score)"
   ]
  },
  {
   "cell_type": "code",
   "execution_count": 34,
   "id": "8d33e139-1928-4573-8f7b-f6b50068a402",
   "metadata": {},
   "outputs": [
    {
     "name": "stdout",
     "output_type": "stream",
     "text": [
      "     Label  Precision    Recall  F1 Score\n",
      "0  Class_0   0.727700  0.643154  0.682819\n",
      "1  Class_1   0.680297  0.759336  0.717647\n",
      "     Label  Precision    Recall  F1 Score\n",
      "0  Class_0   0.704036  0.651452  0.676724\n",
      "1  Class_1   0.675676  0.726141  0.700000\n",
      "     Label  Precision    Recall  F1 Score\n",
      "0  Class_0   0.685185  0.688372  0.686775\n",
      "1  Class_1   0.686916  0.683721  0.685315\n",
      "     Label  Precision    Recall  F1 Score\n",
      "0  Class_0   0.681614  0.706977  0.694064\n",
      "1  Class_1   0.695652  0.669767  0.682464\n"
     ]
    }
   ],
   "source": [
    "print(get_matrix(cm_out + cm_combine + cm_0 + cm_1 + cm_2))\n",
    "print(get_matrix(cm_out_svm + cm_combine_svm + cm_0_svm + cm_1_svm + cm_2_svm))\n",
    "print(get_matrix(cm_origin))\n",
    "print(get_matrix(cm_origin_svm))"
   ]
  },
  {
   "cell_type": "code",
   "execution_count": 107,
   "id": "68e8cc48-9af9-4ed7-ad30-95cf89c334fb",
   "metadata": {},
   "outputs": [
    {
     "data": {
      "image/png": "[encoded data removed]",
      "text/plain": [
       "<Figure size 864x576 with 1 Axes>"
      ]
     },
     "metadata": {
      "needs_background": "light"
     },
     "output_type": "display_data"
    }
   ],
   "source": [
    "from matplotlib import rcParams\n",
    "\n",
    "rcParams['font.sans-serif'] = ['DejaVu Sans']\n",
    "\n",
    "categories = ['Mapper', 'Origin']\n",
    "logit_scores = [0.759336, 0.683721]\n",
    "svm_scores = [0.726141, 0.669767]\n",
    "\n",
    "x = np.arange(len(categories))\n",
    "width = 0.35  \n",
    "\n",
    "fig, ax = plt.subplots(figsize=(12, 8))\n",
    "rects1 = ax.bar(x - width/2, logit_scores, width, label='Logit', color='skyblue')\n",
    "rects3 = ax.bar(x + width/2, svm_scores, width, label='SVM', color='orange')\n",
    "\n",
    "ax.grid(True, linestyle='--', alpha=0.7)\n",
    "\n",
    "ax.set_xlabel('Models', fontsize=14)\n",
    "ax.set_ylabel('Scores', fontsize=14)\n",
    "ax.set_title('Mapper vs Origin Recall Score', fontsize=16)\n",
    "ax.set_xticks(x)\n",
    "ax.set_xticklabels(categories, fontsize=12)\n",
    "ax.legend(loc='upper center', bbox_to_anchor=(0.5, -0.1), ncol=2, fontsize=12)\n",
    "\n",
    "def autolabel(rects):\n",
    "    for rect in rects:\n",
    "        height = rect.get_height()\n",
    "        ax.annotate(f'{height:.3f}',\n",
    "                    xy=(rect.get_x() + rect.get_width() / 2, height),\n",
    "                    xytext=(0, 3),\n",
    "                    textcoords=\"offset points\",\n",
    "                    ha='center', va='bottom',\n",
    "                    fontsize=12)\n",
    "\n",
    "autolabel(rects1)\n",
    "autolabel(rects3)\n",
    "\n",
    "fig.tight_layout()\n",
    "\n",
    "plt.show()\n",
    "\n",
    "fig.savefig('CalculatedData/道路分析V2_recall.png', bbox_inches='tight')"
   ]
  },
  {
   "cell_type": "code",
   "execution_count": 106,
   "id": "1817d43f-b151-4d0a-8b46-2175aa9bcdf8",
   "metadata": {},
   "outputs": [
    {
     "name": "stdout",
     "output_type": "stream",
     "text": [
      "0.7012448132780081\n",
      "0.6887966804979252\n",
      "0.686046511627907\n",
      "0.6883720930232559\n"
     ]
    }
   ],
   "source": [
    "print(logit_avg_score)\n",
    "print(svm_avg_score)\n",
    "print(score_origin)\n",
    "print(score_origin_svm)"
   ]
  },
  {
   "cell_type": "code",
   "execution_count": 101,
   "id": "9e5688a6-d4c6-4a7a-a204-8b3c70222a80",
   "metadata": {},
   "outputs": [
    {
     "data": {
      "image/png": "[encoded data removed]",
      "text/plain": [
       "<Figure size 864x576 with 1 Axes>"
      ]
     },
     "metadata": {
      "needs_background": "light"
     },
     "output_type": "display_data"
    }
   ],
   "source": [
    "from matplotlib import rcParams\n",
    "\n",
    "rcParams['font.sans-serif'] = ['DejaVu Sans']\n",
    "\n",
    "categories = ['Mapper', 'Origin']\n",
    "logit_scores = [logit_avg_score, score_origin]\n",
    "svm_scores = [svm_avg_score, score_origin_svm]\n",
    "\n",
    "x = np.arange(len(categories))\n",
    "width = 0.35  \n",
    "\n",
    "fig, ax = plt.subplots(figsize=(12, 8))  # 设置图像大小\n",
    "rects1 = ax.bar(x - width/2, logit_scores, width, label='Logit', color='skyblue')\n",
    "rects3 = ax.bar(x + width/2, svm_scores, width, label='SVM', color='orange')\n",
    "\n",
    "# 添加网格线\n",
    "ax.grid(True, linestyle='--', alpha=0.7)\n",
    "\n",
    "ax.set_xlabel('Models', fontsize=14)\n",
    "ax.set_ylabel('Scores', fontsize=14)\n",
    "ax.set_title('Mapper vs Origin Recall Score', fontsize=16)\n",
    "ax.set_xticks(x)\n",
    "ax.set_xticklabels(categories, fontsize=12)\n",
    "ax.legend(loc='upper center', bbox_to_anchor=(0.5, -0.1), ncol=2, fontsize=12)\n",
    "\n",
    "def autolabel(rects):\n",
    "    for rect in rects:\n",
    "        height = rect.get_height()\n",
    "        ax.annotate(f'{height:.3f}',\n",
    "                    xy=(rect.get_x() + rect.get_width() / 2, height),\n",
    "                    xytext=(0, 3),\n",
    "                    textcoords=\"offset points\",\n",
    "                    ha='center', va='bottom',\n",
    "                    fontsize=12)\n",
    "\n",
    "autolabel(rects1)\n",
    "autolabel(rects3)\n",
    "\n",
    "fig.tight_layout()\n",
    "\n",
    "plt.show()\n",
    "\n",
    "fig.savefig('CalculatedData/道路分析.png', bbox_inches='tight')"
   ]
  },
  {
   "cell_type": "markdown",
   "id": "08e3ae67-f1db-401a-8c89-1feb7c4d6c46",
   "metadata": {},
   "source": [
    "# 顯著特徵"
   ]
  },
  {
   "cell_type": "code",
   "execution_count": 32,
   "id": "2784971f-c61e-4873-8c25-78f117bdcd21",
   "metadata": {},
   "outputs": [
    {
     "data": {
      "text/html": [
       "<div>\n",
       "<style scoped>\n",
       "    .dataframe tbody tr th:only-of-type {\n",
       "        vertical-align: middle;\n",
       "    }\n",
       "\n",
       "    .dataframe tbody tr th {\n",
       "        vertical-align: top;\n",
       "    }\n",
       "\n",
       "    .dataframe thead th {\n",
       "        text-align: right;\n",
       "    }\n",
       "</style>\n",
       "<table border=\"1\" class=\"dataframe\">\n",
       "  <thead>\n",
       "    <tr style=\"text-align: right;\">\n",
       "      <th></th>\n",
       "      <th>coefficients</th>\n",
       "      <th>standard_error</th>\n",
       "      <th>wald_statistics</th>\n",
       "      <th>p_value</th>\n",
       "      <th>feature</th>\n",
       "    </tr>\n",
       "  </thead>\n",
       "  <tbody>\n",
       "    <tr>\n",
       "      <th>光線名稱</th>\n",
       "      <td>5.028305</td>\n",
       "      <td>0.467947</td>\n",
       "      <td>10.745464</td>\n",
       "      <td>0.000000</td>\n",
       "      <td>光線名稱</td>\n",
       "    </tr>\n",
       "    <tr>\n",
       "      <th>事故位置大類別名稱</th>\n",
       "      <td>-0.978137</td>\n",
       "      <td>0.418579</td>\n",
       "      <td>-2.336806</td>\n",
       "      <td>0.019449</td>\n",
       "      <td>事故位置大類別名稱</td>\n",
       "    </tr>\n",
       "    <tr>\n",
       "      <th>道路型態大類別名稱</th>\n",
       "      <td>0.923925</td>\n",
       "      <td>0.441264</td>\n",
       "      <td>2.093816</td>\n",
       "      <td>0.036276</td>\n",
       "      <td>道路型態大類別名稱</td>\n",
       "    </tr>\n",
       "  </tbody>\n",
       "</table>\n",
       "</div>"
      ],
      "text/plain": [
       "           coefficients  standard_error  wald_statistics   p_value    feature\n",
       "光線名稱           5.028305        0.467947        10.745464  0.000000       光線名稱\n",
       "事故位置大類別名稱     -0.978137        0.418579        -2.336806  0.019449  事故位置大類別名稱\n",
       "道路型態大類別名稱      0.923925        0.441264         2.093816  0.036276  道路型態大類別名稱"
      ]
     },
     "execution_count": 32,
     "metadata": {},
     "output_type": "execute_result"
    }
   ],
   "source": [
    "lst_regression = [\n",
    "    '光線名稱',\n",
    "    '道路類別-第1當事者-名稱', \n",
    "    '速限-第1當事者', \n",
    "    '道路型態大類別名稱', '事故位置大類別名稱',\n",
    "    '號誌-號誌種類名稱',\n",
    "    '車道劃分設施-分向設施大類別名稱', '車道劃分設施-分道設施-快車道或一般車道間名稱',\n",
    "    '車道劃分設施-分道設施-快慢車道間名稱', '車道劃分設施-分道設施-路面邊線名稱',\n",
    "    '事故類型及型態大類別名稱',\n",
    "]\n",
    "\n",
    "X01, y01, p01 = pval(full_0, full_1, lst_regression)\n",
    "\n",
    "p01[p01['p_value'] < 0.05]"
   ]
  },
  {
   "cell_type": "code",
   "execution_count": 10,
   "id": "0783da52-2c60-42c9-bb9b-089c7bb9efb2",
   "metadata": {},
   "outputs": [],
   "source": [
    "def table(colnames, full_0, full_1, full_12):\n",
    "    \n",
    "    combined_df = pd.concat([full_0[colnames].value_counts(normalize = True), \n",
    "                             full_1[colnames].value_counts(normalize = True),\n",
    "                             full_12[colnames].value_counts(normalize = True)\n",
    "                            ],\n",
    "                            axis=1).fillna(0)\n",
    "\n",
    "    combined_df.columns = ['車與車、低速線', '人與車、低速限', '車與車、高速限']\n",
    "    \n",
    "    return combined_df"
   ]
  },
  {
   "cell_type": "code",
   "execution_count": 16,
   "id": "a83bc835-ef04-444a-a7b1-6c2ab0fada68",
   "metadata": {},
   "outputs": [
    {
     "name": "stdout",
     "output_type": "stream",
     "text": [
      "路面狀況-路面鋪裝名稱 \n",
      "       cluster1  cluster2  cluster12\n",
      "柏油    0.990546  0.979631   0.995943\n",
      "水泥    0.003902  0.006425   0.003296\n",
      "其他鋪裝  0.002889  0.011620   0.000507\n",
      "無鋪裝   0.002403  0.001914   0.000254\n",
      "碎石    0.000260  0.000410   0.000000\n",
      "路面狀況-路面狀態名稱 \n",
      "     cluster1  cluster2  cluster12\n",
      "乾燥  0.890932  0.830075   0.872465\n",
      "濕潤  0.106569  0.168694   0.126521\n",
      "泥濘  0.001142  0.000410   0.000254\n",
      "油滑  0.001035  0.000410   0.000254\n",
      "冰雪  0.000322  0.000410   0.000507\n",
      "路面狀況-路面缺陷名稱 \n",
      "           cluster1  cluster2  cluster12\n",
      "無缺陷       0.995160  0.997403   0.999239\n",
      "突出(高低)不平  0.002629  0.000957   0.000507\n",
      "有坑洞       0.001498  0.000820   0.000254\n",
      "路面鬆軟      0.000712  0.000820   0.000000\n",
      "道路障礙-障礙物名稱 \n",
      "           cluster1  cluster2  cluster12\n",
      "無障礙物      0.983506  0.977444   0.974391\n",
      "路上有停車     0.006293  0.010526   0.003043\n",
      "其他障礙物     0.004880  0.004238   0.011156\n",
      "道路工事(程)中  0.004744  0.005332   0.011156\n",
      "攤位、棚架     0.000390  0.002051   0.000000\n",
      "有堆積物      0.000187  0.000410   0.000254\n",
      "道路障礙-視距品質名稱 \n",
      "       cluster1  cluster2  cluster12\n",
      "無遮蔽物  0.985468  0.980861   0.994675\n",
      "有遮蔽物  0.014532  0.019139   0.005325\n",
      "道路障礙-視距名稱 \n",
      "         cluster1  cluster2  cluster12\n",
      "良好      0.985468  0.980861   0.994675\n",
      "路上停放車輛  0.005626  0.009979   0.003550\n",
      "建築物     0.004546  0.006288   0.000761\n",
      "彎道      0.002115  0.001094   0.000254\n",
      "坡道      0.001250  0.000684   0.000254\n",
      "樹木、農作物  0.000995  0.001094   0.000507\n"
     ]
    }
   ],
   "source": [
    "# table_lst = [\n",
    "#     '路面狀況-路面狀態名稱',\n",
    "#     '當事者屬-性-別名稱', \n",
    "#     '當事者事故發生時年齡', \n",
    "#     '車輛撞擊部位大類別名稱-最初',\n",
    "#     '光線名稱',\n",
    "#     '道路類別-第1當事者-名稱',\n",
    "#     '道路型態大類別名稱',\n",
    "#     '事故位置大類別名稱',\n",
    "#     '號誌-號誌種類名稱',\n",
    "#     '車道劃分設施-分向設施大類別名稱', '車道劃分設施-分道設施-快車道或一般車道間名稱',\n",
    "#     '車道劃分設施-分道設施-快慢車道間名稱', '車道劃分設施-分道設施-路面邊線名稱',\n",
    "#     '事故類型及型態大類別名稱',\n",
    "#     '保護裝備名稱', '行動電話或電腦或其他相類功能裝置名稱', \n",
    "#     '當事者行動狀態大類別名稱',\n",
    "#     '車輛撞擊部位大類別名稱-其他', \n",
    "#     '肇因研判大類別名稱-個別', \n",
    "#     '肇事逃逸類別名稱-是否肇逃',\n",
    "#     '路面狀況-路面鋪裝名稱', \n",
    "#     '道路障礙-障礙物名稱',\n",
    "#     '死亡'\n",
    "# ]\n",
    "table_lst = [\n",
    "    '路面狀況-路面鋪裝名稱',\n",
    "    '路面狀況-路面狀態名稱',\n",
    "    '路面狀況-路面缺陷名稱',\n",
    "    '道路障礙-障礙物名稱',\n",
    "    '道路障礙-視距品質名稱',\n",
    "    '道路障礙-視距名稱',\n",
    "]\n",
    "for i in table_lst:\n",
    "    result = table(i, full_0, full_1, full_2)\n",
    "    print(i,'\\n',result)"
   ]
  },
  {
   "cell_type": "code",
   "execution_count": 116,
   "id": "e3fce72e-2d97-44d7-87e0-b9114d1d1187",
   "metadata": {},
   "outputs": [],
   "source": [
    "# chi_compare(full_0, full_1)"
   ]
  },
  {
   "cell_type": "code",
   "execution_count": 36,
   "id": "0536e985-1d99-4828-9391-7fadc3bb9179",
   "metadata": {},
   "outputs": [],
   "source": [
    "# chi_compare(full_0, full_2)"
   ]
  },
  {
   "cell_type": "code",
   "execution_count": 37,
   "id": "b2b12841-76b7-4944-bbcb-a2e665537813",
   "metadata": {},
   "outputs": [],
   "source": [
    "# chi_compare(full_1, full_2)"
   ]
  }
 ],
 "metadata": {
  "kernelspec": {
   "display_name": "Python 3 (ipykernel)",
   "language": "python",
   "name": "python3"
  },
  "language_info": {
   "codemirror_mode": {
    "name": "ipython",
    "version": 3
   },
   "file_extension": ".py",
   "mimetype": "text/x-python",
   "name": "python",
   "nbconvert_exporter": "python",
   "pygments_lexer": "ipython3",
   "version": "3.10.6"
  }
 },
 "nbformat": 4,
 "nbformat_minor": 5
}

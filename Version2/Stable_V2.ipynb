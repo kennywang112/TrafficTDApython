{
 "cells": [
  {
   "cell_type": "code",
   "execution_count": 1,
   "id": "8efac998-d62a-4ee8-bbdb-aa19562e2cb8",
   "metadata": {},
   "outputs": [],
   "source": [
    "import os\n",
    "\n",
    "current_dir_path = os.getcwd()\n",
    "current_file_path = os.path.abspath(current_dir_path)\n",
    "current_dir_path = os.path.dirname(current_file_path)\n",
    "parent_dir_path = os.path.dirname(current_dir_path)\n",
    "\n",
    "os.chdir(current_dir_path)\n",
    "\n",
    "import numpy as np\n",
    "import pandas as pd\n",
    "import plotly.graph_objects as go\n",
    "import matplotlib.pyplot as plt\n",
    "from collections import Counter\n",
    "\n",
    "from sklearn.decomposition import PCA\n",
    "from sklearn.cluster import DBSCAN\n",
    "\n",
    "from tdamapper.core import MapperAlgorithm\n",
    "from tdamapper.cover import CubicalCover, BallCover, KNNCover, TrivialCover\n",
    "from tdamapper.plot import MapperLayoutInteractive, MapperLayoutStatic\n",
    "from tdamapper.clustering import FailSafeClustering\n",
    "from sklearn.metrics import calinski_harabasz_score, silhouette_score\n",
    "from sklearn.cluster import AgglomerativeClustering\n",
    "from sklearn.preprocessing import StandardScaler\n",
    "import scipy.cluster.hierarchy as shc\n",
    "\n",
    "from functions import *\n",
    "\n",
    "from sklearn.cluster import DBSCAN, KMeans\n",
    "from sklearn import metrics"
   ]
  },
  {
   "cell_type": "code",
   "execution_count": 2,
   "id": "0e172d63-8c13-485a-896b-7a4da115f35d",
   "metadata": {},
   "outputs": [],
   "source": [
    "data1 = pd.read_csv(\"./Data/NPA_TMA2_1.csv\", low_memory=False)[:-2]\n",
    "data2 = pd.read_csv(\"./Data/NPA_TMA2_2.csv\", low_memory=False)[:-2]\n",
    "data3 = pd.read_csv(\"./Data/NPA_TMA2_3.csv\", low_memory=False)[:-2]\n",
    "data4 = pd.read_csv(\"./Data/NPA_TMA2_4_new.csv\", low_memory=False)[:-2]\n",
    "data5 = pd.read_csv(\"./Data/NPA_TMA2_5.csv\", low_memory=False)[:-2]\n",
    "data6 = pd.read_csv(\"./Data/NPA_TMA2_6_new.csv\", low_memory=False)[:-2]\n",
    "\n",
    "dataA2 = pd.concat([data1, data2, data3, data4, data5, data6], ignore_index=True)\n",
    "\n",
    "dataA1 = pd.read_csv(\"./Data/NPA_TMA1_new.csv\")[:-2]"
   ]
  },
  {
   "cell_type": "code",
   "execution_count": 3,
   "id": "f3168a71-360c-40fd-9ac6-5287aa37dcdb",
   "metadata": {},
   "outputs": [
    {
     "data": {
      "text/plain": [
       "(189216, 51)"
      ]
     },
     "execution_count": 3,
     "metadata": {},
     "output_type": "execute_result"
    }
   ],
   "source": [
    "dataA2[dataA2['當事者順位'] == 1].shape"
   ]
  },
  {
   "cell_type": "code",
   "execution_count": 4,
   "id": "9c509cf2-4f62-46c1-9526-8d405b7dd20a",
   "metadata": {},
   "outputs": [
    {
     "data": {
      "text/plain": [
       "(787, 51)"
      ]
     },
     "execution_count": 4,
     "metadata": {},
     "output_type": "execute_result"
    }
   ],
   "source": [
    "dataA1[dataA1['當事者順位'] == 1].shape"
   ]
  },
  {
   "cell_type": "code",
   "execution_count": 10,
   "id": "7f6e308f-5a50-45cd-8f5a-0c14c9a36ad8",
   "metadata": {},
   "outputs": [],
   "source": [
    "select_lst = [\n",
    "    '光線名稱', '道路類別-第1當事者-名稱', '速限-第1當事者',\n",
    "    '道路型態大類別名稱', '事故位置大類別名稱',  '號誌-號誌種類名稱',\n",
    "    '車道劃分設施-分向設施大類別名稱', '車道劃分設施-分道設施-快車道或一般車道間名稱',\n",
    "    '車道劃分設施-分道設施-快慢車道間名稱', '車道劃分設施-分道設施-路面邊線名稱',\n",
    "    '事故類型及型態大類別名稱',\n",
    "    # '路面狀況-路面狀態名稱',\n",
    "    '死亡受傷人數', '經度', '緯度',\n",
    "]"
   ]
  },
  {
   "cell_type": "code",
   "execution_count": 7,
   "id": "e8cd8dff-91d5-4e8b-88a1-0fc14fc6583d",
   "metadata": {},
   "outputs": [],
   "source": [
    "def preprocess(input_data, select_lst, sample = 592):\n",
    "    sample_data = input_data[input_data['當事者順位'] == 1].reset_index(drop=True, inplace=False).sample(sample).reset_index(drop=True)\n",
    "    sample_data = sample_data[sample_data['發生月份'] < 7]\n",
    "    dataA = sample_data[select_lst]\n",
    "    \n",
    "    death_injury_data = split_death_injury(dataA['死亡受傷人數'])\n",
    "    dist_df = pd.concat([dataA, death_injury_data], axis=1)\n",
    "    dist_df.drop(columns=['死亡受傷人數'], inplace=True)\n",
    "    \n",
    "    return dist_df, sample_data\n",
    "\n",
    "def get_full_info(mapper_plot):\n",
    "    x = vars(mapper_plot._MapperLayoutInteractive__fig)['_data_objs'][1]['x']\n",
    "    y = vars(mapper_plot._MapperLayoutInteractive__fig)['_data_objs'][1]['y']\n",
    "    z = vars(mapper_plot._MapperLayoutInteractive__fig)['_data_objs'][1]['z']\n",
    "\n",
    "    threeDimData = pd.DataFrame({'x': x, 'y': y, 'z': z})\n",
    "\n",
    "    import re\n",
    "    data_tuple = vars(mapper_plot._MapperLayoutInteractive__fig)['_data_objs'][1]['text']\n",
    "\n",
    "    data = []\n",
    "    for item in data_tuple:\n",
    "        color = int(re.search(r'color: (-?\\d+)', item).group(1))\n",
    "        node = int(re.search(r'node: (\\d+)', item).group(1))\n",
    "        size = int(re.search(r'size: (\\d+)', item).group(1))\n",
    "        data.append({'color': color, 'node': node, 'size': size})\n",
    "    component_info = pd.DataFrame(data)\n",
    "\n",
    "    full_info = pd.concat([component_info, threeDimData], axis=1)\n",
    "\n",
    "    mp_content_origin = vars(mapper_plot._MapperLayoutInteractive__graph)['_node']\n",
    "\n",
    "    mp_content = pd.DataFrame.from_dict(mp_content_origin, orient='index')\n",
    "    mp_content.reset_index(inplace=True)\n",
    "    mp_content.rename(columns={'index': 'node'}, inplace=True)\n",
    "\n",
    "    full_info = pd.merge(full_info, mp_content, on=['node', 'size'], how='inner')\n",
    "    full_info.iloc[:, 3:6]\n",
    "    \n",
    "    return full_info\n",
    "\n",
    "def resample_plot(A1, A2, selected, p_age = False):\n",
    "    dist_dfA1 = preprocess(dataA1, selected, sample = 50)\n",
    "    dist_dfA2 = preprocess(dataA2, selected, sample = 5000)\n",
    "\n",
    "    rbind_data = pd.concat([dist_dfA1[0], dist_dfA2[0]], axis=0, ignore_index=True)\n",
    "    \n",
    "    rbind_data.loc[rbind_data['受傷'] > 1, '受傷'] = 2\n",
    "    rbind_data['速限-第1當事者'] = rbind_data['速限-第1當事者'].apply(lambda x: 1 if x > 60 else 0)\n",
    "    if p_age == True:\n",
    "        rbind_data = process_age(rbind_data)\n",
    "\n",
    "    dist_df = process_data(rbind_data)\n",
    "    scaler = StandardScaler()\n",
    "\n",
    "    full_dist = pd.DataFrame(scaler.fit_transform(dist_df), columns = dist_df.columns)\n",
    "    X1 = full_dist.drop(['受傷', '死亡', '經度', '緯度'], axis=1).to_numpy()\n",
    "\n",
    "    lens1 = PCA(10).fit_transform(X1)\n",
    "\n",
    "    mapper_algo1 = MapperAlgorithm(\n",
    "        cover = CubicalCover(\n",
    "            n_intervals = 3,\n",
    "            overlap_frac = 0.5\n",
    "        ),\n",
    "        clustering = FailSafeClustering(\n",
    "            clustering = AgglomerativeClustering(3, linkage='ward'),\n",
    "            verbose = False)\n",
    "    )\n",
    "    mapper_graph1 = mapper_algo1.fit_transform(X1, lens1)\n",
    "\n",
    "    mapper_plot1 = MapperLayoutInteractive(\n",
    "        mapper_graph1,\n",
    "        colors = dist_df[['路面狀況-路面狀態名稱']].to_numpy(),\n",
    "        cmap = 'jet',\n",
    "        # agg = np.nanmean,\n",
    "        agg = most_frequent_nonan,\n",
    "        dim = 3,\n",
    "        iterations = 30,\n",
    "        seed = 6,\n",
    "        width = 300,\n",
    "        height = 300)\n",
    "    \n",
    "    return mapper_plot1"
   ]
  },
  {
   "cell_type": "code",
   "execution_count": 5,
   "id": "773f8467-0d1d-41d5-ae55-99021833b3ea",
   "metadata": {
    "jupyter": {
     "source_hidden": true
    },
    "tags": []
   },
   "outputs": [],
   "source": [
    "def get_calinski_from_db(input_data, eps):\n",
    "    X = input_data.iloc[:, 3:6]\n",
    "\n",
    "    db = DBSCAN(eps=eps, min_samples=10).fit(X)\n",
    "    labels = db.labels_\n",
    "    n_clusters_ = len(set(labels)) - (1 if -1 in labels else 0)\n",
    "\n",
    "    input_data['label'] = labels\n",
    "    # Cluster大於1才會計算\n",
    "    if n_clusters_ > 1:\n",
    "        filtered_labels = labels[labels != -1]\n",
    "        filtered_X = X[labels != -1]\n",
    "        score = calinski_harabasz_score(filtered_X, filtered_labels)\n",
    "        silhouette_score_value = silhouette_score(filtered_X, filtered_labels)\n",
    "    else:\n",
    "        score = -1\n",
    "        silhouette_score_value = -1\n",
    "        \n",
    "    return score, input_data, db, labels, n_clusters_, silhouette_score_value"
   ]
  },
  {
   "cell_type": "code",
   "execution_count": 9,
   "id": "143d9fbd-3cb8-48ab-96f6-dfc45f29d226",
   "metadata": {},
   "outputs": [
    {
     "name": "stdout",
     "output_type": "stream",
     "text": [
      "1345.5258399676507\n",
      "2\n"
     ]
    }
   ],
   "source": [
    "mapper_plot1 = resample_plot(dataA1, dataA2, select_lst)\n",
    "# full_info = get_full_info(mapper_plot1)\n",
    "# calinski_data = get_calinski_from_db(full_info, 0.1)\n",
    "# print(calinski_data[0])\n",
    "\n",
    "# labels = calinski_data[3]\n",
    "# db = calinski_data[2]\n",
    "# n_clusters_ = calinski_data[4]\n",
    "\n",
    "print(n_clusters_)\n",
    "\n",
    "fig_mean1 = mapper_plot1.plot()\n",
    "fig_mean1.show(config={'scrollZoom': True})"
   ]
  },
  {
   "cell_type": "code",
   "execution_count": 45,
   "id": "cc1863a1-7729-436a-9881-33624e522937",
   "metadata": {},
   "outputs": [
    {
     "name": "stdout",
     "output_type": "stream",
     "text": [
      "0\n",
      "10\n",
      "20\n",
      "30\n",
      "40\n",
      "50\n",
      "60\n",
      "70\n",
      "80\n",
      "90\n",
      "Execution Time: 837.8088450431824\n"
     ]
    }
   ],
   "source": [
    "calinski_lst = []\n",
    "cluster_lst = []\n",
    "silhouette_lst = []\n",
    "\n",
    "import time\n",
    "\n",
    "start_time = time.time()\n",
    "for i in range(100):\n",
    "    if i%10 == 0:\n",
    "        print(i)\n",
    "    \n",
    "    mapper_plot1 = resample_plot(dataA1, dataA2, select_lst)\n",
    "    full_info = get_full_info(mapper_plot1)\n",
    "    calinski_data = get_calinski_from_db(full_info, 0.1)\n",
    "    \n",
    "    calinski_lst.append(calinski_data[0])\n",
    "    cluster_lst.append(calinski_data[4])\n",
    "    silhouette_lst.append(calinski_data[5])\n",
    "    \n",
    "end_time = time.time()\n",
    "execution_time = end_time - start_time\n",
    "print(\"Execution Time:\", execution_time)"
   ]
  },
  {
   "cell_type": "code",
   "execution_count": 46,
   "id": "c0e71e98-53c1-4d34-8fd8-38da2130a6da",
   "metadata": {},
   "outputs": [
    {
     "data": {
      "image/png": "[encoded data removed]",
      "text/plain": [
       "<Figure size 432x288 with 1 Axes>"
      ]
     },
     "metadata": {},
     "output_type": "display_data"
    }
   ],
   "source": [
    "plt.hist(cluster_lst, bins=10)\n",
    "plt.show()"
   ]
  },
  {
   "cell_type": "code",
   "execution_count": 47,
   "id": "6cad568e-d573-4ff5-ba29-7881d5b8c69a",
   "metadata": {},
   "outputs": [
    {
     "name": "stdout",
     "output_type": "stream",
     "text": [
      "Cluster 1: 16.00%\n",
      "Cluster 2: 79.00%\n",
      "Cluster 3: 5.00%\n"
     ]
    }
   ],
   "source": [
    "from collections import Counter\n",
    "count = Counter(cluster_lst)\n",
    "\n",
    "# 計算總數\n",
    "total = len(cluster_lst)\n",
    "\n",
    "# 打印每個元素的百分比\n",
    "for key in sorted(count):\n",
    "    percent = (count[key] / total) * 100\n",
    "    print(f\"Cluster {key}: {percent:.2f}%\")"
   ]
  },
  {
   "cell_type": "code",
   "execution_count": 105,
   "id": "7aab4ba0-1280-4d41-a30c-c34e427abe67",
   "metadata": {},
   "outputs": [
    {
     "data": {
      "image/png": "[encoded data removed]",
      "text/plain": [
       "<Figure size 720x432 with 1 Axes>"
      ]
     },
     "metadata": {},
     "output_type": "display_data"
    }
   ],
   "source": [
    "filtered_silhouettes = [x for x in silhouette_lst if x > 0]\n",
    "# filtered_silhouettes = [x for x in filtered_silhouettes if x > 0.2]\n",
    "\n",
    "import matplotlib.pyplot as plt\n",
    "import seaborn as sns\n",
    "# plt.hist(silhouette_lst, bins=30)\n",
    "# plt.show()\n",
    "sns.set(style=\"whitegrid\")\n",
    "plt.figure(figsize=(10, 6))\n",
    "sns.histplot(filtered_silhouettes, bins=10, kde=True, color=\"blue\")\n",
    "\n",
    "# 添加標題和標籤\n",
    "plt.title(\"Distribution of Silhouette Scores\", fontsize=15)\n",
    "plt.xlabel(\"Silhouette Score\", fontsize=12)\n",
    "plt.ylabel(\"Frequency\", fontsize=12)\n",
    "\n",
    "# 顯示圖表\n",
    "plt.show()"
   ]
  },
  {
   "cell_type": "code",
   "execution_count": 78,
   "id": "68cd633e-232e-4601-bd1c-d676908dead4",
   "metadata": {},
   "outputs": [
    {
     "name": "stdout",
     "output_type": "stream",
     "text": [
      "平均值: 0.831331667337032\n",
      "標準差: 0.034433955589656194\n"
     ]
    }
   ],
   "source": [
    "import statistics\n",
    "mean_score = statistics.mean(filtered_silhouettes)\n",
    "stdev_score = statistics.stdev(filtered_silhouettes)\n",
    "\n",
    "print(f\"平均值: {mean_score}\")\n",
    "print(f\"標準差: {stdev_score}\")"
   ]
  },
  {
   "cell_type": "code",
   "execution_count": 70,
   "id": "7e1a8c75-90df-47c8-84ee-602122583072",
   "metadata": {},
   "outputs": [
    {
     "data": {
      "text/plain": [
       "0.022041608653975326"
      ]
     },
     "execution_count": 70,
     "metadata": {},
     "output_type": "execute_result"
    }
   ],
   "source": [
    "ks_statistic, p_value = stats.kstest(filtered_silhouettes, 'norm', args=(mean_score, stdev_score))\n",
    "p_value"
   ]
  },
  {
   "cell_type": "code",
   "execution_count": 109,
   "id": "f8173a18-0ce8-47ed-a0b8-4e0439fe79b3",
   "metadata": {},
   "outputs": [
    {
     "name": "stdout",
     "output_type": "stream",
     "text": [
      "數據的偏度: -1.305009978252835\n",
      "數據呈現左偏分布\n"
     ]
    }
   ],
   "source": [
    "from scipy.stats import skew, shapiro\n",
    "\n",
    "# 1. 計算偏度\n",
    "skewness = skew(filtered_silhouettes)\n",
    "print(f'數據的偏度: {skewness}')\n",
    "if skewness < 0:\n",
    "    print(\"數據呈現左偏分布\")\n",
    "else:\n",
    "    print(\"數據不呈現左偏分布\")"
   ]
  }
 ],
 "metadata": {
  "kernelspec": {
   "display_name": "Python 3 (ipykernel)",
   "language": "python",
   "name": "python3"
  },
  "language_info": {
   "codemirror_mode": {
    "name": "ipython",
    "version": 3
   },
   "file_extension": ".py",
   "mimetype": "text/x-python",
   "name": "python",
   "nbconvert_exporter": "python",
   "pygments_lexer": "ipython3",
   "version": "3.9.12"
  }
 },
 "nbformat": 4,
 "nbformat_minor": 5
}

{
 "cells": [
  {
   "cell_type": "code",
   "execution_count": 2,
   "id": "8efac998-d62a-4ee8-bbdb-aa19562e2cb8",
   "metadata": {},
   "outputs": [],
   "source": [
    "import os\n",
    "\n",
    "current_dir_path = os.getcwd()\n",
    "current_file_path = os.path.abspath(current_dir_path)\n",
    "current_dir_path = os.path.dirname(current_file_path)\n",
    "parent_dir_path = os.path.dirname(current_dir_path)\n",
    "\n",
    "os.chdir(current_dir_path)\n",
    "\n",
    "import numpy as np\n",
    "import pandas as pd\n",
    "import plotly.graph_objects as go\n",
    "import matplotlib.pyplot as plt\n",
    "from collections import Counter\n",
    "\n",
    "from sklearn.decomposition import PCA\n",
    "from sklearn.cluster import DBSCAN\n",
    "\n",
    "from tdamapper.core import MapperAlgorithm\n",
    "from tdamapper.cover import CubicalCover, BallCover, KNNCover, TrivialCover\n",
    "from tdamapper.plot import MapperLayoutInteractive, MapperLayoutStatic\n",
    "from tdamapper.clustering import FailSafeClustering\n",
    "from sklearn.cluster import AgglomerativeClustering\n",
    "from sklearn.preprocessing import StandardScaler\n",
    "import scipy.cluster.hierarchy as shc\n",
    "\n",
    "from functions import *\n",
    "\n",
    "from sklearn.cluster import DBSCAN, KMeans\n",
    "from sklearn import metrics"
   ]
  },
  {
   "cell_type": "code",
   "execution_count": 3,
   "id": "0e172d63-8c13-485a-896b-7a4da115f35d",
   "metadata": {},
   "outputs": [],
   "source": [
    "data1 = pd.read_csv(\"./Data/NPA_TMA2_1.csv\", low_memory=False)[:-2]\n",
    "data2 = pd.read_csv(\"./Data/NPA_TMA2_2.csv\", low_memory=False)[:-2]\n",
    "data3 = pd.read_csv(\"./Data/NPA_TMA2_3.csv\", low_memory=False)[:-2]\n",
    "data4 = pd.read_csv(\"./Data/NPA_TMA2_4_new.csv\", low_memory=False)[:-2]\n",
    "data5 = pd.read_csv(\"./Data/NPA_TMA2_5.csv\", low_memory=False)[:-2]\n",
    "data6 = pd.read_csv(\"./Data/NPA_TMA2_6.csv\", low_memory=False)[:-2]\n",
    "\n",
    "dataA2 = pd.concat([data1, data2, data3, data4, data5, data6], ignore_index=True)\n",
    "\n",
    "dataA1 = pd.read_csv(\"./Data/NPA_TMA1_new.csv\")[:-2]"
   ]
  },
  {
   "cell_type": "code",
   "execution_count": 51,
   "id": "f3168a71-360c-40fd-9ac6-5287aa37dcdb",
   "metadata": {},
   "outputs": [
    {
     "data": {
      "text/plain": [
       "(167918, 51)"
      ]
     },
     "execution_count": 51,
     "metadata": {},
     "output_type": "execute_result"
    }
   ],
   "source": [
    "dataA2[dataA2['當事者順位'] == 1].shape"
   ]
  },
  {
   "cell_type": "code",
   "execution_count": 52,
   "id": "9c509cf2-4f62-46c1-9526-8d405b7dd20a",
   "metadata": {},
   "outputs": [
    {
     "data": {
      "text/plain": [
       "(787, 51)"
      ]
     },
     "execution_count": 52,
     "metadata": {},
     "output_type": "execute_result"
    }
   ],
   "source": [
    "dataA1[dataA1['當事者順位'] == 1].shape"
   ]
  },
  {
   "cell_type": "code",
   "execution_count": 14,
   "id": "7f6e308f-5a50-45cd-8f5a-0c14c9a36ad8",
   "metadata": {},
   "outputs": [],
   "source": [
    "select_lst = [\n",
    "    '光線名稱', '道路類別-第1當事者-名稱', '速限-第1當事者',\n",
    "    '道路型態大類別名稱', '事故位置大類別名稱',  '號誌-號誌種類名稱',\n",
    "    '車道劃分設施-分向設施大類別名稱', '車道劃分設施-分道設施-快車道或一般車道間名稱',\n",
    "    '車道劃分設施-分道設施-快慢車道間名稱', '車道劃分設施-分道設施-路面邊線名稱',\n",
    "    '事故類型及型態大類別名稱',\n",
    "    '死亡受傷人數', '經度', '緯度',\n",
    "]"
   ]
  },
  {
   "cell_type": "code",
   "execution_count": 70,
   "id": "e8cd8dff-91d5-4e8b-88a1-0fc14fc6583d",
   "metadata": {},
   "outputs": [],
   "source": [
    "def preprocess(input_data, select_lst, sample = 592):\n",
    "    sample_data = input_data[input_data['當事者順位'] == 1].reset_index(drop=True, inplace=False).sample(sample).reset_index(drop=True)\n",
    "    dataA = sample_data[select_lst]\n",
    "    \n",
    "    death_injury_data = split_death_injury(dataA['死亡受傷人數'])\n",
    "    dist_df = pd.concat([dataA, death_injury_data], axis=1)\n",
    "    dist_df.drop(columns=['死亡受傷人數'], inplace=True)\n",
    "    \n",
    "    return dist_df, sample_data\n",
    "\n",
    "def get_full_info(mapper_plot):\n",
    "    x = vars(mapper_plot._MapperLayoutInteractive__fig)['_data_objs'][1]['x']\n",
    "    y = vars(mapper_plot._MapperLayoutInteractive__fig)['_data_objs'][1]['y']\n",
    "    z = vars(mapper_plot._MapperLayoutInteractive__fig)['_data_objs'][1]['z']\n",
    "\n",
    "    threeDimData = pd.DataFrame({'x': x, 'y': y, 'z': z})\n",
    "\n",
    "    import re\n",
    "    data_tuple = vars(mapper_plot._MapperLayoutInteractive__fig)['_data_objs'][1]['text']\n",
    "\n",
    "    data = []\n",
    "    for item in data_tuple:\n",
    "        color = int(re.search(r'color: (\\d+)', item).group(1))\n",
    "        node = int(re.search(r'node: (\\d+)', item).group(1))\n",
    "        size = int(re.search(r'size: (\\d+)', item).group(1))\n",
    "        data.append({'color': color, 'node': node, 'size': size})\n",
    "    component_info = pd.DataFrame(data)\n",
    "\n",
    "    full_info = pd.concat([component_info, threeDimData], axis=1)\n",
    "\n",
    "    mp_content_origin = vars(mapper_plot._MapperLayoutInteractive__graph)['_node']\n",
    "\n",
    "    mp_content = pd.DataFrame.from_dict(mp_content_origin, orient='index')\n",
    "    mp_content.reset_index(inplace=True)\n",
    "    mp_content.rename(columns={'index': 'node'}, inplace=True)\n",
    "\n",
    "    full_info = pd.merge(full_info, mp_content, on=['node', 'size'], how='inner')\n",
    "    full_info.iloc[:, 3:6]\n",
    "    \n",
    "    return full_info\n",
    "\n",
    "def resample_plot(A1, A2, selected, p_age = False):\n",
    "    dist_dfA1 = preprocess(dataA1, selected, sample = 59)\n",
    "    dist_dfA2 = preprocess(dataA2, selected, sample = 5920)\n",
    "    # dist_dfA1 = preprocess(dataA1, selected, sample = 78)\n",
    "    # dist_dfA2 = preprocess(dataA2, selected, sample = 16000)\n",
    "\n",
    "    rbind_data = pd.concat([dist_dfA1[0], dist_dfA2[0]], axis=0, ignore_index=True)\n",
    "    \n",
    "    rbind_data.loc[rbind_data['受傷'] > 1, '受傷'] = 2\n",
    "    rbind_data['速限-第1當事者'] = rbind_data['速限-第1當事者'].apply(lambda x: 1 if x > 60 else 0)\n",
    "    if p_age == True:\n",
    "        rbind_data = process_age(rbind_data)\n",
    "\n",
    "    dist_df = process_data(rbind_data)\n",
    "    scaler = StandardScaler()\n",
    "\n",
    "    full_dist = pd.DataFrame(scaler.fit_transform(dist_df), columns = dist_df.columns)\n",
    "    X1 = full_dist.drop(['受傷', '死亡', '經度', '緯度'], axis=1).to_numpy()\n",
    "\n",
    "    lens1 = PCA(10).fit_transform(X1)\n",
    "\n",
    "    mapper_algo1 = MapperAlgorithm(\n",
    "        cover = CubicalCover(\n",
    "            n_intervals = 3,\n",
    "            overlap_frac = 0.3\n",
    "        ),\n",
    "        clustering = FailSafeClustering(\n",
    "            clustering = AgglomerativeClustering(3, metric='euclidean', linkage='ward'),\n",
    "            verbose = False)\n",
    "    )\n",
    "    mapper_graph1 = mapper_algo1.fit_transform(X1, lens1)\n",
    "\n",
    "    mapper_plot1 = MapperLayoutInteractive(\n",
    "        mapper_graph1,\n",
    "        colors = rbind_data[['速限-第1當事者']].to_numpy(),\n",
    "        cmap = 'jet',\n",
    "        agg = np.nanmean,\n",
    "        # agg = most_frequent_nonan,\n",
    "        dim = 3,\n",
    "        iterations = 30,\n",
    "        seed = 6,\n",
    "        width = 800,\n",
    "        height = 500)\n",
    "    \n",
    "    return mapper_plot1"
   ]
  },
  {
   "cell_type": "code",
   "execution_count": 72,
   "id": "9ec2de98-0b46-4f64-a9ec-f8ba1038b899",
   "metadata": {},
   "outputs": [
    {
     "name": "stdout",
     "output_type": "stream",
     "text": [
      "21.63711103516419\n",
      "2\n"
     ]
    }
   ],
   "source": [
    "mapper_plot1 = resample_plot(dataA1, dataA2, select_lst)\n",
    "full_info = get_full_info(mapper_plot1)\n",
    "calinski_data = get_calinski_from_db(full_info, 0.05)\n",
    "print(calinski_data[0])\n",
    "\n",
    "labels = calinski_data[3]\n",
    "db = calinski_data[2]\n",
    "n_clusters_ = calinski_data[4]\n",
    "\n",
    "print(n_clusters_)\n",
    "\n",
    "# fig_mean1 = mapper_plot1.plot()\n",
    "# fig_mean1.show(config={'scrollZoom': True})"
   ]
  }
 ],
 "metadata": {
  "kernelspec": {
   "display_name": "Python 3 (ipykernel)",
   "language": "python",
   "name": "python3"
  },
  "language_info": {
   "codemirror_mode": {
    "name": "ipython",
    "version": 3
   },
   "file_extension": ".py",
   "mimetype": "text/x-python",
   "name": "python",
   "nbconvert_exporter": "python",
   "pygments_lexer": "ipython3",
   "version": "3.9.12"
  }
 },
 "nbformat": 4,
 "nbformat_minor": 5
}

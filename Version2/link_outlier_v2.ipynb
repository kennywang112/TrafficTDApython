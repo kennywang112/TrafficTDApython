{
 "cells": [
  {
   "cell_type": "code",
   "execution_count": 1,
   "id": "3d17c8aa-2590-426a-baad-07c9a46d01c7",
   "metadata": {},
   "outputs": [],
   "source": [
    "import os\n",
    "\n",
    "current_dir_path = os.getcwd()\n",
    "current_file_path = os.path.abspath(current_dir_path)\n",
    "current_dir_path = os.path.dirname(current_file_path)\n",
    "parent_dir_path = os.path.dirname(current_dir_path)\n",
    "\n",
    "os.chdir(current_dir_path)\n",
    "\n",
    "import pickle\n",
    "import time\n",
    "import pandas as pd\n",
    "import numpy as np\n",
    "import seaborn as sns\n",
    "from sklearn import metrics\n",
    "import statsmodels.api as sm\n",
    "from sklearn.cluster import DBSCAN, KMeans\n",
    "import matplotlib.pyplot as plt\n",
    "from sklearn.metrics import pairwise_distances_argmin_min, accuracy_score, confusion_matrix, ConfusionMatrixDisplay, classification_report\n",
    "import plotly.graph_objects as go\n",
    "from sklearn.decomposition import PCA\n",
    "from sklearn.svm import SVC\n",
    "import seaborn as sns\n",
    "\n",
    "from tdamapper.plot import MapperLayoutInteractive, MapperLayoutStatic\n",
    "\n",
    "from functions import *\n",
    "from chi import *\n",
    "from regressionP import *\n",
    "from models import *"
   ]
  },
  {
   "cell_type": "code",
   "execution_count": 2,
   "id": "37e19f3b-7b8f-4b3b-a939-8b1079071cd1",
   "metadata": {},
   "outputs": [],
   "source": [
    "data1 = pd.read_csv(\"./Data/NPA_TMA2_1.csv\", low_memory=False)[:-2]\n",
    "data2 = pd.read_csv(\"./Data/NPA_TMA2_2.csv\", low_memory=False)[:-2]\n",
    "data3 = pd.read_csv(\"./Data/NPA_TMA2_3.csv\", low_memory=False)[:-2]\n",
    "data4 = pd.read_csv(\"./Data/NPA_TMA2_4_new.csv\", low_memory=False)[:-2]\n",
    "data5 = pd.read_csv(\"./Data/NPA_TMA2_5.csv\", low_memory=False)[:-2]\n",
    "data6 = pd.read_csv(\"./Data/NPA_TMA2_6_new.csv\", low_memory=False)[:-2]\n",
    "\n",
    "dataA2 = pd.concat([data1, data2, data3, data4, data5, data6], ignore_index=True)\n",
    "\n",
    "dataA1 = pd.read_csv(\"./Data/NPA_TMA1_new.csv\")[:-2]\n",
    "\n",
    "def preprocess(input_data, select_lst):\n",
    "    sample_data = input_data[input_data['當事者順位'] == 1].reset_index(drop=True, inplace=False)\n",
    "    sample_data = sample_data[sample_data['發生月份'] < 7]\n",
    "    dataA = sample_data[select_lst]\n",
    "    \n",
    "    death_injury_data = split_death_injury(dataA['死亡受傷人數'])\n",
    "    dist_df = pd.concat([dataA, death_injury_data], axis=1)\n",
    "    dist_df.drop(columns=['死亡受傷人數'], inplace=True)\n",
    "    \n",
    "    return dist_df, sample_data"
   ]
  },
  {
   "cell_type": "code",
   "execution_count": 3,
   "id": "c7bb7843-6adb-4347-bb6e-69876598c315",
   "metadata": {},
   "outputs": [],
   "source": [
    "# plt.rcParams['font.sans-serif'] = ['Microsoft YaHei'] # Window\n",
    "plt.rcParams['font.sans-serif']=['Arial Unicode Ms'] # Mac\n",
    "plt.rcParams['axes.unicode_minus'] = False\n",
    "\n",
    "def plot_bar_comparison(df1, df2, feature):\n",
    "    plt.figure(figsize=(14, 6))\n",
    "    \n",
    "    df1_counts = df1[feature].value_counts(normalize=True).reset_index()\n",
    "    df2_counts = df2[feature].value_counts(normalize=True).reset_index()\n",
    "    \n",
    "    df1_counts['Source'] = 'Link'\n",
    "    df2_counts['Source'] = 'Outlier'\n",
    "\n",
    "    combined_counts = pd.concat([df1_counts, df2_counts])\n",
    "    combined_counts.columns = [feature, 'Frequency', 'Source']\n",
    "\n",
    "    ax = sns.barplot(data=combined_counts, x=feature, y='Frequency', hue='Source')\n",
    "    plt.title(f'{feature} 頻率')\n",
    "    plt.xticks(rotation=30)\n",
    "\n",
    "    for p in ax.patches:\n",
    "        height = p.get_height()\n",
    "        ax.annotate(f'{height:.2%}', \n",
    "                    (p.get_x() + p.get_width() / 2., height),\n",
    "                    ha = 'center', va = 'bottom', \n",
    "                    fontsize = 10, color = 'black', xytext = (0, 5),\n",
    "                    textcoords = 'offset points')\n",
    "    plt.show()"
   ]
  },
  {
   "cell_type": "code",
   "execution_count": 4,
   "id": "733be609-a011-47bd-bdd5-6e3628c36e56",
   "metadata": {},
   "outputs": [],
   "source": [
    "select_lst = [\n",
    "    '路面狀況-路面狀態名稱',\n",
    "    '當事者屬-性-別名稱', '當事者事故發生時年齡', \n",
    "    '車輛撞擊部位大類別名稱-最初',\n",
    "    '光線名稱',\n",
    "    '道路類別-第1當事者-名稱',\n",
    "    '速限-第1當事者',\n",
    "    '道路型態大類別名稱',\n",
    "    '事故位置大類別名稱', \n",
    "    '號誌-號誌種類名稱',\n",
    "    '車道劃分設施-分向設施大類別名稱', '車道劃分設施-分道設施-快車道或一般車道間名稱',\n",
    "    '車道劃分設施-分道設施-快慢車道間名稱', '車道劃分設施-分道設施-路面邊線名稱',\n",
    "    '事故類型及型態大類別名稱',\n",
    "    '事故位置子類別名稱', '事故類型及型態子類別名稱', \n",
    "    '當事者行動狀態子類別名稱', '車輛撞擊部位子類別名稱-最初', '肇因研判子類別名稱-個別',\n",
    "    '當事者區分-類別-子類別名稱-車種',\n",
    "    '保護裝備名稱', '行動電話或電腦或其他相類功能裝置名稱', \n",
    "    '當事者行動狀態大類別名稱',\n",
    "    '車輛撞擊部位大類別名稱-其他', '肇因研判大類別名稱-個別', '肇事逃逸類別名稱-是否肇逃',\n",
    "    '號誌-號誌動作名稱',\n",
    "    '死亡受傷人數'\n",
    "]\n",
    "\n",
    "dist_dfA1 = preprocess(dataA1, select_lst)\n",
    "dist_dfA2 = preprocess(dataA2, select_lst)\n",
    "\n",
    "rbind_data = pd.concat([dist_dfA1[0], dist_dfA2[0]], axis=0, ignore_index=True)\n",
    "rbind_data = process_age(rbind_data)\n",
    "rbind_data['速限-第1當事者'] = rbind_data['速限-第1當事者'].apply(lambda x: 1 if x > 60 else 0)\n",
    "\n",
    "dist_df = process_data(rbind_data)\n",
    "scaler = StandardScaler()"
   ]
  },
  {
   "cell_type": "code",
   "execution_count": 5,
   "id": "1ea14722-fe8b-4a60-9d22-6d2f58370f68",
   "metadata": {},
   "outputs": [],
   "source": [
    "with open('CalculatedData/道路V2_new.pkl', 'rb') as f:\n",
    "    mapper_graph1 = pickle.load(f)\n",
    "    \n",
    "mapper_plot1 = MapperLayoutInteractive(\n",
    "    mapper_graph1,\n",
    "    colors = dist_df[['速限-第1當事者']].to_numpy(),\n",
    "    cmap = 'jet',\n",
    "    # agg = np.nanmean,\n",
    "    agg = most_frequent_nonan,\n",
    "    dim = 3,\n",
    "    iterations = 30,\n",
    "    seed = 6,\n",
    "    width = 800,\n",
    "    height = 500)"
   ]
  },
  {
   "cell_type": "code",
   "execution_count": 6,
   "id": "a038b8ca-1814-413d-a38a-f93433fd5c84",
   "metadata": {},
   "outputs": [],
   "source": [
    "x = vars(mapper_plot1._MapperLayoutInteractive__fig)['_data_objs'][1]['x']\n",
    "y = vars(mapper_plot1._MapperLayoutInteractive__fig)['_data_objs'][1]['y']\n",
    "z = vars(mapper_plot1._MapperLayoutInteractive__fig)['_data_objs'][1]['z']\n",
    "\n",
    "threeDimData = pd.DataFrame({'x': x, 'y': y, 'z': z})\n",
    "\n",
    "import re\n",
    "data_tuple = vars(mapper_plot1._MapperLayoutInteractive__fig)['_data_objs'][1]['text']\n",
    "\n",
    "data = []\n",
    "for item in data_tuple:\n",
    "    color = int(re.search(r'color: (-?\\d+)', item).group(1))\n",
    "    node = int(re.search(r'node: (\\d+)', item).group(1))\n",
    "    size = int(re.search(r'size: (\\d+)', item).group(1))\n",
    "    data.append({'color': color, 'node': node, 'size': size})\n",
    "        \n",
    "component_info = pd.DataFrame(data)\n",
    "\n",
    "full_info = pd.concat([component_info, threeDimData], axis=1)\n",
    "\n",
    "mp_content_origin = vars(mapper_plot1._MapperLayoutInteractive__graph)['_node']\n",
    "\n",
    "mp_content = pd.DataFrame.from_dict(mp_content_origin, orient='index')\n",
    "mp_content.reset_index(inplace=True)\n",
    "mp_content.rename(columns={'index': 'node'}, inplace=True)\n",
    "\n",
    "full_info = pd.merge(full_info, mp_content, on=['node', 'size'], how='inner')"
   ]
  },
  {
   "cell_type": "code",
   "execution_count": 7,
   "id": "f6e9d5ea-c394-4587-b510-3b273ceec95c",
   "metadata": {},
   "outputs": [],
   "source": [
    "calinski_data = get_calinski_from_db(full_info, 0.025)\n",
    "\n",
    "label_0 = full_info[full_info['label'] == 0]\n",
    "label_1 = full_info[full_info['label'] == 1]\n",
    "label_2 = full_info[full_info['label'] == 2]\n",
    "label_out = full_info[(full_info['label'] != 1) & (full_info['label'] != 2) & (full_info['label'] != 0)]\n",
    "\n",
    "count_0 = get_count_dict(label_0)\n",
    "count_1 = get_count_dict(label_1)\n",
    "count_2 = get_count_dict(label_2)\n",
    "count_out = get_count_dict(label_out)\n",
    "\n",
    "full_0 = rbind_data.loc[count_0.keys()]\n",
    "full_1 = rbind_data.loc[count_1.keys()]\n",
    "full_2 = rbind_data.loc[count_2.keys()]\n",
    "\n",
    "# 離群值不需要被處理\n",
    "full_out = rbind_data.loc[count_out.keys()]\n",
    "\n",
    "lst01 = list(count_0.keys() & count_1.keys())\n",
    "lst02 = list(count_0.keys() & count_2.keys())\n",
    "lst12 = list(count_1.keys() & count_2.keys())\n",
    "lsto0 = list(count_out.keys() & count_0.keys())\n",
    "lsto1 = list(count_out.keys() & count_1.keys())\n",
    "lsto2 = list(count_out.keys() & count_2.keys())\n",
    "\n",
    "# 將重複的key另外拉出進行分析，這裡drop是為了符合卡方的獨立性前提假設\n",
    "full_01 = full_0.loc[lst01]\n",
    "full_02 = full_0.loc[lst02]\n",
    "full_12 = full_1.loc[lst12]\n",
    "\n",
    "full_combine = pd.concat([full_01, full_02, full_12], axis=0) # full_out\n",
    "full_combine = full_combine.reset_index()\n",
    "full_combine = full_combine.drop_duplicates(subset='index', keep='first')\n",
    "full_combine = full_combine.drop(['受傷', '死亡', 'index'], axis=1)"
   ]
  },
  {
   "cell_type": "code",
   "execution_count": 8,
   "id": "59e8af9a-f129-41f1-945d-a43d36161eb0",
   "metadata": {},
   "outputs": [
    {
     "data": {
      "text/plain": [
       "(1499, 28)"
      ]
     },
     "execution_count": 8,
     "metadata": {},
     "output_type": "execute_result"
    }
   ],
   "source": [
    "full_combine.shape"
   ]
  },
  {
   "cell_type": "code",
   "execution_count": 9,
   "id": "add5613e-6f09-4786-8626-3ac89920fcc9",
   "metadata": {},
   "outputs": [
    {
     "data": {
      "text/plain": [
       "(391, 30)"
      ]
     },
     "execution_count": 9,
     "metadata": {},
     "output_type": "execute_result"
    }
   ],
   "source": [
    "full_out.shape"
   ]
  },
  {
   "cell_type": "code",
   "execution_count": 10,
   "id": "ed3cda5c-1f81-474a-ba16-93fcd740121b",
   "metadata": {},
   "outputs": [],
   "source": [
    "select_lst = [\n",
    "    '路面狀況-路面狀態名稱',\n",
    "    '當事者屬-性-別名稱', '當事者事故發生時年齡', \n",
    "    '車輛撞擊部位大類別名稱-最初',\n",
    "    '光線名稱',\n",
    "    '道路類別-第1當事者-名稱',\n",
    "    '速限-第1當事者',\n",
    "    '道路型態大類別名稱',\n",
    "    '事故位置大類別名稱', \n",
    "    '號誌-號誌種類名稱',\n",
    "    '車道劃分設施-分向設施大類別名稱', '車道劃分設施-分道設施-快車道或一般車道間名稱',\n",
    "    '車道劃分設施-分道設施-快慢車道間名稱', '車道劃分設施-分道設施-路面邊線名稱',\n",
    "    '事故類型及型態大類別名稱',\n",
    "    '事故位置子類別名稱', '事故類型及型態子類別名稱', \n",
    "    '當事者行動狀態子類別名稱', '車輛撞擊部位子類別名稱-最初', '肇因研判子類別名稱-個別',\n",
    "    '當事者區分-類別-子類別名稱-車種',\n",
    "    '保護裝備名稱', '行動電話或電腦或其他相類功能裝置名稱', \n",
    "    '當事者行動狀態大類別名稱',\n",
    "    '車輛撞擊部位大類別名稱-其他', '肇因研判大類別名稱-個別', '肇事逃逸類別名稱-是否肇逃',\n",
    "    '號誌-號誌動作名稱',\n",
    "]\n",
    "\n",
    "full_combine['label'] = 1\n",
    "full_out['label'] = 0\n",
    "\n",
    "labeled_data = pd.concat([full_combine, full_out])\n",
    "labeled_data.reset_index(drop=True, inplace=True)\n",
    "\n",
    "def get_clusterN_logit(cluster_data, lst):\n",
    "    scaler = StandardScaler()\n",
    "    \n",
    "    c0_for_lm = process_data(cluster_data)\n",
    "    c0_for_lm_X = pd.DataFrame(scaler.fit_transform(c0_for_lm), columns=c0_for_lm.columns).reset_index(drop=True, inplace=False)\n",
    "    # label設定\n",
    "    c0_for_lm_y = cluster_data.apply(lambda row: 1 if row['label'] != 0 else 2, axis=1)\n",
    "    # c0_for_lm_y = cluster_data['label']\n",
    "        \n",
    "    c0_for_lm_X = c0_for_lm_X[lst]\n",
    "    \n",
    "    return c0_for_lm_X, c0_for_lm_y\n",
    "\n",
    "\n",
    "X, y = get_clusterN_logit(labeled_data, select_lst)"
   ]
  },
  {
   "cell_type": "code",
   "execution_count": 11,
   "id": "de8a33bf-5c8e-4023-80a8-5e9172497efd",
   "metadata": {},
   "outputs": [
    {
     "name": "stdout",
     "output_type": "stream",
     "text": [
      "[[110   3]\n",
      " [ 11 102]]\n"
     ]
    }
   ],
   "source": [
    "matrix_svc, score_svc, cm_svc = svc_cm_with_grid_search(X, y)\n",
    "print(cm_svc)"
   ]
  },
  {
   "cell_type": "code",
   "execution_count": 12,
   "id": "67538c2f-962f-4e86-8a9b-d08062408dbb",
   "metadata": {
    "tags": []
   },
   "outputs": [
    {
     "name": "stdout",
     "output_type": "stream",
     "text": [
      "[[111   2]\n",
      " [ 12 101]]\n"
     ]
    }
   ],
   "source": [
    "matrix_logistic, score_logistic, cm_logistic = logistic_cm_gridsearch(X, y)\n",
    "print(cm_logistic)"
   ]
  },
  {
   "cell_type": "code",
   "execution_count": 13,
   "id": "939248f5-655e-42f2-99a5-8fe1fa439848",
   "metadata": {},
   "outputs": [
    {
     "name": "stdout",
     "output_type": "stream",
     "text": [
      "0.9380530973451328\n",
      "0.9380530973451328\n"
     ]
    }
   ],
   "source": [
    "print(score_svc)\n",
    "print(score_logistic)"
   ]
  },
  {
   "cell_type": "code",
   "execution_count": 14,
   "id": "2ddb9954-f854-4b95-85bb-14c6dc8439b9",
   "metadata": {},
   "outputs": [
    {
     "name": "stdout",
     "output_type": "stream",
     "text": [
      "Optimization terminated successfully.\n",
      "         Current function value: 0.071536\n",
      "         Iterations 11\n",
      "                           Logit Regression Results                           \n",
      "==============================================================================\n",
      "Dep. Variable:                      y   No. Observations:                 1512\n",
      "Model:                          Logit   Df Residuals:                     1484\n",
      "Method:                           MLE   Df Model:                           27\n",
      "Date:                Mon, 12 Aug 2024   Pseudo R-squ.:                  0.8582\n",
      "Time:                        12:02:27   Log-Likelihood:                -108.16\n",
      "converged:                       True   LL-Null:                       -762.94\n",
      "Covariance Type:            nonrobust   LLR p-value:                4.067e-259\n",
      "===========================================================================================\n",
      "                              coef    std err          z      P>|z|      [0.025      0.975]\n",
      "-------------------------------------------------------------------------------------------\n",
      "路面狀況-路面狀態名稱                 0.2597      0.233      1.115      0.265      -0.197       0.716\n",
      "當事者屬-性-別名稱                  0.2128      0.200      1.062      0.288      -0.180       0.606\n",
      "當事者事故發生時年齡                 -0.0668      0.199     -0.336      0.737      -0.457       0.323\n",
      "車輛撞擊部位大類別名稱-最初              0.4177      0.372      1.124      0.261      -0.311       1.146\n",
      "光線名稱                        0.2637      0.219      1.202      0.229      -0.166       0.694\n",
      "道路類別-第1當事者-名稱              -0.1727      0.216     -0.798      0.425      -0.597       0.252\n",
      "速限-第1當事者                  -11.9860      1.162    -10.312      0.000     -14.264      -9.708\n",
      "道路型態大類別名稱                  -0.9394      0.377     -2.494      0.013      -1.678      -0.201\n",
      "事故位置大類別名稱                  -0.7091      0.370     -1.918      0.055      -1.434       0.016\n",
      "號誌-號誌種類名稱                  -0.1105      0.422     -0.262      0.794      -0.938       0.717\n",
      "車道劃分設施-分向設施大類別名稱            2.2954      0.299      7.670      0.000       1.709       2.882\n",
      "車道劃分設施-分道設施-快車道或一般車道間名稱     0.6174      0.242      2.546      0.011       0.142       1.093\n",
      "車道劃分設施-分道設施-快慢車道間名稱        -0.1525      0.124     -1.233      0.218      -0.395       0.090\n",
      "車道劃分設施-分道設施-路面邊線名稱          0.8701      0.229      3.800      0.000       0.421       1.319\n",
      "事故類型及型態大類別名稱               -3.3132      0.398     -8.332      0.000      -4.093      -2.534\n",
      "事故位置子類別名稱                  -0.3001      0.201     -1.491      0.136      -0.695       0.094\n",
      "事故類型及型態子類別名稱                0.4460      0.209      2.134      0.033       0.036       0.856\n",
      "當事者行動狀態子類別名稱                0.3849      0.180      2.138      0.033       0.032       0.738\n",
      "車輛撞擊部位子類別名稱-最初              0.3187      0.304      1.049      0.294      -0.276       0.914\n",
      "肇因研判子類別名稱-個別                0.4475      0.229      1.953      0.051      -0.002       0.897\n",
      "當事者區分-類別-子類別名稱-車種           0.1558      0.283      0.550      0.582      -0.399       0.711\n",
      "保護裝備名稱                     -0.4973      0.318     -1.563      0.118      -1.121       0.126\n",
      "行動電話或電腦或其他相類功能裝置名稱          0.1143      0.292      0.392      0.695      -0.458       0.686\n",
      "當事者行動狀態大類別名稱                0.9744      0.381      2.558      0.011       0.228       1.721\n",
      "車輛撞擊部位大類別名稱-其他              0.0169      0.255      0.066      0.947      -0.483       0.517\n",
      "肇因研判大類別名稱-個別               -0.5399      0.256     -2.111      0.035      -1.041      -0.039\n",
      "肇事逃逸類別名稱-是否肇逃               1.1377      0.401      2.839      0.005       0.352       1.923\n",
      "號誌-號誌動作名稱                   0.8096      0.453      1.789      0.074      -0.077       1.697\n",
      "===========================================================================================\n",
      "\n",
      "Possibly complete quasi-separation: A fraction 0.26 of observations can be\n",
      "perfectly predicted. This might indicate that there is complete\n",
      "quasi-separation. In this case some parameters will not be identified.\n",
      "Accuracy: 0.97\n"
     ]
    }
   ],
   "source": [
    "X_train, X_test, y_train, y_test = train_test_split(X, y.replace(2, 0), test_size=0.2, random_state=42)\n",
    "\n",
    "logit_model = sm.Logit(y_train, X_train)\n",
    "result = logit_model.fit()\n",
    "\n",
    "print(result.summary())\n",
    "\n",
    "log_reg = LogisticRegression()\n",
    "log_reg.fit(X_train, y_train)\n",
    "accuracy = log_reg.score(X_test, y_test)\n",
    "\n",
    "print(f\"Accuracy: {accuracy:.2f}\")"
   ]
  },
  {
   "cell_type": "code",
   "execution_count": 16,
   "id": "f76d11c5-4d6a-432e-b4c7-547867ff76e9",
   "metadata": {},
   "outputs": [
    {
     "data": {
      "text/plain": [
       "速限-第1當事者                   6.223370e-25\n",
       "事故類型及型態大類別名稱               7.978395e-17\n",
       "車道劃分設施-分向設施大類別名稱           1.717622e-14\n",
       "車道劃分設施-分道設施-路面邊線名稱         1.446991e-04\n",
       "肇事逃逸類別名稱-是否肇逃              4.522042e-03\n",
       "當事者行動狀態大類別名稱               1.054250e-02\n",
       "車道劃分設施-分道設施-快車道或一般車道間名稱    1.088771e-02\n",
       "道路型態大類別名稱                  1.262986e-02\n",
       "當事者行動狀態子類別名稱               3.250291e-02\n",
       "事故類型及型態子類別名稱               3.281463e-02\n",
       "肇因研判大類別名稱-個別               3.474914e-02\n",
       "dtype: float64"
      ]
     },
     "execution_count": 16,
     "metadata": {},
     "output_type": "execute_result"
    }
   ],
   "source": [
    "p_values = result.pvalues\n",
    "significant_factors = p_values[p_values < 0.05]\n",
    "significant_factors.sort_values()"
   ]
  },
  {
   "cell_type": "code",
   "execution_count": 18,
   "id": "e218d0b4-8555-4e4c-88d6-c379547127ed",
   "metadata": {},
   "outputs": [
    {
     "data": {
      "image/png": "[encoded data removed]",
      "text/plain": [
       "<Figure size 1008x432 with 1 Axes>"
      ]
     },
     "metadata": {
      "needs_background": "light"
     },
     "output_type": "display_data"
    }
   ],
   "source": [
    "plot_bar_comparison(full_combine, full_out, '速限-第1當事者')"
   ]
  },
  {
   "cell_type": "code",
   "execution_count": 19,
   "id": "4c93dd99-bdd2-4032-84e6-3ec8fd8430fc",
   "metadata": {},
   "outputs": [
    {
     "data": {
      "image/png": "[encoded data removed]",
      "text/plain": [
       "<Figure size 1008x432 with 1 Axes>"
      ]
     },
     "metadata": {
      "needs_background": "light"
     },
     "output_type": "display_data"
    }
   ],
   "source": [
    "plot_bar_comparison(full_combine, full_out, '事故類型及型態大類別名稱')"
   ]
  },
  {
   "cell_type": "code",
   "execution_count": 21,
   "id": "56239213-4949-45fe-89e1-19f3f1ca809d",
   "metadata": {},
   "outputs": [
    {
     "data": {
      "image/png": "[encoded data removed]",
      "text/plain": [
       "<Figure size 1008x432 with 1 Axes>"
      ]
     },
     "metadata": {
      "needs_background": "light"
     },
     "output_type": "display_data"
    }
   ],
   "source": [
    "plot_bar_comparison(full_combine, full_out, '車道劃分設施-分向設施大類別名稱')"
   ]
  },
  {
   "cell_type": "code",
   "execution_count": 25,
   "id": "309694b3-9b30-4783-9a40-d8259c2d933a",
   "metadata": {},
   "outputs": [
    {
     "data": {
      "image/png": "[encoded data removed]",
      "text/plain": [
       "<Figure size 1008x432 with 1 Axes>"
      ]
     },
     "metadata": {
      "needs_background": "light"
     },
     "output_type": "display_data"
    }
   ],
   "source": [
    "plot_bar_comparison(full_combine, full_out, '車道劃分設施-分道設施-路面邊線名稱')"
   ]
  },
  {
   "cell_type": "code",
   "execution_count": 22,
   "id": "88aa74a0-740b-4387-b533-0fcba178f742",
   "metadata": {},
   "outputs": [
    {
     "data": {
      "image/png": "[encoded data removed]",
      "text/plain": [
       "<Figure size 1008x432 with 1 Axes>"
      ]
     },
     "metadata": {
      "needs_background": "light"
     },
     "output_type": "display_data"
    }
   ],
   "source": [
    "full_combine = pd.concat([full_01, full_02, full_12], axis=0) # full_out\n",
    "full_combine = full_combine.reset_index()\n",
    "full_combine = full_combine.drop_duplicates(subset='index', keep='first')\n",
    "\n",
    "plot_bar_comparison(full_combine, full_out, '死亡')"
   ]
  },
  {
   "cell_type": "code",
   "execution_count": 23,
   "id": "55259307-f13f-44c8-8a18-a3f54ca74ecb",
   "metadata": {},
   "outputs": [
    {
     "data": {
      "text/plain": [
       "0    1478\n",
       "1      21\n",
       "Name: 死亡, dtype: int64"
      ]
     },
     "execution_count": 23,
     "metadata": {},
     "output_type": "execute_result"
    }
   ],
   "source": [
    "full_combine['死亡'].value_counts()"
   ]
  },
  {
   "cell_type": "code",
   "execution_count": 24,
   "id": "94840b95-ff0a-4132-bea6-30472e9d8e96",
   "metadata": {},
   "outputs": [
    {
     "data": {
      "text/plain": [
       "0    378\n",
       "1     13\n",
       "Name: 死亡, dtype: int64"
      ]
     },
     "execution_count": 24,
     "metadata": {},
     "output_type": "execute_result"
    }
   ],
   "source": [
    "full_out['死亡'].value_counts()"
   ]
  }
 ],
 "metadata": {
  "kernelspec": {
   "display_name": "Python 3 (ipykernel)",
   "language": "python",
   "name": "python3"
  },
  "language_info": {
   "codemirror_mode": {
    "name": "ipython",
    "version": 3
   },
   "file_extension": ".py",
   "mimetype": "text/x-python",
   "name": "python",
   "nbconvert_exporter": "python",
   "pygments_lexer": "ipython3",
   "version": "3.9.12"
  }
 },
 "nbformat": 4,
 "nbformat_minor": 5
}

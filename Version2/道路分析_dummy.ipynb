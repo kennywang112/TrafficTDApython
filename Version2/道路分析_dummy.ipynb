{
 "cells": [
  {
   "cell_type": "code",
   "execution_count": 1,
   "id": "f86ea7dc-6799-42a5-8e84-aa0f6422f5f9",
   "metadata": {},
   "outputs": [],
   "source": [
    "import os\n",
    "\n",
    "current_dir_path = os.getcwd()\n",
    "current_file_path = os.path.abspath(current_dir_path)\n",
    "current_dir_path = os.path.dirname(current_file_path)\n",
    "parent_dir_path = os.path.dirname(current_dir_path)\n",
    "\n",
    "os.chdir(current_dir_path)\n",
    "\n",
    "import pickle\n",
    "import time\n",
    "import numpy as np\n",
    "import pandas as pd\n",
    "import seaborn as sns\n",
    "import matplotlib.pyplot as plt\n",
    "import plotly.graph_objects as go\n",
    "\n",
    "from sklearn.decomposition import PCA\n",
    "from sklearn.cluster import DBSCAN, AgglomerativeClustering\n",
    "from sklearn.preprocessing import StandardScaler\n",
    "from sklearn.metrics import silhouette_score, confusion_matrix, accuracy_score, precision_score, recall_score, f1_score\n",
    "\n",
    "from tdamapper.core import MapperAlgorithm\n",
    "from tdamapper.cover import CubicalCover\n",
    "from tdamapper.plot import MapperLayoutInteractive, MapperLayoutStatic\n",
    "from tdamapper.clustering import FailSafeClustering\n",
    "from sklearn import metrics\n",
    "\n",
    "from functions import *\n",
    "from chi import *\n",
    "from regressionP import *\n",
    "from models import *"
   ]
  },
  {
   "cell_type": "code",
   "execution_count": 2,
   "id": "2d35c7e7-b928-434e-b417-3e3e7b30a96e",
   "metadata": {},
   "outputs": [],
   "source": [
    "data1 = pd.read_csv(\"./Data/NPA_TMA2_1.csv\", low_memory=False)[:-2]\n",
    "data2 = pd.read_csv(\"./Data/NPA_TMA2_2.csv\", low_memory=False)[:-2]\n",
    "data3 = pd.read_csv(\"./Data/NPA_TMA2_3.csv\", low_memory=False)[:-2]\n",
    "data4 = pd.read_csv(\"./Data/NPA_TMA2_4_new.csv\", low_memory=False)[:-2]\n",
    "data5 = pd.read_csv(\"./Data/NPA_TMA2_5.csv\", low_memory=False)[:-2]\n",
    "data6 = pd.read_csv(\"./Data/NPA_TMA2_6_new.csv\", low_memory=False)[:-2]\n",
    "\n",
    "dataA2 = pd.concat([data1, data2, data3, data4, data5, data6], ignore_index=True)\n",
    "\n",
    "dataA1 = pd.read_csv(\"./Data/NPA_TMA1_new.csv\")[:-2]"
   ]
  },
  {
   "cell_type": "code",
   "execution_count": null,
   "id": "528500c2-6723-4a03-8a47-23b1485d3863",
   "metadata": {},
   "outputs": [],
   "source": [
    "# for i in select_lst:\n",
    "#     print(dataA2[i].value_counts())"
   ]
  },
  {
   "cell_type": "code",
   "execution_count": 32,
   "id": "86ccd12a-31b8-46f8-acd7-fbee6f9a531c",
   "metadata": {},
   "outputs": [],
   "source": [
    "select_lst = [\n",
    "    '道路類別-第1當事者-名稱', '速限-第1當事者', \n",
    "    '道路型態大類別名稱', '道路型態子類別名稱',\n",
    "    '事故位置大類別名稱', '事故位置子類別名稱', \n",
    "    '事故類型及型態大類別名稱', '事故類型及型態子類別名稱',\n",
    "    '路面狀況-路面鋪裝名稱', '路面狀況-路面狀態名稱', '路面狀況-路面缺陷名稱',\n",
    "    '道路障礙-障礙物名稱', '道路障礙-視距品質名稱', '道路障礙-視距名稱',\n",
    "    '號誌-號誌種類名稱', '號誌-號誌動作名稱',\n",
    "    '車道劃分設施-分向設施大類別名稱', '車道劃分設施-分向設施子類別名稱',\n",
    "    '車道劃分設施-分道設施-快車道或一般車道間名稱', '車道劃分設施-分道設施-快慢車道間名稱', '車道劃分設施-分道設施-路面邊線名稱',\n",
    "    '死亡受傷人數'\n",
    "]\n",
    "\n",
    "dist_dfA1 = preprocess(dataA1, select_lst)\n",
    "dist_dfA2 = preprocess(dataA2, select_lst)\n",
    "\n",
    "rbind_data = pd.concat([dist_dfA1[0], dist_dfA2[0]], axis=0, ignore_index=True)\n",
    "rbind_data['速限-第1當事者'] = rbind_data['速限-第1當事者'].apply(lambda x: 1 if x > 60 else 0)\n",
    "\n",
    "select_lst.remove('死亡受傷人數')\n",
    "\n",
    "rbind_data = pd.get_dummies(rbind_data[select_lst], columns=select_lst)\n",
    "\n",
    "X1 = rbind_data.to_numpy()"
   ]
  },
  {
   "cell_type": "code",
   "execution_count": 33,
   "id": "cbf3b8be-8455-44ea-abda-59837183de66",
   "metadata": {},
   "outputs": [
    {
     "name": "stdout",
     "output_type": "stream",
     "text": [
      "0.7968339279926917\n",
      "[0.24139843 0.11647993 0.06990822 0.05897289 0.04888923 0.03367925\n",
      " 0.03299789 0.03136332 0.02868323 0.02471669 0.02423999 0.02255262\n",
      " 0.02212497 0.02188056 0.0189467 ]\n"
     ]
    }
   ],
   "source": [
    "pca = PCA(n_components=15)\n",
    "lens1 = pca.fit_transform(X1)\n",
    "\n",
    "# 查看每個主成分保留的變異量比例\n",
    "explained_variance_ratio = pca.explained_variance_ratio_\n",
    "print(sum(explained_variance_ratio))\n",
    "print(explained_variance_ratio)"
   ]
  },
  {
   "cell_type": "code",
   "execution_count": null,
   "id": "62ebfe06-7d7d-4fd9-b985-931fc2900963",
   "metadata": {},
   "outputs": [],
   "source": [
    "start_time = time.time()\n",
    "\n",
    "lens1 = PCA(5).fit_transform(X1)\n",
    "\n",
    "mapper_algo1 = MapperAlgorithm(\n",
    "    cover = CubicalCover(\n",
    "        n_intervals = 8,\n",
    "        overlap_frac = 0.5\n",
    "    ),\n",
    "    clustering = FailSafeClustering(\n",
    "        clustering = AgglomerativeClustering(3),\n",
    "        verbose = False)\n",
    ")\n",
    "\n",
    "mapper_graph1 = mapper_algo1.fit_transform(X1, lens1)\n",
    "\n",
    "end_time = time.time()\n",
    "elapsed_time = end_time - start_time\n",
    "print(elapsed_time)"
   ]
  },
  {
   "cell_type": "code",
   "execution_count": null,
   "id": "7378f777-4701-4a73-99f1-82a61ec14739",
   "metadata": {
    "tags": []
   },
   "outputs": [],
   "source": [
    "mapper_plot1 = MapperLayoutInteractive(\n",
    "    mapper_graph1,\n",
    "    colors = rbind_data[['道路型態大類別名稱_交岔路']].to_numpy(),\n",
    "    cmap = 'jet',\n",
    "    # agg = np.nanmean,\n",
    "    agg = most_frequent_nonan,\n",
    "    dim = 3,\n",
    "    iterations = 30,\n",
    "    seed = 6,\n",
    "    width = 800,\n",
    "    height = 500)"
   ]
  },
  {
   "cell_type": "code",
   "execution_count": null,
   "id": "3c11e996-4dc0-403f-b1dc-2910a92e5def",
   "metadata": {},
   "outputs": [],
   "source": [
    "fig_mean1 = mapper_plot1.plot()\n",
    "fig_mean1.show(config={'scrollZoom': True})"
   ]
  },
  {
   "cell_type": "code",
   "execution_count": 8,
   "id": "80968938-b915-4b08-a38e-3a6d90a1f41e",
   "metadata": {},
   "outputs": [],
   "source": [
    "# import pickle\n",
    "\n",
    "# with open('CalculatedData/道路V2_dummy.pkl', 'wb') as f:\n",
    "#     pickle.dump(mapper_graph1, f)"
   ]
  },
  {
   "cell_type": "markdown",
   "id": "1e6c0e0f-f626-4701-86bf-91e47e81379a",
   "metadata": {},
   "source": [
    "# 模型比較"
   ]
  },
  {
   "cell_type": "code",
   "execution_count": 49,
   "id": "523a11d9-0fe9-4e33-9c0c-fd5abd63e8fc",
   "metadata": {},
   "outputs": [],
   "source": [
    "# for i in rbind_data.columns:\n",
    "#     print(i)"
   ]
  },
  {
   "cell_type": "code",
   "execution_count": 20,
   "id": "94276c2d-c9c8-4ab1-8aca-15533a004ea6",
   "metadata": {
    "tags": []
   },
   "outputs": [],
   "source": [
    "# List of columns to select\n",
    "select_lst = [\n",
    "    '道路類別-第1當事者-名稱', '速限-第1當事者', \n",
    "    '道路型態大類別名稱', '道路型態子類別名稱',\n",
    "    '事故位置大類別名稱', '事故位置子類別名稱', \n",
    "    '事故類型及型態大類別名稱', '事故類型及型態子類別名稱',\n",
    "    '路面狀況-路面鋪裝名稱', '路面狀況-路面狀態名稱', '路面狀況-路面缺陷名稱',\n",
    "    '道路障礙-障礙物名稱', '道路障礙-視距品質名稱', '道路障礙-視距名稱',\n",
    "    '號誌-號誌種類名稱', '號誌-號誌動作名稱',\n",
    "    '車道劃分設施-分向設施大類別名稱', '車道劃分設施-分向設施子類別名稱',\n",
    "    '車道劃分設施-分道設施-快車道或一般車道間名稱', '車道劃分設施-分道設施-快慢車道間名稱', '車道劃分設施-分道設施-路面邊線名稱',\n",
    "    '死亡受傷人數'\n",
    "]\n",
    "\n",
    "dist_dfA1 = preprocess(dataA1, select_lst)\n",
    "dist_dfA2 = preprocess(dataA2, select_lst)\n",
    "\n",
    "rbind_data = pd.concat([dist_dfA1[0], dist_dfA2[0]], axis=0, ignore_index=True)\n",
    "rbind_data['速限-第1當事者'] = rbind_data['速限-第1當事者'].apply(lambda x: 1 if x > 60 else 0)\n",
    "\n",
    "select_lst.remove('死亡受傷人數')\n",
    "\n",
    "dist_df = process_data(rbind_data)\n",
    "scaler = StandardScaler()\n",
    "full_dist = pd.DataFrame(scaler.fit_transform(dist_df), columns = dist_df.columns)\n",
    "# rbind_data = pd.get_dummies(rbind_data[select_lst], columns=select_lst)\n",
    "\n",
    "X1 = rbind_data.to_numpy()\n",
    "# rbind_data"
   ]
  },
  {
   "cell_type": "code",
   "execution_count": 21,
   "id": "b84341aa-e990-4ddb-a7ea-55e5d8c34fb3",
   "metadata": {},
   "outputs": [
    {
     "data": {
      "text/plain": [
       "Index(['道路類別-第1當事者-名稱', '速限-第1當事者', '道路型態大類別名稱', '道路型態子類別名稱', '事故位置大類別名稱',\n",
       "       '事故位置子類別名稱', '事故類型及型態大類別名稱', '事故類型及型態子類別名稱', '路面狀況-路面鋪裝名稱',\n",
       "       '路面狀況-路面狀態名稱', '路面狀況-路面缺陷名稱', '道路障礙-障礙物名稱', '道路障礙-視距品質名稱', '道路障礙-視距名稱',\n",
       "       '號誌-號誌種類名稱', '號誌-號誌動作名稱', '車道劃分設施-分向設施大類別名稱', '車道劃分設施-分向設施子類別名稱',\n",
       "       '車道劃分設施-分道設施-快車道或一般車道間名稱', '車道劃分設施-分道設施-快慢車道間名稱', '車道劃分設施-分道設施-路面邊線名稱',\n",
       "       '死亡', '受傷'],\n",
       "      dtype='object')"
      ]
     },
     "execution_count": 21,
     "metadata": {},
     "output_type": "execute_result"
    }
   ],
   "source": [
    "full_dist.columns"
   ]
  },
  {
   "cell_type": "code",
   "execution_count": 30,
   "id": "db92e887-d74c-43ac-9f5c-e72b066bdc97",
   "metadata": {},
   "outputs": [],
   "source": [
    "# with open('CalculatedData/道路V2_dummy.pkl', 'rb') as f:\n",
    "#     mapper_graph1 = pickle.load(f)\n",
    "    \n",
    "# mapper_plot1 = MapperLayoutInteractive(\n",
    "#     mapper_graph1,\n",
    "#     colors = full_dist[['號誌-號誌動作名稱']].to_numpy(),\n",
    "#     cmap = 'jet',\n",
    "#     # agg = most_frequent_nonan,\n",
    "#     agg = np.mean,\n",
    "#     dim = 3,\n",
    "#     iterations = 30,\n",
    "#     seed = 6,\n",
    "#     width = 800,\n",
    "#     height = 500)\n",
    "\n",
    "# fig_mean1 = mapper_plot1.plot()\n",
    "# fig_mean1.show(config={'scrollZoom': True})"
   ]
  },
  {
   "cell_type": "code",
   "execution_count": 21,
   "id": "03afc0b6-e649-43c7-9805-d2a709913430",
   "metadata": {},
   "outputs": [],
   "source": [
    "x = vars(mapper_plot1._MapperLayoutInteractive__fig)['_data_objs'][1]['x']\n",
    "y = vars(mapper_plot1._MapperLayoutInteractive__fig)['_data_objs'][1]['y']\n",
    "z = vars(mapper_plot1._MapperLayoutInteractive__fig)['_data_objs'][1]['z']\n",
    "\n",
    "threeDimData = pd.DataFrame({'x': x, 'y': y, 'z': z})\n",
    "\n",
    "import re\n",
    "data_tuple = vars(mapper_plot1._MapperLayoutInteractive__fig)['_data_objs'][1]['text']\n",
    "\n",
    "data = []\n",
    "for item in data_tuple:\n",
    "    color = int(re.search(r'color: (-?\\d+)', item).group(1))\n",
    "    node = int(re.search(r'node: (\\d+)', item).group(1))\n",
    "    size = int(re.search(r'size: (\\d+)', item).group(1))\n",
    "    data.append({'color': color, 'node': node, 'size': size})\n",
    "component_info = pd.DataFrame(data)\n",
    "\n",
    "full_info = pd.concat([component_info, threeDimData], axis=1)\n",
    "\n",
    "mp_content_origin = vars(mapper_plot1._MapperLayoutInteractive__graph)['_node']\n",
    "\n",
    "mp_content = pd.DataFrame.from_dict(mp_content_origin, orient='index')\n",
    "mp_content.reset_index(inplace=True)\n",
    "mp_content.rename(columns={'index': 'node'}, inplace=True)\n",
    "\n",
    "full_info = pd.merge(full_info, mp_content, on=['node', 'size'], how='inner')"
   ]
  },
  {
   "cell_type": "code",
   "execution_count": 27,
   "id": "eeaebfc3-9ae4-4b1c-bd58-f97e868a8837",
   "metadata": {},
   "outputs": [
    {
     "name": "stdout",
     "output_type": "stream",
     "text": [
      "3\n"
     ]
    }
   ],
   "source": [
    "calinski_data = get_calinski_from_db(full_info, 0.1)\n",
    "labels = calinski_data[3]\n",
    "db = calinski_data[2]\n",
    "n_clusters_ = calinski_data[4]\n",
    "\n",
    "print(n_clusters_)\n",
    "\n",
    "# do_plot(full_info, calinski_data, labels, db, n_clusters_)"
   ]
  },
  {
   "cell_type": "code",
   "execution_count": 28,
   "id": "4e1b7d8f-059a-48cc-83db-f9be90f7fe7f",
   "metadata": {},
   "outputs": [
    {
     "name": "stdout",
     "output_type": "stream",
     "text": [
      "01連接點數量 100\n",
      "o0連接點數量 4063\n",
      "o1連接點數量 2740\n",
      "離群值數量 55415\n"
     ]
    },
    {
     "data": {
      "text/plain": [
       "False"
      ]
     },
     "execution_count": 28,
     "metadata": {},
     "output_type": "execute_result"
    }
   ],
   "source": [
    "label_0 = full_info[full_info['label'] == 0]\n",
    "label_1 = full_info[full_info['label'] == 1]\n",
    "label_out = full_info[(full_info['label'] != 1) & (full_info['label'] != 0)]\n",
    "\n",
    "count_0 = get_count_dict(label_0)\n",
    "count_1 = get_count_dict(label_1)\n",
    "count_out = get_count_dict(label_out)\n",
    "\n",
    "full_0 = rbind_data.loc[count_0.keys()]\n",
    "full_1 = rbind_data.loc[count_1.keys()]\n",
    "# 離群值不需要被處理\n",
    "full_out = rbind_data.loc[count_out.keys()]\n",
    "lst01 = list(count_0.keys() & count_1.keys())\n",
    "lsto0 = list(count_out.keys() & count_0.keys())\n",
    "lsto1 = list(count_out.keys() & count_1.keys())\n",
    "# Node\n",
    "full_01 = full_0.loc[lst01]\n",
    "\n",
    "full_combine = pd.concat([full_01], axis=0)\n",
    "full_combine = full_combine.reset_index()\n",
    "full_combine = full_combine.drop_duplicates(subset='index', keep='first')\n",
    "full_combine = full_combine.drop('index', axis=1)\n",
    "# 去掉連接點，使分析更嚴謹\n",
    "full_0 = full_0.drop(lst01 + lsto0, errors='ignore')\n",
    "full_1 = full_1.drop(lst01 + lsto1, errors='ignore')\n",
    "\n",
    "print('01連接點數量', len(lst01))\n",
    "print('o0連接點數量', len(lsto0))\n",
    "print('o1連接點數量', len(lsto1))\n",
    "print('離群值數量', full_out.shape[0])\n",
    "\n",
    "full_combine.shape[0] + full_0.shape[0] + full_1.shape[0] + full_out.shape[0] == rbind_data.shape[0]"
   ]
  },
  {
   "cell_type": "code",
   "execution_count": 58,
   "id": "808fc784-1f28-4ca9-bfd3-bf8d5b44ac0f",
   "metadata": {
    "tags": []
   },
   "outputs": [],
   "source": [
    "# lst_logit = [\n",
    "#     '路面狀況-路面狀態名稱', '當事者屬-性-別名稱', '當事者事故發生時年齡', \n",
    "#     '車輛撞擊部位大類別名稱-最初', \n",
    "#     '光線名稱', '道路類別-第1當事者-名稱',\n",
    "#     '速限-第1當事者', '道路型態大類別名稱', '事故位置大類別名稱', \n",
    "#     '號誌-號誌種類名稱', '車道劃分設施-分向設施大類別名稱', '車道劃分設施-分道設施-快車道或一般車道間名稱',\n",
    "#     '車道劃分設施-分道設施-快慢車道間名稱', '車道劃分設施-分道設施-路面邊線名稱',\n",
    "#     '事故類型及型態大類別名稱', '事故位置子類別名稱', '事故類型及型態子類別名稱', \n",
    "#     '當事者行動狀態子類別名稱', '車輛撞擊部位子類別名稱-最初', '肇因研判子類別名稱-個別',\n",
    "#     '當事者區分-類別-子類別名稱-車種', '保護裝備名稱', '行動電話或電腦或其他相類功能裝置名稱', \n",
    "#     '當事者行動狀態大類別名稱', '車輛撞擊部位大類別名稱-其他', \n",
    "#     '肇因研判大類別名稱-個別', '肇事逃逸類別名稱-是否肇逃', '路面狀況-路面鋪裝名稱', \n",
    "#     # '車道劃分設施-分向設施子類別名稱', '道路障礙-障礙物名稱', '車輛撞擊部位子類別名稱-其他',\n",
    "\n",
    "#     # '號誌-號誌動作名稱', '當事者區分-類別-大類別名稱-車種', '肇因研判大類別名稱-主要', # 降低預測值\n",
    "#     # '道路障礙-視距名稱', '車道劃分設施-分道設施-快慢車道間名稱', '車輛撞擊部位大類別名稱-其他', # 降低預測值\n",
    "#     # '道路型態子類別名稱', '路面狀況-路面缺陷名稱', '天候名稱' # 降低\n",
    "# ]\n",
    "\n",
    "# full_combine_X, full_combine_y = get_clusterN_logit(full_combine, lst_logit)\n",
    "# full_0_X, full_0_y = get_clusterN_logit(full_0, lst_logit)\n",
    "# full_1_X, full_1_y = get_clusterN_logit(full_1, lst_logit)\n",
    "# full_out_X, full_out_y = get_clusterN_logit(full_out, lst_logit)\n",
    "\n",
    "# print(full_combine_y.value_counts())\n",
    "# print(full_out_y.value_counts())\n",
    "# print(full_0_y.value_counts())\n",
    "# print(full_1_y.value_counts())"
   ]
  },
  {
   "cell_type": "markdown",
   "id": "08e3ae67-f1db-401a-8c89-1feb7c4d6c46",
   "metadata": {},
   "source": [
    "# 顯著特徵"
   ]
  },
  {
   "cell_type": "code",
   "execution_count": 43,
   "id": "0783da52-2c60-42c9-bb9b-089c7bb9efb2",
   "metadata": {},
   "outputs": [],
   "source": [
    "def table(colnames, full_0, full_1):\n",
    "    \n",
    "    combined_df = pd.concat([full_0[colnames].value_counts(normalize = True), \n",
    "                             full_1[colnames].value_counts(normalize = True)\n",
    "                            ],\n",
    "                            axis=1).fillna(0)\n",
    "\n",
    "    combined_df.columns = ['A', 'B']\n",
    "    \n",
    "    return combined_df"
   ]
  },
  {
   "cell_type": "code",
   "execution_count": 67,
   "id": "4bad65d7-7c22-4be3-a11a-c512dd1a522f",
   "metadata": {},
   "outputs": [],
   "source": [
    "select_lst = [\n",
    "    '道路類別-第1當事者-名稱', '速限-第1當事者', \n",
    "    '道路型態大類別名稱', '道路型態子類別名稱',\n",
    "    '事故位置大類別名稱', '事故位置子類別名稱', \n",
    "    '事故類型及型態大類別名稱', '事故類型及型態子類別名稱',\n",
    "    '路面狀況-路面鋪裝名稱', '路面狀況-路面狀態名稱', '路面狀況-路面缺陷名稱',\n",
    "    '道路障礙-障礙物名稱', '道路障礙-視距品質名稱', '道路障礙-視距名稱',\n",
    "    '號誌-號誌種類名稱', '號誌-號誌動作名稱',\n",
    "    '車道劃分設施-分向設施大類別名稱', '車道劃分設施-分向設施子類別名稱',\n",
    "    '車道劃分設施-分道設施-快車道或一般車道間名稱', '車道劃分設施-分道設施-快慢車道間名稱', '車道劃分設施-分道設施-路面邊線名稱',\n",
    "    # '死亡受傷人數'\n",
    "]\n",
    "\n",
    "full_0['label'] = 0\n",
    "full_1['label'] = 1\n",
    "\n",
    "labeled_data = pd.concat([full_0, full_1])\n",
    "labeled_data.reset_index(drop=True, inplace=True)\n",
    "\n",
    "\n",
    "def get_clusterN_logit(cluster_data, lst):\n",
    "    scaler = StandardScaler()\n",
    "    \n",
    "    c0_for_lm = process_data(cluster_data)\n",
    "    c0_for_lm_X = pd.DataFrame(scaler.fit_transform(c0_for_lm), columns=c0_for_lm.columns).reset_index(drop=True, inplace=False)\n",
    "    # label設定\n",
    "    c0_for_lm_y = cluster_data.apply(lambda row: 1 if row['label'] != 0 else 2, axis=1)\n",
    "    # c0_for_lm_y = cluster_data['label']\n",
    "        \n",
    "    c0_for_lm_X = c0_for_lm_X[lst]\n",
    "    \n",
    "    return c0_for_lm_X, c0_for_lm_y\n",
    "\n",
    "\n",
    "X, y = get_clusterN_logit(labeled_data, select_lst)"
   ]
  },
  {
   "cell_type": "code",
   "execution_count": 68,
   "id": "38454291-08f8-47fa-95c3-a1c0d4c9d853",
   "metadata": {},
   "outputs": [
    {
     "name": "stdout",
     "output_type": "stream",
     "text": [
      "Optimization terminated successfully.\n",
      "         Current function value: 0.000482\n",
      "         Iterations 15\n",
      "                           Logit Regression Results                           \n",
      "==============================================================================\n",
      "Dep. Variable:                      y   No. Observations:               133260\n",
      "Model:                          Logit   Df Residuals:                   133239\n",
      "Method:                           MLE   Df Model:                           20\n",
      "Date:                Mon, 26 Aug 2024   Pseudo R-squ.:                  0.9993\n",
      "Time:                        00:31:27   Log-Likelihood:                -64.237\n",
      "converged:                       True   LL-Null:                       -89278.\n",
      "Covariance Type:            nonrobust   LLR p-value:                     0.000\n",
      "===========================================================================================\n",
      "                              coef    std err          z      P>|z|      [0.025      0.975]\n",
      "-------------------------------------------------------------------------------------------\n",
      "道路類別-第1當事者-名稱              -0.2692      0.370     -0.727      0.467      -0.995       0.456\n",
      "速限-第1當事者                    0.0048      0.282      0.017      0.986      -0.548       0.558\n",
      "道路型態大類別名稱                  -2.5085      1.387     -1.809      0.070      -5.227       0.210\n",
      "道路型態子類別名稱                   1.9325      1.052      1.837      0.066      -0.129       3.994\n",
      "事故位置大類別名稱                   0.2320      0.967      0.240      0.811      -1.664       2.128\n",
      "事故位置子類別名稱                  -0.3166      0.499     -0.635      0.526      -1.294       0.661\n",
      "事故類型及型態大類別名稱               -0.0069      0.381     -0.018      0.986      -0.754       0.740\n",
      "事故類型及型態子類別名稱                0.2984      0.363      0.822      0.411      -0.413       1.010\n",
      "路面狀況-路面鋪裝名稱                -0.0073      0.451     -0.016      0.987      -0.891       0.876\n",
      "路面狀況-路面狀態名稱                 0.1587      0.323      0.491      0.624      -0.475       0.792\n",
      "路面狀況-路面缺陷名稱                 0.0426      0.226      0.188      0.851      -0.400       0.485\n",
      "道路障礙-障礙物名稱                  0.1098      0.367      0.299      0.765      -0.609       0.828\n",
      "道路障礙-視距品質名稱                -0.0475      0.365     -0.130      0.896      -0.763       0.668\n",
      "道路障礙-視距名稱                   0.0363      0.415      0.088      0.930      -0.777       0.850\n",
      "號誌-號誌種類名稱                   0.6884      0.571      1.206      0.228      -0.430       1.807\n",
      "號誌-號誌動作名稱                 -11.7552      0.855    -13.743      0.000     -13.432     -10.079\n",
      "車道劃分設施-分向設施大類別名稱           -0.6213      0.493     -1.260      0.208      -1.588       0.345\n",
      "車道劃分設施-分向設施子類別名稱            0.3148      0.411      0.766      0.443      -0.490       1.120\n",
      "車道劃分設施-分道設施-快車道或一般車道間名稱     0.2305      0.388      0.594      0.552      -0.530       0.991\n",
      "車道劃分設施-分道設施-快慢車道間名稱        -0.2352      0.405     -0.581      0.562      -1.029       0.559\n",
      "車道劃分設施-分道設施-路面邊線名稱          0.1387      0.376      0.369      0.712      -0.598       0.875\n",
      "===========================================================================================\n",
      "\n",
      "Possibly complete quasi-separation: A fraction 0.90 of observations can be\n",
      "perfectly predicted. This might indicate that there is complete\n",
      "quasi-separation. In this case some parameters will not be identified.\n",
      "Accuracy: 1.00\n"
     ]
    }
   ],
   "source": [
    "import statsmodels.api as sm\n",
    "\n",
    "X_train, X_test, y_train, y_test = train_test_split(X, y.replace(2, 0), test_size=0.2, random_state=42)\n",
    "\n",
    "logit_model = sm.Logit(y_train, X_train)\n",
    "result = logit_model.fit()\n",
    "\n",
    "print(result.summary())\n",
    "\n",
    "log_reg = LogisticRegression()\n",
    "log_reg.fit(X_train, y_train)\n",
    "accuracy = log_reg.score(X_test, y_test)\n",
    "\n",
    "print(f\"Accuracy: {accuracy:.2f}\")"
   ]
  }
 ],
 "metadata": {
  "kernelspec": {
   "display_name": "Python 3 (ipykernel)",
   "language": "python",
   "name": "python3"
  },
  "language_info": {
   "codemirror_mode": {
    "name": "ipython",
    "version": 3
   },
   "file_extension": ".py",
   "mimetype": "text/x-python",
   "name": "python",
   "nbconvert_exporter": "python",
   "pygments_lexer": "ipython3",
   "version": "3.9.12"
  }
 },
 "nbformat": 4,
 "nbformat_minor": 5
}

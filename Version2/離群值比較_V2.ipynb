{
 "cells": [
  {
   "cell_type": "code",
   "execution_count": 1,
   "id": "254ba386-7034-4b44-8e3b-0591363afe22",
   "metadata": {},
   "outputs": [],
   "source": [
    "import os\n",
    "\n",
    "current_dir_path = os.getcwd()\n",
    "current_file_path = os.path.abspath(current_dir_path)\n",
    "current_dir_path = os.path.dirname(current_file_path)\n",
    "parent_dir_path = os.path.dirname(current_dir_path)\n",
    "\n",
    "os.chdir(current_dir_path)\n",
    "\n",
    "import time\n",
    "import pandas as pd\n",
    "import numpy as np\n",
    "import seaborn as sns\n",
    "import statsmodels.api as sm\n",
    "from sklearn import metrics\n",
    "from sklearn.cluster import DBSCAN, KMeans\n",
    "import matplotlib.pyplot as plt\n",
    "from sklearn.metrics import pairwise_distances_argmin_min, accuracy_score, confusion_matrix, ConfusionMatrixDisplay, classification_report\n",
    "import plotly.graph_objects as go\n",
    "from sklearn.decomposition import PCA\n",
    "from sklearn.svm import SVC\n",
    "import seaborn as sns\n",
    "\n",
    "from functions import *\n",
    "from chi import *\n",
    "from regressionP import *\n",
    "from models import *"
   ]
  },
  {
   "cell_type": "code",
   "execution_count": 2,
   "id": "613ecf37-42c8-4b18-a0e1-4f6582e8ec38",
   "metadata": {},
   "outputs": [],
   "source": [
    "data1 = pd.read_csv(\"./Data/NPA_TMA2_1.csv\", low_memory=False)[:-2]\n",
    "data2 = pd.read_csv(\"./Data/NPA_TMA2_2.csv\", low_memory=False)[:-2]\n",
    "data3 = pd.read_csv(\"./Data/NPA_TMA2_3.csv\", low_memory=False)[:-2]\n",
    "data4 = pd.read_csv(\"./Data/NPA_TMA2_4_new.csv\", low_memory=False)[:-2]\n",
    "data5 = pd.read_csv(\"./Data/NPA_TMA2_5.csv\", low_memory=False)[:-2]\n",
    "data6 = pd.read_csv(\"./Data/NPA_TMA2_6_new.csv\", low_memory=False)[:-2]\n",
    "\n",
    "dataA2 = pd.concat([data1, data2, data3, data4, data5, data6], ignore_index=True)\n",
    "\n",
    "dataA1 = pd.read_csv(\"./Data/NPA_TMA1_new.csv\")[:-2]"
   ]
  },
  {
   "cell_type": "code",
   "execution_count": 15,
   "id": "fa21e90f-c713-45bd-98d1-b7a282664c3e",
   "metadata": {},
   "outputs": [
    {
     "data": {
      "text/plain": [
       "array(['無遮蔽物', '有遮蔽物'], dtype=object)"
      ]
     },
     "execution_count": 15,
     "metadata": {},
     "output_type": "execute_result"
    }
   ],
   "source": [
    "dataA2['道路障礙-視距品質名稱'].unique()"
   ]
  },
  {
   "cell_type": "code",
   "execution_count": 16,
   "id": "c315df56-bb3b-47e2-b998-52cd0b7c4a79",
   "metadata": {},
   "outputs": [
    {
     "data": {
      "text/plain": [
       "array(['良好', '路上停放車輛', '建築物', '彎道', '樹木、農作物', '坡道'], dtype=object)"
      ]
     },
     "execution_count": 16,
     "metadata": {},
     "output_type": "execute_result"
    }
   ],
   "source": [
    "dataA2['道路障礙-視距名稱'].unique()"
   ]
  },
  {
   "cell_type": "code",
   "execution_count": 3,
   "id": "e93a21c2-5c23-4f0a-87b4-2deb8a8d99ef",
   "metadata": {},
   "outputs": [
    {
     "name": "stdout",
     "output_type": "stream",
     "text": [
      "(190002, 32)\n"
     ]
    },
    {
     "data": {
      "text/html": [
       "<div>\n",
       "<style scoped>\n",
       "    .dataframe tbody tr th:only-of-type {\n",
       "        vertical-align: middle;\n",
       "    }\n",
       "\n",
       "    .dataframe tbody tr th {\n",
       "        vertical-align: top;\n",
       "    }\n",
       "\n",
       "    .dataframe thead th {\n",
       "        text-align: right;\n",
       "    }\n",
       "</style>\n",
       "<table border=\"1\" class=\"dataframe\">\n",
       "  <thead>\n",
       "    <tr style=\"text-align: right;\">\n",
       "      <th></th>\n",
       "      <th>路面狀況-路面狀態名稱</th>\n",
       "      <th>當事者屬-性-別名稱</th>\n",
       "      <th>當事者事故發生時年齡</th>\n",
       "      <th>車輛撞擊部位大類別名稱-最初</th>\n",
       "      <th>光線名稱</th>\n",
       "      <th>道路類別-第1當事者-名稱</th>\n",
       "      <th>速限-第1當事者</th>\n",
       "      <th>道路型態大類別名稱</th>\n",
       "      <th>事故位置大類別名稱</th>\n",
       "      <th>號誌-號誌種類名稱</th>\n",
       "      <th>...</th>\n",
       "      <th>行動電話或電腦或其他相類功能裝置名稱</th>\n",
       "      <th>當事者行動狀態大類別名稱</th>\n",
       "      <th>車輛撞擊部位大類別名稱-其他</th>\n",
       "      <th>肇因研判大類別名稱-個別</th>\n",
       "      <th>肇事逃逸類別名稱-是否肇逃</th>\n",
       "      <th>號誌-號誌動作名稱</th>\n",
       "      <th>經度</th>\n",
       "      <th>緯度</th>\n",
       "      <th>死亡</th>\n",
       "      <th>受傷</th>\n",
       "    </tr>\n",
       "  </thead>\n",
       "  <tbody>\n",
       "    <tr>\n",
       "      <th>0</th>\n",
       "      <td>-0.355187</td>\n",
       "      <td>0.745712</td>\n",
       "      <td>-1.096234</td>\n",
       "      <td>-0.371880</td>\n",
       "      <td>0.111540</td>\n",
       "      <td>2.097702</td>\n",
       "      <td>-0.15</td>\n",
       "      <td>1.212144</td>\n",
       "      <td>0.484573</td>\n",
       "      <td>-0.709452</td>\n",
       "      <td>...</td>\n",
       "      <td>0.434569</td>\n",
       "      <td>0.143844</td>\n",
       "      <td>-0.317864</td>\n",
       "      <td>0.505131</td>\n",
       "      <td>-0.134457</td>\n",
       "      <td>0.832756</td>\n",
       "      <td>-0.603204</td>\n",
       "      <td>-1.816443</td>\n",
       "      <td>14.935241</td>\n",
       "      <td>-2.807915</td>\n",
       "    </tr>\n",
       "    <tr>\n",
       "      <th>1</th>\n",
       "      <td>-0.355187</td>\n",
       "      <td>0.745712</td>\n",
       "      <td>0.673842</td>\n",
       "      <td>1.177433</td>\n",
       "      <td>1.444841</td>\n",
       "      <td>-0.256845</td>\n",
       "      <td>-0.15</td>\n",
       "      <td>-0.813956</td>\n",
       "      <td>-0.873359</td>\n",
       "      <td>2.784275</td>\n",
       "      <td>...</td>\n",
       "      <td>0.434569</td>\n",
       "      <td>0.143844</td>\n",
       "      <td>-0.317864</td>\n",
       "      <td>0.505131</td>\n",
       "      <td>-0.134457</td>\n",
       "      <td>-1.199578</td>\n",
       "      <td>1.121705</td>\n",
       "      <td>0.994082</td>\n",
       "      <td>14.935241</td>\n",
       "      <td>-0.621437</td>\n",
       "    </tr>\n",
       "    <tr>\n",
       "      <th>2</th>\n",
       "      <td>-0.355187</td>\n",
       "      <td>0.745712</td>\n",
       "      <td>0.673842</td>\n",
       "      <td>-0.371880</td>\n",
       "      <td>-1.221761</td>\n",
       "      <td>2.882552</td>\n",
       "      <td>-0.15</td>\n",
       "      <td>1.212144</td>\n",
       "      <td>1.163539</td>\n",
       "      <td>-0.709452</td>\n",
       "      <td>...</td>\n",
       "      <td>-2.165591</td>\n",
       "      <td>-5.788560</td>\n",
       "      <td>-0.317864</td>\n",
       "      <td>0.505131</td>\n",
       "      <td>-0.134457</td>\n",
       "      <td>0.832756</td>\n",
       "      <td>-2.406538</td>\n",
       "      <td>-0.595579</td>\n",
       "      <td>14.935241</td>\n",
       "      <td>-2.807915</td>\n",
       "    </tr>\n",
       "    <tr>\n",
       "      <th>3</th>\n",
       "      <td>-0.355187</td>\n",
       "      <td>0.745712</td>\n",
       "      <td>-0.211196</td>\n",
       "      <td>-0.371880</td>\n",
       "      <td>-1.221761</td>\n",
       "      <td>-0.256845</td>\n",
       "      <td>-0.15</td>\n",
       "      <td>-0.813956</td>\n",
       "      <td>-0.873359</td>\n",
       "      <td>2.784275</td>\n",
       "      <td>...</td>\n",
       "      <td>0.434569</td>\n",
       "      <td>0.143844</td>\n",
       "      <td>-0.317864</td>\n",
       "      <td>0.505131</td>\n",
       "      <td>-0.134457</td>\n",
       "      <td>-1.199578</td>\n",
       "      <td>0.948751</td>\n",
       "      <td>1.035452</td>\n",
       "      <td>14.935241</td>\n",
       "      <td>-0.621437</td>\n",
       "    </tr>\n",
       "    <tr>\n",
       "      <th>4</th>\n",
       "      <td>-0.355187</td>\n",
       "      <td>0.745712</td>\n",
       "      <td>-1.096234</td>\n",
       "      <td>-0.371880</td>\n",
       "      <td>1.444841</td>\n",
       "      <td>2.097702</td>\n",
       "      <td>-0.15</td>\n",
       "      <td>1.212144</td>\n",
       "      <td>1.163539</td>\n",
       "      <td>-0.709452</td>\n",
       "      <td>...</td>\n",
       "      <td>-2.165591</td>\n",
       "      <td>0.143844</td>\n",
       "      <td>2.547982</td>\n",
       "      <td>0.505131</td>\n",
       "      <td>-0.134457</td>\n",
       "      <td>0.832756</td>\n",
       "      <td>1.833946</td>\n",
       "      <td>0.215091</td>\n",
       "      <td>14.935241</td>\n",
       "      <td>-2.807915</td>\n",
       "    </tr>\n",
       "  </tbody>\n",
       "</table>\n",
       "<p>5 rows × 32 columns</p>\n",
       "</div>"
      ],
      "text/plain": [
       "   路面狀況-路面狀態名稱  當事者屬-性-別名稱  當事者事故發生時年齡  車輛撞擊部位大類別名稱-最初      光線名稱  \\\n",
       "0    -0.355187    0.745712   -1.096234       -0.371880  0.111540   \n",
       "1    -0.355187    0.745712    0.673842        1.177433  1.444841   \n",
       "2    -0.355187    0.745712    0.673842       -0.371880 -1.221761   \n",
       "3    -0.355187    0.745712   -0.211196       -0.371880 -1.221761   \n",
       "4    -0.355187    0.745712   -1.096234       -0.371880  1.444841   \n",
       "\n",
       "   道路類別-第1當事者-名稱  速限-第1當事者  道路型態大類別名稱  事故位置大類別名稱  號誌-號誌種類名稱  ...  \\\n",
       "0       2.097702     -0.15   1.212144   0.484573  -0.709452  ...   \n",
       "1      -0.256845     -0.15  -0.813956  -0.873359   2.784275  ...   \n",
       "2       2.882552     -0.15   1.212144   1.163539  -0.709452  ...   \n",
       "3      -0.256845     -0.15  -0.813956  -0.873359   2.784275  ...   \n",
       "4       2.097702     -0.15   1.212144   1.163539  -0.709452  ...   \n",
       "\n",
       "   行動電話或電腦或其他相類功能裝置名稱  當事者行動狀態大類別名稱  車輛撞擊部位大類別名稱-其他  肇因研判大類別名稱-個別  \\\n",
       "0            0.434569      0.143844       -0.317864      0.505131   \n",
       "1            0.434569      0.143844       -0.317864      0.505131   \n",
       "2           -2.165591     -5.788560       -0.317864      0.505131   \n",
       "3            0.434569      0.143844       -0.317864      0.505131   \n",
       "4           -2.165591      0.143844        2.547982      0.505131   \n",
       "\n",
       "   肇事逃逸類別名稱-是否肇逃  號誌-號誌動作名稱        經度        緯度         死亡        受傷  \n",
       "0      -0.134457   0.832756 -0.603204 -1.816443  14.935241 -2.807915  \n",
       "1      -0.134457  -1.199578  1.121705  0.994082  14.935241 -0.621437  \n",
       "2      -0.134457   0.832756 -2.406538 -0.595579  14.935241 -2.807915  \n",
       "3      -0.134457  -1.199578  0.948751  1.035452  14.935241 -0.621437  \n",
       "4      -0.134457   0.832756  1.833946  0.215091  14.935241 -2.807915  \n",
       "\n",
       "[5 rows x 32 columns]"
      ]
     },
     "execution_count": 3,
     "metadata": {},
     "output_type": "execute_result"
    }
   ],
   "source": [
    "def preprocess(input_data, select_lst):\n",
    "    sample_data = input_data[input_data['當事者順位'] == 1].reset_index(drop=True, inplace=False)\n",
    "    sample_data = sample_data[sample_data['發生月份'] < 7]\n",
    "    dataA = sample_data[select_lst]\n",
    "    \n",
    "    death_injury_data = split_death_injury(dataA['死亡受傷人數'])\n",
    "    dist_df = pd.concat([dataA, death_injury_data], axis=1)\n",
    "    dist_df.drop(columns=['死亡受傷人數'], inplace=True)\n",
    "    \n",
    "    return dist_df, sample_data\n",
    "\n",
    "# List of columns to select\n",
    "select_lst = [\n",
    "    '路面狀況-路面狀態名稱',\n",
    "    '當事者屬-性-別名稱', '當事者事故發生時年齡', \n",
    "    '車輛撞擊部位大類別名稱-最初',\n",
    "    '光線名稱',\n",
    "    '道路類別-第1當事者-名稱',\n",
    "    '速限-第1當事者',\n",
    "    '道路型態大類別名稱',\n",
    "    '事故位置大類別名稱', \n",
    "    '號誌-號誌種類名稱',\n",
    "    '車道劃分設施-分向設施大類別名稱', '車道劃分設施-分道設施-快車道或一般車道間名稱',\n",
    "    '車道劃分設施-分道設施-快慢車道間名稱', '車道劃分設施-分道設施-路面邊線名稱',\n",
    "    '事故類型及型態大類別名稱',\n",
    "    '事故位置子類別名稱', '事故類型及型態子類別名稱', \n",
    "    '當事者行動狀態子類別名稱', '車輛撞擊部位子類別名稱-最初', '肇因研判子類別名稱-個別',\n",
    "    '當事者區分-類別-子類別名稱-車種',\n",
    "    '保護裝備名稱', '行動電話或電腦或其他相類功能裝置名稱', \n",
    "    '當事者行動狀態大類別名稱',\n",
    "    '車輛撞擊部位大類別名稱-其他', '肇因研判大類別名稱-個別', '肇事逃逸類別名稱-是否肇逃',\n",
    "    '號誌-號誌動作名稱',\n",
    "    '死亡受傷人數',\n",
    "    '經度', '緯度',\n",
    "]\n",
    "\n",
    "dist_dfA1 = preprocess(dataA1, select_lst)\n",
    "dist_dfA2 = preprocess(dataA2, select_lst)\n",
    "\n",
    "rbind_data = pd.concat([dist_dfA1[0], dist_dfA2[0]], axis=0, ignore_index=True)\n",
    "\n",
    "rbind_data.loc[rbind_data['受傷'] > 1, '受傷'] = 2\n",
    "rbind_data['速限-第1當事者'] = rbind_data['速限-第1當事者'].apply(lambda x: 1 if x > 60 else 0)\n",
    "rbind_data = process_age(rbind_data)\n",
    "\n",
    "dist_df = process_data(rbind_data)\n",
    "scaler = StandardScaler()\n",
    "\n",
    "full_dist = pd.DataFrame(scaler.fit_transform(dist_df), columns = dist_df.columns)\n",
    "X1 = full_dist.drop(['受傷', '死亡', '經度', '緯度'], axis=1)\n",
    "\n",
    "print(full_dist.shape)\n",
    "full_dist.head()"
   ]
  },
  {
   "cell_type": "code",
   "execution_count": 1,
   "id": "b4d4e603-241b-43e0-ad31-4efb97336b03",
   "metadata": {},
   "outputs": [],
   "source": [
    "# for i in dist_dfA2[0].columns:\n",
    "#     print(dist_dfA2[0][i].value_counts())"
   ]
  },
  {
   "cell_type": "code",
   "execution_count": null,
   "id": "fcf8a077-551a-428e-8fd9-98a4638a8e71",
   "metadata": {},
   "outputs": [],
   "source": [
    "from sklearn.decomposition import PCA\n",
    "from sklearn.cluster import AgglomerativeClustering\n",
    "from sklearn.metrics import pairwise_distances\n",
    "import time\n",
    "\n",
    "select_lst_new = [\n",
    "    '光線名稱',\n",
    "    '道路類別-第1當事者-名稱',\n",
    "    '速限-第1當事者',\n",
    "    '道路型態大類別名稱', \n",
    "    '事故位置大類別名稱',\n",
    "    '號誌-號誌種類名稱',\n",
    "    '車道劃分設施-分向設施大類別名稱', \n",
    "    '車道劃分設施-分道設施-快車道或一般車道間名稱',\n",
    "    '車道劃分設施-分道設施-快慢車道間名稱', \n",
    "    '車道劃分設施-分道設施-路面邊線名稱',\n",
    "    '事故類型及型態大類別名稱',\n",
    "]\n",
    "\n",
    "start_time = time.time()\n",
    "\n",
    "# Apply PCA\n",
    "lens1 = PCA(10)\n",
    "lens_result = lens1.fit_transform(X1[select_lst_new].to_numpy())\n",
    "\n",
    "# Calculate Hamming distance\n",
    "hamming_dist = pairwise_distances(lens_result, metric='hamming')\n",
    "\n",
    "# Perform Agglomerative Clustering using precomputed distance matrix\n",
    "clustering = AgglomerativeClustering(n_clusters=None, distance_threshold=0.1, affinity='precomputed', linkage='average').fit(hamming_dist)\n",
    "labels = clustering.labels_\n",
    "\n",
    "n_clusters_ = len(set(labels)) - (1 if -1 in labels else 0)\n",
    "n_noise_ = list(labels).count(-1)\n",
    "\n",
    "end_time = time.time()\n",
    "elapsed_time = end_time - start_time\n",
    "print(elapsed_time)\n",
    "\n",
    "n_clusters_"
   ]
  },
  {
   "cell_type": "code",
   "execution_count": 1,
   "id": "a1c72209-b975-46aa-ad4e-19387bb2278c",
   "metadata": {},
   "outputs": [],
   "source": [
    "select_lst_new = [\n",
    "    '光線名稱',\n",
    "    '道路類別-第1當事者-名稱',\n",
    "    '速限-第1當事者',\n",
    "    '道路型態大類別名稱', '事故位置大類別名稱',\n",
    "    '號誌-號誌種類名稱',\n",
    "    '車道劃分設施-分向設施大類別名稱', '車道劃分設施-分道設施-快車道或一般車道間名稱',\n",
    "    '車道劃分設施-分道設施-快慢車道間名稱', '車道劃分設施-分道設施-路面邊線名稱',\n",
    "    '事故類型及型態大類別名稱',\n",
    "]\n",
    "\n",
    "start_time = time.time()\n",
    "\n",
    "lens1 = PCA(10) # 10 最好\n",
    "lens_result = lens1.fit_transform(X1[select_lst_new].to_numpy())\n",
    "\n",
    "db = DBSCAN(eps=2.35, min_samples=10).fit(lens_result)\n",
    "labels = db.labels_\n",
    "\n",
    "n_clusters_ = len(set(labels)) - (1 if -1 in labels else 0)\n",
    "n_noise_ = list(labels).count(-1)\n",
    "\n",
    "end_time = time.time()\n",
    "elapsed_time = end_time - start_time\n",
    "print(elapsed_time)\n",
    "\n",
    "n_clusters_"
   ]
  },
  {
   "cell_type": "code",
   "execution_count": 19,
   "id": "3710fa50-192e-4c02-bfda-d05d444e4eab",
   "metadata": {},
   "outputs": [],
   "source": [
    "rbind_data['label'] = labels"
   ]
  },
  {
   "cell_type": "code",
   "execution_count": 31,
   "id": "5b10b181-a06c-4531-9bde-ec7d7ef28a29",
   "metadata": {},
   "outputs": [
    {
     "name": "stdout",
     "output_type": "stream",
     "text": [
      "0    176937\n",
      "Name: 速限-第1當事者, dtype: int64\n",
      "0    8831\n",
      "Name: 速限-第1當事者, dtype: int64\n",
      "1    4090\n",
      "Name: 速限-第1當事者, dtype: int64\n"
     ]
    }
   ],
   "source": [
    "print(rbind_data[rbind_data['label'] == 0]['速限-第1當事者'].value_counts())\n",
    "print(rbind_data[rbind_data['label'] == 1]['速限-第1當事者'].value_counts())\n",
    "print(rbind_data[rbind_data['label'] == 2]['速限-第1當事者'].value_counts())"
   ]
  },
  {
   "cell_type": "code",
   "execution_count": 32,
   "id": "cf821897-847b-447e-a50d-cfbe23c1e2bd",
   "metadata": {},
   "outputs": [
    {
     "name": "stdout",
     "output_type": "stream",
     "text": [
      "車與車      156667\n",
      "車輛本身      20268\n",
      "平交道事故         1\n",
      "人與車           1\n",
      "Name: 事故類型及型態大類別名稱, dtype: int64\n",
      "人與車    8831\n",
      "Name: 事故類型及型態大類別名稱, dtype: int64\n",
      "車與車     3388\n",
      "車輛本身     702\n",
      "Name: 事故類型及型態大類別名稱, dtype: int64\n"
     ]
    }
   ],
   "source": [
    "print(rbind_data[rbind_data['label'] == 0]['事故類型及型態大類別名稱'].value_counts())\n",
    "print(rbind_data[rbind_data['label'] == 1]['事故類型及型態大類別名稱'].value_counts())\n",
    "print(rbind_data[rbind_data['label'] == 2]['事故類型及型態大類別名稱'].value_counts())"
   ]
  },
  {
   "cell_type": "code",
   "execution_count": 126,
   "id": "0fcd36b0-ad5f-433b-a51f-dfd152022ac7",
   "metadata": {},
   "outputs": [],
   "source": [
    "for i in set(labels):\n",
    "    noise_mask = labels == i\n",
    "    noise_rows = rbind_data[noise_mask]\n",
    "\n",
    "    print(i, ':', noise_rows.shape)"
   ]
  },
  {
   "cell_type": "code",
   "execution_count": 124,
   "id": "aca80955-e013-4498-a45f-aca2255c7911",
   "metadata": {},
   "outputs": [],
   "source": [
    "# noise_rows.to_csv('CalculatedData/離群比較/原始235_V2.csv', index=False) #2.35"
   ]
  },
  {
   "cell_type": "markdown",
   "id": "ee03da85-1309-4812-a524-f8e87a7e82cb",
   "metadata": {},
   "source": [
    "## 比較不同的離群"
   ]
  },
  {
   "cell_type": "code",
   "execution_count": 20,
   "id": "a4b2b7e6-a088-4e73-8b5f-90fdf3746702",
   "metadata": {},
   "outputs": [
    {
     "name": "stdout",
     "output_type": "stream",
     "text": [
      "(144, 29)\n",
      "(391, 29)\n"
     ]
    }
   ],
   "source": [
    "lst_logit = [\n",
    "    '路面狀況-路面狀態名稱',\n",
    "    '當事者屬-性-別名稱', '當事者事故發生時年齡', \n",
    "    '車輛撞擊部位大類別名稱-最初',\n",
    "    '光線名稱',\n",
    "    '道路類別-第1當事者-名稱',\n",
    "    '速限-第1當事者',\n",
    "    '道路型態大類別名稱',\n",
    "    '事故位置大類別名稱', \n",
    "    '號誌-號誌種類名稱',\n",
    "    '車道劃分設施-分向設施大類別名稱', '車道劃分設施-分道設施-快車道或一般車道間名稱',\n",
    "    '車道劃分設施-分道設施-快慢車道間名稱', '車道劃分設施-分道設施-路面邊線名稱',\n",
    "    '事故類型及型態大類別名稱',\n",
    "    '事故位置子類別名稱', '事故類型及型態子類別名稱', \n",
    "    '當事者行動狀態子類別名稱', '車輛撞擊部位子類別名稱-最初', '肇因研判子類別名稱-個別',\n",
    "    '當事者區分-類別-子類別名稱-車種',\n",
    "    '保護裝備名稱', '行動電話或電腦或其他相類功能裝置名稱', \n",
    "    '當事者行動狀態大類別名稱',\n",
    "    '車輛撞擊部位大類別名稱-其他', '肇因研判大類別名稱-個別', '肇事逃逸類別名稱-是否肇逃',\n",
    "    '號誌-號誌動作名稱',\n",
    "    '死亡'\n",
    "]\n",
    "data_origin = pd.read_csv('CalculatedData/離群比較/原始235_V2.csv')[lst_logit]\n",
    "data_mapper = pd.read_csv('CalculatedData/離群比較/拓墣V2_new.csv')[lst_logit]\n",
    "\n",
    "print(data_origin.shape)\n",
    "print(data_mapper.shape)"
   ]
  },
  {
   "cell_type": "code",
   "execution_count": 21,
   "id": "2f3c985d-fc51-4344-919e-16ebe35076e0",
   "metadata": {},
   "outputs": [
    {
     "name": "stdout",
     "output_type": "stream",
     "text": [
      "(56, 29)\n",
      "(303, 29)\n",
      "重複： 88\n",
      "True\n",
      "True\n"
     ]
    }
   ],
   "source": [
    "overlapping_rows = pd.merge(data_origin, data_mapper)\n",
    "\n",
    "# 使用所有列篩選，以确保完全匹配\n",
    "overlapping_index_origin = data_origin[data_origin.apply(tuple, axis=1).isin(overlapping_rows.apply(tuple, axis=1))].index\n",
    "overlapping_index_mapper = data_mapper[data_mapper.apply(tuple, axis=1).isin(overlapping_rows.apply(tuple, axis=1))].index\n",
    "\n",
    "# 提取重叠的行\n",
    "overlapping_rows_origin = data_origin.loc[overlapping_index_origin]\n",
    "overlapping_rows_mapper = data_mapper.loc[overlapping_index_mapper]\n",
    "\n",
    "non_overlapping_rows_origin = data_origin.loc[~data_origin.index.isin(overlapping_index_origin)].copy()\n",
    "non_overlapping_rows_mapper = data_mapper.loc[~data_mapper.index.isin(overlapping_index_mapper)].copy()\n",
    "\n",
    "print(non_overlapping_rows_origin.shape)\n",
    "print(non_overlapping_rows_mapper.shape)\n",
    "print('重複：', overlapping_rows.shape[0])\n",
    "\n",
    "print(len(overlapping_index_origin) == len(overlapping_index_mapper))\n",
    "print(overlapping_rows_origin.shape[0] == overlapping_rows_mapper.shape[0])"
   ]
  },
  {
   "cell_type": "code",
   "execution_count": 22,
   "id": "3458caeb-0186-45b0-ba57-fe6f148a4099",
   "metadata": {},
   "outputs": [
    {
     "data": {
      "image/png": "[encoded data removed]",
      "text/plain": [
       "<Figure size 576x576 with 1 Axes>"
      ]
     },
     "metadata": {},
     "output_type": "display_data"
    }
   ],
   "source": [
    "from matplotlib_venn import venn2 # 文氏圖\n",
    "\n",
    "overlapping_rows_count = overlapping_rows.shape[0]\n",
    "total_origin = non_overlapping_rows_origin.shape[0] + overlapping_rows_count\n",
    "total_mapper = non_overlapping_rows_mapper.shape[0] + overlapping_rows_count\n",
    "\n",
    "origin_set = set(range(total_origin))\n",
    "mapper_set = set(range(total_mapper))\n",
    "\n",
    "plt.figure(figsize=(8, 8))\n",
    "venn = venn2(subsets = (non_overlapping_rows_origin.shape[0], non_overlapping_rows_mapper.shape[0], overlapping_rows_count), \n",
    "             set_labels = ('Origin', 'Mapper'))\n",
    "\n",
    "plt.title('Outlier Dataset')\n",
    "plt.show()"
   ]
  },
  {
   "cell_type": "code",
   "execution_count": 23,
   "id": "bd6751c5-6e41-4e54-9a30-9e336e945683",
   "metadata": {},
   "outputs": [],
   "source": [
    "# full_out.head()"
   ]
  },
  {
   "cell_type": "code",
   "execution_count": 24,
   "id": "b6603855-a0f2-4392-ab20-0765449408ad",
   "metadata": {},
   "outputs": [],
   "source": [
    "overlapping_rows = pd.merge(data_origin, data_mapper)\n",
    "non_overlapping_rows_mapper = data_mapper.loc[~data_mapper.index.isin(overlapping_index_mapper)].copy()\n",
    "\n",
    "overlapping_rows['type'] = 'overlap'\n",
    "non_overlapping_rows_mapper['type'] = 'mapper'\n",
    "\n",
    "data_combined = pd.concat([non_overlapping_rows_mapper, overlapping_rows], ignore_index=True)\n",
    "\n",
    "full_dist = process_data(data_combined)\n",
    "typedt = full_dist['type']\n",
    "\n",
    "scaler = StandardScaler()\n",
    "full_dist = pd.DataFrame(scaler.fit_transform(full_dist), columns = full_dist.columns)\n",
    "\n",
    "full_dist.drop(['type'], axis=1, inplace=True)"
   ]
  },
  {
   "cell_type": "code",
   "execution_count": 25,
   "id": "e1d0df87-3069-4a51-ad1e-2411af69ba04",
   "metadata": {},
   "outputs": [
    {
     "data": {
      "image/png": "[encoded data removed]",
      "text/plain": [
       "<Figure size 576x576 with 1 Axes>"
      ]
     },
     "metadata": {},
     "output_type": "display_data"
    }
   ],
   "source": [
    "lst_logit = [\n",
    "    '路面狀況-路面狀態名稱',\n",
    "    '當事者屬-性-別名稱', '當事者事故發生時年齡', \n",
    "    '車輛撞擊部位大類別名稱-最初',\n",
    "    '光線名稱',\n",
    "    '道路類別-第1當事者-名稱',\n",
    "    '速限-第1當事者',\n",
    "    '道路型態大類別名稱',\n",
    "    '事故位置大類別名稱', \n",
    "    '號誌-號誌種類名稱',\n",
    "    '車道劃分設施-分向設施大類別名稱', '車道劃分設施-分道設施-快車道或一般車道間名稱',\n",
    "    '車道劃分設施-分道設施-快慢車道間名稱', '車道劃分設施-分道設施-路面邊線名稱',\n",
    "    '事故類型及型態大類別名稱',\n",
    "    '事故位置子類別名稱', '事故類型及型態子類別名稱', \n",
    "    '當事者行動狀態子類別名稱', '車輛撞擊部位子類別名稱-最初', '肇因研判子類別名稱-個別',\n",
    "    '當事者區分-類別-子類別名稱-車種',\n",
    "    '保護裝備名稱', '行動電話或電腦或其他相類功能裝置名稱', \n",
    "    '當事者行動狀態大類別名稱',\n",
    "    '車輛撞擊部位大類別名稱-其他', '肇因研判大類別名稱-個別', '肇事逃逸類別名稱-是否肇逃',\n",
    "    '號誌-號誌動作名稱',\n",
    "    '死亡', '受傷'\n",
    "]\n",
    "data_origin = pd.read_csv('CalculatedData/離群比較/原始235_V2.csv')[lst_logit]\n",
    "data_mapper = pd.read_csv('CalculatedData/離群比較/拓墣V2_new.csv')[lst_logit]\n",
    "\n",
    "data_origin = data_origin[data_origin['死亡'] != 0]\n",
    "data_mapper = data_mapper[data_mapper['死亡'] != 0]\n",
    "\n",
    "overlapping_rows = pd.merge(data_origin, data_mapper)\n",
    "\n",
    "overlapping_index_origin = data_origin[data_origin.apply(tuple, axis=1).isin(overlapping_rows.apply(tuple, axis=1))].index\n",
    "overlapping_index_mapper = data_mapper[data_mapper.apply(tuple, axis=1).isin(overlapping_rows.apply(tuple, axis=1))].index\n",
    "\n",
    "overlapping_rows_origin = data_origin.loc[overlapping_index_origin]\n",
    "overlapping_rows_mapper = data_mapper.loc[overlapping_index_mapper]\n",
    "\n",
    "non_overlapping_rows_origin = data_origin.loc[~data_origin.index.isin(overlapping_index_origin)].copy()\n",
    "non_overlapping_rows_mapper = data_mapper.loc[~data_mapper.index.isin(overlapping_index_mapper)].copy()\n",
    "\n",
    "overlapping_rows_count = overlapping_rows.shape[0]\n",
    "total_origin = non_overlapping_rows_origin.shape[0] + overlapping_rows_count\n",
    "total_mapper = non_overlapping_rows_mapper.shape[0] + overlapping_rows_count\n",
    "\n",
    "plt.figure(figsize=(8, 8))\n",
    "venn = venn2(subsets = (non_overlapping_rows_origin.shape[0], non_overlapping_rows_mapper.shape[0], overlapping_rows_count), \n",
    "             set_labels = ('Origin', 'Mapper'))\n",
    "\n",
    "plt.title('A1 Outlier Dataset')\n",
    "plt.show()"
   ]
  },
  {
   "cell_type": "code",
   "execution_count": 26,
   "id": "c44f5c9c-5beb-4d0e-b190-a4b4714c01d4",
   "metadata": {},
   "outputs": [],
   "source": [
    "# non_overlapping_rows_origin"
   ]
  },
  {
   "cell_type": "code",
   "execution_count": 27,
   "id": "f2f3165f-95a8-4821-a324-47cf58863139",
   "metadata": {},
   "outputs": [],
   "source": [
    "# non_overlapping_rows_mapper"
   ]
  },
  {
   "cell_type": "code",
   "execution_count": 28,
   "id": "ed3a23ba-8b54-406e-9fb5-e4e9cf3b2c99",
   "metadata": {},
   "outputs": [],
   "source": [
    "# overlapping_rows"
   ]
  },
  {
   "cell_type": "code",
   "execution_count": 29,
   "id": "fe096246-93d4-4f7e-a867-b5412bde09d5",
   "metadata": {},
   "outputs": [],
   "source": [
    "# for i in overlapping_rows.columns:\n",
    "#     print('--------------------------',i,'--------------------------')\n",
    "#     print('overlap \\n', overlapping_rows[i].value_counts())\n",
    "#     print('mapper \\n', non_overlapping_rows_mapper[i].value_counts())"
   ]
  },
  {
   "cell_type": "code",
   "execution_count": 30,
   "id": "fabdced5-ad03-496d-8b48-232ef390c107",
   "metadata": {},
   "outputs": [
    {
     "data": {
      "image/png": "[encoded data removed]",
      "text/plain": [
       "<Figure size 576x576 with 1 Axes>"
      ]
     },
     "metadata": {},
     "output_type": "display_data"
    }
   ],
   "source": [
    "data_origin = pd.read_csv('CalculatedData/離群比較/原始235_V2.csv')[lst_logit]\n",
    "data_mapper = pd.read_csv('CalculatedData/離群比較/拓墣V2_new.csv')[lst_logit]\n",
    "\n",
    "data_origin = data_origin[data_origin['死亡'] == 0]\n",
    "data_mapper = data_mapper[data_mapper['死亡'] == 0]\n",
    "\n",
    "overlapping_rows = pd.merge(data_origin, data_mapper)\n",
    "\n",
    "# 使用所有列篩選，以确保完全匹配\n",
    "overlapping_index_origin = data_origin[data_origin.apply(tuple, axis=1).isin(overlapping_rows.apply(tuple, axis=1))].index\n",
    "overlapping_index_mapper = data_mapper[data_mapper.apply(tuple, axis=1).isin(overlapping_rows.apply(tuple, axis=1))].index\n",
    "\n",
    "# 提取重叠的行\n",
    "overlapping_rows_origin = data_origin.loc[overlapping_index_origin]\n",
    "overlapping_rows_mapper = data_mapper.loc[overlapping_index_mapper]\n",
    "\n",
    "non_overlapping_rows_origin = data_origin.loc[~data_origin.index.isin(overlapping_index_origin)].copy()\n",
    "non_overlapping_rows_mapper = data_mapper.loc[~data_mapper.index.isin(overlapping_index_mapper)].copy()\n",
    "\n",
    "overlapping_rows_count = overlapping_rows.shape[0]\n",
    "total_origin = non_overlapping_rows_origin.shape[0] + overlapping_rows_count\n",
    "total_mapper = non_overlapping_rows_mapper.shape[0] + overlapping_rows_count\n",
    "\n",
    "plt.figure(figsize=(8, 8))\n",
    "venn = venn2(subsets = (non_overlapping_rows_origin.shape[0], non_overlapping_rows_mapper.shape[0], overlapping_rows_count), \n",
    "             set_labels = ('Origin', 'Mapper'))\n",
    "\n",
    "plt.title('A2 Outlier Dataset')\n",
    "plt.show()"
   ]
  },
  {
   "cell_type": "code",
   "execution_count": 31,
   "id": "09bedb2e-99fb-4426-bac2-1374cc941046",
   "metadata": {},
   "outputs": [
    {
     "data": {
      "text/plain": [
       "(81, 30)"
      ]
     },
     "execution_count": 31,
     "metadata": {},
     "output_type": "execute_result"
    }
   ],
   "source": [
    "non_overlapping_rows_mapper.shape\n",
    "overlapping_rows.shape"
   ]
  },
  {
   "cell_type": "markdown",
   "id": "c4b8a011-247c-4b28-9037-3636d88d1804",
   "metadata": {},
   "source": [
    "# 區分連接點和Mapper獨有"
   ]
  },
  {
   "cell_type": "code",
   "execution_count": 32,
   "id": "89d8bca0-b9ee-4b5a-ac83-744f38180dc7",
   "metadata": {},
   "outputs": [],
   "source": [
    "select_lst = [\n",
    "    '路面狀況-路面狀態名稱',\n",
    "    '當事者屬-性-別名稱', '當事者事故發生時年齡', \n",
    "    '車輛撞擊部位大類別名稱-最初',\n",
    "    '光線名稱',\n",
    "    '道路類別-第1當事者-名稱',\n",
    "    '速限-第1當事者',\n",
    "    '道路型態大類別名稱',\n",
    "    '事故位置大類別名稱', \n",
    "    '號誌-號誌種類名稱',\n",
    "    '車道劃分設施-分向設施大類別名稱', '車道劃分設施-分道設施-快車道或一般車道間名稱',\n",
    "    '車道劃分設施-分道設施-快慢車道間名稱', '車道劃分設施-分道設施-路面邊線名稱',\n",
    "    '事故類型及型態大類別名稱',\n",
    "    '事故位置子類別名稱', '事故類型及型態子類別名稱', \n",
    "    '當事者行動狀態子類別名稱', '車輛撞擊部位子類別名稱-最初', '肇因研判子類別名稱-個別',\n",
    "    '當事者區分-類別-子類別名稱-車種',\n",
    "    '保護裝備名稱', '行動電話或電腦或其他相類功能裝置名稱', \n",
    "    '當事者行動狀態大類別名稱',\n",
    "    '車輛撞擊部位大類別名稱-其他', '肇因研判大類別名稱-個別', '肇事逃逸類別名稱-是否肇逃',\n",
    "    '號誌-號誌動作名稱',\n",
    "]\n",
    "\n",
    "non_overlapping_rows_mapper['label'] = 1\n",
    "overlapping_rows['label'] = 0\n",
    "\n",
    "labeled_data = pd.concat([non_overlapping_rows_mapper, overlapping_rows])\n",
    "labeled_data.reset_index(drop=True, inplace=True)\n",
    "\n",
    "def get_clusterN_logit(cluster_data, lst):\n",
    "    scaler = StandardScaler()\n",
    "    \n",
    "    c0_for_lm = process_data(cluster_data)\n",
    "    c0_for_lm_X = pd.DataFrame(scaler.fit_transform(c0_for_lm), columns=c0_for_lm.columns).reset_index(drop=True, inplace=False)\n",
    "    # label設定\n",
    "    c0_for_lm_y = cluster_data.apply(lambda row: 1 if row['label'] != 0 else 2, axis=1)\n",
    "    # c0_for_lm_y = cluster_data['label']\n",
    "        \n",
    "    c0_for_lm_X = c0_for_lm_X[lst]\n",
    "    \n",
    "    return c0_for_lm_X, c0_for_lm_y\n",
    "\n",
    "\n",
    "X, y = get_clusterN_logit(labeled_data, select_lst)"
   ]
  },
  {
   "cell_type": "code",
   "execution_count": 33,
   "id": "36bc1974-3220-4f4b-8894-3fddbd503cfa",
   "metadata": {},
   "outputs": [
    {
     "name": "stdout",
     "output_type": "stream",
     "text": [
      "Optimization terminated successfully.\n",
      "         Current function value: 0.425470\n",
      "         Iterations 7\n",
      "                           Logit Regression Results                           \n",
      "==============================================================================\n",
      "Dep. Variable:                      y   No. Observations:                  302\n",
      "Model:                          Logit   Df Residuals:                      274\n",
      "Method:                           MLE   Df Model:                           27\n",
      "Date:                Sun, 29 Sep 2024   Pseudo R-squ.:                  0.1897\n",
      "Time:                        12:41:49   Log-Likelihood:                -128.49\n",
      "converged:                       True   LL-Null:                       -158.57\n",
      "Covariance Type:            nonrobust   LLR p-value:                 0.0002520\n",
      "===========================================================================================\n",
      "                              coef    std err          z      P>|z|      [0.025      0.975]\n",
      "-------------------------------------------------------------------------------------------\n",
      "路面狀況-路面狀態名稱                 0.0614      0.163      0.378      0.706      -0.257       0.380\n",
      "當事者屬-性-別名稱                  0.0203      0.172      0.118      0.906      -0.317       0.357\n",
      "當事者事故發生時年齡                  0.2611      0.177      1.477      0.140      -0.085       0.608\n",
      "車輛撞擊部位大類別名稱-最初              0.0848      0.282      0.301      0.764      -0.468       0.637\n",
      "光線名稱                       -0.1719      0.205     -0.838      0.402      -0.574       0.230\n",
      "道路類別-第1當事者-名稱              -1.0012      0.236     -4.248      0.000      -1.463      -0.539\n",
      "速限-第1當事者                   -1.4825      0.264     -5.606      0.000      -2.001      -0.964\n",
      "道路型態大類別名稱                   0.1920      0.456      0.421      0.674      -0.702       1.086\n",
      "事故位置大類別名稱                  -0.2429      0.464     -0.524      0.601      -1.152       0.666\n",
      "號誌-號誌種類名稱                  -1.1280      0.339     -3.327      0.001      -1.793      -0.464\n",
      "車道劃分設施-分向設施大類別名稱            0.1130      0.224      0.503      0.615      -0.327       0.553\n",
      "車道劃分設施-分道設施-快車道或一般車道間名稱    -0.4473      0.294     -1.520      0.129      -1.024       0.130\n",
      "車道劃分設施-分道設施-快慢車道間名稱        -1.5700      0.253     -6.205      0.000      -2.066      -1.074\n",
      "車道劃分設施-分道設施-路面邊線名稱          0.4309      0.245      1.757      0.079      -0.050       0.911\n",
      "事故類型及型態大類別名稱                2.7124      0.359      7.548      0.000       2.008       3.417\n",
      "事故位置子類別名稱                  -0.1969      0.226     -0.873      0.383      -0.639       0.245\n",
      "事故類型及型態子類別名稱               -0.1570      0.187     -0.839      0.401      -0.524       0.210\n",
      "當事者行動狀態子類別名稱                0.0684      0.185      0.370      0.712      -0.294       0.431\n",
      "車輛撞擊部位子類別名稱-最初             -0.1730      0.214     -0.808      0.419      -0.593       0.247\n",
      "肇因研判子類別名稱-個別               -0.1248      0.162     -0.772      0.440      -0.442       0.192\n",
      "當事者區分-類別-子類別名稱-車種           0.2123      0.262      0.810      0.418      -0.302       0.726\n",
      "保護裝備名稱                     -0.0694      0.305     -0.228      0.820      -0.666       0.528\n",
      "行動電話或電腦或其他相類功能裝置名稱          0.3354      0.270      1.242      0.214      -0.194       0.865\n",
      "當事者行動狀態大類別名稱               -0.2762      0.259     -1.067      0.286      -0.784       0.231\n",
      "車輛撞擊部位大類別名稱-其他             -0.2480      0.181     -1.369      0.171      -0.603       0.107\n",
      "肇因研判大類別名稱-個別                0.0614      0.180      0.341      0.733      -0.292       0.415\n",
      "肇事逃逸類別名稱-是否肇逃              -0.4040      0.191     -2.118      0.034      -0.778      -0.030\n",
      "號誌-號誌動作名稱                  -1.0916      0.428     -2.552      0.011      -1.930      -0.253\n",
      "===========================================================================================\n",
      "Accuracy: 0.88\n"
     ]
    }
   ],
   "source": [
    "X_train, X_test, y_train, y_test = train_test_split(X, y.replace(2, 0), test_size=0.2, random_state=42)\n",
    "\n",
    "logit_model = sm.Logit(y_train, X_train)\n",
    "result = logit_model.fit()\n",
    "\n",
    "print(result.summary())\n",
    "\n",
    "log_reg = LogisticRegression()\n",
    "log_reg.fit(X_train, y_train)\n",
    "accuracy = log_reg.score(X_test, y_test)\n",
    "\n",
    "print(f\"Accuracy: {accuracy:.2f}\")"
   ]
  },
  {
   "cell_type": "code",
   "execution_count": 34,
   "id": "6fd0e88a-1ac1-4730-b2fc-105a0b4088dd",
   "metadata": {},
   "outputs": [
    {
     "data": {
      "text/plain": [
       "事故類型及型態大類別名稱           4.404469e-14\n",
       "車道劃分設施-分道設施-快慢車道間名稱    5.453909e-10\n",
       "速限-第1當事者               2.070593e-08\n",
       "道路類別-第1當事者-名稱          2.158117e-05\n",
       "號誌-號誌種類名稱              8.772462e-04\n",
       "號誌-號誌動作名稱              1.071397e-02\n",
       "肇事逃逸類別名稱-是否肇逃          3.418421e-02\n",
       "dtype: float64"
      ]
     },
     "execution_count": 34,
     "metadata": {},
     "output_type": "execute_result"
    }
   ],
   "source": [
    "p_values = result.pvalues\n",
    "significant_factors = p_values[p_values < 0.05]\n",
    "significant_factors.sort_values()"
   ]
  },
  {
   "cell_type": "code",
   "execution_count": 41,
   "id": "8466cb8d-50c8-4502-aff2-2526bc96a3e5",
   "metadata": {
    "tags": []
   },
   "outputs": [],
   "source": [
    "# plt.rcParams['font.sans-serif'] = ['Microsoft YaHei'] # Window\n",
    "plt.rcParams['font.sans-serif']=['Arial Unicode Ms'] # Mac\n",
    "plt.rcParams['axes.unicode_minus'] = False\n",
    "\n",
    "def plot_bar_comparison(df1, df2, feature, x_label, title, save_path):\n",
    "    plt.figure(figsize=(14, 6))\n",
    "    \n",
    "    df1_counts = df1[feature].value_counts(normalize=True).reset_index()\n",
    "    df2_counts = df2[feature].value_counts(normalize=True).reset_index()\n",
    "    \n",
    "    df1_counts['Source'] = 'Link'\n",
    "    df2_counts['Source'] = 'Outlier'\n",
    "\n",
    "    combined_counts = pd.concat([df1_counts, df2_counts])\n",
    "    combined_counts.columns = [feature, 'Frequency', 'Source']\n",
    "\n",
    "    ax = sns.barplot(data=combined_counts, x=feature, y='Frequency', hue='Source')\n",
    "    plt.title(f'{feature} 頻率')\n",
    "    plt.xticks(rotation=10)\n",
    "\n",
    "    for p in ax.patches:\n",
    "        height = p.get_height()\n",
    "        if height > 0:  # Only annotate if height > 0\n",
    "            ax.annotate(f'{height:.2%}', \n",
    "                        (p.get_x() + p.get_width() / 2., height),\n",
    "                        ha='center', va='bottom', \n",
    "                        fontsize=10, color='black', xytext=(0, 5),\n",
    "                        textcoords='offset points')\n",
    "\n",
    "    ax.set_xlabel(x_label)\n",
    "    ax.set_title(title)\n",
    "\n",
    "    if save_path:\n",
    "        plt.savefig(save_path, bbox_inches='tight')\n",
    "    \n",
    "    plt.show()"
   ]
  },
  {
   "cell_type": "code",
   "execution_count": 42,
   "id": "ff17f8fa-2ceb-4658-abad-b65cd2c902d1",
   "metadata": {},
   "outputs": [
    {
     "data": {
      "image/png": "[encoded data removed]",
      "text/plain": [
       "<Figure size 1008x432 with 1 Axes>"
      ]
     },
     "metadata": {
      "needs_background": "light"
     },
     "output_type": "display_data"
    }
   ],
   "source": [
    "# 替換 '車道劃分設施-分道設施-快慢車道間名稱' 列中的值\n",
    "non_overlapping_rows_mapper['車道劃分設施-分道設施-快慢車道間名稱'] = non_overlapping_rows_mapper['車道劃分設施-分道設施-快慢車道間名稱'].replace({\n",
    "    '未繪設快慢車道分隔線': 'No Express-Slow Lane Separation Line',\n",
    "    '快慢車道分隔線': 'Express-Slow Lane Separation Line',\n",
    "    '寬式快慢車道分隔島(50公分以上)': 'Wide Express-Slow Lane Separator Island (Over 50 cm)',\n",
    "    '窄式快慢車道分隔島(無柵欄)': 'Narrow Express-Slow Lane Separator Island (Without Fence)',\n",
    "    '窄式快慢車道分隔島(附柵欄)': 'Narrow Express-Slow Lane Separator Island (With Fence)'\n",
    "})\n",
    "overlapping_rows['車道劃分設施-分道設施-快慢車道間名稱'] = overlapping_rows['車道劃分設施-分道設施-快慢車道間名稱'].replace({\n",
    "    '未繪設快慢車道分隔線': 'No Express-Slow Lane Separation Line',\n",
    "    '快慢車道分隔線': 'Express-Slow Lane Separation Line',\n",
    "    '寬式快慢車道分隔島(50公分以上)': 'Wide Express-Slow Lane Separator Island (Over 50 cm)',\n",
    "    '窄式快慢車道分隔島(無柵欄)': 'Narrow Express-Slow Lane Separator Island (Without Fence)',\n",
    "    '窄式快慢車道分隔島(附柵欄)': 'Narrow Express-Slow Lane Separator Island (With Fence)'\n",
    "})\n",
    "\n",
    "x_label = 'Lane Division (Between express and slow lanes)'\n",
    "title = 'Lane Division (Between express and slow lanes) Frequency'\n",
    "plot_bar_comparison(non_overlapping_rows_mapper, overlapping_rows, '車道劃分設施-分道設施-快慢車道間名稱', x_label, title, save_path = 'CalculatedData/Plots/express_slow_frequency.png')"
   ]
  }
 ],
 "metadata": {
  "kernelspec": {
   "display_name": "Python 3 (ipykernel)",
   "language": "python",
   "name": "python3"
  },
  "language_info": {
   "codemirror_mode": {
    "name": "ipython",
    "version": 3
   },
   "file_extension": ".py",
   "mimetype": "text/x-python",
   "name": "python",
   "nbconvert_exporter": "python",
   "pygments_lexer": "ipython3",
   "version": "3.9.12"
  }
 },
 "nbformat": 4,
 "nbformat_minor": 5
}

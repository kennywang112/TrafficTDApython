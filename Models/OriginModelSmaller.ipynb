{
 "cells": [
  {
   "cell_type": "code",
   "execution_count": 1,
   "metadata": {},
   "outputs": [
    {
     "name": "stdout",
     "output_type": "stream",
     "text": [
      "[Errno 2] No such file or directory: 'C:\\\\System\\\\Library\\\\Fonts\\\\PingFang.ttc'\n"
     ]
    }
   ],
   "source": [
    "import os\n",
    "import numpy as np\n",
    "import pandas as pd\n",
    "import seaborn as sns\n",
    "import matplotlib.pyplot as plt\n",
    "import matplotlib.cm as cm\n",
    "from matplotlib.font_manager import FontProperties\n",
    "\n",
    "from utils.models import *\n",
    "\n",
    "try:\n",
    "    myfont = FontProperties(fname=r\"/System/Library/Fonts/PingFang.ttc\")\n",
    "    sns.set(style=\"whitegrid\", font=myfont.get_name())\n",
    "except Exception as e:\n",
    "    print(e)\n",
    "\n",
    "plt.rcParams['font.sans-serif'] = ['Microsoft YaHei']\n",
    "plt.rcParams['axes.unicode_minus'] = False\n",
    "\n",
    "dataA2 = pd.read_csv(\"../Version3/Data/A2.csv\", low_memory=False)\n",
    "dataA1 = pd.read_csv(\"../Version3/Data/A1.csv\")"
   ]
  },
  {
   "cell_type": "code",
   "execution_count": 2,
   "metadata": {},
   "outputs": [],
   "source": [
    "car = pd.read_csv(os.path.join(\"../Version3/Data/DriverData/full_0.csv\"), encoding='utf-8')\n",
    "motor = pd.read_csv(os.path.join(\"../Version3/Data/DriverData/full_1.csv\"), encoding='utf-8')\n",
    "car_motor_overlap = pd.read_csv(os.path.join(\"../Version3/Data/DriverData/overlap_data.csv\"), encoding='utf-8')\n",
    "car_motor_out = pd.read_csv(os.path.join(\"../Version3/Data/DriverData/full_out.csv\"), encoding='utf-8')\n",
    "\n",
    "pass_0 = pd.read_csv(os.path.join(\"../Version3/Data/PassData/full_0.csv\"), encoding='utf-8')\n",
    "pass_1 = pd.read_csv(os.path.join(\"../Version3/Data/PassData/full_1.csv\"), encoding='utf-8')\n",
    "pass_out = pd.read_csv(os.path.join(\"../Version3/Data/PassData/full_out.csv\"), encoding='utf-8')\n",
    "pass_overlap = pd.read_csv(os.path.join(\"../Version3/Data/PassData/overlap_data.csv\"), encoding='utf-8')\n",
    "\n",
    "full_data = pd.read_csv(os.path.join(\"../Version3/Data/FullData/full_smaller.csv\"), encoding='utf-8')"
   ]
  },
  {
   "cell_type": "markdown",
   "metadata": {},
   "source": [
    "### 這是由拓樸得出來的特徵，可新增於拓樸訓練，但不增加在full_data"
   ]
  },
  {
   "cell_type": "code",
   "execution_count": 3,
   "metadata": {},
   "outputs": [],
   "source": [
    "car_motor_out['type'] = 'out'\n",
    "car_motor_overlap['type'] = 'overlap'\n",
    "pass_out['type'] = 'out'\n",
    "pass_overlap['type'] = 'overlap'\n",
    "\n",
    "car_motor_out_overlap = pd.concat([car_motor_out, car_motor_overlap])"
   ]
  },
  {
   "cell_type": "markdown",
   "metadata": {},
   "source": [
    "### 行人資料需要特別處理，因為他們沒有以下特徵"
   ]
  },
  {
   "cell_type": "code",
   "execution_count": 4,
   "metadata": {},
   "outputs": [],
   "source": [
    "pass_0['行動電話或電腦或其他相類功能裝置名稱'] = '非駕駛人'\n",
    "pass_0['當事者區分-類別-大類別名稱-車種'] = '人'\n",
    "pass_1['行動電話或電腦或其他相類功能裝置名稱'] = '非駕駛人'\n",
    "pass_1['當事者區分-類別-大類別名稱-車種'] = '人'\n",
    "pass_out['行動電話或電腦或其他相類功能裝置名稱'] = '非駕駛人'\n",
    "pass_out['當事者區分-類別-大類別名稱-車種'] = '人'\n",
    "pass_overlap['行動電話或電腦或其他相類功能裝置名稱'] = '非駕駛人'\n",
    "pass_overlap['當事者區分-類別-大類別名稱-車種'] = '人'\n",
    "pass_out['行動電話或電腦或其他相類功能裝置名稱'] = '非駕駛人'\n",
    "pass_out['當事者區分-類別-大類別名稱-車種'] = '人'"
   ]
  },
  {
   "cell_type": "code",
   "execution_count": 5,
   "metadata": {},
   "outputs": [],
   "source": [
    "select_lst = [\n",
    "    '天候名稱', '光線名稱', \n",
    "    '道路類別-第1當事者-名稱', '速限-第1當事者', \n",
    "    \n",
    "    # 路面狀況\n",
    "    '路面狀況-路面鋪裝名稱', '路面狀況-路面狀態名稱', '路面狀況-路面缺陷名稱',\n",
    "    '道路障礙-障礙物名稱', '道路障礙-視距品質名稱', '道路障礙-視距名稱',\n",
    "    # 號誌\n",
    "    '號誌-號誌種類名稱', '號誌-號誌動作名稱',\n",
    "    # 車道\n",
    "    '車道劃分設施-分道設施-快車道或一般車道間名稱', '車道劃分設施-分道設施-快慢車道間名稱', '車道劃分設施-分道設施-路面邊線名稱',\n",
    "    # 當事人\n",
    "    '當事者屬-性-別名稱', '當事者事故發生時年齡',\n",
    "    '保護裝備名稱', '行動電話或電腦或其他相類功能裝置名稱',\n",
    "    '肇事逃逸類別名稱-是否肇逃',\n",
    "\n",
    "    # 大類別\n",
    "    '道路型態大類別名稱', '事故位置大類別名稱',\n",
    "    '車道劃分設施-分向設施大類別名稱',\n",
    "    '事故類型及型態大類別名稱', '當事者區分-類別-大類別名稱-車種',\n",
    "    '車輛撞擊部位大類別名稱-其他',\n",
    "    '肇因研判大類別名稱-主要',\n",
    "\n",
    "    # 子類別\n",
    "    '道路型態子類別名稱', '事故位置子類別名稱', '事故類型及型態子類別名稱', '肇因研判子類別名稱-主要',\n",
    "    '當事者區分-類別-子類別名稱-車種', '當事者行動狀態子類別名稱', '車輛撞擊部位子類別名稱-最初',\n",
    "    '車輛撞擊部位子類別名稱-其他', '肇因研判子類別名稱-個別',\n",
    "    \n",
    "    '死亡'\n",
    "]\n",
    "\n",
    "# select data\n",
    "car = car[select_lst]\n",
    "motor = motor[select_lst]\n",
    "pass_0['type'] = 'not overlap'\n",
    "pass_1['type'] = 'not overlap'\n",
    "passenger = pd.concat([pass_0, pass_1, pass_overlap])\n",
    "passenger = passenger[select_lst]\n",
    "\n",
    "full_data = full_data[select_lst]\n",
    "\n",
    "select_lst.append('type')\n",
    "car_motor_out_overlap = car_motor_out_overlap[select_lst]\n",
    "pass_out = pass_out[select_lst]"
   ]
  },
  {
   "cell_type": "markdown",
   "metadata": {},
   "source": [
    "## 唯一值檢查\n",
    "第一區塊是完整模型的資料<br/>\n",
    "第二區塊是多個模型個別進行模型，所以這裡需要量化後自動drop"
   ]
  },
  {
   "cell_type": "code",
   "execution_count": 6,
   "metadata": {},
   "outputs": [
    {
     "name": "stdout",
     "output_type": "stream",
     "text": [
      "詳細群體\n",
      "['道路障礙-視距品質名稱', '道路障礙-視距名稱']\n",
      "['道路障礙-視距品質名稱', '道路障礙-視距名稱']\n",
      "[]\n",
      "['道路障礙-視距品質名稱', '道路障礙-視距名稱', '行動電話或電腦或其他相類功能裝置名稱', '當事者區分-類別-大類別名稱-車種']\n",
      "['行動電話或電腦或其他相類功能裝置名稱', '肇事逃逸類別名稱-是否肇逃', '當事者區分-類別-大類別名稱-車種', 'type']\n",
      "[]\n"
     ]
    }
   ],
   "source": [
    "print('詳細群體')\n",
    "for data in [car, motor, car_motor_out_overlap, passenger, pass_out, full_data]:\n",
    "    columns_to_drop = []\n",
    "    for column in data.columns:\n",
    "        if data[column].nunique() == 1:\n",
    "            columns_to_drop.append(column)\n",
    "    print(columns_to_drop)\n",
    "    data.drop(columns=columns_to_drop, inplace=True)"
   ]
  },
  {
   "cell_type": "code",
   "execution_count": 7,
   "metadata": {},
   "outputs": [
    {
     "name": "stdout",
     "output_type": "stream",
     "text": [
      "原始特徵數: 35, 保留特徵數: 14\n",
      "原始特徵數: 35, 保留特徵數: 12\n",
      "原始特徵數: 33, 保留特徵數: 17\n",
      "原始特徵數: 38, 保留特徵數: 9\n",
      "原始特徵數: 34, 保留特徵數: 20\n",
      "原始特徵數: 37, 保留特徵數: 11\n"
     ]
    }
   ],
   "source": [
    "from sklearn.ensemble import RandomForestClassifier\n",
    "\n",
    "def drop_low_importance_features(data, threshold=0.01):\n",
    "    # One-hot 編碼資料\n",
    "    X = pd.get_dummies(data.drop(columns=['死亡']))\n",
    "    y = data['死亡']\n",
    "\n",
    "    # 訓練 RandomForest 模型\n",
    "    model = RandomForestClassifier()\n",
    "    model.fit(X, y)\n",
    "\n",
    "    # 計算特徵重要性\n",
    "    feature_importances = pd.Series(model.feature_importances_, index=X.columns).sort_values(ascending=False)\n",
    "\n",
    "    # 篩選重要性高於 threshold 的 dummy 特徵\n",
    "    selected_dummy_features = feature_importances[feature_importances > threshold].index.tolist()\n",
    "\n",
    "    # 找回原始的類別特徵名稱\n",
    "    original_features = data.drop(columns=['死亡']).columns\n",
    "    selected_features = set()\n",
    "\n",
    "    for feature in original_features:\n",
    "        # 如果原始特徵的任何 dummy 特徵被選中，就保留原始特徵\n",
    "        if any(dummy.startswith(f\"{feature}_\") for dummy in selected_dummy_features) or feature in selected_dummy_features:\n",
    "            selected_features.add(feature)\n",
    "\n",
    "    # 回到原始資料集中的選擇特徵\n",
    "    reduced_data = data[list(selected_features) + ['死亡']]\n",
    "    print(f\"原始特徵數: {data.shape[1]}, 保留特徵數: {len(selected_features)}\")\n",
    "    return reduced_data\n",
    "\n",
    "car_reduced = drop_low_importance_features(car)\n",
    "motor_reduced = drop_low_importance_features(motor)\n",
    "passenger_reduced = drop_low_importance_features(passenger)\n",
    "car_motor_out_overlap_reduced = drop_low_importance_features(car_motor_out_overlap)\n",
    "pass_out_reduced = drop_low_importance_features(pass_out)\n",
    "full_data_reduced = drop_low_importance_features(full_data)"
   ]
  },
  {
   "cell_type": "code",
   "execution_count": 8,
   "metadata": {},
   "outputs": [],
   "source": [
    "# car_0_dummy = pd.get_dummies(car)\n",
    "# car_motor_out_overlap_dummy = pd.get_dummies(car_motor_out_overlap)\n",
    "# motor_0_dummy = pd.get_dummies(motor)\n",
    "# pass_0_dummy = pd.get_dummies(passenger)\n",
    "# pass_out_dummy = pd.get_dummies(pass_out)\n",
    "\n",
    "# full_data_dummy = pd.get_dummies(full_data)\n",
    "\n",
    "car_0_dummy = pd.get_dummies(car_reduced)\n",
    "car_motor_out_overlap_dummy = pd.get_dummies(car_motor_out_overlap_reduced)\n",
    "motor_0_dummy = pd.get_dummies(motor_reduced)\n",
    "pass_0_dummy = pd.get_dummies(passenger_reduced)\n",
    "pass_out_dummy = pd.get_dummies(pass_out_reduced)\n",
    "\n",
    "full_data_dummy = pd.get_dummies(full_data_reduced)"
   ]
  },
  {
   "cell_type": "code",
   "execution_count": 9,
   "metadata": {},
   "outputs": [],
   "source": [
    "car_0_X, car_0_y = get_train_test_data(car_0_dummy)\n",
    "motor_0_X, motor_0_y = get_train_test_data(motor_0_dummy)\n",
    "car_motor_out_overlap_X, car_motor_out_overlap_y = get_train_test_data(car_motor_out_overlap_dummy)\n",
    "pass_0_X, pass_0_y = get_train_test_data(pass_0_dummy)\n",
    "pass_out_X, pass_out_y = get_train_test_data(pass_out_dummy)\n",
    "\n",
    "full_data_X, full_data_y = get_train_test_data(full_data_dummy)"
   ]
  },
  {
   "cell_type": "code",
   "execution_count": 10,
   "metadata": {},
   "outputs": [
    {
     "name": "stdout",
     "output_type": "stream",
     "text": [
      "0    34237\n",
      "1      151\n",
      "Name: y, dtype: int64\n",
      "0    56610\n",
      "1      216\n",
      "Name: y, dtype: int64\n",
      "0    4588\n",
      "1      57\n",
      "Name: y, dtype: int64\n",
      "0    2922\n",
      "1      45\n",
      "Name: y, dtype: int64\n",
      "0    163\n",
      "1     13\n",
      "Name: y, dtype: int64\n",
      "0    124382\n",
      "1       550\n",
      "Name: y, dtype: int64\n"
     ]
    }
   ],
   "source": [
    "print(car_0_y.value_counts())\n",
    "print(motor_0_y.value_counts())\n",
    "print(car_motor_out_overlap_y.value_counts())\n",
    "print(pass_0_y.value_counts())\n",
    "print(pass_out_y.value_counts())\n",
    "\n",
    "print(full_data_y.value_counts())"
   ]
  },
  {
   "cell_type": "code",
   "execution_count": 11,
   "metadata": {},
   "outputs": [
    {
     "name": "stdout",
     "output_type": "stream",
     "text": [
      "(34388, 88)\n",
      "(56826, 64)\n",
      "(4645, 133)\n",
      "(2967, 119)\n",
      "(176, 131)\n",
      "(124932, 77)\n"
     ]
    }
   ],
   "source": [
    "print(car_0_X.shape)\n",
    "print(motor_0_X.shape)\n",
    "print(car_motor_out_overlap_X.shape)\n",
    "print(pass_0_X.shape)\n",
    "print(pass_out_X.shape)\n",
    "print(full_data_X.shape)"
   ]
  },
  {
   "cell_type": "markdown",
   "metadata": {},
   "source": [
    "## 全部大類別資料kfold計算到motor0開始"
   ]
  },
  {
   "cell_type": "code",
   "execution_count": 12,
   "metadata": {},
   "outputs": [
    {
     "name": "stdout",
     "output_type": "stream",
     "text": [
      "pass_0 logistic start\n",
      "Best parameters found by GridSearchCV: {'C': 100, 'penalty': 'l1'}\n",
      "pass_0 logistic done in 32.45 seconds\n",
      "pass_out logistic start\n",
      "Best parameters found by GridSearchCV: {'C': 100, 'penalty': 'l1'}\n",
      "pass_out logistic done in 2.36 seconds\n",
      "car_0 logistic start\n",
      "Best parameters found by GridSearchCV: {'C': 100, 'penalty': 'l1'}\n",
      "car_0 logistic done in 216.75 seconds\n",
      "motor_0 logistic start\n",
      "Best parameters found by GridSearchCV: {'C': 10, 'penalty': 'l2'}\n",
      "motor_0 logistic done in 178.98 seconds\n",
      "car_motor_out_overlap logistic start\n",
      "Best parameters found by GridSearchCV: {'C': 100, 'penalty': 'l1'}\n",
      "car_motor_out_overlap logistic done in 26.25 seconds\n",
      "full_data logistic start\n",
      "Best parameters found by GridSearchCV: {'C': 10, 'penalty': 'l2'}\n",
      "full_data logistic done in 448.66 seconds\n",
      "pass_0 svc start\n",
      "Best parameters found by GridSearchCV: {'C': 10, 'loss': 'hinge'}\n",
      "pass_0 svc done in 83.61 seconds\n",
      "pass_out svc start\n",
      "Best parameters found by GridSearchCV: {'C': 0.1, 'loss': 'hinge'}\n",
      "pass_out svc done in 0.19 seconds\n",
      "car_0 svc start\n"
     ]
    },
    {
     "name": "stderr",
     "output_type": "stream",
     "text": [
      "c:\\Users\\USER\\anaconda3\\lib\\site-packages\\sklearn\\svm\\_base.py:1235: ConvergenceWarning: Liblinear failed to converge, increase the number of iterations.\n",
      "  warnings.warn(\n"
     ]
    },
    {
     "name": "stdout",
     "output_type": "stream",
     "text": [
      "Best parameters found by GridSearchCV: {'C': 100, 'loss': 'hinge'}\n",
      "car_0 svc done in 89.78 seconds\n",
      "motor_0 svc start\n"
     ]
    },
    {
     "name": "stderr",
     "output_type": "stream",
     "text": [
      "c:\\Users\\USER\\anaconda3\\lib\\site-packages\\sklearn\\svm\\_base.py:1235: ConvergenceWarning: Liblinear failed to converge, increase the number of iterations.\n",
      "  warnings.warn(\n"
     ]
    },
    {
     "name": "stdout",
     "output_type": "stream",
     "text": [
      "Best parameters found by GridSearchCV: {'C': 10, 'loss': 'hinge'}\n",
      "motor_0 svc done in 78.38 seconds\n",
      "car_motor_out_overlap svc start\n"
     ]
    },
    {
     "name": "stderr",
     "output_type": "stream",
     "text": [
      "c:\\Users\\USER\\anaconda3\\lib\\site-packages\\sklearn\\svm\\_base.py:1235: ConvergenceWarning: Liblinear failed to converge, increase the number of iterations.\n",
      "  warnings.warn(\n"
     ]
    },
    {
     "name": "stdout",
     "output_type": "stream",
     "text": [
      "Best parameters found by GridSearchCV: {'C': 100, 'loss': 'hinge'}\n",
      "car_motor_out_overlap svc done in 59.88 seconds\n",
      "full_data svc start\n"
     ]
    },
    {
     "name": "stderr",
     "output_type": "stream",
     "text": [
      "c:\\Users\\USER\\anaconda3\\lib\\site-packages\\sklearn\\svm\\_base.py:1235: ConvergenceWarning: Liblinear failed to converge, increase the number of iterations.\n",
      "  warnings.warn(\n"
     ]
    },
    {
     "name": "stdout",
     "output_type": "stream",
     "text": [
      "Best parameters found by GridSearchCV: {'C': 100, 'loss': 'hinge'}\n",
      "full_data svc done in 298.15 seconds\n",
      "pass_0 logistic start\n",
      "Best parameters for this fold: {'C': 100, 'penalty': 'l1'}\n",
      "Best parameters for this fold: {'C': 100, 'penalty': 'l1'}\n",
      "Best parameters for this fold: {'C': 100, 'penalty': 'l1'}\n",
      "Best parameters for this fold: {'C': 100, 'penalty': 'l1'}\n",
      "Best parameters for this fold: {'C': 100, 'penalty': 'l1'}\n",
      "pass_0 logistic done in 144.94 seconds\n",
      "pass_out logistic start\n",
      "Best parameters for this fold: {'C': 10, 'penalty': 'l1'}\n",
      "Best parameters for this fold: {'C': 1, 'penalty': 'l2'}\n",
      "Best parameters for this fold: {'C': 1, 'penalty': 'l1'}\n",
      "Best parameters for this fold: {'C': 10, 'penalty': 'l1'}\n",
      "Best parameters for this fold: {'C': 100, 'penalty': 'l1'}\n",
      "pass_out logistic done in 12.71 seconds\n",
      "car_0 logistic start\n",
      "Best parameters for this fold: {'C': 10, 'penalty': 'l1'}\n",
      "Best parameters for this fold: {'C': 100, 'penalty': 'l2'}\n",
      "Best parameters for this fold: {'C': 1, 'penalty': 'l1'}\n",
      "Best parameters for this fold: {'C': 100, 'penalty': 'l2'}\n",
      "Best parameters for this fold: {'C': 100, 'penalty': 'l1'}\n",
      "car_0 logistic done in 912.49 seconds\n",
      "motor_0 logistic start\n",
      "Best parameters for this fold: {'C': 1, 'penalty': 'l1'}\n",
      "Best parameters for this fold: {'C': 100, 'penalty': 'l2'}\n",
      "Best parameters for this fold: {'C': 100, 'penalty': 'l1'}\n",
      "Best parameters for this fold: {'C': 10, 'penalty': 'l2'}\n",
      "Best parameters for this fold: {'C': 100, 'penalty': 'l1'}\n",
      "motor_0 logistic done in 1151.95 seconds\n",
      "car_motor_out_overlap logistic start\n",
      "Best parameters for this fold: {'C': 100, 'penalty': 'l1'}\n",
      "Best parameters for this fold: {'C': 100, 'penalty': 'l1'}\n",
      "Best parameters for this fold: {'C': 100, 'penalty': 'l1'}\n",
      "Best parameters for this fold: {'C': 100, 'penalty': 'l1'}\n",
      "Best parameters for this fold: {'C': 100, 'penalty': 'l1'}\n",
      "car_motor_out_overlap logistic done in 192.31 seconds\n",
      "full_data logistic start\n",
      "Best parameters for this fold: {'C': 10, 'penalty': 'l2'}\n",
      "Best parameters for this fold: {'C': 10, 'penalty': 'l1'}\n",
      "Best parameters for this fold: {'C': 10, 'penalty': 'l2'}\n",
      "Best parameters for this fold: {'C': 1, 'penalty': 'l1'}\n",
      "Best parameters for this fold: {'C': 0.1, 'penalty': 'l2'}\n",
      "full_data logistic done in 2296.59 seconds\n",
      "pass_0 svc start\n"
     ]
    },
    {
     "name": "stderr",
     "output_type": "stream",
     "text": [
      "c:\\Users\\USER\\anaconda3\\lib\\site-packages\\sklearn\\svm\\_base.py:1235: ConvergenceWarning: Liblinear failed to converge, increase the number of iterations.\n",
      "  warnings.warn(\n"
     ]
    },
    {
     "name": "stdout",
     "output_type": "stream",
     "text": [
      "Best parameters for this fold: {'C': 10, 'loss': 'hinge'}\n"
     ]
    },
    {
     "name": "stderr",
     "output_type": "stream",
     "text": [
      "c:\\Users\\USER\\anaconda3\\lib\\site-packages\\sklearn\\svm\\_base.py:1235: ConvergenceWarning: Liblinear failed to converge, increase the number of iterations.\n",
      "  warnings.warn(\n"
     ]
    },
    {
     "name": "stdout",
     "output_type": "stream",
     "text": [
      "Best parameters for this fold: {'C': 100, 'loss': 'hinge'}\n"
     ]
    },
    {
     "name": "stderr",
     "output_type": "stream",
     "text": [
      "c:\\Users\\USER\\anaconda3\\lib\\site-packages\\sklearn\\svm\\_base.py:1235: ConvergenceWarning: Liblinear failed to converge, increase the number of iterations.\n",
      "  warnings.warn(\n"
     ]
    },
    {
     "name": "stdout",
     "output_type": "stream",
     "text": [
      "Best parameters for this fold: {'C': 10, 'loss': 'hinge'}\n",
      "Best parameters for this fold: {'C': 100, 'loss': 'squared_hinge'}\n"
     ]
    },
    {
     "name": "stderr",
     "output_type": "stream",
     "text": [
      "c:\\Users\\USER\\anaconda3\\lib\\site-packages\\sklearn\\svm\\_base.py:1235: ConvergenceWarning: Liblinear failed to converge, increase the number of iterations.\n",
      "  warnings.warn(\n"
     ]
    },
    {
     "name": "stdout",
     "output_type": "stream",
     "text": [
      "Best parameters for this fold: {'C': 100, 'loss': 'hinge'}\n",
      "pass_0 svc done in 153.00 seconds\n",
      "pass_out svc start\n",
      "Best parameters for this fold: {'C': 0.1, 'loss': 'squared_hinge'}\n",
      "Best parameters for this fold: {'C': 100, 'loss': 'squared_hinge'}\n",
      "Best parameters for this fold: {'C': 100, 'loss': 'squared_hinge'}\n",
      "Best parameters for this fold: {'C': 100, 'loss': 'squared_hinge'}\n",
      "Best parameters for this fold: {'C': 1, 'loss': 'hinge'}\n",
      "pass_out svc done in 1.20 seconds\n",
      "car_0 svc start\n"
     ]
    },
    {
     "name": "stderr",
     "output_type": "stream",
     "text": [
      "c:\\Users\\USER\\anaconda3\\lib\\site-packages\\sklearn\\svm\\_base.py:1235: ConvergenceWarning: Liblinear failed to converge, increase the number of iterations.\n",
      "  warnings.warn(\n"
     ]
    },
    {
     "name": "stdout",
     "output_type": "stream",
     "text": [
      "Best parameters for this fold: {'C': 100, 'loss': 'hinge'}\n"
     ]
    },
    {
     "name": "stderr",
     "output_type": "stream",
     "text": [
      "c:\\Users\\USER\\anaconda3\\lib\\site-packages\\sklearn\\svm\\_base.py:1235: ConvergenceWarning: Liblinear failed to converge, increase the number of iterations.\n",
      "  warnings.warn(\n"
     ]
    },
    {
     "name": "stdout",
     "output_type": "stream",
     "text": [
      "Best parameters for this fold: {'C': 10, 'loss': 'hinge'}\n"
     ]
    },
    {
     "name": "stderr",
     "output_type": "stream",
     "text": [
      "c:\\Users\\USER\\anaconda3\\lib\\site-packages\\sklearn\\svm\\_base.py:1235: ConvergenceWarning: Liblinear failed to converge, increase the number of iterations.\n",
      "  warnings.warn(\n"
     ]
    },
    {
     "name": "stdout",
     "output_type": "stream",
     "text": [
      "Best parameters for this fold: {'C': 100, 'loss': 'hinge'}\n"
     ]
    },
    {
     "name": "stderr",
     "output_type": "stream",
     "text": [
      "c:\\Users\\USER\\anaconda3\\lib\\site-packages\\sklearn\\svm\\_base.py:1235: ConvergenceWarning: Liblinear failed to converge, increase the number of iterations.\n",
      "  warnings.warn(\n"
     ]
    },
    {
     "name": "stdout",
     "output_type": "stream",
     "text": [
      "Best parameters for this fold: {'C': 10, 'loss': 'hinge'}\n"
     ]
    },
    {
     "name": "stderr",
     "output_type": "stream",
     "text": [
      "c:\\Users\\USER\\anaconda3\\lib\\site-packages\\sklearn\\svm\\_base.py:1235: ConvergenceWarning: Liblinear failed to converge, increase the number of iterations.\n",
      "  warnings.warn(\n"
     ]
    },
    {
     "name": "stdout",
     "output_type": "stream",
     "text": [
      "Best parameters for this fold: {'C': 100, 'loss': 'hinge'}\n",
      "car_0 svc done in 501.87 seconds\n",
      "motor_0 svc start\n",
      "Best parameters for this fold: {'C': 1, 'loss': 'squared_hinge'}\n",
      "Best parameters for this fold: {'C': 1, 'loss': 'hinge'}\n"
     ]
    },
    {
     "name": "stderr",
     "output_type": "stream",
     "text": [
      "c:\\Users\\USER\\anaconda3\\lib\\site-packages\\sklearn\\svm\\_base.py:1235: ConvergenceWarning: Liblinear failed to converge, increase the number of iterations.\n",
      "  warnings.warn(\n"
     ]
    },
    {
     "name": "stdout",
     "output_type": "stream",
     "text": [
      "Best parameters for this fold: {'C': 10, 'loss': 'hinge'}\n"
     ]
    },
    {
     "name": "stderr",
     "output_type": "stream",
     "text": [
      "c:\\Users\\USER\\anaconda3\\lib\\site-packages\\sklearn\\svm\\_base.py:1235: ConvergenceWarning: Liblinear failed to converge, increase the number of iterations.\n",
      "  warnings.warn(\n"
     ]
    },
    {
     "name": "stdout",
     "output_type": "stream",
     "text": [
      "Best parameters for this fold: {'C': 100, 'loss': 'hinge'}\n",
      "Best parameters for this fold: {'C': 10, 'loss': 'hinge'}\n",
      "motor_0 svc done in 527.62 seconds\n",
      "car_motor_out_overlap svc start\n"
     ]
    },
    {
     "name": "stderr",
     "output_type": "stream",
     "text": [
      "c:\\Users\\USER\\anaconda3\\lib\\site-packages\\sklearn\\svm\\_base.py:1235: ConvergenceWarning: Liblinear failed to converge, increase the number of iterations.\n",
      "  warnings.warn(\n"
     ]
    },
    {
     "name": "stdout",
     "output_type": "stream",
     "text": [
      "Best parameters for this fold: {'C': 100, 'loss': 'hinge'}\n"
     ]
    },
    {
     "name": "stderr",
     "output_type": "stream",
     "text": [
      "c:\\Users\\USER\\anaconda3\\lib\\site-packages\\sklearn\\svm\\_base.py:1235: ConvergenceWarning: Liblinear failed to converge, increase the number of iterations.\n",
      "  warnings.warn(\n"
     ]
    },
    {
     "name": "stdout",
     "output_type": "stream",
     "text": [
      "Best parameters for this fold: {'C': 100, 'loss': 'hinge'}\n"
     ]
    },
    {
     "name": "stderr",
     "output_type": "stream",
     "text": [
      "c:\\Users\\USER\\anaconda3\\lib\\site-packages\\sklearn\\svm\\_base.py:1235: ConvergenceWarning: Liblinear failed to converge, increase the number of iterations.\n",
      "  warnings.warn(\n"
     ]
    },
    {
     "name": "stdout",
     "output_type": "stream",
     "text": [
      "Best parameters for this fold: {'C': 100, 'loss': 'hinge'}\n"
     ]
    },
    {
     "name": "stderr",
     "output_type": "stream",
     "text": [
      "c:\\Users\\USER\\anaconda3\\lib\\site-packages\\sklearn\\svm\\_base.py:1235: ConvergenceWarning: Liblinear failed to converge, increase the number of iterations.\n",
      "  warnings.warn(\n"
     ]
    },
    {
     "name": "stdout",
     "output_type": "stream",
     "text": [
      "Best parameters for this fold: {'C': 100, 'loss': 'hinge'}\n"
     ]
    },
    {
     "name": "stderr",
     "output_type": "stream",
     "text": [
      "c:\\Users\\USER\\anaconda3\\lib\\site-packages\\sklearn\\svm\\_base.py:1235: ConvergenceWarning: Liblinear failed to converge, increase the number of iterations.\n",
      "  warnings.warn(\n"
     ]
    },
    {
     "name": "stdout",
     "output_type": "stream",
     "text": [
      "Best parameters for this fold: {'C': 100, 'loss': 'hinge'}\n",
      "car_motor_out_overlap svc done in 225.26 seconds\n",
      "full_data svc start\n",
      "Best parameters for this fold: {'C': 10, 'loss': 'squared_hinge'}\n"
     ]
    },
    {
     "name": "stderr",
     "output_type": "stream",
     "text": [
      "c:\\Users\\USER\\anaconda3\\lib\\site-packages\\sklearn\\svm\\_base.py:1235: ConvergenceWarning: Liblinear failed to converge, increase the number of iterations.\n",
      "  warnings.warn(\n"
     ]
    },
    {
     "name": "stdout",
     "output_type": "stream",
     "text": [
      "Best parameters for this fold: {'C': 100, 'loss': 'hinge'}\n"
     ]
    },
    {
     "name": "stderr",
     "output_type": "stream",
     "text": [
      "c:\\Users\\USER\\anaconda3\\lib\\site-packages\\sklearn\\svm\\_base.py:1235: ConvergenceWarning: Liblinear failed to converge, increase the number of iterations.\n",
      "  warnings.warn(\n"
     ]
    },
    {
     "name": "stdout",
     "output_type": "stream",
     "text": [
      "Best parameters for this fold: {'C': 100, 'loss': 'hinge'}\n"
     ]
    },
    {
     "name": "stderr",
     "output_type": "stream",
     "text": [
      "c:\\Users\\USER\\anaconda3\\lib\\site-packages\\sklearn\\svm\\_base.py:1235: ConvergenceWarning: Liblinear failed to converge, increase the number of iterations.\n",
      "  warnings.warn(\n"
     ]
    },
    {
     "name": "stdout",
     "output_type": "stream",
     "text": [
      "Best parameters for this fold: {'C': 10, 'loss': 'hinge'}\n",
      "Best parameters for this fold: {'C': 100, 'loss': 'hinge'}\n",
      "full_data svc done in 1635.91 seconds\n"
     ]
    },
    {
     "name": "stderr",
     "output_type": "stream",
     "text": [
      "c:\\Users\\USER\\anaconda3\\lib\\site-packages\\sklearn\\svm\\_base.py:1235: ConvergenceWarning: Liblinear failed to converge, increase the number of iterations.\n",
      "  warnings.warn(\n"
     ]
    }
   ],
   "source": [
    "import pickle\n",
    "import time\n",
    "import gc\n",
    "\n",
    "models = [\n",
    "    (\"pass_0\", pass_0_X, pass_0_y),\n",
    "    (\"pass_out\", pass_out_X, pass_out_y),\n",
    "    (\"car_0\", car_0_X, car_0_y),\n",
    "    (\"motor_0\", motor_0_X, motor_0_y),\n",
    "    (\"car_motor_out_overlap\", car_motor_out_overlap_X, car_motor_out_overlap_y),\n",
    "    (\"full_data\", full_data_X, full_data_y),\n",
    "]\n",
    "\n",
    "# Logistic no fold\n",
    "for name, X, y in models:\n",
    "    print(f'{name} logistic start')\n",
    "    start_time = time.time()\n",
    "    # y_log, decision_scores_log, indices_log = logistic_cm_kfold(X.astype(float), y)\n",
    "    y_log, decision_scores_log, indices_log = logistic_cm_gridsearch(X.astype(float), y)\n",
    "    end_time = time.time()\n",
    "    elapsed_time = end_time - start_time\n",
    "    with open(f\"../Models/ModelPerformanceNofoldImportance/logistic/{name}.pkl\", \"wb\") as f:\n",
    "        pickle.dump({\n",
    "            'y': y_log,\n",
    "            'decision_scores': decision_scores_log,\n",
    "            'indices': indices_log,\n",
    "            'elapsed_time': elapsed_time\n",
    "        }, f)\n",
    "    print(f'{name} logistic done in {elapsed_time:.2f} seconds')\n",
    "    del X, y, y_log, decision_scores_log\n",
    "    gc.collect()\n",
    "\n",
    "# SVC no fold\n",
    "for name, X, y in models:\n",
    "    print(f'{name} svc start')\n",
    "    start_time = time.time()\n",
    "    y_svc, decision_scores_svc, indices_svc = linear_svc_cm_gridsearch(X.astype(float), y)\n",
    "    end_time = time.time()\n",
    "    elapsed_time = end_time - start_time\n",
    "    with open(f\"../Models/ModelPerformanceNofoldImportance/svc/{name}.pkl\", \"wb\") as f:\n",
    "        pickle.dump({\n",
    "            'y': y_svc,\n",
    "            'decision_scores': decision_scores_svc,\n",
    "            'indices': indices_svc,\n",
    "            'elapsed_time': elapsed_time\n",
    "        }, f)\n",
    "    print(f'{name} svc done in {elapsed_time:.2f} seconds')\n",
    "    del X, y, y_svc, decision_scores_svc\n",
    "    gc.collect()\n",
    "\n",
    "# Logistic with fold\n",
    "for name, X, y in models:\n",
    "    print(f'{name} logistic start')\n",
    "    start_time = time.time()\n",
    "    y_log, decision_scores_log, indices_log = logistic_cm_kfold(X.astype(float), y)\n",
    "    end_time = time.time()\n",
    "    elapsed_time = end_time - start_time\n",
    "    with open(f\"../Models/ModelPerformanceImportance/logistic/{name}.pkl\", \"wb\") as f:\n",
    "        pickle.dump({\n",
    "            'y': y_log,\n",
    "            'decision_scores': decision_scores_log,\n",
    "            'indices': indices_log,\n",
    "            'elapsed_time': elapsed_time\n",
    "        }, f)\n",
    "    print(f'{name} logistic done in {elapsed_time:.2f} seconds')\n",
    "    del X, y, y_log, decision_scores_log\n",
    "    gc.collect()\n",
    "\n",
    "# SVC with fold\n",
    "for name, X, y in models:\n",
    "    print(f'{name} svc start')\n",
    "    start_time = time.time()\n",
    "    y_svc, decision_scores_svc, indices_svc = linear_svc_kfold(X.astype(float), y, n_jobs=14)\n",
    "    end_time = time.time()\n",
    "    elapsed_time = end_time - start_time\n",
    "    with open(f\"../Models/ModelPerformanceImportance/svc/{name}.pkl\", \"wb\") as f:\n",
    "        pickle.dump({\n",
    "            'y': y_svc,\n",
    "            'decision_scores': decision_scores_svc,\n",
    "            'indices': indices_svc,\n",
    "            'elapsed_time': elapsed_time\n",
    "        }, f)\n",
    "    print(f'{name} svc done in {elapsed_time:.2f} seconds')\n",
    "    del X, y, y_svc, decision_scores_svc\n",
    "    gc.collect()"
   ]
  }
 ],
 "metadata": {
  "kernelspec": {
   "display_name": "base",
   "language": "python",
   "name": "python3"
  },
  "language_info": {
   "codemirror_mode": {
    "name": "ipython",
    "version": 3
   },
   "file_extension": ".py",
   "mimetype": "text/x-python",
   "name": "python",
   "nbconvert_exporter": "python",
   "pygments_lexer": "ipython3",
   "version": "3.9.12"
  }
 },
 "nbformat": 4,
 "nbformat_minor": 2
}

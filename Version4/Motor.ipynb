{
 "cells": [
  {
   "cell_type": "code",
   "execution_count": 1,
   "metadata": {},
   "outputs": [
    {
     "name": "stdout",
     "output_type": "stream",
     "text": [
      "[Errno 2] No such file or directory: 'C:\\\\System\\\\Library\\\\Fonts\\\\PingFang.ttc'\n"
     ]
    }
   ],
   "source": [
    "import os\n",
    "import pickle\n",
    "import prince\n",
    "import numpy as np\n",
    "import pandas as pd\n",
    "import seaborn as sns\n",
    "import matplotlib.pyplot as plt\n",
    "import matplotlib.cm as cm\n",
    "from matplotlib.font_manager import FontProperties\n",
    "\n",
    "# 獲取當前工作目錄\n",
    "current_dir = os.getcwd()\n",
    "parent_dir = os.path.dirname(current_dir)\n",
    "version3_path = os.path.join(parent_dir, \"Version3\")\n",
    "\n",
    "# 暫時將工作目錄切換到 Version3\n",
    "os.chdir(version3_path)\n",
    "\n",
    "from sklearn.cluster import AgglomerativeClustering\n",
    "from tdamapper.core_old import MapperAlgorithm\n",
    "from tdamapper.cover import CubicalCover\n",
    "from tdamapper.clustering import FailSafeClustering\n",
    "\n",
    "from utils.utils_v3 import *\n",
    "from utils.plots import *\n",
    "from utils.preprocess import preprocess, process_other, get_unique_ids\n",
    "\n",
    "try:\n",
    "    myfont = FontProperties(fname=r\"/System/Library/Fonts/PingFang.ttc\")\n",
    "    sns.set(style=\"whitegrid\", font=myfont.get_name())\n",
    "except Exception as e:\n",
    "    print(e)\n",
    "\n",
    "plt.rcParams['font.sans-serif'] = ['Microsoft YaHei']\n",
    "plt.rcParams['axes.unicode_minus'] = False\n",
    "\n",
    "dataA2 = pd.read_csv(\"./Data/A2.csv\", low_memory=False)\n",
    "dataA1 = pd.read_csv(\"./Data/A1.csv\")"
   ]
  },
  {
   "cell_type": "code",
   "execution_count": 6,
   "metadata": {},
   "outputs": [],
   "source": [
    "select_lst = [\n",
    "    # 月份是為了篩選每個月2萬筆\n",
    "    '發生月份',\n",
    "\n",
    "    '天候名稱', '光線名稱', \n",
    "    '道路類別-第1當事者-名稱', '速限-第1當事者', \n",
    "    '路面狀況-路面鋪裝名稱', '路面狀況-路面狀態名稱', '路面狀況-路面缺陷名稱',\n",
    "    '道路障礙-障礙物名稱', '道路障礙-視距品質名稱', '道路障礙-視距名稱',\n",
    "    '號誌-號誌種類名稱', '號誌-號誌動作名稱',\n",
    "    '車道劃分設施-分道設施-快車道或一般車道間名稱', '車道劃分設施-分道設施-快慢車道間名稱', '車道劃分設施-分道設施-路面邊線名稱',\n",
    "    '當事者屬-性-別名稱', '當事者事故發生時年齡',\n",
    "    '保護裝備名稱', '行動電話或電腦或其他相類功能裝置名稱',\n",
    "    '肇事逃逸類別名稱-是否肇逃',\n",
    "    '死亡受傷人數',\n",
    "\n",
    "    # 大類別\n",
    "    '道路型態大類別名稱', '事故位置大類別名稱',\n",
    "    '車道劃分設施-分向設施大類別名稱',\n",
    "    '事故類型及型態大類別名稱', '當事者區分-類別-大類別名稱-車種', '當事者行動狀態大類別名稱',\n",
    "    '車輛撞擊部位大類別名稱-最初', '車輛撞擊部位大類別名稱-其他',\n",
    "\n",
    "    # 兩個欄位只有兩個觀察值不同\n",
    "    '肇因研判大類別名稱-主要',\n",
    "    # '肇因研判大類別名稱-個別',\n",
    "    \n",
    "    # 子類別\n",
    "    '道路型態子類別名稱', '事故位置子類別名稱', '事故類型及型態子類別名稱', '肇因研判子類別名稱-主要',\n",
    "    '當事者區分-類別-子類別名稱-車種', '當事者行動狀態子類別名稱', '車輛撞擊部位子類別名稱-最初',\n",
    "    '車輛撞擊部位子類別名稱-其他', '肇因研判子類別名稱-個別',\n",
    "]"
   ]
  },
  {
   "cell_type": "code",
   "execution_count": 11,
   "metadata": {},
   "outputs": [
    {
     "name": "stdout",
     "output_type": "stream",
     "text": [
      "43 10898\n",
      "44 11152\n",
      "42 10645\n",
      "37 9377\n",
      "33 8364\n",
      "43 10898\n",
      "54 13686\n",
      "46 11659\n",
      "39 9884\n",
      "42 10645\n",
      "[]\n",
      "dummy_data: (107631, 416)\n"
     ]
    }
   ],
   "source": [
    "full_dataA1 = preprocess(dataA1, target='機車', lst=select_lst)\n",
    "full_dataA2 = preprocess(dataA2, target='機車', lst=select_lst)\n",
    "mapper_numpy, rbind_data, dummy_data, death = process_other(full_dataA1, full_dataA2, downsample=0.6)"
   ]
  },
  {
   "cell_type": "code",
   "execution_count": null,
   "metadata": {},
   "outputs": [],
   "source": [
    "from kmodes.kmodes import KModes\n",
    "\n",
    "cost = []\n",
    "all_results = {}\n",
    "K = range(1, 6)\n",
    "\n",
    "for k in K:\n",
    "\n",
    "    km = KModes(\n",
    "    n_clusters=k, \n",
    "    init='Huang',\n",
    "    verbose=1,\n",
    "    random_state=42,\n",
    "    n_jobs=10\n",
    "    )\n",
    "\n",
    "    labels = km.fit_predict(rbind_data)\n",
    "    cost.append(km.cost_)\n",
    "    all_results[k] = {\n",
    "        'cost': km.cost_,\n",
    "        'labels': labels,\n",
    "        'centroids': km.cluster_centroids_\n",
    "    }\n",
    "\n",
    "optimal_k = K[cost.index(min(cost))]\n",
    "optimal_result = all_results[optimal_k]\n",
    "\n",
    "# with open('Version3/Data/CarData/kmode_result.pickle', 'wb') as f:\n",
    "#     pickle.dump(all_results, f)\n",
    "\n",
    "plt.figure(figsize=(8, 5))\n",
    "plt.plot(K, cost, marker='o')\n",
    "plt.xlabel('Number of Clusters (k)')\n",
    "plt.ylabel('Cost')\n",
    "plt.title('Elbow Method for Optimal k')\n",
    "plt.show()\n",
    "\n",
    "# save all_results\n",
    "with open('./Data/Kmode/Motor.pkl', 'wb') as f:\n",
    "    pickle.dump(all_results, f)"
   ]
  },
  {
   "cell_type": "code",
   "execution_count": 7,
   "metadata": {},
   "outputs": [
    {
     "name": "stdout",
     "output_type": "stream",
     "text": [
      "1    57441\n",
      "0    50190\n",
      "dtype: int64\n"
     ]
    }
   ],
   "source": [
    "print(pd.Series(all_results[2]['labels']).value_counts())\n",
    "rbind_data['Cluster'] = all_results[2]['labels']"
   ]
  },
  {
   "cell_type": "markdown",
   "metadata": {},
   "source": [
    "# MCA"
   ]
  },
  {
   "cell_type": "code",
   "execution_count": null,
   "metadata": {},
   "outputs": [],
   "source": [
    "mca = prince.MCA(\n",
    "    one_hot=False,\n",
    "    n_components=8,\n",
    "    n_iter=30,\n",
    "    copy=True,\n",
    "    check_input=True,\n",
    "    random_state=42\n",
    "    # random_state=43\n",
    ")\n",
    "\n",
    "mca.fit(dummy_data)\n",
    "lens = mca.transform(dummy_data)\n",
    "\n",
    "print(mca.eigenvalues_summary)\n",
    "\n",
    "eigenvalues = mca.eigenvalues_\n",
    "\n",
    "components = range(0, len(eigenvalues))\n",
    "\n",
    "variance = mca.eigenvalues_summary['% of variance']\n",
    "\n",
    "plt.figure(figsize=(10, 6))\n",
    "plt.plot(components, eigenvalues, marker='o', linestyle='--')\n",
    "plt.title(\"Scree Plot\")\n",
    "plt.xlabel(\"Component\")\n",
    "plt.ylabel(\"Eigenvalue\")\n",
    "plt.xticks(components)\n",
    "plt.grid(True)\n",
    "plt.show()"
   ]
  },
  {
   "cell_type": "code",
   "execution_count": null,
   "metadata": {},
   "outputs": [],
   "source": [
    "plot_mca(mca, dummy_data)"
   ]
  },
  {
   "cell_type": "code",
   "execution_count": 9,
   "metadata": {},
   "outputs": [],
   "source": [
    "grid_search_info = {\n",
    "    'lens': lens,\n",
    "    'mapper_numpy': mapper_numpy,\n",
    "    'rbind_data': rbind_data,\n",
    "}\n",
    "with open('../ForMatrix/CalculatedData/Motor.pkl', 'wb') as f:\n",
    "    pickle.dump(grid_search_info, f)"
   ]
  },
  {
   "cell_type": "code",
   "execution_count": null,
   "metadata": {},
   "outputs": [],
   "source": [
    "overlap = 2\n",
    "interval = 10\n",
    "detailed_results = []\n",
    "silhouette_for_intervals = []\n",
    "\n",
    "mapper_algo = MapperAlgorithm(\n",
    "    cover=CubicalCover(\n",
    "        n_intervals=interval,\n",
    "        overlap_frac=overlap / 10\n",
    "    ),\n",
    "    clustering=FailSafeClustering(\n",
    "        AgglomerativeClustering(\n",
    "            n_clusters=2,\n",
    "            linkage='ward'\n",
    "        )\n",
    "    ),\n",
    "    n_jobs=14\n",
    ")\n",
    "\n",
    "mapper_info = mapper_algo.fit_transform(mapper_numpy, lens)\n",
    "silhouette_for_intervals.append(mapper_info[1])\n",
    "result = {\n",
    "    \"overlap\": overlap,\n",
    "    \"interval\": interval,\n",
    "    \"silhouette\": mapper_info[1],\n",
    "    \"mapper_info\": mapper_info\n",
    "}\n",
    "detailed_results.append(result)\n",
    "detailed_results_df = pd.DataFrame(detailed_results)"
   ]
  },
  {
   "cell_type": "code",
   "execution_count": 8,
   "metadata": {},
   "outputs": [],
   "source": [
    "output_file = './Data/Mapper/motor_o2i10.pkl'\n",
    "\n",
    "with open(output_file, 'rb') as f:\n",
    "    detailed_results_df = pickle.load(f)\n",
    "    \n",
    "# with open(output_file, 'wb') as f:\n",
    "#     pickle.dump(detailed_results_df, f)"
   ]
  },
  {
   "cell_type": "markdown",
   "metadata": {},
   "source": [
    "# 目前分析使用的模型"
   ]
  },
  {
   "cell_type": "code",
   "execution_count": null,
   "metadata": {},
   "outputs": [],
   "source": [
    "for choose in select_lst:\n",
    "    print(choose)\n",
    "    try:\n",
    "        mapper_plotter = MapperPlotter(detailed_results_df['mapper_info'][0], rbind_data, seed=32, iterations=50,\n",
    "                                        range_lst=[-0.07, 0.07, 0.1, -0.1], dim=3)\n",
    "        mapper_plot = mapper_plotter.create_mapper_plot(choose, most_common_encoded_label, avg=False)\n",
    "        full_info = mapper_plotter.extract_data(rz=100)\n",
    "        mapper_plotter.map_colors(choose, size=15, threshold=500)\n",
    "        mapper_plotter.plot(choose, avg=False, set_label=True, size=3000)\n",
    "    except Exception as e:\n",
    "        print(e)\n",
    "        continue"
   ]
  },
  {
   "cell_type": "code",
   "execution_count": null,
   "metadata": {},
   "outputs": [],
   "source": [
    "choose = '死亡'\n",
    "rbind_data['死亡'] = death\n",
    "\n",
    "mapper_plotter = MapperPlotter(detailed_results_df['mapper_info'][0], rbind_data, seed=32, iterations=50,\n",
    "                                range_lst=[-0.1, 0.1, 0.1, -0.1], dim=3)\n",
    "mapper_plot = mapper_plotter.create_mapper_plot(choose, sum_of_data, avg=True)\n",
    "full_info, label_out = mapper_plotter.extract_data(rz=100)\n",
    "mapper_plotter.map_colors(choose, size=10, threshold=0)\n",
    "mapper_plotter.plot_dens(choose, avg=True, set_label=False, size=3000, minimum_lst=[-0.025, 0.05])"
   ]
  },
  {
   "cell_type": "code",
   "execution_count": null,
   "metadata": {},
   "outputs": [],
   "source": [
    "choose = '顯著特徵'\n",
    "rbind_data['顯著特徵'] = rbind_data['道路型態子類別名稱'] + ',' + rbind_data['號誌-號誌動作名稱'] + ',' + rbind_data['天候名稱']\n",
    "# choose = 'Significant Features'\n",
    "# rbind_data['Significant Features'] = rbind_data['Road Category - Subcategory'] + ',' + rbind_data['Traffic Signal - Signal Operation'] + ',' + rbind_data[\"Weather Condition\"]\n",
    "\n",
    "mapper_plotter = MapperPlotter(detailed_results_df['mapper_info'][0], rbind_data, seed=32, iterations=50,\n",
    "                                range_lst=[-0.1, 0.1, 0.1, -0.1], dim=3)\n",
    "mapper_plot = mapper_plotter.create_mapper_plot(choose, most_common_encoded_label, avg=False)\n",
    "full_info, label_out = mapper_plotter.extract_data(rz=100)\n",
    "mapper_plotter.map_colors(choose, size=10, threshold=500)\n",
    "mapper_plotter.plot(choose, avg=False, set_label=True, size=3000, anchor=1.18)"
   ]
  },
  {
   "cell_type": "code",
   "execution_count": null,
   "metadata": {},
   "outputs": [],
   "source": [
    "full_info, label_out = mapper_plotter.extract_data(rz=100)\n",
    "mapper_plotter.map_colors(choose, size=10, threshold=5)\n",
    "mapper_plotter.plot(choose, avg=False, set_label=True, size=3000)"
   ]
  },
  {
   "cell_type": "code",
   "execution_count": null,
   "metadata": {},
   "outputs": [],
   "source": [
    "choose = 'Cluster'\n",
    "\n",
    "mapper_plotter = MapperPlotter(detailed_results_df['mapper_info'][0], rbind_data, seed=32, iterations=50,\n",
    "                                range_lst=[-0.1, 0.1, 0.1, -0.1], dim=3)\n",
    "mapper_plot = mapper_plotter.create_mapper_plot(choose, most_common_encoded_label, avg=False)\n",
    "full_info, label_out = mapper_plotter.extract_data(rz=100)\n",
    "mapper_plotter.map_colors(choose, size=5, threshold=5)\n",
    "mapper_plotter.plot(choose, avg=False, set_label=True, size=3000)"
   ]
  },
  {
   "cell_type": "markdown",
   "metadata": {},
   "source": [
    "# Polygon"
   ]
  },
  {
   "cell_type": "code",
   "execution_count": null,
   "metadata": {},
   "outputs": [],
   "source": [
    "from shapely.geometry import Point, Polygon\n",
    "\n",
    "threshold = 0.0299\n",
    "x_max = 0.5\n",
    "x_min = -0.5\n",
    "y_max = 0.5\n",
    "y_min = -0.5\n",
    "\n",
    "rectangle1 = Polygon([(threshold, y_min), (x_min, y_min), (x_min, y_max), (threshold, y_max)])\n",
    "rectangle2 = Polygon([(threshold, y_min), (threshold, y_max), (x_max, y_max), (x_max, y_min)])\n",
    "\n",
    "th = 2\n",
    "filtered_full_info = full_info[(full_info['y'] > -th) &\n",
    "                               (full_info['y'] < th) &\n",
    "                               (full_info['x'] > -th) &\n",
    "                               (full_info['x'] < th)]\n",
    "\n",
    "# 檢查每個點是否在任意一個區塊內\n",
    "inside_indices_1 = filtered_full_info.apply(lambda row: Point(row['x'], row['y']).within(rectangle1), axis=1)\n",
    "inside_indices_2 = filtered_full_info.apply(lambda row: Point(row['x'], row['y']).within(rectangle2), axis=1)\n",
    "\n",
    "label_0 = filtered_full_info[inside_indices_1]\n",
    "label_1 = filtered_full_info[inside_indices_2]\n",
    "\n",
    "# 繪製數據點和矩形區塊\n",
    "plt.figure(figsize=(10, 8))\n",
    "plt.scatter(label_0['x'], label_0['y'], color='green', s=10)\n",
    "plt.scatter(label_1['x'], label_1['y'], color='blue', s=10)\n",
    "# 繪製矩形區塊\n",
    "for rect, color, alpha in zip([rectangle1, rectangle2], \n",
    "                              ['green', 'blue'], \n",
    "                              [0.2, 0.2]):\n",
    "    x, y = rect.exterior.xy\n",
    "    plt.fill(x, y, color=color, alpha=alpha)\n",
    "# 圖形調整\n",
    "plt.xlabel(\"X\")\n",
    "plt.ylabel(\"Y\")\n",
    "plt.legend()\n",
    "plt.grid(True)\n",
    "plt.axis(\"equal\")\n",
    "plt.show()"
   ]
  },
  {
   "cell_type": "code",
   "execution_count": null,
   "metadata": {},
   "outputs": [],
   "source": [
    "plot_labels(label_0, label_1, label_out, title=\"Label and Outlier Visualization\")"
   ]
  },
  {
   "cell_type": "code",
   "execution_count": 7,
   "metadata": {},
   "outputs": [
    {
     "name": "stdout",
     "output_type": "stream",
     "text": [
      "107631\n",
      "107631\n"
     ]
    }
   ],
   "source": [
    "rbind_data['死亡'] = death\n",
    "# 獲取每個label的index\n",
    "count_0 = get_unique_ids(label_0)\n",
    "count_1 = get_unique_ids(label_1)\n",
    "count_out = get_unique_ids(label_out)\n",
    "\n",
    "index_to_groups = {}\n",
    "\n",
    "# 將索引與群體的關係記錄下來\n",
    "for group_name, group_indexes in zip(\n",
    "    [\"full_0\", \"full_1\", \"full_out\"],\n",
    "    [count_0, count_1, count_out],\n",
    "):\n",
    "    for idx in group_indexes:\n",
    "        if idx not in index_to_groups:\n",
    "            index_to_groups[idx] = set()\n",
    "        index_to_groups[idx].add(group_name)\n",
    "\n",
    "# 找交集索引\n",
    "intersection_indexes = {idx for idx, groups in index_to_groups.items() if len(groups) > 1}\n",
    "\n",
    "# 移除交集的index\n",
    "count_0 = [i for i in count_0 if i not in intersection_indexes]\n",
    "count_1 = [i for i in count_1 if i not in intersection_indexes]\n",
    "count_out = [i for i in count_out if i not in intersection_indexes]\n",
    "\n",
    "\n",
    "full_0 = rbind_data.loc[count_0]\n",
    "full_1 = rbind_data.loc[count_1]\n",
    "full_out = rbind_data.loc[count_out]\n",
    "overlap_data = rbind_data.loc[list(intersection_indexes)]\n",
    "\n",
    "# 確認所有資料都被獲取\n",
    "assert len(count_0) == full_0.shape[0]\n",
    "assert len(count_1) == full_1.shape[0]\n",
    "assert len(count_out) == full_out.shape[0]\n",
    "\n",
    "print(full_0.shape[0] + full_1.shape[0] + full_out.shape[0] + overlap_data.shape[0])\n",
    "print(rbind_data.shape[0])"
   ]
  },
  {
   "cell_type": "code",
   "execution_count": 8,
   "metadata": {},
   "outputs": [
    {
     "name": "stdout",
     "output_type": "stream",
     "text": [
      "0    69156\n",
      "1      313\n",
      "2        5\n",
      "Name: 死亡, dtype: int64\n",
      "0    32699\n",
      "1       87\n",
      "Name: 死亡, dtype: int64\n",
      "0    2276\n",
      "1      10\n",
      "2       1\n",
      "Name: 死亡, dtype: int64\n",
      "0    3077\n",
      "1       7\n",
      "Name: 死亡, dtype: int64\n"
     ]
    }
   ],
   "source": [
    "print(full_0['死亡'].value_counts())\n",
    "print(full_1['死亡'].value_counts())\n",
    "print(full_out['死亡'].value_counts())\n",
    "print(overlap_data['死亡'].value_counts())"
   ]
  },
  {
   "cell_type": "code",
   "execution_count": 9,
   "metadata": {},
   "outputs": [],
   "source": [
    "full_info.to_csv('./Data/MotorData/full_info.csv', index=False)\n",
    "full_0.to_csv('./Data/MotorData/full_0.csv', index=False)\n",
    "full_1.to_csv('./Data/MotorData/full_1.csv', index=False)\n",
    "full_out.to_csv('./Data/MotorData/full_out.csv', index=False)\n",
    "overlap_data.to_csv('./Data/MotorData/overlap_data.csv', index=False)"
   ]
  }
 ],
 "metadata": {
  "kernelspec": {
   "display_name": "base",
   "language": "python",
   "name": "python3"
  },
  "language_info": {
   "codemirror_mode": {
    "name": "ipython",
    "version": 3
   },
   "file_extension": ".py",
   "mimetype": "text/x-python",
   "name": "python",
   "nbconvert_exporter": "python",
   "pygments_lexer": "ipython3",
   "version": "3.9.12"
  }
 },
 "nbformat": 4,
 "nbformat_minor": 2
}

{
 "cells": [
  {
   "cell_type": "code",
   "execution_count": 4,
   "metadata": {},
   "outputs": [
    {
     "name": "stdout",
     "output_type": "stream",
     "text": [
      "[Errno 2] No such file or directory: 'C:\\\\System\\\\Library\\\\Fonts\\\\PingFang.ttc'\n"
     ]
    }
   ],
   "source": [
    "import os\n",
    "import pickle\n",
    "import pandas as pd\n",
    "import seaborn as sns\n",
    "import matplotlib.pyplot as plt\n",
    "from matplotlib.font_manager import FontProperties\n",
    "from sklearn.cluster import AgglomerativeClustering\n",
    "\n",
    "# 獲取當前工作目錄\n",
    "current_dir = os.getcwd()\n",
    "parent_dir = os.path.dirname(current_dir)\n",
    "version3_path = os.path.join(parent_dir, \"Version3\")\n",
    "\n",
    "# 暫時將工作目錄切換到 Version3\n",
    "os.chdir(version3_path)\n",
    "\n",
    "from tdamapper.core_old import MapperAlgorithm\n",
    "from tdamapper.cover import CubicalCover\n",
    "from tdamapper.clustering import FailSafeClustering\n",
    "\n",
    "from utils.utils_v3 import *\n",
    "from utils.plots import *\n",
    "\n",
    "try:\n",
    "    myfont = FontProperties(fname=r\"/System/Library/Fonts/PingFang.ttc\")\n",
    "    sns.set(style=\"whitegrid\", font=myfont.get_name())\n",
    "except Exception as e:\n",
    "    print(e)\n",
    "\n",
    "plt.rcParams['font.sans-serif'] = ['Microsoft YaHei']\n",
    "plt.rcParams['axes.unicode_minus'] = False"
   ]
  },
  {
   "cell_type": "code",
   "execution_count": 5,
   "metadata": {},
   "outputs": [],
   "source": [
    "all_data = {}\n",
    "all_kmode = {}\n",
    "for d in ['Car', 'Driver', 'Motor', 'Pass']:\n",
    "    with open(f\"./Data/Kmode/{d}.pkl\", \"rb\") as f:\n",
    "        kmode = pickle.load(f)\n",
    "    with open(f\"../ForMatrix/CalculatedData/{d}.pkl\", \"rb\") as f:\n",
    "        data = pickle.load(f)\n",
    "\n",
    "    all_kmode[d] = kmode\n",
    "    all_data[d] = data"
   ]
  },
  {
   "cell_type": "code",
   "execution_count": null,
   "metadata": {},
   "outputs": [],
   "source": [
    "Overlap = [1,3, 5]\n",
    "Interval = [2]\n",
    "\n",
    "detailed_results = []\n",
    "\n",
    "for d in ['Car']:\n",
    "\n",
    "    with open(f\"../ForMatrix/CalculatedData/{d}.pkl\", \"rb\") as f:\n",
    "        data = pickle.load(f)\n",
    "        \n",
    "    for overlap in Overlap:\n",
    "        silhouette_for_intervals = []\n",
    "\n",
    "        for interval in Interval:\n",
    "            try:\n",
    "                print(f'overlap: {overlap}, interval: {interval} for {d}')\n",
    "\n",
    "                mapper_algo = MapperAlgorithm(\n",
    "                    cover=CubicalCover(\n",
    "                        n_intervals=interval,\n",
    "                        overlap_frac=overlap / 10\n",
    "                    ),\n",
    "                    clustering=FailSafeClustering(\n",
    "                        AgglomerativeClustering(\n",
    "                            n_clusters=2,\n",
    "                            linkage='ward'\n",
    "                        )\n",
    "                    ),\n",
    "                    n_jobs=12\n",
    "                )\n",
    "\n",
    "                mapper_info = mapper_algo.fit_transform(data['mapper_numpy'], data['lens'])\n",
    "                silhouette_for_intervals.append(mapper_info[1])\n",
    "\n",
    "                result = {\n",
    "                    \"overlap\": overlap,\n",
    "                    \"interval\": interval,\n",
    "                    \"silhouette\": mapper_info[1],\n",
    "                    \"mapper_info\": mapper_info\n",
    "                }\n",
    "\n",
    "                detailed_results.append(result)\n",
    "\n",
    "                with open(f\"../ForMatrix/Output/{d}/o{overlap}i{interval}.pkl\", 'wb') as file:\n",
    "                    pickle.dump(result, file)\n",
    "\n",
    "            except Exception as e:\n",
    "                print(f\"Error for overlap={overlap}, interval={interval}: {e}\")\n",
    "                continue\n"
   ]
  },
  {
   "cell_type": "code",
   "execution_count": 8,
   "metadata": {},
   "outputs": [
    {
     "name": "stdout",
     "output_type": "stream",
     "text": [
      "Error for overlap=5, interval=2: [Errno 2] No such file or directory: '../ForMatrix/Output/Car/o5i2.pkl'\n"
     ]
    }
   ],
   "source": [
    "Overlap = [5]\n",
    "Interval = [2]\n",
    "choose = 'Cluster'\n",
    "\n",
    "detailed_results = []\n",
    "\n",
    "for d in ['Car']:\n",
    "    \n",
    "    with open(f\"./Data/Kmode/{d}.pkl\", \"rb\") as f:\n",
    "        kmode = pickle.load(f)\n",
    "    with open(f\"../ForMatrix/CalculatedData/{d}.pkl\", \"rb\") as f:\n",
    "        data = pickle.load(f)\n",
    "    data['rbind_data']['Cluster'] = kmode[2]['labels']\n",
    "    \n",
    "    for overlap in Overlap:\n",
    "\n",
    "        for interval in Interval:\n",
    "            try:\n",
    "                with open(f\"../ForMatrix/Output/{d}/o{overlap}i{interval}.pkl\", \"rb\") as f:\n",
    "                    mapper_data = pickle.load(f)\n",
    "        \n",
    "                print(f'overlap: {overlap}, interval: {interval} for {d}')\n",
    "\n",
    "                mapper_plotter = MapperPlotter(mapper_data['mapper_info'], data['rbind_data'], seed=35, iterations=50, dim=3,\n",
    "                                range_lst=[-0.5, 0.5, 0.5, -0.5])\n",
    "                mapper_plot = mapper_plotter.create_mapper_plot(choose, most_common_encoded_label, avg=False)\n",
    "                full_info = mapper_plotter.extract_data()\n",
    "                mapper_plotter.map_colors(choose, size=1, threshold=500)\n",
    "                mapper_plotter.plot(choose, avg=False, set_label=False, size=1000,\n",
    "                                    save_path=f\"../ForMatrix/Plot/{d}/o{overlap}i{interval}.png\")\n",
    "\n",
    "            except Exception as e:\n",
    "                print(f\"Error for overlap={overlap}, interval={interval}: {e}\")\n",
    "                continue\n"
   ]
  }
 ],
 "metadata": {
  "kernelspec": {
   "display_name": "base",
   "language": "python",
   "name": "python3"
  },
  "language_info": {
   "codemirror_mode": {
    "name": "ipython",
    "version": 3
   },
   "file_extension": ".py",
   "mimetype": "text/x-python",
   "name": "python",
   "nbconvert_exporter": "python",
   "pygments_lexer": "ipython3",
   "version": "3.9.12"
  }
 },
 "nbformat": 4,
 "nbformat_minor": 2
}

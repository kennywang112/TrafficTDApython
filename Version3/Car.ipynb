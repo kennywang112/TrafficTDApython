{
 "cells": [
  {
   "cell_type": "code",
   "execution_count": 1,
   "metadata": {},
   "outputs": [
    {
     "name": "stdout",
     "output_type": "stream",
     "text": [
      "[Errno 2] No such file or directory: 'C:\\\\System\\\\Library\\\\Fonts\\\\PingFang.ttc'\n"
     ]
    }
   ],
   "source": [
    "import os\n",
    "import pickle\n",
    "import prince\n",
    "import numpy as np\n",
    "import pandas as pd\n",
    "import seaborn as sns\n",
    "import matplotlib.pyplot as plt\n",
    "import matplotlib.cm as cm\n",
    "from matplotlib.font_manager import FontProperties\n",
    "from scipy.stats import chi2_contingency\n",
    "\n",
    "# 獲取當前工作目錄\n",
    "current_dir = os.getcwd()\n",
    "version3_path = os.path.join(current_dir, \"TrafficTDApython\", \"Version3\", \"tdamapper\", \"core_old.py\")\n",
    "\n",
    "from sklearn.cluster import AgglomerativeClustering\n",
    "from tdamapper.core_old import MapperAlgorithm\n",
    "from tdamapper.cover import CubicalCover\n",
    "from tdamapper.clustering import FailSafeClustering\n",
    "\n",
    "from utils.utils_v3 import *\n",
    "from utils.plots import *\n",
    "from utils.preprocess import preprocess, process_other, get_unique_ids\n",
    "\n",
    "try:\n",
    "    myfont = FontProperties(fname=r\"/System/Library/Fonts/PingFang.ttc\")\n",
    "    sns.set(style=\"whitegrid\", font=myfont.get_name())\n",
    "except Exception as e:\n",
    "    print(e)\n",
    "\n",
    "plt.rcParams['font.sans-serif'] = ['Microsoft YaHei']\n",
    "plt.rcParams['axes.unicode_minus'] = False\n",
    "\n",
    "dataA2 = pd.read_csv(\"./Data/A2.csv\", low_memory=False)\n",
    "dataA1 = pd.read_csv(\"./Data/A1.csv\")"
   ]
  },
  {
   "cell_type": "code",
   "execution_count": 2,
   "metadata": {},
   "outputs": [],
   "source": [
    "select_lst = [\n",
    "    # 月份是為了篩選每個月2萬筆\n",
    "    '發生月份',\n",
    "\n",
    "    '天候名稱', '光線名稱', \n",
    "    '道路類別-第1當事者-名稱', '速限-第1當事者', \n",
    "    '路面狀況-路面鋪裝名稱', '路面狀況-路面狀態名稱', '路面狀況-路面缺陷名稱',\n",
    "    '道路障礙-障礙物名稱', '道路障礙-視距品質名稱', '道路障礙-視距名稱',\n",
    "    '號誌-號誌種類名稱', '號誌-號誌動作名稱',\n",
    "    '車道劃分設施-分道設施-快車道或一般車道間名稱', '車道劃分設施-分道設施-快慢車道間名稱', '車道劃分設施-分道設施-路面邊線名稱',\n",
    "    '當事者屬-性-別名稱', '當事者事故發生時年齡',\n",
    "    '保護裝備名稱', '行動電話或電腦或其他相類功能裝置名稱',\n",
    "    '肇事逃逸類別名稱-是否肇逃',\n",
    "    '死亡受傷人數',\n",
    "\n",
    "    # 大類別\n",
    "    '道路型態大類別名稱', '事故位置大類別名稱',\n",
    "    '車道劃分設施-分向設施大類別名稱',\n",
    "    '事故類型及型態大類別名稱', '當事者區分-類別-大類別名稱-車種', '當事者行動狀態大類別名稱',\n",
    "    '車輛撞擊部位大類別名稱-最初', '車輛撞擊部位大類別名稱-其他',\n",
    "\n",
    "    # 兩個欄位只有兩個觀察值不同\n",
    "    '肇因研判大類別名稱-主要',\n",
    "    # '肇因研判大類別名稱-個別',\n",
    "    \n",
    "    # 子類別\n",
    "    '道路型態子類別名稱', '事故位置子類別名稱', '事故類型及型態子類別名稱', '肇因研判子類別名稱-主要',\n",
    "    '當事者區分-類別-子類別名稱-車種', '當事者行動狀態子類別名稱', '車輛撞擊部位子類別名稱-最初',\n",
    "    '車輛撞擊部位子類別名稱-其他', '肇因研判子類別名稱-個別',\n",
    "]"
   ]
  },
  {
   "cell_type": "code",
   "execution_count": 14,
   "metadata": {},
   "outputs": [
    {
     "name": "stdout",
     "output_type": "stream",
     "text": [
      "46 10354\n",
      "48 10804\n",
      "40 9003\n",
      "35 7878\n",
      "36 8103\n",
      "40 9003\n",
      "48 10804\n",
      "43 9679\n",
      "40 9003\n",
      "48 10804\n",
      "[]\n",
      "dummy_data: (95859, 471)\n"
     ]
    }
   ],
   "source": [
    "full_dataA1 = preprocess(dataA1, target='駕駛', lst=select_lst)\n",
    "full_dataA2 = preprocess(dataA2, target='駕駛', lst=select_lst)\n",
    "mapper_numpy, rbind_data, dummy_data, death, injuried = process_other(full_dataA1, full_dataA2, downsample=0.33, en=False)"
   ]
  },
  {
   "cell_type": "code",
   "execution_count": null,
   "metadata": {},
   "outputs": [],
   "source": [
    "from kmodes.kmodes import KModes\n",
    "\n",
    "cost = []\n",
    "all_results = {}\n",
    "K = range(1, 6)\n",
    "\n",
    "for k in K:\n",
    "\n",
    "    km = KModes(\n",
    "    n_clusters=k, \n",
    "    init='Huang',\n",
    "    verbose=1,\n",
    "    random_state=42,\n",
    "    n_jobs=10\n",
    "    )\n",
    "\n",
    "    labels = km.fit_predict(rbind_data)\n",
    "    cost.append(km.cost_)\n",
    "    all_results[k] = {\n",
    "        'cost': km.cost_,\n",
    "        'labels': labels,\n",
    "        'centroids': km.cluster_centroids_\n",
    "    }\n",
    "\n",
    "optimal_k = K[cost.index(min(cost))]\n",
    "optimal_result = all_results[optimal_k]\n",
    "\n",
    "# with open('Version3/Data/CarData/kmode_result.pickle', 'wb') as f:\n",
    "#     pickle.dump(all_results, f)\n",
    "\n",
    "plt.figure(figsize=(8, 5))\n",
    "plt.plot(K, cost, marker='o')\n",
    "plt.xlabel('Number of Clusters (k)')\n",
    "plt.ylabel('Cost')\n",
    "plt.title('Elbow Method for Optimal k')\n",
    "plt.show()\n",
    "# save all_results\n",
    "with open('./Data/Kmode/Driver.pkl', 'wb') as f:\n",
    "    pickle.dump(all_results, f)"
   ]
  },
  {
   "cell_type": "code",
   "execution_count": 20,
   "metadata": {},
   "outputs": [
    {
     "name": "stdout",
     "output_type": "stream",
     "text": [
      "1    48890\n",
      "0    46969\n",
      "dtype: int64\n"
     ]
    }
   ],
   "source": [
    "print(pd.Series(all_results[2]['labels']).value_counts())\n",
    "rbind_data['Cluster'] = all_results[2]['labels']"
   ]
  },
  {
   "cell_type": "markdown",
   "metadata": {},
   "source": [
    "# MCA"
   ]
  },
  {
   "cell_type": "code",
   "execution_count": null,
   "metadata": {},
   "outputs": [],
   "source": [
    "mca = prince.MCA(\n",
    "    one_hot=False,\n",
    "    n_components=7,\n",
    "    n_iter=30,\n",
    "    copy=True,\n",
    "    check_input=True,\n",
    "    random_state=42\n",
    ")\n",
    "\n",
    "mca.fit(dummy_data)\n",
    "lens = mca.transform(dummy_data)\n",
    "\n",
    "print(mca.eigenvalues_summary)\n",
    "\n",
    "eigenvalues = mca.eigenvalues_\n",
    "components = range(0, len(eigenvalues))\n",
    "variance = mca.eigenvalues_summary['% of variance']\n",
    "\n",
    "plt.figure(figsize=(10, 6))\n",
    "plt.plot(components, eigenvalues, marker='o', linestyle='--')\n",
    "plt.title(\"Scree Plot\")\n",
    "plt.xlabel(\"Component\")\n",
    "plt.ylabel(\"Eigenvalue\")\n",
    "plt.xticks(components)\n",
    "plt.grid(True)\n",
    "plt.show()"
   ]
  },
  {
   "cell_type": "code",
   "execution_count": null,
   "metadata": {},
   "outputs": [],
   "source": [
    "plot_mca(mca, dummy_data)"
   ]
  },
  {
   "cell_type": "code",
   "execution_count": 6,
   "metadata": {},
   "outputs": [],
   "source": [
    "grid_search_info = {\n",
    "    'lens': lens,\n",
    "    'mapper_numpy': mapper_numpy,\n",
    "    'rbind_data': rbind_data,\n",
    "}\n",
    "with open('../ForMatrix/CalculatedData/Driver.pkl', 'wb') as f:\n",
    "    pickle.dump(grid_search_info, f)"
   ]
  },
  {
   "cell_type": "code",
   "execution_count": null,
   "metadata": {},
   "outputs": [],
   "source": [
    "overlap = 2\n",
    "interval = 10\n",
    "detailed_results = []\n",
    "silhouette_for_intervals = []\n",
    "\n",
    "mapper_algo = MapperAlgorithm(\n",
    "    cover=CubicalCover(\n",
    "        n_intervals=interval,\n",
    "        overlap_frac=overlap / 10\n",
    "    ),\n",
    "    clustering=FailSafeClustering(\n",
    "        AgglomerativeClustering(\n",
    "            n_clusters=2,\n",
    "            linkage='ward'\n",
    "        )\n",
    "    ),\n",
    "    n_jobs=14\n",
    ")\n",
    "\n",
    "mapper_info = mapper_algo.fit_transform(mapper_numpy, lens)\n",
    "silhouette_for_intervals.append(mapper_info[1])\n",
    "result = {\n",
    "    \"overlap\": overlap,\n",
    "    \"interval\": interval,\n",
    "    \"silhouette\": mapper_info[1],\n",
    "    \"mapper_info\": mapper_info\n",
    "}\n",
    "detailed_results.append(result)\n",
    "detailed_results_df = pd.DataFrame(detailed_results)"
   ]
  },
  {
   "cell_type": "code",
   "execution_count": 4,
   "metadata": {},
   "outputs": [],
   "source": [
    "# read pickle\n",
    "with open('./ModelPerformance/car_performance_svc.pkl', 'rb') as f:\n",
    "    car_decision_scores = pickle.load(f)\n",
    "\n",
    "sorted_indices = np.argsort(car_decision_scores['indices'])\n",
    "y_decision_sorted = car_decision_scores['decision_scores'][sorted_indices]\n",
    "rbind_data['score'] = y_decision_sorted"
   ]
  },
  {
   "cell_type": "code",
   "execution_count": 4,
   "metadata": {},
   "outputs": [],
   "source": [
    "output_file = './Data/Mapper/driver_o2i10.pkl'\n",
    "\n",
    "with open(output_file, 'rb') as f:\n",
    "    detailed_results_df = pickle.load(f)\n",
    "\n",
    "# with open(output_file, 'wb') as f:\n",
    "    # pickle.dump(detailed_results_df, f)"
   ]
  },
  {
   "cell_type": "code",
   "execution_count": null,
   "metadata": {},
   "outputs": [],
   "source": [
    "# choose = '顯著特徵'\n",
    "# rbind_data['顯著特徵'] = rbind_data['道路型態子類別名稱'] + ',' + rbind_data['號誌-號誌動作名稱'] + ',' + rbind_data['天候名稱']\n",
    "choose = 'Significant Features'\n",
    "rbind_data['Significant Features'] = rbind_data['Road Category - Subcategory'] + ',' + rbind_data['Traffic Signal - Signal Operation'] + ',' + rbind_data[\"Weather Condition\"]\n",
    "\n",
    "mapper_plotter = MapperPlotter(detailed_results_df['mapper_info'][0], rbind_data, seed=35, iterations=100, dim=3,\n",
    "                                range_lst=[-0.075, 0.075, 0.06, -0.6])\n",
    "mapper_plot = mapper_plotter.create_mapper_plot(choose, most_common_encoded_label, avg=False)\n",
    "full_info, label_out = mapper_plotter.extract_data(rz=-40)\n",
    "mapper_plotter.map_colors(choose, size=15, threshold=500)\n",
    "mapper_plotter.plot(choose, avg=False, set_label=True, size=3000, anchor=1.33) # 1.33, 1.18"
   ]
  },
  {
   "cell_type": "code",
   "execution_count": null,
   "metadata": {},
   "outputs": [],
   "source": [
    "choose = 'Party Age at Accident'\n",
    "\n",
    "mapper_plotter = MapperPlotter(detailed_results_df['mapper_info'][0], rbind_data, seed=35, iterations=100, dim=3,\n",
    "                                range_lst=[-0.075, 0.075, 0.06, -0.6])\n",
    "mapper_plot = mapper_plotter.create_mapper_plot(choose, most_common_encoded_label, avg=False)\n",
    "full_info, label_out = mapper_plotter.extract_data(rz=-40)\n",
    "mapper_plotter.map_colors(choose, size=15, threshold=500)\n",
    "mapper_plotter.plot(choose, avg=False, set_label=True, size=3000, anchor=1) # 1.33, 1.18"
   ]
  },
  {
   "cell_type": "code",
   "execution_count": null,
   "metadata": {},
   "outputs": [],
   "source": [
    "choose = '死亡'\n",
    "rbind_data['死亡'] = death\n",
    "\n",
    "mapper_plotter = MapperPlotter(detailed_results_df['mapper_info'][0], rbind_data, seed=35, iterations=100, dim=3,\n",
    "                                range_lst=[-0.075, 0.075, 0.06, -0.06])\n",
    "mapper_plot = mapper_plotter.create_mapper_plot(choose, sum_of_data, avg=True)\n",
    "full_info, label_out = mapper_plotter.extract_data(rz=-40)\n",
    "mapper_plotter.map_colors(choose, size=10, threshold=0)\n",
    "mapper_plotter.plot_dens(choose, avg=True, set_label=False, size=3000, minimum_lst=[-0.025, 0.025])"
   ]
  },
  {
   "cell_type": "markdown",
   "metadata": {},
   "source": [
    "# Polygon"
   ]
  },
  {
   "cell_type": "code",
   "execution_count": null,
   "metadata": {},
   "outputs": [],
   "source": [
    "from shapely.geometry import Point, Polygon\n",
    "\n",
    "threshold = -0.002\n",
    "x_max = 0.5\n",
    "x_min = -0.5\n",
    "y_max = 0.5\n",
    "y_min = -0.5\n",
    "\n",
    "rectangle1 = Polygon([(threshold, y_min), (x_min, y_min), (x_min, y_max), (threshold, y_max)])\n",
    "rectangle2 = Polygon([(threshold, y_min), (threshold, y_max), (x_max, y_max), (x_max, y_min)])\n",
    "\n",
    "th = 2\n",
    "filtered_full_info = full_info[(full_info['y'] > -th) &\n",
    "                               (full_info['y'] < th) &\n",
    "                               (full_info['x'] > -th) &\n",
    "                               (full_info['x'] < th)]\n",
    "\n",
    "# 檢查每個點是否在任意一個區塊內\n",
    "inside_indices_1 = filtered_full_info.apply(lambda row: Point(row['x'], row['y']).within(rectangle1), axis=1)\n",
    "inside_indices_2 = filtered_full_info.apply(lambda row: Point(row['x'], row['y']).within(rectangle2), axis=1)\n",
    "\n",
    "label_0 = filtered_full_info[inside_indices_1]\n",
    "label_1 = filtered_full_info[inside_indices_2]\n",
    "\n",
    "# 繪製數據點和矩形區塊\n",
    "plt.figure(figsize=(10, 8))\n",
    "plt.scatter(label_0['x'], label_0['y'], color='green', s=10)\n",
    "plt.scatter(label_1['x'], label_1['y'], color='blue', s=10)\n",
    "# 繪製矩形區塊\n",
    "for rect, color, alpha in zip([rectangle1, rectangle2], \n",
    "                              ['green', 'blue'], \n",
    "                              [0.2, 0.2]):\n",
    "    x, y = rect.exterior.xy\n",
    "    plt.fill(x, y, color=color, alpha=alpha)\n",
    "# 圖形調整\n",
    "plt.xlabel(\"X\")\n",
    "plt.ylabel(\"Y\")\n",
    "plt.legend()\n",
    "plt.grid(True)\n",
    "plt.axis(\"equal\")\n",
    "plt.show()"
   ]
  },
  {
   "cell_type": "code",
   "execution_count": null,
   "metadata": {},
   "outputs": [],
   "source": [
    "plot_labels(label_0, label_1, label_out, title=\"Label and Outlier Visualization\")"
   ]
  },
  {
   "cell_type": "code",
   "execution_count": 16,
   "metadata": {},
   "outputs": [
    {
     "name": "stdout",
     "output_type": "stream",
     "text": [
      "95859\n",
      "95859\n"
     ]
    }
   ],
   "source": [
    "rbind_data['死亡'] = death\n",
    "# 獲取每個label的index\n",
    "count_0 = get_unique_ids(label_0)\n",
    "count_1 = get_unique_ids(label_1)\n",
    "count_out = get_unique_ids(label_out)\n",
    "\n",
    "index_to_groups = {}\n",
    "\n",
    "# 將索引與群體的關係記錄下來\n",
    "for group_name, group_indexes in zip(\n",
    "    [\"full_0\", \"full_1\", \"full_out\"],\n",
    "    [count_0, count_1, count_out],\n",
    "):\n",
    "    for idx in group_indexes:\n",
    "        if idx not in index_to_groups:\n",
    "            index_to_groups[idx] = set()\n",
    "        index_to_groups[idx].add(group_name)\n",
    "\n",
    "# 找交集索引\n",
    "intersection_indexes = {idx for idx, groups in index_to_groups.items() if len(groups) > 1}\n",
    "\n",
    "# 移除交集的index\n",
    "count_0 = [i for i in count_0 if i not in intersection_indexes]\n",
    "count_1 = [i for i in count_1 if i not in intersection_indexes]\n",
    "count_out = [i for i in count_out if i not in intersection_indexes]\n",
    "\n",
    "\n",
    "full_0 = rbind_data.loc[count_0]\n",
    "full_1 = rbind_data.loc[count_1]\n",
    "full_out = rbind_data.loc[count_out]\n",
    "overlap_data = rbind_data.loc[list(intersection_indexes)]\n",
    "\n",
    "# 確認所有資料都被獲取\n",
    "assert len(count_0) == full_0.shape[0]\n",
    "assert len(count_1) == full_1.shape[0]\n",
    "assert len(count_out) == full_out.shape[0]\n",
    "\n",
    "print(full_0.shape[0] + full_1.shape[0] + full_out.shape[0] + overlap_data.shape[0])\n",
    "print(rbind_data.shape[0])"
   ]
  },
  {
   "cell_type": "code",
   "execution_count": 8,
   "metadata": {},
   "outputs": [
    {
     "name": "stdout",
     "output_type": "stream",
     "text": [
      "0    34237\n",
      "1      147\n",
      "2        3\n",
      "3        1\n",
      "Name: 死亡, dtype: int64\n",
      "0    56610\n",
      "1      213\n",
      "2        3\n",
      "Name: 死亡, dtype: int64\n",
      "0    3728\n",
      "1      46\n",
      "2       3\n",
      "3       2\n",
      "Name: 死亡, dtype: int64\n",
      "0    860\n",
      "1      6\n",
      "Name: 死亡, dtype: int64\n"
     ]
    }
   ],
   "source": [
    "print(full_0['死亡'].value_counts())\n",
    "print(full_1['死亡'].value_counts())\n",
    "print(full_out['死亡'].value_counts())\n",
    "print(overlap_data['死亡'].value_counts())"
   ]
  },
  {
   "cell_type": "code",
   "execution_count": 9,
   "metadata": {},
   "outputs": [],
   "source": [
    "full_info.to_csv('./Data/DriverData/full_info.csv', index=False)\n",
    "full_0.to_csv('./Data/DriverData/full_0.csv', index=False)\n",
    "full_1.to_csv('./Data/DriverData/full_1.csv', index=False)\n",
    "full_out.to_csv('./Data/DriverData/full_out.csv', index=False)\n",
    "overlap_data.to_csv('./Data/DriverData/overlap_data.csv', index=False)"
   ]
  },
  {
   "cell_type": "markdown",
   "metadata": {},
   "source": [
    "# Analyze"
   ]
  },
  {
   "cell_type": "code",
   "execution_count": null,
   "metadata": {},
   "outputs": [],
   "source": [
    "import pandas as pd\n",
    "import scipy.stats as stats\n",
    "from sklearn.preprocessing import LabelEncoder\n",
    "\n",
    "# 1. 準備資料\n",
    "bind = pd.concat([full_0, full_1], ignore_index=True)\n",
    "# overlap_test = overlap_data.drop(columns=['死亡', 'color_for_plot', 'Party Age at Accident'], inplace=False)\n",
    "# bind_data_test = bind.drop(columns=['死亡', 'color_for_plot', 'Party Age at Accident'], inplace=False)\n",
    "overlap_test = overlap_data.drop(columns=['死亡', 'color_for_plot', '保護裝備名稱'], inplace=False)\n",
    "bind_data_test = bind.drop(columns=['死亡', 'color_for_plot', '保護裝備名稱'], inplace=False)\n",
    "\n",
    "overlap_test[\"label\"] = 0\n",
    "bind_data_test[\"label\"] = 1\n",
    "\n",
    "# 2. 合併資料\n",
    "df = pd.concat([overlap_test, bind_data_test], ignore_index=True)\n",
    "\n",
    "# 3. 找出所有類別變數\n",
    "categorical_cols = df.select_dtypes(include=[\"object\"]).columns\n",
    "\n",
    "# 4. 對類別變數進行 Label Encoding\n",
    "label_encoders = {}\n",
    "for col in categorical_cols:\n",
    "    le = LabelEncoder()\n",
    "    df[col] = le.fit_transform(df[col].astype(str))  # 確保是字串類型再轉換\n",
    "    label_encoders[col] = le  # 儲存編碼器，以便解釋數據\n",
    "\n",
    "# 5. 確保所有數據都是數值類型\n",
    "df = df.apply(pd.to_numeric)\n",
    "\n",
    "# 6. 分離特徵與標籤\n",
    "X = df.drop(columns=[\"label\"])\n",
    "y = df[\"label\"]\n",
    "\n",
    "# 7. 使用卡方檢定找出顯著變數\n",
    "chi2_results = {}\n",
    "for col in X.columns:\n",
    "    contingency_table = pd.crosstab(X[col], y)\n",
    "    chi2, p, dof, expected = stats.chi2_contingency(contingency_table)\n",
    "    chi2_results[col] = p\n",
    "\n",
    "# 轉換成 DataFrame\n",
    "chi2_df = pd.DataFrame.from_dict(chi2_results, orient=\"index\", columns=[\"p-value\"])\n",
    "chi2_df = chi2_df.sort_values(by=\"p-value\")\n",
    "\n",
    "# 顯示顯著變數（p-value < 0.05）\n",
    "print(\"卡方檢定結果（顯著變數）：\")\n",
    "print(chi2_df[chi2_df[\"p-value\"] < 0.05])"
   ]
  },
  {
   "cell_type": "code",
   "execution_count": null,
   "metadata": {},
   "outputs": [],
   "source": [
    "import matplotlib.pyplot as plt\n",
    "import seaborn as sns\n",
    "import pandas as pd\n",
    "\n",
    "# 計算每個類別的出現次數\n",
    "# 行動電話或電腦或其他相類功能裝置名稱\n",
    "# 保護裝備名稱\n",
    "overlap_counts = overlap_data['保護裝備名稱'].value_counts(normalize=True)\n",
    "bind_counts = bind['保護裝備名稱'].value_counts(normalize=True)\n",
    "# overlap_counts = overlap_data['Protective Equipment'].value_counts(normalize=True)\n",
    "# bind_counts = bind['Protective Equipment'].value_counts(normalize=True)\n",
    "\n",
    "# **合併數據，確保類別名稱一致**\n",
    "all_categories = set(overlap_counts.index).union(set(bind_counts.index))\n",
    "overlap_counts = overlap_counts.reindex(all_categories, fill_value=0)\n",
    "bind_counts = bind_counts.reindex(all_categories, fill_value=0)\n",
    "\n",
    "sorted_categories = overlap_counts.sort_values(ascending=False).index\n",
    "\n",
    "# 重新排序 bind_counts\n",
    "overlap_counts = overlap_counts.loc[sorted_categories]\n",
    "bind_counts = bind_counts.loc[sorted_categories]\n",
    "\n",
    "fig, ax = plt.subplots(figsize=(12, 2))\n",
    "\n",
    "ax.barh(sorted_categories, overlap_counts, color='#7676c2', label='覆蓋資料')\n",
    "ax.barh(sorted_categories, -bind_counts, color='#911410', label='駕駛資料')\n",
    "\n",
    "# 設定 X 軸標籤為百分比\n",
    "ax.set_xlabel(\"Ratio (%)\")\n",
    "# ax.set_title(\"Comparison of Protective Equipment Between Overlap Data and Driver Data\")\n",
    "ax.set_title(\"保護裝備名稱在覆蓋資料和駕駛資料比較\")\n",
    "ax.legend()\n",
    "\n",
    "xticks = ax.get_xticks()\n",
    "ax.set_xticklabels([f\"{abs(int(x*100))}%\" for x in xticks])  \n",
    "\n",
    "plt.show()"
   ]
  },
  {
   "cell_type": "code",
   "execution_count": null,
   "metadata": {},
   "outputs": [],
   "source": [
    "chi_lst = [\n",
    "    'Weather Condition', 'Lighting Condition', 'Road Category - First Party - Name', 'Speed Limit - First Party', 'Road Surface Condition - Pavement Type',\n",
    "    'Road Surface Condition - Surface State', 'Road Surface Condition - Surface Defects', 'Road Obstruction - Obstacle Type', 'Road Obstruction - Visibility Quality', 'Road Obstruction - Sight Distance',\n",
    "    'Traffic Signal - Signal Type', 'Traffic Signal - Signal Operation', 'Lane Division Facility - Between Fast and General Lanes',\n",
    "    'Lane Division Facility - Between Fast and Slow Lanes', 'Lane Division Facility - Road Edge Line', 'Party Attribute - Gender', 'Party Age at Accident',\n",
    "    'Protective Equipment', 'Mobile Phone, Computer, or Other Similar Devices', 'Hit and Run - Yes or No', 'Road Category - Major Category',\n",
    "    'Accident Location - Major Category', 'Lane Division Facility - Major Category', 'Accident Type and Form - Major Category', 'Party Classification - Vehicle Type',\n",
    "    'Vehicle Impact Area - Other',\n",
    "]\n",
    "\n",
    "results = []\n",
    "rbind_data['death'] = death.apply(lambda x: 1 if x >= 1 else 0)\n",
    "rbind_data['受傷'] = injuried\n",
    "\n",
    "for chi_value in chi_lst:\n",
    "    contingency_table = pd.crosstab(rbind_data[chi_value], rbind_data['death'])\n",
    "    chi2, p, dof, expected = chi2_contingency(contingency_table)\n",
    "\n",
    "    if p < 0.01:  # 只篩選顯著結果\n",
    "        results.append({'變數': chi_value, '卡方值': chi2, '自由度': dof, 'p值': p})\n",
    "\n",
    "# 將結果轉為資料框\n",
    "df_results = pd.DataFrame(results).sort_values(by='卡方值', ascending=True)\n",
    "\n",
    "# 視覺化：條形圖\n",
    "plt.figure(figsize=(10, 3.3))\n",
    "plt.barh(df_results['變數'], df_results['卡方值'], alpha=0.7)\n",
    "plt.xlabel('Chi-square Value')\n",
    "plt.ylabel('Feature')\n",
    "plt.title('Driver Significant Features (p < 0.01)')\n",
    "plt.grid(axis='x', linestyle='--', alpha=0.6)\n",
    "plt.tight_layout()\n",
    "plt.show()"
   ]
  },
  {
   "cell_type": "code",
   "execution_count": null,
   "metadata": {},
   "outputs": [],
   "source": [
    "chi_lst = [\n",
    "    '天候名稱', '光線名稱', '道路類別-第1當事者-名稱', '速限-第1當事者', '路面狀況-路面鋪裝名稱',\n",
    "    '路面狀況-路面狀態名稱', '路面狀況-路面缺陷名稱', '道路障礙-障礙物名稱', '道路障礙-視距品質名稱', '道路障礙-視距名稱',\n",
    "    '號誌-號誌種類名稱', '號誌-號誌動作名稱', '車道劃分設施-分道設施-快車道或一般車道間名稱',\n",
    "    '車道劃分設施-分道設施-快慢車道間名稱', '車道劃分設施-分道設施-路面邊線名稱', '當事者屬-性-別名稱', '當事者事故發生時年齡',\n",
    "    '保護裝備名稱', '行動電話或電腦或其他相類功能裝置名稱', '肇事逃逸類別名稱-是否肇逃', '道路型態大類別名稱',\n",
    "    '事故位置大類別名稱', '車道劃分設施-分向設施大類別名稱', '事故類型及型態大類別名稱', '當事者區分-類別-大類別名稱-車種',\n",
    "    '車輛撞擊部位大類別名稱-其他'\n",
    "]\n",
    "\n",
    "results = []\n",
    "rbind_data['death'] = death.apply(lambda x: 1 if x >= 1 else 0)\n",
    "rbind_data['受傷'] = injuried\n",
    "\n",
    "for chi_value in chi_lst:\n",
    "    contingency_table = pd.crosstab(rbind_data[chi_value], rbind_data['death'])\n",
    "    chi2, p, dof, expected = chi2_contingency(contingency_table)\n",
    "\n",
    "    if p < 0.01:  # 只篩選顯著結果\n",
    "        results.append({'變數': chi_value, '卡方值': chi2, '自由度': dof, 'p值': p})\n",
    "\n",
    "# 將結果轉為資料框\n",
    "df_results = pd.DataFrame(results).sort_values(by='卡方值', ascending=True)\n",
    "\n",
    "# 視覺化：條形圖\n",
    "plt.figure(figsize=(10, 3.3))\n",
    "plt.barh(df_results['變數'], df_results['卡方值'], alpha=0.7)\n",
    "plt.xlabel('卡方值')\n",
    "plt.ylabel('特徵')\n",
    "plt.title('駕駛 顯著特徵 (p < 0.01)')\n",
    "plt.grid(axis='x', linestyle='--', alpha=0.6)\n",
    "plt.tight_layout()\n",
    "plt.show()"
   ]
  },
  {
   "cell_type": "code",
   "execution_count": 4,
   "metadata": {},
   "outputs": [
    {
     "name": "stdout",
     "output_type": "stream",
     "text": [
      "95859\n"
     ]
    }
   ],
   "source": [
    "full_0 = pd.read_csv('./Data/DriverData/full_0.csv')\n",
    "full_1 = pd.read_csv('./Data/DriverData/full_1.csv')\n",
    "full_out = pd.read_csv('./Data/DriverData/full_out.csv')\n",
    "overlap_data = pd.read_csv('./Data/DriverData/overlap_data.csv')\n",
    "\n",
    "print(full_0.shape[0] + full_1.shape[0] + full_out.shape[0] + overlap_data.shape[0])"
   ]
  },
  {
   "cell_type": "code",
   "execution_count": 5,
   "metadata": {},
   "outputs": [
    {
     "name": "stdout",
     "output_type": "stream",
     "text": [
      "34388\n",
      "56826\n",
      "3779\n",
      "866\n"
     ]
    }
   ],
   "source": [
    "print(full_0.shape[0])\n",
    "print(full_1.shape[0])\n",
    "print(full_out.shape[0])\n",
    "print(overlap_data.shape[0])"
   ]
  },
  {
   "cell_type": "markdown",
   "metadata": {},
   "source": [
    "# 嚴重程度"
   ]
  },
  {
   "cell_type": "code",
   "execution_count": null,
   "metadata": {},
   "outputs": [],
   "source": [
    "def get_severity(input_data):\n",
    "    \"\"\"\n",
    "    更新嚴重程度欄位邏輯：\n",
    "    - 死亡 > 0 時，設定為 2\n",
    "    - 死亡 = 0 且受傷 = 1 時，設定為 0\n",
    "    - 死亡 = 0 且受傷 > 1 時，設定為 1\n",
    "    \"\"\"\n",
    "    def severity_logic(row):\n",
    "        if row['死亡'] > 0:\n",
    "            return '死亡'\n",
    "        elif row['死亡'] == 0 and row['受傷'] == 1:\n",
    "            return '受傷1'\n",
    "        elif row['死亡'] == 0 and row['受傷'] > 1:\n",
    "            return '受傷1+'\n",
    "        else:\n",
    "            return 0\n",
    "\n",
    "    input_data['嚴重程度'] = input_data.apply(severity_logic, axis=1)\n",
    "    return input_data\n",
    "\n",
    "full_0_s = get_severity(full_0)\n",
    "full_1_s = get_severity(full_1)\n",
    "full_out_s = get_severity(full_out)\n",
    "overlap_data_s = get_severity(overlap_data)"
   ]
  },
  {
   "cell_type": "code",
   "execution_count": 145,
   "metadata": {},
   "outputs": [
    {
     "data": {
      "text/html": [
       "<div>\n",
       "<style scoped>\n",
       "    .dataframe tbody tr th:only-of-type {\n",
       "        vertical-align: middle;\n",
       "    }\n",
       "\n",
       "    .dataframe tbody tr th {\n",
       "        vertical-align: top;\n",
       "    }\n",
       "\n",
       "    .dataframe thead th {\n",
       "        text-align: right;\n",
       "    }\n",
       "</style>\n",
       "<table border=\"1\" class=\"dataframe\">\n",
       "  <thead>\n",
       "    <tr style=\"text-align: right;\">\n",
       "      <th></th>\n",
       "      <th>晴天、機車及自行</th>\n",
       "      <th>雨天、機車及自行</th>\n",
       "      <th>晴天、汽車</th>\n",
       "      <th>雨天、汽車</th>\n",
       "      <th>覆蓋值</th>\n",
       "      <th>覆蓋值2</th>\n",
       "      <th>離群值</th>\n",
       "    </tr>\n",
       "    <tr>\n",
       "      <th>嚴重程度</th>\n",
       "      <th></th>\n",
       "      <th></th>\n",
       "      <th></th>\n",
       "      <th></th>\n",
       "      <th></th>\n",
       "      <th></th>\n",
       "      <th></th>\n",
       "    </tr>\n",
       "  </thead>\n",
       "  <tbody>\n",
       "    <tr>\n",
       "      <th>Total</th>\n",
       "      <td>51981</td>\n",
       "      <td>4922</td>\n",
       "      <td>30192</td>\n",
       "      <td>2920</td>\n",
       "      <td>1102</td>\n",
       "      <td>292</td>\n",
       "      <td>4094</td>\n",
       "    </tr>\n",
       "    <tr>\n",
       "      <th>受傷1</th>\n",
       "      <td>31588</td>\n",
       "      <td>3547</td>\n",
       "      <td>26102</td>\n",
       "      <td>2595</td>\n",
       "      <td>843</td>\n",
       "      <td>231</td>\n",
       "      <td>2913</td>\n",
       "    </tr>\n",
       "    <tr>\n",
       "      <th>受傷1+</th>\n",
       "      <td>20177</td>\n",
       "      <td>1358</td>\n",
       "      <td>3970</td>\n",
       "      <td>315</td>\n",
       "      <td>256</td>\n",
       "      <td>57</td>\n",
       "      <td>1135</td>\n",
       "    </tr>\n",
       "    <tr>\n",
       "      <th>死亡</th>\n",
       "      <td>216</td>\n",
       "      <td>17</td>\n",
       "      <td>120</td>\n",
       "      <td>10</td>\n",
       "      <td>3</td>\n",
       "      <td>4</td>\n",
       "      <td>46</td>\n",
       "    </tr>\n",
       "  </tbody>\n",
       "</table>\n",
       "</div>"
      ],
      "text/plain": [
       "       晴天、機車及自行  雨天、機車及自行  晴天、汽車  雨天、汽車   覆蓋值  覆蓋值2   離群值\n",
       "嚴重程度                                                     \n",
       "Total     51981      4922  30192   2920  1102   292  4094\n",
       "受傷1       31588      3547  26102   2595   843   231  2913\n",
       "受傷1+      20177      1358   3970    315   256    57  1135\n",
       "死亡          216        17    120     10     3     4    46"
      ]
     },
     "execution_count": 145,
     "metadata": {},
     "output_type": "execute_result"
    }
   ],
   "source": [
    "plot_column = '嚴重程度'\n",
    "\n",
    "data_dict = {\n",
    "    \"晴天、機車及自行\": full_2[plot_column].value_counts(normalize=False),\n",
    "    \"雨天、機車及自行\": full_3[plot_column].value_counts(normalize=False),\n",
    "    \"晴天、汽車\": full_1[plot_column].value_counts(normalize=False),\n",
    "    \"雨天、汽車\": full_0[plot_column].value_counts(normalize=False),\n",
    "    \"覆蓋值\": overlap_data[plot_column].value_counts(normalize=False),\n",
    "    \"覆蓋值2\": full_21[plot_column].value_counts(normalize=False),\n",
    "    \"離群值\": full_out[plot_column].value_counts(normalize=False),\n",
    "}\n",
    "\n",
    "# 將資料轉為 DataFrame，便於比較\n",
    "comparison_df = pd.DataFrame(data_dict).fillna(0)\n",
    "total_row = comparison_df.sum(axis=0)\n",
    "comparison_df.loc[\"Total\"] = total_row\n",
    "# comparison_df.loc[\"Total\"] = comparison_df.loc[\"Total\"].astype(int)\n",
    "comparison_df = comparison_df.sort_values(by='雨天、機車及自行', axis=0, ascending=False)\n",
    "comparison_df"
   ]
  },
  {
   "cell_type": "code",
   "execution_count": 147,
   "metadata": {},
   "outputs": [
    {
     "data": {
      "image/png": "[encoded data removed]",
      "text/plain": [
       "<Figure size 800x200 with 2 Axes>"
      ]
     },
     "metadata": {},
     "output_type": "display_data"
    }
   ],
   "source": [
    "total_row = comparison_df.loc[\"Total\"]\n",
    "\n",
    "# 提取僅包含數值的列，並移除 Total 行\n",
    "numeric_df = comparison_df.select_dtypes(include=[float, int]).drop(\"Total\")\n",
    "\n",
    "# 繪製 heatmap\n",
    "plt.figure(figsize=(8, 2))\n",
    "sns.heatmap(numeric_df.tail(3), annot=True, cmap='coolwarm', fmt=\".5f\")\n",
    "\n",
    "# 添加總數標註在每個欄位的頂部\n",
    "for i, total in enumerate(total_row):\n",
    "    plt.text(i + 0.5, -0.2, f\"{int(total)}\", ha='center', va='center', fontsize=10, color='black')\n",
    "\n",
    "# 調整外觀\n",
    "plt.xticks(rotation=20)\n",
    "plt.show()\n"
   ]
  }
 ],
 "metadata": {
  "kernelspec": {
   "display_name": "base",
   "language": "python",
   "name": "python3"
  },
  "language_info": {
   "codemirror_mode": {
    "name": "ipython",
    "version": 3
   },
   "file_extension": ".py",
   "mimetype": "text/x-python",
   "name": "python",
   "nbconvert_exporter": "python",
   "pygments_lexer": "ipython3",
   "version": "3.9.12"
  }
 },
 "nbformat": 4,
 "nbformat_minor": 2
}

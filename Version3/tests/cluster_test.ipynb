{
 "cells": [
  {
   "cell_type": "code",
   "execution_count": 1,
   "metadata": {},
   "outputs": [],
   "source": [
    "import numpy as np\n",
    "from sklearn.datasets import make_blobs\n",
    "from sklearn.cluster import AgglomerativeClustering\n",
    "from sklearn.metrics import silhouette_score, silhouette_samples"
   ]
  },
  {
   "cell_type": "code",
   "execution_count": 4,
   "metadata": {},
   "outputs": [
    {
     "name": "stdout",
     "output_type": "stream",
     "text": [
      "整體輪廓係數: 0.79\n",
      "群集 0 的平均輪廓係數: 0.83\n",
      "群集 1 的平均輪廓係數: 0.75\n",
      "群集 2 的平均輪廓係數: 0.69\n",
      "群集 3 的平均輪廓係數: 0.89\n"
     ]
    }
   ],
   "source": [
    "# 生成隨機數據\n",
    "X, _ = make_blobs(n_samples=30, n_features=2, centers=4, cluster_std=1.0, random_state=42)\n",
    "\n",
    "# 使用 Agglomerative Clustering 進行聚類\n",
    "n_clusters = 4\n",
    "agg_clustering = AgglomerativeClustering(n_clusters=n_clusters)\n",
    "labels = agg_clustering.fit_predict(X)\n",
    "\n",
    "# 計算整體的輪廓係數\n",
    "overall_silhouette_score = silhouette_score(X, labels)\n",
    "print(f\"整體輪廓係數: {overall_silhouette_score:.2f}\")\n",
    "\n",
    "# 計算每個樣本的輪廓係數\n",
    "sample_silhouette_values = silhouette_samples(X, labels)\n",
    "\n",
    "# 將輪廓係數結果輸出成每個群集的平均值\n",
    "for i in range(n_clusters):\n",
    "    cluster_silhouette_score = sample_silhouette_values[labels == i].mean()\n",
    "    print(f\"群集 {i} 的平均輪廓係數: {cluster_silhouette_score:.2f}\")"
   ]
  }
 ],
 "metadata": {
  "kernelspec": {
   "display_name": "Cllava",
   "language": "python",
   "name": "python3"
  },
  "language_info": {
   "codemirror_mode": {
    "name": "ipython",
    "version": 3
   },
   "file_extension": ".py",
   "mimetype": "text/x-python",
   "name": "python",
   "nbconvert_exporter": "python",
   "pygments_lexer": "ipython3",
   "version": "3.10.13"
  },
  "orig_nbformat": 4
 },
 "nbformat": 4,
 "nbformat_minor": 2
}

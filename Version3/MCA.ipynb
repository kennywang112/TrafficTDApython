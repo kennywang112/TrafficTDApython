{
 "cells": [
  {
   "cell_type": "code",
   "execution_count": 1,
   "metadata": {},
   "outputs": [
    {
     "name": "stdout",
     "output_type": "stream",
     "text": [
      "/Users/wangqiqian/Desktop/TrafficTDApython\n"
     ]
    }
   ],
   "source": [
    "import os\n",
    "import sys\n",
    "sys.path.append('/Users/wangqiqian/Desktop/TrafficTDApython/')\n",
    "\n",
    "current_dir_path = os.getcwd()\n",
    "current_file_path = os.path.abspath(current_dir_path)\n",
    "current_dir_path = os.path.dirname(current_file_path)\n",
    "parent_dir_path = os.path.dirname(current_dir_path)\n",
    "\n",
    "# os.chdir(current_dir_path + '\\\\ultils')\n",
    "os.chdir(current_dir_path + '/ultils')\n",
    "print(current_dir_path)\n",
    "\n",
    "import time\n",
    "import pickle\n",
    "import numpy as np\n",
    "import pandas as pd\n",
    "import matplotlib.pyplot as plt\n",
    "\n",
    "from sklearn.cluster import AgglomerativeClustering\n",
    "\n",
    "from functions import *\n",
    "from chi import *\n",
    "from regressionP import *\n",
    "from models import *\n",
    "from utils_v3 import *\n",
    "\n",
    "os.chdir('/Users/wangqiqian/Desktop/TrafficTDApython/')\n",
    "# os.chdir('C:/Users/USER/Desktop/TrafficTDApython/')\n",
    "\n",
    "from Version3.tdamapper.core import MapperAlgorithm\n",
    "from Version3.tdamapper.cover import CubicalCover\n",
    "from Version3.tdamapper.clustering import FailSafeClustering\n",
    "from Version3.tdamapper.plot import MapperLayoutInteractive"
   ]
  },
  {
   "cell_type": "code",
   "execution_count": 2,
   "metadata": {},
   "outputs": [],
   "source": [
    "data1 = pd.read_csv(\"Data/NPA_TMA2_1.csv\", low_memory=False)[:-2]\n",
    "data2 = pd.read_csv(\"Data/NPA_TMA2_2.csv\", low_memory=False)[:-2]\n",
    "data3 = pd.read_csv(\"Data/NPA_TMA2_3.csv\", low_memory=False)[:-2]\n",
    "data4 = pd.read_csv(\"Data/NPA_TMA2_4_new.csv\", low_memory=False)[:-2]\n",
    "data5 = pd.read_csv(\"Data/NPA_TMA2_5.csv\", low_memory=False)[:-2]\n",
    "data6 = pd.read_csv(\"Data/NPA_TMA2_6_new.csv\", low_memory=False)[:-2]\n",
    "data7 = pd.read_csv(\"Data/NPA_TMA2_7.csv\", low_memory=False)[:-2]\n",
    "data8 = pd.read_csv(\"Data/NPA_TMA2_8.csv\", low_memory=False)[:-2]\n",
    "data9 = pd.read_csv(\"Data/NPA_TMA2_9.csv\", low_memory=False)[:-2]\n",
    "data10 = pd.read_csv(\"Data/NPA_TMA2_10.csv\", low_memory=False)[:-2]\n",
    "\n",
    "dataA2 = pd.concat([data1, data2, data3, data4, data5, data6, data7, data8, data9, data10], ignore_index=True)\n",
    "# dataA2 = pd.concat([data1, data2, data3, data4, data5], ignore_index=True)\n",
    "\n",
    "dataA1 = pd.read_csv(\"Data/NPA_TMA1_V3.csv\")[:-2]"
   ]
  },
  {
   "cell_type": "code",
   "execution_count": 7,
   "metadata": {},
   "outputs": [
    {
     "name": "stdout",
     "output_type": "stream",
     "text": [
      "23\n",
      "(312760, 322)\n"
     ]
    }
   ],
   "source": [
    "select_lst = [\n",
    "    '道路類別-第1當事者-名稱', '速限-第1當事者', '道路型態大類別名稱', '道路型態子類別名稱',\n",
    "    '事故位置大類別名稱', '事故位置子類別名稱', '路面狀況-路面鋪裝名稱', '路面狀況-路面狀態名稱', '路面狀況-路面缺陷名稱',\n",
    "    '道路障礙-障礙物名稱', '道路障礙-視距品質名稱', '道路障礙-視距名稱', '號誌-號誌種類名稱', '號誌-號誌動作名稱',\n",
    "    '車道劃分設施-分向設施大類別名稱', '車道劃分設施-分向設施子類別名稱', '車道劃分設施-分道設施-快車道或一般車道間名稱',\n",
    "    '車道劃分設施-分道設施-快慢車道間名稱', '車道劃分設施-分道設施-路面邊線名稱', '事故類型及型態大類別名稱',\n",
    "    '事故類型及型態子類別名稱', '死亡受傷人數',\n",
    "    '肇因研判子類別名稱-個別'\n",
    "    # '經度', '緯度'\n",
    "]\n",
    "print(len(select_lst))\n",
    "\n",
    "def preprocess(input_data, select_lst):\n",
    "    \n",
    "    sample_data = input_data[input_data['當事者順位'] == 1].reset_index(drop=True, inplace=False)\n",
    "    sample_data = sample_data[sample_data['發生月份'] < 11]\n",
    "    dataA = sample_data[select_lst]\n",
    "    \n",
    "    # 將資料分出死亡和受傷，合併到原本的資料後去除多餘的死亡受傷人數\n",
    "    death_injury_data = split_death_injury(dataA['死亡受傷人數'])\n",
    "    dist_df = pd.concat([dataA, death_injury_data], axis=1)\n",
    "    dist_df.drop(columns=['死亡受傷人數'], inplace=True)\n",
    "    \n",
    "    return dist_df\n",
    "\n",
    "dist_dfA1 = preprocess(dataA1, select_lst)\n",
    "dist_dfA2 = preprocess(dataA2, select_lst)\n",
    "# Concat\n",
    "rbind_data = pd.concat([dist_dfA1, dist_dfA2], axis=0, ignore_index=True)\n",
    "assert rbind_data.shape[0] == dist_dfA1.shape[0] + dist_dfA2.shape[0]\n",
    "# Dummy\n",
    "rbind_data[\"速限-第1當事者\"] = rbind_data[\"速限-第1當事者\"].astype(str)\n",
    "dummy_data = pd.get_dummies(rbind_data)\n",
    "\n",
    "print(dummy_data.shape)\n",
    "\n",
    "data_to_map = dummy_data.drop(['死亡', '受傷'], axis=1)\n",
    "mapper_numpy = data_to_map.to_numpy()"
   ]
  },
  {
   "cell_type": "code",
   "execution_count": 41,
   "metadata": {},
   "outputs": [
    {
     "name": "stdout",
     "output_type": "stream",
     "text": [
      "          eigenvalue % of variance % of variance (cumulative)\n",
      "component                                                    \n",
      "0              0.259         1.91%                      1.91%\n",
      "1              0.182         1.34%                      3.26%\n",
      "2              0.166         1.23%                      4.48%\n",
      "3              0.146         1.08%                      5.56%\n",
      "4              0.130         0.96%                      6.52%\n",
      "5              0.118         0.87%                      7.40%\n",
      "6              0.109         0.81%                      8.20%\n"
     ]
    }
   ],
   "source": [
    "import prince\n",
    "\n",
    "MCA_X = rbind_data.drop(['死亡', '受傷'], axis=1)\n",
    "\n",
    "mca = prince.MCA(\n",
    "    one_hot=False,\n",
    "    n_components=7,\n",
    "    n_iter=30,\n",
    "    copy=True,\n",
    "    check_input=True,\n",
    "    random_state=42\n",
    ")\n",
    "\n",
    "mca.fit(data_to_map)\n",
    "# 回傳mca.row_coordinates(data_to_map)\n",
    "lens = mca.transform(data_to_map)\n",
    "\n",
    "print(mca.eigenvalues_summary)"
   ]
  },
  {
   "cell_type": "code",
   "execution_count": 22,
   "metadata": {},
   "outputs": [
    {
     "data": {
      "text/html": [
       "<div>\n",
       "<style scoped>\n",
       "    .dataframe tbody tr th:only-of-type {\n",
       "        vertical-align: middle;\n",
       "    }\n",
       "\n",
       "    .dataframe tbody tr th {\n",
       "        vertical-align: top;\n",
       "    }\n",
       "\n",
       "    .dataframe thead th {\n",
       "        text-align: right;\n",
       "    }\n",
       "</style>\n",
       "<table border=\"1\" class=\"dataframe\">\n",
       "  <thead>\n",
       "    <tr style=\"text-align: right;\">\n",
       "      <th></th>\n",
       "      <th>0</th>\n",
       "      <th>1</th>\n",
       "      <th>2</th>\n",
       "      <th>3</th>\n",
       "      <th>4</th>\n",
       "      <th>5</th>\n",
       "      <th>6</th>\n",
       "    </tr>\n",
       "  </thead>\n",
       "  <tbody>\n",
       "    <tr>\n",
       "      <th>速限-第1當事者_15.0</th>\n",
       "      <td>0.166849</td>\n",
       "      <td>10.452720</td>\n",
       "      <td>0.601584</td>\n",
       "      <td>0.251471</td>\n",
       "      <td>0.326086</td>\n",
       "      <td>-0.628932</td>\n",
       "      <td>0.248569</td>\n",
       "    </tr>\n",
       "    <tr>\n",
       "      <th>道路型態大類別名稱_平交道</th>\n",
       "      <td>-0.428842</td>\n",
       "      <td>140.783815</td>\n",
       "      <td>19.646950</td>\n",
       "      <td>9.670874</td>\n",
       "      <td>-1.988613</td>\n",
       "      <td>1.873988</td>\n",
       "      <td>0.435016</td>\n",
       "    </tr>\n",
       "    <tr>\n",
       "      <th>道路型態子類別名稱_有遮斷器</th>\n",
       "      <td>-0.428842</td>\n",
       "      <td>140.783815</td>\n",
       "      <td>19.646950</td>\n",
       "      <td>9.670874</td>\n",
       "      <td>-1.988613</td>\n",
       "      <td>1.873988</td>\n",
       "      <td>0.435016</td>\n",
       "    </tr>\n",
       "    <tr>\n",
       "      <th>事故類型及型態大類別名稱_平交道事故</th>\n",
       "      <td>-1.207262</td>\n",
       "      <td>296.627060</td>\n",
       "      <td>46.166761</td>\n",
       "      <td>26.353480</td>\n",
       "      <td>-7.406868</td>\n",
       "      <td>8.880609</td>\n",
       "      <td>-0.445809</td>\n",
       "    </tr>\n",
       "    <tr>\n",
       "      <th>事故類型及型態子類別名稱_正越過平交道中</th>\n",
       "      <td>-1.233904</td>\n",
       "      <td>296.281317</td>\n",
       "      <td>46.907905</td>\n",
       "      <td>27.177418</td>\n",
       "      <td>-7.910274</td>\n",
       "      <td>9.640019</td>\n",
       "      <td>-0.533040</td>\n",
       "    </tr>\n",
       "    <tr>\n",
       "      <th>事故類型及型態子類別名稱_衝過(或撞壞)遮斷器</th>\n",
       "      <td>-1.193941</td>\n",
       "      <td>296.799932</td>\n",
       "      <td>45.796189</td>\n",
       "      <td>25.941510</td>\n",
       "      <td>-7.155166</td>\n",
       "      <td>8.500904</td>\n",
       "      <td>-0.402193</td>\n",
       "    </tr>\n",
       "    <tr>\n",
       "      <th>肇因研判子類別名稱-個別_搶(闖)越平交道</th>\n",
       "      <td>-1.207262</td>\n",
       "      <td>296.627060</td>\n",
       "      <td>46.166761</td>\n",
       "      <td>26.353480</td>\n",
       "      <td>-7.406868</td>\n",
       "      <td>8.880609</td>\n",
       "      <td>-0.445809</td>\n",
       "    </tr>\n",
       "  </tbody>\n",
       "</table>\n",
       "</div>"
      ],
      "text/plain": [
       "                                0           1          2          3         4  \\\n",
       "速限-第1當事者_15.0            0.166849   10.452720   0.601584   0.251471  0.326086   \n",
       "道路型態大類別名稱_平交道           -0.428842  140.783815  19.646950   9.670874 -1.988613   \n",
       "道路型態子類別名稱_有遮斷器          -0.428842  140.783815  19.646950   9.670874 -1.988613   \n",
       "事故類型及型態大類別名稱_平交道事故      -1.207262  296.627060  46.166761  26.353480 -7.406868   \n",
       "事故類型及型態子類別名稱_正越過平交道中    -1.233904  296.281317  46.907905  27.177418 -7.910274   \n",
       "事故類型及型態子類別名稱_衝過(或撞壞)遮斷器 -1.193941  296.799932  45.796189  25.941510 -7.155166   \n",
       "肇因研判子類別名稱-個別_搶(闖)越平交道   -1.207262  296.627060  46.166761  26.353480 -7.406868   \n",
       "\n",
       "                                5         6  \n",
       "速限-第1當事者_15.0           -0.628932  0.248569  \n",
       "道路型態大類別名稱_平交道            1.873988  0.435016  \n",
       "道路型態子類別名稱_有遮斷器           1.873988  0.435016  \n",
       "事故類型及型態大類別名稱_平交道事故       8.880609 -0.445809  \n",
       "事故類型及型態子類別名稱_正越過平交道中     9.640019 -0.533040  \n",
       "事故類型及型態子類別名稱_衝過(或撞壞)遮斷器  8.500904 -0.402193  \n",
       "肇因研判子類別名稱-個別_搶(闖)越平交道    8.880609 -0.445809  "
      ]
     },
     "execution_count": 22,
     "metadata": {},
     "output_type": "execute_result"
    }
   ],
   "source": [
    "col_coordinate = mca.column_coordinates(data_to_map)# 輸入為dummy後的資料\n",
    "col_coordinate[col_coordinate[1] > 10]"
   ]
  },
  {
   "cell_type": "code",
   "execution_count": 42,
   "metadata": {},
   "outputs": [
    {
     "data": {
      "image/png": "[encoded data removed]",
      "text/plain": [
       "<Figure size 1000x600 with 1 Axes>"
      ]
     },
     "metadata": {},
     "output_type": "display_data"
    }
   ],
   "source": [
    "col_coordinate = mca.column_coordinates(data_to_map)\n",
    "# col_coordinate = col_coordinate[col_coordinate[1] < 10]\n",
    "plt.figure(figsize=(10, 6))\n",
    "plt.scatter(col_coordinate[0], col_coordinate[1], alpha=0.7, label=\"Col\")\n",
    "\n",
    "# Label the plot\n",
    "plt.axhline(0, color='grey', linestyle='--', linewidth=0.5)\n",
    "plt.axvline(0, color='grey', linestyle='--', linewidth=0.5)\n",
    "plt.title(\"MCA Row Factor Map\")\n",
    "plt.xlabel(\"Dim 1\")\n",
    "plt.ylabel(\"Dim 2\")\n",
    "plt.grid(True)\n",
    "plt.legend()\n",
    "plt.show()"
   ]
  },
  {
   "cell_type": "code",
   "execution_count": 26,
   "metadata": {},
   "outputs": [
    {
     "name": "stdout",
     "output_type": "stream",
     "text": [
      "overlap: 3, interval: 5\n",
      "overlap: 3, interval: 6\n"
     ]
    },
    {
     "name": "stderr",
     "output_type": "stream",
     "text": [
      "11/29/2024 11:31:14 AM core WARNING: Unable to perform clustering on local chart: Cannot extract more clusters than samples: 4 clusters were given for a tree with 3 leaves.\n",
      "11/29/2024 11:31:14 AM core WARNING: Unable to perform clustering on local chart: Cannot extract more clusters than samples: 5 clusters were given for a tree with 3 leaves.\n",
      "11/29/2024 11:31:14 AM core WARNING: Unable to perform clustering on local chart: Cannot extract more clusters than samples: 5 clusters were given for a tree with 4 leaves.\n",
      "11/29/2024 11:31:14 AM core WARNING: Unable to perform clustering on local chart: Cannot extract more clusters than samples: 4 clusters were given for a tree with 3 leaves.\n",
      "11/29/2024 11:31:14 AM core WARNING: Unable to perform clustering on local chart: Cannot extract more clusters than samples: 5 clusters were given for a tree with 3 leaves.\n",
      "11/29/2024 11:31:14 AM core WARNING: Unable to perform clustering on local chart: Cannot extract more clusters than samples: 5 clusters were given for a tree with 4 leaves.\n",
      "11/29/2024 11:31:15 AM core WARNING: Unable to perform clustering on local chart: Cannot extract more clusters than samples: 4 clusters were given for a tree with 3 leaves.\n",
      "11/29/2024 11:31:15 AM core WARNING: Unable to perform clustering on local chart: Cannot extract more clusters than samples: 5 clusters were given for a tree with 3 leaves.\n",
      "11/29/2024 11:31:15 AM core WARNING: Unable to perform clustering on local chart: Cannot extract more clusters than samples: 5 clusters were given for a tree with 4 leaves.\n",
      "11/29/2024 11:31:15 AM core WARNING: Unable to perform clustering on local chart: Cannot extract more clusters than samples: 4 clusters were given for a tree with 3 leaves.\n",
      "11/29/2024 11:31:15 AM core WARNING: Unable to perform clustering on local chart: Cannot extract more clusters than samples: 5 clusters were given for a tree with 3 leaves.\n",
      "11/29/2024 11:31:15 AM core WARNING: Unable to perform clustering on local chart: Cannot extract more clusters than samples: 5 clusters were given for a tree with 4 leaves.\n",
      "11/29/2024 11:31:15 AM core WARNING: Unable to perform clustering on local chart: Cannot extract more clusters than samples: 4 clusters were given for a tree with 3 leaves.\n",
      "11/29/2024 11:31:15 AM core WARNING: Unable to perform clustering on local chart: Cannot extract more clusters than samples: 5 clusters were given for a tree with 3 leaves.\n",
      "11/29/2024 11:31:15 AM core WARNING: Unable to perform clustering on local chart: Cannot extract more clusters than samples: 5 clusters were given for a tree with 4 leaves.\n",
      "11/29/2024 11:31:15 AM core WARNING: Unable to perform clustering on local chart: Cannot extract more clusters than samples: 5 clusters were given for a tree with 4 leaves.\n",
      "11/29/2024 11:31:15 AM core WARNING: Unable to perform clustering on local chart: Cannot extract more clusters than samples: 5 clusters were given for a tree with 4 leaves.\n",
      "11/29/2024 11:31:15 AM core WARNING: Unable to perform clustering on local chart: Cannot extract more clusters than samples: 5 clusters were given for a tree with 4 leaves.\n",
      "11/29/2024 11:31:15 AM core WARNING: Unable to perform clustering on local chart: Cannot extract more clusters than samples: 5 clusters were given for a tree with 4 leaves.\n",
      "11/29/2024 11:31:15 AM core WARNING: Unable to perform clustering on local chart: Cannot extract more clusters than samples: 5 clusters were given for a tree with 4 leaves.\n"
     ]
    },
    {
     "name": "stdout",
     "output_type": "stream",
     "text": [
      "overlap: 3, interval: 7\n",
      "overlap: 3, interval: 8\n"
     ]
    },
    {
     "name": "stderr",
     "output_type": "stream",
     "text": [
      "11/29/2024 11:31:15 AM core WARNING: Unable to perform clustering on local chart: Cannot extract more clusters than samples: 4 clusters were given for a tree with 3 leaves.\n",
      "11/29/2024 11:31:15 AM core WARNING: Unable to perform clustering on local chart: Cannot extract more clusters than samples: 4 clusters were given for a tree with 3 leaves.\n",
      "11/29/2024 11:31:15 AM core WARNING: Unable to perform clustering on local chart: Cannot extract more clusters than samples: 5 clusters were given for a tree with 3 leaves.\n",
      "11/29/2024 11:31:15 AM core WARNING: Unable to perform clustering on local chart: Cannot extract more clusters than samples: 5 clusters were given for a tree with 3 leaves.\n",
      "11/29/2024 11:31:15 AM core WARNING: Unable to perform clustering on local chart: Cannot extract more clusters than samples: 4 clusters were given for a tree with 3 leaves.\n",
      "11/29/2024 11:31:15 AM core WARNING: Unable to perform clustering on local chart: Cannot extract more clusters than samples: 5 clusters were given for a tree with 3 leaves.\n",
      "11/29/2024 11:31:15 AM core WARNING: Unable to perform clustering on local chart: Cannot extract more clusters than samples: 5 clusters were given for a tree with 4 leaves.\n",
      "11/29/2024 11:31:15 AM core WARNING: Unable to perform clustering on local chart: Cannot extract more clusters than samples: 5 clusters were given for a tree with 4 leaves.\n",
      "11/29/2024 11:31:15 AM core WARNING: Unable to perform clustering on local chart: Cannot extract more clusters than samples: 4 clusters were given for a tree with 3 leaves.\n",
      "11/29/2024 11:31:15 AM core WARNING: Unable to perform clustering on local chart: Cannot extract more clusters than samples: 5 clusters were given for a tree with 3 leaves.\n",
      "11/29/2024 11:31:15 AM core WARNING: Unable to perform clustering on local chart: Cannot extract more clusters than samples: 4 clusters were given for a tree with 3 leaves.\n",
      "11/29/2024 11:31:15 AM core WARNING: Unable to perform clustering on local chart: Cannot extract more clusters than samples: 5 clusters were given for a tree with 3 leaves.\n",
      "11/29/2024 11:31:15 AM core WARNING: Unable to perform clustering on local chart: Cannot extract more clusters than samples: 5 clusters were given for a tree with 4 leaves.\n",
      "11/29/2024 11:31:15 AM core WARNING: Unable to perform clustering on local chart: Cannot extract more clusters than samples: 4 clusters were given for a tree with 3 leaves.\n",
      "11/29/2024 11:31:15 AM core WARNING: Unable to perform clustering on local chart: Cannot extract more clusters than samples: 5 clusters were given for a tree with 3 leaves.\n",
      "11/29/2024 11:31:15 AM core WARNING: Unable to perform clustering on local chart: Cannot extract more clusters than samples: 5 clusters were given for a tree with 4 leaves.\n",
      "11/29/2024 11:31:15 AM core WARNING: Unable to perform clustering on local chart: Cannot extract more clusters than samples: 5 clusters were given for a tree with 4 leaves.\n",
      "11/29/2024 11:31:15 AM core WARNING: Unable to perform clustering on local chart: Cannot extract more clusters than samples: 5 clusters were given for a tree with 4 leaves.\n",
      "11/29/2024 11:31:15 AM core WARNING: Unable to perform clustering on local chart: Cannot extract more clusters than samples: 4 clusters were given for a tree with 3 leaves.\n",
      "11/29/2024 11:31:15 AM core WARNING: Unable to perform clustering on local chart: Cannot extract more clusters than samples: 5 clusters were given for a tree with 3 leaves.\n",
      "11/29/2024 11:31:15 AM core WARNING: Unable to perform clustering on local chart: Cannot extract more clusters than samples: 4 clusters were given for a tree with 3 leaves.\n",
      "11/29/2024 11:31:15 AM core WARNING: Unable to perform clustering on local chart: Cannot extract more clusters than samples: 5 clusters were given for a tree with 3 leaves.\n",
      "11/29/2024 11:31:15 AM core WARNING: Unable to perform clustering on local chart: Cannot extract more clusters than samples: 5 clusters were given for a tree with 4 leaves.\n",
      "11/29/2024 11:31:15 AM core WARNING: Unable to perform clustering on local chart: Cannot extract more clusters than samples: 4 clusters were given for a tree with 3 leaves.\n",
      "11/29/2024 11:31:15 AM core WARNING: Unable to perform clustering on local chart: Cannot extract more clusters than samples: 5 clusters were given for a tree with 3 leaves.\n",
      "11/29/2024 11:31:15 AM core WARNING: Unable to perform clustering on local chart: Cannot extract more clusters than samples: 4 clusters were given for a tree with 3 leaves.\n",
      "11/29/2024 11:31:15 AM core WARNING: Unable to perform clustering on local chart: Cannot extract more clusters than samples: 4 clusters were given for a tree with 3 leaves.\n",
      "11/29/2024 11:31:15 AM core WARNING: Unable to perform clustering on local chart: Cannot extract more clusters than samples: 5 clusters were given for a tree with 3 leaves.\n",
      "11/29/2024 11:31:15 AM core WARNING: Unable to perform clustering on local chart: Cannot extract more clusters than samples: 5 clusters were given for a tree with 3 leaves.\n",
      "11/29/2024 11:31:15 AM core WARNING: Unable to perform clustering on local chart: Cannot extract more clusters than samples: 5 clusters were given for a tree with 4 leaves.\n",
      "11/29/2024 11:31:15 AM core WARNING: Unable to perform clustering on local chart: Cannot extract more clusters than samples: 5 clusters were given for a tree with 4 leaves.\n",
      "11/29/2024 11:31:15 AM core WARNING: Unable to perform clustering on local chart: Cannot extract more clusters than samples: 5 clusters were given for a tree with 4 leaves.\n"
     ]
    },
    {
     "name": "stdout",
     "output_type": "stream",
     "text": [
      "overlap: 3, interval: 9\n",
      "overlap: 3, interval: 10\n"
     ]
    },
    {
     "name": "stderr",
     "output_type": "stream",
     "text": [
      "11/29/2024 11:31:15 AM core WARNING: Unable to perform clustering on local chart: Cannot extract more clusters than samples: 5 clusters were given for a tree with 4 leaves.\n",
      "11/29/2024 11:31:15 AM core WARNING: Unable to perform clustering on local chart: Cannot extract more clusters than samples: 4 clusters were given for a tree with 3 leaves.\n",
      "11/29/2024 11:31:15 AM core WARNING: Unable to perform clustering on local chart: Cannot extract more clusters than samples: 5 clusters were given for a tree with 3 leaves.\n",
      "11/29/2024 11:31:15 AM core WARNING: Unable to perform clustering on local chart: Cannot extract more clusters than samples: 5 clusters were given for a tree with 4 leaves.\n",
      "11/29/2024 11:31:15 AM core WARNING: Unable to perform clustering on local chart: Cannot extract more clusters than samples: 4 clusters were given for a tree with 3 leaves.\n",
      "11/29/2024 11:31:15 AM core WARNING: Unable to perform clustering on local chart: Cannot extract more clusters than samples: 4 clusters were given for a tree with 3 leaves.\n",
      "11/29/2024 11:31:15 AM core WARNING: Unable to perform clustering on local chart: Cannot extract more clusters than samples: 5 clusters were given for a tree with 3 leaves.\n",
      "11/29/2024 11:31:15 AM core WARNING: Unable to perform clustering on local chart: Cannot extract more clusters than samples: 5 clusters were given for a tree with 3 leaves.\n",
      "11/29/2024 11:31:15 AM core WARNING: Unable to perform clustering on local chart: Cannot extract more clusters than samples: 4 clusters were given for a tree with 3 leaves.\n",
      "11/29/2024 11:31:15 AM core WARNING: Unable to perform clustering on local chart: Cannot extract more clusters than samples: 5 clusters were given for a tree with 3 leaves.\n",
      "11/29/2024 11:31:15 AM core WARNING: Unable to perform clustering on local chart: Cannot extract more clusters than samples: 4 clusters were given for a tree with 3 leaves.\n",
      "11/29/2024 11:31:15 AM core WARNING: Unable to perform clustering on local chart: Cannot extract more clusters than samples: 5 clusters were given for a tree with 3 leaves.\n",
      "11/29/2024 11:31:15 AM core WARNING: Unable to perform clustering on local chart: Cannot extract more clusters than samples: 5 clusters were given for a tree with 4 leaves.\n",
      "11/29/2024 11:31:15 AM core WARNING: Unable to perform clustering on local chart: Cannot extract more clusters than samples: 4 clusters were given for a tree with 3 leaves.\n",
      "11/29/2024 11:31:15 AM core WARNING: Unable to perform clustering on local chart: Cannot extract more clusters than samples: 5 clusters were given for a tree with 3 leaves.\n",
      "11/29/2024 11:31:15 AM core WARNING: Unable to perform clustering on local chart: Cannot extract more clusters than samples: 4 clusters were given for a tree with 3 leaves.\n",
      "11/29/2024 11:31:15 AM core WARNING: Unable to perform clustering on local chart: Cannot extract more clusters than samples: 5 clusters were given for a tree with 3 leaves.\n",
      "11/29/2024 11:31:15 AM core WARNING: Unable to perform clustering on local chart: Cannot extract more clusters than samples: 5 clusters were given for a tree with 4 leaves.\n",
      "11/29/2024 11:31:15 AM core WARNING: Unable to perform clustering on local chart: Cannot extract more clusters than samples: 5 clusters were given for a tree with 4 leaves.\n",
      "11/29/2024 11:31:15 AM core WARNING: Unable to perform clustering on local chart: Cannot extract more clusters than samples: 4 clusters were given for a tree with 3 leaves.\n",
      "11/29/2024 11:31:15 AM core WARNING: Unable to perform clustering on local chart: Cannot extract more clusters than samples: 5 clusters were given for a tree with 3 leaves.\n",
      "11/29/2024 11:31:15 AM core WARNING: Unable to perform clustering on local chart: Cannot extract more clusters than samples: 4 clusters were given for a tree with 3 leaves.\n",
      "11/29/2024 11:31:15 AM core WARNING: Unable to perform clustering on local chart: Cannot extract more clusters than samples: 5 clusters were given for a tree with 3 leaves.\n",
      "11/29/2024 11:31:15 AM core WARNING: Unable to perform clustering on local chart: Cannot extract more clusters than samples: 4 clusters were given for a tree with 3 leaves.\n",
      "11/29/2024 11:31:15 AM core WARNING: Unable to perform clustering on local chart: Cannot extract more clusters than samples: 5 clusters were given for a tree with 3 leaves.\n",
      "11/29/2024 11:31:15 AM core WARNING: Unable to perform clustering on local chart: Cannot extract more clusters than samples: 5 clusters were given for a tree with 4 leaves.\n",
      "11/29/2024 11:31:15 AM core WARNING: Unable to perform clustering on local chart: Cannot extract more clusters than samples: 5 clusters were given for a tree with 4 leaves.\n",
      "11/29/2024 11:31:15 AM core WARNING: Unable to perform clustering on local chart: Cannot extract more clusters than samples: 4 clusters were given for a tree with 3 leaves.\n",
      "11/29/2024 11:31:15 AM core WARNING: Unable to perform clustering on local chart: Cannot extract more clusters than samples: 5 clusters were given for a tree with 3 leaves.\n",
      "11/29/2024 11:31:15 AM core WARNING: Unable to perform clustering on local chart: Cannot extract more clusters than samples: 5 clusters were given for a tree with 4 leaves.\n",
      "11/29/2024 11:31:15 AM core WARNING: Unable to perform clustering on local chart: Cannot extract more clusters than samples: 4 clusters were given for a tree with 3 leaves.\n",
      "11/29/2024 11:31:15 AM core WARNING: Unable to perform clustering on local chart: Cannot extract more clusters than samples: 5 clusters were given for a tree with 3 leaves.\n",
      "11/29/2024 11:31:15 AM core WARNING: Unable to perform clustering on local chart: Cannot extract more clusters than samples: 5 clusters were given for a tree with 4 leaves.\n",
      "11/29/2024 11:31:15 AM core WARNING: Unable to perform clustering on local chart: Cannot extract more clusters than samples: 5 clusters were given for a tree with 4 leaves.\n",
      "11/29/2024 11:31:15 AM core WARNING: Unable to perform clustering on local chart: Cannot extract more clusters than samples: 5 clusters were given for a tree with 4 leaves.\n",
      "11/29/2024 11:31:15 AM core WARNING: Unable to perform clustering on local chart: Cannot extract more clusters than samples: 5 clusters were given for a tree with 4 leaves.\n",
      "11/29/2024 11:31:15 AM core WARNING: Unable to perform clustering on local chart: Cannot extract more clusters than samples: 4 clusters were given for a tree with 3 leaves.\n",
      "11/29/2024 11:31:15 AM core WARNING: Unable to perform clustering on local chart: Cannot extract more clusters than samples: 5 clusters were given for a tree with 3 leaves.\n",
      "11/29/2024 11:31:15 AM core WARNING: Unable to perform clustering on local chart: Cannot extract more clusters than samples: 4 clusters were given for a tree with 3 leaves.\n",
      "11/29/2024 11:31:15 AM core WARNING: Unable to perform clustering on local chart: Cannot extract more clusters than samples: 5 clusters were given for a tree with 3 leaves.\n",
      "11/29/2024 11:31:15 AM core WARNING: Unable to perform clustering on local chart: Cannot extract more clusters than samples: 4 clusters were given for a tree with 3 leaves.\n",
      "11/29/2024 11:31:15 AM core WARNING: Unable to perform clustering on local chart: Cannot extract more clusters than samples: 5 clusters were given for a tree with 3 leaves.\n",
      "11/29/2024 11:31:15 AM core WARNING: Unable to perform clustering on local chart: Cannot extract more clusters than samples: 5 clusters were given for a tree with 4 leaves.\n",
      "11/29/2024 11:31:15 AM core WARNING: Unable to perform clustering on local chart: Cannot extract more clusters than samples: 5 clusters were given for a tree with 4 leaves.\n",
      "11/29/2024 11:31:15 AM core WARNING: Unable to perform clustering on local chart: Cannot extract more clusters than samples: 4 clusters were given for a tree with 3 leaves.\n",
      "11/29/2024 11:31:15 AM core WARNING: Unable to perform clustering on local chart: Cannot extract more clusters than samples: 5 clusters were given for a tree with 3 leaves.\n",
      "11/29/2024 11:31:15 AM core WARNING: Unable to perform clustering on local chart: Cannot extract more clusters than samples: 5 clusters were given for a tree with 4 leaves.\n",
      "11/29/2024 11:31:15 AM core WARNING: Unable to perform clustering on local chart: Cannot extract more clusters than samples: 5 clusters were given for a tree with 4 leaves.\n",
      "11/29/2024 11:31:15 AM core WARNING: Unable to perform clustering on local chart: Cannot extract more clusters than samples: 5 clusters were given for a tree with 4 leaves.\n"
     ]
    },
    {
     "name": "stdout",
     "output_type": "stream",
     "text": [
      "[0.3914690170671033, 0.3403336418482751, 0.32496321568307573, 0.29618137972483494, 0.2745878530504907, 0.24749571982719368]\n",
      "Best interval for overlap=3: 5\n",
      "overlap: 4, interval: 5\n",
      "overlap: 4, interval: 6\n"
     ]
    },
    {
     "name": "stderr",
     "output_type": "stream",
     "text": [
      "11/29/2024 11:31:15 AM core WARNING: Unable to perform clustering on local chart: Cannot extract more clusters than samples: 4 clusters were given for a tree with 3 leaves.\n",
      "11/29/2024 11:31:15 AM core WARNING: Unable to perform clustering on local chart: Cannot extract more clusters than samples: 5 clusters were given for a tree with 3 leaves.\n",
      "11/29/2024 11:31:15 AM core WARNING: Unable to perform clustering on local chart: Cannot extract more clusters than samples: 4 clusters were given for a tree with 3 leaves.\n",
      "11/29/2024 11:31:15 AM core WARNING: Unable to perform clustering on local chart: Cannot extract more clusters than samples: 5 clusters were given for a tree with 3 leaves.\n",
      "11/29/2024 11:31:15 AM core WARNING: Unable to perform clustering on local chart: Cannot extract more clusters than samples: 5 clusters were given for a tree with 4 leaves.\n",
      "11/29/2024 11:31:15 AM core WARNING: Unable to perform clustering on local chart: Cannot extract more clusters than samples: 5 clusters were given for a tree with 4 leaves.\n",
      "11/29/2024 11:31:16 AM core WARNING: Unable to perform clustering on local chart: Cannot extract more clusters than samples: 4 clusters were given for a tree with 3 leaves.\n",
      "11/29/2024 11:31:16 AM core WARNING: Unable to perform clustering on local chart: Cannot extract more clusters than samples: 5 clusters were given for a tree with 3 leaves.\n",
      "11/29/2024 11:31:16 AM core WARNING: Unable to perform clustering on local chart: Cannot extract more clusters than samples: 4 clusters were given for a tree with 3 leaves.\n",
      "11/29/2024 11:31:16 AM core WARNING: Unable to perform clustering on local chart: Cannot extract more clusters than samples: 5 clusters were given for a tree with 3 leaves.\n",
      "11/29/2024 11:31:16 AM core WARNING: Unable to perform clustering on local chart: Cannot extract more clusters than samples: 4 clusters were given for a tree with 3 leaves.\n",
      "11/29/2024 11:31:16 AM core WARNING: Unable to perform clustering on local chart: Cannot extract more clusters than samples: 5 clusters were given for a tree with 3 leaves.\n",
      "11/29/2024 11:31:16 AM core WARNING: Unable to perform clustering on local chart: Cannot extract more clusters than samples: 4 clusters were given for a tree with 3 leaves.\n",
      "11/29/2024 11:31:16 AM core WARNING: Unable to perform clustering on local chart: Cannot extract more clusters than samples: 5 clusters were given for a tree with 3 leaves.\n",
      "11/29/2024 11:31:16 AM core WARNING: Unable to perform clustering on local chart: Cannot extract more clusters than samples: 5 clusters were given for a tree with 4 leaves.\n",
      "11/29/2024 11:31:16 AM core WARNING: Unable to perform clustering on local chart: Cannot extract more clusters than samples: 5 clusters were given for a tree with 4 leaves.\n"
     ]
    },
    {
     "name": "stdout",
     "output_type": "stream",
     "text": [
      "overlap: 4, interval: 7\n",
      "overlap: 4, interval: 8\n"
     ]
    },
    {
     "name": "stderr",
     "output_type": "stream",
     "text": [
      "11/29/2024 11:31:16 AM core WARNING: Unable to perform clustering on local chart: Cannot extract more clusters than samples: 5 clusters were given for a tree with 4 leaves.\n",
      "11/29/2024 11:31:16 AM core WARNING: Unable to perform clustering on local chart: Cannot extract more clusters than samples: 4 clusters were given for a tree with 3 leaves.\n",
      "11/29/2024 11:31:16 AM core WARNING: Unable to perform clustering on local chart: Cannot extract more clusters than samples: 5 clusters were given for a tree with 3 leaves.\n",
      "11/29/2024 11:31:16 AM core WARNING: Unable to perform clustering on local chart: Cannot extract more clusters than samples: 5 clusters were given for a tree with 4 leaves.\n",
      "11/29/2024 11:31:16 AM core WARNING: Unable to perform clustering on local chart: Cannot extract more clusters than samples: 5 clusters were given for a tree with 4 leaves.\n",
      "11/29/2024 11:31:16 AM core WARNING: Unable to perform clustering on local chart: Cannot extract more clusters than samples: 5 clusters were given for a tree with 4 leaves.\n",
      "11/29/2024 11:31:16 AM core WARNING: Unable to perform clustering on local chart: Cannot extract more clusters than samples: 4 clusters were given for a tree with 3 leaves.\n",
      "11/29/2024 11:31:16 AM core WARNING: Unable to perform clustering on local chart: Cannot extract more clusters than samples: 5 clusters were given for a tree with 3 leaves.\n",
      "11/29/2024 11:31:16 AM core WARNING: Unable to perform clustering on local chart: Cannot extract more clusters than samples: 5 clusters were given for a tree with 4 leaves.\n",
      "11/29/2024 11:31:16 AM core WARNING: Unable to perform clustering on local chart: Cannot extract more clusters than samples: 5 clusters were given for a tree with 4 leaves.\n",
      "11/29/2024 11:31:16 AM core WARNING: Unable to perform clustering on local chart: Cannot extract more clusters than samples: 4 clusters were given for a tree with 3 leaves.\n",
      "11/29/2024 11:31:16 AM core WARNING: Unable to perform clustering on local chart: Cannot extract more clusters than samples: 5 clusters were given for a tree with 3 leaves.\n",
      "11/29/2024 11:31:16 AM core WARNING: Unable to perform clustering on local chart: Cannot extract more clusters than samples: 5 clusters were given for a tree with 4 leaves.\n"
     ]
    },
    {
     "name": "stdout",
     "output_type": "stream",
     "text": [
      "overlap: 4, interval: 9\n",
      "overlap: 4, interval: 10\n"
     ]
    },
    {
     "name": "stderr",
     "output_type": "stream",
     "text": [
      "11/29/2024 11:31:16 AM core WARNING: Unable to perform clustering on local chart: Cannot extract more clusters than samples: 5 clusters were given for a tree with 4 leaves.\n",
      "11/29/2024 11:31:16 AM core WARNING: Unable to perform clustering on local chart: Cannot extract more clusters than samples: 4 clusters were given for a tree with 3 leaves.\n",
      "11/29/2024 11:31:16 AM core WARNING: Unable to perform clustering on local chart: Cannot extract more clusters than samples: 5 clusters were given for a tree with 3 leaves.\n",
      "11/29/2024 11:31:16 AM core WARNING: Unable to perform clustering on local chart: Cannot extract more clusters than samples: 5 clusters were given for a tree with 4 leaves.\n",
      "11/29/2024 11:31:16 AM core WARNING: Unable to perform clustering on local chart: Cannot extract more clusters than samples: 5 clusters were given for a tree with 4 leaves.\n",
      "11/29/2024 11:31:16 AM core WARNING: Unable to perform clustering on local chart: Cannot extract more clusters than samples: 5 clusters were given for a tree with 4 leaves.\n",
      "11/29/2024 11:31:16 AM core WARNING: Unable to perform clustering on local chart: Cannot extract more clusters than samples: 5 clusters were given for a tree with 4 leaves.\n",
      "11/29/2024 11:31:16 AM core WARNING: Unable to perform clustering on local chart: Cannot extract more clusters than samples: 4 clusters were given for a tree with 3 leaves.\n",
      "11/29/2024 11:31:16 AM core WARNING: Unable to perform clustering on local chart: Cannot extract more clusters than samples: 5 clusters were given for a tree with 3 leaves.\n",
      "11/29/2024 11:31:16 AM core WARNING: Unable to perform clustering on local chart: Cannot extract more clusters than samples: 4 clusters were given for a tree with 3 leaves.\n",
      "11/29/2024 11:31:16 AM core WARNING: Unable to perform clustering on local chart: Cannot extract more clusters than samples: 5 clusters were given for a tree with 3 leaves.\n",
      "11/29/2024 11:31:16 AM core WARNING: Unable to perform clustering on local chart: Cannot extract more clusters than samples: 5 clusters were given for a tree with 4 leaves.\n",
      "11/29/2024 11:31:16 AM core WARNING: Unable to perform clustering on local chart: Cannot extract more clusters than samples: 4 clusters were given for a tree with 3 leaves.\n",
      "11/29/2024 11:31:16 AM core WARNING: Unable to perform clustering on local chart: Cannot extract more clusters than samples: 5 clusters were given for a tree with 3 leaves.\n",
      "11/29/2024 11:31:16 AM core WARNING: Unable to perform clustering on local chart: Cannot extract more clusters than samples: 5 clusters were given for a tree with 4 leaves.\n",
      "11/29/2024 11:31:16 AM core WARNING: Unable to perform clustering on local chart: Cannot extract more clusters than samples: 5 clusters were given for a tree with 4 leaves.\n",
      "11/29/2024 11:31:16 AM core WARNING: Unable to perform clustering on local chart: Cannot extract more clusters than samples: 4 clusters were given for a tree with 3 leaves.\n",
      "11/29/2024 11:31:16 AM core WARNING: Unable to perform clustering on local chart: Cannot extract more clusters than samples: 4 clusters were given for a tree with 3 leaves.\n",
      "11/29/2024 11:31:16 AM core WARNING: Unable to perform clustering on local chart: Cannot extract more clusters than samples: 5 clusters were given for a tree with 3 leaves.\n",
      "11/29/2024 11:31:16 AM core WARNING: Unable to perform clustering on local chart: Cannot extract more clusters than samples: 5 clusters were given for a tree with 3 leaves.\n",
      "11/29/2024 11:31:16 AM core WARNING: Unable to perform clustering on local chart: Cannot extract more clusters than samples: 4 clusters were given for a tree with 3 leaves.\n",
      "11/29/2024 11:31:16 AM core WARNING: Unable to perform clustering on local chart: Cannot extract more clusters than samples: 5 clusters were given for a tree with 3 leaves.\n",
      "11/29/2024 11:31:16 AM core WARNING: Unable to perform clustering on local chart: Cannot extract more clusters than samples: 5 clusters were given for a tree with 4 leaves.\n",
      "11/29/2024 11:31:16 AM core WARNING: Unable to perform clustering on local chart: Cannot extract more clusters than samples: 4 clusters were given for a tree with 3 leaves.\n",
      "11/29/2024 11:31:16 AM core WARNING: Unable to perform clustering on local chart: Cannot extract more clusters than samples: 4 clusters were given for a tree with 3 leaves.\n",
      "11/29/2024 11:31:16 AM core WARNING: Unable to perform clustering on local chart: Cannot extract more clusters than samples: 5 clusters were given for a tree with 3 leaves.\n",
      "11/29/2024 11:31:16 AM core WARNING: Unable to perform clustering on local chart: Cannot extract more clusters than samples: 5 clusters were given for a tree with 3 leaves.\n",
      "11/29/2024 11:31:16 AM core WARNING: Unable to perform clustering on local chart: Cannot extract more clusters than samples: 4 clusters were given for a tree with 3 leaves.\n",
      "11/29/2024 11:31:16 AM core WARNING: Unable to perform clustering on local chart: Cannot extract more clusters than samples: 5 clusters were given for a tree with 3 leaves.\n",
      "11/29/2024 11:31:16 AM core WARNING: Unable to perform clustering on local chart: Cannot extract more clusters than samples: 4 clusters were given for a tree with 3 leaves.\n",
      "11/29/2024 11:31:16 AM core WARNING: Unable to perform clustering on local chart: Cannot extract more clusters than samples: 5 clusters were given for a tree with 3 leaves.\n",
      "11/29/2024 11:31:16 AM core WARNING: Unable to perform clustering on local chart: Cannot extract more clusters than samples: 5 clusters were given for a tree with 4 leaves.\n",
      "11/29/2024 11:31:16 AM core WARNING: Unable to perform clustering on local chart: Cannot extract more clusters than samples: 5 clusters were given for a tree with 4 leaves.\n"
     ]
    },
    {
     "name": "stdout",
     "output_type": "stream",
     "text": [
      "[0.45478247326114885, 0.3762910307391944, 0.34664552476290383, 0.3223664239855385, 0.32461854082724023, 0.3077314561114926]\n",
      "Best interval for overlap=4: 5\n",
      "overlap: 5, interval: 5\n",
      "overlap: 5, interval: 6\n"
     ]
    },
    {
     "name": "stderr",
     "output_type": "stream",
     "text": [
      "11/29/2024 11:31:16 AM core WARNING: Unable to perform clustering on local chart: Cannot extract more clusters than samples: 4 clusters were given for a tree with 3 leaves.\n",
      "11/29/2024 11:31:16 AM core WARNING: Unable to perform clustering on local chart: Cannot extract more clusters than samples: 5 clusters were given for a tree with 4 leaves.\n",
      "11/29/2024 11:31:16 AM core WARNING: Unable to perform clustering on local chart: Cannot extract more clusters than samples: 5 clusters were given for a tree with 3 leaves.\n",
      "11/29/2024 11:31:16 AM core WARNING: Unable to perform clustering on local chart: Cannot extract more clusters than samples: 5 clusters were given for a tree with 4 leaves.\n",
      "11/29/2024 11:31:16 AM core WARNING: Unable to perform clustering on local chart: Cannot extract more clusters than samples: 4 clusters were given for a tree with 3 leaves.\n",
      "11/29/2024 11:31:16 AM core WARNING: Unable to perform clustering on local chart: Cannot extract more clusters than samples: 5 clusters were given for a tree with 3 leaves.\n",
      "11/29/2024 11:31:16 AM core WARNING: Unable to perform clustering on local chart: Cannot extract more clusters than samples: 4 clusters were given for a tree with 3 leaves.\n",
      "11/29/2024 11:31:16 AM core WARNING: Unable to perform clustering on local chart: Cannot extract more clusters than samples: 5 clusters were given for a tree with 3 leaves.\n",
      "11/29/2024 11:31:16 AM core WARNING: Unable to perform clustering on local chart: Cannot extract more clusters than samples: 4 clusters were given for a tree with 3 leaves.\n",
      "11/29/2024 11:31:16 AM core WARNING: Unable to perform clustering on local chart: Cannot extract more clusters than samples: 5 clusters were given for a tree with 3 leaves.\n",
      "11/29/2024 11:31:16 AM core WARNING: Unable to perform clustering on local chart: Cannot extract more clusters than samples: 4 clusters were given for a tree with 3 leaves.\n",
      "11/29/2024 11:31:16 AM core WARNING: Unable to perform clustering on local chart: Cannot extract more clusters than samples: 5 clusters were given for a tree with 3 leaves.\n",
      "11/29/2024 11:31:16 AM core WARNING: Unable to perform clustering on local chart: Cannot extract more clusters than samples: 5 clusters were given for a tree with 4 leaves.\n",
      "11/29/2024 11:31:16 AM core WARNING: Unable to perform clustering on local chart: Cannot extract more clusters than samples: 4 clusters were given for a tree with 3 leaves.\n",
      "11/29/2024 11:31:16 AM core WARNING: Unable to perform clustering on local chart: Cannot extract more clusters than samples: 5 clusters were given for a tree with 3 leaves.\n",
      "11/29/2024 11:31:16 AM core WARNING: Unable to perform clustering on local chart: Cannot extract more clusters than samples: 5 clusters were given for a tree with 4 leaves.\n",
      "11/29/2024 11:31:16 AM core WARNING: Unable to perform clustering on local chart: Cannot extract more clusters than samples: 5 clusters were given for a tree with 4 leaves.\n",
      "11/29/2024 11:31:16 AM core WARNING: Unable to perform clustering on local chart: Cannot extract more clusters than samples: 5 clusters were given for a tree with 4 leaves.\n",
      "11/29/2024 11:31:16 AM core WARNING: Unable to perform clustering on local chart: Cannot extract more clusters than samples: 4 clusters were given for a tree with 3 leaves.\n",
      "11/29/2024 11:31:16 AM core WARNING: Unable to perform clustering on local chart: Cannot extract more clusters than samples: 5 clusters were given for a tree with 3 leaves.\n"
     ]
    },
    {
     "name": "stdout",
     "output_type": "stream",
     "text": [
      "overlap: 5, interval: 7\n",
      "overlap: 5, interval: 8\n"
     ]
    },
    {
     "name": "stderr",
     "output_type": "stream",
     "text": [
      "11/29/2024 11:31:17 AM core WARNING: Unable to perform clustering on local chart: Cannot extract more clusters than samples: 5 clusters were given for a tree with 4 leaves.\n",
      "11/29/2024 11:31:17 AM core WARNING: Unable to perform clustering on local chart: Cannot extract more clusters than samples: 4 clusters were given for a tree with 3 leaves.\n",
      "11/29/2024 11:31:17 AM core WARNING: Unable to perform clustering on local chart: Cannot extract more clusters than samples: 5 clusters were given for a tree with 3 leaves.\n",
      "11/29/2024 11:31:17 AM core WARNING: Unable to perform clustering on local chart: Cannot extract more clusters than samples: 4 clusters were given for a tree with 3 leaves.\n",
      "11/29/2024 11:31:17 AM core WARNING: Unable to perform clustering on local chart: Cannot extract more clusters than samples: 5 clusters were given for a tree with 3 leaves.\n",
      "11/29/2024 11:31:17 AM core WARNING: Unable to perform clustering on local chart: Cannot extract more clusters than samples: 4 clusters were given for a tree with 3 leaves.\n",
      "11/29/2024 11:31:17 AM core WARNING: Unable to perform clustering on local chart: Cannot extract more clusters than samples: 5 clusters were given for a tree with 4 leaves.\n",
      "11/29/2024 11:31:17 AM core WARNING: Unable to perform clustering on local chart: Cannot extract more clusters than samples: 5 clusters were given for a tree with 3 leaves.\n",
      "11/29/2024 11:31:17 AM core WARNING: Unable to perform clustering on local chart: Cannot extract more clusters than samples: 5 clusters were given for a tree with 4 leaves.\n",
      "11/29/2024 11:31:17 AM core WARNING: Unable to perform clustering on local chart: Cannot extract more clusters than samples: 4 clusters were given for a tree with 3 leaves.\n",
      "11/29/2024 11:31:17 AM core WARNING: Unable to perform clustering on local chart: Cannot extract more clusters than samples: 5 clusters were given for a tree with 3 leaves.\n",
      "11/29/2024 11:31:17 AM core WARNING: Unable to perform clustering on local chart: Cannot extract more clusters than samples: 5 clusters were given for a tree with 4 leaves.\n",
      "11/29/2024 11:31:17 AM core WARNING: Unable to perform clustering on local chart: Cannot extract more clusters than samples: 4 clusters were given for a tree with 3 leaves.\n",
      "11/29/2024 11:31:17 AM core WARNING: Unable to perform clustering on local chart: Cannot extract more clusters than samples: 5 clusters were given for a tree with 3 leaves.\n",
      "11/29/2024 11:31:17 AM core WARNING: Unable to perform clustering on local chart: Cannot extract more clusters than samples: 4 clusters were given for a tree with 3 leaves.\n",
      "11/29/2024 11:31:17 AM core WARNING: Unable to perform clustering on local chart: Cannot extract more clusters than samples: 5 clusters were given for a tree with 3 leaves.\n",
      "11/29/2024 11:31:17 AM core WARNING: Unable to perform clustering on local chart: Cannot extract more clusters than samples: 5 clusters were given for a tree with 4 leaves.\n",
      "11/29/2024 11:31:17 AM core WARNING: Unable to perform clustering on local chart: Cannot extract more clusters than samples: 4 clusters were given for a tree with 3 leaves.\n",
      "11/29/2024 11:31:17 AM core WARNING: Unable to perform clustering on local chart: Cannot extract more clusters than samples: 5 clusters were given for a tree with 3 leaves.\n"
     ]
    },
    {
     "name": "stdout",
     "output_type": "stream",
     "text": [
      "overlap: 5, interval: 9\n",
      "overlap: 5, interval: 10\n",
      "[0.4718496286519719, 0.4182390167850425, 0.4225685603292781, 0.3381677223024334, 0.3224966759496224, 0.3278749896931749]\n",
      "Best interval for overlap=5: 5\n"
     ]
    },
    {
     "name": "stderr",
     "output_type": "stream",
     "text": [
      "11/29/2024 11:31:17 AM core WARNING: Unable to perform clustering on local chart: Cannot extract more clusters than samples: 4 clusters were given for a tree with 3 leaves.\n",
      "11/29/2024 11:31:17 AM core WARNING: Unable to perform clustering on local chart: Cannot extract more clusters than samples: 5 clusters were given for a tree with 3 leaves.\n",
      "11/29/2024 11:31:17 AM core WARNING: Unable to perform clustering on local chart: Cannot extract more clusters than samples: 4 clusters were given for a tree with 3 leaves.\n",
      "11/29/2024 11:31:17 AM core WARNING: Unable to perform clustering on local chart: Cannot extract more clusters than samples: 5 clusters were given for a tree with 3 leaves.\n",
      "11/29/2024 11:31:17 AM core WARNING: Unable to perform clustering on local chart: Cannot extract more clusters than samples: 4 clusters were given for a tree with 3 leaves.\n",
      "11/29/2024 11:31:17 AM core WARNING: Unable to perform clustering on local chart: Cannot extract more clusters than samples: 5 clusters were given for a tree with 3 leaves.\n",
      "11/29/2024 11:31:17 AM core WARNING: Unable to perform clustering on local chart: Cannot extract more clusters than samples: 5 clusters were given for a tree with 4 leaves.\n",
      "11/29/2024 11:31:17 AM core WARNING: Unable to perform clustering on local chart: Cannot extract more clusters than samples: 5 clusters were given for a tree with 4 leaves.\n",
      "11/29/2024 11:31:17 AM core WARNING: Unable to perform clustering on local chart: Cannot extract more clusters than samples: 4 clusters were given for a tree with 3 leaves.\n",
      "11/29/2024 11:31:17 AM core WARNING: Unable to perform clustering on local chart: Cannot extract more clusters than samples: 5 clusters were given for a tree with 3 leaves.\n",
      "11/29/2024 11:31:17 AM core WARNING: Unable to perform clustering on local chart: Cannot extract more clusters than samples: 5 clusters were given for a tree with 4 leaves.\n",
      "11/29/2024 11:31:17 AM core WARNING: Unable to perform clustering on local chart: Cannot extract more clusters than samples: 4 clusters were given for a tree with 3 leaves.\n",
      "11/29/2024 11:31:17 AM core WARNING: Unable to perform clustering on local chart: Cannot extract more clusters than samples: 5 clusters were given for a tree with 3 leaves.\n",
      "11/29/2024 11:31:17 AM core WARNING: Unable to perform clustering on local chart: Cannot extract more clusters than samples: 4 clusters were given for a tree with 3 leaves.\n",
      "11/29/2024 11:31:17 AM core WARNING: Unable to perform clustering on local chart: Cannot extract more clusters than samples: 5 clusters were given for a tree with 3 leaves.\n",
      "11/29/2024 11:31:17 AM core WARNING: Unable to perform clustering on local chart: Cannot extract more clusters than samples: 5 clusters were given for a tree with 4 leaves.\n"
     ]
    }
   ],
   "source": [
    "detailed_results = []\n",
    "\n",
    "for overlap in range(3, 6):\n",
    "    silhouette_for_intervals = []\n",
    "\n",
    "    for interval in range(5, 11):\n",
    "\n",
    "        print(f'overlap: {overlap}, interval: {interval}')\n",
    "        mapper_algo = MapperAlgorithm(\n",
    "            cover=CubicalCover(\n",
    "                n_intervals=interval,\n",
    "                overlap_frac=overlap / 10\n",
    "            ),\n",
    "            clustering=AgglomerativeClustering(linkage='single')\n",
    "        )\n",
    "\n",
    "        mapper_info = mapper_algo.fit_transform(col_coordinate.to_numpy(), col_coordinate)\n",
    "        silhouette_for_intervals.append(mapper_info[1])\n",
    "\n",
    "        detailed_results.append({\n",
    "            \"overlap\": overlap,\n",
    "            \"interval\": interval,\n",
    "            \"silhouette\": mapper_info[1],\n",
    "            \"mapper_info\": mapper_info\n",
    "        })\n",
    " \n",
    "    best_interval = np.argmax(silhouette_for_intervals) + 5  # +5 因為 interval 從5開始\n",
    "\n",
    "    print(silhouette_for_intervals)\n",
    "    print(f\"Best interval for overlap={overlap}: {best_interval}\")"
   ]
  },
  {
   "cell_type": "code",
   "execution_count": 27,
   "metadata": {},
   "outputs": [
    {
     "data": {
      "text/html": [
       "<div>\n",
       "<style scoped>\n",
       "    .dataframe tbody tr th:only-of-type {\n",
       "        vertical-align: middle;\n",
       "    }\n",
       "\n",
       "    .dataframe tbody tr th {\n",
       "        vertical-align: top;\n",
       "    }\n",
       "\n",
       "    .dataframe thead th {\n",
       "        text-align: right;\n",
       "    }\n",
       "</style>\n",
       "<table border=\"1\" class=\"dataframe\">\n",
       "  <thead>\n",
       "    <tr style=\"text-align: right;\">\n",
       "      <th></th>\n",
       "      <th>overlap</th>\n",
       "      <th>interval</th>\n",
       "      <th>silhouette</th>\n",
       "      <th>mapper_info</th>\n",
       "    </tr>\n",
       "  </thead>\n",
       "  <tbody>\n",
       "    <tr>\n",
       "      <th>5</th>\n",
       "      <td>3</td>\n",
       "      <td>10</td>\n",
       "      <td>0.247496</td>\n",
       "      <td>((0, 2, 4, 62, 94, 6, 125, 9, 11, 22, 37, 118,...</td>\n",
       "    </tr>\n",
       "    <tr>\n",
       "      <th>4</th>\n",
       "      <td>3</td>\n",
       "      <td>9</td>\n",
       "      <td>0.274588</td>\n",
       "      <td>((1, 8, 14, 25, 48, 111, 3, 54, 130, 134, 0, 1...</td>\n",
       "    </tr>\n",
       "    <tr>\n",
       "      <th>3</th>\n",
       "      <td>3</td>\n",
       "      <td>8</td>\n",
       "      <td>0.296181</td>\n",
       "      <td>((0, 11, 2, 4, 6, 9, 52, 67, 81, 14, 1, 10, 12...</td>\n",
       "    </tr>\n",
       "    <tr>\n",
       "      <th>11</th>\n",
       "      <td>4</td>\n",
       "      <td>10</td>\n",
       "      <td>0.307731</td>\n",
       "      <td>((0, 34, 39, 112, 2, 4, 58, 6, 9, 19, 10, 78, ...</td>\n",
       "    </tr>\n",
       "    <tr>\n",
       "      <th>9</th>\n",
       "      <td>4</td>\n",
       "      <td>8</td>\n",
       "      <td>0.322366</td>\n",
       "      <td>((0, 11, 2, 4, 14, 43, 73, 6, 36, 9, 71, 65, 4...</td>\n",
       "    </tr>\n",
       "    <tr>\n",
       "      <th>16</th>\n",
       "      <td>5</td>\n",
       "      <td>9</td>\n",
       "      <td>0.322497</td>\n",
       "      <td>((0, 8, 2, 4, 54, 63, 67, 11, 29, 6, 5, 25, 68...</td>\n",
       "    </tr>\n",
       "    <tr>\n",
       "      <th>10</th>\n",
       "      <td>4</td>\n",
       "      <td>9</td>\n",
       "      <td>0.324619</td>\n",
       "      <td>((0, 9, 29, 2, 41, 4, 47, 107, 14, 27, 35, 66,...</td>\n",
       "    </tr>\n",
       "    <tr>\n",
       "      <th>2</th>\n",
       "      <td>3</td>\n",
       "      <td>7</td>\n",
       "      <td>0.324963</td>\n",
       "      <td>((0, 12, 38, 55, 65, 67, 102, 2, 4, 78, 80, 85...</td>\n",
       "    </tr>\n",
       "    <tr>\n",
       "      <th>17</th>\n",
       "      <td>5</td>\n",
       "      <td>10</td>\n",
       "      <td>0.327875</td>\n",
       "      <td>((0, 6, 10, 34, 35, 2, 4, 43, 65, 33, 40, 9, 1...</td>\n",
       "    </tr>\n",
       "    <tr>\n",
       "      <th>15</th>\n",
       "      <td>5</td>\n",
       "      <td>8</td>\n",
       "      <td>0.338168</td>\n",
       "      <td>((0, 8, 10, 31, 34, 48, 2, 4, 13, 46, 65, 6, 5...</td>\n",
       "    </tr>\n",
       "    <tr>\n",
       "      <th>1</th>\n",
       "      <td>3</td>\n",
       "      <td>6</td>\n",
       "      <td>0.340334</td>\n",
       "      <td>((0, 43, 2, 4, 12, 6, 40, 18, 26, 9, 10, 1, 19...</td>\n",
       "    </tr>\n",
       "    <tr>\n",
       "      <th>8</th>\n",
       "      <td>4</td>\n",
       "      <td>7</td>\n",
       "      <td>0.346646</td>\n",
       "      <td>((1, 18, 34, 48, 2, 4, 13, 22, 45, 70, 73, 86,...</td>\n",
       "    </tr>\n",
       "    <tr>\n",
       "      <th>7</th>\n",
       "      <td>4</td>\n",
       "      <td>6</td>\n",
       "      <td>0.376291</td>\n",
       "      <td>((0, 37, 2, 4, 41, 12, 6, 33, 18, 60, 42, 53, ...</td>\n",
       "    </tr>\n",
       "    <tr>\n",
       "      <th>0</th>\n",
       "      <td>3</td>\n",
       "      <td>5</td>\n",
       "      <td>0.391469</td>\n",
       "      <td>((0, 4, 6, 24, 25, 43, 2, 10, 23, 3, 41, 13, 3...</td>\n",
       "    </tr>\n",
       "    <tr>\n",
       "      <th>13</th>\n",
       "      <td>5</td>\n",
       "      <td>6</td>\n",
       "      <td>0.418239</td>\n",
       "      <td>((0, 4, 25, 27, 2, 40, 35, 6, 9, 1, 26, 28, 10...</td>\n",
       "    </tr>\n",
       "    <tr>\n",
       "      <th>14</th>\n",
       "      <td>5</td>\n",
       "      <td>7</td>\n",
       "      <td>0.422569</td>\n",
       "      <td>((0, 6, 18, 26, 34, 51, 2, 4, 47, 65, 33, 5, 5...</td>\n",
       "    </tr>\n",
       "    <tr>\n",
       "      <th>6</th>\n",
       "      <td>4</td>\n",
       "      <td>5</td>\n",
       "      <td>0.454782</td>\n",
       "      <td>((0, 7, 25, 31, 41, 2, 5, 9, 13, 15, 24, 11, 1...</td>\n",
       "    </tr>\n",
       "    <tr>\n",
       "      <th>12</th>\n",
       "      <td>5</td>\n",
       "      <td>5</td>\n",
       "      <td>0.471850</td>\n",
       "      <td>((0, 8, 33, 2, 6, 10, 12, 5, 21, 1, 9, 34, 17,...</td>\n",
       "    </tr>\n",
       "  </tbody>\n",
       "</table>\n",
       "</div>"
      ],
      "text/plain": [
       "    overlap  interval  silhouette  \\\n",
       "5         3        10    0.247496   \n",
       "4         3         9    0.274588   \n",
       "3         3         8    0.296181   \n",
       "11        4        10    0.307731   \n",
       "9         4         8    0.322366   \n",
       "16        5         9    0.322497   \n",
       "10        4         9    0.324619   \n",
       "2         3         7    0.324963   \n",
       "17        5        10    0.327875   \n",
       "15        5         8    0.338168   \n",
       "1         3         6    0.340334   \n",
       "8         4         7    0.346646   \n",
       "7         4         6    0.376291   \n",
       "0         3         5    0.391469   \n",
       "13        5         6    0.418239   \n",
       "14        5         7    0.422569   \n",
       "6         4         5    0.454782   \n",
       "12        5         5    0.471850   \n",
       "\n",
       "                                          mapper_info  \n",
       "5   ((0, 2, 4, 62, 94, 6, 125, 9, 11, 22, 37, 118,...  \n",
       "4   ((1, 8, 14, 25, 48, 111, 3, 54, 130, 134, 0, 1...  \n",
       "3   ((0, 11, 2, 4, 6, 9, 52, 67, 81, 14, 1, 10, 12...  \n",
       "11  ((0, 34, 39, 112, 2, 4, 58, 6, 9, 19, 10, 78, ...  \n",
       "9   ((0, 11, 2, 4, 14, 43, 73, 6, 36, 9, 71, 65, 4...  \n",
       "16  ((0, 8, 2, 4, 54, 63, 67, 11, 29, 6, 5, 25, 68...  \n",
       "10  ((0, 9, 29, 2, 41, 4, 47, 107, 14, 27, 35, 66,...  \n",
       "2   ((0, 12, 38, 55, 65, 67, 102, 2, 4, 78, 80, 85...  \n",
       "17  ((0, 6, 10, 34, 35, 2, 4, 43, 65, 33, 40, 9, 1...  \n",
       "15  ((0, 8, 10, 31, 34, 48, 2, 4, 13, 46, 65, 6, 5...  \n",
       "1   ((0, 43, 2, 4, 12, 6, 40, 18, 26, 9, 10, 1, 19...  \n",
       "8   ((1, 18, 34, 48, 2, 4, 13, 22, 45, 70, 73, 86,...  \n",
       "7   ((0, 37, 2, 4, 41, 12, 6, 33, 18, 60, 42, 53, ...  \n",
       "0   ((0, 4, 6, 24, 25, 43, 2, 10, 23, 3, 41, 13, 3...  \n",
       "13  ((0, 4, 25, 27, 2, 40, 35, 6, 9, 1, 26, 28, 10...  \n",
       "14  ((0, 6, 18, 26, 34, 51, 2, 4, 47, 65, 33, 5, 5...  \n",
       "6   ((0, 7, 25, 31, 41, 2, 5, 9, 13, 15, 24, 11, 1...  \n",
       "12  ((0, 8, 33, 2, 6, 10, 12, 5, 21, 1, 9, 34, 17,...  "
      ]
     },
     "execution_count": 27,
     "metadata": {},
     "output_type": "execute_result"
    }
   ],
   "source": [
    "detailed_results_df = pd.DataFrame(detailed_results).sort_values(by='silhouette')\n",
    "detailed_results_df"
   ]
  },
  {
   "cell_type": "code",
   "execution_count": 32,
   "metadata": {},
   "outputs": [],
   "source": [
    "x = vars(mapper_plot1._MapperLayoutInteractive__fig)['_data_objs'][1]['x']\n",
    "y = vars(mapper_plot1._MapperLayoutInteractive__fig)['_data_objs'][1]['y']\n",
    "z = vars(mapper_plot1._MapperLayoutInteractive__fig)['_data_objs'][1]['z']\n",
    "\n",
    "threeDimData = pd.DataFrame({'x': x, 'y': y, 'z': z})\n",
    "\n",
    "import re\n",
    "data_tuple = vars(mapper_plot1._MapperLayoutInteractive__fig)['_data_objs'][1]['text']\n",
    "\n",
    "data = []\n",
    "for item in data_tuple:\n",
    "    # color = int(re.search(r'color: (-?\\d+)', item).group(1))\n",
    "    color = float(re.search(r'color: ([\\d.]+)', item).group(1))\n",
    "    node = int(re.search(r'node: (\\d+)', item).group(1))\n",
    "    size = int(re.search(r'size: (\\d+)', item).group(1))\n",
    "    data.append({'color': color, 'node': node, 'size': size})\n",
    "component_info = pd.DataFrame(data)\n",
    "\n",
    "full_info = pd.concat([component_info, threeDimData], axis=1)\n",
    "\n",
    "mp_content_origin = vars(mapper_plot1._MapperLayoutInteractive__graph)['_node']\n",
    "\n",
    "mp_content = pd.DataFrame.from_dict(mp_content_origin, orient='index')\n",
    "mp_content.reset_index(inplace=True)\n",
    "mp_content.rename(columns={'index': 'node'}, inplace=True)\n",
    "\n",
    "full_info = pd.merge(full_info, mp_content, on=['node', 'size'], how='inner')"
   ]
  },
  {
   "cell_type": "code",
   "execution_count": 37,
   "metadata": {},
   "outputs": [
    {
     "data": {
      "application/vnd.plotly.v1+json": {
       "config": {
        "plotlyServerURL": "https://plot.ly",
        "scrollZoom": true
       },
       "data": [
        {
         "hoverinfo": "skip",
         "line": {
          "cmax": 0.25,
          "cmin": 0,
          "color": [
           0.024096385542168676,
           0.007042253521126761,
           0.007042253521126761,
           0.024096385542168676,
           0.008403361344537815,
           0.008403361344537815,
           0.024096385542168676,
           0.043010752688172046,
           0.043010752688172046,
           0.024096385542168676,
           0.07407407407407407,
           0.07407407407407407,
           0.024096385542168676,
           0.01639344262295082,
           0.01639344262295082,
           0.007042253521126761,
           0.008403361344537815,
           0.008403361344537815,
           0.007042253521126761,
           0.019230769230769232,
           0.019230769230769232,
           0.007042253521126761,
           0,
           0,
           0.007042253521126761,
           0,
           0,
           0.007042253521126761,
           0,
           0,
           0.008403361344537815,
           0.019230769230769232,
           0.019230769230769232,
           0.008403361344537815,
           0,
           0,
           0,
           0.043010752688172046,
           0.043010752688172046,
           0,
           0,
           0,
           0,
           0,
           0,
           0.043010752688172046,
           0.07407407407407407,
           0.07407407407407407,
           0.043010752688172046,
           0.01639344262295082,
           0.01639344262295082,
           0.043010752688172046,
           0,
           0,
           0.043010752688172046,
           0,
           0,
           0.07407407407407407,
           0,
           0,
           0.07407407407407407,
           0,
           0,
           0,
           0,
           0,
           0,
           0,
           0,
           0,
           0,
           0,
           0,
           0,
           0,
           0.019230769230769232,
           0,
           0,
           0,
           0,
           0,
           0,
           0,
           0,
           0,
           0,
           0,
           0,
           0.25,
           0.25,
           0,
           0,
           0,
           0,
           0,
           0,
           0,
           0,
           0,
           0,
           0,
           0
          ],
          "colorscale": [
           [
            0,
            "rgb(0,0,131)"
           ],
           [
            0.2,
            "rgb(0,60,170)"
           ],
           [
            0.4,
            "rgb(5,255,255)"
           ],
           [
            0.6,
            "rgb(255,255,0)"
           ],
           [
            0.8,
            "rgb(250,0,0)"
           ],
           [
            1,
            "rgb(128,0,0)"
           ]
          ],
          "width": 0.75
         },
         "mode": "lines",
         "name": "edges_trace",
         "opacity": 1,
         "type": "scatter3d",
         "x": [
          -0.05590902199711675,
          -0.020903065304843944,
          null,
          -0.05590902199711675,
          -0.06734925213808363,
          null,
          -0.05590902199711675,
          -0.1172886639042932,
          null,
          -0.05590902199711675,
          0.0031759369517297153,
          null,
          -0.05590902199711675,
          -0.11153252936334543,
          null,
          -0.020903065304843944,
          -0.06734925213808363,
          null,
          -0.020903065304843944,
          -0.05498692510203955,
          null,
          -0.020903065304843944,
          0.0697006188921162,
          null,
          -0.020903065304843944,
          -0.008348189973076875,
          null,
          -0.020903065304843944,
          -0.07316523303499552,
          null,
          -0.06734925213808363,
          -0.05498692510203955,
          null,
          -0.06734925213808363,
          -0.07316523303499552,
          null,
          -0.243967364812481,
          -0.1172886639042932,
          null,
          -0.243967364812481,
          -0.340536247694968,
          null,
          -0.243967364812481,
          -0.3023753214464324,
          null,
          -0.1172886639042932,
          0.0031759369517297153,
          null,
          -0.1172886639042932,
          -0.11153252936334543,
          null,
          -0.1172886639042932,
          -0.11263416801661257,
          null,
          -0.1172886639042932,
          -0.16197791645067414,
          null,
          0.0031759369517297153,
          0.07837940401526051,
          null,
          0.0031759369517297153,
          0.09290726673785495,
          null,
          -0.566614811860319,
          -0.5245106323436525,
          null,
          0.3042882603103171,
          0.3607522808878054,
          null,
          0.3042882603103171,
          0.3260752086898631,
          null,
          0.3607522808878054,
          0.3260752086898631,
          null,
          -0.05498692510203955,
          -0.008348189973076875,
          null,
          -0.2366020380489499,
          -0.1824902154242034,
          null,
          -0.2366020380489499,
          -0.18797001242005756,
          null,
          -0.1824902154242034,
          -0.18797001242005756,
          null,
          0.10397812018750253,
          0.09722035184246688,
          null,
          -0.07316523303499552,
          -0.07491587157773633,
          null,
          -0.07316523303499552,
          -0.12074518165175735,
          null,
          0.9963050228356988,
          1,
          null,
          -0.07491587157773633,
          -0.12074518165175735,
          null
         ],
         "y": [
          0.17116716780563962,
          0.3178228331161752,
          null,
          0.17116716780563962,
          0.3017659557660338,
          null,
          0.17116716780563962,
          0.03253078736162154,
          null,
          0.17116716780563962,
          0.06492155134336182,
          null,
          0.17116716780563962,
          0.11045330864418168,
          null,
          0.3178228331161752,
          0.3017659557660338,
          null,
          0.3178228331161752,
          0.33831038096498306,
          null,
          0.3178228331161752,
          0.37746892185364106,
          null,
          0.3178228331161752,
          0.3602283561020954,
          null,
          0.3178228331161752,
          0.41764984335916744,
          null,
          0.3017659557660338,
          0.33831038096498306,
          null,
          0.3017659557660338,
          0.41764984335916744,
          null,
          -0.06007783912084558,
          0.03253078736162154,
          null,
          -0.06007783912084558,
          -0.09000578683872541,
          null,
          -0.06007783912084558,
          -0.13464500202547977,
          null,
          0.03253078736162154,
          0.06492155134336182,
          null,
          0.03253078736162154,
          0.11045330864418168,
          null,
          0.03253078736162154,
          -0.06305091180099279,
          null,
          0.03253078736162154,
          0.008268474938788482,
          null,
          0.06492155134336182,
          0.0477145486790837,
          null,
          0.06492155134336182,
          0.015145279385878032,
          null,
          -0.6077931510170544,
          -0.5633404138349374,
          null,
          -0.6678255885698156,
          -0.6871359786433882,
          null,
          -0.6678255885698156,
          -0.6975361989200803,
          null,
          -0.6871359786433882,
          -0.6975361989200803,
          null,
          0.33831038096498306,
          0.3602283561020954,
          null,
          0.9021190475886355,
          0.9174739817053155,
          null,
          0.9021190475886355,
          0.8926573713106989,
          null,
          0.9174739817053155,
          0.8926573713106989,
          null,
          -0.47902063683109297,
          -0.4472853156288155,
          null,
          0.41764984335916744,
          0.5141935029680015,
          null,
          0.41764984335916744,
          0.50834783654253,
          null,
          -0.18240259090687286,
          -0.14529406062852446,
          null,
          0.5141935029680015,
          0.50834783654253,
          null
         ],
         "z": [
          0.13886062304416044,
          0.08850524400732634,
          null,
          0.13886062304416044,
          0.11379198678620293,
          null,
          0.13886062304416044,
          0.17230864069474308,
          null,
          0.13886062304416044,
          0.18804876389165293,
          null,
          0.13886062304416044,
          0.15424658901236796,
          null,
          0.08850524400732634,
          0.11379198678620293,
          null,
          0.08850524400732634,
          0.03475865530471893,
          null,
          0.08850524400732634,
          0.08258620138508173,
          null,
          0.08850524400732634,
          -0.0010228275171529095,
          null,
          0.08850524400732634,
          0.13439937956749054,
          null,
          0.11379198678620293,
          0.03475865530471893,
          null,
          0.11379198678620293,
          0.13439937956749054,
          null,
          0.1439893559097865,
          0.17230864069474308,
          null,
          0.1439893559097865,
          0.1625232700193172,
          null,
          0.1439893559097865,
          0.10504581078843024,
          null,
          0.17230864069474308,
          0.18804876389165293,
          null,
          0.17230864069474308,
          0.15424658901236796,
          null,
          0.17230864069474308,
          0.1878560002129609,
          null,
          0.17230864069474308,
          0.2607522971680315,
          null,
          0.18804876389165293,
          0.2614196045704474,
          null,
          0.18804876389165293,
          0.18356531504119175,
          null,
          0.5846070969692778,
          0.5431140673516195,
          null,
          0.3766483530528175,
          0.3773097850320912,
          null,
          0.3766483530528175,
          0.3295739066401612,
          null,
          0.3773097850320912,
          0.3295739066401612,
          null,
          0.03475865530471893,
          -0.0010228275171529095,
          null,
          -0.5003516892934772,
          -0.5207110089696066,
          null,
          -0.5003516892934772,
          -0.46678956460323573,
          null,
          -0.5207110089696066,
          -0.46678956460323573,
          null,
          -0.7893613563331203,
          -0.731272145458267,
          null,
          0.13439937956749054,
          0.1733587195166051,
          null,
          0.13439937956749054,
          0.15121378778001068,
          null,
          -0.2604259448498291,
          -0.3072163790905086,
          null,
          0.1733587195166051,
          0.15121378778001068,
          null
         ]
        },
        {
         "hoverinfo": "text",
         "marker": {
          "cmax": 0.25,
          "cmin": 0,
          "color": [
           0.024096385542168676,
           0.007042253521126761,
           0.008403361344537815,
           0,
           0.043010752688172046,
           0.07407407407407407,
           0.01639344262295082,
           0,
           0,
           0,
           0,
           0,
           0.019230769230769232,
           0,
           0,
           0,
           0,
           0,
           0,
           0,
           0,
           0,
           0,
           0,
           0.25,
           0,
           0,
           0,
           0,
           0,
           0,
           0,
           0,
           0,
           0,
           0
          ],
          "colorbar": {
           "borderwidth": 0,
           "nticks": 10,
           "orientation": "v",
           "outlinewidth": 1,
           "showticklabels": true,
           "thickness": 0.025,
           "thicknessmode": "fraction",
           "tickformat": ".2g",
           "tickmode": "auto",
           "tickwidth": 1,
           "title": {
            "side": "right"
           },
           "xanchor": "left",
           "xpad": 0,
           "ypad": 0
          },
          "colorscale": [
           [
            0,
            "rgb(0,0,131)"
           ],
           [
            0.2,
            "rgb(0,60,170)"
           ],
           [
            0.4,
            "rgb(5,255,255)"
           ],
           [
            0.6,
            "rgb(255,255,0)"
           ],
           [
            0.8,
            "rgb(250,0,0)"
           ],
           [
            1,
            "rgb(128,0,0)"
           ]
          ],
          "line": {
           "color": "#777",
           "colorscale": [
            [
             0,
             "rgb(0,0,131)"
            ],
            [
             0.2,
             "rgb(0,60,170)"
            ],
            [
             0.4,
             "rgb(5,255,255)"
            ],
            [
             0.6,
             "rgb(255,255,0)"
            ],
            [
             0.8,
             "rgb(250,0,0)"
            ],
            [
             1,
             "rgb(128,0,0)"
            ]
           ],
           "width": 0.75
          },
          "opacity": 1,
          "reversescale": false,
          "showscale": true,
          "size": [
           25,
           23.122252360375004,
           21.16700660638388,
           5.488212999484517,
           18.712311519682398,
           14.258795636800754,
           15.154823479631666,
           1.9403763142658323,
           1.9403763142658323,
           1.9403763142658323,
           1.9403763142658323,
           1.9403763142658323,
           13.99225258956257,
           4.338813340628896,
           1.9403763142658323,
           4.752931878933584,
           1.9403763142658323,
           5.133753177427503,
           2.7441064997422586,
           2.7441064997422586,
           2.7441064997422586,
           1.9403763142658323,
           2.7441064997422586,
           3.360830362111656,
           3.8807526285316647,
           5.821128942797497,
           1.9403763142658323,
           8.45790426632468,
           3.360830362111656,
           1.9403763142658323,
           1.9403763142658323,
           1.9403763142658323,
           1.9403763142658323,
           2.7441064997422586,
           2.7441064997422586,
           1.9403763142658323
          ]
         },
         "mode": "markers",
         "name": "nodes_trace",
         "opacity": 1,
         "text": [
          "color: 0.0241<br>node: 0<br>size: 166",
          "color: 0.00704<br>node: 8<br>size: 142",
          "color: 0.0084<br>node: 33<br>size: 119",
          "color: 0<br>node: 2<br>size: 8",
          "color: 0.043<br>node: 6<br>size: 93",
          "color: 0.0741<br>node: 10<br>size: 54",
          "color: 0.0164<br>node: 12<br>size: 61",
          "color: 0<br>node: 5<br>size: 1",
          "color: 0<br>node: 21<br>size: 1",
          "color: 0<br>node: 1<br>size: 1",
          "color: 0<br>node: 9<br>size: 1",
          "color: 0<br>node: 34<br>size: 1",
          "color: 0.0192<br>node: 17<br>size: 52",
          "color: 0<br>node: 18<br>size: 5",
          "color: 0<br>node: 30<br>size: 1",
          "color: 0<br>node: 14<br>size: 6",
          "color: 0<br>node: 11<br>size: 1",
          "color: 0<br>node: 20<br>size: 7",
          "color: 0<br>node: 3<br>size: 2",
          "color: 0<br>node: 4<br>size: 2",
          "color: 0<br>node: 23<br>size: 2",
          "color: 0<br>node: 24<br>size: 1",
          "color: 0<br>node: 26<br>size: 2",
          "color: 0<br>node: 25<br>size: 3",
          "color: 0.25<br>node: 27<br>size: 4",
          "color: 0<br>node: 29<br>size: 9",
          "color: 0<br>node: 32<br>size: 1",
          "color: 0<br>node: 31<br>size: 19",
          "color: 0<br>node: 35<br>size: 3",
          "color: 0<br>node: 36<br>size: 1",
          "color: 0<br>node: 28<br>size: 1",
          "color: 0<br>node: 7<br>size: 1",
          "color: 0<br>node: 13<br>size: 1",
          "color: 0<br>node: 15<br>size: 2",
          "color: 0<br>node: 16<br>size: 2",
          "color: 0<br>node: 19<br>size: 1"
         ],
         "type": "scatter3d",
         "x": [
          -0.05590902199711675,
          -0.020903065304843944,
          -0.06734925213808363,
          -0.243967364812481,
          -0.1172886639042932,
          0.0031759369517297153,
          -0.11153252936334543,
          -0.566614811860319,
          -0.5245106323436525,
          0.3042882603103171,
          0.3607522808878054,
          0.3260752086898631,
          -0.05498692510203955,
          0.07837940401526051,
          0.0697006188921162,
          -0.008348189973076875,
          -0.11263416801661257,
          -0.2366020380489499,
          -0.16197791645067414,
          -0.1824902154242034,
          -0.18797001242005756,
          0.2187277391436611,
          -0.340536247694968,
          0.10397812018750253,
          0.09722035184246688,
          -0.07316523303499552,
          0.9269240937197359,
          0.09290726673785495,
          -0.45712666690393816,
          -0.9873842091385546,
          -0.3023753214464324,
          0.9963050228356988,
          1,
          -0.07491587157773633,
          -0.12074518165175735,
          0.43089923439412
         ],
         "y": [
          0.17116716780563962,
          0.3178228331161752,
          0.3017659557660338,
          -0.06007783912084558,
          0.03253078736162154,
          0.06492155134336182,
          0.11045330864418168,
          -0.6077931510170544,
          -0.5633404138349374,
          -0.6678255885698156,
          -0.6871359786433882,
          -0.6975361989200803,
          0.33831038096498306,
          0.0477145486790837,
          0.37746892185364106,
          0.3602283561020954,
          -0.06305091180099279,
          0.9021190475886355,
          0.008268474938788482,
          0.9174739817053155,
          0.8926573713106989,
          -0.9652085839970167,
          -0.09000578683872541,
          -0.47902063683109297,
          -0.4472853156288155,
          0.41764984335916744,
          -0.07984148281412566,
          0.015145279385878032,
          -0.8789723244748946,
          0.26902924848508164,
          -0.13464500202547977,
          -0.18240259090687286,
          -0.14529406062852446,
          0.5141935029680015,
          0.50834783654253,
          0.18216746813174942
         ],
         "z": [
          0.13886062304416044,
          0.08850524400732634,
          0.11379198678620293,
          0.1439893559097865,
          0.17230864069474308,
          0.18804876389165293,
          0.15424658901236796,
          0.5846070969692778,
          0.5431140673516195,
          0.3766483530528175,
          0.3773097850320912,
          0.3295739066401612,
          0.03475865530471893,
          0.2614196045704474,
          0.08258620138508173,
          -0.0010228275171529095,
          0.1878560002129609,
          -0.5003516892934772,
          0.2607522971680315,
          -0.5207110089696066,
          -0.46678956460323573,
          -0.35077708101265254,
          0.1625232700193172,
          -0.7893613563331203,
          -0.731272145458267,
          0.13439937956749054,
          0.39161481992657105,
          0.18356531504119175,
          -0.4525707769831313,
          0.02284210561825363,
          0.10504581078843024,
          -0.2604259448498291,
          -0.3072163790905086,
          0.1733587195166051,
          0.15121378778001068,
          -0.9824416051803367
         ]
        }
       ],
       "layout": {
        "autosize": false,
        "height": 800,
        "hovermode": "closest",
        "margin": {
         "b": 10,
         "l": 10,
         "r": 10,
         "t": 10
        },
        "plot_bgcolor": "rgba(0, 0, 0, 0)",
        "scene": {
         "xaxis": {
          "backgroundcolor": "rgba(0, 0, 0, 0)",
          "gridcolor": "rgba(230, 230, 230, 1.0)",
          "linecolor": "rgba(230, 230, 230, 1.0)",
          "linewidth": 1,
          "mirror": true,
          "showaxeslabels": false,
          "showgrid": true,
          "showline": true,
          "showticklabels": false,
          "title": {
           "text": ""
          },
          "visible": true,
          "zerolinecolor": "rgba(230, 230, 230, 1.0)"
         },
         "yaxis": {
          "backgroundcolor": "rgba(0, 0, 0, 0)",
          "gridcolor": "rgba(230, 230, 230, 1.0)",
          "linecolor": "rgba(230, 230, 230, 1.0)",
          "linewidth": 1,
          "mirror": true,
          "showaxeslabels": false,
          "showgrid": true,
          "showline": true,
          "showticklabels": false,
          "title": {
           "text": ""
          },
          "visible": true,
          "zerolinecolor": "rgba(230, 230, 230, 1.0)"
         },
         "zaxis": {
          "backgroundcolor": "rgba(0, 0, 0, 0)",
          "gridcolor": "rgba(230, 230, 230, 1.0)",
          "linecolor": "rgba(230, 230, 230, 1.0)",
          "linewidth": 1,
          "mirror": true,
          "showaxeslabels": false,
          "showgrid": true,
          "showline": true,
          "showticklabels": false,
          "title": {
           "text": ""
          },
          "visible": true,
          "zerolinecolor": "rgba(230, 230, 230, 1.0)"
         }
        },
        "showlegend": false,
        "template": {
         "data": {
          "bar": [
           {
            "error_x": {
             "color": "#2a3f5f"
            },
            "error_y": {
             "color": "#2a3f5f"
            },
            "marker": {
             "line": {
              "color": "#E5ECF6",
              "width": 0.5
             },
             "pattern": {
              "fillmode": "overlay",
              "size": 10,
              "solidity": 0.2
             }
            },
            "type": "bar"
           }
          ],
          "barpolar": [
           {
            "marker": {
             "line": {
              "color": "#E5ECF6",
              "width": 0.5
             },
             "pattern": {
              "fillmode": "overlay",
              "size": 10,
              "solidity": 0.2
             }
            },
            "type": "barpolar"
           }
          ],
          "carpet": [
           {
            "aaxis": {
             "endlinecolor": "#2a3f5f",
             "gridcolor": "white",
             "linecolor": "white",
             "minorgridcolor": "white",
             "startlinecolor": "#2a3f5f"
            },
            "baxis": {
             "endlinecolor": "#2a3f5f",
             "gridcolor": "white",
             "linecolor": "white",
             "minorgridcolor": "white",
             "startlinecolor": "#2a3f5f"
            },
            "type": "carpet"
           }
          ],
          "choropleth": [
           {
            "colorbar": {
             "outlinewidth": 0,
             "ticks": ""
            },
            "type": "choropleth"
           }
          ],
          "contour": [
           {
            "colorbar": {
             "outlinewidth": 0,
             "ticks": ""
            },
            "colorscale": [
             [
              0,
              "#0d0887"
             ],
             [
              0.1111111111111111,
              "#46039f"
             ],
             [
              0.2222222222222222,
              "#7201a8"
             ],
             [
              0.3333333333333333,
              "#9c179e"
             ],
             [
              0.4444444444444444,
              "#bd3786"
             ],
             [
              0.5555555555555556,
              "#d8576b"
             ],
             [
              0.6666666666666666,
              "#ed7953"
             ],
             [
              0.7777777777777778,
              "#fb9f3a"
             ],
             [
              0.8888888888888888,
              "#fdca26"
             ],
             [
              1,
              "#f0f921"
             ]
            ],
            "type": "contour"
           }
          ],
          "contourcarpet": [
           {
            "colorbar": {
             "outlinewidth": 0,
             "ticks": ""
            },
            "type": "contourcarpet"
           }
          ],
          "heatmap": [
           {
            "colorbar": {
             "outlinewidth": 0,
             "ticks": ""
            },
            "colorscale": [
             [
              0,
              "#0d0887"
             ],
             [
              0.1111111111111111,
              "#46039f"
             ],
             [
              0.2222222222222222,
              "#7201a8"
             ],
             [
              0.3333333333333333,
              "#9c179e"
             ],
             [
              0.4444444444444444,
              "#bd3786"
             ],
             [
              0.5555555555555556,
              "#d8576b"
             ],
             [
              0.6666666666666666,
              "#ed7953"
             ],
             [
              0.7777777777777778,
              "#fb9f3a"
             ],
             [
              0.8888888888888888,
              "#fdca26"
             ],
             [
              1,
              "#f0f921"
             ]
            ],
            "type": "heatmap"
           }
          ],
          "heatmapgl": [
           {
            "colorbar": {
             "outlinewidth": 0,
             "ticks": ""
            },
            "colorscale": [
             [
              0,
              "#0d0887"
             ],
             [
              0.1111111111111111,
              "#46039f"
             ],
             [
              0.2222222222222222,
              "#7201a8"
             ],
             [
              0.3333333333333333,
              "#9c179e"
             ],
             [
              0.4444444444444444,
              "#bd3786"
             ],
             [
              0.5555555555555556,
              "#d8576b"
             ],
             [
              0.6666666666666666,
              "#ed7953"
             ],
             [
              0.7777777777777778,
              "#fb9f3a"
             ],
             [
              0.8888888888888888,
              "#fdca26"
             ],
             [
              1,
              "#f0f921"
             ]
            ],
            "type": "heatmapgl"
           }
          ],
          "histogram": [
           {
            "marker": {
             "pattern": {
              "fillmode": "overlay",
              "size": 10,
              "solidity": 0.2
             }
            },
            "type": "histogram"
           }
          ],
          "histogram2d": [
           {
            "colorbar": {
             "outlinewidth": 0,
             "ticks": ""
            },
            "colorscale": [
             [
              0,
              "#0d0887"
             ],
             [
              0.1111111111111111,
              "#46039f"
             ],
             [
              0.2222222222222222,
              "#7201a8"
             ],
             [
              0.3333333333333333,
              "#9c179e"
             ],
             [
              0.4444444444444444,
              "#bd3786"
             ],
             [
              0.5555555555555556,
              "#d8576b"
             ],
             [
              0.6666666666666666,
              "#ed7953"
             ],
             [
              0.7777777777777778,
              "#fb9f3a"
             ],
             [
              0.8888888888888888,
              "#fdca26"
             ],
             [
              1,
              "#f0f921"
             ]
            ],
            "type": "histogram2d"
           }
          ],
          "histogram2dcontour": [
           {
            "colorbar": {
             "outlinewidth": 0,
             "ticks": ""
            },
            "colorscale": [
             [
              0,
              "#0d0887"
             ],
             [
              0.1111111111111111,
              "#46039f"
             ],
             [
              0.2222222222222222,
              "#7201a8"
             ],
             [
              0.3333333333333333,
              "#9c179e"
             ],
             [
              0.4444444444444444,
              "#bd3786"
             ],
             [
              0.5555555555555556,
              "#d8576b"
             ],
             [
              0.6666666666666666,
              "#ed7953"
             ],
             [
              0.7777777777777778,
              "#fb9f3a"
             ],
             [
              0.8888888888888888,
              "#fdca26"
             ],
             [
              1,
              "#f0f921"
             ]
            ],
            "type": "histogram2dcontour"
           }
          ],
          "mesh3d": [
           {
            "colorbar": {
             "outlinewidth": 0,
             "ticks": ""
            },
            "type": "mesh3d"
           }
          ],
          "parcoords": [
           {
            "line": {
             "colorbar": {
              "outlinewidth": 0,
              "ticks": ""
             }
            },
            "type": "parcoords"
           }
          ],
          "pie": [
           {
            "automargin": true,
            "type": "pie"
           }
          ],
          "scatter": [
           {
            "fillpattern": {
             "fillmode": "overlay",
             "size": 10,
             "solidity": 0.2
            },
            "type": "scatter"
           }
          ],
          "scatter3d": [
           {
            "line": {
             "colorbar": {
              "outlinewidth": 0,
              "ticks": ""
             }
            },
            "marker": {
             "colorbar": {
              "outlinewidth": 0,
              "ticks": ""
             }
            },
            "type": "scatter3d"
           }
          ],
          "scattercarpet": [
           {
            "marker": {
             "colorbar": {
              "outlinewidth": 0,
              "ticks": ""
             }
            },
            "type": "scattercarpet"
           }
          ],
          "scattergeo": [
           {
            "marker": {
             "colorbar": {
              "outlinewidth": 0,
              "ticks": ""
             }
            },
            "type": "scattergeo"
           }
          ],
          "scattergl": [
           {
            "marker": {
             "colorbar": {
              "outlinewidth": 0,
              "ticks": ""
             }
            },
            "type": "scattergl"
           }
          ],
          "scattermapbox": [
           {
            "marker": {
             "colorbar": {
              "outlinewidth": 0,
              "ticks": ""
             }
            },
            "type": "scattermapbox"
           }
          ],
          "scatterpolar": [
           {
            "marker": {
             "colorbar": {
              "outlinewidth": 0,
              "ticks": ""
             }
            },
            "type": "scatterpolar"
           }
          ],
          "scatterpolargl": [
           {
            "marker": {
             "colorbar": {
              "outlinewidth": 0,
              "ticks": ""
             }
            },
            "type": "scatterpolargl"
           }
          ],
          "scatterternary": [
           {
            "marker": {
             "colorbar": {
              "outlinewidth": 0,
              "ticks": ""
             }
            },
            "type": "scatterternary"
           }
          ],
          "surface": [
           {
            "colorbar": {
             "outlinewidth": 0,
             "ticks": ""
            },
            "colorscale": [
             [
              0,
              "#0d0887"
             ],
             [
              0.1111111111111111,
              "#46039f"
             ],
             [
              0.2222222222222222,
              "#7201a8"
             ],
             [
              0.3333333333333333,
              "#9c179e"
             ],
             [
              0.4444444444444444,
              "#bd3786"
             ],
             [
              0.5555555555555556,
              "#d8576b"
             ],
             [
              0.6666666666666666,
              "#ed7953"
             ],
             [
              0.7777777777777778,
              "#fb9f3a"
             ],
             [
              0.8888888888888888,
              "#fdca26"
             ],
             [
              1,
              "#f0f921"
             ]
            ],
            "type": "surface"
           }
          ],
          "table": [
           {
            "cells": {
             "fill": {
              "color": "#EBF0F8"
             },
             "line": {
              "color": "white"
             }
            },
            "header": {
             "fill": {
              "color": "#C8D4E3"
             },
             "line": {
              "color": "white"
             }
            },
            "type": "table"
           }
          ]
         },
         "layout": {
          "annotationdefaults": {
           "arrowcolor": "#2a3f5f",
           "arrowhead": 0,
           "arrowwidth": 1
          },
          "autotypenumbers": "strict",
          "coloraxis": {
           "colorbar": {
            "outlinewidth": 0,
            "ticks": ""
           }
          },
          "colorscale": {
           "diverging": [
            [
             0,
             "#8e0152"
            ],
            [
             0.1,
             "#c51b7d"
            ],
            [
             0.2,
             "#de77ae"
            ],
            [
             0.3,
             "#f1b6da"
            ],
            [
             0.4,
             "#fde0ef"
            ],
            [
             0.5,
             "#f7f7f7"
            ],
            [
             0.6,
             "#e6f5d0"
            ],
            [
             0.7,
             "#b8e186"
            ],
            [
             0.8,
             "#7fbc41"
            ],
            [
             0.9,
             "#4d9221"
            ],
            [
             1,
             "#276419"
            ]
           ],
           "sequential": [
            [
             0,
             "#0d0887"
            ],
            [
             0.1111111111111111,
             "#46039f"
            ],
            [
             0.2222222222222222,
             "#7201a8"
            ],
            [
             0.3333333333333333,
             "#9c179e"
            ],
            [
             0.4444444444444444,
             "#bd3786"
            ],
            [
             0.5555555555555556,
             "#d8576b"
            ],
            [
             0.6666666666666666,
             "#ed7953"
            ],
            [
             0.7777777777777778,
             "#fb9f3a"
            ],
            [
             0.8888888888888888,
             "#fdca26"
            ],
            [
             1,
             "#f0f921"
            ]
           ],
           "sequentialminus": [
            [
             0,
             "#0d0887"
            ],
            [
             0.1111111111111111,
             "#46039f"
            ],
            [
             0.2222222222222222,
             "#7201a8"
            ],
            [
             0.3333333333333333,
             "#9c179e"
            ],
            [
             0.4444444444444444,
             "#bd3786"
            ],
            [
             0.5555555555555556,
             "#d8576b"
            ],
            [
             0.6666666666666666,
             "#ed7953"
            ],
            [
             0.7777777777777778,
             "#fb9f3a"
            ],
            [
             0.8888888888888888,
             "#fdca26"
            ],
            [
             1,
             "#f0f921"
            ]
           ]
          },
          "colorway": [
           "#636efa",
           "#EF553B",
           "#00cc96",
           "#ab63fa",
           "#FFA15A",
           "#19d3f3",
           "#FF6692",
           "#B6E880",
           "#FF97FF",
           "#FECB52"
          ],
          "font": {
           "color": "#2a3f5f"
          },
          "geo": {
           "bgcolor": "white",
           "lakecolor": "white",
           "landcolor": "#E5ECF6",
           "showlakes": true,
           "showland": true,
           "subunitcolor": "white"
          },
          "hoverlabel": {
           "align": "left"
          },
          "hovermode": "closest",
          "mapbox": {
           "style": "light"
          },
          "paper_bgcolor": "white",
          "plot_bgcolor": "#E5ECF6",
          "polar": {
           "angularaxis": {
            "gridcolor": "white",
            "linecolor": "white",
            "ticks": ""
           },
           "bgcolor": "#E5ECF6",
           "radialaxis": {
            "gridcolor": "white",
            "linecolor": "white",
            "ticks": ""
           }
          },
          "scene": {
           "xaxis": {
            "backgroundcolor": "#E5ECF6",
            "gridcolor": "white",
            "gridwidth": 2,
            "linecolor": "white",
            "showbackground": true,
            "ticks": "",
            "zerolinecolor": "white"
           },
           "yaxis": {
            "backgroundcolor": "#E5ECF6",
            "gridcolor": "white",
            "gridwidth": 2,
            "linecolor": "white",
            "showbackground": true,
            "ticks": "",
            "zerolinecolor": "white"
           },
           "zaxis": {
            "backgroundcolor": "#E5ECF6",
            "gridcolor": "white",
            "gridwidth": 2,
            "linecolor": "white",
            "showbackground": true,
            "ticks": "",
            "zerolinecolor": "white"
           }
          },
          "shapedefaults": {
           "line": {
            "color": "#2a3f5f"
           }
          },
          "ternary": {
           "aaxis": {
            "gridcolor": "white",
            "linecolor": "white",
            "ticks": ""
           },
           "baxis": {
            "gridcolor": "white",
            "linecolor": "white",
            "ticks": ""
           },
           "bgcolor": "#E5ECF6",
           "caxis": {
            "gridcolor": "white",
            "linecolor": "white",
            "ticks": ""
           }
          },
          "title": {
           "x": 0.05
          },
          "xaxis": {
           "automargin": true,
           "gridcolor": "white",
           "linecolor": "white",
           "ticks": "",
           "title": {
            "standoff": 15
           },
           "zerolinecolor": "white",
           "zerolinewidth": 2
          },
          "yaxis": {
           "automargin": true,
           "gridcolor": "white",
           "linecolor": "white",
           "ticks": "",
           "title": {
            "standoff": 15
           },
           "zerolinecolor": "white",
           "zerolinewidth": 2
          }
         }
        },
        "uirevision": "constant",
        "width": 800,
        "xaxis": {
         "linewidth": 1,
         "mirror": true,
         "showgrid": false,
         "showline": true,
         "showticklabels": false,
         "title": {
          "text": ""
         },
         "visible": true,
         "zeroline": false
        },
        "yaxis": {
         "linewidth": 1,
         "mirror": true,
         "showgrid": false,
         "showline": true,
         "showticklabels": false,
         "title": {
          "text": ""
         },
         "visible": true,
         "zeroline": false
        }
       }
      }
     },
     "metadata": {},
     "output_type": "display_data"
    }
   ],
   "source": [
    "mapper_plot1 = MapperLayoutInteractive(\n",
    "    detailed_results_df['mapper_info'].iloc[-1][0],\n",
    "    colors = rbind_data['死亡'].to_numpy(),\n",
    "    # colors=rbind_data['肇因研判子類別名稱-個別'].to_numpy(),\n",
    "    cmap = 'jet',\n",
    "    agg = average_encoded_label,\n",
    "    # agg = most_common_encoded_label,\n",
    "    dim = 3,\n",
    "    iterations = 50,\n",
    "    seed = 10,\n",
    "    width = 800,\n",
    "    height = 800)\n",
    "\n",
    "fig_mean1 = mapper_plot1.plot()\n",
    "fig_mean1.show(config={'scrollZoom': True})"
   ]
  }
 ],
 "metadata": {
  "kernelspec": {
   "display_name": "Cllava",
   "language": "python",
   "name": "python3"
  },
  "language_info": {
   "codemirror_mode": {
    "name": "ipython",
    "version": 3
   },
   "file_extension": ".py",
   "mimetype": "text/x-python",
   "name": "python",
   "nbconvert_exporter": "python",
   "pygments_lexer": "ipython3",
   "version": "3.10.13"
  },
  "orig_nbformat": 4
 },
 "nbformat": 4,
 "nbformat_minor": 2
}

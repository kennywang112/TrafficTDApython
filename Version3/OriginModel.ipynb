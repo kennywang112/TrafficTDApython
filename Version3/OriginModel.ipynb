{
 "cells": [
  {
   "cell_type": "code",
   "execution_count": 3,
   "metadata": {},
   "outputs": [],
   "source": [
    "import os\n",
    "import sys\n",
    "import time\n",
    "import pickle\n",
    "import prince\n",
    "import numpy as np\n",
    "import pandas as pd\n",
    "import seaborn as sns\n",
    "import matplotlib.pyplot as plt\n",
    "import matplotlib.cm as cm\n",
    "from matplotlib.cm import get_cmap\n",
    "from matplotlib.font_manager import FontProperties\n",
    "\n",
    "# 獲取當前工作目錄\n",
    "current_dir = os.getcwd()\n",
    "version3_path = os.path.join(current_dir, \"TrafficTDApython\", \"Version3\", \"tdamapper\", \"core_old.py\")\n",
    "\n",
    "from sklearn.utils import resample\n",
    "from sklearn.cluster import AgglomerativeClustering\n",
    "from tdamapper.core_old import MapperAlgorithm\n",
    "from tdamapper.cover import CubicalCover\n",
    "from tdamapper.clustering import FailSafeClustering\n",
    "from tdamapper.plot import MapperLayoutInteractive, MapperPlot\n",
    "\n",
    "from models import *\n",
    "from utils_v3 import *\n",
    "from plots import *\n",
    "\n",
    "try:\n",
    "    myfont = FontProperties(fname=r\"/System/Library/Fonts/PingFang.ttc\")\n",
    "    sns.set(style=\"whitegrid\", font=myfont.get_name())\n",
    "except Exception as e:\n",
    "    print(e)\n",
    "\n",
    "plt.rcParams['font.sans-serif'] = ['Microsoft YaHei']\n",
    "plt.rcParams['axes.unicode_minus'] = False"
   ]
  },
  {
   "cell_type": "code",
   "execution_count": 42,
   "metadata": {},
   "outputs": [],
   "source": [
    "dataA2 = pd.read_csv(\"../Version3/Data/A2.csv\", low_memory=False)\n",
    "dataA1 = pd.read_csv(\"../Version3/Data/A1.csv\")"
   ]
  },
  {
   "cell_type": "code",
   "execution_count": 50,
   "metadata": {},
   "outputs": [],
   "source": [
    "# car data\n",
    "car_0 = pd.read_csv(os.path.join(current_dir, \"Data/CarData/full_0.csv\"), encoding='utf-8')\n",
    "car_1 = pd.read_csv(os.path.join(current_dir, \"Data/CarData/full_1.csv\"), encoding='utf-8')\n",
    "car_2 = pd.read_csv(os.path.join(current_dir, \"Data/CarData/full_2.csv\"), encoding='utf-8')\n",
    "car_3 = pd.read_csv(os.path.join(current_dir, \"Data/CarData/full_3.csv\"), encoding='utf-8')\n",
    "car_21 = pd.read_csv(os.path.join(current_dir, \"Data/CarData/full_21.csv\"), encoding='utf-8')\n",
    "car_out = pd.read_csv(os.path.join(current_dir, \"Data/CarData/full_out.csv\"), encoding='utf-8')\n",
    "# pass data\n",
    "pass_data = pd.read_csv(os.path.join(current_dir, \"Data/PassData/full.csv\"), encoding='utf-8')\n",
    "# full data\n",
    "full_car = pd.concat([car_0, car_1, car_2, car_3, car_21, car_out], axis=0)\n",
    "full_car['當事者行動狀態大類別名稱'] = 'car'\n",
    "pass_data['當事者行動狀態大類別名稱'] = 'pass'\n",
    "full_data = pd.concat([car_0, car_1, car_2, car_3, car_21, car_out, pass_data], axis=0)"
   ]
  },
  {
   "cell_type": "code",
   "execution_count": 60,
   "metadata": {},
   "outputs": [],
   "source": [
    "select_lst = [\n",
    "    '天候名稱', '光線名稱', \n",
    "    '道路類別-第1當事者-名稱', '速限-第1當事者', \n",
    "    '路面狀況-路面鋪裝名稱', '路面狀況-路面狀態名稱', '路面狀況-路面缺陷名稱',\n",
    "    '道路障礙-障礙物名稱', '道路障礙-視距品質名稱', '道路障礙-視距名稱',\n",
    "    '號誌-號誌種類名稱', '號誌-號誌動作名稱',\n",
    "    '車道劃分設施-分道設施-快車道或一般車道間名稱', '車道劃分設施-分道設施-快慢車道間名稱', '車道劃分設施-分道設施-路面邊線名稱',\n",
    "    '當事者屬-性-別名稱', '當事者事故發生時年齡',\n",
    "    '保護裝備名稱', '行動電話或電腦或其他相類功能裝置名稱',\n",
    "    '肇事逃逸類別名稱-是否肇逃',\n",
    "\n",
    "    # 大類別\n",
    "    '道路型態大類別名稱', '事故位置大類別名稱',\n",
    "    '車道劃分設施-分向設施大類別名稱',\n",
    "    '事故類型及型態大類別名稱', '當事者區分-類別-大類別名稱-車種',\n",
    "    '車輛撞擊部位大類別名稱-最初', '車輛撞擊部位大類別名稱-其他',\n",
    "\n",
    "    # 兩個欄位只有兩個觀察值不同\n",
    "    '肇因研判大類別名稱-主要',\n",
    "    # '肇因研判大類別名稱-個別',\n",
    "]\n",
    "\n",
    "# select data\n",
    "car_0 = car_0[select_lst]\n",
    "car_1 = car_1[select_lst]\n",
    "car_2 = car_2[select_lst]\n",
    "car_3 = car_3[select_lst]\n",
    "car_21 = car_21[select_lst]\n",
    "car_out = car_out[select_lst]\n",
    "pass_data = pass_data[select_lst]\n",
    "select_lst.append('當事者行動狀態大類別名稱')\n",
    "full_data = full_data[select_lst]"
   ]
  },
  {
   "cell_type": "code",
   "execution_count": 8,
   "metadata": {},
   "outputs": [],
   "source": [
    "def get_train_test_data(input_data):\n",
    "    input_data['y'] = input_data['死亡'].apply(lambda x: 1 if x >= 1 else 0)\n",
    "    \n",
    "    new_input_data = input_data.drop(columns=['受傷', '死亡'], inplace=False)\n",
    "    \n",
    "    X = new_input_data.drop(columns=['y'])\n",
    "    y = new_input_data['y']\n",
    "\n",
    "    return X, y\n",
    "\n",
    "Xfull, yfull = get_train_test_data(dummy_data)\n",
    "Xfull = Xfull.astype(float)"
   ]
  },
  {
   "cell_type": "code",
   "execution_count": null,
   "metadata": {},
   "outputs": [],
   "source": [
    "full_svc_matrix, full_svc_score, full_svc_cm, full_svc_y_resampled_test, full_svc_decision_scores = logistic_cm_gridsearch(Xfull, yfull, threshold=5)"
   ]
  },
  {
   "cell_type": "code",
   "execution_count": 30,
   "metadata": {},
   "outputs": [
    {
     "name": "stdout",
     "output_type": "stream",
     "text": [
      "[[90 30]\n",
      " [37 83]]\n",
      "0.7208333333333333\n"
     ]
    }
   ],
   "source": [
    "y_pred = (full_svc_decision_scores >= 0.4).astype(int)\n",
    "\n",
    "conf_matrix = confusion_matrix(full_svc_y_resampled_test, y_pred)\n",
    "\n",
    "print(conf_matrix)\n",
    "print(accuracy_score(full_svc_y_resampled_test, y_pred))"
   ]
  }
 ],
 "metadata": {
  "kernelspec": {
   "display_name": "Cllava",
   "language": "python",
   "name": "python3"
  },
  "language_info": {
   "codemirror_mode": {
    "name": "ipython",
    "version": 3
   },
   "file_extension": ".py",
   "mimetype": "text/x-python",
   "name": "python",
   "nbconvert_exporter": "python",
   "pygments_lexer": "ipython3",
   "version": "3.10.13"
  }
 },
 "nbformat": 4,
 "nbformat_minor": 2
}

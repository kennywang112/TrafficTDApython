{
 "cells": [
  {
   "cell_type": "code",
   "execution_count": 1,
   "metadata": {},
   "outputs": [
    {
     "name": "stdout",
     "output_type": "stream",
     "text": [
      "[Errno 2] No such file or directory: 'C:\\\\System\\\\Library\\\\Fonts\\\\PingFang.ttc'\n"
     ]
    }
   ],
   "source": [
    "import os\n",
    "import numpy as np\n",
    "import pandas as pd\n",
    "import seaborn as sns\n",
    "import matplotlib.pyplot as plt\n",
    "import matplotlib.cm as cm\n",
    "from matplotlib.cm import get_cmap\n",
    "from matplotlib.font_manager import FontProperties\n",
    "\n",
    "# 獲取當前工作目錄\n",
    "current_dir = os.getcwd()\n",
    "version3_path = os.path.join(current_dir, \"TrafficTDApython\", \"Version3\", \"tdamapper\", \"core_old.py\")\n",
    "\n",
    "from models import *\n",
    "from utils_v3 import *\n",
    "from plots import *\n",
    "\n",
    "try:\n",
    "    myfont = FontProperties(fname=r\"/System/Library/Fonts/PingFang.ttc\")\n",
    "    sns.set(style=\"whitegrid\", font=myfont.get_name())\n",
    "except Exception as e:\n",
    "    print(e)\n",
    "\n",
    "plt.rcParams['font.sans-serif'] = ['Microsoft YaHei']\n",
    "plt.rcParams['axes.unicode_minus'] = False"
   ]
  },
  {
   "cell_type": "code",
   "execution_count": 2,
   "metadata": {},
   "outputs": [],
   "source": [
    "dataA2 = pd.read_csv(\"./Data/A2.csv\", low_memory=False)\n",
    "dataA1 = pd.read_csv(\"./Data/A1.csv\")"
   ]
  },
  {
   "cell_type": "code",
   "execution_count": 3,
   "metadata": {},
   "outputs": [],
   "source": [
    "# car data\n",
    "car_data = pd.read_csv(os.path.join(current_dir, \"Data/CarData/full.csv\"), encoding='utf-8')\n",
    "# pass data\n",
    "pass_data = pd.read_csv(os.path.join(current_dir, \"Data/PassData/full.csv\"), encoding='utf-8')\n",
    "# full data\n",
    "car_data['當事者行動狀態大類別名稱'] = 'car'\n",
    "pass_data['當事者行動狀態大類別名稱'] = 'pass'\n",
    "full_data = pd.concat([car_data, pass_data], axis=0)\n",
    "car_data.drop(columns=['當事者行動狀態大類別名稱'], inplace=True)\n",
    "pass_data.drop(columns=['當事者行動狀態大類別名稱'], inplace=True)"
   ]
  },
  {
   "cell_type": "code",
   "execution_count": 4,
   "metadata": {},
   "outputs": [],
   "source": [
    "select_lst = [\n",
    "    '天候名稱', '光線名稱', \n",
    "    '道路類別-第1當事者-名稱', '速限-第1當事者', \n",
    "    '路面狀況-路面鋪裝名稱', '路面狀況-路面狀態名稱', '路面狀況-路面缺陷名稱',\n",
    "    '道路障礙-障礙物名稱', '道路障礙-視距品質名稱', '道路障礙-視距名稱',\n",
    "    '號誌-號誌種類名稱', '號誌-號誌動作名稱',\n",
    "    '車道劃分設施-分道設施-快車道或一般車道間名稱', '車道劃分設施-分道設施-快慢車道間名稱', '車道劃分設施-分道設施-路面邊線名稱',\n",
    "    '當事者屬-性-別名稱', '當事者事故發生時年齡',\n",
    "    '保護裝備名稱', '行動電話或電腦或其他相類功能裝置名稱',\n",
    "    '肇事逃逸類別名稱-是否肇逃',\n",
    "\n",
    "    # 大類別\n",
    "    '道路型態大類別名稱', '事故位置大類別名稱',\n",
    "    '車道劃分設施-分向設施大類別名稱',\n",
    "    '事故類型及型態大類別名稱', '當事者區分-類別-大類別名稱-車種',\n",
    "    '車輛撞擊部位大類別名稱-最初', \n",
    "    '車輛撞擊部位大類別名稱-其他',\n",
    "\n",
    "    # 兩個欄位只有兩個觀察值不同\n",
    "    '肇因研判大類別名稱-主要',\n",
    "    # '肇因研判大類別名稱-個別',\n",
    "    '受傷', '死亡'\n",
    "]\n",
    "\n",
    "# select data\n",
    "car_data = car_data[select_lst]\n",
    "select_lst.remove('車輛撞擊部位大類別名稱-最初')\n",
    "pass_data = pass_data[select_lst]\n",
    "select_lst.append('車輛撞擊部位大類別名稱-最初')\n",
    "select_lst.append('當事者行動狀態大類別名稱')\n",
    "full_data = full_data[select_lst]"
   ]
  },
  {
   "cell_type": "code",
   "execution_count": 11,
   "metadata": {},
   "outputs": [],
   "source": [
    "car_data = pd.get_dummies(car_data)\n",
    "pass_data = pd.get_dummies(pass_data)\n",
    "full_data = pd.get_dummies(full_data)\n",
    "\n",
    "car_data_X, car_data_y = get_train_test_data(car_data)\n",
    "pass_data_X, pass_data_y = get_train_test_data(pass_data)\n",
    "full_data_X, full_data_y = get_train_test_data(full_data)\n",
    "\n",
    "assert car_data_X.shape[0] + pass_data_X.shape[0] == full_data_X.shape[0]"
   ]
  },
  {
   "cell_type": "code",
   "execution_count": 12,
   "metadata": {},
   "outputs": [
    {
     "name": "stdout",
     "output_type": "stream",
     "text": [
      "Best parameters for this fold: {'C': 10, 'penalty': 'l1'}\n",
      "Best parameters for this fold: {'C': 10, 'penalty': 'l1'}\n",
      "Best parameters for this fold: {'C': 10, 'penalty': 'l2'}\n",
      "Best parameters for this fold: {'C': 10, 'penalty': 'l2'}\n",
      "Best parameters for this fold: {'C': 10, 'penalty': 'l1'}\n",
      "pass logistic done\n",
      "Best parameters for this fold: {'C': 10, 'penalty': 'l1'}\n",
      "Best parameters for this fold: {'C': 10, 'penalty': 'l2'}\n",
      "Best parameters for this fold: {'C': 10, 'penalty': 'l1'}\n",
      "Best parameters for this fold: {'C': 10, 'penalty': 'l1'}\n",
      "Best parameters for this fold: {'C': 10, 'penalty': 'l1'}\n",
      "car logistic done\n",
      "Best parameters for this fold: {'C': 10, 'penalty': 'l1'}\n",
      "Best parameters for this fold: {'C': 10, 'penalty': 'l2'}\n",
      "Best parameters for this fold: {'C': 10, 'penalty': 'l1'}\n",
      "Best parameters for this fold: {'C': 10, 'penalty': 'l1'}\n",
      "Best parameters for this fold: {'C': 10, 'penalty': 'l2'}\n",
      "full logistic done\n"
     ]
    },
    {
     "name": "stderr",
     "output_type": "stream",
     "text": [
      "c:\\Users\\USER\\anaconda3\\lib\\site-packages\\sklearn\\svm\\_base.py:1235: ConvergenceWarning: Liblinear failed to converge, increase the number of iterations.\n",
      "  warnings.warn(\n"
     ]
    },
    {
     "name": "stdout",
     "output_type": "stream",
     "text": [
      "Best parameters for this fold: {'C': 100, 'loss': 'hinge'}\n"
     ]
    },
    {
     "name": "stderr",
     "output_type": "stream",
     "text": [
      "c:\\Users\\USER\\anaconda3\\lib\\site-packages\\sklearn\\svm\\_base.py:1235: ConvergenceWarning: Liblinear failed to converge, increase the number of iterations.\n",
      "  warnings.warn(\n"
     ]
    },
    {
     "name": "stdout",
     "output_type": "stream",
     "text": [
      "Best parameters for this fold: {'C': 100, 'loss': 'hinge'}\n"
     ]
    },
    {
     "name": "stderr",
     "output_type": "stream",
     "text": [
      "c:\\Users\\USER\\anaconda3\\lib\\site-packages\\sklearn\\svm\\_base.py:1235: ConvergenceWarning: Liblinear failed to converge, increase the number of iterations.\n",
      "  warnings.warn(\n"
     ]
    },
    {
     "name": "stdout",
     "output_type": "stream",
     "text": [
      "Best parameters for this fold: {'C': 100, 'loss': 'hinge'}\n"
     ]
    },
    {
     "name": "stderr",
     "output_type": "stream",
     "text": [
      "c:\\Users\\USER\\anaconda3\\lib\\site-packages\\sklearn\\svm\\_base.py:1235: ConvergenceWarning: Liblinear failed to converge, increase the number of iterations.\n",
      "  warnings.warn(\n"
     ]
    },
    {
     "name": "stdout",
     "output_type": "stream",
     "text": [
      "Best parameters for this fold: {'C': 10, 'loss': 'hinge'}\n"
     ]
    },
    {
     "name": "stderr",
     "output_type": "stream",
     "text": [
      "c:\\Users\\USER\\anaconda3\\lib\\site-packages\\sklearn\\svm\\_base.py:1235: ConvergenceWarning: Liblinear failed to converge, increase the number of iterations.\n",
      "  warnings.warn(\n"
     ]
    },
    {
     "name": "stdout",
     "output_type": "stream",
     "text": [
      "Best parameters for this fold: {'C': 10, 'loss': 'hinge'}\n",
      "pass svc done\n"
     ]
    },
    {
     "name": "stderr",
     "output_type": "stream",
     "text": [
      "c:\\Users\\USER\\anaconda3\\lib\\site-packages\\sklearn\\svm\\_base.py:1235: ConvergenceWarning: Liblinear failed to converge, increase the number of iterations.\n",
      "  warnings.warn(\n"
     ]
    },
    {
     "name": "stdout",
     "output_type": "stream",
     "text": [
      "Best parameters for this fold: {'C': 10, 'loss': 'hinge'}\n"
     ]
    },
    {
     "name": "stderr",
     "output_type": "stream",
     "text": [
      "c:\\Users\\USER\\anaconda3\\lib\\site-packages\\sklearn\\svm\\_base.py:1235: ConvergenceWarning: Liblinear failed to converge, increase the number of iterations.\n",
      "  warnings.warn(\n"
     ]
    },
    {
     "name": "stdout",
     "output_type": "stream",
     "text": [
      "Best parameters for this fold: {'C': 100, 'loss': 'hinge'}\n"
     ]
    },
    {
     "name": "stderr",
     "output_type": "stream",
     "text": [
      "c:\\Users\\USER\\anaconda3\\lib\\site-packages\\sklearn\\svm\\_base.py:1235: ConvergenceWarning: Liblinear failed to converge, increase the number of iterations.\n",
      "  warnings.warn(\n"
     ]
    },
    {
     "name": "stdout",
     "output_type": "stream",
     "text": [
      "Best parameters for this fold: {'C': 10, 'loss': 'hinge'}\n"
     ]
    },
    {
     "name": "stderr",
     "output_type": "stream",
     "text": [
      "c:\\Users\\USER\\anaconda3\\lib\\site-packages\\sklearn\\svm\\_base.py:1235: ConvergenceWarning: Liblinear failed to converge, increase the number of iterations.\n",
      "  warnings.warn(\n"
     ]
    },
    {
     "name": "stdout",
     "output_type": "stream",
     "text": [
      "Best parameters for this fold: {'C': 10, 'loss': 'hinge'}\n"
     ]
    },
    {
     "name": "stderr",
     "output_type": "stream",
     "text": [
      "c:\\Users\\USER\\anaconda3\\lib\\site-packages\\sklearn\\svm\\_base.py:1235: ConvergenceWarning: Liblinear failed to converge, increase the number of iterations.\n",
      "  warnings.warn(\n"
     ]
    },
    {
     "name": "stdout",
     "output_type": "stream",
     "text": [
      "Best parameters for this fold: {'C': 100, 'loss': 'hinge'}\n",
      "car svc done\n"
     ]
    },
    {
     "name": "stderr",
     "output_type": "stream",
     "text": [
      "c:\\Users\\USER\\anaconda3\\lib\\site-packages\\sklearn\\svm\\_base.py:1235: ConvergenceWarning: Liblinear failed to converge, increase the number of iterations.\n",
      "  warnings.warn(\n"
     ]
    },
    {
     "name": "stdout",
     "output_type": "stream",
     "text": [
      "Best parameters for this fold: {'C': 100, 'loss': 'hinge'}\n"
     ]
    },
    {
     "name": "stderr",
     "output_type": "stream",
     "text": [
      "c:\\Users\\USER\\anaconda3\\lib\\site-packages\\sklearn\\svm\\_base.py:1235: ConvergenceWarning: Liblinear failed to converge, increase the number of iterations.\n",
      "  warnings.warn(\n"
     ]
    },
    {
     "name": "stdout",
     "output_type": "stream",
     "text": [
      "Best parameters for this fold: {'C': 100, 'loss': 'hinge'}\n",
      "Best parameters for this fold: {'C': 0.1, 'loss': 'hinge'}\n"
     ]
    },
    {
     "name": "stderr",
     "output_type": "stream",
     "text": [
      "c:\\Users\\USER\\anaconda3\\lib\\site-packages\\sklearn\\svm\\_base.py:1235: ConvergenceWarning: Liblinear failed to converge, increase the number of iterations.\n",
      "  warnings.warn(\n"
     ]
    },
    {
     "name": "stdout",
     "output_type": "stream",
     "text": [
      "Best parameters for this fold: {'C': 100, 'loss': 'hinge'}\n",
      "Best parameters for this fold: {'C': 0.1, 'loss': 'hinge'}\n",
      "full svc done\n"
     ]
    }
   ],
   "source": [
    "import pickle\n",
    "\n",
    "pass_y_resampled_test_log, pass_decision_scores_log, pass_indices_log = logistic_cm_kfold(pass_data_X.astype(float), pass_data_y)\n",
    "with open(\"./ModelPerformance/pass_performance_log.pkl\", \"wb\") as f:\n",
    "    pickle.dump({\n",
    "        'y_resampled_test': pass_y_resampled_test_log,\n",
    "        'decision_scores': pass_decision_scores_log,\n",
    "        'indices': pass_indices_log\n",
    "    }, f)\n",
    "print('pass logistic done')\n",
    "car_y_resampled_test_log, car_decision_scores_log, car_indices_log = logistic_cm_kfold(car_data_X.astype(float), car_data_y)\n",
    "with open(\"./ModelPerformance/car_performance_log.pkl\", \"wb\") as f:\n",
    "    pickle.dump({\n",
    "        'y_resampled_test': car_y_resampled_test_log,\n",
    "        'decision_scores': car_decision_scores_log,\n",
    "        'indices': car_indices_log\n",
    "    }, f)\n",
    "print('car logistic done')\n",
    "full_y_resampled_test_log, full_decision_scores_log, full_indices_log = logistic_cm_kfold(full_data_X.astype(float), full_data_y)\n",
    "with open(\"./ModelPerformance/full_performance_log.pkl\", \"wb\") as f:\n",
    "    pickle.dump({\n",
    "        'y_resampled_test': full_y_resampled_test_log,\n",
    "        'decision_scores': full_decision_scores_log,\n",
    "        'indices': full_indices_log\n",
    "    }, f)\n",
    "print('full logistic done')\n",
    "pass_y_resampled_test_svc, pass_decision_scores_svc, pass_indices_svc = linear_svc_kfold(pass_data_X.astype(float), pass_data_y)\n",
    "with open(\"./ModelPerformance/pass_performance_svc.pkl\", \"wb\") as f:\n",
    "    pickle.dump({\n",
    "        'y_resampled_test': pass_y_resampled_test_svc,\n",
    "        'decision_scores': pass_decision_scores_svc,\n",
    "        'indices': pass_indices_svc\n",
    "    }, f)\n",
    "print('pass svc done')\n",
    "car_y_resampled_test_svc, car_decision_scores_svc, car_indices_svc = linear_svc_kfold(car_data_X.astype(float), car_data_y)\n",
    "with open(\"./ModelPerformance/car_performance_svc.pkl\", \"wb\") as f:\n",
    "    pickle.dump({\n",
    "        'y_resampled_test': car_y_resampled_test_svc,\n",
    "        'decision_scores': car_decision_scores_svc,\n",
    "        'indices': car_indices_svc\n",
    "    }, f)\n",
    "print('car svc done')\n",
    "full_y_resampled_test_svc, full_decision_scores_svc, full_indices_svc = linear_svc_kfold(full_data_X.astype(float), full_data_y)\n",
    "with open(\"./ModelPerformance/full_performance_svc.pkl\", \"wb\") as f:\n",
    "    pickle.dump({\n",
    "        'y_resampled_test': full_y_resampled_test_svc,\n",
    "        'decision_scores': full_decision_scores_svc,\n",
    "        'indices': full_indices_svc\n",
    "    }, f)\n",
    "print('full svc done')"
   ]
  },
  {
   "cell_type": "markdown",
   "metadata": {},
   "source": [
    "# scores"
   ]
  },
  {
   "cell_type": "code",
   "execution_count": 2,
   "metadata": {},
   "outputs": [],
   "source": [
    "import pickle\n",
    "\n",
    "with open(\"../Version3/ModelPerformance/pass_performance_log.pkl\", \"rb\") as f:\n",
    "    pass_performance_log = pickle.load(f)\n",
    "with open(\"../Version3/ModelPerformance/car_performance_log.pkl\", \"rb\") as f:\n",
    "    car_performance_log = pickle.load(f)\n",
    "with open(\"../Version3/ModelPerformance/full_performance_log.pkl\", \"rb\") as f:\n",
    "    full_performance_log = pickle.load(f)\n",
    "with open(\"../Version3/ModelPerformance/pass_performance_svc.pkl\", \"rb\") as f:\n",
    "    pass_performance_svc = pickle.load(f)\n",
    "with open(\"../Version3/ModelPerformance/car_performance_svc.pkl\", \"rb\") as f:\n",
    "    car_performance_svc = pickle.load(f)\n",
    "with open(\"../Version3/ModelPerformance/full_performance_svc.pkl\", \"rb\") as f:\n",
    "    full_performance_svc = pickle.load(f)"
   ]
  },
  {
   "cell_type": "code",
   "execution_count": 3,
   "metadata": {},
   "outputs": [],
   "source": [
    "from sklearn.metrics import confusion_matrix, classification_report, recall_score\n",
    "\n",
    "def get_score(resampled_test, decision_scores, threshold=0.5):\n",
    "    \n",
    "    y_pred = (decision_scores >= threshold).astype(int)\n",
    "\n",
    "    conf_matrix = confusion_matrix(resampled_test, y_pred)\n",
    "    recall = recall_score(resampled_test, y_pred)\n",
    "    classification = classification_report(resampled_test, y_pred, digits=4)\n",
    "    \n",
    "    return conf_matrix, recall, classification"
   ]
  },
  {
   "cell_type": "code",
   "execution_count": 4,
   "metadata": {},
   "outputs": [
    {
     "name": "stdout",
     "output_type": "stream",
     "text": [
      "[[2322  716]\n",
      " [  26   32]]\n",
      "[[67079 28008]\n",
      " [  133   283]]\n",
      "[[70301 27824]\n",
      " [  144   330]]\n",
      "[[2332  706]\n",
      " [  26   32]]\n",
      "[[77241 17846]\n",
      " [  168   248]]\n",
      "[[80905 17220]\n",
      " [  183   291]]\n"
     ]
    }
   ],
   "source": [
    "pass_mtrx, pass_recall, pass_class = get_score(pass_performance_log['y_resampled_test'], pass_performance_log['decision_scores'], threshold=0.3)\n",
    "car_mtrx, car_recall, car_class = get_score(car_performance_log['y_resampled_test'], car_performance_log['decision_scores'], threshold=0.4)\n",
    "full_mtrx, full_recall, full_class = get_score(full_performance_log['y_resampled_test'], full_performance_log['decision_scores'], threshold=0.4)\n",
    "\n",
    "pass_mtrx_svc, pass_recall_svc, pass_class_svc = get_score(pass_performance_svc['y_resampled_test'], pass_performance_svc['decision_scores'], threshold=-0.5)\n",
    "car_mtrx_svc, car_recall_svc, car_class_svc = get_score(car_performance_svc['y_resampled_test'], car_performance_svc['decision_scores'], threshold=0.05)\n",
    "full_mtrx_svc, full_recall_svc, full_class_svc = get_score(full_performance_svc['y_resampled_test'], full_performance_svc['decision_scores'], threshold=0.1)\n",
    "\n",
    "print(pass_mtrx)\n",
    "print(car_mtrx)\n",
    "print(full_mtrx)\n",
    "\n",
    "print(pass_mtrx_svc)\n",
    "print(car_mtrx_svc)\n",
    "print(full_mtrx_svc)"
   ]
  },
  {
   "cell_type": "code",
   "execution_count": 213,
   "metadata": {},
   "outputs": [],
   "source": [
    "# save as pickle\n",
    "with open('../Version3/ModelPerformance/pass_perform.pkl', 'wb') as f:\n",
    "    pickle.dump({    \n",
    "        'confusion': pass_mtrx,\n",
    "        'recall': pass_recall,\n",
    "        'classification': pass_class\n",
    "        }, f)\n",
    "    \n",
    "with open('../Version3/ModelPerformance/car_perform.pkl', 'wb') as f:\n",
    "    pickle.dump({    \n",
    "        'confusion': car_mtrx,\n",
    "        'recall': car_recall,\n",
    "        'classification': car_class\n",
    "        }, f)\n",
    "    \n",
    "with open('../Version3/ModelPerformance/full_perform.pkl', 'wb') as f:\n",
    "    pickle.dump({    \n",
    "        'confusion': full_mtrx,\n",
    "        'recall': full_recall,\n",
    "        'classification': full_class\n",
    "        }, f)"
   ]
  }
 ],
 "metadata": {
  "kernelspec": {
   "display_name": "base",
   "language": "python",
   "name": "python3"
  },
  "language_info": {
   "codemirror_mode": {
    "name": "ipython",
    "version": 3
   },
   "file_extension": ".py",
   "mimetype": "text/x-python",
   "name": "python",
   "nbconvert_exporter": "python",
   "pygments_lexer": "ipython3",
   "version": "3.9.12"
  }
 },
 "nbformat": 4,
 "nbformat_minor": 2
}

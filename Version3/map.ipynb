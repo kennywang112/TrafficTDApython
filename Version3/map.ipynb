{
 "cells": [
  {
   "cell_type": "code",
   "execution_count": 1,
   "metadata": {},
   "outputs": [
    {
     "name": "stdout",
     "output_type": "stream",
     "text": [
      "/Users/wangqiqian/Desktop/TrafficTDApython\n"
     ]
    }
   ],
   "source": [
    "import os\n",
    "import sys\n",
    "sys.path.append('/Users/wangqiqian/Desktop/TrafficTDApython/')\n",
    "# sys.path.append('C:/Users/USER/Desktop/TrafficTDApython/')\n",
    "\n",
    "current_dir_path = os.getcwd()\n",
    "current_file_path = os.path.abspath(current_dir_path)\n",
    "current_dir_path = os.path.dirname(current_file_path)\n",
    "parent_dir_path = os.path.dirname(current_dir_path)\n",
    "\n",
    "# os.chdir(current_dir_path + '\\\\ultils')\n",
    "os.chdir(current_dir_path + '/ultils')\n",
    "print(current_dir_path)\n",
    "\n",
    "import time\n",
    "import pickle\n",
    "import prince\n",
    "import numpy as np\n",
    "import pandas as pd\n",
    "import seaborn as sns\n",
    "import matplotlib.pyplot as plt\n",
    "import matplotlib.cm as cm\n",
    "from matplotlib.cm import get_cmap\n",
    "from matplotlib.font_manager import FontProperties\n",
    "\n",
    "from sklearn.cluster import AgglomerativeClustering\n",
    "\n",
    "from functions import *\n",
    "from chi import *\n",
    "from regressionP import *\n",
    "from models import *\n",
    "from utils_v3 import *\n",
    "from plots import *\n",
    "\n",
    "os.chdir('/Users/wangqiqian/Desktop/TrafficTDApython/')\n",
    "# os.chdir('C:/Users/USER/Desktop/TrafficTDApython/')\n",
    "\n",
    "from Version3.tdamapper.core_old import MapperAlgorithm\n",
    "from Version3.tdamapper.cover import CubicalCover\n",
    "from Version3.tdamapper.clustering import FailSafeClustering\n",
    "from Version3.tdamapper.plot import MapperLayoutInteractive\n",
    "\n",
    "myfont = FontProperties(fname=r\"/System/Library/Fonts/PingFang.ttc\")\n",
    "sns.set(style=\"whitegrid\", font=myfont.get_name())\n",
    "plt.rcParams['font.sans-serif'] = ['Microsoft YaHei']\n",
    "plt.rcParams['axes.unicode_minus'] = False"
   ]
  },
  {
   "cell_type": "code",
   "execution_count": 2,
   "metadata": {},
   "outputs": [],
   "source": [
    "data1 = pd.read_csv(\"Data/NPA_TMA2_1.csv\", low_memory=False)[:-2]\n",
    "data2 = pd.read_csv(\"Data/NPA_TMA2_2.csv\", low_memory=False)[:-2]\n",
    "data3 = pd.read_csv(\"Data/NPA_TMA2_3.csv\", low_memory=False)[:-2]\n",
    "data4 = pd.read_csv(\"Data/NPA_TMA2_4_new.csv\", low_memory=False)[:-2]\n",
    "data5 = pd.read_csv(\"Data/NPA_TMA2_5.csv\", low_memory=False)[:-2]\n",
    "data6 = pd.read_csv(\"Data/NPA_TMA2_6_new.csv\", low_memory=False)[:-2]\n",
    "data7 = pd.read_csv(\"Data/NPA_TMA2_7.csv\", low_memory=False)[:-2]\n",
    "data8 = pd.read_csv(\"Data/NPA_TMA2_8.csv\", low_memory=False)[:-2]\n",
    "data9 = pd.read_csv(\"Data/NPA_TMA2_9.csv\", low_memory=False)[:-2]\n",
    "data10 = pd.read_csv(\"Data/NPA_TMA2_10.csv\", low_memory=False)[:-2]\n",
    "\n",
    "dataA2 = pd.concat([data1, data2, data3, data4, data5, data6, data7, data8, data9, data10], ignore_index=True)\n",
    "# dataA2 = pd.concat([data1, data2, data3, data4, data5], ignore_index=True)\n",
    "\n",
    "dataA1 = pd.read_csv(\"Data/NPA_TMA1_V3.csv\")[:-2]"
   ]
  },
  {
   "cell_type": "code",
   "execution_count": 25,
   "metadata": {},
   "outputs": [
    {
     "name": "stdout",
     "output_type": "stream",
     "text": [
      "(1382, 34)\n",
      "(312551, 34)\n"
     ]
    },
    {
     "name": "stderr",
     "output_type": "stream",
     "text": [
      "/var/folders/w2/_g9w5yys0f171q4qqm469z1h0000gn/T/ipykernel_87363/3734060426.py:63: SettingWithCopyWarning: \n",
      "A value is trying to be set on a copy of a slice from a DataFrame\n",
      "\n",
      "See the caveats in the documentation: https://pandas.pydata.org/pandas-docs/stable/user_guide/indexing.html#returning-a-view-versus-a-copy\n",
      "  car_A1.drop(columns=['當事者行動狀態大類別名稱'], inplace=True)\n",
      "/var/folders/w2/_g9w5yys0f171q4qqm469z1h0000gn/T/ipykernel_87363/3734060426.py:64: SettingWithCopyWarning: \n",
      "A value is trying to be set on a copy of a slice from a DataFrame\n",
      "\n",
      "See the caveats in the documentation: https://pandas.pydata.org/pandas-docs/stable/user_guide/indexing.html#returning-a-view-versus-a-copy\n",
      "  car_A2.drop(columns=['當事者行動狀態大類別名稱'], inplace=True)\n"
     ]
    }
   ],
   "source": [
    "select_lst = [\n",
    "    # 月份是為了篩選每個月2萬筆\n",
    "    '發生月份',\n",
    "\n",
    "    '天候名稱', '光線名稱', \n",
    "    '道路類別-第1當事者-名稱', '速限-第1當事者', \n",
    "    '路面狀況-路面鋪裝名稱', '路面狀況-路面狀態名稱', '路面狀況-路面缺陷名稱',\n",
    "    '道路障礙-障礙物名稱', '道路障礙-視距品質名稱', '道路障礙-視距名稱',\n",
    "    '號誌-號誌種類名稱', '號誌-號誌動作名稱',\n",
    "    '車道劃分設施-分道設施-快車道或一般車道間名稱', '車道劃分設施-分道設施-快慢車道間名稱', '車道劃分設施-分道設施-路面邊線名稱',\n",
    "    '當事者屬-性-別名稱', '當事者事故發生時年齡',\n",
    "    '保護裝備名稱', '行動電話或電腦或其他相類功能裝置名稱',\n",
    "    '肇事逃逸類別名稱-是否肇逃',\n",
    "    '死亡受傷人數', '經度', '緯度',\n",
    "\n",
    "    # 大類別\n",
    "    '道路型態大類別名稱', '事故位置大類別名稱',\n",
    "    '車道劃分設施-分向設施大類別名稱',\n",
    "    '事故類型及型態大類別名稱', '當事者區分-類別-大類別名稱-車種', '當事者行動狀態大類別名稱',\n",
    "    '車輛撞擊部位大類別名稱-最初', '車輛撞擊部位大類別名稱-其他',\n",
    "\n",
    "    # 兩個欄位只有兩個觀察值不同\n",
    "    '肇因研判大類別名稱-主要',\n",
    "    # '肇因研判大類別名稱-個別',\n",
    "]\n",
    "\n",
    "def preprocess(input_data, select_lst):\n",
    "    # 篩選到第一個順位，因為注重的是單次事故的情況\n",
    "    sample_data = input_data[input_data['當事者順位'] == 1].reset_index(drop=True, inplace=False)\n",
    "    sample_data = sample_data[sample_data['發生月份'] < 11]\n",
    "    dataA = sample_data[select_lst]\n",
    "    \n",
    "    # 將資料分出死亡和受傷，合併到原本的資料後去除多餘的死亡受傷人數\n",
    "    death_injury_data = split_death_injury(dataA['死亡受傷人數'])\n",
    "    dist_df = pd.concat([dataA, death_injury_data], axis=1)\n",
    "\n",
    "    # 補齊缺失值\n",
    "    dist_df[select_lst] = dist_df[select_lst].fillna('未紀錄')\n",
    "\n",
    "    # 台灣範圍\n",
    "    # dist_df = dist_df[\n",
    "    #     (dist_df[\"緯度\"] >= 20) & (dist_df[\"緯度\"] <= 26) &\n",
    "    #     (dist_df[\"經度\"] >= 119) & (dist_df[\"經度\"] <= 125)\n",
    "    # ]\n",
    "    # 速限範圍\n",
    "    dist_df = dist_df[(dist_df['速限-第1當事者'] < 200) &\n",
    "                      (dist_df['當事者事故發生時年齡'] < 100) &\n",
    "                      (dist_df['當事者事故發生時年齡'] > 0)]\n",
    "\n",
    "    # dist_df.drop(columns=['經度', '緯度'], inplace=True)\n",
    "    dist_df.drop(columns=['死亡受傷人數'], inplace=True)\n",
    "    \n",
    "    return dist_df\n",
    "\n",
    "dist_dfA1 = preprocess(dataA1, select_lst)\n",
    "dist_dfA2 = preprocess(dataA2, select_lst)\n",
    "print(dist_dfA1.shape)\n",
    "print(dist_dfA2.shape)\n",
    "\n",
    "car_A2 = dist_dfA2[dist_dfA2['當事者行動狀態大類別名稱'] == '車的狀態']\n",
    "car_A1 = dist_dfA1[dist_dfA1['當事者行動狀態大類別名稱'] == '車的狀態']\n",
    "\n",
    "car_A1.drop(columns=['當事者行動狀態大類別名稱'], inplace=True)\n",
    "car_A2.drop(columns=['當事者行動狀態大類別名稱'], inplace=True)\n",
    "\n",
    "car_A2 = car_A2[(car_A2['肇因研判大類別名稱-主要'] != '非駕駛者') &\n",
    "                  (car_A2['肇因研判大類別名稱-主要'] != '無(非車輛駕駛人因素)') &\n",
    "                  (car_A2['肇因研判大類別名稱-主要'] != '無(車輛駕駛者因素)')]\n",
    "car_A1 = car_A1[(car_A1['肇因研判大類別名稱-主要'] != '非駕駛者') &\n",
    "                  (car_A1['肇因研判大類別名稱-主要'] != '無(非車輛駕駛人因素)') &\n",
    "                  (car_A1['肇因研判大類別名稱-主要'] != '無(車輛駕駛者因素)')] # 刪掉原因為類似於他提供不了更多資訊，但會使Mapper更加分散\n",
    "\n",
    "car_A2 = car_A2[car_A2['行動電話或電腦或其他相類功能裝置名稱'] != '未紀錄']\n",
    "car_A1 = car_A1[car_A1['行動電話或電腦或其他相類功能裝置名稱'] != '未紀錄']\n",
    "\n",
    "car_A2 = car_A2[car_A2['車輛撞擊部位大類別名稱-最初'] != '未紀錄']\n",
    "car_A1 = car_A1[car_A1['車輛撞擊部位大類別名稱-最初'] != '未紀錄']\n"
   ]
  },
  {
   "cell_type": "code",
   "execution_count": null,
   "metadata": {},
   "outputs": [],
   "source": [
    "(1382, 32)\n",
    "(312551, 32)"
   ]
  },
  {
   "cell_type": "code",
   "execution_count": 26,
   "metadata": {},
   "outputs": [
    {
     "name": "stdout",
     "output_type": "stream",
     "text": [
      "44\n",
      "10057\n",
      "45\n",
      "10286\n",
      "40\n",
      "9143\n",
      "35\n",
      "8000\n",
      "36\n",
      "8229\n",
      "39\n",
      "8914\n",
      "47\n",
      "10743\n",
      "43\n",
      "9829\n",
      "40\n",
      "9143\n",
      "47\n",
      "10743\n"
     ]
    }
   ],
   "source": [
    "from sklearn.utils import resample\n",
    "\n",
    "sampling_ratio = 0.33  # 下採樣比例\n",
    "\n",
    "# 計算 A1 和 A2 原始數據量比例\n",
    "A1_total = len(car_A1)\n",
    "A2_total = len(car_A2)\n",
    "total_ratio = A1_total / A2_total  # 保留 A1/A2 的比例\n",
    "\n",
    "# 定義函數，按月份進行下採樣\n",
    "def downsample_by_month_simple(A1, A2, sampling_ratio, total_ratio):\n",
    "    A1_downsampled = pd.DataFrame()\n",
    "    A2_downsampled = pd.DataFrame()\n",
    "\n",
    "    months = sorted(set(A1['發生月份']).intersection(A2['發生月份']))  # 確保月份匹配\n",
    "\n",
    "    for month in months:\n",
    "        # 提取該月份的資料\n",
    "        A1_month = A1[A1['發生月份'] == month]\n",
    "        A2_month = A2[A2['發生月份'] == month]\n",
    "\n",
    "        # 計算該月份目標數量\n",
    "        A1_target = int(len(A1_month) * sampling_ratio)\n",
    "        A2_target = int(A1_target / total_ratio)\n",
    "        print(A1_target)\n",
    "        print(A2_target)\n",
    "\n",
    "        # 下採樣\n",
    "        A1_sampled = resample(A1_month, replace=False, n_samples=A1_target, random_state=42)\n",
    "        A2_sampled = resample(A2_month, replace=False, n_samples=A2_target, random_state=42)\n",
    "\n",
    "        # 合併到最終結果\n",
    "        A1_downsampled = pd.concat([A1_downsampled, A1_sampled])\n",
    "        A2_downsampled = pd.concat([A2_downsampled, A2_sampled])\n",
    "\n",
    "    return A1_downsampled.reset_index(drop=True), A2_downsampled.reset_index(drop=True)\n",
    "\n",
    "# 下採樣\n",
    "downsampled_A1, downsampled_A2 = downsample_by_month_simple(car_A1, car_A2, sampling_ratio, total_ratio)\n",
    "# Concat\n",
    "rbind_data = pd.concat([downsampled_A1, downsampled_A2], axis=0, ignore_index=True)\n",
    "rbind_data.drop(columns=['發生月份'], inplace=True)"
   ]
  },
  {
   "cell_type": "code",
   "execution_count": 27,
   "metadata": {},
   "outputs": [
    {
     "name": "stdout",
     "output_type": "stream",
     "text": [
      "dummy_data: (95503, 146)\n"
     ]
    }
   ],
   "source": [
    "bins_age = [0, 14, 24, 34, 44, 54, 64, 74, float('inf')]\n",
    "labels_age = ['未滿15歲', '15~24', '25~34', '35~44', '45~54', '55~64', '65~74', '75+']\n",
    "\n",
    "rbind_data['當事者事故發生時年齡'] = pd.cut(rbind_data['當事者事故發生時年齡'], bins=bins_age, labels=labels_age, right=False)\n",
    "\n",
    "bins_speed = [0, 10, 20, 30, 40, 50, 60, 70, 80, 90, 100, 110, float('inf')]\n",
    "labels_speed = ['0-10', '11-20', '21-30', '31-40', '41-50', '51-60', '61-70', '71-80', '81-90', '91-100', '101-110', '110+']\n",
    "\n",
    "rbind_data['速限-第1當事者'] = pd.cut(rbind_data['速限-第1當事者'], bins=bins_speed, labels=labels_speed, right=False)\n",
    "\n",
    "# assert rbind_data.shape[0] == dist_dfA1.shape[0] + dist_dfA2.shape[0]\n",
    "# Dummy\n",
    "rbind_data[\"速限-第1當事者\"] = rbind_data[\"速限-第1當事者\"].astype(str)\n",
    "dummy_data = pd.get_dummies(rbind_data)\n",
    "\n",
    "print('dummy_data:', dummy_data.shape)\n",
    "\n",
    "data_to_map = dummy_data.drop(['死亡', '受傷'], axis=1)\n",
    "mapper_numpy = data_to_map.to_numpy()"
   ]
  },
  {
   "cell_type": "code",
   "execution_count": 28,
   "metadata": {},
   "outputs": [
    {
     "name": "stdout",
     "output_type": "stream",
     "text": [
      "地圖已生成，保存為 traffic_heatmap.html\n"
     ]
    }
   ],
   "source": [
    "import folium\n",
    "from folium.plugins import HeatMap\n",
    "\n",
    "# 基於經緯度生成熱點數據\n",
    "heat_data = rbind_data[[\"緯度\", \"經度\"]].dropna().values.tolist()\n",
    "\n",
    "# 創建地圖\n",
    "map_taiwan = folium.Map(location=[23.5, 121], zoom_start=7)\n",
    "\n",
    "# 添加熱點圖\n",
    "HeatMap(heat_data).add_to(map_taiwan)\n",
    "\n",
    "# 保存地圖\n",
    "map_taiwan.save(\"traffic_heatmap.html\")\n",
    "print(\"地圖已生成，保存為 traffic_heatmap.html\")\n"
   ]
  }
 ],
 "metadata": {
  "kernelspec": {
   "display_name": "Cllava",
   "language": "python",
   "name": "python3"
  },
  "language_info": {
   "codemirror_mode": {
    "name": "ipython",
    "version": 3
   },
   "file_extension": ".py",
   "mimetype": "text/x-python",
   "name": "python",
   "nbconvert_exporter": "python",
   "pygments_lexer": "ipython3",
   "version": "3.10.13"
  }
 },
 "nbformat": 4,
 "nbformat_minor": 2
}

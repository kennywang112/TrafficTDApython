{
 "cells": [
  {
   "cell_type": "code",
   "execution_count": 1,
   "metadata": {},
   "outputs": [],
   "source": [
    "import os\n",
    "import sys\n",
    "\n",
    "# os.chdir('/Users/wangqiqian/Desktop/TrafficTDApython/')\n",
    "# sys.path.append('/Users/wangqiqian/Desktop/TrafficTDApython/')\n",
    "# sys.path.append('/Users/wangqiqian/Desktop/TrafficTDApython/Version3')\n",
    "os.chdir('C:/Users/USER/Desktop/TrafficTDApython/')\n",
    "sys.path.append('C:/Users/USER/Desktop/TrafficTDApython/')\n",
    "sys.path.append('C:/Users/USER/Desktop/TrafficTDApython/Version3')\n",
    "\n",
    "import numpy as np\n",
    "import pandas as pd\n",
    "import matplotlib.pyplot as plt\n",
    "from sklearn.decomposition import PCA\n",
    "from sklearn.neighbors import NearestNeighbors\n",
    "from sklearn.cluster import AgglomerativeClustering, DBSCAN\n",
    "from sklearn.datasets import make_circles, load_digits, make_blobs\n",
    "\n",
    "X, y = make_circles( \n",
    "    n_samples=5000,\n",
    "    noise=0.1,\n",
    "    factor=0.3,\n",
    "    random_state=42\n",
    ")\n",
    "data = pd.DataFrame(X, columns=[\"Feature 1\", \"Feature 2\"])\n",
    "\n",
    "pca = PCA(n_components=2)\n",
    "lens = pca.fit_transform(X)\n",
    "\n",
    "os.chdir('C:/Users/USER/Desktop/TrafficTDApython/Version3')\n",
    "\n",
    "from Version3.tdamapper.core import MapperAlgorithm, FailSafeClustering\n",
    "from Version3.tdamapper.cover import CubicalCover\n",
    "from Version3.tdamapper.clustering import FailSafeClustering\n",
    "from Version3.tdamapper.plot import MapperLayoutInteractive, MapperPlot"
   ]
  },
  {
   "cell_type": "code",
   "execution_count": 2,
   "metadata": {},
   "outputs": [
    {
     "name": "stderr",
     "output_type": "stream",
     "text": [
      "Processing Clusters: 100%|██████████| 89/89 [00:01<00:00, 58.68it/s]\n"
     ]
    }
   ],
   "source": [
    "mapper_algo = MapperAlgorithm(\n",
    "    cover=CubicalCover(\n",
    "        n_intervals=10,\n",
    "        overlap_frac=0.1\n",
    "    ),\n",
    "    clustering=AgglomerativeClustering(linkage='ward')\n",
    ")\n",
    "\n",
    "mapper_info = mapper_algo.fit_transform(X, lens)"
   ]
  },
  {
   "cell_type": "code",
   "execution_count": 52,
   "metadata": {},
   "outputs": [
    {
     "name": "stderr",
     "output_type": "stream",
     "text": [
      "Processing Clusters: 100%|██████████| 9/9 [00:00<00:00, 4407.84it/s]\n"
     ]
    },
    {
     "name": "stdout",
     "output_type": "stream",
     "text": [
      "interval:3, overlap:3\n"
     ]
    },
    {
     "name": "stderr",
     "output_type": "stream",
     "text": [
      "Processing Clusters: 100%|██████████| 16/16 [00:00<00:00, 1260.43it/s]\n"
     ]
    },
    {
     "name": "stdout",
     "output_type": "stream",
     "text": [
      "interval:4, overlap:3\n"
     ]
    },
    {
     "name": "stderr",
     "output_type": "stream",
     "text": [
      "Processing Clusters: 100%|██████████| 20/20 [00:00<00:00, 697.93it/s]\n"
     ]
    },
    {
     "name": "stdout",
     "output_type": "stream",
     "text": [
      "interval:5, overlap:3\n"
     ]
    },
    {
     "name": "stderr",
     "output_type": "stream",
     "text": [
      "Processing Clusters: 100%|██████████| 20/20 [00:00<00:00, 676.62it/s]\n"
     ]
    },
    {
     "name": "stdout",
     "output_type": "stream",
     "text": [
      "interval:6, overlap:3\n"
     ]
    },
    {
     "name": "stderr",
     "output_type": "stream",
     "text": [
      "Processing Clusters: 100%|██████████| 31/31 [00:00<00:00, 825.64it/s]\n"
     ]
    },
    {
     "name": "stdout",
     "output_type": "stream",
     "text": [
      "interval:7, overlap:3\n"
     ]
    },
    {
     "name": "stderr",
     "output_type": "stream",
     "text": [
      "Processing Clusters: 100%|██████████| 38/38 [00:00<00:00, 810.22it/s]\n"
     ]
    },
    {
     "name": "stdout",
     "output_type": "stream",
     "text": [
      "interval:8, overlap:3\n"
     ]
    },
    {
     "name": "stderr",
     "output_type": "stream",
     "text": [
      "Processing Clusters: 100%|██████████| 33/33 [00:00<00:00, 741.89it/s]\n"
     ]
    },
    {
     "name": "stdout",
     "output_type": "stream",
     "text": [
      "interval:9, overlap:3\n"
     ]
    },
    {
     "name": "stderr",
     "output_type": "stream",
     "text": [
      "Processing Clusters: 100%|██████████| 45/45 [00:00<00:00, 1370.79it/s]\n"
     ]
    },
    {
     "name": "stdout",
     "output_type": "stream",
     "text": [
      "interval:10, overlap:3\n"
     ]
    },
    {
     "name": "stderr",
     "output_type": "stream",
     "text": [
      "Processing Clusters: 100%|██████████| 9/9 [00:00<00:00, 4221.51it/s]\n"
     ]
    },
    {
     "name": "stdout",
     "output_type": "stream",
     "text": [
      "interval:3, overlap:4\n"
     ]
    },
    {
     "name": "stderr",
     "output_type": "stream",
     "text": [
      "Processing Clusters: 100%|██████████| 16/16 [00:00<00:00, 1172.17it/s]\n"
     ]
    },
    {
     "name": "stdout",
     "output_type": "stream",
     "text": [
      "interval:4, overlap:4\n"
     ]
    },
    {
     "name": "stderr",
     "output_type": "stream",
     "text": [
      "Processing Clusters: 100%|██████████| 19/19 [00:00<00:00, 1339.16it/s]\n"
     ]
    },
    {
     "name": "stdout",
     "output_type": "stream",
     "text": [
      "interval:5, overlap:4\n"
     ]
    },
    {
     "name": "stderr",
     "output_type": "stream",
     "text": [
      "Processing Clusters: 100%|██████████| 20/20 [00:00<00:00, 603.76it/s]\n"
     ]
    },
    {
     "name": "stdout",
     "output_type": "stream",
     "text": [
      "interval:6, overlap:4\n"
     ]
    },
    {
     "name": "stderr",
     "output_type": "stream",
     "text": [
      "Processing Clusters: 100%|██████████| 27/27 [00:00<00:00, 770.13it/s]\n"
     ]
    },
    {
     "name": "stdout",
     "output_type": "stream",
     "text": [
      "interval:7, overlap:4\n"
     ]
    },
    {
     "name": "stderr",
     "output_type": "stream",
     "text": [
      "Processing Clusters: 100%|██████████| 27/27 [00:00<00:00, 860.76it/s]\n"
     ]
    },
    {
     "name": "stdout",
     "output_type": "stream",
     "text": [
      "interval:8, overlap:4\n"
     ]
    },
    {
     "name": "stderr",
     "output_type": "stream",
     "text": [
      "Processing Clusters: 100%|██████████| 32/32 [00:00<00:00, 609.43it/s]\n"
     ]
    },
    {
     "name": "stdout",
     "output_type": "stream",
     "text": [
      "interval:9, overlap:4\n"
     ]
    },
    {
     "name": "stderr",
     "output_type": "stream",
     "text": [
      "Processing Clusters: 100%|██████████| 37/37 [00:00<00:00, 1008.36it/s]\n"
     ]
    },
    {
     "name": "stdout",
     "output_type": "stream",
     "text": [
      "interval:10, overlap:4\n"
     ]
    },
    {
     "name": "stderr",
     "output_type": "stream",
     "text": [
      "Processing Clusters: 100%|██████████| 7/7 [00:00<00:00, 5727.69it/s]\n"
     ]
    },
    {
     "name": "stdout",
     "output_type": "stream",
     "text": [
      "interval:3, overlap:5\n"
     ]
    },
    {
     "name": "stderr",
     "output_type": "stream",
     "text": [
      "Processing Clusters: 100%|██████████| 8/8 [00:00<00:00, 2294.95it/s]\n"
     ]
    },
    {
     "name": "stdout",
     "output_type": "stream",
     "text": [
      "interval:4, overlap:5\n"
     ]
    },
    {
     "name": "stderr",
     "output_type": "stream",
     "text": [
      "Processing Clusters: 100%|██████████| 13/13 [00:00<00:00, 882.43it/s]\n"
     ]
    },
    {
     "name": "stdout",
     "output_type": "stream",
     "text": [
      "interval:5, overlap:5\n"
     ]
    },
    {
     "name": "stderr",
     "output_type": "stream",
     "text": [
      "Processing Clusters: 100%|██████████| 17/17 [00:00<00:00, 1346.71it/s]\n"
     ]
    },
    {
     "name": "stdout",
     "output_type": "stream",
     "text": [
      "interval:6, overlap:5\n"
     ]
    },
    {
     "name": "stderr",
     "output_type": "stream",
     "text": [
      "Processing Clusters: 100%|██████████| 18/18 [00:00<00:00, 1823.52it/s]\n"
     ]
    },
    {
     "name": "stdout",
     "output_type": "stream",
     "text": [
      "interval:7, overlap:5\n"
     ]
    },
    {
     "name": "stderr",
     "output_type": "stream",
     "text": [
      "Processing Clusters: 100%|██████████| 22/22 [00:00<00:00, 609.54it/s]\n"
     ]
    },
    {
     "name": "stdout",
     "output_type": "stream",
     "text": [
      "interval:8, overlap:5\n"
     ]
    },
    {
     "name": "stderr",
     "output_type": "stream",
     "text": [
      "Processing Clusters: 100%|██████████| 20/20 [00:00<00:00, 552.33it/s]\n"
     ]
    },
    {
     "name": "stdout",
     "output_type": "stream",
     "text": [
      "interval:9, overlap:5\n"
     ]
    },
    {
     "name": "stderr",
     "output_type": "stream",
     "text": [
      "Processing Clusters: 100%|██████████| 27/27 [00:00<00:00, 1020.17it/s]"
     ]
    },
    {
     "name": "stdout",
     "output_type": "stream",
     "text": [
      "interval:10, overlap:5\n"
     ]
    },
    {
     "name": "stderr",
     "output_type": "stream",
     "text": [
      "\n"
     ]
    },
    {
     "data": {
      "text/html": [
       "<div>\n",
       "<style scoped>\n",
       "    .dataframe tbody tr th:only-of-type {\n",
       "        vertical-align: middle;\n",
       "    }\n",
       "\n",
       "    .dataframe tbody tr th {\n",
       "        vertical-align: top;\n",
       "    }\n",
       "\n",
       "    .dataframe thead th {\n",
       "        text-align: right;\n",
       "    }\n",
       "</style>\n",
       "<table border=\"1\" class=\"dataframe\">\n",
       "  <thead>\n",
       "    <tr style=\"text-align: right;\">\n",
       "      <th></th>\n",
       "      <th>overlap</th>\n",
       "      <th>interval</th>\n",
       "      <th>silhouette</th>\n",
       "      <th>mapper_info</th>\n",
       "    </tr>\n",
       "  </thead>\n",
       "  <tbody>\n",
       "    <tr>\n",
       "      <th>7</th>\n",
       "      <td>3</td>\n",
       "      <td>10</td>\n",
       "      <td>0.545313</td>\n",
       "      <td>((0, 2, 4, 35, 6, 8, 80, 10, 48, 13, 77, 14, 8...</td>\n",
       "    </tr>\n",
       "    <tr>\n",
       "      <th>16</th>\n",
       "      <td>5</td>\n",
       "      <td>3</td>\n",
       "      <td>0.549377</td>\n",
       "      <td>((0, 12, 2, 7, 4, 8, 6, 5, 9, 1, 13, 10, 3, 11...</td>\n",
       "    </tr>\n",
       "    <tr>\n",
       "      <th>15</th>\n",
       "      <td>4</td>\n",
       "      <td>10</td>\n",
       "      <td>0.549411</td>\n",
       "      <td>((1, 15, 2, 33, 56, 3, 5, 31, 7, 8, 47, 10, 12...</td>\n",
       "    </tr>\n",
       "    <tr>\n",
       "      <th>14</th>\n",
       "      <td>4</td>\n",
       "      <td>9</td>\n",
       "      <td>0.555420</td>\n",
       "      <td>((0, 2, 3, 50, 4, 43, 7, 9, 38, 6, 61, 8, 10, ...</td>\n",
       "    </tr>\n",
       "    <tr>\n",
       "      <th>5</th>\n",
       "      <td>3</td>\n",
       "      <td>8</td>\n",
       "      <td>0.556406</td>\n",
       "      <td>((1, 13, 2, 63, 71, 3, 5, 7, 8, 67, 6, 31, 68,...</td>\n",
       "    </tr>\n",
       "    <tr>\n",
       "      <th>6</th>\n",
       "      <td>3</td>\n",
       "      <td>9</td>\n",
       "      <td>0.560284</td>\n",
       "      <td>((0, 2, 42, 5, 49, 7, 8, 45, 11, 60, 12, 14, 1...</td>\n",
       "    </tr>\n",
       "    <tr>\n",
       "      <th>4</th>\n",
       "      <td>3</td>\n",
       "      <td>7</td>\n",
       "      <td>0.563882</td>\n",
       "      <td>((0, 2, 29, 3, 20, 5, 27, 6, 52, 8, 10, 13, 40...</td>\n",
       "    </tr>\n",
       "    <tr>\n",
       "      <th>9</th>\n",
       "      <td>4</td>\n",
       "      <td>4</td>\n",
       "      <td>0.567355</td>\n",
       "      <td>((0, 2, 24, 4, 13, 6, 12, 8, 11, 7, 18, 9, 27,...</td>\n",
       "    </tr>\n",
       "    <tr>\n",
       "      <th>12</th>\n",
       "      <td>4</td>\n",
       "      <td>7</td>\n",
       "      <td>0.568475</td>\n",
       "      <td>((0, 2, 17, 24, 3, 4, 23, 7, 46, 52, 8, 6, 26,...</td>\n",
       "    </tr>\n",
       "    <tr>\n",
       "      <th>22</th>\n",
       "      <td>5</td>\n",
       "      <td>9</td>\n",
       "      <td>0.568747</td>\n",
       "      <td>((0, 32, 2, 26, 5, 7, 9, 6, 8, 10, 35, 1, 12, ...</td>\n",
       "    </tr>\n",
       "    <tr>\n",
       "      <th>0</th>\n",
       "      <td>3</td>\n",
       "      <td>3</td>\n",
       "      <td>0.570041</td>\n",
       "      <td>((0, 16, 2, 8, 11, 15, 4, 7, 9, 6, 14, 10, 5, ...</td>\n",
       "    </tr>\n",
       "    <tr>\n",
       "      <th>13</th>\n",
       "      <td>4</td>\n",
       "      <td>8</td>\n",
       "      <td>0.572225</td>\n",
       "      <td>((1, 12, 2, 3, 5, 6, 9, 15, 7, 27, 8, 11, 13, ...</td>\n",
       "    </tr>\n",
       "    <tr>\n",
       "      <th>23</th>\n",
       "      <td>5</td>\n",
       "      <td>10</td>\n",
       "      <td>0.572659</td>\n",
       "      <td>((0, 15, 2, 30, 3, 5, 29, 7, 11, 9, 10, 35, 12...</td>\n",
       "    </tr>\n",
       "    <tr>\n",
       "      <th>3</th>\n",
       "      <td>3</td>\n",
       "      <td>6</td>\n",
       "      <td>0.572902</td>\n",
       "      <td>((0, 2, 4, 6, 10, 9, 12, 1, 19, 8, 22, 14, 16,...</td>\n",
       "    </tr>\n",
       "    <tr>\n",
       "      <th>20</th>\n",
       "      <td>5</td>\n",
       "      <td>7</td>\n",
       "      <td>0.573529</td>\n",
       "      <td>((0, 2, 12, 25, 4, 19, 7, 8, 11, 6, 21, 10, 9,...</td>\n",
       "    </tr>\n",
       "    <tr>\n",
       "      <th>21</th>\n",
       "      <td>5</td>\n",
       "      <td>8</td>\n",
       "      <td>0.574163</td>\n",
       "      <td>((1, 11, 2, 3, 4, 41, 7, 9, 13, 6, 22, 8, 32, ...</td>\n",
       "    </tr>\n",
       "    <tr>\n",
       "      <th>11</th>\n",
       "      <td>4</td>\n",
       "      <td>6</td>\n",
       "      <td>0.574895</td>\n",
       "      <td>((0, 30, 2, 3, 4, 6, 10, 8, 13, 12, 32, 1, 18,...</td>\n",
       "    </tr>\n",
       "    <tr>\n",
       "      <th>1</th>\n",
       "      <td>3</td>\n",
       "      <td>4</td>\n",
       "      <td>0.576064</td>\n",
       "      <td>((0, 2, 3, 4, 7, 9, 11, 6, 19, 8, 26, 1, 17, 1...</td>\n",
       "    </tr>\n",
       "    <tr>\n",
       "      <th>19</th>\n",
       "      <td>5</td>\n",
       "      <td>6</td>\n",
       "      <td>0.579221</td>\n",
       "      <td>((0, 29, 2, 22, 4, 6, 11, 8, 13, 10, 12, 1, 16...</td>\n",
       "    </tr>\n",
       "    <tr>\n",
       "      <th>8</th>\n",
       "      <td>4</td>\n",
       "      <td>3</td>\n",
       "      <td>0.587979</td>\n",
       "      <td>((0, 16, 2, 9, 11, 15, 4, 6, 8, 10, 14, 5, 7, ...</td>\n",
       "    </tr>\n",
       "    <tr>\n",
       "      <th>10</th>\n",
       "      <td>4</td>\n",
       "      <td>5</td>\n",
       "      <td>0.590347</td>\n",
       "      <td>((0, 12, 2, 17, 21, 4, 35, 6, 15, 23, 9, 7, 10...</td>\n",
       "    </tr>\n",
       "    <tr>\n",
       "      <th>2</th>\n",
       "      <td>3</td>\n",
       "      <td>5</td>\n",
       "      <td>0.598687</td>\n",
       "      <td>((1, 14, 2, 18, 26, 4, 24, 7, 16, 8, 38, 10, 1...</td>\n",
       "    </tr>\n",
       "    <tr>\n",
       "      <th>18</th>\n",
       "      <td>5</td>\n",
       "      <td>5</td>\n",
       "      <td>0.601008</td>\n",
       "      <td>((1, 2, 13, 20, 4, 25, 7, 18, 3, 8, 11, 6, 10,...</td>\n",
       "    </tr>\n",
       "    <tr>\n",
       "      <th>17</th>\n",
       "      <td>5</td>\n",
       "      <td>4</td>\n",
       "      <td>0.613202</td>\n",
       "      <td>((0, 2, 3, 11, 4, 7, 8, 10, 6, 12, 5, 9, 15, 1...</td>\n",
       "    </tr>\n",
       "  </tbody>\n",
       "</table>\n",
       "</div>"
      ],
      "text/plain": [
       "    overlap  interval  silhouette  \\\n",
       "7         3        10    0.545313   \n",
       "16        5         3    0.549377   \n",
       "15        4        10    0.549411   \n",
       "14        4         9    0.555420   \n",
       "5         3         8    0.556406   \n",
       "6         3         9    0.560284   \n",
       "4         3         7    0.563882   \n",
       "9         4         4    0.567355   \n",
       "12        4         7    0.568475   \n",
       "22        5         9    0.568747   \n",
       "0         3         3    0.570041   \n",
       "13        4         8    0.572225   \n",
       "23        5        10    0.572659   \n",
       "3         3         6    0.572902   \n",
       "20        5         7    0.573529   \n",
       "21        5         8    0.574163   \n",
       "11        4         6    0.574895   \n",
       "1         3         4    0.576064   \n",
       "19        5         6    0.579221   \n",
       "8         4         3    0.587979   \n",
       "10        4         5    0.590347   \n",
       "2         3         5    0.598687   \n",
       "18        5         5    0.601008   \n",
       "17        5         4    0.613202   \n",
       "\n",
       "                                          mapper_info  \n",
       "7   ((0, 2, 4, 35, 6, 8, 80, 10, 48, 13, 77, 14, 8...  \n",
       "16  ((0, 12, 2, 7, 4, 8, 6, 5, 9, 1, 13, 10, 3, 11...  \n",
       "15  ((1, 15, 2, 33, 56, 3, 5, 31, 7, 8, 47, 10, 12...  \n",
       "14  ((0, 2, 3, 50, 4, 43, 7, 9, 38, 6, 61, 8, 10, ...  \n",
       "5   ((1, 13, 2, 63, 71, 3, 5, 7, 8, 67, 6, 31, 68,...  \n",
       "6   ((0, 2, 42, 5, 49, 7, 8, 45, 11, 60, 12, 14, 1...  \n",
       "4   ((0, 2, 29, 3, 20, 5, 27, 6, 52, 8, 10, 13, 40...  \n",
       "9   ((0, 2, 24, 4, 13, 6, 12, 8, 11, 7, 18, 9, 27,...  \n",
       "12  ((0, 2, 17, 24, 3, 4, 23, 7, 46, 52, 8, 6, 26,...  \n",
       "22  ((0, 32, 2, 26, 5, 7, 9, 6, 8, 10, 35, 1, 12, ...  \n",
       "0   ((0, 16, 2, 8, 11, 15, 4, 7, 9, 6, 14, 10, 5, ...  \n",
       "13  ((1, 12, 2, 3, 5, 6, 9, 15, 7, 27, 8, 11, 13, ...  \n",
       "23  ((0, 15, 2, 30, 3, 5, 29, 7, 11, 9, 10, 35, 12...  \n",
       "3   ((0, 2, 4, 6, 10, 9, 12, 1, 19, 8, 22, 14, 16,...  \n",
       "20  ((0, 2, 12, 25, 4, 19, 7, 8, 11, 6, 21, 10, 9,...  \n",
       "21  ((1, 11, 2, 3, 4, 41, 7, 9, 13, 6, 22, 8, 32, ...  \n",
       "11  ((0, 30, 2, 3, 4, 6, 10, 8, 13, 12, 32, 1, 18,...  \n",
       "1   ((0, 2, 3, 4, 7, 9, 11, 6, 19, 8, 26, 1, 17, 1...  \n",
       "19  ((0, 29, 2, 22, 4, 6, 11, 8, 13, 10, 12, 1, 16...  \n",
       "8   ((0, 16, 2, 9, 11, 15, 4, 6, 8, 10, 14, 5, 7, ...  \n",
       "10  ((0, 12, 2, 17, 21, 4, 35, 6, 15, 23, 9, 7, 10...  \n",
       "2   ((1, 14, 2, 18, 26, 4, 24, 7, 16, 8, 38, 10, 1...  \n",
       "18  ((1, 2, 13, 20, 4, 25, 7, 18, 3, 8, 11, 6, 10,...  \n",
       "17  ((0, 2, 3, 11, 4, 7, 8, 10, 6, 12, 5, 9, 15, 1...  "
      ]
     },
     "execution_count": 52,
     "metadata": {},
     "output_type": "execute_result"
    }
   ],
   "source": [
    "detailed_results = []\n",
    "\n",
    "for overlap in np.arange(3, 6, 1):\n",
    "    silhouette_for_intervals = []\n",
    "\n",
    "    for interval in range(3, 11):\n",
    "        mapper_algo = MapperAlgorithm(\n",
    "            cover=CubicalCover(\n",
    "                n_intervals=interval,\n",
    "                overlap_frac=overlap / 10\n",
    "            ),\n",
    "            clustering=AgglomerativeClustering(n_clusters=2, linkage='ward')\n",
    "        )\n",
    "\n",
    "        mapper_info = mapper_algo.fit_transform(X, lens)\n",
    "        silhouette_for_intervals.append(mapper_info[1])\n",
    "\n",
    "        detailed_results.append({\n",
    "            \"overlap\": overlap,\n",
    "            \"interval\": interval,\n",
    "            \"silhouette\": mapper_info[1],\n",
    "            \"mapper_info\": mapper_info\n",
    "        })\n",
    "        print(f'interval:{interval}, overlap:{overlap}')\n",
    " \n",
    "    best_interval = np.argmax(silhouette_for_intervals) + 5  # +5 因為 interval 從5開始\n",
    "\n",
    "detailed_results_df = pd.DataFrame(detailed_results)\n",
    "detailed_results_df.sort_values(by='silhouette')"
   ]
  },
  {
   "cell_type": "code",
   "execution_count": 10,
   "metadata": {},
   "outputs": [
    {
     "name": "stderr",
     "output_type": "stream",
     "text": [
      "Processing Clusters: 100%|██████████| 8/8 [00:00<00:00, 5037.45it/s]\n"
     ]
    },
    {
     "data": {
      "application/vnd.plotly.v1+json": {
       "config": {
        "plotlyServerURL": "https://plot.ly",
        "scrollZoom": true
       },
       "data": [
        {
         "hoverinfo": "skip",
         "line": {
          "color": "#777",
          "width": 0.75
         },
         "marker": {
          "colorscale": [
           [
            0,
            "rgb(0,0,131)"
           ],
           [
            0.2,
            "rgb(0,60,170)"
           ],
           [
            0.4,
            "rgb(5,255,255)"
           ],
           [
            0.6,
            "rgb(255,255,0)"
           ],
           [
            0.8,
            "rgb(250,0,0)"
           ],
           [
            1,
            "rgb(128,0,0)"
           ]
          ],
          "line": {
           "colorscale": [
            [
             0,
             "rgb(0,0,131)"
            ],
            [
             0.2,
             "rgb(0,60,170)"
            ],
            [
             0.4,
             "rgb(5,255,255)"
            ],
            [
             0.6,
             "rgb(255,255,0)"
            ],
            [
             0.8,
             "rgb(250,0,0)"
            ],
            [
             1,
             "rgb(128,0,0)"
            ]
           ]
          }
         },
         "mode": "lines",
         "name": "edges_trace",
         "opacity": 1,
         "type": "scatter",
         "x": [
          0.4471127152936254,
          0.3592141448242598,
          null,
          0.4471127152936254,
          0.5179015276762029,
          null,
          0.04023493315686493,
          0.1516201954782047,
          null,
          0.04023493315686493,
          0.10396717540644622,
          null,
          0.04023493315686493,
          -0.027097321913326654,
          null,
          0.04023493315686493,
          0.006442596698698765,
          null,
          0.04023493315686493,
          -0.03805124151737227,
          null,
          -0.10278863023687794,
          -0.03805124151737227,
          null,
          0.1516201954782047,
          0.10396717540644622,
          null,
          0.1516201954782047,
          0.26023517636299226,
          null,
          0.3592141448242598,
          0.26023517636299226,
          null,
          -0.027097321913326654,
          0.006442596698698765,
          null,
          -0.4691020074403546,
          -0.4562945638620805,
          null
         ],
         "y": [
          0.16112140637645236,
          0.13545326220773707,
          null,
          0.16112140637645236,
          0.18279424846505626,
          null,
          0.06536779705330971,
          0.08069576946716883,
          null,
          0.06536779705330971,
          0.0426121289352417,
          null,
          0.06536779705330971,
          0.10214826715449948,
          null,
          0.06536779705330971,
          0.13409448310492836,
          null,
          0.06536779705330971,
          -0.0023294291210182107,
          null,
          -0.04976602304504996,
          -0.0023294291210182107,
          null,
          0.08069576946716883,
          0.0426121289352417,
          null,
          0.08069576946716883,
          0.10822249641881389,
          null,
          0.13545326220773707,
          0.10822249641881389,
          null,
          0.10214826715449948,
          0.13409448310492836,
          null,
          -0.8222245632649244,
          -0.8740630273030806,
          null
         ]
        },
        {
         "hoverinfo": "text",
         "marker": {
          "cmax": 1,
          "cmin": 0,
          "color": [
           0,
           0.9041248606465998,
           1,
           1,
           0,
           0,
           0,
           0,
           0,
           0,
           1,
           1,
           1,
           1,
           1,
           0
          ],
          "colorbar": {
           "borderwidth": 0,
           "nticks": 10,
           "orientation": "v",
           "outlinewidth": 1,
           "showticklabels": true,
           "thickness": 0.025,
           "thicknessmode": "fraction",
           "tickformat": ".2g",
           "tickmode": "auto",
           "tickwidth": 1,
           "title": {
            "side": "right",
            "text": ""
           },
           "xanchor": "left",
           "xpad": 0,
           "ypad": 0
          },
          "colorscale": [
           [
            0,
            "rgb(0,0,131)"
           ],
           [
            0.2,
            "rgb(0,60,170)"
           ],
           [
            0.4,
            "rgb(5,255,255)"
           ],
           [
            0.6,
            "rgb(255,255,0)"
           ],
           [
            0.8,
            "rgb(250,0,0)"
           ],
           [
            1,
            "rgb(128,0,0)"
           ]
          ],
          "line": {
           "color": "#777",
           "colorscale": [
            [
             0,
             "rgb(0,0,131)"
            ],
            [
             0.2,
             "rgb(0,60,170)"
            ],
            [
             0.4,
             "rgb(5,255,255)"
            ],
            [
             0.6,
             "rgb(255,255,0)"
            ],
            [
             0.8,
             "rgb(250,0,0)"
            ],
            [
             1,
             "rgb(128,0,0)"
            ]
           ],
           "width": 0.75
          },
          "opacity": 1,
          "reversescale": false,
          "showscale": true,
          "size": [
           17.11401987007612,
           23.820877618725884,
           25,
           16.28053033583963,
           17.261239957149648,
           10.847209010609046,
           17.150943364713065,
           17.058484775442633,
           12.062170261482965,
           17.13249156446539,
           15.257572620413987,
           16.1243585692968,
           16.1243585692968,
           14.513884180607795,
           14.513884180607795,
           17.261239957149648
          ]
         },
         "mode": "markers",
         "name": "nodes_trace",
         "opacity": 1,
         "text": [
          "color: 0<br>node: 0<br>size: 463",
          "color: 0.904<br>node: 2<br>size: 897",
          "color: 1<br>node: 3<br>size: 988",
          "color: 1<br>node: 11<br>size: 419",
          "color: 0<br>node: 4<br>size: 471",
          "color: 0<br>node: 7<br>size: 186",
          "color: 0<br>node: 8<br>size: 465",
          "color: 0<br>node: 10<br>size: 460",
          "color: 0<br>node: 6<br>size: 230",
          "color: 0<br>node: 12<br>size: 464",
          "color: 1<br>node: 5<br>size: 368",
          "color: 1<br>node: 9<br>size: 411",
          "color: 1<br>node: 15<br>size: 411",
          "color: 1<br>node: 1<br>size: 333",
          "color: 1<br>node: 13<br>size: 333",
          "color: 0<br>node: 14<br>size: 471"
         ],
         "type": "scatter",
         "x": [
          0.4471127152936254,
          0.04023493315686493,
          -0.10278863023687794,
          -0.03805124151737227,
          0.5179015276762029,
          -0.5816473255251244,
          0.1516201954782047,
          0.10396717540644622,
          -0.800655592264442,
          0.3592141448242598,
          0.5889082178622833,
          -0.027097321913326654,
          0.006442596698698765,
          -0.4691020074403546,
          -0.4562945638620805,
          0.26023517636299226
         ],
         "y": [
          0.16112140637645236,
          0.06536779705330971,
          -0.04976602304504996,
          -0.0023294291210182107,
          0.18279424846505626,
          1,
          0.08069576946716883,
          0.0426121289352417,
          0.6124232472304326,
          0.13545326220773707,
          -0.8765500636795669,
          0.10214826715449948,
          0.13409448310492836,
          -0.8222245632649244,
          -0.8740630273030806,
          0.10822249641881389
         ]
        }
       ],
       "layout": {
        "autosize": false,
        "height": 600,
        "hovermode": "closest",
        "margin": {
         "b": 10,
         "l": 10,
         "r": 10,
         "t": 10
        },
        "plot_bgcolor": "rgba(0, 0, 0, 0)",
        "scene": {
         "xaxis": {
          "backgroundcolor": "rgba(0, 0, 0, 0)",
          "gridcolor": "rgba(230, 230, 230, 1.0)",
          "linecolor": "rgba(230, 230, 230, 1.0)",
          "linewidth": 1,
          "mirror": true,
          "showaxeslabels": false,
          "showgrid": true,
          "showline": true,
          "showticklabels": false,
          "title": {
           "text": ""
          },
          "visible": true,
          "zerolinecolor": "rgba(230, 230, 230, 1.0)"
         },
         "yaxis": {
          "backgroundcolor": "rgba(0, 0, 0, 0)",
          "gridcolor": "rgba(230, 230, 230, 1.0)",
          "linecolor": "rgba(230, 230, 230, 1.0)",
          "linewidth": 1,
          "mirror": true,
          "showaxeslabels": false,
          "showgrid": true,
          "showline": true,
          "showticklabels": false,
          "title": {
           "text": ""
          },
          "visible": true,
          "zerolinecolor": "rgba(230, 230, 230, 1.0)"
         },
         "zaxis": {
          "backgroundcolor": "rgba(0, 0, 0, 0)",
          "gridcolor": "rgba(230, 230, 230, 1.0)",
          "linecolor": "rgba(230, 230, 230, 1.0)",
          "linewidth": 1,
          "mirror": true,
          "showaxeslabels": false,
          "showgrid": true,
          "showline": true,
          "showticklabels": false,
          "title": {
           "text": ""
          },
          "visible": true,
          "zerolinecolor": "rgba(230, 230, 230, 1.0)"
         }
        },
        "showlegend": false,
        "template": {
         "data": {
          "bar": [
           {
            "error_x": {
             "color": "#2a3f5f"
            },
            "error_y": {
             "color": "#2a3f5f"
            },
            "marker": {
             "line": {
              "color": "#E5ECF6",
              "width": 0.5
             },
             "pattern": {
              "fillmode": "overlay",
              "size": 10,
              "solidity": 0.2
             }
            },
            "type": "bar"
           }
          ],
          "barpolar": [
           {
            "marker": {
             "line": {
              "color": "#E5ECF6",
              "width": 0.5
             },
             "pattern": {
              "fillmode": "overlay",
              "size": 10,
              "solidity": 0.2
             }
            },
            "type": "barpolar"
           }
          ],
          "carpet": [
           {
            "aaxis": {
             "endlinecolor": "#2a3f5f",
             "gridcolor": "white",
             "linecolor": "white",
             "minorgridcolor": "white",
             "startlinecolor": "#2a3f5f"
            },
            "baxis": {
             "endlinecolor": "#2a3f5f",
             "gridcolor": "white",
             "linecolor": "white",
             "minorgridcolor": "white",
             "startlinecolor": "#2a3f5f"
            },
            "type": "carpet"
           }
          ],
          "choropleth": [
           {
            "colorbar": {
             "outlinewidth": 0,
             "ticks": ""
            },
            "type": "choropleth"
           }
          ],
          "contour": [
           {
            "colorbar": {
             "outlinewidth": 0,
             "ticks": ""
            },
            "colorscale": [
             [
              0,
              "#0d0887"
             ],
             [
              0.1111111111111111,
              "#46039f"
             ],
             [
              0.2222222222222222,
              "#7201a8"
             ],
             [
              0.3333333333333333,
              "#9c179e"
             ],
             [
              0.4444444444444444,
              "#bd3786"
             ],
             [
              0.5555555555555556,
              "#d8576b"
             ],
             [
              0.6666666666666666,
              "#ed7953"
             ],
             [
              0.7777777777777778,
              "#fb9f3a"
             ],
             [
              0.8888888888888888,
              "#fdca26"
             ],
             [
              1,
              "#f0f921"
             ]
            ],
            "type": "contour"
           }
          ],
          "contourcarpet": [
           {
            "colorbar": {
             "outlinewidth": 0,
             "ticks": ""
            },
            "type": "contourcarpet"
           }
          ],
          "heatmap": [
           {
            "colorbar": {
             "outlinewidth": 0,
             "ticks": ""
            },
            "colorscale": [
             [
              0,
              "#0d0887"
             ],
             [
              0.1111111111111111,
              "#46039f"
             ],
             [
              0.2222222222222222,
              "#7201a8"
             ],
             [
              0.3333333333333333,
              "#9c179e"
             ],
             [
              0.4444444444444444,
              "#bd3786"
             ],
             [
              0.5555555555555556,
              "#d8576b"
             ],
             [
              0.6666666666666666,
              "#ed7953"
             ],
             [
              0.7777777777777778,
              "#fb9f3a"
             ],
             [
              0.8888888888888888,
              "#fdca26"
             ],
             [
              1,
              "#f0f921"
             ]
            ],
            "type": "heatmap"
           }
          ],
          "heatmapgl": [
           {
            "colorbar": {
             "outlinewidth": 0,
             "ticks": ""
            },
            "colorscale": [
             [
              0,
              "#0d0887"
             ],
             [
              0.1111111111111111,
              "#46039f"
             ],
             [
              0.2222222222222222,
              "#7201a8"
             ],
             [
              0.3333333333333333,
              "#9c179e"
             ],
             [
              0.4444444444444444,
              "#bd3786"
             ],
             [
              0.5555555555555556,
              "#d8576b"
             ],
             [
              0.6666666666666666,
              "#ed7953"
             ],
             [
              0.7777777777777778,
              "#fb9f3a"
             ],
             [
              0.8888888888888888,
              "#fdca26"
             ],
             [
              1,
              "#f0f921"
             ]
            ],
            "type": "heatmapgl"
           }
          ],
          "histogram": [
           {
            "marker": {
             "pattern": {
              "fillmode": "overlay",
              "size": 10,
              "solidity": 0.2
             }
            },
            "type": "histogram"
           }
          ],
          "histogram2d": [
           {
            "colorbar": {
             "outlinewidth": 0,
             "ticks": ""
            },
            "colorscale": [
             [
              0,
              "#0d0887"
             ],
             [
              0.1111111111111111,
              "#46039f"
             ],
             [
              0.2222222222222222,
              "#7201a8"
             ],
             [
              0.3333333333333333,
              "#9c179e"
             ],
             [
              0.4444444444444444,
              "#bd3786"
             ],
             [
              0.5555555555555556,
              "#d8576b"
             ],
             [
              0.6666666666666666,
              "#ed7953"
             ],
             [
              0.7777777777777778,
              "#fb9f3a"
             ],
             [
              0.8888888888888888,
              "#fdca26"
             ],
             [
              1,
              "#f0f921"
             ]
            ],
            "type": "histogram2d"
           }
          ],
          "histogram2dcontour": [
           {
            "colorbar": {
             "outlinewidth": 0,
             "ticks": ""
            },
            "colorscale": [
             [
              0,
              "#0d0887"
             ],
             [
              0.1111111111111111,
              "#46039f"
             ],
             [
              0.2222222222222222,
              "#7201a8"
             ],
             [
              0.3333333333333333,
              "#9c179e"
             ],
             [
              0.4444444444444444,
              "#bd3786"
             ],
             [
              0.5555555555555556,
              "#d8576b"
             ],
             [
              0.6666666666666666,
              "#ed7953"
             ],
             [
              0.7777777777777778,
              "#fb9f3a"
             ],
             [
              0.8888888888888888,
              "#fdca26"
             ],
             [
              1,
              "#f0f921"
             ]
            ],
            "type": "histogram2dcontour"
           }
          ],
          "mesh3d": [
           {
            "colorbar": {
             "outlinewidth": 0,
             "ticks": ""
            },
            "type": "mesh3d"
           }
          ],
          "parcoords": [
           {
            "line": {
             "colorbar": {
              "outlinewidth": 0,
              "ticks": ""
             }
            },
            "type": "parcoords"
           }
          ],
          "pie": [
           {
            "automargin": true,
            "type": "pie"
           }
          ],
          "scatter": [
           {
            "fillpattern": {
             "fillmode": "overlay",
             "size": 10,
             "solidity": 0.2
            },
            "type": "scatter"
           }
          ],
          "scatter3d": [
           {
            "line": {
             "colorbar": {
              "outlinewidth": 0,
              "ticks": ""
             }
            },
            "marker": {
             "colorbar": {
              "outlinewidth": 0,
              "ticks": ""
             }
            },
            "type": "scatter3d"
           }
          ],
          "scattercarpet": [
           {
            "marker": {
             "colorbar": {
              "outlinewidth": 0,
              "ticks": ""
             }
            },
            "type": "scattercarpet"
           }
          ],
          "scattergeo": [
           {
            "marker": {
             "colorbar": {
              "outlinewidth": 0,
              "ticks": ""
             }
            },
            "type": "scattergeo"
           }
          ],
          "scattergl": [
           {
            "marker": {
             "colorbar": {
              "outlinewidth": 0,
              "ticks": ""
             }
            },
            "type": "scattergl"
           }
          ],
          "scattermapbox": [
           {
            "marker": {
             "colorbar": {
              "outlinewidth": 0,
              "ticks": ""
             }
            },
            "type": "scattermapbox"
           }
          ],
          "scatterpolar": [
           {
            "marker": {
             "colorbar": {
              "outlinewidth": 0,
              "ticks": ""
             }
            },
            "type": "scatterpolar"
           }
          ],
          "scatterpolargl": [
           {
            "marker": {
             "colorbar": {
              "outlinewidth": 0,
              "ticks": ""
             }
            },
            "type": "scatterpolargl"
           }
          ],
          "scatterternary": [
           {
            "marker": {
             "colorbar": {
              "outlinewidth": 0,
              "ticks": ""
             }
            },
            "type": "scatterternary"
           }
          ],
          "surface": [
           {
            "colorbar": {
             "outlinewidth": 0,
             "ticks": ""
            },
            "colorscale": [
             [
              0,
              "#0d0887"
             ],
             [
              0.1111111111111111,
              "#46039f"
             ],
             [
              0.2222222222222222,
              "#7201a8"
             ],
             [
              0.3333333333333333,
              "#9c179e"
             ],
             [
              0.4444444444444444,
              "#bd3786"
             ],
             [
              0.5555555555555556,
              "#d8576b"
             ],
             [
              0.6666666666666666,
              "#ed7953"
             ],
             [
              0.7777777777777778,
              "#fb9f3a"
             ],
             [
              0.8888888888888888,
              "#fdca26"
             ],
             [
              1,
              "#f0f921"
             ]
            ],
            "type": "surface"
           }
          ],
          "table": [
           {
            "cells": {
             "fill": {
              "color": "#EBF0F8"
             },
             "line": {
              "color": "white"
             }
            },
            "header": {
             "fill": {
              "color": "#C8D4E3"
             },
             "line": {
              "color": "white"
             }
            },
            "type": "table"
           }
          ]
         },
         "layout": {
          "annotationdefaults": {
           "arrowcolor": "#2a3f5f",
           "arrowhead": 0,
           "arrowwidth": 1
          },
          "autotypenumbers": "strict",
          "coloraxis": {
           "colorbar": {
            "outlinewidth": 0,
            "ticks": ""
           }
          },
          "colorscale": {
           "diverging": [
            [
             0,
             "#8e0152"
            ],
            [
             0.1,
             "#c51b7d"
            ],
            [
             0.2,
             "#de77ae"
            ],
            [
             0.3,
             "#f1b6da"
            ],
            [
             0.4,
             "#fde0ef"
            ],
            [
             0.5,
             "#f7f7f7"
            ],
            [
             0.6,
             "#e6f5d0"
            ],
            [
             0.7,
             "#b8e186"
            ],
            [
             0.8,
             "#7fbc41"
            ],
            [
             0.9,
             "#4d9221"
            ],
            [
             1,
             "#276419"
            ]
           ],
           "sequential": [
            [
             0,
             "#0d0887"
            ],
            [
             0.1111111111111111,
             "#46039f"
            ],
            [
             0.2222222222222222,
             "#7201a8"
            ],
            [
             0.3333333333333333,
             "#9c179e"
            ],
            [
             0.4444444444444444,
             "#bd3786"
            ],
            [
             0.5555555555555556,
             "#d8576b"
            ],
            [
             0.6666666666666666,
             "#ed7953"
            ],
            [
             0.7777777777777778,
             "#fb9f3a"
            ],
            [
             0.8888888888888888,
             "#fdca26"
            ],
            [
             1,
             "#f0f921"
            ]
           ],
           "sequentialminus": [
            [
             0,
             "#0d0887"
            ],
            [
             0.1111111111111111,
             "#46039f"
            ],
            [
             0.2222222222222222,
             "#7201a8"
            ],
            [
             0.3333333333333333,
             "#9c179e"
            ],
            [
             0.4444444444444444,
             "#bd3786"
            ],
            [
             0.5555555555555556,
             "#d8576b"
            ],
            [
             0.6666666666666666,
             "#ed7953"
            ],
            [
             0.7777777777777778,
             "#fb9f3a"
            ],
            [
             0.8888888888888888,
             "#fdca26"
            ],
            [
             1,
             "#f0f921"
            ]
           ]
          },
          "colorway": [
           "#636efa",
           "#EF553B",
           "#00cc96",
           "#ab63fa",
           "#FFA15A",
           "#19d3f3",
           "#FF6692",
           "#B6E880",
           "#FF97FF",
           "#FECB52"
          ],
          "font": {
           "color": "#2a3f5f"
          },
          "geo": {
           "bgcolor": "white",
           "lakecolor": "white",
           "landcolor": "#E5ECF6",
           "showlakes": true,
           "showland": true,
           "subunitcolor": "white"
          },
          "hoverlabel": {
           "align": "left"
          },
          "hovermode": "closest",
          "mapbox": {
           "style": "light"
          },
          "paper_bgcolor": "white",
          "plot_bgcolor": "#E5ECF6",
          "polar": {
           "angularaxis": {
            "gridcolor": "white",
            "linecolor": "white",
            "ticks": ""
           },
           "bgcolor": "#E5ECF6",
           "radialaxis": {
            "gridcolor": "white",
            "linecolor": "white",
            "ticks": ""
           }
          },
          "scene": {
           "xaxis": {
            "backgroundcolor": "#E5ECF6",
            "gridcolor": "white",
            "gridwidth": 2,
            "linecolor": "white",
            "showbackground": true,
            "ticks": "",
            "zerolinecolor": "white"
           },
           "yaxis": {
            "backgroundcolor": "#E5ECF6",
            "gridcolor": "white",
            "gridwidth": 2,
            "linecolor": "white",
            "showbackground": true,
            "ticks": "",
            "zerolinecolor": "white"
           },
           "zaxis": {
            "backgroundcolor": "#E5ECF6",
            "gridcolor": "white",
            "gridwidth": 2,
            "linecolor": "white",
            "showbackground": true,
            "ticks": "",
            "zerolinecolor": "white"
           }
          },
          "shapedefaults": {
           "line": {
            "color": "#2a3f5f"
           }
          },
          "ternary": {
           "aaxis": {
            "gridcolor": "white",
            "linecolor": "white",
            "ticks": ""
           },
           "baxis": {
            "gridcolor": "white",
            "linecolor": "white",
            "ticks": ""
           },
           "bgcolor": "#E5ECF6",
           "caxis": {
            "gridcolor": "white",
            "linecolor": "white",
            "ticks": ""
           }
          },
          "title": {
           "x": 0.05
          },
          "xaxis": {
           "automargin": true,
           "gridcolor": "white",
           "linecolor": "white",
           "ticks": "",
           "title": {
            "standoff": 15
           },
           "zerolinecolor": "white",
           "zerolinewidth": 2
          },
          "yaxis": {
           "automargin": true,
           "gridcolor": "white",
           "linecolor": "white",
           "ticks": "",
           "title": {
            "standoff": 15
           },
           "zerolinecolor": "white",
           "zerolinewidth": 2
          }
         }
        },
        "uirevision": "constant",
        "width": 600,
        "xaxis": {
         "linewidth": 1,
         "mirror": true,
         "showgrid": false,
         "showline": true,
         "showticklabels": false,
         "title": {
          "text": ""
         },
         "visible": true,
         "zeroline": false
        },
        "yaxis": {
         "linewidth": 1,
         "mirror": true,
         "showgrid": false,
         "showline": true,
         "showticklabels": false,
         "title": {
          "text": ""
         },
         "visible": true,
         "zeroline": false
        }
       }
      }
     },
     "metadata": {},
     "output_type": "display_data"
    }
   ],
   "source": [
    "mapper_algo = MapperAlgorithm(\n",
    "    cover=CubicalCover(\n",
    "        n_intervals=4,\n",
    "        overlap_frac=0.5\n",
    "    ),\n",
    "    # clustering=AgglomerativeClustering()\n",
    "    clustering=FailSafeClustering(\n",
    "        clustering=AgglomerativeClustering(linkage='ward')\n",
    "        )\n",
    ")\n",
    "mapper_info = mapper_algo.fit_transform(X, lens)\n",
    "\n",
    "mapper_plot = MapperPlot(\n",
    "    mapper_info[0],\n",
    "    dim=2,\n",
    "    iterations=100,\n",
    "    seed=42\n",
    ")\n",
    "\n",
    "fig = mapper_plot.plot_plotly(\n",
    "    title='',\n",
    "    width=600,\n",
    "    height=600,\n",
    "    colors=y,                       # color according to categorical values\n",
    "    cmap='jet',                     # Jet colormap, for classes\n",
    "    agg=np.nanmean,                 # aggregate on nodes according to mean\n",
    ")\n",
    "\n",
    "fig.show(config={'scrollZoom': True})"
   ]
  },
  {
   "cell_type": "code",
   "execution_count": 44,
   "metadata": {},
   "outputs": [
    {
     "data": {
      "image/png": "[encoded data removed]",
      "text/plain": [
       "<Figure size 640x480 with 1 Axes>"
      ]
     },
     "metadata": {},
     "output_type": "display_data"
    }
   ],
   "source": [
    "import matplotlib.pyplot as plt\n",
    "from sklearn.datasets import make_blobs\n",
    "\n",
    "# 生成數據\n",
    "X, y = make_blobs(n_samples=1000,     # 300個樣本\n",
    "                  centers=5,         # 3個群\n",
    "                  n_features=2,      # 每個樣本2個特徵\n",
    "                  cluster_std=0.5,   # 每個群標準差\n",
    "                  random_state=42)   # 固定隨機種子\n",
    "\n",
    "# 繪製散點圖\n",
    "plt.scatter(X[:, 0], X[:, 1], c=y, cmap='viridis', s=50)\n",
    "plt.xlabel(\"Feature 1\")\n",
    "plt.ylabel(\"Feature 2\")\n",
    "plt.title(\"Generated Data with make_blobs\")\n",
    "plt.show()\n"
   ]
  },
  {
   "cell_type": "code",
   "execution_count": 47,
   "metadata": {},
   "outputs": [
    {
     "name": "stdout",
     "output_type": "stream",
     "text": [
      "[27323.27934454579, 5933.609974190424, 1673.3716147560945, 485.81809948950803, 451.9372329155137, 418.55138970579446, 385.6763897253793, 360.02554877739226]\n",
      "[1095.1070027241894, 4315.874590200836, 11037.448466567841, 29092.803927502002, 25008.827322669153, 22493.613848685283, 20914.693885188917, 19593.271263219165]\n"
     ]
    }
   ],
   "source": [
    "ssd_list = []\n",
    "calinski_list = []\n",
    "\n",
    "# 計算 SSD\n",
    "def calculate_ssd(X, labels):\n",
    "    ssd = 0\n",
    "    for label in np.unique(labels):\n",
    "        cluster_points = X[labels == label]\n",
    "        centroid = cluster_points.mean(axis=0)\n",
    "        ssd += ((cluster_points - centroid) ** 2).sum()\n",
    "    return ssd\n",
    "\n",
    "for k in range(2, 10):  # 嘗試 1~10 個群\n",
    "    model = AgglomerativeClustering(n_clusters=k, linkage='ward')\n",
    "    model.fit(X)\n",
    "    labels = model.labels_\n",
    "    \n",
    "    ssd_list.append(calculate_ssd(X, labels))\n",
    "    calinski_list.append(calinski_harabasz_score(X, labels))\n",
    "\n",
    "print(ssd_list)\n",
    "print(calinski_list)"
   ]
  },
  {
   "cell_type": "code",
   "execution_count": 48,
   "metadata": {},
   "outputs": [
    {
     "data": {
      "image/png": "[encoded data removed]",
      "text/plain": [
       "<Figure size 640x480 with 1 Axes>"
      ]
     },
     "metadata": {},
     "output_type": "display_data"
    },
    {
     "data": {
      "image/png": "[encoded data removed]",
      "text/plain": [
       "<Figure size 640x480 with 1 Axes>"
      ]
     },
     "metadata": {},
     "output_type": "display_data"
    }
   ],
   "source": [
    "plt.plot(range(2, 10), ssd_list, marker='o')\n",
    "plt.xlabel(\"Number of Clusters\")\n",
    "plt.ylabel(\"Sum of Squared Differences (SSD)\")\n",
    "plt.title(\"Elbow Method\")\n",
    "plt.show()\n",
    "\n",
    "plt.plot(range(2, 10), calinski_list, marker='o')\n",
    "plt.xlabel(\"Number of Clusters\")\n",
    "plt.ylabel(\"Calinski\")\n",
    "plt.title(\"Elbow Method\")\n",
    "plt.show()"
   ]
  },
  {
   "cell_type": "code",
   "execution_count": 31,
   "metadata": {},
   "outputs": [
    {
     "data": {
      "text/plain": [
       "2910.9781310969615"
      ]
     },
     "execution_count": 31,
     "metadata": {},
     "output_type": "execute_result"
    }
   ],
   "source": [
    "score"
   ]
  },
  {
   "cell_type": "code",
   "execution_count": null,
   "metadata": {},
   "outputs": [],
   "source": []
  }
 ],
 "metadata": {
  "kernelspec": {
   "display_name": "base",
   "language": "python",
   "name": "python3"
  },
  "language_info": {
   "codemirror_mode": {
    "name": "ipython",
    "version": 3
   },
   "file_extension": ".py",
   "mimetype": "text/x-python",
   "name": "python",
   "nbconvert_exporter": "python",
   "pygments_lexer": "ipython3",
   "version": "3.9.12"
  },
  "orig_nbformat": 4
 },
 "nbformat": 4,
 "nbformat_minor": 2
}

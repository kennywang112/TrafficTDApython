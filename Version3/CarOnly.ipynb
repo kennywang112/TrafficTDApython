{
 "cells": [
  {
   "cell_type": "code",
   "execution_count": 1,
   "metadata": {},
   "outputs": [
    {
     "name": "stdout",
     "output_type": "stream",
     "text": [
      "c:\\Users\\USER\\Desktop\\TrafficTDApython\n"
     ]
    }
   ],
   "source": [
    "import os\n",
    "import sys\n",
    "# sys.path.append('/Users/wangqiqian/Desktop/TrafficTDApython/')\n",
    "sys.path.append('C:/Users/USER/Desktop/TrafficTDApython/')\n",
    "\n",
    "current_dir_path = os.getcwd()\n",
    "current_file_path = os.path.abspath(current_dir_path)\n",
    "current_dir_path = os.path.dirname(current_file_path)\n",
    "parent_dir_path = os.path.dirname(current_dir_path)\n",
    "\n",
    "os.chdir(current_dir_path + '\\\\ultils')\n",
    "# os.chdir(current_dir_path + '/ultils')\n",
    "print(current_dir_path)\n",
    "\n",
    "import time\n",
    "import pickle\n",
    "import numpy as np\n",
    "import pandas as pd\n",
    "import matplotlib.pyplot as plt\n",
    "\n",
    "from sklearn.cluster import AgglomerativeClustering\n",
    "\n",
    "from functions import *\n",
    "from chi import *\n",
    "from regressionP import *\n",
    "from models import *\n",
    "from utils_v3 import *\n",
    "\n",
    "# os.chdir('/Users/wangqiqian/Desktop/TrafficTDApython/')\n",
    "os.chdir('C:/Users/USER/Desktop/TrafficTDApython/')\n",
    "\n",
    "from Version3.tdamapper.core import MapperAlgorithm\n",
    "from Version3.tdamapper.cover import CubicalCover\n",
    "from Version3.tdamapper.clustering import FailSafeClustering\n",
    "from Version3.tdamapper.plot import MapperLayoutInteractive"
   ]
  },
  {
   "cell_type": "code",
   "execution_count": 2,
   "metadata": {},
   "outputs": [],
   "source": [
    "data1 = pd.read_csv(\"Data/NPA_TMA2_1.csv\", low_memory=False)[:-2]\n",
    "data2 = pd.read_csv(\"Data/NPA_TMA2_2.csv\", low_memory=False)[:-2]\n",
    "data3 = pd.read_csv(\"Data/NPA_TMA2_3.csv\", low_memory=False)[:-2]\n",
    "data4 = pd.read_csv(\"Data/NPA_TMA2_4_new.csv\", low_memory=False)[:-2]\n",
    "data5 = pd.read_csv(\"Data/NPA_TMA2_5.csv\", low_memory=False)[:-2]\n",
    "data6 = pd.read_csv(\"Data/NPA_TMA2_6_new.csv\", low_memory=False)[:-2]\n",
    "data7 = pd.read_csv(\"Data/NPA_TMA2_7.csv\", low_memory=False)[:-2]\n",
    "data8 = pd.read_csv(\"Data/NPA_TMA2_8.csv\", low_memory=False)[:-2]\n",
    "data9 = pd.read_csv(\"Data/NPA_TMA2_9.csv\", low_memory=False)[:-2]\n",
    "data10 = pd.read_csv(\"Data/NPA_TMA2_10.csv\", low_memory=False)[:-2]\n",
    "\n",
    "dataA2 = pd.concat([data1, data2, data3, data4, data5, data6, data7, data8, data9, data10], ignore_index=True)\n",
    "# dataA2 = pd.concat([data1, data2, data3, data4, data5], ignore_index=True)\n",
    "\n",
    "dataA1 = pd.read_csv(\"Data/NPA_TMA1_V3.csv\")[:-2]"
   ]
  },
  {
   "cell_type": "code",
   "execution_count": 62,
   "metadata": {},
   "outputs": [
    {
     "name": "stderr",
     "output_type": "stream",
     "text": [
      "C:\\Users\\USER\\AppData\\Local\\Temp\\ipykernel_32492\\3611820395.py:49: SettingWithCopyWarning:\n",
      "\n",
      "\n",
      "A value is trying to be set on a copy of a slice from a DataFrame\n",
      "\n",
      "See the caveats in the documentation: https://pandas.pydata.org/pandas-docs/stable/user_guide/indexing.html#returning-a-view-versus-a-copy\n",
      "\n",
      "C:\\Users\\USER\\AppData\\Local\\Temp\\ipykernel_32492\\3611820395.py:50: SettingWithCopyWarning:\n",
      "\n",
      "\n",
      "A value is trying to be set on a copy of a slice from a DataFrame\n",
      "\n",
      "See the caveats in the documentation: https://pandas.pydata.org/pandas-docs/stable/user_guide/indexing.html#returning-a-view-versus-a-copy\n",
      "\n"
     ]
    }
   ],
   "source": [
    "# select_lst = [\n",
    "#     # 月份是為了篩選每個月2萬筆\n",
    "#     '發生月份',\n",
    "\n",
    "#     '天候名稱', '光線名稱', \n",
    "#     '道路類別-第1當事者-名稱', '速限-第1當事者', \n",
    "#     '路面狀況-路面鋪裝名稱', '路面狀況-路面狀態名稱', '路面狀況-路面缺陷名稱',\n",
    "#     '道路障礙-障礙物名稱', '道路障礙-視距品質名稱', '道路障礙-視距名稱',\n",
    "#     '號誌-號誌種類名稱', '號誌-號誌動作名稱',\n",
    "#     '車道劃分設施-分道設施-快車道或一般車道間名稱', '車道劃分設施-分道設施-快慢車道間名稱', '車道劃分設施-分道設施-路面邊線名稱',\n",
    "#     '當事者屬-性-別名稱', '當事者事故發生時年齡',\n",
    "#     '保護裝備名稱', '行動電話或電腦或其他相類功能裝置名稱',\n",
    "#     '肇事逃逸類別名稱-是否肇逃',\n",
    "#     '死亡受傷人數',\n",
    "\n",
    "#     # 大類別\n",
    "#     '道路型態大類別名稱', '事故位置大類別名稱',\n",
    "#     '車道劃分設施-分向設施大類別名稱',\n",
    "#     '事故類型及型態大類別名稱', '當事者區分-類別-大類別名稱-車種', '當事者行動狀態大類別名稱',\n",
    "#     '車輛撞擊部位大類別名稱-最初', '車輛撞擊部位大類別名稱-其他',\n",
    "\n",
    "#     # 兩個欄位只有兩個觀察值不同\n",
    "#     '肇因研判大類別名稱-主要',\n",
    "#     # '肇因研判大類別名稱-個別',\n",
    "# ]\n",
    "select_lst = dataA1.columns\n",
    "def preprocess(input_data, select_lst):\n",
    "    # 篩選到第一個順位，因為注重的是單次事故的情況\n",
    "    sample_data = input_data[input_data['當事者順位'] == 1].reset_index(drop=True, inplace=False)\n",
    "    sample_data = sample_data[sample_data['發生月份'] < 11]\n",
    "    dataA = sample_data[select_lst]\n",
    "    \n",
    "    # 將資料分出死亡和受傷，合併到原本的資料後去除多餘的死亡受傷人數\n",
    "    death_injury_data = split_death_injury(dataA['死亡受傷人數'])\n",
    "    dist_df = pd.concat([dataA, death_injury_data], axis=1)\n",
    "    # 補齊缺失值\n",
    "    dist_df[select_lst] = dist_df[select_lst].fillna('未紀錄')\n",
    "\n",
    "    dist_df.drop(columns=['死亡受傷人數'], inplace=True)\n",
    "    \n",
    "    return dist_df\n",
    "\n",
    "dist_dfA1 = preprocess(dataA1, select_lst)\n",
    "dist_dfA2 = preprocess(dataA2, select_lst)\n",
    "\n",
    "car_A2 = dist_dfA2[dist_dfA2['當事者行動狀態大類別名稱'] == '車的狀態']\n",
    "car_A1 = dist_dfA1[dist_dfA1['當事者行動狀態大類別名稱'] == '車的狀態']\n",
    "\n",
    "car_A1.drop(columns=['當事者行動狀態大類別名稱'], inplace=True)\n",
    "car_A2.drop(columns=['當事者行動狀態大類別名稱'], inplace=True)\n",
    "\n",
    "car_A2 = car_A2[car_A2['肇因研判大類別名稱-主要'] != '非駕駛者']\n",
    "car_A1 = car_A1[car_A1['肇因研判大類別名稱-主要'] != '非駕駛者']\n",
    "car_A2 = car_A2[car_A2['肇因研判大類別名稱-主要'] != '無(非車輛駕駛人因素)']\n",
    "car_A1 = car_A1[car_A1['肇因研判大類別名稱-主要'] != '無(非車輛駕駛人因素)']\n",
    "# 刪掉原因為類似於他提供不了更多資訊，但會使Mapper更加分散\n",
    "car_A2 = car_A2[car_A2['肇因研判大類別名稱-主要'] != '無(車輛駕駛者因素)']\n",
    "car_A1 = car_A1[car_A1['肇因研判大類別名稱-主要'] != '無(車輛駕駛者因素)']\n",
    "\n",
    "car_A2 = car_A2[car_A2['行動電話或電腦或其他相類功能裝置名稱'] != '未紀錄']\n",
    "car_A1 = car_A1[car_A1['行動電話或電腦或其他相類功能裝置名稱'] != '未紀錄']\n",
    "\n",
    "# car_A2 = car_A2[car_A2['車輛撞擊部位大類別名稱-最初'] != '未紀錄']\n",
    "# car_A1 = car_A1[car_A1['車輛撞擊部位大類別名稱-最初'] != '未紀錄']\n",
    "car_A2 = car_A2[car_A2['車輛撞擊部位大類別名稱-最初'] == '汽車']\n",
    "car_A1 = car_A1[car_A1['車輛撞擊部位大類別名稱-最初'] == '汽車']\n"
   ]
  },
  {
   "cell_type": "markdown",
   "metadata": {},
   "source": [
    "篩選掉未紀錄資料以及分類人的狀態以及車的狀態"
   ]
  },
  {
   "cell_type": "code",
   "execution_count": 63,
   "metadata": {},
   "outputs": [
    {
     "name": "stdout",
     "output_type": "stream",
     "text": [
      "33\n",
      "6221\n",
      "34\n",
      "6409\n",
      "26\n",
      "4901\n",
      "21\n",
      "3959\n",
      "27\n",
      "5090\n",
      "24\n",
      "4524\n",
      "25\n",
      "4713\n",
      "26\n",
      "4901\n",
      "27\n",
      "5090\n",
      "35\n",
      "6598\n"
     ]
    }
   ],
   "source": [
    "from sklearn.utils import resample\n",
    "\n",
    "sampling_ratio = 0.5  # 下採樣比例\n",
    "\n",
    "# 計算 A1 和 A2 原始數據量比例\n",
    "A1_total = len(car_A1)\n",
    "A2_total = len(car_A2)\n",
    "total_ratio = A1_total / A2_total  # 保留 A1/A2 的比例\n",
    "\n",
    "# 定義函數，按月份進行下採樣\n",
    "def downsample_by_month_simple(A1, A2, sampling_ratio, total_ratio):\n",
    "    A1_downsampled = pd.DataFrame()\n",
    "    A2_downsampled = pd.DataFrame()\n",
    "\n",
    "    months = sorted(set(A1['發生月份']).intersection(A2['發生月份']))  # 確保月份匹配\n",
    "\n",
    "    for month in months:\n",
    "        # 提取該月份的資料\n",
    "        A1_month = A1[A1['發生月份'] == month]\n",
    "        A2_month = A2[A2['發生月份'] == month]\n",
    "\n",
    "        # 計算該月份目標數量\n",
    "        A1_target = int(len(A1_month) * sampling_ratio)\n",
    "        A2_target = int(A1_target / total_ratio)\n",
    "        print(A1_target)\n",
    "        print(A2_target)\n",
    "\n",
    "        # 下採樣\n",
    "        A1_sampled = resample(A1_month, replace=False, n_samples=A1_target, random_state=42)\n",
    "        A2_sampled = resample(A2_month, replace=False, n_samples=A2_target, random_state=42)\n",
    "\n",
    "        # 合併到最終結果\n",
    "        A1_downsampled = pd.concat([A1_downsampled, A1_sampled])\n",
    "        A2_downsampled = pd.concat([A2_downsampled, A2_sampled])\n",
    "\n",
    "    return A1_downsampled.reset_index(drop=True), A2_downsampled.reset_index(drop=True)\n",
    "\n",
    "# 下採樣\n",
    "downsampled_A1, downsampled_A2 = downsample_by_month_simple(car_A1, car_A2, sampling_ratio, total_ratio)\n",
    "# Concat\n",
    "rbind_data = pd.concat([downsampled_A1, downsampled_A2], axis=0, ignore_index=True)\n",
    "rbind_data.drop(columns=['發生月份'], inplace=True)"
   ]
  },
  {
   "cell_type": "code",
   "execution_count": 64,
   "metadata": {},
   "outputs": [
    {
     "name": "stdout",
     "output_type": "stream",
     "text": [
      "dummy_data: (52684, 47043)\n"
     ]
    }
   ],
   "source": [
    "bins_age = [0, 14, 24, 34, 44, 54, 64, 74, float('inf')]\n",
    "labels_age = ['未滿15歲', '15~24', '25~34', '35~44', '45~54', '55~64', '65~74', '75+']\n",
    "\n",
    "rbind_data['當事者事故發生時年齡'] = pd.cut(rbind_data['當事者事故發生時年齡'], bins=bins_age, labels=labels_age, right=False)\n",
    "\n",
    "rbind_data['當事者事故發生時年齡'] = rbind_data['當事者事故發生時年齡'].cat.add_categories('未知')\n",
    "rbind_data['當事者事故發生時年齡'] = rbind_data['當事者事故發生時年齡'].fillna('未知')\n",
    "\n",
    "bins_speed = [0, 10, 20, 30, 40, 50, 60, 70, 80, 90, 100, 110, float('inf')]\n",
    "labels_speed = ['0-10', '11-20', '21-30', '31-40', '41-50', '51-60', '61-70', '71-80', '81-90', '91-100', '101-110', '110+']\n",
    "\n",
    "rbind_data['速限-第1當事者'] = pd.cut(rbind_data['速限-第1當事者'], bins=bins_speed, labels=labels_speed, right=False)\n",
    "\n",
    "# assert rbind_data.shape[0] == dist_dfA1.shape[0] + dist_dfA2.shape[0]\n",
    "# Dummy\n",
    "rbind_data[\"速限-第1當事者\"] = rbind_data[\"速限-第1當事者\"].astype(str)\n",
    "dummy_data = pd.get_dummies(rbind_data)\n",
    "\n",
    "print('dummy_data:', dummy_data.shape)\n",
    "\n",
    "data_to_map = dummy_data.drop(['死亡', '受傷'], axis=1)\n",
    "# mapper_numpy = data_to_map.to_numpy()"
   ]
  },
  {
   "cell_type": "code",
   "execution_count": 41,
   "metadata": {},
   "outputs": [
    {
     "name": "stdout",
     "output_type": "stream",
     "text": [
      "          eigenvalue % of variance % of variance (cumulative)\n",
      "component                                                    \n",
      "0              0.131         3.37%                      3.37%\n",
      "1              0.090         2.31%                      5.68%\n",
      "2              0.080         2.05%                      7.73%\n",
      "3              0.076         1.94%                      9.67%\n",
      "4              0.071         1.82%                     11.49%\n",
      "5              0.066         1.70%                     13.19%\n",
      "6              0.058         1.48%                     14.67%\n"
     ]
    },
    {
     "data": {
      "image/png": "[encoded data removed]",
      "text/plain": [
       "<Figure size 1000x600 with 1 Axes>"
      ]
     },
     "metadata": {},
     "output_type": "display_data"
    }
   ],
   "source": [
    "import prince\n",
    "\n",
    "mca = prince.MCA(\n",
    "    one_hot=False,\n",
    "    n_components=7,\n",
    "    n_iter=30,\n",
    "    copy=True,\n",
    "    check_input=True,\n",
    "    random_state=42\n",
    ")\n",
    "\n",
    "mca.fit(data_to_map)\n",
    "lens = mca.transform(data_to_map)\n",
    "\n",
    "print(mca.eigenvalues_summary)\n",
    "\n",
    "eigenvalues = mca.eigenvalues_\n",
    "\n",
    "components = range(0, len(eigenvalues))\n",
    "\n",
    "variance = mca.eigenvalues_summary['% of variance']\n",
    "\n",
    "plt.figure(figsize=(10, 6))\n",
    "plt.plot(components, eigenvalues, marker='o', linestyle='--')\n",
    "plt.title(\"Scree Plot\")\n",
    "plt.xlabel(\"Component\")\n",
    "plt.ylabel(\"Eigenvalue\")\n",
    "plt.xticks(components)\n",
    "plt.grid(True)\n",
    "plt.show()"
   ]
  },
  {
   "cell_type": "code",
   "execution_count": null,
   "metadata": {},
   "outputs": [],
   "source": [
    "import matplotlib.cm as cm\n",
    "\n",
    "col_coordinate = mca.column_coordinates(data_to_map)\n",
    "\n",
    "plt.rcParams['font.family'] = 'Microsoft YaHei'\n",
    "col_coordinate['dummy_index'] = range(len(col_coordinate))  # 為每個欄位分配索引\n",
    "\n",
    "# Normalize the 'dummy_index' for mapping to colormap\n",
    "norm = plt.Normalize(vmin=col_coordinate['dummy_index'].min(), vmax=col_coordinate['dummy_index'].max())\n",
    "cmap = cm.viridis  # 選擇漸層色盤，例如 viridis, plasma, inferno 等\n",
    "\n",
    "plt.figure(figsize=(20, 12))\n",
    "\n",
    "plt.gca().set_facecolor('#b55a1d')\n",
    "\n",
    "# 繪製散點圖，顏色根據 dummy_index 映射\n",
    "scatter = plt.scatter(\n",
    "    col_coordinate[0],  # X coordinate\n",
    "    col_coordinate[1],  # Y coordinate\n",
    "    c=col_coordinate['dummy_index'],  # 使用索引作為顏色映射\n",
    "    cmap=cmap,\n",
    "    alpha=0.7\n",
    ")\n",
    "\n",
    "# Adding labels with colors matching the scatter plot\n",
    "offset = 0.15\n",
    "for i, label in enumerate(col_coordinate.index):\n",
    "    plt.text(\n",
    "        col_coordinate.iloc[i, 0],  # X coordinate\n",
    "        col_coordinate.iloc[i, 1] + offset,  # Y coordinate\n",
    "        str(label),  # 假設 label 包含中文\n",
    "        fontsize=10,\n",
    "        ha='center', \n",
    "        va='center',\n",
    "        color=cmap(norm(col_coordinate.iloc[i]['dummy_index'])),  # 文字顏色與點顏色一致\n",
    "        # rotation=30\n",
    "    )\n",
    "\n",
    "# Add colorbar\n",
    "# cbar = plt.colorbar(scatter)\n",
    "# cbar.set_label(\"Field Index (Gradient)\", fontsize=12)\n",
    "\n",
    "# Axes lines and grid\n",
    "plt.axhline(0, color='grey', linestyle='--', linewidth=0.5)\n",
    "plt.axvline(0, color='grey', linestyle='--', linewidth=0.5)\n",
    "# plt.title(\"MCA\", fontsize=16)\n",
    "plt.xlabel(\"Dimension 1\", fontsize=12)\n",
    "plt.ylabel(\"Dimension 2\", fontsize=12)\n",
    "plt.grid(True)\n",
    "\n",
    "plt.show()"
   ]
  },
  {
   "cell_type": "code",
   "execution_count": 42,
   "metadata": {},
   "outputs": [],
   "source": [
    "Overlap = [1, 2]\n",
    "Interval = [5, 6, 7, 8, 9, 10]"
   ]
  },
  {
   "cell_type": "code",
   "execution_count": 19,
   "metadata": {},
   "outputs": [],
   "source": [
    "detailed_results = []"
   ]
  },
  {
   "cell_type": "code",
   "execution_count": 43,
   "metadata": {},
   "outputs": [
    {
     "name": "stdout",
     "output_type": "stream",
     "text": [
      "overlap: 1, interval: 5\n"
     ]
    },
    {
     "name": "stderr",
     "output_type": "stream",
     "text": [
      "Processing Clusters: 100%|██████████| 567/567 [00:03<00:00, 146.71it/s]\n"
     ]
    },
    {
     "name": "stdout",
     "output_type": "stream",
     "text": [
      "Results saved to C:/Users/USER/Desktop/TrafficTDApython/Version3/Component7CarOnly/results_o1i5.pkl\n",
      "overlap: 1, interval: 6\n"
     ]
    },
    {
     "name": "stderr",
     "output_type": "stream",
     "text": [
      "Processing Clusters: 100%|██████████| 944/944 [00:00<00:00, 1191.79it/s]\n"
     ]
    },
    {
     "name": "stdout",
     "output_type": "stream",
     "text": [
      "Results saved to C:/Users/USER/Desktop/TrafficTDApython/Version3/Component7CarOnly/results_o1i6.pkl\n",
      "overlap: 1, interval: 7\n"
     ]
    },
    {
     "name": "stderr",
     "output_type": "stream",
     "text": [
      "Processing Clusters: 100%|██████████| 1376/1376 [00:01<00:00, 793.15it/s]\n"
     ]
    },
    {
     "name": "stdout",
     "output_type": "stream",
     "text": [
      "Results saved to C:/Users/USER/Desktop/TrafficTDApython/Version3/Component7CarOnly/results_o1i7.pkl\n",
      "overlap: 1, interval: 8\n"
     ]
    },
    {
     "name": "stderr",
     "output_type": "stream",
     "text": [
      "Processing Clusters: 100%|██████████| 1696/1696 [00:01<00:00, 1540.22it/s]\n"
     ]
    },
    {
     "name": "stdout",
     "output_type": "stream",
     "text": [
      "Results saved to C:/Users/USER/Desktop/TrafficTDApython/Version3/Component7CarOnly/results_o1i8.pkl\n",
      "overlap: 1, interval: 9\n"
     ]
    },
    {
     "name": "stderr",
     "output_type": "stream",
     "text": [
      "Processing Clusters: 100%|██████████| 2080/2080 [00:00<00:00, 2716.76it/s]\n"
     ]
    },
    {
     "name": "stdout",
     "output_type": "stream",
     "text": [
      "Results saved to C:/Users/USER/Desktop/TrafficTDApython/Version3/Component7CarOnly/results_o1i9.pkl\n",
      "overlap: 1, interval: 10\n"
     ]
    },
    {
     "name": "stderr",
     "output_type": "stream",
     "text": [
      "Processing Clusters: 100%|██████████| 2422/2422 [00:01<00:00, 2337.04it/s]\n"
     ]
    },
    {
     "name": "stdout",
     "output_type": "stream",
     "text": [
      "Results saved to C:/Users/USER/Desktop/TrafficTDApython/Version3/Component7CarOnly/results_o1i10.pkl\n",
      "overlap: 2, interval: 5\n"
     ]
    },
    {
     "name": "stderr",
     "output_type": "stream",
     "text": [
      "Processing Clusters: 100%|██████████| 442/442 [00:10<00:00, 41.48it/s] \n"
     ]
    },
    {
     "name": "stdout",
     "output_type": "stream",
     "text": [
      "Results saved to C:/Users/USER/Desktop/TrafficTDApython/Version3/Component7CarOnly/results_o2i5.pkl\n",
      "overlap: 2, interval: 6\n"
     ]
    },
    {
     "name": "stderr",
     "output_type": "stream",
     "text": [
      "Processing Clusters: 100%|██████████| 690/690 [00:01<00:00, 385.43it/s]\n"
     ]
    },
    {
     "name": "stdout",
     "output_type": "stream",
     "text": [
      "Results saved to C:/Users/USER/Desktop/TrafficTDApython/Version3/Component7CarOnly/results_o2i6.pkl\n",
      "overlap: 2, interval: 7\n"
     ]
    },
    {
     "name": "stderr",
     "output_type": "stream",
     "text": [
      "Processing Clusters: 100%|██████████| 1016/1016 [00:09<00:00, 110.92it/s]\n"
     ]
    },
    {
     "name": "stdout",
     "output_type": "stream",
     "text": [
      "Results saved to C:/Users/USER/Desktop/TrafficTDApython/Version3/Component7CarOnly/results_o2i7.pkl\n",
      "overlap: 2, interval: 8\n"
     ]
    },
    {
     "name": "stderr",
     "output_type": "stream",
     "text": [
      "Processing Clusters: 100%|██████████| 1283/1283 [00:03<00:00, 406.72it/s]\n"
     ]
    },
    {
     "name": "stdout",
     "output_type": "stream",
     "text": [
      "Results saved to C:/Users/USER/Desktop/TrafficTDApython/Version3/Component7CarOnly/results_o2i8.pkl\n",
      "overlap: 2, interval: 9\n"
     ]
    },
    {
     "name": "stderr",
     "output_type": "stream",
     "text": [
      "Processing Clusters: 100%|██████████| 1588/1588 [00:03<00:00, 509.53it/s] \n"
     ]
    },
    {
     "name": "stdout",
     "output_type": "stream",
     "text": [
      "Results saved to C:/Users/USER/Desktop/TrafficTDApython/Version3/Component7CarOnly/results_o2i9.pkl\n",
      "overlap: 2, interval: 10\n"
     ]
    },
    {
     "name": "stderr",
     "output_type": "stream",
     "text": [
      "Processing Clusters: 100%|██████████| 1900/1900 [00:02<00:00, 900.62it/s] \n"
     ]
    },
    {
     "name": "stdout",
     "output_type": "stream",
     "text": [
      "Results saved to C:/Users/USER/Desktop/TrafficTDApython/Version3/Component7CarOnly/results_o2i10.pkl\n"
     ]
    }
   ],
   "source": [
    "# for overlap in range(1, 6):\n",
    "for overlap in Overlap:\n",
    "    silhouette_for_intervals = []\n",
    "\n",
    "    # for interval in range(2, 11):\n",
    "    for interval in Interval:\n",
    "        try:\n",
    "            print(f'overlap: {overlap}, interval: {interval}')\n",
    "\n",
    "            mapper_algo = MapperAlgorithm(\n",
    "                cover=CubicalCover(\n",
    "                    n_intervals=interval,\n",
    "                    overlap_frac=overlap / 10\n",
    "                ),\n",
    "                clustering=FailSafeClustering(\n",
    "                    AgglomerativeClustering(\n",
    "                        n_clusters=2,\n",
    "                        linkage='ward'\n",
    "                    )\n",
    "                ),\n",
    "                n_jobs=10\n",
    "            )\n",
    "\n",
    "            mapper_info = mapper_algo.fit_transform(mapper_numpy, lens)\n",
    "            silhouette_for_intervals.append(mapper_info[1])\n",
    "\n",
    "            result = {\n",
    "                \"overlap\": overlap,\n",
    "                \"interval\": interval,\n",
    "                \"silhouette\": mapper_info[1],\n",
    "                \"mapper_info\": mapper_info\n",
    "            }\n",
    "\n",
    "            detailed_results.append(result)\n",
    "\n",
    "            filename = f\"C:/Users/USER/Desktop/TrafficTDApython/Version3/Component7CarOnly/results_o{overlap}i{interval}.pkl\"\n",
    "            # filename = f\"/Users/wangqiqian/Desktop/TrafficTDApython/Version3/Component11Pass/results_o{overlap}i{interval}.pkl\"\n",
    "\n",
    "            with open(filename, 'wb') as file:\n",
    "                pickle.dump(result, file)\n",
    "\n",
    "            print(f\"Results saved to {filename}\")\n",
    "\n",
    "        except Exception as e:\n",
    "            print(f\"Error for overlap={overlap}, interval={interval}: {e}\")\n",
    "\n",
    "            continue"
   ]
  },
  {
   "cell_type": "code",
   "execution_count": 46,
   "metadata": {},
   "outputs": [],
   "source": [
    "detailed_results_df = pd.DataFrame(detailed_results)\n",
    "output_file = 'C:/Users/USER/Desktop/TrafficTDApython/Version3/Component7CarOnly/full_grid.pkl'\n",
    "with open(output_file, 'wb') as f:\n",
    "    pickle.dump(detailed_results_df, f)"
   ]
  },
  {
   "cell_type": "code",
   "execution_count": 8,
   "metadata": {},
   "outputs": [],
   "source": [
    "output_file = 'C:/Users/USER/Desktop/TrafficTDApython/Version3/Component7CarOnly/full_grid.pkl'\n",
    "\n",
    "with open(output_file, 'rb') as f:\n",
    "    detailed_results_df = pickle.load(f)"
   ]
  },
  {
   "cell_type": "code",
   "execution_count": 34,
   "metadata": {},
   "outputs": [],
   "source": [
    "import seaborn as sns\n",
    "from matplotlib.font_manager import FontProperties\n",
    "\n",
    "plt.rcParams['font.sans-serif'] = ['Microsoft YaHei']\n",
    "plt.rcParams['axes.unicode_minus'] = False\n",
    "\n",
    "from matplotlib.cm import get_cmap\n",
    "from plots import *"
   ]
  },
  {
   "cell_type": "code",
   "execution_count": null,
   "metadata": {},
   "outputs": [],
   "source": [
    "choose = '速限-第1當事者'\n",
    "\n",
    "unique_categories = rbind_data[choose].dropna().unique()\n",
    "# 統一顏色\n",
    "color_palette = get_cmap(\"tab20\", len(unique_categories))\n",
    "color_mapping_fixed = {category: color_palette(i) for i, category in enumerate(unique_categories)}\n",
    "\n",
    "mapper_plotter = MapperPlotter(detailed_results_df['mapper_info'].iloc[6][0], \n",
    "                            rbind_data, detailed_results_df)\n",
    "mapper_plotter.create_mapper_plot(choose, most_common_encoded_label, avg=False)\n",
    "mapper_plotter.extract_data()\n",
    "mapper_plotter.map_colors(choose, color_mapping_fixed, size=25) # 篩選資料\n",
    "mapper_plotter.plot(choose, unique_categories, color_palette, avg=False, \n",
    "                    set_label=True, size=1000000)"
   ]
  },
  {
   "cell_type": "code",
   "execution_count": null,
   "metadata": {},
   "outputs": [],
   "source": [
    "choose = '當事者行動狀態大類別名稱'\n",
    "# choose = '死亡'\n",
    "\n",
    "unique_categories = rbind_data[choose].dropna().unique()\n",
    "unique_categories.sort()\n",
    "\n",
    "# 統一顏色\n",
    "color_palette = get_cmap(\"tab20\", len(unique_categories))\n",
    "color_mapping_fixed = {category: color_palette(i) for i, category in enumerate(unique_categories)}\n",
    "\n",
    "mapper_plotter = MapperPlotter(detailed_results_df['mapper_info'].iloc[39][0], \n",
    "                            rbind_data, detailed_results_df)\n",
    "mplot = mapper_plotter.create_mapper_plot(choose, most_common_encoded_label, avg=False)\n",
    "mapper_plotter.extract_data()\n",
    "mapper_plotter.map_colors(choose, color_mapping_fixed, size=30) # 篩選資料\n",
    "mapper_plotter.plot(choose, unique_categories, color_palette, avg=False, \n",
    "                    set_label=False, size=1000)"
   ]
  },
  {
   "cell_type": "code",
   "execution_count": 47,
   "metadata": {},
   "outputs": [
    {
     "data": {
      "text/html": [
       "<div>\n",
       "<style scoped>\n",
       "    .dataframe tbody tr th:only-of-type {\n",
       "        vertical-align: middle;\n",
       "    }\n",
       "\n",
       "    .dataframe tbody tr th {\n",
       "        vertical-align: top;\n",
       "    }\n",
       "\n",
       "    .dataframe thead th {\n",
       "        text-align: right;\n",
       "    }\n",
       "</style>\n",
       "<table border=\"1\" class=\"dataframe\">\n",
       "  <thead>\n",
       "    <tr style=\"text-align: right;\">\n",
       "      <th></th>\n",
       "      <th>overlap</th>\n",
       "      <th>interval</th>\n",
       "      <th>silhouette</th>\n",
       "      <th>mapper_info</th>\n",
       "    </tr>\n",
       "  </thead>\n",
       "  <tbody>\n",
       "    <tr>\n",
       "      <th>0</th>\n",
       "      <td>3</td>\n",
       "      <td>5</td>\n",
       "      <td>86.526195</td>\n",
       "      <td>((1, 30, 47, 79, 122, 132, 138, 196, 322, 378,...</td>\n",
       "    </tr>\n",
       "    <tr>\n",
       "      <th>1</th>\n",
       "      <td>3</td>\n",
       "      <td>6</td>\n",
       "      <td>43.753607</td>\n",
       "      <td>((0, 377, 2, 34, 39, 44, 141, 179, 458, 18, 37...</td>\n",
       "    </tr>\n",
       "    <tr>\n",
       "      <th>2</th>\n",
       "      <td>3</td>\n",
       "      <td>7</td>\n",
       "      <td>23.180752</td>\n",
       "      <td>((0, 682, 2, 5, 33, 143, 475, 521, 4, 15, 186,...</td>\n",
       "    </tr>\n",
       "    <tr>\n",
       "      <th>3</th>\n",
       "      <td>3</td>\n",
       "      <td>8</td>\n",
       "      <td>24.107659</td>\n",
       "      <td>((1, 28, 309, 577, 743, 956, 3, 38, 69, 260, 2...</td>\n",
       "    </tr>\n",
       "    <tr>\n",
       "      <th>4</th>\n",
       "      <td>3</td>\n",
       "      <td>9</td>\n",
       "      <td>21.842292</td>\n",
       "      <td>((0, 30, 339, 806, 1159, 2, 5, 13, 64, 270, 31...</td>\n",
       "    </tr>\n",
       "    <tr>\n",
       "      <th>5</th>\n",
       "      <td>3</td>\n",
       "      <td>10</td>\n",
       "      <td>19.552645</td>\n",
       "      <td>((0, 32, 3, 5, 232, 258, 347, 944, 2036, 2121,...</td>\n",
       "    </tr>\n",
       "    <tr>\n",
       "      <th>6</th>\n",
       "      <td>4</td>\n",
       "      <td>5</td>\n",
       "      <td>150.746015</td>\n",
       "      <td>((0, 24, 40, 73, 182, 2, 20, 27, 41, 74, 80, 1...</td>\n",
       "    </tr>\n",
       "    <tr>\n",
       "      <th>7</th>\n",
       "      <td>4</td>\n",
       "      <td>6</td>\n",
       "      <td>79.686146</td>\n",
       "      <td>((1, 359, 2, 40, 122, 159, 160, 30, 36, 99, 10...</td>\n",
       "    </tr>\n",
       "    <tr>\n",
       "      <th>8</th>\n",
       "      <td>4</td>\n",
       "      <td>7</td>\n",
       "      <td>41.315152</td>\n",
       "      <td>((1, 248, 377, 526, 644, 3, 5, 16, 32, 130, 16...</td>\n",
       "    </tr>\n",
       "    <tr>\n",
       "      <th>9</th>\n",
       "      <td>4</td>\n",
       "      <td>8</td>\n",
       "      <td>40.899848</td>\n",
       "      <td>((1, 29, 334, 2, 39, 201, 510, 852, 11, 143, 2...</td>\n",
       "    </tr>\n",
       "    <tr>\n",
       "      <th>10</th>\n",
       "      <td>4</td>\n",
       "      <td>9</td>\n",
       "      <td>37.109532</td>\n",
       "      <td>((0, 31, 247, 807, 2, 4, 14, 30, 169, 227, 255...</td>\n",
       "    </tr>\n",
       "    <tr>\n",
       "      <th>11</th>\n",
       "      <td>4</td>\n",
       "      <td>10</td>\n",
       "      <td>30.862435</td>\n",
       "      <td>((1, 30, 358, 2, 3, 64, 154, 197, 716, 6, 146,...</td>\n",
       "    </tr>\n",
       "    <tr>\n",
       "      <th>12</th>\n",
       "      <td>5</td>\n",
       "      <td>5</td>\n",
       "      <td>169.380507</td>\n",
       "      <td>((1, 2, 20, 26, 85, 101, 0, 21, 36, 50, 105, 1...</td>\n",
       "    </tr>\n",
       "    <tr>\n",
       "      <th>13</th>\n",
       "      <td>5</td>\n",
       "      <td>6</td>\n",
       "      <td>130.024750</td>\n",
       "      <td>((1, 151, 158, 10, 21, 60, 70, 127, 189, 230, ...</td>\n",
       "    </tr>\n",
       "    <tr>\n",
       "      <th>14</th>\n",
       "      <td>5</td>\n",
       "      <td>7</td>\n",
       "      <td>86.746171</td>\n",
       "      <td>((0, 245, 328, 3, 13, 16, 84, 161, 369, 2, 12,...</td>\n",
       "    </tr>\n",
       "    <tr>\n",
       "      <th>15</th>\n",
       "      <td>5</td>\n",
       "      <td>8</td>\n",
       "      <td>73.732302</td>\n",
       "      <td>((1, 151, 220, 0, 2, 38, 125, 16, 21, 94, 177,...</td>\n",
       "    </tr>\n",
       "    <tr>\n",
       "      <th>16</th>\n",
       "      <td>5</td>\n",
       "      <td>9</td>\n",
       "      <td>54.882823</td>\n",
       "      <td>((0, 52, 3, 12, 318, 2, 33, 101, 117, 191, 237...</td>\n",
       "    </tr>\n",
       "    <tr>\n",
       "      <th>17</th>\n",
       "      <td>5</td>\n",
       "      <td>10</td>\n",
       "      <td>38.283223</td>\n",
       "      <td>((1, 288, 2, 14, 40, 111, 154, 192, 698, 5, 7,...</td>\n",
       "    </tr>\n",
       "    <tr>\n",
       "      <th>18</th>\n",
       "      <td>1</td>\n",
       "      <td>5</td>\n",
       "      <td>27.390407</td>\n",
       "      <td>((0, 261, 3, 4, 7, 9, 10, 13, 2, 176, 316, 14,...</td>\n",
       "    </tr>\n",
       "    <tr>\n",
       "      <th>19</th>\n",
       "      <td>1</td>\n",
       "      <td>6</td>\n",
       "      <td>16.523281</td>\n",
       "      <td>((0, 839, 1188, 2, 56, 372, 4, 7, 10, 11, 72, ...</td>\n",
       "    </tr>\n",
       "    <tr>\n",
       "      <th>20</th>\n",
       "      <td>1</td>\n",
       "      <td>7</td>\n",
       "      <td>15.053067</td>\n",
       "      <td>((0, 2, 33, 66, 225, 402, 529, 605, 1193, 4, 1...</td>\n",
       "    </tr>\n",
       "    <tr>\n",
       "      <th>21</th>\n",
       "      <td>1</td>\n",
       "      <td>8</td>\n",
       "      <td>11.698513</td>\n",
       "      <td>((1, 3, 6, 8, 9, 11, 74, 980, 13, 340, 16, 34,...</td>\n",
       "    </tr>\n",
       "    <tr>\n",
       "      <th>22</th>\n",
       "      <td>1</td>\n",
       "      <td>9</td>\n",
       "      <td>10.644817</td>\n",
       "      <td>((0, 3, 5, 7, 9, 11, 375, 13, 15, 18, 19, 22, ...</td>\n",
       "    </tr>\n",
       "    <tr>\n",
       "      <th>23</th>\n",
       "      <td>1</td>\n",
       "      <td>10</td>\n",
       "      <td>9.005751</td>\n",
       "      <td>((1, 2, 4, 8, 9, 12, 714, 13, 16, 148, 18, 329...</td>\n",
       "    </tr>\n",
       "    <tr>\n",
       "      <th>24</th>\n",
       "      <td>2</td>\n",
       "      <td>5</td>\n",
       "      <td>55.121417</td>\n",
       "      <td>((1, 405, 464, 2, 30, 5, 7, 77, 8, 10, 203, 15...</td>\n",
       "    </tr>\n",
       "    <tr>\n",
       "      <th>25</th>\n",
       "      <td>2</td>\n",
       "      <td>6</td>\n",
       "      <td>28.491625</td>\n",
       "      <td>((0, 29, 984, 1103, 3, 524, 4, 6, 8, 56, 84, 1...</td>\n",
       "    </tr>\n",
       "    <tr>\n",
       "      <th>26</th>\n",
       "      <td>2</td>\n",
       "      <td>7</td>\n",
       "      <td>27.649225</td>\n",
       "      <td>((0, 2, 34, 316, 426, 434, 1040, 4, 18, 139, 1...</td>\n",
       "    </tr>\n",
       "    <tr>\n",
       "      <th>27</th>\n",
       "      <td>2</td>\n",
       "      <td>8</td>\n",
       "      <td>17.912560</td>\n",
       "      <td>((0, 36, 267, 2, 339, 497, 531, 4, 233, 353, 7...</td>\n",
       "    </tr>\n",
       "    <tr>\n",
       "      <th>28</th>\n",
       "      <td>2</td>\n",
       "      <td>9</td>\n",
       "      <td>18.053109</td>\n",
       "      <td>((0, 3, 99, 5, 8, 9, 11, 546, 14, 31, 693, 15,...</td>\n",
       "    </tr>\n",
       "    <tr>\n",
       "      <th>29</th>\n",
       "      <td>2</td>\n",
       "      <td>10</td>\n",
       "      <td>14.606838</td>\n",
       "      <td>((0, 3, 453, 4, 95, 8, 9, 11, 289, 597, 808, 1...</td>\n",
       "    </tr>\n",
       "  </tbody>\n",
       "</table>\n",
       "</div>"
      ],
      "text/plain": [
       "    overlap  interval  silhouette  \\\n",
       "0         3         5   86.526195   \n",
       "1         3         6   43.753607   \n",
       "2         3         7   23.180752   \n",
       "3         3         8   24.107659   \n",
       "4         3         9   21.842292   \n",
       "5         3        10   19.552645   \n",
       "6         4         5  150.746015   \n",
       "7         4         6   79.686146   \n",
       "8         4         7   41.315152   \n",
       "9         4         8   40.899848   \n",
       "10        4         9   37.109532   \n",
       "11        4        10   30.862435   \n",
       "12        5         5  169.380507   \n",
       "13        5         6  130.024750   \n",
       "14        5         7   86.746171   \n",
       "15        5         8   73.732302   \n",
       "16        5         9   54.882823   \n",
       "17        5        10   38.283223   \n",
       "18        1         5   27.390407   \n",
       "19        1         6   16.523281   \n",
       "20        1         7   15.053067   \n",
       "21        1         8   11.698513   \n",
       "22        1         9   10.644817   \n",
       "23        1        10    9.005751   \n",
       "24        2         5   55.121417   \n",
       "25        2         6   28.491625   \n",
       "26        2         7   27.649225   \n",
       "27        2         8   17.912560   \n",
       "28        2         9   18.053109   \n",
       "29        2        10   14.606838   \n",
       "\n",
       "                                          mapper_info  \n",
       "0   ((1, 30, 47, 79, 122, 132, 138, 196, 322, 378,...  \n",
       "1   ((0, 377, 2, 34, 39, 44, 141, 179, 458, 18, 37...  \n",
       "2   ((0, 682, 2, 5, 33, 143, 475, 521, 4, 15, 186,...  \n",
       "3   ((1, 28, 309, 577, 743, 956, 3, 38, 69, 260, 2...  \n",
       "4   ((0, 30, 339, 806, 1159, 2, 5, 13, 64, 270, 31...  \n",
       "5   ((0, 32, 3, 5, 232, 258, 347, 944, 2036, 2121,...  \n",
       "6   ((0, 24, 40, 73, 182, 2, 20, 27, 41, 74, 80, 1...  \n",
       "7   ((1, 359, 2, 40, 122, 159, 160, 30, 36, 99, 10...  \n",
       "8   ((1, 248, 377, 526, 644, 3, 5, 16, 32, 130, 16...  \n",
       "9   ((1, 29, 334, 2, 39, 201, 510, 852, 11, 143, 2...  \n",
       "10  ((0, 31, 247, 807, 2, 4, 14, 30, 169, 227, 255...  \n",
       "11  ((1, 30, 358, 2, 3, 64, 154, 197, 716, 6, 146,...  \n",
       "12  ((1, 2, 20, 26, 85, 101, 0, 21, 36, 50, 105, 1...  \n",
       "13  ((1, 151, 158, 10, 21, 60, 70, 127, 189, 230, ...  \n",
       "14  ((0, 245, 328, 3, 13, 16, 84, 161, 369, 2, 12,...  \n",
       "15  ((1, 151, 220, 0, 2, 38, 125, 16, 21, 94, 177,...  \n",
       "16  ((0, 52, 3, 12, 318, 2, 33, 101, 117, 191, 237...  \n",
       "17  ((1, 288, 2, 14, 40, 111, 154, 192, 698, 5, 7,...  \n",
       "18  ((0, 261, 3, 4, 7, 9, 10, 13, 2, 176, 316, 14,...  \n",
       "19  ((0, 839, 1188, 2, 56, 372, 4, 7, 10, 11, 72, ...  \n",
       "20  ((0, 2, 33, 66, 225, 402, 529, 605, 1193, 4, 1...  \n",
       "21  ((1, 3, 6, 8, 9, 11, 74, 980, 13, 340, 16, 34,...  \n",
       "22  ((0, 3, 5, 7, 9, 11, 375, 13, 15, 18, 19, 22, ...  \n",
       "23  ((1, 2, 4, 8, 9, 12, 714, 13, 16, 148, 18, 329...  \n",
       "24  ((1, 405, 464, 2, 30, 5, 7, 77, 8, 10, 203, 15...  \n",
       "25  ((0, 29, 984, 1103, 3, 524, 4, 6, 8, 56, 84, 1...  \n",
       "26  ((0, 2, 34, 316, 426, 434, 1040, 4, 18, 139, 1...  \n",
       "27  ((0, 36, 267, 2, 339, 497, 531, 4, 233, 353, 7...  \n",
       "28  ((0, 3, 99, 5, 8, 9, 11, 546, 14, 31, 693, 15,...  \n",
       "29  ((0, 3, 453, 4, 95, 8, 9, 11, 289, 597, 808, 1...  "
      ]
     },
     "execution_count": 47,
     "metadata": {},
     "output_type": "execute_result"
    }
   ],
   "source": [
    "detailed_results_df"
   ]
  },
  {
   "cell_type": "code",
   "execution_count": null,
   "metadata": {},
   "outputs": [],
   "source": [
    "choose = 'Cluster'\n",
    "# choose = '死亡'\n",
    "\n",
    "unique_categories = rbind_data[choose].dropna().unique()\n",
    "unique_categories.sort()\n",
    "\n",
    "for index in range(18, detailed_results_df.shape[0]):\n",
    "# for index in range(51,52):\n",
    "    # 統一顏色\n",
    "    color_palette = get_cmap(\"tab20\", len(unique_categories))\n",
    "    color_mapping_fixed = {category: color_palette(i) for i, category in enumerate(unique_categories)}\n",
    "\n",
    "    mapper_plotter = MapperPlotter(detailed_results_df['mapper_info'].iloc[index][0], \n",
    "                                rbind_data, detailed_results_df)\n",
    "    mplot = mapper_plotter.create_mapper_plot(choose, most_common_encoded_label, avg=False)\n",
    "    mapper_plotter.extract_data()\n",
    "    mapper_plotter.map_colors(choose, color_mapping_fixed, size=30) # 篩選資料\n",
    "    mapper_plotter.plot(choose, unique_categories, color_palette, avg=False, \n",
    "                        set_label=False, size=1000,"
   ]
  },
  {
   "cell_type": "code",
   "execution_count": 66,
   "metadata": {},
   "outputs": [],
   "source": [
    "lst = ['天候名稱', '光線名稱',\n",
    "       '道路類別-第1當事者-名稱', '速限-第1當事者', '道路型態大類別名稱', '道路型態子類別名稱', '事故位置大類別名稱',\n",
    "       '事故位置子類別名稱', '路面狀況-路面鋪裝名稱', '路面狀況-路面狀態名稱', '路面狀況-路面缺陷名稱', '道路障礙-障礙物名稱',\n",
    "       '道路障礙-視距品質名稱', '道路障礙-視距名稱', '號誌-號誌種類名稱', '號誌-號誌動作名稱',\n",
    "       '車道劃分設施-分向設施大類別名稱', '車道劃分設施-分向設施子類別名稱', '車道劃分設施-分道設施-快車道或一般車道間名稱',\n",
    "       '車道劃分設施-分道設施-快慢車道間名稱', '車道劃分設施-分道設施-路面邊線名稱', '事故類型及型態大類別名稱',\n",
    "       '事故類型及型態子類別名稱', '肇因研判大類別名稱-主要', '肇因研判子類別名稱-主要',\n",
    "       '當事者區分-類別-大類別名稱-車種', '當事者區分-類別-子類別名稱-車種', '當事者屬-性-別名稱', '當事者事故發生時年齡',\n",
    "       '保護裝備名稱', '行動電話或電腦或其他相類功能裝置名稱', '當事者行動狀態子類別名稱', '車輛撞擊部位大類別名稱-最初',\n",
    "       '車輛撞擊部位子類別名稱-最初', '車輛撞擊部位大類別名稱-其他', '車輛撞擊部位子類別名稱-其他', '肇因研判大類別名稱-個別',\n",
    "       '肇因研判子類別名稱-個別', '肇事逃逸類別名稱-是否肇逃','死亡', '受傷']"
   ]
  },
  {
   "cell_type": "code",
   "execution_count": null,
   "metadata": {},
   "outputs": [],
   "source": [
    "for choose in lst:\n",
    "    unique_categories = rbind_data[choose].dropna().unique()\n",
    "    # 統一顏色\n",
    "    color_palette = get_cmap(\"tab20\", len(unique_categories))\n",
    "    color_mapping_fixed = {category: color_palette(i) for i, category in enumerate(unique_categories)}\n",
    "\n",
    "    mapper_plotter = MapperPlotter(detailed_results_df['mapper_info'].iloc[28][0], \n",
    "                                rbind_data, detailed_results_df)\n",
    "    mapper_plotter.create_mapper_plot(choose, most_common_encoded_label, avg=False)\n",
    "    mapper_plotter.extract_data()\n",
    "    mapper_plotter.map_colors(choose, color_mapping_fixed, size=30) # 篩選資料\n",
    "    mapper_plotter.plot(choose, unique_categories, color_palette, avg=False, \n",
    "                        set_label=True, size=100000, # 限制點的大小\n",
    "                        save_path=f\"C:/Users/USER/Desktop/TrafficTDApython/Version3/GridSearch/MapperColor/CarOnly/o2_i9_{choose}.png\")"
   ]
  },
  {
   "cell_type": "code",
   "execution_count": null,
   "metadata": {},
   "outputs": [],
   "source": [
    "for choose in lst:\n",
    "    unique_categories = rbind_data[choose].dropna().unique()\n",
    "    # 統一顏色\n",
    "    color_palette = get_cmap(\"tab20\", len(unique_categories))\n",
    "    color_mapping_fixed = {category: color_palette(i) for i, category in enumerate(unique_categories)}\n",
    "\n",
    "    mapper_plotter = MapperPlotter(detailed_results_df['mapper_info'].iloc[28][0], \n",
    "                                rbind_data, detailed_results_df)\n",
    "    mapper_plotter.create_mapper_plot(choose, most_common_encoded_label, avg=False)\n",
    "    mapper_plotter.extract_data()\n",
    "    mapper_plotter.map_colors(choose, color_mapping_fixed, size=25) # 篩選資料\n",
    "    mapper_plotter.plot(choose, unique_categories, color_palette, avg=False, \n",
    "                        set_label=True, size=1000000, # 限制點的大小\n",
    "                        save_path=f\"C:/Users/USER/Desktop/TrafficTDApython/Version3/GridSearch/Mapper/CarOnly/o{detailed_results_df['overlap'].iloc[index]}_i{detailed_results_df['interval'].iloc[index]}.png\")"
   ]
  },
  {
   "cell_type": "code",
   "execution_count": 73,
   "metadata": {},
   "outputs": [
    {
     "name": "stdout",
     "output_type": "stream",
     "text": [
      "Index(['發生年度', '發生日期', '發生時間', '事故類別名稱', '處理單位名稱警局層', '發生地點', '天候名稱', '光線名稱',\n",
      "       '道路類別-第1當事者-名稱', '速限-第1當事者', '道路型態大類別名稱', '道路型態子類別名稱', '事故位置大類別名稱',\n",
      "       '事故位置子類別名稱', '路面狀況-路面鋪裝名稱', '路面狀況-路面狀態名稱', '路面狀況-路面缺陷名稱', '道路障礙-障礙物名稱',\n",
      "       '道路障礙-視距品質名稱', '道路障礙-視距名稱', '號誌-號誌種類名稱', '號誌-號誌動作名稱',\n",
      "       '車道劃分設施-分向設施大類別名稱', '車道劃分設施-分向設施子類別名稱', '車道劃分設施-分道設施-快車道或一般車道間名稱',\n",
      "       '車道劃分設施-分道設施-快慢車道間名稱', '車道劃分設施-分道設施-路面邊線名稱', '事故類型及型態大類別名稱',\n",
      "       '事故類型及型態子類別名稱', '肇因研判大類別名稱-主要', '肇因研判子類別名稱-主要', '當事者順位',\n",
      "       '當事者區分-類別-大類別名稱-車種', '當事者區分-類別-子類別名稱-車種', '當事者屬-性-別名稱', '當事者事故發生時年齡',\n",
      "       '保護裝備名稱', '行動電話或電腦或其他相類功能裝置名稱', '當事者行動狀態子類別名稱', '車輛撞擊部位大類別名稱-最初',\n",
      "       '車輛撞擊部位子類別名稱-最初', '車輛撞擊部位大類別名稱-其他', '車輛撞擊部位子類別名稱-其他', '肇因研判大類別名稱-個別',\n",
      "       '肇因研判子類別名稱-個別', '肇事逃逸類別名稱-是否肇逃', '經度', '緯度', 'color_for_plot'],\n",
      "      dtype='object')\n"
     ]
    }
   ],
   "source": [
    "from kmodes.kmodes import KModes\n",
    "\n",
    "# data_for_kmode = rbind_data.drop(['死亡', '受傷', 'color_for_plot'], axis=1)\n",
    "data_for_kmode = rbind_data.drop(['死亡', '受傷'], axis=1)\n",
    "\n",
    "print(data_for_kmode.columns)"
   ]
  },
  {
   "cell_type": "code",
   "execution_count": 56,
   "metadata": {},
   "outputs": [
    {
     "name": "stdout",
     "output_type": "stream",
     "text": [
      "Best run was number 1\n",
      "Best run was number 1\n",
      "Best run was number 1\n",
      "Best run was number 9\n",
      "Best run was number 3\n",
      "Best run was number 1\n",
      "Best run was number 4\n",
      "Best run was number 1\n",
      "Best run was number 5\n"
     ]
    }
   ],
   "source": [
    "cost = []\n",
    "all_results = {}\n",
    "K = range(1, 10)\n",
    "\n",
    "for k in K:\n",
    "    \n",
    "    km = KModes(\n",
    "    n_clusters=k, \n",
    "    init='Huang',\n",
    "    verbose=1,\n",
    "    random_state=42,\n",
    "    n_jobs=12\n",
    "    )\n",
    "\n",
    "    labels = km.fit_predict(data_for_kmode)\n",
    "    cost.append(km.cost_)\n",
    "    all_results[k] = {\n",
    "        'cost': km.cost_,\n",
    "        'labels': labels,\n",
    "        'centroids': km.cluster_centroids_\n",
    "    }\n",
    "\n",
    "optimal_k = K[cost.index(min(cost))]\n",
    "optimal_result = all_results[optimal_k]"
   ]
  },
  {
   "cell_type": "code",
   "execution_count": 29,
   "metadata": {},
   "outputs": [
    {
     "data": {
      "image/png": "[encoded data removed]",
      "text/plain": [
       "<Figure size 800x500 with 1 Axes>"
      ]
     },
     "metadata": {},
     "output_type": "display_data"
    }
   ],
   "source": [
    "plt.figure(figsize=(8, 5))\n",
    "plt.plot(K, cost, marker='o')\n",
    "plt.xlabel('Number of Clusters (k)')\n",
    "plt.ylabel('Cost')\n",
    "plt.title('Elbow Method for Optimal k')\n",
    "plt.show()"
   ]
  },
  {
   "cell_type": "code",
   "execution_count": 57,
   "metadata": {},
   "outputs": [],
   "source": [
    "rbind_data['Cluster'] = all_results[3]['labels']"
   ]
  },
  {
   "cell_type": "markdown",
   "metadata": {},
   "source": [
    "# DBSCAN 標籤"
   ]
  },
  {
   "cell_type": "code",
   "execution_count": null,
   "metadata": {},
   "outputs": [],
   "source": [
    "choose = '天候名稱'\n",
    "# choose = '年齡_int'\n",
    "\n",
    "unique_categories = rbind_data[choose].dropna().unique()\n",
    "# 統一顏色\n",
    "color_palette = get_cmap(\"tab20\", len(unique_categories))\n",
    "color_mapping_fixed = {category: color_palette(i) for i, category in enumerate(unique_categories)}\n",
    "\n",
    "mapper_plotter = MapperPlotter(detailed_results_df['mapper_info'].iloc[39][0], \n",
    "                            rbind_data, detailed_results_df)\n",
    "mplot = mapper_plotter.create_mapper_plot(choose, most_common_encoded_label, avg=False)\n",
    "full_info = mapper_plotter.extract_data()\n",
    "mapper_plotter.map_colors(choose, color_mapping_fixed, size=30) # 篩選資料\n",
    "mapper_plotter.plot(choose, unique_categories, color_palette, avg=False, \n",
    "                    set_label=True, size=100000)"
   ]
  },
  {
   "cell_type": "code",
   "execution_count": null,
   "metadata": {},
   "outputs": [],
   "source": [
    "# give me a dbscan using the info\n",
    "from sklearn.cluster import DBSCAN\n",
    "\n",
    "dbscan = DBSCAN(eps=0.01, min_samples=5)\n",
    "dbscan.fit(full_info[['x', 'y']])\n",
    "full_info['label'] = dbscan.labels_\n",
    "\n",
    "# plot using info, color by Cluster\n",
    "plt.figure(figsize=(14, 8))\n",
    "sns.scatterplot(\n",
    "    data=full_info,\n",
    "    x='x',\n",
    "    y='y',\n",
    "    hue='label',\n",
    "    palette=\"tab10\"\n",
    ")\n",
    "plt.show()"
   ]
  }
 ],
 "metadata": {
  "kernelspec": {
   "display_name": "base",
   "language": "python",
   "name": "python3"
  },
  "language_info": {
   "codemirror_mode": {
    "name": "ipython",
    "version": 3
   },
   "file_extension": ".py",
   "mimetype": "text/x-python",
   "name": "python",
   "nbconvert_exporter": "python",
   "pygments_lexer": "ipython3",
   "version": "3.9.12"
  }
 },
 "nbformat": 4,
 "nbformat_minor": 2
}

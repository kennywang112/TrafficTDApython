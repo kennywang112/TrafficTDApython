{
 "cells": [
  {
   "cell_type": "code",
   "execution_count": null,
   "metadata": {},
   "outputs": [],
   "source": [
    "import umap\n",
    "from umap import plot\n",
    "import time"
   ]
  },
  {
   "cell_type": "markdown",
   "metadata": {},
   "source": [
    "n_neighbors越大越注重全局結構，5 到 50 ，5~15適合高維度<br/>\n",
    "min_dist影響緊密程度，越大越稀疏，通常在0.0 到 0.5"
   ]
  },
  {
   "cell_type": "code",
   "execution_count": null,
   "metadata": {},
   "outputs": [],
   "source": [
    "n_neighbors = [5, 15, 30, 50, 100]\n",
    "min_dist_range = [0, 0.01, 0.05, 0.1, 0.5, 1]  # 0.1 to 0.5 inclusive with 5 steps\n",
    "\n",
    "# for n_neighbors in n_neighbors_range:\n",
    "for min_dist in min_dist_range:\n",
    "    \n",
    "    for n in n_neighbors:\n",
    "        \n",
    "        start_time = time.time()\n",
    "\n",
    "        reducer = umap.UMAP(\n",
    "            n_jobs=-1, \n",
    "            n_neighbors=n, \n",
    "            min_dist=min_dist, \n",
    "            n_components=2, \n",
    "            metric=\"hamming\"\n",
    "            )\n",
    "\n",
    "        lens1_umap = reducer.fit(mapper_numpy)\n",
    "\n",
    "        end_time = time.time()\n",
    "        elapsed_time = end_time - start_time\n",
    "        print(elapsed_time)\n",
    "\n",
    "        umap.plot.points(lens1_umap, labels=rbind_data['道路型態大類別名稱'], background='black')\n",
    "        plt.savefig(f\"Version3/GridSearch/UMAP/Car/UMAP_n{n}_d{min_dist:.2f}.png\")"
   ]
  }
 ],
 "metadata": {
  "language_info": {
   "name": "python"
  }
 },
 "nbformat": 4,
 "nbformat_minor": 2
}

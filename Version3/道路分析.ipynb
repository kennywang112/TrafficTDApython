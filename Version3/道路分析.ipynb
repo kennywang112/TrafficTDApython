{
 "cells": [
  {
   "cell_type": "code",
   "execution_count": 1,
   "id": "f86ea7dc-6799-42a5-8e84-aa0f6422f5f9",
   "metadata": {},
   "outputs": [
    {
     "name": "stdout",
     "output_type": "stream",
     "text": [
      "/Users/wangqiqian/Desktop/TrafficTDApython\n"
     ]
    }
   ],
   "source": [
    "import os\n",
    "import sys\n",
    "sys.path.append('/Users/wangqiqian/Desktop/TrafficTDApython/')\n",
    "\n",
    "current_dir_path = os.getcwd()\n",
    "current_file_path = os.path.abspath(current_dir_path)\n",
    "current_dir_path = os.path.dirname(current_file_path)\n",
    "parent_dir_path = os.path.dirname(current_dir_path)\n",
    "\n",
    "# os.chdir(current_dir_path + '\\\\ultils')\n",
    "os.chdir(current_dir_path + '/ultils')\n",
    "print(current_dir_path)\n",
    "\n",
    "import time\n",
    "import pickle\n",
    "import numpy as np\n",
    "import pandas as pd\n",
    "import matplotlib.pyplot as plt\n",
    "\n",
    "from sklearn.cluster import AgglomerativeClustering\n",
    "\n",
    "from functions import *\n",
    "from chi import *\n",
    "from regressionP import *\n",
    "from models import *\n",
    "from utils_v3 import *\n",
    "\n",
    "os.chdir('/Users/wangqiqian/Desktop/TrafficTDApython/')\n",
    "# os.chdir('C:/Users/USER/Desktop/TrafficTDApython/')\n",
    "\n",
    "from Version3.tdamapper.core import MapperAlgorithm\n",
    "from Version3.tdamapper.cover import CubicalCover\n",
    "from Version3.tdamapper.clustering import FailSafeClustering\n",
    "from Version3.tdamapper.plot import MapperLayoutInteractive"
   ]
  },
  {
   "cell_type": "code",
   "execution_count": 2,
   "id": "2d35c7e7-b928-434e-b417-3e3e7b30a96e",
   "metadata": {},
   "outputs": [],
   "source": [
    "data1 = pd.read_csv(\"Data/NPA_TMA2_1.csv\", low_memory=False)[:-2]\n",
    "data2 = pd.read_csv(\"Data/NPA_TMA2_2.csv\", low_memory=False)[:-2]\n",
    "data3 = pd.read_csv(\"Data/NPA_TMA2_3.csv\", low_memory=False)[:-2]\n",
    "data4 = pd.read_csv(\"Data/NPA_TMA2_4_new.csv\", low_memory=False)[:-2]\n",
    "data5 = pd.read_csv(\"Data/NPA_TMA2_5.csv\", low_memory=False)[:-2]\n",
    "data6 = pd.read_csv(\"Data/NPA_TMA2_6_new.csv\", low_memory=False)[:-2]\n",
    "data7 = pd.read_csv(\"Data/NPA_TMA2_7.csv\", low_memory=False)[:-2]\n",
    "data8 = pd.read_csv(\"Data/NPA_TMA2_8.csv\", low_memory=False)[:-2]\n",
    "data9 = pd.read_csv(\"Data/NPA_TMA2_9.csv\", low_memory=False)[:-2]\n",
    "data10 = pd.read_csv(\"Data/NPA_TMA2_10.csv\", low_memory=False)[:-2]\n",
    "\n",
    "dataA2 = pd.concat([data1, data2, data3, data4, data5, data6, data7, data8, data9, data10], ignore_index=True)\n",
    "# dataA2 = pd.concat([data1, data2, data3, data4, data5], ignore_index=True)\n",
    "\n",
    "dataA1 = pd.read_csv(\"Data/NPA_TMA1_V3.csv\")[:-2]"
   ]
  },
  {
   "cell_type": "code",
   "execution_count": 3,
   "id": "67f48fe7-015a-4852-b473-50c5bd763c78",
   "metadata": {
    "tags": []
   },
   "outputs": [
    {
     "name": "stdout",
     "output_type": "stream",
     "text": [
      "22\n",
      "(65306, 185)\n"
     ]
    }
   ],
   "source": [
    "select_lst = [\n",
    "    '道路類別-第1當事者-名稱', '速限-第1當事者', '道路型態大類別名稱', '道路型態子類別名稱',\n",
    "    '事故位置大類別名稱', '事故位置子類別名稱', '路面狀況-路面鋪裝名稱', '路面狀況-路面狀態名稱', '路面狀況-路面缺陷名稱',\n",
    "    '道路障礙-障礙物名稱', '道路障礙-視距品質名稱', '道路障礙-視距名稱', '號誌-號誌種類名稱', '號誌-號誌動作名稱',\n",
    "    '車道劃分設施-分向設施大類別名稱', '車道劃分設施-分向設施子類別名稱', '車道劃分設施-分道設施-快車道或一般車道間名稱',\n",
    "    '車道劃分設施-分道設施-快慢車道間名稱', '車道劃分設施-分道設施-路面邊線名稱', '事故類型及型態大類別名稱',\n",
    "    '事故類型及型態子類別名稱', '死亡受傷人數',\n",
    "    # '經度', '緯度'\n",
    "]\n",
    "print(len(select_lst))\n",
    "\n",
    "def preprocess(input_data, select_lst):\n",
    "    \n",
    "    sample_data = input_data[input_data['當事者順位'] == 1].reset_index(drop=True, inplace=False)\n",
    "    sample_data = sample_data[sample_data['發生月份'] < 3]\n",
    "    dataA = sample_data[select_lst]\n",
    "    \n",
    "    # 將資料分出死亡和受傷，合併到原本的資料後去除多餘的死亡受傷人數\n",
    "    death_injury_data = split_death_injury(dataA['死亡受傷人數'])\n",
    "    dist_df = pd.concat([dataA, death_injury_data], axis=1)\n",
    "    dist_df.drop(columns=['死亡受傷人數'], inplace=True)\n",
    "    \n",
    "    return dist_df\n",
    "\n",
    "dist_dfA1 = preprocess(dataA1, select_lst)\n",
    "dist_dfA2 = preprocess(dataA2, select_lst)\n",
    "# Concat\n",
    "rbind_data = pd.concat([dist_dfA1, dist_dfA2], axis=0, ignore_index=True)\n",
    "assert rbind_data.shape[0] == dist_dfA1.shape[0] + dist_dfA2.shape[0]\n",
    "# Dummy\n",
    "rbind_data[\"速限-第1當事者\"] = rbind_data[\"速限-第1當事者\"].astype(str)\n",
    "dummy_data = pd.get_dummies(rbind_data)\n",
    "\n",
    "print(dummy_data.shape)\n",
    "\n",
    "data_to_map = dummy_data.drop(['死亡', '受傷'], axis=1)\n",
    "mapper_numpy = data_to_map.to_numpy()"
   ]
  },
  {
   "attachments": {},
   "cell_type": "markdown",
   "id": "780ae3b1",
   "metadata": {},
   "source": [
    "### PCA也可以使用，只是會導致解釋上有問題"
   ]
  },
  {
   "cell_type": "code",
   "execution_count": 4,
   "id": "cbf3b8be-8455-44ea-abda-59837183de66",
   "metadata": {},
   "outputs": [
    {
     "name": "stdout",
     "output_type": "stream",
     "text": [
      "[0.22919947 0.34388027 0.41060919]\n",
      "0.410609193362854\n",
      "[0.22919947 0.1146808  0.06672892]\n"
     ]
    }
   ],
   "source": [
    "from sklearn.decomposition import PCA\n",
    "\n",
    "pca = PCA(n_components=3)\n",
    "lens = pca.fit_transform(mapper_numpy)\n",
    "\n",
    "# 查看每個主成分保留的變異量比例\n",
    "explained_variance_ratio  = pca.explained_variance_ratio_\n",
    "cumulative_variance_ratio = np.cumsum(explained_variance_ratio)\n",
    "print(cumulative_variance_ratio)\n",
    "print(sum(explained_variance_ratio))\n",
    "print(explained_variance_ratio)"
   ]
  },
  {
   "cell_type": "code",
   "execution_count": null,
   "id": "70925de6-91ca-444e-951b-d3dec2c1e1aa",
   "metadata": {
    "tags": []
   },
   "outputs": [],
   "source": [
    "# import plotly.express as px\n",
    "\n",
    "# df = pd.DataFrame(lens, columns=['PC1', 'PC2', 'PC3'])\n",
    "# fig = px.scatter_3d(df, x='PC1', y='PC2', z='PC3', title=\"PCA 3D Scatter Plot\")\n",
    "# fig.show()"
   ]
  },
  {
   "attachments": {},
   "cell_type": "markdown",
   "id": "4ebb296f",
   "metadata": {},
   "source": [
    "### Multiple correspondence analysis (MCA)\n",
    "多重對應分析是專門針對dummy來進行降維的，所以使用它作為主要方法沒有問題"
   ]
  },
  {
   "cell_type": "code",
   "execution_count": 5,
   "id": "a8eaad71",
   "metadata": {},
   "outputs": [
    {
     "name": "stdout",
     "output_type": "stream",
     "text": [
      "          eigenvalue % of variance % of variance (cumulative)\n",
      "component                                                    \n",
      "0              0.256         3.32%                      3.32%\n",
      "1              0.163         2.11%                      5.42%\n",
      "2              0.141         1.82%                      7.25%\n",
      "3              0.127         1.65%                      8.90%\n",
      "4              0.108         1.40%                     10.29%\n",
      "5              0.103         1.34%                     11.63%\n"
     ]
    }
   ],
   "source": [
    "import prince\n",
    "\n",
    "# The input of MCA no need to use dummy_data\n",
    "MCA_X = rbind_data.drop(['死亡', '受傷'], axis=1)\n",
    "\n",
    "mca = prince.MCA(\n",
    "    one_hot=True,\n",
    "    n_components=6,\n",
    "    n_iter=30,\n",
    "    copy=True,\n",
    "    check_input=True,\n",
    "    random_state=42\n",
    ")\n",
    "\n",
    "mca.fit(MCA_X)\n",
    "lens = mca.transform(MCA_X)\n",
    "\n",
    "print(mca.eigenvalues_summary)\n",
    "# mca.column_contributions_.head().style.format('{:.0%}')"
   ]
  },
  {
   "cell_type": "code",
   "execution_count": 38,
   "id": "e0be871d",
   "metadata": {},
   "outputs": [
    {
     "data": {
      "image/png": "[encoded data removed]",
      "text/plain": [
       "<Figure size 1000x600 with 1 Axes>"
      ]
     },
     "metadata": {},
     "output_type": "display_data"
    },
    {
     "data": {
      "image/png": "[encoded data removed]",
      "text/plain": [
       "<Figure size 1000x600 with 1 Axes>"
      ]
     },
     "metadata": {},
     "output_type": "display_data"
    }
   ],
   "source": [
    "import matplotlib.pyplot as plt\n",
    "\n",
    "# Generate the scree plot for MCA eigenvalues\n",
    "eigenvalues = mca.eigenvalues_\n",
    "\n",
    "# Plot the eigenvalues to show the variance explained by each component\n",
    "plt.figure(figsize=(10, 6))\n",
    "plt.plot(range(1, len(eigenvalues) + 1), eigenvalues, marker='o', linestyle='--')\n",
    "plt.title(\"Scree Plot of MCA Eigenvalues\")\n",
    "plt.xlabel(\"Component Number\")\n",
    "plt.ylabel(\"Eigenvalue\")\n",
    "plt.xticks(range(1, len(eigenvalues) + 1))\n",
    "plt.grid(True)\n",
    "plt.show()\n",
    "\n",
    "# Generate MCA row/column factor map\n",
    "# coordinates = mca.row_coordinates(MCA_X)\n",
    "coordinates = mca.column_coordinates(MCA_X)\n",
    "plt.figure(figsize=(10, 6))\n",
    "plt.scatter(coordinates[0], coordinates[1], alpha=0.7, label=\"Rows\")\n",
    "\n",
    "# Label the plot\n",
    "plt.axhline(0, color='grey', linestyle='--', linewidth=0.5)\n",
    "plt.axvline(0, color='grey', linestyle='--', linewidth=0.5)\n",
    "plt.title(\"MCA Row Factor Map\")\n",
    "plt.xlabel(\"Dimension 1\")\n",
    "plt.ylabel(\"Dimension 2\")\n",
    "plt.grid(True)\n",
    "plt.legend()\n",
    "plt.show()"
   ]
  },
  {
   "attachments": {},
   "cell_type": "markdown",
   "id": "12382e39-684a-47d6-bf07-4c1e6ba53389",
   "metadata": {},
   "source": [
    "# Find the best mapper"
   ]
  },
  {
   "attachments": {},
   "cell_type": "markdown",
   "id": "dfdd260b",
   "metadata": {},
   "source": [
    "Best interval for overlap=3: 9\n",
    "Best interval for overlap=4: 7\n",
    "Best interval for overlap=5: 8"
   ]
  },
  {
   "cell_type": "code",
   "execution_count": null,
   "id": "31143f8f",
   "metadata": {},
   "outputs": [],
   "source": [
    "detailed_results = []\n",
    "\n",
    "for overlap in range(3, 6):\n",
    "    silhouette_for_intervals = []\n",
    "\n",
    "    for interval in range(5, 11):\n",
    "        mapper_algo = MapperAlgorithm(\n",
    "            cover=CubicalCover(\n",
    "                n_intervals=interval,\n",
    "                overlap_frac=overlap / 10\n",
    "            ),\n",
    "            clustering=AgglomerativeClustering(linkage='single')\n",
    "        )\n",
    "\n",
    "        mapper_info = mapper_algo.fit_transform(mapper_numpy, lens)\n",
    "        silhouette_for_intervals.append(mapper_info[1])\n",
    "\n",
    "        detailed_results.append({\n",
    "            \"overlap\": overlap,\n",
    "            \"interval\": interval,\n",
    "            \"silhouette\": mapper_info[1],\n",
    "            \"mapper_info\": mapper_info\n",
    "        })\n",
    " \n",
    "    best_interval = np.argmax(silhouette_for_intervals) + 5  # +5 因為 interval 從5開始\n",
    "\n",
    "    print(silhouette_for_intervals)\n",
    "    print(f\"Best interval for overlap={overlap}: {best_interval}\")"
   ]
  },
  {
   "cell_type": "code",
   "execution_count": 55,
   "id": "6cc5b546",
   "metadata": {},
   "outputs": [
    {
     "name": "stdout",
     "output_type": "stream",
     "text": [
      "Results saved to /Users/wangqiqian/Desktop/TrafficTDApython/Version3/GridSearch/full_grid.pkl\n"
     ]
    }
   ],
   "source": [
    "# detailed_results_df = pd.DataFrame(detailed_results)\n",
    "# detailed_results_df.to_csv(\"/Users/wangqiqian/Desktop/TrafficTDApython/Version3/GridSearch/full_grid.csv\", index=False)\n",
    "\n",
    "output_file = '/Users/wangqiqian/Desktop/TrafficTDApython/Version3/GridSearch/full_grid.pkl'\n",
    "with open(output_file, 'wb') as f:\n",
    "    pickle.dump(detailed_results_df, f)\n",
    "\n",
    "print(f\"Results saved to {output_file}\")"
   ]
  },
  {
   "cell_type": "code",
   "execution_count": 57,
   "id": "13953d8f",
   "metadata": {},
   "outputs": [
    {
     "data": {
      "text/html": [
       "<div>\n",
       "<style scoped>\n",
       "    .dataframe tbody tr th:only-of-type {\n",
       "        vertical-align: middle;\n",
       "    }\n",
       "\n",
       "    .dataframe tbody tr th {\n",
       "        vertical-align: top;\n",
       "    }\n",
       "\n",
       "    .dataframe thead th {\n",
       "        text-align: right;\n",
       "    }\n",
       "</style>\n",
       "<table border=\"1\" class=\"dataframe\">\n",
       "  <thead>\n",
       "    <tr style=\"text-align: right;\">\n",
       "      <th></th>\n",
       "      <th>overlap</th>\n",
       "      <th>interval</th>\n",
       "      <th>silhouette</th>\n",
       "      <th>mapper_info</th>\n",
       "    </tr>\n",
       "  </thead>\n",
       "  <tbody>\n",
       "    <tr>\n",
       "      <th>0</th>\n",
       "      <td>3</td>\n",
       "      <td>5</td>\n",
       "      <td>0.165133</td>\n",
       "      <td>((1, 3, 7, 10, 21, 22, 46, 64, 66, 75, 134, 13...</td>\n",
       "    </tr>\n",
       "    <tr>\n",
       "      <th>1</th>\n",
       "      <td>3</td>\n",
       "      <td>6</td>\n",
       "      <td>0.176240</td>\n",
       "      <td>((0, 25, 3, 53, 4, 8, 7, 10, 155, 9, 18, 22, 2...</td>\n",
       "    </tr>\n",
       "    <tr>\n",
       "      <th>2</th>\n",
       "      <td>3</td>\n",
       "      <td>7</td>\n",
       "      <td>0.170927</td>\n",
       "      <td>((0, 24, 2, 189, 4, 14, 31, 33, 311, 6, 325, 3...</td>\n",
       "    </tr>\n",
       "    <tr>\n",
       "      <th>3</th>\n",
       "      <td>3</td>\n",
       "      <td>8</td>\n",
       "      <td>0.172061</td>\n",
       "      <td>((0, 30, 79, 153, 2, 4, 14, 6, 399, 109, 8, 24...</td>\n",
       "    </tr>\n",
       "    <tr>\n",
       "      <th>4</th>\n",
       "      <td>3</td>\n",
       "      <td>9</td>\n",
       "      <td>0.173917</td>\n",
       "      <td>((0, 127, 432, 3, 26, 41, 59, 216, 575, 4, 110...</td>\n",
       "    </tr>\n",
       "    <tr>\n",
       "      <th>5</th>\n",
       "      <td>3</td>\n",
       "      <td>10</td>\n",
       "      <td>0.167146</td>\n",
       "      <td>((0, 2, 17, 27, 45, 129, 185, 232, 234, 379, 5...</td>\n",
       "    </tr>\n",
       "    <tr>\n",
       "      <th>6</th>\n",
       "      <td>4</td>\n",
       "      <td>5</td>\n",
       "      <td>0.168361</td>\n",
       "      <td>((1, 90, 92, 3, 6, 8, 15, 58, 69, 99, 115, 4, ...</td>\n",
       "    </tr>\n",
       "    <tr>\n",
       "      <th>7</th>\n",
       "      <td>4</td>\n",
       "      <td>6</td>\n",
       "      <td>0.173738</td>\n",
       "      <td>((1, 122, 2, 42, 52, 4, 36, 64, 7, 14, 17, 22,...</td>\n",
       "    </tr>\n",
       "    <tr>\n",
       "      <th>8</th>\n",
       "      <td>4</td>\n",
       "      <td>7</td>\n",
       "      <td>0.174246</td>\n",
       "      <td>((1, 23, 3, 263, 4, 16, 28, 32, 134, 6, 8, 33,...</td>\n",
       "    </tr>\n",
       "    <tr>\n",
       "      <th>9</th>\n",
       "      <td>4</td>\n",
       "      <td>8</td>\n",
       "      <td>0.174476</td>\n",
       "      <td>((0, 69, 205, 239, 2, 10, 27, 48, 175, 218, 4,...</td>\n",
       "    </tr>\n",
       "    <tr>\n",
       "      <th>10</th>\n",
       "      <td>4</td>\n",
       "      <td>9</td>\n",
       "      <td>0.167864</td>\n",
       "      <td>((0, 2, 25, 55, 122, 234, 243, 416, 451, 4, 9,...</td>\n",
       "    </tr>\n",
       "    <tr>\n",
       "      <th>11</th>\n",
       "      <td>4</td>\n",
       "      <td>10</td>\n",
       "      <td>0.174154</td>\n",
       "      <td>((0, 403, 2, 24, 37, 53, 149, 203, 283, 357, 3...</td>\n",
       "    </tr>\n",
       "    <tr>\n",
       "      <th>12</th>\n",
       "      <td>5</td>\n",
       "      <td>5</td>\n",
       "      <td>0.152479</td>\n",
       "      <td>((0, 40, 2, 7, 8, 14, 4, 12, 48, 6, 20, 3, 15,...</td>\n",
       "    </tr>\n",
       "    <tr>\n",
       "      <th>13</th>\n",
       "      <td>5</td>\n",
       "      <td>6</td>\n",
       "      <td>0.170091</td>\n",
       "      <td>((0, 82, 2, 29, 117, 4, 62, 96, 6, 12, 97, 3, ...</td>\n",
       "    </tr>\n",
       "    <tr>\n",
       "      <th>14</th>\n",
       "      <td>5</td>\n",
       "      <td>7</td>\n",
       "      <td>0.160686</td>\n",
       "      <td>((0, 100, 113, 3, 4, 8, 10, 16, 72, 6, 25, 15,...</td>\n",
       "    </tr>\n",
       "    <tr>\n",
       "      <th>15</th>\n",
       "      <td>5</td>\n",
       "      <td>8</td>\n",
       "      <td>0.174304</td>\n",
       "      <td>((0, 55, 110, 2, 11, 24, 4, 8, 15, 6, 150, 10,...</td>\n",
       "    </tr>\n",
       "    <tr>\n",
       "      <th>16</th>\n",
       "      <td>5</td>\n",
       "      <td>9</td>\n",
       "      <td>0.175266</td>\n",
       "      <td>((0, 172, 2, 154, 187, 4, 58, 66, 132, 192, 6,...</td>\n",
       "    </tr>\n",
       "    <tr>\n",
       "      <th>17</th>\n",
       "      <td>5</td>\n",
       "      <td>10</td>\n",
       "      <td>0.160501</td>\n",
       "      <td>((0, 3, 66, 71, 129, 183, 240, 308, 346, 4, 28...</td>\n",
       "    </tr>\n",
       "  </tbody>\n",
       "</table>\n",
       "</div>"
      ],
      "text/plain": [
       "    overlap  interval  silhouette  \\\n",
       "0         3         5    0.165133   \n",
       "1         3         6    0.176240   \n",
       "2         3         7    0.170927   \n",
       "3         3         8    0.172061   \n",
       "4         3         9    0.173917   \n",
       "5         3        10    0.167146   \n",
       "6         4         5    0.168361   \n",
       "7         4         6    0.173738   \n",
       "8         4         7    0.174246   \n",
       "9         4         8    0.174476   \n",
       "10        4         9    0.167864   \n",
       "11        4        10    0.174154   \n",
       "12        5         5    0.152479   \n",
       "13        5         6    0.170091   \n",
       "14        5         7    0.160686   \n",
       "15        5         8    0.174304   \n",
       "16        5         9    0.175266   \n",
       "17        5        10    0.160501   \n",
       "\n",
       "                                          mapper_info  \n",
       "0   ((1, 3, 7, 10, 21, 22, 46, 64, 66, 75, 134, 13...  \n",
       "1   ((0, 25, 3, 53, 4, 8, 7, 10, 155, 9, 18, 22, 2...  \n",
       "2   ((0, 24, 2, 189, 4, 14, 31, 33, 311, 6, 325, 3...  \n",
       "3   ((0, 30, 79, 153, 2, 4, 14, 6, 399, 109, 8, 24...  \n",
       "4   ((0, 127, 432, 3, 26, 41, 59, 216, 575, 4, 110...  \n",
       "5   ((0, 2, 17, 27, 45, 129, 185, 232, 234, 379, 5...  \n",
       "6   ((1, 90, 92, 3, 6, 8, 15, 58, 69, 99, 115, 4, ...  \n",
       "7   ((1, 122, 2, 42, 52, 4, 36, 64, 7, 14, 17, 22,...  \n",
       "8   ((1, 23, 3, 263, 4, 16, 28, 32, 134, 6, 8, 33,...  \n",
       "9   ((0, 69, 205, 239, 2, 10, 27, 48, 175, 218, 4,...  \n",
       "10  ((0, 2, 25, 55, 122, 234, 243, 416, 451, 4, 9,...  \n",
       "11  ((0, 403, 2, 24, 37, 53, 149, 203, 283, 357, 3...  \n",
       "12  ((0, 40, 2, 7, 8, 14, 4, 12, 48, 6, 20, 3, 15,...  \n",
       "13  ((0, 82, 2, 29, 117, 4, 62, 96, 6, 12, 97, 3, ...  \n",
       "14  ((0, 100, 113, 3, 4, 8, 10, 16, 72, 6, 25, 15,...  \n",
       "15  ((0, 55, 110, 2, 11, 24, 4, 8, 15, 6, 150, 10,...  \n",
       "16  ((0, 172, 2, 154, 187, 4, 58, 66, 132, 192, 6,...  \n",
       "17  ((0, 3, 66, 71, 129, 183, 240, 308, 346, 4, 28...  "
      ]
     },
     "execution_count": 57,
     "metadata": {},
     "output_type": "execute_result"
    }
   ],
   "source": [
    "with open('/Users/wangqiqian/Desktop/TrafficTDApython/Version3/GridSearch/full_grid.pkl', 'rb') as f:\n",
    "    loaded_df = pickle.load(f)\n",
    "\n",
    "loaded_df"
   ]
  },
  {
   "cell_type": "code",
   "execution_count": 8,
   "id": "97de00c6",
   "metadata": {},
   "outputs": [
    {
     "name": "stdout",
     "output_type": "stream",
     "text": [
      "Processing overlap=3, interval=9...\n"
     ]
    },
    {
     "name": "stderr",
     "output_type": "stream",
     "text": [
      "11/25/2024 05:00:31 PM core WARNING: Unable to perform clustering on local chart: Cannot extract more clusters than samples: 5 clusters were given for a tree with 4 leaves.\n",
      "11/25/2024 05:00:32 PM core WARNING: Unable to perform clustering on local chart: Cannot extract more clusters than samples: 4 clusters were given for a tree with 3 leaves.\n",
      "11/25/2024 05:00:32 PM core WARNING: Unable to perform clustering on local chart: Cannot extract more clusters than samples: 5 clusters were given for a tree with 3 leaves.\n",
      "11/25/2024 05:01:03 PM core WARNING: Unable to perform clustering on local chart: Cannot extract more clusters than samples: 5 clusters were given for a tree with 4 leaves.\n",
      "11/25/2024 05:01:05 PM core WARNING: Unable to perform clustering on local chart: Cannot extract more clusters than samples: 5 clusters were given for a tree with 4 leaves.\n",
      "11/25/2024 05:01:24 PM core WARNING: Unable to perform clustering on local chart: Cannot extract more clusters than samples: 4 clusters were given for a tree with 3 leaves.\n",
      "11/25/2024 05:01:24 PM core WARNING: Unable to perform clustering on local chart: Cannot extract more clusters than samples: 5 clusters were given for a tree with 3 leaves.\n",
      "11/25/2024 05:01:28 PM core WARNING: Unable to perform clustering on local chart: Cannot extract more clusters than samples: 5 clusters were given for a tree with 4 leaves.\n",
      "11/25/2024 05:01:31 PM core WARNING: Unable to perform clustering on local chart: Cannot extract more clusters than samples: 4 clusters were given for a tree with 3 leaves.\n",
      "11/25/2024 05:01:31 PM core WARNING: Unable to perform clustering on local chart: Cannot extract more clusters than samples: 5 clusters were given for a tree with 3 leaves.\n",
      "11/25/2024 05:02:09 PM core WARNING: Unable to perform clustering on local chart: Cannot extract more clusters than samples: 5 clusters were given for a tree with 4 leaves.\n",
      "11/25/2024 05:02:10 PM core WARNING: Unable to perform clustering on local chart: Cannot extract more clusters than samples: 4 clusters were given for a tree with 3 leaves.\n",
      "11/25/2024 05:02:10 PM core WARNING: Unable to perform clustering on local chart: Cannot extract more clusters than samples: 5 clusters were given for a tree with 3 leaves.\n",
      "11/25/2024 05:02:10 PM core WARNING: Unable to perform clustering on local chart: Cannot extract more clusters than samples: 5 clusters were given for a tree with 4 leaves.\n",
      "11/25/2024 05:02:16 PM core WARNING: Unable to perform clustering on local chart: Cannot extract more clusters than samples: 5 clusters were given for a tree with 4 leaves.\n",
      "11/25/2024 05:02:38 PM core WARNING: Unable to perform clustering on local chart: Cannot extract more clusters than samples: 5 clusters were given for a tree with 4 leaves.\n",
      "11/25/2024 05:02:41 PM core WARNING: Unable to perform clustering on local chart: Cannot extract more clusters than samples: 4 clusters were given for a tree with 3 leaves.\n",
      "11/25/2024 05:02:41 PM core WARNING: Unable to perform clustering on local chart: Cannot extract more clusters than samples: 5 clusters were given for a tree with 3 leaves.\n",
      "11/25/2024 05:02:41 PM core WARNING: Unable to perform clustering on local chart: Cannot extract more clusters than samples: 5 clusters were given for a tree with 4 leaves.\n",
      "11/25/2024 05:02:43 PM core WARNING: Unable to perform clustering on local chart: Cannot extract more clusters than samples: 4 clusters were given for a tree with 3 leaves.\n",
      "11/25/2024 05:02:43 PM core WARNING: Unable to perform clustering on local chart: Cannot extract more clusters than samples: 5 clusters were given for a tree with 3 leaves.\n",
      "11/25/2024 05:02:45 PM core WARNING: Unable to perform clustering on local chart: Cannot extract more clusters than samples: 4 clusters were given for a tree with 3 leaves.\n",
      "11/25/2024 05:02:45 PM core WARNING: Unable to perform clustering on local chart: Cannot extract more clusters than samples: 5 clusters were given for a tree with 3 leaves.\n",
      "11/25/2024 05:02:47 PM core WARNING: Unable to perform clustering on local chart: Cannot extract more clusters than samples: 5 clusters were given for a tree with 4 leaves.\n",
      "11/25/2024 05:02:48 PM core WARNING: Unable to perform clustering on local chart: Cannot extract more clusters than samples: 5 clusters were given for a tree with 4 leaves.\n",
      "11/25/2024 05:03:08 PM core WARNING: Unable to perform clustering on local chart: Cannot extract more clusters than samples: 4 clusters were given for a tree with 3 leaves.\n",
      "11/25/2024 05:03:08 PM core WARNING: Unable to perform clustering on local chart: Cannot extract more clusters than samples: 5 clusters were given for a tree with 3 leaves.\n",
      "11/25/2024 05:03:08 PM core WARNING: Unable to perform clustering on local chart: Cannot extract more clusters than samples: 4 clusters were given for a tree with 3 leaves.\n",
      "11/25/2024 05:03:08 PM core WARNING: Unable to perform clustering on local chart: Cannot extract more clusters than samples: 5 clusters were given for a tree with 3 leaves.\n",
      "11/25/2024 05:03:09 PM core WARNING: Unable to perform clustering on local chart: Cannot extract more clusters than samples: 4 clusters were given for a tree with 3 leaves.\n",
      "11/25/2024 05:03:09 PM core WARNING: Unable to perform clustering on local chart: Cannot extract more clusters than samples: 5 clusters were given for a tree with 3 leaves.\n",
      "11/25/2024 05:03:09 PM core WARNING: Unable to perform clustering on local chart: Cannot extract more clusters than samples: 4 clusters were given for a tree with 3 leaves.\n",
      "11/25/2024 05:03:09 PM core WARNING: Unable to perform clustering on local chart: Cannot extract more clusters than samples: 5 clusters were given for a tree with 3 leaves.\n",
      "11/25/2024 05:03:10 PM core WARNING: Unable to perform clustering on local chart: Cannot extract more clusters than samples: 5 clusters were given for a tree with 4 leaves.\n",
      "11/25/2024 05:03:11 PM core WARNING: Unable to perform clustering on local chart: Cannot extract more clusters than samples: 4 clusters were given for a tree with 3 leaves.\n",
      "11/25/2024 05:03:11 PM core WARNING: Unable to perform clustering on local chart: Cannot extract more clusters than samples: 5 clusters were given for a tree with 3 leaves.\n",
      "11/25/2024 05:03:12 PM core WARNING: Unable to perform clustering on local chart: Cannot extract more clusters than samples: 4 clusters were given for a tree with 3 leaves.\n",
      "11/25/2024 05:03:12 PM core WARNING: Unable to perform clustering on local chart: Cannot extract more clusters than samples: 5 clusters were given for a tree with 3 leaves.\n",
      "11/25/2024 05:03:16 PM core WARNING: Unable to perform clustering on local chart: Cannot extract more clusters than samples: 5 clusters were given for a tree with 4 leaves.\n",
      "11/25/2024 05:03:17 PM core WARNING: Unable to perform clustering on local chart: Cannot extract more clusters than samples: 5 clusters were given for a tree with 4 leaves.\n",
      "11/25/2024 05:03:17 PM core WARNING: Unable to perform clustering on local chart: Cannot extract more clusters than samples: 5 clusters were given for a tree with 4 leaves.\n",
      "11/25/2024 05:03:18 PM core WARNING: Unable to perform clustering on local chart: Cannot extract more clusters than samples: 4 clusters were given for a tree with 3 leaves.\n",
      "11/25/2024 05:03:18 PM core WARNING: Unable to perform clustering on local chart: Cannot extract more clusters than samples: 5 clusters were given for a tree with 3 leaves.\n",
      "11/25/2024 05:03:19 PM core WARNING: Unable to perform clustering on local chart: Cannot extract more clusters than samples: 5 clusters were given for a tree with 4 leaves.\n",
      "11/25/2024 05:03:19 PM core WARNING: Unable to perform clustering on local chart: Cannot extract more clusters than samples: 4 clusters were given for a tree with 3 leaves.\n",
      "11/25/2024 05:03:19 PM core WARNING: Unable to perform clustering on local chart: Cannot extract more clusters than samples: 5 clusters were given for a tree with 3 leaves.\n"
     ]
    },
    {
     "name": "stdout",
     "output_type": "stream",
     "text": [
      "Elapsed time for overlap=3, interval=9: 371.88 seconds\n",
      "Processing overlap=4, interval=7...\n"
     ]
    },
    {
     "name": "stderr",
     "output_type": "stream",
     "text": [
      "11/25/2024 05:10:41 PM core WARNING: Unable to perform clustering on local chart: Cannot extract more clusters than samples: 5 clusters were given for a tree with 4 leaves.\n",
      "11/25/2024 05:11:01 PM core WARNING: Unable to perform clustering on local chart: Cannot extract more clusters than samples: 4 clusters were given for a tree with 3 leaves.\n",
      "11/25/2024 05:11:01 PM core WARNING: Unable to perform clustering on local chart: Cannot extract more clusters than samples: 5 clusters were given for a tree with 3 leaves.\n",
      "11/25/2024 05:11:43 PM core WARNING: Unable to perform clustering on local chart: Cannot extract more clusters than samples: 4 clusters were given for a tree with 3 leaves.\n",
      "11/25/2024 05:11:43 PM core WARNING: Unable to perform clustering on local chart: Cannot extract more clusters than samples: 5 clusters were given for a tree with 3 leaves.\n",
      "11/25/2024 05:11:43 PM core WARNING: Unable to perform clustering on local chart: Cannot extract more clusters than samples: 4 clusters were given for a tree with 3 leaves.\n",
      "11/25/2024 05:11:43 PM core WARNING: Unable to perform clustering on local chart: Cannot extract more clusters than samples: 5 clusters were given for a tree with 3 leaves.\n",
      "11/25/2024 05:11:44 PM core WARNING: Unable to perform clustering on local chart: Cannot extract more clusters than samples: 4 clusters were given for a tree with 3 leaves.\n",
      "11/25/2024 05:11:44 PM core WARNING: Unable to perform clustering on local chart: Cannot extract more clusters than samples: 5 clusters were given for a tree with 3 leaves.\n",
      "11/25/2024 05:12:31 PM core WARNING: Unable to perform clustering on local chart: Cannot extract more clusters than samples: 4 clusters were given for a tree with 3 leaves.\n",
      "11/25/2024 05:12:31 PM core WARNING: Unable to perform clustering on local chart: Cannot extract more clusters than samples: 5 clusters were given for a tree with 3 leaves.\n",
      "11/25/2024 05:12:32 PM core WARNING: Unable to perform clustering on local chart: Cannot extract more clusters than samples: 5 clusters were given for a tree with 4 leaves.\n",
      "11/25/2024 05:13:16 PM core WARNING: Unable to perform clustering on local chart: Cannot extract more clusters than samples: 4 clusters were given for a tree with 3 leaves.\n",
      "11/25/2024 05:13:16 PM core WARNING: Unable to perform clustering on local chart: Cannot extract more clusters than samples: 5 clusters were given for a tree with 3 leaves.\n",
      "11/25/2024 05:13:20 PM core WARNING: Unable to perform clustering on local chart: Cannot extract more clusters than samples: 4 clusters were given for a tree with 3 leaves.\n",
      "11/25/2024 05:13:20 PM core WARNING: Unable to perform clustering on local chart: Cannot extract more clusters than samples: 5 clusters were given for a tree with 3 leaves.\n",
      "11/25/2024 05:13:29 PM core WARNING: Unable to perform clustering on local chart: Cannot extract more clusters than samples: 5 clusters were given for a tree with 4 leaves.\n",
      "11/25/2024 05:13:31 PM core WARNING: Unable to perform clustering on local chart: Cannot extract more clusters than samples: 4 clusters were given for a tree with 3 leaves.\n",
      "11/25/2024 05:13:31 PM core WARNING: Unable to perform clustering on local chart: Cannot extract more clusters than samples: 5 clusters were given for a tree with 3 leaves.\n",
      "11/25/2024 05:14:01 PM core WARNING: Unable to perform clustering on local chart: Cannot extract more clusters than samples: 5 clusters were given for a tree with 4 leaves.\n",
      "11/25/2024 05:14:01 PM core WARNING: Unable to perform clustering on local chart: Cannot extract more clusters than samples: 4 clusters were given for a tree with 3 leaves.\n",
      "11/25/2024 05:14:01 PM core WARNING: Unable to perform clustering on local chart: Cannot extract more clusters than samples: 5 clusters were given for a tree with 3 leaves.\n"
     ]
    },
    {
     "name": "stdout",
     "output_type": "stream",
     "text": [
      "Elapsed time for overlap=4, interval=7: 732.53 seconds\n",
      "Processing overlap=5, interval=8...\n"
     ]
    },
    {
     "name": "stderr",
     "output_type": "stream",
     "text": [
      "11/25/2024 05:21:10 PM core WARNING: Unable to perform clustering on local chart: Cannot extract more clusters than samples: 4 clusters were given for a tree with 3 leaves.\n",
      "11/25/2024 05:21:10 PM core WARNING: Unable to perform clustering on local chart: Cannot extract more clusters than samples: 5 clusters were given for a tree with 3 leaves.\n",
      "11/25/2024 05:21:30 PM core WARNING: Unable to perform clustering on local chart: Cannot extract more clusters than samples: 5 clusters were given for a tree with 4 leaves.\n",
      "11/25/2024 05:21:41 PM core WARNING: Unable to perform clustering on local chart: Cannot extract more clusters than samples: 5 clusters were given for a tree with 4 leaves.\n",
      "11/25/2024 05:21:44 PM core WARNING: Unable to perform clustering on local chart: Cannot extract more clusters than samples: 4 clusters were given for a tree with 3 leaves.\n",
      "11/25/2024 05:21:44 PM core WARNING: Unable to perform clustering on local chart: Cannot extract more clusters than samples: 5 clusters were given for a tree with 3 leaves.\n",
      "11/25/2024 05:21:53 PM core WARNING: Unable to perform clustering on local chart: Cannot extract more clusters than samples: 4 clusters were given for a tree with 3 leaves.\n",
      "11/25/2024 05:21:53 PM core WARNING: Unable to perform clustering on local chart: Cannot extract more clusters than samples: 5 clusters were given for a tree with 3 leaves.\n",
      "11/25/2024 05:21:56 PM core WARNING: Unable to perform clustering on local chart: Cannot extract more clusters than samples: 4 clusters were given for a tree with 3 leaves.\n",
      "11/25/2024 05:21:56 PM core WARNING: Unable to perform clustering on local chart: Cannot extract more clusters than samples: 5 clusters were given for a tree with 3 leaves.\n",
      "11/25/2024 05:22:02 PM core WARNING: Unable to perform clustering on local chart: Cannot extract more clusters than samples: 4 clusters were given for a tree with 3 leaves.\n",
      "11/25/2024 05:22:02 PM core WARNING: Unable to perform clustering on local chart: Cannot extract more clusters than samples: 5 clusters were given for a tree with 3 leaves.\n"
     ]
    },
    {
     "name": "stdout",
     "output_type": "stream",
     "text": [
      "Elapsed time for overlap=5, interval=8: 469.82 seconds\n"
     ]
    }
   ],
   "source": [
    "import pickle\n",
    "\n",
    "overlap_to_intervals = {\n",
    "    3: 9,\n",
    "    4: 7,\n",
    "    5: 8\n",
    "}\n",
    "\n",
    "results = {}\n",
    "\n",
    "for overlap, interval in overlap_to_intervals.items():\n",
    "    print(f\"Processing overlap={overlap}, interval={interval}...\")\n",
    "    start_time = time.time()\n",
    "\n",
    "    # 設定 MapperAlgorithm\n",
    "    mapper_algo = MapperAlgorithm(\n",
    "        cover=CubicalCover(\n",
    "            n_intervals=interval,\n",
    "            overlap_frac=overlap / 10  # 假設 overlap 是小數百分比的表示\n",
    "        ),\n",
    "        clustering=FailSafeClustering(\n",
    "            clustering=AgglomerativeClustering(),\n",
    "            verbose=True\n",
    "        )\n",
    "    )\n",
    "\n",
    "    # 運行算法\n",
    "    mapper_graph = mapper_algo.fit_transform(mapper_numpy, lens)\n",
    "    \n",
    "    end_time = time.time()\n",
    "    elapsed_time = end_time - start_time\n",
    "    print(f\"Elapsed time for overlap={overlap}, interval={interval}: {elapsed_time:.2f} seconds\")\n",
    "    \n",
    "    # 儲存結果\n",
    "    results[(overlap, interval)] = mapper_graph"
   ]
  },
  {
   "cell_type": "code",
   "execution_count": 9,
   "id": "79b52b6e",
   "metadata": {},
   "outputs": [
    {
     "name": "stdout",
     "output_type": "stream",
     "text": [
      "Results saved to Version3/MapperGraphs/best_param.pkl\n"
     ]
    }
   ],
   "source": [
    "# output_file = 'Version3/MapperGraphs/best_param.pkl'\n",
    "# with open(output_file, 'wb') as f:\n",
    "#     pickle.dump(results, f)\n",
    "\n",
    "# print(f\"Results saved to {output_file}\")"
   ]
  },
  {
   "cell_type": "code",
   "execution_count": 36,
   "id": "d65cfe6f",
   "metadata": {},
   "outputs": [
    {
     "data": {
      "image/png": "[encoded data removed]",
      "text/plain": [
       "<Figure size 800x600 with 2 Axes>"
      ]
     },
     "metadata": {},
     "output_type": "display_data"
    }
   ],
   "source": [
    "matrix = detailed_results_df.pivot_table(index=\"overlap\", columns=\"interval\", values=\"silhouette\")\n",
    "\n",
    "plt.figure(figsize=(8, 6))\n",
    "plt.imshow(matrix, cmap='Reds', aspect='auto', interpolation='nearest')\n",
    "plt.colorbar(label='Silhouette Coefficient')\n",
    "plt.xticks(range(len(matrix.columns)), matrix.columns, rotation=45)\n",
    "plt.yticks(range(len(matrix.index)), matrix.index)\n",
    "plt.xlabel('Interval')\n",
    "plt.ylabel('Overlap')\n",
    "plt.title('Heatmap of Silhouette Coefficients')\n",
    "plt.tight_layout()\n",
    "plt.show()"
   ]
  },
  {
   "cell_type": "code",
   "execution_count": 58,
   "id": "5e209684",
   "metadata": {},
   "outputs": [],
   "source": [
    "mapper_plot1 = MapperLayoutInteractive(\n",
    "    detailed_results_df['mapper_info'][1][0],\n",
    "    # colors = data_to_map[['號誌-號誌種類名稱_無號誌']].to_numpy(),\n",
    "    colors = rbind_data['死亡'].to_numpy(),\n",
    "    cmap = 'jet',\n",
    "    # agg = np.nanmean,\n",
    "    # agg = most_frequent_nonan,\n",
    "    agg = average_encoded_label,\n",
    "    dim = 3,\n",
    "    iterations = 200,\n",
    "    seed = 6,\n",
    "    width = 800,\n",
    "    height = 500)\n",
    "\n",
    "# fig_mean1 = mapper_plot1.plot()\n",
    "# fig_mean1.show(config={'scrollZoom': True})"
   ]
  },
  {
   "attachments": {},
   "cell_type": "markdown",
   "id": "a22add56",
   "metadata": {},
   "source": [
    "# Testing for params"
   ]
  },
  {
   "attachments": {},
   "cell_type": "markdown",
   "id": "9d2281c9-a8eb-4775-9df7-3467dc4938d4",
   "metadata": {},
   "source": [
    "### 目前最佳參數為interval=10, overlap=0.6, cluster=10 (PCA)"
   ]
  },
  {
   "cell_type": "code",
   "execution_count": 15,
   "id": "62ebfe06-7d7d-4fd9-b985-931fc2900963",
   "metadata": {},
   "outputs": [
    {
     "ename": "KeyboardInterrupt",
     "evalue": "",
     "output_type": "error",
     "traceback": [
      "\u001b[0;31m---------------------------------------------------------------------------\u001b[0m",
      "\u001b[0;31mKeyboardInterrupt\u001b[0m                         Traceback (most recent call last)",
      "Cell \u001b[0;32mIn[15], line 14\u001b[0m\n\u001b[1;32m      3\u001b[0m mapper_algo1 \u001b[39m=\u001b[39m MapperAlgorithm(\n\u001b[1;32m      4\u001b[0m     cover \u001b[39m=\u001b[39m CubicalCover(\n\u001b[1;32m      5\u001b[0m         n_intervals \u001b[39m=\u001b[39m \u001b[39m7\u001b[39m,\n\u001b[0;32m   (...)\u001b[0m\n\u001b[1;32m     10\u001b[0m         verbose \u001b[39m=\u001b[39m \u001b[39mTrue\u001b[39;00m)\n\u001b[1;32m     11\u001b[0m )\n\u001b[1;32m     13\u001b[0m \u001b[39m# mapper_graph1 = mapper_algo1.fit_transform(mapper_numpy, lens)\u001b[39;00m\n\u001b[0;32m---> 14\u001b[0m mapper_graph1 \u001b[39m=\u001b[39m mapper_algo1\u001b[39m.\u001b[39;49mfit_transform(mapper_numpy, lens)\n\u001b[1;32m     16\u001b[0m end_time \u001b[39m=\u001b[39m time\u001b[39m.\u001b[39mtime()\n\u001b[1;32m     17\u001b[0m elapsed_time \u001b[39m=\u001b[39m end_time \u001b[39m-\u001b[39m start_time\n",
      "File \u001b[0;32m~/Desktop/TrafficTDApython/Version3/tdamapper/core.py:497\u001b[0m, in \u001b[0;36mMapperAlgorithm.fit_transform\u001b[0;34m(self, X, y)\u001b[0m\n\u001b[1;32m    483\u001b[0m \u001b[39mdef\u001b[39;00m \u001b[39mfit_transform\u001b[39m(\u001b[39mself\u001b[39m, X, y):\n\u001b[1;32m    484\u001b[0m \u001b[39m    \u001b[39m\u001b[39m\"\"\"\u001b[39;00m\n\u001b[1;32m    485\u001b[0m \u001b[39m    Create the Mapper graph.\u001b[39;00m\n\u001b[1;32m    486\u001b[0m \n\u001b[0;32m   (...)\u001b[0m\n\u001b[1;32m    495\u001b[0m \u001b[39m    :rtype: :class:`networkx.Graph`\u001b[39;00m\n\u001b[1;32m    496\u001b[0m \u001b[39m    \"\"\"\u001b[39;00m\n\u001b[0;32m--> 497\u001b[0m     \u001b[39mself\u001b[39;49m\u001b[39m.\u001b[39;49mfit(X, y)\n\u001b[1;32m    498\u001b[0m     \u001b[39mreturn\u001b[39;00m \u001b[39mself\u001b[39m\u001b[39m.\u001b[39mgraph_\n",
      "File \u001b[0;32m~/Desktop/TrafficTDApython/Version3/tdamapper/core.py:473\u001b[0m, in \u001b[0;36mMapperAlgorithm.fit\u001b[0;34m(self, X, y)\u001b[0m\n\u001b[1;32m    471\u001b[0m \u001b[39mself\u001b[39m\u001b[39m.\u001b[39m__n_jobs \u001b[39m=\u001b[39m \u001b[39mself\u001b[39m\u001b[39m.\u001b[39mn_jobs\n\u001b[1;32m    472\u001b[0m y \u001b[39m=\u001b[39m X \u001b[39mif\u001b[39;00m y \u001b[39mis\u001b[39;00m \u001b[39mNone\u001b[39;00m \u001b[39melse\u001b[39;00m y\n\u001b[0;32m--> 473\u001b[0m \u001b[39mself\u001b[39m\u001b[39m.\u001b[39mgraph_\u001b[39m=\u001b[39m mapper_graph(\n\u001b[1;32m    474\u001b[0m     X,\n\u001b[1;32m    475\u001b[0m     y,\n\u001b[1;32m    476\u001b[0m     \u001b[39mself\u001b[39;49m\u001b[39m.\u001b[39;49m__cover,\n\u001b[1;32m    477\u001b[0m     \u001b[39mself\u001b[39;49m\u001b[39m.\u001b[39;49m__clustering,\n\u001b[1;32m    478\u001b[0m     n_jobs\u001b[39m=\u001b[39;49m\u001b[39mself\u001b[39;49m\u001b[39m.\u001b[39;49m__n_jobs,\n\u001b[1;32m    479\u001b[0m )\n\u001b[1;32m    480\u001b[0m \u001b[39mself\u001b[39m\u001b[39m.\u001b[39m_set_n_features_in(X)\n\u001b[1;32m    481\u001b[0m \u001b[39mreturn\u001b[39;00m \u001b[39mself\u001b[39m\n",
      "File \u001b[0;32m~/Desktop/TrafficTDApython/Version3/tdamapper/core.py:214\u001b[0m, in \u001b[0;36mmapper_graph\u001b[0;34m(X, y, cover, clustering, n_jobs)\u001b[0m\n\u001b[1;32m    182\u001b[0m \u001b[39mdef\u001b[39;00m \u001b[39mmapper_graph\u001b[39m(X, y, cover, clustering, n_jobs\u001b[39m=\u001b[39m\u001b[39m5\u001b[39m):\n\u001b[1;32m    183\u001b[0m \u001b[39m    \u001b[39m\u001b[39m\"\"\"\u001b[39;00m\n\u001b[1;32m    184\u001b[0m \u001b[39m    Create the Mapper graph.\u001b[39;00m\n\u001b[1;32m    185\u001b[0m \n\u001b[0;32m   (...)\u001b[0m\n\u001b[1;32m    212\u001b[0m \u001b[39m    :rtype: :class:`networkx.Graph`\u001b[39;00m\n\u001b[1;32m    213\u001b[0m \u001b[39m    \"\"\"\u001b[39;00m\n\u001b[0;32m--> 214\u001b[0m     itm_lbls, avg_silhouette \u001b[39m=\u001b[39m mapper_labels(X, y, cover, clustering, n_jobs\u001b[39m=\u001b[39;49mn_jobs)\n\u001b[1;32m    215\u001b[0m     graph \u001b[39m=\u001b[39m nx\u001b[39m.\u001b[39mGraph()\n\u001b[1;32m    216\u001b[0m     \u001b[39mfor\u001b[39;00m n, lbls \u001b[39min\u001b[39;00m \u001b[39menumerate\u001b[39m(itm_lbls):\n",
      "File \u001b[0;32m~/Desktop/TrafficTDApython/Version3/tdamapper/core.py:109\u001b[0m, in \u001b[0;36mmapper_labels\u001b[0;34m(X, y, cover, clustering, n_jobs)\u001b[0m\n\u001b[1;32m    104\u001b[0m     \u001b[39m# print(f\"Best k: {best_k}, Silhouette Score: {score:.3f}\")\u001b[39;00m\n\u001b[1;32m    106\u001b[0m     \u001b[39mreturn\u001b[39;00m local_ids, local_lbls, score\n\u001b[0;32m--> 109\u001b[0m _lbls \u001b[39m=\u001b[39m Parallel(n_jobs)(\n\u001b[1;32m    110\u001b[0m     delayed(_run_clustering)(local_ids) \u001b[39mfor\u001b[39;49;00m local_ids \u001b[39min\u001b[39;49;00m cover\u001b[39m.\u001b[39;49mapply(y)\n\u001b[1;32m    111\u001b[0m )\n\u001b[1;32m    112\u001b[0m itm_lbls \u001b[39m=\u001b[39m [[] \u001b[39mfor\u001b[39;00m _ \u001b[39min\u001b[39;00m X]\n\u001b[1;32m    113\u001b[0m silhouette_values \u001b[39m=\u001b[39m []\n",
      "File \u001b[0;32m~/opt/anaconda3/envs/Cllava/lib/python3.10/site-packages/joblib/parallel.py:2007\u001b[0m, in \u001b[0;36mParallel.__call__\u001b[0;34m(self, iterable)\u001b[0m\n\u001b[1;32m   2001\u001b[0m \u001b[39m# The first item from the output is blank, but it makes the interpreter\u001b[39;00m\n\u001b[1;32m   2002\u001b[0m \u001b[39m# progress until it enters the Try/Except block of the generator and\u001b[39;00m\n\u001b[1;32m   2003\u001b[0m \u001b[39m# reaches the first `yield` statement. This starts the asynchronous\u001b[39;00m\n\u001b[1;32m   2004\u001b[0m \u001b[39m# dispatch of the tasks to the workers.\u001b[39;00m\n\u001b[1;32m   2005\u001b[0m \u001b[39mnext\u001b[39m(output)\n\u001b[0;32m-> 2007\u001b[0m \u001b[39mreturn\u001b[39;00m output \u001b[39mif\u001b[39;00m \u001b[39mself\u001b[39m\u001b[39m.\u001b[39mreturn_generator \u001b[39melse\u001b[39;00m \u001b[39mlist\u001b[39;49m(output)\n",
      "File \u001b[0;32m~/opt/anaconda3/envs/Cllava/lib/python3.10/site-packages/joblib/parallel.py:1650\u001b[0m, in \u001b[0;36mParallel._get_outputs\u001b[0;34m(self, iterator, pre_dispatch)\u001b[0m\n\u001b[1;32m   1647\u001b[0m     \u001b[39myield\u001b[39;00m\n\u001b[1;32m   1649\u001b[0m     \u001b[39mwith\u001b[39;00m \u001b[39mself\u001b[39m\u001b[39m.\u001b[39m_backend\u001b[39m.\u001b[39mretrieval_context():\n\u001b[0;32m-> 1650\u001b[0m         \u001b[39myield from\u001b[39;00m \u001b[39mself\u001b[39m\u001b[39m.\u001b[39m_retrieve()\n\u001b[1;32m   1652\u001b[0m \u001b[39mexcept\u001b[39;00m \u001b[39mGeneratorExit\u001b[39;00m:\n\u001b[1;32m   1653\u001b[0m     \u001b[39m# The generator has been garbage collected before being fully\u001b[39;00m\n\u001b[1;32m   1654\u001b[0m     \u001b[39m# consumed. This aborts the remaining tasks if possible and warn\u001b[39;00m\n\u001b[1;32m   1655\u001b[0m     \u001b[39m# the user if necessary.\u001b[39;00m\n\u001b[1;32m   1656\u001b[0m     \u001b[39mself\u001b[39m\u001b[39m.\u001b[39m_exception \u001b[39m=\u001b[39m \u001b[39mTrue\u001b[39;00m\n",
      "File \u001b[0;32m~/opt/anaconda3/envs/Cllava/lib/python3.10/site-packages/joblib/parallel.py:1762\u001b[0m, in \u001b[0;36mParallel._retrieve\u001b[0;34m(self)\u001b[0m\n\u001b[1;32m   1757\u001b[0m \u001b[39m# If the next job is not ready for retrieval yet, we just wait for\u001b[39;00m\n\u001b[1;32m   1758\u001b[0m \u001b[39m# async callbacks to progress.\u001b[39;00m\n\u001b[1;32m   1759\u001b[0m \u001b[39mif\u001b[39;00m ((\u001b[39mlen\u001b[39m(\u001b[39mself\u001b[39m\u001b[39m.\u001b[39m_jobs) \u001b[39m==\u001b[39m \u001b[39m0\u001b[39m) \u001b[39mor\u001b[39;00m\n\u001b[1;32m   1760\u001b[0m     (\u001b[39mself\u001b[39m\u001b[39m.\u001b[39m_jobs[\u001b[39m0\u001b[39m]\u001b[39m.\u001b[39mget_status(\n\u001b[1;32m   1761\u001b[0m         timeout\u001b[39m=\u001b[39m\u001b[39mself\u001b[39m\u001b[39m.\u001b[39mtimeout) \u001b[39m==\u001b[39m TASK_PENDING)):\n\u001b[0;32m-> 1762\u001b[0m     time\u001b[39m.\u001b[39;49msleep(\u001b[39m0.01\u001b[39;49m)\n\u001b[1;32m   1763\u001b[0m     \u001b[39mcontinue\u001b[39;00m\n\u001b[1;32m   1765\u001b[0m \u001b[39m# We need to be careful: the job list can be filling up as\u001b[39;00m\n\u001b[1;32m   1766\u001b[0m \u001b[39m# we empty it and Python list are not thread-safe by\u001b[39;00m\n\u001b[1;32m   1767\u001b[0m \u001b[39m# default hence the use of the lock\u001b[39;00m\n",
      "\u001b[0;31mKeyboardInterrupt\u001b[0m: "
     ]
    }
   ],
   "source": [
    "start_time = time.time()\n",
    "\n",
    "mapper_algo1 = MapperAlgorithm(\n",
    "    cover = CubicalCover(\n",
    "        n_intervals = 7,\n",
    "        overlap_frac = 0.4\n",
    "    ),\n",
    "    clustering = FailSafeClustering(\n",
    "        clustering = AgglomerativeClustering(),\n",
    "        verbose = True)\n",
    ")\n",
    "\n",
    "# mapper_graph1 = mapper_algo1.fit_transform(mapper_numpy, lens)\n",
    "mapper_graph1 = mapper_algo1.fit_transform(mapper_numpy, lens)\n",
    "\n",
    "end_time = time.time()\n",
    "elapsed_time = end_time - start_time\n",
    "print(elapsed_time)"
   ]
  },
  {
   "cell_type": "code",
   "execution_count": 10,
   "id": "7378f777-4701-4a73-99f1-82a61ec14739",
   "metadata": {
    "tags": []
   },
   "outputs": [],
   "source": [
    "mapper_plot1 = MapperLayoutInteractive(\n",
    "    mapper_graph1[0],\n",
    "    # colors = data_to_map[['號誌-號誌種類名稱_無號誌']].to_numpy(),\n",
    "    colors=rbind_data['死亡'].to_numpy(),\n",
    "    cmap = 'jet',\n",
    "    # agg = np.nanmean,\n",
    "    # agg = most_frequent_nonan,\n",
    "    agg = average_encoded_label,\n",
    "    dim = 3,\n",
    "    iterations = 200,\n",
    "    seed = 6,\n",
    "    width = 800,\n",
    "    height = 500)"
   ]
  },
  {
   "cell_type": "code",
   "execution_count": 60,
   "id": "8c2d4b32-5829-4c5d-971c-68cf2c931b36",
   "metadata": {},
   "outputs": [],
   "source": [
    "# fig_mean1 = mapper_plot1.plot()\n",
    "# fig_mean1.show(config={'scrollZoom': True})"
   ]
  },
  {
   "cell_type": "code",
   "execution_count": 17,
   "id": "dc401be2-13ca-4fdf-95e2-b1dd7f074d2a",
   "metadata": {},
   "outputs": [
    {
     "data": {
      "text/plain": [
       "Index(['道路類別-第1當事者-名稱', '速限-第1當事者', '道路型態大類別名稱', '道路型態子類別名稱', '事故位置大類別名稱',\n",
       "       '事故位置子類別名稱', '路面狀況-路面鋪裝名稱', '路面狀況-路面狀態名稱', '路面狀況-路面缺陷名稱', '道路障礙-障礙物名稱',\n",
       "       '道路障礙-視距品質名稱', '道路障礙-視距名稱', '號誌-號誌種類名稱', '號誌-號誌動作名稱',\n",
       "       '車道劃分設施-分向設施大類別名稱', '車道劃分設施-分向設施子類別名稱', '車道劃分設施-分道設施-快車道或一般車道間名稱',\n",
       "       '車道劃分設施-分道設施-快慢車道間名稱', '車道劃分設施-分道設施-路面邊線名稱', '事故類型及型態大類別名稱',\n",
       "       '事故類型及型態子類別名稱', '死亡', '受傷'],\n",
       "      dtype='object')"
      ]
     },
     "execution_count": 17,
     "metadata": {},
     "output_type": "execute_result"
    }
   ],
   "source": [
    "rbind_data.columns"
   ]
  },
  {
   "cell_type": "code",
   "execution_count": null,
   "id": "bd9db8a9-3bd7-4218-b32e-ca2001b4c97f",
   "metadata": {},
   "outputs": [],
   "source": [
    "selected_columns = data_to_map.columns[data_to_map.columns.str.contains('死亡')]\n",
    "selected_columns"
   ]
  },
  {
   "cell_type": "code",
   "execution_count": null,
   "id": "e5169998-6b3e-4f02-b8d1-5b1e66d56676",
   "metadata": {},
   "outputs": [],
   "source": [
    "# mapper_plot1.update(\n",
    "#     colors=rbind_data['死亡'].to_numpy(),\n",
    "#     cmap = 'jet', \n",
    "#     agg=average_encoded_label,\n",
    "#     # agg = most_common_encoded_label\n",
    "# )\n",
    "\n",
    "# fig_std = mapper_plot1.plot()\n",
    "# fig_std.show(config={'scrollZoom': True})"
   ]
  },
  {
   "attachments": {},
   "cell_type": "markdown",
   "id": "97942c2f-666c-43dd-b148-089d7da3ad6e",
   "metadata": {},
   "source": [
    "## Get data info"
   ]
  },
  {
   "cell_type": "code",
   "execution_count": null,
   "id": "1094011c-6b04-4ec1-8745-41c810c117c0",
   "metadata": {},
   "outputs": [],
   "source": [
    "x = vars(mapper_plot1._MapperLayoutInteractive__fig)['_data_objs'][1]['x']\n",
    "y = vars(mapper_plot1._MapperLayoutInteractive__fig)['_data_objs'][1]['y']\n",
    "z = vars(mapper_plot1._MapperLayoutInteractive__fig)['_data_objs'][1]['z']\n",
    "\n",
    "threeDimData = pd.DataFrame({'x': x, 'y': y, 'z': z})\n",
    "\n",
    "import re\n",
    "data_tuple = vars(mapper_plot1._MapperLayoutInteractive__fig)['_data_objs'][1]['text']\n",
    "\n",
    "data = []\n",
    "for item in data_tuple:\n",
    "    color = int(re.search(r'color: (-?\\d+)', item).group(1))\n",
    "    node = int(re.search(r'node: (\\d+)', item).group(1))\n",
    "    size = int(re.search(r'size: (\\d+)', item).group(1))\n",
    "    data.append({'color': color, 'node': node, 'size': size})\n",
    "component_info = pd.DataFrame(data)\n",
    "\n",
    "full_info = pd.concat([component_info, threeDimData], axis=1)\n",
    "\n",
    "mp_content_origin = vars(mapper_plot1._MapperLayoutInteractive__graph)['_node']\n",
    "\n",
    "mp_content = pd.DataFrame.from_dict(mp_content_origin, orient='index')\n",
    "mp_content.reset_index(inplace=True)\n",
    "mp_content.rename(columns={'index': 'node'}, inplace=True)\n",
    "\n",
    "full_info = pd.merge(full_info, mp_content, on=['node', 'size'], how='inner')"
   ]
  },
  {
   "cell_type": "code",
   "execution_count": null,
   "id": "376adaa5-9cbf-45ff-8b32-369dbaed3b6a",
   "metadata": {},
   "outputs": [],
   "source": [
    "calinski_data = get_calinski_from_db(full_info, 0.006)\n",
    "labels = calinski_data[3]\n",
    "db = calinski_data[2]\n",
    "n_clusters_ = calinski_data[4]\n",
    "\n",
    "print(n_clusters_)\n",
    "\n",
    "do_plot(full_info, calinski_data, labels, db, n_clusters_)\n",
    "\n",
    "label_0 = full_info[full_info['label'] == 0]\n",
    "label_1 = full_info[full_info['label'] == 1]\n",
    "label_out = full_info[(full_info['label'] != 1) & (full_info['label'] != 0)]\n",
    "\n",
    "count_0 = get_count_dict(label_0)\n",
    "count_1 = get_count_dict(label_1)\n",
    "count_out = get_count_dict(label_out)\n",
    "full_0 = rbind_data.loc[count_0.keys()]\n",
    "full_1 = rbind_data.loc[count_1.keys()]\n",
    "full_out = rbind_data.loc[count_out.keys()]\n",
    "# 重疊\n",
    "lst01 = list(count_0.keys() & count_1.keys())\n",
    "full_01 = full_0.loc[lst01]\n",
    "\n",
    "full_0 = full_0.drop(lst01)\n",
    "full_1 = full_1.drop(lst01)\n",
    "\n",
    "# print('01連接點數量', len(lst01))\n",
    "\n",
    "full_01.shape[0] + full_0.shape[0] + full_1.shape[0] == rbind_data.shape[0]"
   ]
  },
  {
   "cell_type": "code",
   "execution_count": null,
   "id": "9f5d22f4-fb95-41d0-9e28-0b89cb786a5e",
   "metadata": {},
   "outputs": [],
   "source": [
    "# fig_mean1 = mapper_plot1.plot()\n",
    "# fig_mean1.show(config={'scrollZoom': True})"
   ]
  },
  {
   "cell_type": "code",
   "execution_count": null,
   "id": "2cca3716-30f2-461c-97a2-ce9eb1bf6315",
   "metadata": {},
   "outputs": [],
   "source": [
    "def get_specific_cluster(label):\n",
    "    \n",
    "    label_data = full_info[full_info['label'] == label]\n",
    "    count = get_count_dict(label_data)\n",
    "    full = rbind_data.loc[count.keys()]\n",
    "    return full\n",
    "\n",
    "for i in range(7):\n",
    "    \n",
    "    specific_data = get_specific_cluster(i)\n",
    "\n",
    "    print(specific_data['死亡'].value_counts(normalize = True))"
   ]
  },
  {
   "attachments": {},
   "cell_type": "markdown",
   "id": "9892b3b5-aaa6-429d-a548-2b36d5e9d341",
   "metadata": {},
   "source": [
    "## Chi test"
   ]
  },
  {
   "cell_type": "code",
   "execution_count": null,
   "id": "449bbb3b-bbf3-442d-9cf3-b0aacaf7200a",
   "metadata": {},
   "outputs": [],
   "source": [
    "# full_1#.drop(['緯度'], axis=1)"
   ]
  },
  {
   "cell_type": "code",
   "execution_count": null,
   "id": "ad28fcc0-75b2-4468-b7af-efb4a2a0392b",
   "metadata": {},
   "outputs": [],
   "source": [
    "result = compare_categorical_features(full_0.drop(['緯度', '經度', '速限-第1當事者'], axis=1), \n",
    "                                      full_1.drop(['緯度', '經度', '速限-第1當事者'], axis=1))\n",
    "result.sort_values(by=\"chi2\", ascending=False)"
   ]
  },
  {
   "attachments": {},
   "cell_type": "markdown",
   "id": "ffb2c06f-8ad1-4a0c-a10d-4174f2c1201a",
   "metadata": {},
   "source": [
    "## 四分位圖"
   ]
  },
  {
   "cell_type": "code",
   "execution_count": null,
   "id": "0e43c014-8bee-4e1c-a47b-296fe3b1852e",
   "metadata": {},
   "outputs": [],
   "source": [
    "# latitude_data_full_0 = full_0['經度']\n",
    "# latitude_data_full_1 = full_1['經度']\n",
    "\n",
    "# # 繪製四分位圖\n",
    "# plt.figure(figsize=(10, 6))\n",
    "# plt.boxplot([latitude_data_full_0, latitude_data_full_1], labels=['full_0', 'full_1'])\n",
    "# plt.title('緯度的四分位圖')\n",
    "# plt.ylabel('緯度')\n",
    "# plt.grid(True)\n",
    "# plt.show()"
   ]
  },
  {
   "attachments": {},
   "cell_type": "markdown",
   "id": "185c7494-6835-4140-8f9f-635983019632",
   "metadata": {},
   "source": [
    "## 計數圖"
   ]
  },
  {
   "cell_type": "code",
   "execution_count": null,
   "id": "c33357f8-0bc0-4afe-ae02-ac9dccc63e83",
   "metadata": {},
   "outputs": [],
   "source": [
    "plt.rcParams['font.sans-serif'] = ['Microsoft YaHei'] # Window\n",
    "# plt.rcParams['font.sans-serif']=['Arial Unicode Ms'] # Mac\n",
    "plt.rcParams['axes.unicode_minus'] = False\n",
    "\n",
    "injury_distribution = pd.DataFrame({\n",
    "    'full_0': full_0['號誌-號誌動作名稱'].value_counts(normalize=True),\n",
    "    'full_1': full_1['號誌-號誌動作名稱'].value_counts(normalize=True)\n",
    "})\n",
    "\n",
    "print(injury_distribution)\n",
    "\n",
    "# 可視化分布差異\n",
    "injury_distribution.plot(kind='bar', figsize=(10, 6))\n",
    "plt.title('distribution')\n",
    "plt.xlabel('injured state')\n",
    "plt.ylabel('ratio')\n",
    "plt.show()"
   ]
  },
  {
   "attachments": {},
   "cell_type": "markdown",
   "id": "e34903f8-cb79-4d93-b14f-36b1781bbe4e",
   "metadata": {},
   "source": [
    "## Pickle save"
   ]
  },
  {
   "cell_type": "code",
   "execution_count": null,
   "id": "80968938-b915-4b08-a38e-3a6d90a1f41e",
   "metadata": {},
   "outputs": [],
   "source": [
    "# import pickle\n",
    "\n",
    "# with open('../Version3/GridSearch/全部mapper資料.pkl', 'wb') as f:\n",
    "#     pickle.dump(results, f)"
   ]
  },
  {
   "attachments": {},
   "cell_type": "markdown",
   "id": "4bd14fb4-f987-4cd4-8605-0d2f9017685f",
   "metadata": {},
   "source": [
    "# Grid search"
   ]
  },
  {
   "cell_type": "code",
   "execution_count": null,
   "id": "c88cc7cd-4cb2-4e9d-a0d1-79d7916ac923",
   "metadata": {
    "collapsed": true,
    "jupyter": {
     "outputs_hidden": true
    },
    "tags": []
   },
   "outputs": [],
   "source": [
    "n_intervals_range = range(3, 6)\n",
    "overlap_frac_range = [round(0.4 + i * 0.05, 2) for i in range(5)]\n",
    "\n",
    "print(n_intervals_range)\n",
    "print(overlap_frac_range)\n",
    "\n",
    "results = []\n",
    "\n",
    "for n_intervals in n_intervals_range:\n",
    "    for overlap_frac in overlap_frac_range:\n",
    "        \n",
    "        start_time = time.time()\n",
    "\n",
    "        mapper_algo = MapperAlgorithm(\n",
    "            cover=CubicalCover(\n",
    "                n_intervals=n_intervals,\n",
    "                overlap_frac=overlap_frac\n",
    "            ),\n",
    "            clustering=FailSafeClustering(\n",
    "                clustering=AgglomerativeClustering(5, linkage='single'),\n",
    "                verbose=False\n",
    "            )\n",
    "        )\n",
    "\n",
    "        mapper_graph = mapper_algo.fit_transform(mapper_numpy, lens)\n",
    "        \n",
    "        end_time = time.time()\n",
    "        elapsed_time = end_time - start_time\n",
    "        print(elapsed_time)\n",
    "        \n",
    "        results.append({\n",
    "            'n_intervals': n_intervals,\n",
    "            'overlap_frac': overlap_frac,\n",
    "            'graph': mapper_graph\n",
    "        })\n",
    "        \n",
    "        print(f\"Added parameters: n_intervals={n_intervals}, overlap_frac={overlap_frac}\")"
   ]
  },
  {
   "cell_type": "code",
   "execution_count": null,
   "id": "496922fe-2c69-4173-9808-d58630119211",
   "metadata": {},
   "outputs": [],
   "source": [
    "# for idx, graph in enumerate(results):\n",
    "#     mapper_plot = MapperLayoutInteractive(\n",
    "#         graph['graph'],\n",
    "#         colors=dummy_data[['死亡']].to_numpy(),\n",
    "#         cmap='jet',\n",
    "#         agg=np.nanmean,\n",
    "#         dim=3,\n",
    "#         iterations=30,\n",
    "#         seed=6,\n",
    "#         width=800,\n",
    "#         height=500\n",
    "#     )\n",
    "\n",
    "#     fig = mapper_plot.plot()\n",
    "\n",
    "#     fig.show(config={'scrollZoom': True})\n",
    "\n",
    "#     fig.write_html(f\"mapper_plot_{idx}.html\")"
   ]
  },
  {
   "attachments": {},
   "cell_type": "markdown",
   "id": "27019743-8d59-4dae-8f76-72e1cc69363e",
   "metadata": {},
   "source": [
    "# Example parameters"
   ]
  },
  {
   "attachments": {},
   "cell_type": "markdown",
   "id": "f851fe44-0e96-4c14-9e5d-f5dd9668a1cd",
   "metadata": {},
   "source": [
    "1. 以圖像為例，較高的interval(10)配上較高的overlap(0.65)有較直觀的效果，而使用clustering方法設為10的華德法也較好，同時範例將PCA設為2。[連結](https://pypi.org/project/tda-mapper/0.2.0/)\n",
    "2. 但是將PCA調高雖然增加計算量，但是也在interval不設置大麼多的情況下得到好的結果\n",
    "3. 設置高的clsustering數量可以得出較好的捕捉局部資料lens = PCA(2).fit_transform(X)"
   ]
  },
  {
   "cell_type": "code",
   "execution_count": null,
   "id": "8a1c93f8-2d7b-4772-b7af-9779eee0e983",
   "metadata": {},
   "outputs": [],
   "source": [
    "from sklearn.datasets import load_digits\n",
    "\n",
    "X, y = load_digits(return_X_y=True) \n",
    "\n",
    "pca = PCA(n_components=2)\n",
    "lens = pca.fit_transform(X)\n",
    "\n",
    "explained_variance_ratio  = pca.explained_variance_ratio_\n",
    "print(sum(explained_variance_ratio))\n",
    "print(explained_variance_ratio)"
   ]
  },
  {
   "cell_type": "code",
   "execution_count": null,
   "id": "35a91b66-ffe1-429f-90ce-bffb52f14711",
   "metadata": {},
   "outputs": [],
   "source": [
    "# mapper_algo = MapperAlgorithm(\n",
    "#     cover=CubicalCover(\n",
    "#         n_intervals=10,\n",
    "#         overlap_frac=0.65),\n",
    "#     clustering = FailSafeClustering(\n",
    "#         clustering = AgglomerativeClustering(10, linkage='ward'),\n",
    "#         verbose = False)\n",
    "# )\n",
    "# mapper_graph = mapper_algo.fit_transform(X, lens)\n",
    "\n",
    "# mapper_plot = MapperLayoutInteractive(\n",
    "#     mapper_graph,\n",
    "#     colors=y,                       \n",
    "#     cmap='jet',\n",
    "#     agg=np.nanmean,\n",
    "#     dim=3,\n",
    "#     iterations=400,\n",
    "#     seed=42,\n",
    "#     title='digit (mean)',\n",
    "#     width=600,\n",
    "#     height=600)\n",
    "\n",
    "# fig_mean1 = mapper_plot.plot()\n",
    "# fig_mean1.show(config={'scrollZoom': True})"
   ]
  }
 ],
 "metadata": {
  "kernelspec": {
   "display_name": "Python 3 (ipykernel)",
   "language": "python",
   "name": "python3"
  },
  "language_info": {
   "codemirror_mode": {
    "name": "ipython",
    "version": 3
   },
   "file_extension": ".py",
   "mimetype": "text/x-python",
   "name": "python",
   "nbconvert_exporter": "python",
   "pygments_lexer": "ipython3",
   "version": "3.10.13"
  }
 },
 "nbformat": 4,
 "nbformat_minor": 5
}

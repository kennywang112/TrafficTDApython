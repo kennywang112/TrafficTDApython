{
 "cells": [
  {
   "cell_type": "code",
   "execution_count": 1,
   "metadata": {},
   "outputs": [
    {
     "name": "stdout",
     "output_type": "stream",
     "text": [
      "c:\\Users\\USER\\Desktop\\TrafficTDApython\n"
     ]
    }
   ],
   "source": [
    "import os\n",
    "import sys\n",
    "# sys.path.append('/Users/wangqiqian/Desktop/TrafficTDApython/')\n",
    "sys.path.append('C:/Users/USER/Desktop/TrafficTDApython/')\n",
    "\n",
    "current_dir_path = os.getcwd()\n",
    "current_file_path = os.path.abspath(current_dir_path)\n",
    "current_dir_path = os.path.dirname(current_file_path)\n",
    "parent_dir_path = os.path.dirname(current_dir_path)\n",
    "\n",
    "os.chdir(current_dir_path + '\\\\ultils')\n",
    "# os.chdir(current_dir_path + '/ultils')\n",
    "print(current_dir_path)\n",
    "\n",
    "import time\n",
    "import pickle\n",
    "import numpy as np\n",
    "import pandas as pd\n",
    "import matplotlib.pyplot as plt\n",
    "\n",
    "from sklearn.cluster import AgglomerativeClustering\n",
    "\n",
    "from functions import *\n",
    "from chi import *\n",
    "from regressionP import *\n",
    "from models import *\n",
    "from utils_v3 import *\n",
    "\n",
    "# os.chdir('/Users/wangqiqian/Desktop/TrafficTDApython/')\n",
    "os.chdir('C:/Users/USER/Desktop/TrafficTDApython/')\n",
    "\n",
    "from Version3.tdamapper.core import MapperAlgorithm\n",
    "from Version3.tdamapper.cover import CubicalCover\n",
    "from Version3.tdamapper.clustering import FailSafeClustering\n",
    "from Version3.tdamapper.plot import MapperLayoutInteractive"
   ]
  },
  {
   "cell_type": "code",
   "execution_count": 2,
   "metadata": {},
   "outputs": [],
   "source": [
    "data1 = pd.read_csv(\"Data/NPA_TMA2_1.csv\", low_memory=False)[:-2]\n",
    "data2 = pd.read_csv(\"Data/NPA_TMA2_2.csv\", low_memory=False)[:-2]\n",
    "data3 = pd.read_csv(\"Data/NPA_TMA2_3.csv\", low_memory=False)[:-2]\n",
    "data4 = pd.read_csv(\"Data/NPA_TMA2_4_new.csv\", low_memory=False)[:-2]\n",
    "data5 = pd.read_csv(\"Data/NPA_TMA2_5.csv\", low_memory=False)[:-2]\n",
    "data6 = pd.read_csv(\"Data/NPA_TMA2_6_new.csv\", low_memory=False)[:-2]\n",
    "data7 = pd.read_csv(\"Data/NPA_TMA2_7.csv\", low_memory=False)[:-2]\n",
    "data8 = pd.read_csv(\"Data/NPA_TMA2_8.csv\", low_memory=False)[:-2]\n",
    "data9 = pd.read_csv(\"Data/NPA_TMA2_9.csv\", low_memory=False)[:-2]\n",
    "data10 = pd.read_csv(\"Data/NPA_TMA2_10.csv\", low_memory=False)[:-2]\n",
    "\n",
    "dataA2 = pd.concat([data1, data2, data3, data4, data5, data6, data7, data8, data9, data10], ignore_index=True)\n",
    "# dataA2 = pd.concat([data1, data2, data3, data4, data5], ignore_index=True)\n",
    "\n",
    "dataA1 = pd.read_csv(\"Data/NPA_TMA1_V3.csv\")[:-2]"
   ]
  },
  {
   "cell_type": "code",
   "execution_count": 80,
   "metadata": {},
   "outputs": [
    {
     "name": "stdout",
     "output_type": "stream",
     "text": [
      "dummy_data: (3015, 129)\n"
     ]
    }
   ],
   "source": [
    "select_lst = [\n",
    "    # 月份是為了篩選每個月2萬筆\n",
    "    '發生月份',\n",
    "\n",
    "    '天候名稱', '光線名稱', \n",
    "    '道路類別-第1當事者-名稱', '速限-第1當事者', \n",
    "    '路面狀況-路面鋪裝名稱', '路面狀況-路面狀態名稱', '路面狀況-路面缺陷名稱',\n",
    "    '道路障礙-障礙物名稱', '道路障礙-視距品質名稱', '道路障礙-視距名稱',\n",
    "    '號誌-號誌種類名稱', '號誌-號誌動作名稱',\n",
    "    '車道劃分設施-分道設施-快車道或一般車道間名稱', '車道劃分設施-分道設施-快慢車道間名稱', '車道劃分設施-分道設施-路面邊線名稱',\n",
    "    '當事者屬-性-別名稱', '當事者事故發生時年齡',\n",
    "    '保護裝備名稱', '行動電話或電腦或其他相類功能裝置名稱',\n",
    "    '肇事逃逸類別名稱-是否肇逃',\n",
    "    '死亡受傷人數',\n",
    "\n",
    "    # 大類別\n",
    "    '道路型態大類別名稱', '事故位置大類別名稱',\n",
    "    '車道劃分設施-分向設施大類別名稱',\n",
    "    '事故類型及型態大類別名稱', '肇因研判大類別名稱-主要', '當事者區分-類別-大類別名稱-車種', '當事者行動狀態大類別名稱',\n",
    "    '車輛撞擊部位大類別名稱-最初', '車輛撞擊部位大類別名稱-其他', '肇因研判大類別名稱-個別',\n",
    "]\n",
    "\n",
    "def preprocess(input_data, select_lst):\n",
    "    # 篩選到第一個順位，因為注重的是單次事故的情況\n",
    "    sample_data = input_data[input_data['當事者順位'] == 1].reset_index(drop=True, inplace=False)\n",
    "    sample_data = sample_data[sample_data['發生月份'] < 11]\n",
    "    dataA = sample_data[select_lst]\n",
    "    \n",
    "    # 將資料分出死亡和受傷，合併到原本的資料後去除多餘的死亡受傷人數\n",
    "    death_injury_data = split_death_injury(dataA['死亡受傷人數'])\n",
    "    dist_df = pd.concat([dataA, death_injury_data], axis=1)\n",
    "    # 補齊缺失值\n",
    "    dist_df[select_lst] = dist_df[select_lst].fillna('未紀錄')\n",
    "\n",
    "    dist_df.drop(columns=['死亡受傷人數'], inplace=True)\n",
    "    \n",
    "    return dist_df\n",
    "\n",
    "dist_dfA1 = preprocess(dataA1, select_lst)\n",
    "dist_dfA2 = preprocess(dataA2, select_lst)\n",
    "\n",
    "dist_dfA2 = dist_dfA2[dist_dfA2['當事者行動狀態大類別名稱'] != '未紀錄']\n",
    "dist_dfA1 = dist_dfA1[dist_dfA1['當事者行動狀態大類別名稱'] != '未紀錄']\n",
    "\n",
    "pass_A2 = dist_dfA2[dist_dfA2['當事者行動狀態大類別名稱'] == '人的狀態']\n",
    "pass_A1 = dist_dfA1[dist_dfA1['當事者行動狀態大類別名稱'] == '人的狀態']\n",
    "\n",
    "pass_A2 = pass_A2[pass_A2['肇因研判大類別名稱-主要'] != '駕駛者']\n",
    "pass_A1 = pass_A1[pass_A1['肇因研判大類別名稱-主要'] != '駕駛者']\n",
    "pass_A2 = pass_A2[pass_A2['肇因研判大類別名稱-主要'] != '無(非車輛駕駛人因素)']\n",
    "pass_A1 = pass_A1[pass_A1['肇因研判大類別名稱-主要'] != '無(非車輛駕駛人因素)']\n",
    "\n",
    "# drop\n",
    "pass_A1.drop(columns=['當事者行動狀態大類別名稱'], inplace=True)\n",
    "pass_A2.drop(columns=['當事者行動狀態大類別名稱'], inplace=True)\n",
    "\n",
    "# Concat\n",
    "rbind_data = pd.concat([pass_A1, pass_A2], axis=0, ignore_index=True)\n",
    "rbind_data.drop(columns=['發生月份'], inplace=True)\n",
    "\n",
    "bins_age = [0, 14, 24, 34, 44, 54, 64, 74, float('inf')]\n",
    "labels_age = ['未滿15歲', '15~24', '25~34', '35~44', '45~54', '55~64', '65~74', '75+']\n",
    "\n",
    "rbind_data['當事者事故發生時年齡'] = pd.cut(rbind_data['當事者事故發生時年齡'], bins=bins_age, labels=labels_age, right=False)\n",
    "\n",
    "rbind_data['當事者事故發生時年齡'] = rbind_data['當事者事故發生時年齡'].cat.add_categories('未知')\n",
    "rbind_data['當事者事故發生時年齡'] = rbind_data['當事者事故發生時年齡'].fillna('未知')\n",
    "\n",
    "bins_speed = [0, 10, 20, 30, 40, 50, 60, 70, 80, 90, 100, 110, float('inf')]\n",
    "labels_speed = ['0-10', '11-20', '21-30', '31-40', '41-50', '51-60', '61-70', '71-80', '81-90', '91-100', '101-110', '110+']\n",
    "\n",
    "rbind_data['速限-第1當事者'] = pd.cut(rbind_data['速限-第1當事者'], bins=bins_speed, labels=labels_speed, right=False)\n",
    "\n",
    "# assert rbind_data.shape[0] == dist_dfA1.shape[0] + dist_dfA2.shape[0]\n",
    "# Dummy\n",
    "rbind_data[\"速限-第1當事者\"] = rbind_data[\"速限-第1當事者\"].astype(str)\n",
    "dummy_data = pd.get_dummies(rbind_data)\n",
    "\n",
    "print('dummy_data:', dummy_data.shape)\n",
    "\n",
    "data_to_map = dummy_data.drop(['死亡', '受傷'], axis=1)\n",
    "mapper_numpy = data_to_map.to_numpy()"
   ]
  },
  {
   "cell_type": "code",
   "execution_count": 78,
   "metadata": {},
   "outputs": [
    {
     "data": {
      "text/plain": [
       "肇因研判大類別名稱-主要\n",
       "非駕駛者           56\n",
       "其他              1\n",
       "無(非車輛駕駛人因素)     1\n",
       "Name: count, dtype: int64"
      ]
     },
     "execution_count": 78,
     "metadata": {},
     "output_type": "execute_result"
    }
   ],
   "source": [
    "pass_A1['肇因研判大類別名稱-主要'].value_counts()"
   ]
  },
  {
   "cell_type": "markdown",
   "metadata": {},
   "source": [
    "篩選掉未紀錄資料以及分類人的狀態以及車的狀態"
   ]
  },
  {
   "cell_type": "markdown",
   "metadata": {},
   "source": [
    "由於人的狀態資料量已經很少，所以不進行下採樣"
   ]
  },
  {
   "cell_type": "code",
   "execution_count": 81,
   "metadata": {},
   "outputs": [
    {
     "name": "stdout",
     "output_type": "stream",
     "text": [
      "          eigenvalue % of variance % of variance (cumulative)\n",
      "component                                                    \n",
      "0              0.237         7.02%                      7.02%\n",
      "1              0.117         3.46%                     10.49%\n",
      "2              0.110         3.27%                     13.75%\n",
      "3              0.083         2.44%                     16.20%\n",
      "4              0.077         2.28%                     18.48%\n",
      "5              0.072         2.13%                     20.61%\n",
      "6              0.068         2.01%                     22.62%\n",
      "7              0.063         1.87%                     24.50%\n",
      "8              0.055         1.62%                     26.11%\n",
      "9              0.051         1.52%                     27.64%\n",
      "10             0.050         1.48%                     29.12%\n"
     ]
    },
    {
     "data": {
      "image/png": "[encoded data removed]",
      "text/plain": [
       "<Figure size 1000x600 with 1 Axes>"
      ]
     },
     "metadata": {},
     "output_type": "display_data"
    }
   ],
   "source": [
    "import prince\n",
    "\n",
    "mca = prince.MCA(\n",
    "    one_hot=False,\n",
    "    n_components=11,\n",
    "    n_iter=30,\n",
    "    copy=True,\n",
    "    check_input=True,\n",
    "    random_state=42\n",
    ")\n",
    "\n",
    "mca.fit(data_to_map)\n",
    "lens = mca.transform(data_to_map)\n",
    "\n",
    "print(mca.eigenvalues_summary)\n",
    "\n",
    "eigenvalues = mca.eigenvalues_\n",
    "\n",
    "components = range(0, len(eigenvalues))\n",
    "\n",
    "variance = mca.eigenvalues_summary['% of variance']\n",
    "\n",
    "plt.figure(figsize=(10, 6))\n",
    "plt.plot(components, eigenvalues, marker='o', linestyle='--')\n",
    "plt.title(\"Scree Plot\")\n",
    "plt.xlabel(\"Component\")\n",
    "plt.ylabel(\"Eigenvalue\")\n",
    "plt.xticks(components)\n",
    "plt.grid(True)\n",
    "plt.show()"
   ]
  },
  {
   "cell_type": "code",
   "execution_count": 86,
   "metadata": {},
   "outputs": [
    {
     "name": "stdout",
     "output_type": "stream",
     "text": [
      "overlap: 1, interval: 2\n"
     ]
    },
    {
     "name": "stderr",
     "output_type": "stream",
     "text": [
      "Processing Clusters: 100%|██████████| 14/14 [00:00<00:00, 53.55it/s]\n"
     ]
    },
    {
     "name": "stdout",
     "output_type": "stream",
     "text": [
      "Results saved to C:/Users/USER/Desktop/TrafficTDApython/Version3/Component11Pass/results_o1i2.pkl\n",
      "overlap: 1, interval: 3\n"
     ]
    },
    {
     "name": "stderr",
     "output_type": "stream",
     "text": [
      "Processing Clusters: 100%|██████████| 46/46 [00:00<00:00, 189.72it/s]\n"
     ]
    },
    {
     "name": "stdout",
     "output_type": "stream",
     "text": [
      "Results saved to C:/Users/USER/Desktop/TrafficTDApython/Version3/Component11Pass/results_o1i3.pkl\n",
      "overlap: 1, interval: 4\n"
     ]
    },
    {
     "name": "stderr",
     "output_type": "stream",
     "text": [
      "Processing Clusters: 100%|██████████| 58/58 [00:00<00:00, 277.31it/s]\n"
     ]
    },
    {
     "name": "stdout",
     "output_type": "stream",
     "text": [
      "Results saved to C:/Users/USER/Desktop/TrafficTDApython/Version3/Component11Pass/results_o1i4.pkl\n",
      "overlap: 1, interval: 5\n"
     ]
    },
    {
     "name": "stderr",
     "output_type": "stream",
     "text": [
      "Processing Clusters: 100%|██████████| 141/141 [00:00<00:00, 736.26it/s]\n"
     ]
    },
    {
     "name": "stdout",
     "output_type": "stream",
     "text": [
      "Results saved to C:/Users/USER/Desktop/TrafficTDApython/Version3/Component11Pass/results_o1i5.pkl\n",
      "overlap: 1, interval: 6\n"
     ]
    },
    {
     "name": "stderr",
     "output_type": "stream",
     "text": [
      "Processing Clusters: 100%|██████████| 128/128 [00:00<00:00, 922.55it/s]\n"
     ]
    },
    {
     "name": "stdout",
     "output_type": "stream",
     "text": [
      "Results saved to C:/Users/USER/Desktop/TrafficTDApython/Version3/Component11Pass/results_o1i6.pkl\n",
      "overlap: 1, interval: 7\n"
     ]
    },
    {
     "name": "stderr",
     "output_type": "stream",
     "text": [
      "Processing Clusters: 100%|██████████| 147/147 [00:00<00:00, 830.58it/s]\n"
     ]
    },
    {
     "name": "stdout",
     "output_type": "stream",
     "text": [
      "Results saved to C:/Users/USER/Desktop/TrafficTDApython/Version3/Component11Pass/results_o1i7.pkl\n",
      "overlap: 1, interval: 8\n"
     ]
    },
    {
     "name": "stderr",
     "output_type": "stream",
     "text": [
      "Processing Clusters: 100%|██████████| 199/199 [00:00<00:00, 1272.16it/s]\n"
     ]
    },
    {
     "name": "stdout",
     "output_type": "stream",
     "text": [
      "Results saved to C:/Users/USER/Desktop/TrafficTDApython/Version3/Component11Pass/results_o1i8.pkl\n",
      "overlap: 1, interval: 9\n"
     ]
    },
    {
     "name": "stderr",
     "output_type": "stream",
     "text": [
      "Processing Clusters: 100%|██████████| 233/233 [00:00<00:00, 1422.88it/s]\n"
     ]
    },
    {
     "name": "stdout",
     "output_type": "stream",
     "text": [
      "Results saved to C:/Users/USER/Desktop/TrafficTDApython/Version3/Component11Pass/results_o1i9.pkl\n",
      "overlap: 1, interval: 10\n"
     ]
    },
    {
     "name": "stderr",
     "output_type": "stream",
     "text": [
      "Processing Clusters: 100%|██████████| 297/297 [00:00<00:00, 1972.71it/s]\n"
     ]
    },
    {
     "name": "stdout",
     "output_type": "stream",
     "text": [
      "Results saved to C:/Users/USER/Desktop/TrafficTDApython/Version3/Component11Pass/results_o1i10.pkl\n",
      "overlap: 2, interval: 2\n"
     ]
    },
    {
     "name": "stderr",
     "output_type": "stream",
     "text": [
      "Processing Clusters: 100%|██████████| 10/10 [00:00<00:00, 33.52it/s]\n"
     ]
    },
    {
     "name": "stdout",
     "output_type": "stream",
     "text": [
      "Results saved to C:/Users/USER/Desktop/TrafficTDApython/Version3/Component11Pass/results_o2i2.pkl\n",
      "overlap: 2, interval: 3\n"
     ]
    },
    {
     "name": "stderr",
     "output_type": "stream",
     "text": [
      "Processing Clusters: 100%|██████████| 37/37 [00:00<00:00, 66.66it/s]\n"
     ]
    },
    {
     "name": "stdout",
     "output_type": "stream",
     "text": [
      "Results saved to C:/Users/USER/Desktop/TrafficTDApython/Version3/Component11Pass/results_o2i3.pkl\n",
      "overlap: 2, interval: 4\n"
     ]
    },
    {
     "name": "stderr",
     "output_type": "stream",
     "text": [
      "Processing Clusters: 100%|██████████| 44/44 [00:00<00:00, 141.71it/s]\n"
     ]
    },
    {
     "name": "stdout",
     "output_type": "stream",
     "text": [
      "Results saved to C:/Users/USER/Desktop/TrafficTDApython/Version3/Component11Pass/results_o2i4.pkl\n",
      "overlap: 2, interval: 5\n"
     ]
    },
    {
     "name": "stderr",
     "output_type": "stream",
     "text": [
      "Processing Clusters: 100%|██████████| 100/100 [00:00<00:00, 185.20it/s]\n"
     ]
    },
    {
     "name": "stdout",
     "output_type": "stream",
     "text": [
      "Results saved to C:/Users/USER/Desktop/TrafficTDApython/Version3/Component11Pass/results_o2i5.pkl\n",
      "overlap: 2, interval: 6\n"
     ]
    },
    {
     "name": "stderr",
     "output_type": "stream",
     "text": [
      "Processing Clusters: 100%|██████████| 101/101 [00:00<00:00, 494.97it/s]\n"
     ]
    },
    {
     "name": "stdout",
     "output_type": "stream",
     "text": [
      "Results saved to C:/Users/USER/Desktop/TrafficTDApython/Version3/Component11Pass/results_o2i6.pkl\n",
      "overlap: 2, interval: 7\n"
     ]
    },
    {
     "name": "stderr",
     "output_type": "stream",
     "text": [
      "Processing Clusters: 100%|██████████| 103/103 [00:00<00:00, 332.78it/s]\n"
     ]
    },
    {
     "name": "stdout",
     "output_type": "stream",
     "text": [
      "Results saved to C:/Users/USER/Desktop/TrafficTDApython/Version3/Component11Pass/results_o2i7.pkl\n",
      "overlap: 2, interval: 8\n"
     ]
    },
    {
     "name": "stderr",
     "output_type": "stream",
     "text": [
      "Processing Clusters: 100%|██████████| 141/141 [00:00<00:00, 392.56it/s]\n"
     ]
    },
    {
     "name": "stdout",
     "output_type": "stream",
     "text": [
      "Results saved to C:/Users/USER/Desktop/TrafficTDApython/Version3/Component11Pass/results_o2i8.pkl\n",
      "overlap: 2, interval: 9\n"
     ]
    },
    {
     "name": "stderr",
     "output_type": "stream",
     "text": [
      "Processing Clusters: 100%|██████████| 176/176 [00:00<00:00, 786.57it/s]\n"
     ]
    },
    {
     "name": "stdout",
     "output_type": "stream",
     "text": [
      "Results saved to C:/Users/USER/Desktop/TrafficTDApython/Version3/Component11Pass/results_o2i9.pkl\n",
      "overlap: 2, interval: 10\n"
     ]
    },
    {
     "name": "stderr",
     "output_type": "stream",
     "text": [
      "Processing Clusters: 100%|██████████| 218/218 [00:00<00:00, 809.85it/s]\n"
     ]
    },
    {
     "name": "stdout",
     "output_type": "stream",
     "text": [
      "Results saved to C:/Users/USER/Desktop/TrafficTDApython/Version3/Component11Pass/results_o2i10.pkl\n",
      "overlap: 3, interval: 2\n"
     ]
    },
    {
     "name": "stderr",
     "output_type": "stream",
     "text": [
      "Processing Clusters: 100%|██████████| 10/10 [00:00<00:00, 29.93it/s]\n"
     ]
    },
    {
     "name": "stdout",
     "output_type": "stream",
     "text": [
      "Results saved to C:/Users/USER/Desktop/TrafficTDApython/Version3/Component11Pass/results_o3i2.pkl\n",
      "overlap: 3, interval: 3\n"
     ]
    },
    {
     "name": "stderr",
     "output_type": "stream",
     "text": [
      "Processing Clusters: 100%|██████████| 27/27 [00:00<00:00, 33.00it/s]\n"
     ]
    },
    {
     "name": "stdout",
     "output_type": "stream",
     "text": [
      "Results saved to C:/Users/USER/Desktop/TrafficTDApython/Version3/Component11Pass/results_o3i3.pkl\n",
      "overlap: 3, interval: 4\n"
     ]
    },
    {
     "name": "stderr",
     "output_type": "stream",
     "text": [
      "Processing Clusters: 100%|██████████| 34/34 [00:00<00:00, 58.15it/s]\n"
     ]
    },
    {
     "name": "stdout",
     "output_type": "stream",
     "text": [
      "Results saved to C:/Users/USER/Desktop/TrafficTDApython/Version3/Component11Pass/results_o3i4.pkl\n",
      "overlap: 3, interval: 5\n"
     ]
    },
    {
     "name": "stderr",
     "output_type": "stream",
     "text": [
      "Processing Clusters: 100%|██████████| 58/58 [00:00<00:00, 77.67it/s]\n"
     ]
    },
    {
     "name": "stdout",
     "output_type": "stream",
     "text": [
      "Results saved to C:/Users/USER/Desktop/TrafficTDApython/Version3/Component11Pass/results_o3i5.pkl\n",
      "overlap: 3, interval: 6\n"
     ]
    },
    {
     "name": "stderr",
     "output_type": "stream",
     "text": [
      "Processing Clusters: 100%|██████████| 71/71 [00:00<00:00, 118.99it/s]\n"
     ]
    },
    {
     "name": "stdout",
     "output_type": "stream",
     "text": [
      "Results saved to C:/Users/USER/Desktop/TrafficTDApython/Version3/Component11Pass/results_o3i6.pkl\n",
      "overlap: 3, interval: 7\n"
     ]
    },
    {
     "name": "stderr",
     "output_type": "stream",
     "text": [
      "Processing Clusters: 100%|██████████| 81/81 [00:00<00:00, 227.26it/s]\n"
     ]
    },
    {
     "name": "stdout",
     "output_type": "stream",
     "text": [
      "Results saved to C:/Users/USER/Desktop/TrafficTDApython/Version3/Component11Pass/results_o3i7.pkl\n",
      "overlap: 3, interval: 8\n"
     ]
    },
    {
     "name": "stderr",
     "output_type": "stream",
     "text": [
      "Processing Clusters: 100%|██████████| 100/100 [00:00<00:00, 185.51it/s]\n"
     ]
    },
    {
     "name": "stdout",
     "output_type": "stream",
     "text": [
      "Results saved to C:/Users/USER/Desktop/TrafficTDApython/Version3/Component11Pass/results_o3i8.pkl\n",
      "overlap: 3, interval: 9\n"
     ]
    },
    {
     "name": "stderr",
     "output_type": "stream",
     "text": [
      "Processing Clusters: 100%|██████████| 125/125 [00:00<00:00, 337.07it/s]\n"
     ]
    },
    {
     "name": "stdout",
     "output_type": "stream",
     "text": [
      "Results saved to C:/Users/USER/Desktop/TrafficTDApython/Version3/Component11Pass/results_o3i9.pkl\n",
      "overlap: 3, interval: 10\n"
     ]
    },
    {
     "name": "stderr",
     "output_type": "stream",
     "text": [
      "Processing Clusters: 100%|██████████| 168/168 [00:00<00:00, 308.85it/s]\n"
     ]
    },
    {
     "name": "stdout",
     "output_type": "stream",
     "text": [
      "Results saved to C:/Users/USER/Desktop/TrafficTDApython/Version3/Component11Pass/results_o3i10.pkl\n",
      "overlap: 4, interval: 2\n"
     ]
    },
    {
     "name": "stderr",
     "output_type": "stream",
     "text": [
      "Processing Clusters: 100%|██████████| 11/11 [00:00<00:00, 14.09it/s]\n"
     ]
    },
    {
     "name": "stdout",
     "output_type": "stream",
     "text": [
      "Results saved to C:/Users/USER/Desktop/TrafficTDApython/Version3/Component11Pass/results_o4i2.pkl\n",
      "overlap: 4, interval: 3\n"
     ]
    },
    {
     "name": "stderr",
     "output_type": "stream",
     "text": [
      "Processing Clusters: 100%|██████████| 21/21 [00:00<00:00, 24.93it/s]\n"
     ]
    },
    {
     "name": "stdout",
     "output_type": "stream",
     "text": [
      "Results saved to C:/Users/USER/Desktop/TrafficTDApython/Version3/Component11Pass/results_o4i3.pkl\n",
      "overlap: 4, interval: 4\n"
     ]
    },
    {
     "name": "stderr",
     "output_type": "stream",
     "text": [
      "Processing Clusters: 100%|██████████| 26/26 [00:00<00:00, 50.31it/s]\n"
     ]
    },
    {
     "name": "stdout",
     "output_type": "stream",
     "text": [
      "Results saved to C:/Users/USER/Desktop/TrafficTDApython/Version3/Component11Pass/results_o4i4.pkl\n",
      "overlap: 4, interval: 5\n"
     ]
    },
    {
     "name": "stderr",
     "output_type": "stream",
     "text": [
      "Processing Clusters: 100%|██████████| 38/38 [00:01<00:00, 33.40it/s]\n"
     ]
    },
    {
     "name": "stdout",
     "output_type": "stream",
     "text": [
      "Results saved to C:/Users/USER/Desktop/TrafficTDApython/Version3/Component11Pass/results_o4i5.pkl\n",
      "overlap: 4, interval: 6\n"
     ]
    },
    {
     "name": "stderr",
     "output_type": "stream",
     "text": [
      "Processing Clusters: 100%|██████████| 53/53 [00:00<00:00, 56.71it/s]\n"
     ]
    },
    {
     "name": "stdout",
     "output_type": "stream",
     "text": [
      "Results saved to C:/Users/USER/Desktop/TrafficTDApython/Version3/Component11Pass/results_o4i6.pkl\n",
      "overlap: 4, interval: 7\n"
     ]
    },
    {
     "name": "stderr",
     "output_type": "stream",
     "text": [
      "Processing Clusters: 100%|██████████| 57/57 [00:00<00:00, 182.04it/s]\n"
     ]
    },
    {
     "name": "stdout",
     "output_type": "stream",
     "text": [
      "Results saved to C:/Users/USER/Desktop/TrafficTDApython/Version3/Component11Pass/results_o4i7.pkl\n",
      "overlap: 4, interval: 8\n"
     ]
    },
    {
     "name": "stderr",
     "output_type": "stream",
     "text": [
      "Processing Clusters: 100%|██████████| 69/69 [00:00<00:00, 98.05it/s]\n"
     ]
    },
    {
     "name": "stdout",
     "output_type": "stream",
     "text": [
      "Results saved to C:/Users/USER/Desktop/TrafficTDApython/Version3/Component11Pass/results_o4i8.pkl\n",
      "overlap: 4, interval: 9\n"
     ]
    },
    {
     "name": "stderr",
     "output_type": "stream",
     "text": [
      "Processing Clusters: 100%|██████████| 99/99 [00:00<00:00, 179.12it/s]\n"
     ]
    },
    {
     "name": "stdout",
     "output_type": "stream",
     "text": [
      "Results saved to C:/Users/USER/Desktop/TrafficTDApython/Version3/Component11Pass/results_o4i9.pkl\n",
      "overlap: 4, interval: 10\n"
     ]
    },
    {
     "name": "stderr",
     "output_type": "stream",
     "text": [
      "Processing Clusters: 100%|██████████| 115/115 [00:00<00:00, 159.24it/s]\n"
     ]
    },
    {
     "name": "stdout",
     "output_type": "stream",
     "text": [
      "Results saved to C:/Users/USER/Desktop/TrafficTDApython/Version3/Component11Pass/results_o4i10.pkl\n",
      "overlap: 5, interval: 2\n"
     ]
    },
    {
     "name": "stderr",
     "output_type": "stream",
     "text": [
      "Processing Clusters: 100%|██████████| 9/9 [00:00<00:00, 15.96it/s]\n"
     ]
    },
    {
     "name": "stdout",
     "output_type": "stream",
     "text": [
      "Results saved to C:/Users/USER/Desktop/TrafficTDApython/Version3/Component11Pass/results_o5i2.pkl\n",
      "overlap: 5, interval: 3\n"
     ]
    },
    {
     "name": "stderr",
     "output_type": "stream",
     "text": [
      "Processing Clusters: 100%|██████████| 13/13 [00:00<00:00, 16.35it/s]\n"
     ]
    },
    {
     "name": "stdout",
     "output_type": "stream",
     "text": [
      "Results saved to C:/Users/USER/Desktop/TrafficTDApython/Version3/Component11Pass/results_o5i3.pkl\n",
      "overlap: 5, interval: 4\n"
     ]
    },
    {
     "name": "stderr",
     "output_type": "stream",
     "text": [
      "Processing Clusters: 100%|██████████| 19/19 [00:00<00:00, 45.19it/s]\n"
     ]
    },
    {
     "name": "stdout",
     "output_type": "stream",
     "text": [
      "Results saved to C:/Users/USER/Desktop/TrafficTDApython/Version3/Component11Pass/results_o5i4.pkl\n",
      "overlap: 5, interval: 5\n"
     ]
    },
    {
     "name": "stderr",
     "output_type": "stream",
     "text": [
      "Processing Clusters: 100%|██████████| 24/24 [00:01<00:00, 17.67it/s]\n"
     ]
    },
    {
     "name": "stdout",
     "output_type": "stream",
     "text": [
      "Results saved to C:/Users/USER/Desktop/TrafficTDApython/Version3/Component11Pass/results_o5i5.pkl\n",
      "overlap: 5, interval: 6\n"
     ]
    },
    {
     "name": "stderr",
     "output_type": "stream",
     "text": [
      "Processing Clusters: 100%|██████████| 37/37 [00:01<00:00, 25.39it/s]\n"
     ]
    },
    {
     "name": "stdout",
     "output_type": "stream",
     "text": [
      "Results saved to C:/Users/USER/Desktop/TrafficTDApython/Version3/Component11Pass/results_o5i6.pkl\n",
      "overlap: 5, interval: 7\n"
     ]
    },
    {
     "name": "stderr",
     "output_type": "stream",
     "text": [
      "Processing Clusters: 100%|██████████| 43/43 [00:00<00:00, 84.12it/s]\n"
     ]
    },
    {
     "name": "stdout",
     "output_type": "stream",
     "text": [
      "Results saved to C:/Users/USER/Desktop/TrafficTDApython/Version3/Component11Pass/results_o5i7.pkl\n",
      "overlap: 5, interval: 8\n"
     ]
    },
    {
     "name": "stderr",
     "output_type": "stream",
     "text": [
      "Processing Clusters: 100%|██████████| 49/49 [00:00<00:00, 69.82it/s]\n"
     ]
    },
    {
     "name": "stdout",
     "output_type": "stream",
     "text": [
      "Results saved to C:/Users/USER/Desktop/TrafficTDApython/Version3/Component11Pass/results_o5i8.pkl\n",
      "overlap: 5, interval: 9\n"
     ]
    },
    {
     "name": "stderr",
     "output_type": "stream",
     "text": [
      "Processing Clusters: 100%|██████████| 72/72 [00:01<00:00, 68.16it/s] \n"
     ]
    },
    {
     "name": "stdout",
     "output_type": "stream",
     "text": [
      "Results saved to C:/Users/USER/Desktop/TrafficTDApython/Version3/Component11Pass/results_o5i9.pkl\n",
      "overlap: 5, interval: 10\n"
     ]
    },
    {
     "name": "stderr",
     "output_type": "stream",
     "text": [
      "Processing Clusters: 100%|██████████| 79/79 [00:00<00:00, 103.99it/s]"
     ]
    },
    {
     "name": "stdout",
     "output_type": "stream",
     "text": [
      "Results saved to C:/Users/USER/Desktop/TrafficTDApython/Version3/Component11Pass/results_o5i10.pkl\n"
     ]
    },
    {
     "name": "stderr",
     "output_type": "stream",
     "text": [
      "\n"
     ]
    }
   ],
   "source": [
    "import pickle\n",
    "\n",
    "detailed_results = []\n",
    "\n",
    "for overlap in range(1, 6):\n",
    "    silhouette_for_intervals = []\n",
    "\n",
    "    for interval in range(2, 11):\n",
    "        try:\n",
    "            print(f'overlap: {overlap}, interval: {interval}')\n",
    "\n",
    "            mapper_algo = MapperAlgorithm(\n",
    "                cover=CubicalCover(\n",
    "                    n_intervals=interval,\n",
    "                    overlap_frac=overlap / 10\n",
    "                ),\n",
    "                clustering=FailSafeClustering(\n",
    "                    AgglomerativeClustering(\n",
    "                        n_clusters=2,\n",
    "                        linkage='ward'\n",
    "                    )\n",
    "                ),\n",
    "                n_jobs=1\n",
    "            )\n",
    "\n",
    "            mapper_info = mapper_algo.fit_transform(mapper_numpy, lens)\n",
    "            silhouette_for_intervals.append(mapper_info[1])\n",
    "\n",
    "            result = {\n",
    "                \"overlap\": overlap,\n",
    "                \"interval\": interval,\n",
    "                \"silhouette\": mapper_info[1],\n",
    "                \"mapper_info\": mapper_info\n",
    "            }\n",
    "\n",
    "            detailed_results.append(result)\n",
    "\n",
    "            filename = f\"C:/Users/USER/Desktop/TrafficTDApython/Version3/Component11Pass/results_o{overlap}i{interval}.pkl\"\n",
    "            # filename = f\"/Users/wangqiqian/Desktop/TrafficTDApython/Version3/Component11Pass/results_o{overlap}i{interval}.pkl\"\n",
    "\n",
    "            with open(filename, 'wb') as file:\n",
    "                pickle.dump(result, file)\n",
    "\n",
    "            print(f\"Results saved to {filename}\")\n",
    "\n",
    "        except Exception as e:\n",
    "            print(f\"Error for overlap={overlap}, interval={interval}: {e}\")\n",
    "\n",
    "            continue"
   ]
  },
  {
   "cell_type": "code",
   "execution_count": 87,
   "metadata": {},
   "outputs": [],
   "source": [
    "detailed_results_df = pd.DataFrame(detailed_results)\n",
    "# detailed_results_df.to_csv(\"/Users/wangqiqian/Desktop/TrafficTDApython/Version3/GridSearch/full_grid_halfdata.csv\", index=False)\n",
    "\n",
    "# output_file = '/Users/wangqiqian/Desktop/TrafficTDApython/Version3/Component11Pass/full_grid.pkl'\n",
    "output_file = 'C:/Users/USER/Desktop/TrafficTDApython/Version3/Component11Pass/full_grid.pkl'\n",
    "with open(output_file, 'wb') as f:\n",
    "    pickle.dump(detailed_results_df, f)"
   ]
  },
  {
   "cell_type": "code",
   "execution_count": 88,
   "metadata": {},
   "outputs": [],
   "source": [
    "import seaborn as sns\n",
    "from matplotlib.font_manager import FontProperties\n",
    "# myfont = FontProperties(fname=r\"/System/Library/Fonts/PingFang.ttc\")\n",
    "# sns.set(style=\"whitegrid\", font=myfont.get_name())\n",
    "plt.rcParams['font.sans-serif'] = ['Microsoft YaHei']\n",
    "plt.rcParams['axes.unicode_minus'] = False\n",
    "\n",
    "from matplotlib.cm import get_cmap\n",
    "from plots import *"
   ]
  },
  {
   "cell_type": "code",
   "execution_count": 89,
   "metadata": {},
   "outputs": [],
   "source": [
    "plot_lst = ['天候名稱', '光線名稱', '道路類別-第1當事者-名稱', '速限-第1當事者', '路面狀況-路面鋪裝名稱',\n",
    "       '路面狀況-路面狀態名稱', '路面狀況-路面缺陷名稱', '道路障礙-障礙物名稱', '道路障礙-視距品質名稱', '道路障礙-視距名稱',\n",
    "       '號誌-號誌種類名稱', '號誌-號誌動作名稱', '車道劃分設施-分道設施-快車道或一般車道間名稱',\n",
    "       '車道劃分設施-分道設施-快慢車道間名稱', '車道劃分設施-分道設施-路面邊線名稱', '當事者屬-性-別名稱',\n",
    "       '保護裝備名稱', '行動電話或電腦或其他相類功能裝置名稱', '肇事逃逸類別名稱-是否肇逃', '道路型態大類別名稱',\n",
    "       '事故位置大類別名稱', '車道劃分設施-分向設施大類別名稱', '事故類型及型態大類別名稱', '肇因研判大類別名稱-主要',\n",
    "       '當事者區分-類別-大類別名稱-車種', '車輛撞擊部位大類別名稱-最初', '車輛撞擊部位大類別名稱-其他', '肇因研判大類別名稱-個別',\n",
    "       '死亡', '受傷']"
   ]
  },
  {
   "cell_type": "code",
   "execution_count": null,
   "metadata": {},
   "outputs": [],
   "source": [
    "choose = '車道劃分設施-分向設施大類別名稱'\n",
    "# choose = '死亡'\n",
    "\n",
    "unique_categories = rbind_data[choose].unique()\n",
    "# unique_categories.sort()\n",
    "\n",
    "for i in range(detailed_results_df.shape[0]):\n",
    "    # 統一顏色\n",
    "    color_palette = get_cmap(\"tab20\", len(unique_categories))\n",
    "    color_mapping_fixed = {category: color_palette(i) for i, category in enumerate(unique_categories)}\n",
    "\n",
    "    mapper_plotter = MapperPlotter(detailed_results_df['mapper_info'].iloc[i][0], \n",
    "                                rbind_data, detailed_results_df)\n",
    "    mapper_plotter.create_mapper_plot(choose, most_common_encoded_label, avg=False)\n",
    "    mapper_plotter.extract_data()\n",
    "    mapper_plotter.map_colors(choose, color_mapping_fixed, size=30)\n",
    "    mapper_plotter.plot(choose, unique_categories, color_palette, avg=False, \n",
    "                        set_label=True, size=100,\n",
    "                        save_path=f\"C:/Users/USER/Desktop/TrafficTDApython/Version3/GridSearch/Mapper/Pass/o{detailed_results_df['overlap'].iloc[i]}_i{detailed_results_df['interval'].iloc[i]}.png\")"
   ]
  },
  {
   "cell_type": "code",
   "execution_count": 11,
   "metadata": {},
   "outputs": [
    {
     "name": "stderr",
     "output_type": "stream",
     "text": [
      "/Users/wangqiqian/opt/anaconda3/envs/Cllava/lib/python3.10/site-packages/dask/dataframe/__init__.py:49: FutureWarning: \n",
      "Dask dataframe query planning is disabled because dask-expr is not installed.\n",
      "\n",
      "You can install it with `pip install dask[dataframe]` or `conda install dask`.\n",
      "This will raise in a future version.\n",
      "\n",
      "  warnings.warn(msg, FutureWarning)\n",
      "/Users/wangqiqian/opt/anaconda3/envs/Cllava/lib/python3.10/site-packages/numba/np/ufunc/dufunc.py:343: NumbaWarning: Compilation requested for previously compiled argument types ((uint32,)). This has no effect and perhaps indicates a bug in the calling code (compiling a ufunc more than once for the same signature\n",
      "  warnings.warn(msg, errors.NumbaWarning)\n",
      "/Users/wangqiqian/opt/anaconda3/envs/Cllava/lib/python3.10/site-packages/numba/np/ufunc/dufunc.py:343: NumbaWarning: Compilation requested for previously compiled argument types ((uint32,)). This has no effect and perhaps indicates a bug in the calling code (compiling a ufunc more than once for the same signature\n",
      "  warnings.warn(msg, errors.NumbaWarning)\n",
      "/Users/wangqiqian/opt/anaconda3/envs/Cllava/lib/python3.10/site-packages/numba/np/ufunc/dufunc.py:343: NumbaWarning: Compilation requested for previously compiled argument types ((uint32,)). This has no effect and perhaps indicates a bug in the calling code (compiling a ufunc more than once for the same signature\n",
      "  warnings.warn(msg, errors.NumbaWarning)\n"
     ]
    }
   ],
   "source": [
    "import umap\n",
    "from umap import plot\n",
    "import time\n",
    "import seaborn as sns"
   ]
  },
  {
   "cell_type": "markdown",
   "metadata": {},
   "source": [
    "n_neighbors越大越注重全局結構，5 到 50 ，5~15適合高維度<br/>\n",
    "min_dist影響緊密程度，越大越稀疏，通常在0.0 到 0.5"
   ]
  },
  {
   "cell_type": "code",
   "execution_count": null,
   "metadata": {},
   "outputs": [],
   "source": [
    "# n_neighbors_range = range(5, 21, 5)  # 5 to 20 inclusive\n",
    "n_neighbors = [5, 15, 30, 50, 100]\n",
    "min_dist_range = [0, 0.01, 0.05, 0.1, 0.5, 1]  # 0.1 to 0.5 inclusive with 5 steps\n",
    "\n",
    "# for n_neighbors in n_neighbors_range:\n",
    "for min_dist in min_dist_range:\n",
    "    \n",
    "    for n in n_neighbors:\n",
    "        \n",
    "        start_time = time.time()\n",
    "\n",
    "        reducer = umap.UMAP(\n",
    "            n_jobs=-1, \n",
    "            n_neighbors=n, \n",
    "            min_dist=min_dist, \n",
    "            n_components=2, \n",
    "            metric=\"hamming\",\n",
    "            random_state=42)\n",
    "\n",
    "        lens1_umap = reducer.fit(mapper_numpy)\n",
    "\n",
    "        end_time = time.time()\n",
    "        elapsed_time = end_time - start_time\n",
    "        print(elapsed_time)\n",
    "\n",
    "        umap.plot.points(lens1_umap, labels=rbind_data['道路型態大類別名稱']) # save this plot\n",
    "        plt.savefig(f\"Version3/GridSearch/UMAP/Pass/UMAP_n{n}_d{min_dist:.2f}.png\")"
   ]
  }
 ],
 "metadata": {
  "kernelspec": {
   "display_name": "base",
   "language": "python",
   "name": "python3"
  },
  "language_info": {
   "codemirror_mode": {
    "name": "ipython",
    "version": 3
   },
   "file_extension": ".py",
   "mimetype": "text/x-python",
   "name": "python",
   "nbconvert_exporter": "python",
   "pygments_lexer": "ipython3",
   "version": "3.9.12"
  }
 },
 "nbformat": 4,
 "nbformat_minor": 2
}

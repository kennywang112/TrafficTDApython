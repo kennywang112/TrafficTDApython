{
 "cells": [
  {
   "cell_type": "code",
   "execution_count": 1,
   "metadata": {},
   "outputs": [
    {
     "name": "stdout",
     "output_type": "stream",
     "text": [
      "/Users/wangqiqian/Desktop/TrafficTDApython\n"
     ]
    }
   ],
   "source": [
    "import os\n",
    "import sys\n",
    "sys.path.append('/Users/wangqiqian/Desktop/TrafficTDApython/')\n",
    "# sys.path.append('C:/Users/USER/Desktop/TrafficTDApython/')\n",
    "\n",
    "current_dir_path = os.getcwd()\n",
    "current_file_path = os.path.abspath(current_dir_path)\n",
    "current_dir_path = os.path.dirname(current_file_path)\n",
    "parent_dir_path = os.path.dirname(current_dir_path)\n",
    "\n",
    "# os.chdir(current_dir_path + '\\\\ultils')\n",
    "os.chdir(current_dir_path + '/ultils')\n",
    "print(current_dir_path)\n",
    "\n",
    "import time\n",
    "import pickle\n",
    "import numpy as np\n",
    "import pandas as pd\n",
    "import matplotlib.pyplot as plt\n",
    "\n",
    "from sklearn.cluster import AgglomerativeClustering\n",
    "\n",
    "from functions import *\n",
    "from chi import *\n",
    "from regressionP import *\n",
    "from models import *\n",
    "from utils_v3 import *\n",
    "\n",
    "os.chdir('/Users/wangqiqian/Desktop/TrafficTDApython/')\n",
    "# os.chdir('C:/Users/USER/Desktop/TrafficTDApython/')"
   ]
  },
  {
   "cell_type": "code",
   "execution_count": 2,
   "metadata": {},
   "outputs": [],
   "source": [
    "data1 = pd.read_csv(\"Data/NPA_TMA2_1.csv\", low_memory=False)[:-2]\n",
    "data2 = pd.read_csv(\"Data/NPA_TMA2_2.csv\", low_memory=False)[:-2]\n",
    "data3 = pd.read_csv(\"Data/NPA_TMA2_3.csv\", low_memory=False)[:-2]\n",
    "data4 = pd.read_csv(\"Data/NPA_TMA2_4_new.csv\", low_memory=False)[:-2]\n",
    "data5 = pd.read_csv(\"Data/NPA_TMA2_5.csv\", low_memory=False)[:-2]\n",
    "data6 = pd.read_csv(\"Data/NPA_TMA2_6_new.csv\", low_memory=False)[:-2]\n",
    "data7 = pd.read_csv(\"Data/NPA_TMA2_7.csv\", low_memory=False)[:-2]\n",
    "data8 = pd.read_csv(\"Data/NPA_TMA2_8.csv\", low_memory=False)[:-2]\n",
    "data9 = pd.read_csv(\"Data/NPA_TMA2_9.csv\", low_memory=False)[:-2]\n",
    "data10 = pd.read_csv(\"Data/NPA_TMA2_10.csv\", low_memory=False)[:-2]\n",
    "\n",
    "dataA2 = pd.concat([data1, data2, data3, data4, data5, data6, data7, data8, data9, data10], ignore_index=True)\n",
    "# dataA2 = pd.concat([data1, data2, data3, data4, data5], ignore_index=True)\n",
    "\n",
    "dataA1 = pd.read_csv(\"Data/NPA_TMA1_V3.csv\")[:-2]"
   ]
  },
  {
   "cell_type": "code",
   "execution_count": 3,
   "metadata": {},
   "outputs": [],
   "source": [
    "select_lst = [\n",
    "    # 月份是為了篩選每個月2萬筆\n",
    "    '發生月份',\n",
    "\n",
    "    '天候名稱', '光線名稱', \n",
    "    '道路類別-第1當事者-名稱', '速限-第1當事者', \n",
    "    '路面狀況-路面鋪裝名稱', '路面狀況-路面狀態名稱', '路面狀況-路面缺陷名稱',\n",
    "    '道路障礙-障礙物名稱', '道路障礙-視距品質名稱', '道路障礙-視距名稱',\n",
    "    '號誌-號誌種類名稱', '號誌-號誌動作名稱',\n",
    "    '車道劃分設施-分道設施-快車道或一般車道間名稱', '車道劃分設施-分道設施-快慢車道間名稱', '車道劃分設施-分道設施-路面邊線名稱',\n",
    "    '當事者屬-性-別名稱', '當事者事故發生時年齡',\n",
    "    '保護裝備名稱', '行動電話或電腦或其他相類功能裝置名稱',\n",
    "    '肇事逃逸類別名稱-是否肇逃',\n",
    "    '死亡受傷人數',\n",
    "    \n",
    "    # 同時保留大小類別可能是冗長的\n",
    "    # 小類別\n",
    "    # '道路型態子類別名稱', '事故位置子類別名稱',\n",
    "    # '車道劃分設施-分向設施子類別名稱', \n",
    "    # '事故類型及型態子類別名稱', '肇因研判子類別名稱-主要', '當事者區分-類別-子類別名稱-車種', '當事者行動狀態子類別名稱',\n",
    "    # '車輛撞擊部位子類別名稱-最初', '車輛撞擊部位子類別名稱-其他', '肇因研判子類別名稱-個別', \n",
    "    \n",
    "    # 大類別\n",
    "    '道路型態大類別名稱', '事故位置大類別名稱',\n",
    "    '車道劃分設施-分向設施大類別名稱',\n",
    "    '事故類型及型態大類別名稱', '肇因研判大類別名稱-主要', '當事者區分-類別-大類別名稱-車種', '當事者行動狀態大類別名稱',\n",
    "    '車輛撞擊部位大類別名稱-最初', '車輛撞擊部位大類別名稱-其他', '肇因研判大類別名稱-個別',\n",
    "]\n",
    "\n",
    "def preprocess(input_data, select_lst):\n",
    "    # 篩選到第一個順位，因為注重的是單次事故的情況\n",
    "    sample_data = input_data[input_data['當事者順位'] == 1].reset_index(drop=True, inplace=False)\n",
    "    sample_data = sample_data[sample_data['發生月份'] < 11]\n",
    "    dataA = sample_data[select_lst]\n",
    "    \n",
    "    # 將資料分出死亡和受傷，合併到原本的資料後去除多餘的死亡受傷人數\n",
    "    death_injury_data = split_death_injury(dataA['死亡受傷人數'])\n",
    "    dist_df = pd.concat([dataA, death_injury_data], axis=1)\n",
    "    # 補齊缺失值\n",
    "    dist_df[select_lst] = dist_df[select_lst].fillna('未紀錄')\n",
    "\n",
    "    dist_df.drop(columns=['死亡受傷人數'], inplace=True)\n",
    "    \n",
    "    return dist_df\n",
    "\n",
    "dist_dfA1 = preprocess(dataA1, select_lst)\n",
    "dist_dfA2 = preprocess(dataA2, select_lst)"
   ]
  },
  {
   "cell_type": "code",
   "execution_count": 4,
   "metadata": {},
   "outputs": [
    {
     "name": "stdout",
     "output_type": "stream",
     "text": [
      "(1383, 33)\n",
      "(317023, 33)\n"
     ]
    }
   ],
   "source": [
    "print(dist_dfA1.shape)\n",
    "print(dist_dfA2.shape)"
   ]
  },
  {
   "cell_type": "code",
   "execution_count": 5,
   "metadata": {},
   "outputs": [
    {
     "name": "stdout",
     "output_type": "stream",
     "text": [
      "74\n",
      "16962\n",
      "79\n",
      "18109\n",
      "67\n",
      "15358\n",
      "56\n",
      "12836\n",
      "60\n",
      "13753\n",
      "64\n",
      "14670\n",
      "75\n",
      "17192\n",
      "71\n",
      "16275\n",
      "65\n",
      "14899\n",
      "78\n",
      "17879\n",
      "下採樣前 A1 資料量：1383 / 下採樣後 A1 資料量：689\n",
      "下採樣前 A1 資料量：317023 / 下採樣後 A2 資料量： 157933\n",
      "舊 A1/A2 比例： 0.004362459506092618\n",
      "新 A1/A2 比例： 0.004362609460973958\n"
     ]
    }
   ],
   "source": [
    "from sklearn.utils import resample\n",
    "\n",
    "sampling_ratio = 0.5\n",
    "\n",
    "# 計算 A1 和 A2 原始數據量比例\n",
    "A1_total = len(dist_dfA1)\n",
    "A2_total = len(dist_dfA2)\n",
    "total_ratio = A1_total / A2_total  # 保留 A1/A2 的比例\n",
    "\n",
    "# 定義函數，按月份進行下採樣\n",
    "def downsample_by_month_simple(A1, A2, sampling_ratio, total_ratio):\n",
    "    A1_downsampled = pd.DataFrame()\n",
    "    A2_downsampled = pd.DataFrame()\n",
    "\n",
    "    months = sorted(set(A1['發生月份']).intersection(A2['發生月份']))  # 確保月份匹配\n",
    "\n",
    "    for month in months:\n",
    "        # 提取該月份的資料\n",
    "        A1_month = A1[A1['發生月份'] == month]\n",
    "        A2_month = A2[A2['發生月份'] == month]\n",
    "\n",
    "        # 計算該月份目標數量\n",
    "        A1_target = int(len(A1_month) * sampling_ratio)\n",
    "        A2_target = int(A1_target / total_ratio)\n",
    "        print(A1_target)\n",
    "        print(A2_target)\n",
    "\n",
    "        # 下採樣\n",
    "        A1_sampled = resample(A1_month, replace=False, n_samples=A1_target, random_state=42)\n",
    "        A2_sampled = resample(A2_month, replace=False, n_samples=A2_target, random_state=42)\n",
    "\n",
    "        # 合併到最終結果\n",
    "        A1_downsampled = pd.concat([A1_downsampled, A1_sampled])\n",
    "        A2_downsampled = pd.concat([A2_downsampled, A2_sampled])\n",
    "\n",
    "    return A1_downsampled.reset_index(drop=True), A2_downsampled.reset_index(drop=True)\n",
    "\n",
    "# 下採樣\n",
    "downsampled_A1, downsampled_A2 = downsample_by_month_simple(dist_dfA1, dist_dfA2, sampling_ratio, total_ratio)\n",
    "\n",
    "# 檢查結果\n",
    "print(f\"下採樣前 A1 資料量：{len(dist_dfA1)} / 下採樣後 A1 資料量：{len(downsampled_A1)}\")\n",
    "print(f\"下採樣前 A1 資料量：{len(dist_dfA2)} / 下採樣後 A2 資料量： {len(downsampled_A2)}\")\n",
    "print(\"舊 A1/A2 比例：\", len(dist_dfA1) / len(dist_dfA2))\n",
    "print(\"新 A1/A2 比例：\", len(downsampled_A1) / len(downsampled_A2))\n",
    "\n",
    "# Concat\n",
    "rbind_data = pd.concat([downsampled_A1, downsampled_A2], axis=0, ignore_index=True)\n",
    "rbind_data.drop(columns=['發生月份'], inplace=True)"
   ]
  },
  {
   "cell_type": "code",
   "execution_count": 6,
   "metadata": {},
   "outputs": [
    {
     "name": "stdout",
     "output_type": "stream",
     "text": [
      "dummy_data: (158622, 174)\n"
     ]
    }
   ],
   "source": [
    "bins_age = [0, 14, 24, 34, 44, 54, 64, 74, float('inf')]\n",
    "labels_age = ['未滿15歲', '15~24', '25~34', '35~44', '45~54', '55~64', '65~74', '75+']\n",
    "\n",
    "rbind_data['當事者事故發生時年齡'] = pd.cut(rbind_data['當事者事故發生時年齡'], bins=bins_age, labels=labels_age, right=False)\n",
    "\n",
    "rbind_data['當事者事故發生時年齡'] = rbind_data['當事者事故發生時年齡'].cat.add_categories('未知')\n",
    "rbind_data['當事者事故發生時年齡'] = rbind_data['當事者事故發生時年齡'].fillna('未知')\n",
    "\n",
    "bins_speed = [0, 10, 20, 30, 40, 50, 60, 70, 80, 90, 100, 110, float('inf')]\n",
    "labels_speed = ['0-10', '11-20', '21-30', '31-40', '41-50', '51-60', '61-70', '71-80', '81-90', '91-100', '101-110', '110+']\n",
    "\n",
    "rbind_data['速限-第1當事者'] = pd.cut(rbind_data['速限-第1當事者'], bins=bins_speed, labels=labels_speed, right=False)\n",
    "\n",
    "# assert rbind_data.shape[0] == dist_dfA1.shape[0] + dist_dfA2.shape[0]\n",
    "# Dummy\n",
    "rbind_data[\"速限-第1當事者\"] = rbind_data[\"速限-第1當事者\"].astype(str)\n",
    "dummy_data = pd.get_dummies(rbind_data)\n",
    "\n",
    "print('dummy_data:', dummy_data.shape)\n",
    "\n",
    "data_to_map = dummy_data.drop(['死亡', '受傷'], axis=1)\n",
    "mapper_numpy = data_to_map.to_numpy()"
   ]
  },
  {
   "attachments": {},
   "cell_type": "markdown",
   "metadata": {},
   "source": [
    "### Multiple correspondence analysis (MCA)\n",
    "多重對應分析是專門針對dummy來進行降維的，所以使用它作為主要方法沒有問題"
   ]
  },
  {
   "cell_type": "code",
   "execution_count": 7,
   "metadata": {},
   "outputs": [
    {
     "name": "stdout",
     "output_type": "stream",
     "text": [
      "          eigenvalue % of variance % of variance (cumulative)\n",
      "component                                                    \n",
      "0              0.266         5.61%                      5.61%\n",
      "1              0.196         4.13%                      9.74%\n",
      "2              0.117         2.48%                     12.22%\n",
      "3              0.110         2.32%                     14.54%\n",
      "4              0.098         2.07%                     16.61%\n",
      "5              0.083         1.75%                     18.36%\n"
     ]
    }
   ],
   "source": [
    "import prince\n",
    "\n",
    "mca = prince.MCA(\n",
    "    one_hot=False,\n",
    "    n_components=6,\n",
    "    n_iter=30,\n",
    "    copy=True,\n",
    "    check_input=True,\n",
    "    random_state=42\n",
    ")\n",
    "\n",
    "mca.fit(data_to_map)\n",
    "lens = mca.transform(data_to_map)\n",
    "\n",
    "print(mca.eigenvalues_summary)"
   ]
  },
  {
   "cell_type": "code",
   "execution_count": 9,
   "metadata": {},
   "outputs": [
    {
     "data": {
      "image/png": "[encoded data removed]",
      "text/plain": [
       "<Figure size 1000x600 with 1 Axes>"
      ]
     },
     "metadata": {},
     "output_type": "display_data"
    }
   ],
   "source": [
    "eigenvalues = mca.eigenvalues_\n",
    "\n",
    "components = range(0, len(eigenvalues))\n",
    "\n",
    "variance = mca.eigenvalues_summary['% of variance']\n",
    "\n",
    "plt.figure(figsize=(10, 6))\n",
    "plt.plot(components, eigenvalues, marker='o', linestyle='--')\n",
    "plt.title(\"Scree Plot\")\n",
    "plt.xlabel(\"Component\")\n",
    "plt.ylabel(\"Eigenvalue\")\n",
    "plt.xticks(components)\n",
    "plt.grid(True)\n",
    "plt.show()"
   ]
  },
  {
   "cell_type": "code",
   "execution_count": 8,
   "metadata": {},
   "outputs": [
    {
     "data": {
      "text/plain": [
       "0.18380281690140848"
      ]
     },
     "execution_count": 8,
     "metadata": {},
     "output_type": "execute_result"
    }
   ],
   "source": [
    "eigenvalues = mca.eigenvalues_summary\n",
    "eigenvalues['eigenvalue'] = eigenvalues['eigenvalue'].astype(float)\n",
    "eigenvalues['eigenvalue'].sum()/mca.total_inertia_"
   ]
  },
  {
   "attachments": {},
   "cell_type": "markdown",
   "metadata": {},
   "source": [
    "1. lens：以component為8對所有資料做MCA"
   ]
  },
  {
   "cell_type": "code",
   "execution_count": 9,
   "metadata": {},
   "outputs": [],
   "source": [
    "# lens.to_csv('./Version3/Calculated/lens.csv', index=False)\n",
    "\n",
    "# lens = pd.read_csv(\"./Version3/Calculated/lens.csv\")\n",
    "# lens"
   ]
  },
  {
   "attachments": {},
   "cell_type": "markdown",
   "metadata": {},
   "source": [
    "# Find the best mapper"
   ]
  },
  {
   "cell_type": "code",
   "execution_count": 9,
   "metadata": {},
   "outputs": [],
   "source": [
    "from Version3.tdamapper.core import MapperAlgorithm\n",
    "from Version3.tdamapper.cover import CubicalCover\n",
    "from Version3.tdamapper.clustering import FailSafeClustering\n",
    "from Version3.tdamapper.plot import MapperLayoutInteractive"
   ]
  },
  {
   "cell_type": "code",
   "execution_count": 10,
   "metadata": {},
   "outputs": [
    {
     "data": {
      "text/plain": [
       "12"
      ]
     },
     "execution_count": 10,
     "metadata": {},
     "output_type": "execute_result"
    }
   ],
   "source": [
    "os.cpu_count()"
   ]
  },
  {
   "cell_type": "code",
   "execution_count": 12,
   "metadata": {},
   "outputs": [
    {
     "name": "stdout",
     "output_type": "stream",
     "text": [
      "overlap: 5, interval: 6\n"
     ]
    },
    {
     "name": "stderr",
     "output_type": "stream",
     "text": [
      "Processing Clusters: 100%|██████████| 97/97 [3:59:38<00:00, 148.23s/it]\n"
     ]
    },
    {
     "name": "stdout",
     "output_type": "stream",
     "text": [
      "Results saved to /Users/wangqiqian/Desktop/TrafficTDApython/Version3/Component6Undersample/results_o5i6.pkl\n"
     ]
    }
   ],
   "source": [
    "import pickle\n",
    "\n",
    "detailed_results = []\n",
    "\n",
    "for overlap in range(5, 6):\n",
    "    silhouette_for_intervals = []\n",
    "\n",
    "    for interval in range(6, 7):\n",
    "        try:\n",
    "            print(f'overlap: {overlap}, interval: {interval}')\n",
    "\n",
    "            mapper_algo = MapperAlgorithm(\n",
    "                cover=CubicalCover(\n",
    "                    n_intervals=interval,\n",
    "                    overlap_frac=overlap / 10\n",
    "                ),\n",
    "                clustering=FailSafeClustering(\n",
    "                    AgglomerativeClustering(\n",
    "                        n_clusters=2,\n",
    "                        linkage='ward'\n",
    "                    )\n",
    "                ),\n",
    "                n_jobs=1\n",
    "            )\n",
    "\n",
    "            mapper_info = mapper_algo.fit_transform(mapper_numpy, lens)\n",
    "            silhouette_for_intervals.append(mapper_info[1])\n",
    "\n",
    "            result = {\n",
    "                \"overlap\": overlap,\n",
    "                \"interval\": interval,\n",
    "                \"silhouette\": mapper_info[1],\n",
    "                \"mapper_info\": mapper_info\n",
    "            }\n",
    "\n",
    "            detailed_results.append(result)\n",
    "\n",
    "            # filename = f\"C:/Users/USER/Desktop/TrafficTDApython/Version3/Component6Undersample/results_o{overlap}i{interval}.pkl\"\n",
    "            filename = f\"/Users/wangqiqian/Desktop/TrafficTDApython/Version3/Component6Undersample/results_o{overlap}i{interval}.pkl\"\n",
    "\n",
    "            with open(filename, 'wb') as file:\n",
    "                pickle.dump(result, file)\n",
    "\n",
    "            print(f\"Results saved to {filename}\")\n",
    "\n",
    "        except Exception as e:\n",
    "            print(f\"Error for overlap={overlap}, interval={interval}: {e}\")\n",
    "\n",
    "            continue"
   ]
  },
  {
   "attachments": {},
   "cell_type": "markdown",
   "metadata": {},
   "source": [
    "### 未增加天氣\n",
    "1. full_grid：使用Interval優化的前兩個月grid search\n",
    "2. full_grid_sample：抽樣30%資料且沒有使用Interval優化\n",
    "3. full_grid_sample_r2：和第二點一樣但是第二回合\n",
    "4. full_grid_fulldata_o5i6：整筆資料的拓樸使用覆蓋為5區間數為6\n",
    "5. full_grid_fulldata_o345i10：區間數固定為10的情況下覆蓋為345的資料\n",
    "\n",
    "### 增加所有特徵、大類別\n",
    "1. full_grid_halfdata: 以相同A1/A2比例進行抽樣的資料，為了讓階層聚類可對所有參數進行"
   ]
  },
  {
   "cell_type": "code",
   "execution_count": 19,
   "metadata": {},
   "outputs": [],
   "source": [
    "detailed_results_df = pd.DataFrame(detailed_results)\n",
    "# detailed_results_df.to_csv(\"/Users/wangqiqian/Desktop/TrafficTDApython/Version3/GridSearch/full_grid_halfdata.csv\", index=False)\n",
    "\n",
    "# output_file = '/Users/wangqiqian/Desktop/TrafficTDApython/Version3/GridSearch/full_grid_halfdata.pkl'\n",
    "output_file = 'C:/Users/USER/Desktop/TrafficTDApython/Version3/GridSearch/full_grid_halfdata.pkl'\n",
    "with open(output_file, 'wb') as f:\n",
    "    pickle.dump(detailed_results_df, f)\n",
    "\n",
    "# print(f\"Results saved to {output_file}\")"
   ]
  }
 ],
 "metadata": {
  "kernelspec": {
   "display_name": "base",
   "language": "python",
   "name": "python3"
  },
  "language_info": {
   "codemirror_mode": {
    "name": "ipython",
    "version": 3
   },
   "file_extension": ".py",
   "mimetype": "text/x-python",
   "name": "python",
   "nbconvert_exporter": "python",
   "pygments_lexer": "ipython3",
   "version": "3.9.12"
  },
  "orig_nbformat": 4
 },
 "nbformat": 4,
 "nbformat_minor": 2
}

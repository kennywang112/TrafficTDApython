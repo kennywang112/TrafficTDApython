{
 "cells": [
  {
   "cell_type": "code",
   "execution_count": 1,
   "metadata": {},
   "outputs": [
    {
     "name": "stdout",
     "output_type": "stream",
     "text": [
      "/Users/wangqiqian/Desktop/TrafficTDApython\n"
     ]
    }
   ],
   "source": [
    "import os\n",
    "import sys\n",
    "sys.path.append('/Users/wangqiqian/Desktop/TrafficTDApython/')\n",
    "\n",
    "current_dir_path = os.getcwd()\n",
    "current_file_path = os.path.abspath(current_dir_path)\n",
    "current_dir_path = os.path.dirname(current_file_path)\n",
    "parent_dir_path = os.path.dirname(current_dir_path)\n",
    "\n",
    "# os.chdir(current_dir_path + '\\\\ultils')\n",
    "os.chdir(current_dir_path + '/ultils')\n",
    "print(current_dir_path)\n",
    "\n",
    "import time\n",
    "import pickle\n",
    "import numpy as np\n",
    "import pandas as pd\n",
    "import matplotlib.pyplot as plt\n",
    "\n",
    "from sklearn.cluster import AgglomerativeClustering\n",
    "\n",
    "from functions import *\n",
    "from chi import *\n",
    "from regressionP import *\n",
    "from models import *\n",
    "from utils_v3 import *\n",
    "\n",
    "os.chdir('/Users/wangqiqian/Desktop/TrafficTDApython/')\n",
    "# os.chdir('C:/Users/USER/Desktop/TrafficTDApython/')"
   ]
  },
  {
   "cell_type": "code",
   "execution_count": 24,
   "metadata": {},
   "outputs": [],
   "source": [
    "data1 = pd.read_csv(\"Data/NPA_TMA2_1.csv\", low_memory=False)[:-2]\n",
    "data2 = pd.read_csv(\"Data/NPA_TMA2_2.csv\", low_memory=False)[:-2]\n",
    "data3 = pd.read_csv(\"Data/NPA_TMA2_3.csv\", low_memory=False)[:-2]\n",
    "data4 = pd.read_csv(\"Data/NPA_TMA2_4_new.csv\", low_memory=False)[:-2]\n",
    "data5 = pd.read_csv(\"Data/NPA_TMA2_5.csv\", low_memory=False)[:-2]\n",
    "data6 = pd.read_csv(\"Data/NPA_TMA2_6_new.csv\", low_memory=False)[:-2]\n",
    "data7 = pd.read_csv(\"Data/NPA_TMA2_7.csv\", low_memory=False)[:-2]\n",
    "data8 = pd.read_csv(\"Data/NPA_TMA2_8.csv\", low_memory=False)[:-2]\n",
    "data9 = pd.read_csv(\"Data/NPA_TMA2_9.csv\", low_memory=False)[:-2]\n",
    "data10 = pd.read_csv(\"Data/NPA_TMA2_10.csv\", low_memory=False)[:-2]\n",
    "\n",
    "dataA2 = pd.concat([data1, data2, data3, data4, data5, data6, data7, data8, data9, data10], ignore_index=True)\n",
    "# dataA2 = pd.concat([data1, data2, data3, data4, data5], ignore_index=True)\n",
    "\n",
    "dataA1 = pd.read_csv(\"Data/NPA_TMA1_V3.csv\")[:-2]"
   ]
  },
  {
   "cell_type": "code",
   "execution_count": 5,
   "metadata": {},
   "outputs": [
    {
     "data": {
      "text/plain": [
       "Index(['發生年度', '發生月份', '發生日期', '發生時間', '事故類別名稱', '處理單位名稱警局層', '發生地點', '天候名稱',\n",
       "       '光線名稱', '道路類別-第1當事者-名稱', '速限-第1當事者', '道路型態大類別名稱', '道路型態子類別名稱',\n",
       "       '事故位置大類別名稱', '事故位置子類別名稱', '路面狀況-路面鋪裝名稱', '路面狀況-路面狀態名稱', '路面狀況-路面缺陷名稱',\n",
       "       '道路障礙-障礙物名稱', '道路障礙-視距品質名稱', '道路障礙-視距名稱', '號誌-號誌種類名稱', '號誌-號誌動作名稱',\n",
       "       '車道劃分設施-分向設施大類別名稱', '車道劃分設施-分向設施子類別名稱', '車道劃分設施-分道設施-快車道或一般車道間名稱',\n",
       "       '車道劃分設施-分道設施-快慢車道間名稱', '車道劃分設施-分道設施-路面邊線名稱', '事故類型及型態大類別名稱',\n",
       "       '事故類型及型態子類別名稱', '肇因研判大類別名稱-主要', '肇因研判子類別名稱-主要', '死亡受傷人數', '當事者順位',\n",
       "       '當事者區分-類別-大類別名稱-車種', '當事者區分-類別-子類別名稱-車種', '當事者屬-性-別名稱', '當事者事故發生時年齡',\n",
       "       '保護裝備名稱', '行動電話或電腦或其他相類功能裝置名稱', '當事者行動狀態大類別名稱', '當事者行動狀態子類別名稱',\n",
       "       '車輛撞擊部位大類別名稱-最初', '車輛撞擊部位子類別名稱-最初', '車輛撞擊部位大類別名稱-其他', '車輛撞擊部位子類別名稱-其他',\n",
       "       '肇因研判大類別名稱-個別', '肇因研判子類別名稱-個別', '肇事逃逸類別名稱-是否肇逃', '經度', '緯度'],\n",
       "      dtype='object')"
      ]
     },
     "execution_count": 5,
     "metadata": {},
     "output_type": "execute_result"
    }
   ],
   "source": [
    "dataA2.columns"
   ]
  },
  {
   "cell_type": "code",
   "execution_count": 25,
   "metadata": {},
   "outputs": [
    {
     "name": "stderr",
     "output_type": "stream",
     "text": [
      "/var/folders/w2/_g9w5yys0f171q4qqm469z1h0000gn/T/ipykernel_92815/2080523131.py:50: DeprecationWarning: DataFrameGroupBy.apply operated on the grouping columns. This behavior is deprecated, and in a future version of pandas the grouping columns will be excluded from the operation. Either pass `include_groups=False` to exclude the groupings or explicitly select the grouping columns after groupby to silence this warning.\n",
      "  dist_dfA2 = dist_dfA2.groupby('發生月份').apply(lambda x: x.sample(n=min(len(x), 20000), random_state=42)).reset_index(drop=True)\n"
     ]
    }
   ],
   "source": [
    "select_lst = [\n",
    "    # 月份是為了篩選每個月2萬筆\n",
    "    '發生月份',\n",
    "\n",
    "    '天候名稱', '光線名稱', \n",
    "    '道路類別-第1當事者-名稱', '速限-第1當事者', \n",
    "    '路面狀況-路面鋪裝名稱', '路面狀況-路面狀態名稱', '路面狀況-路面缺陷名稱',\n",
    "    '道路障礙-障礙物名稱', '道路障礙-視距品質名稱', '道路障礙-視距名稱',\n",
    "    '號誌-號誌種類名稱', '號誌-號誌動作名稱',\n",
    "    '車道劃分設施-分道設施-快車道或一般車道間名稱', '車道劃分設施-分道設施-快慢車道間名稱', '車道劃分設施-分道設施-路面邊線名稱',\n",
    "    '當事者屬-性-別名稱', '當事者事故發生時年齡',\n",
    "    '保護裝備名稱', '行動電話或電腦或其他相類功能裝置名稱',\n",
    "    '肇事逃逸類別名稱-是否肇逃',\n",
    "    '死亡受傷人數',\n",
    "    \n",
    "    # 同時保留大小類別可能是冗長的\n",
    "    # 小類別\n",
    "    # '道路型態子類別名稱', '事故位置子類別名稱',\n",
    "    # '車道劃分設施-分向設施子類別名稱', \n",
    "    # '事故類型及型態子類別名稱', '肇因研判子類別名稱-主要', '當事者區分-類別-子類別名稱-車種', '當事者行動狀態子類別名稱',\n",
    "    # '車輛撞擊部位子類別名稱-最初', '車輛撞擊部位子類別名稱-其他', '肇因研判子類別名稱-個別', \n",
    "    \n",
    "    # 大類別\n",
    "    '道路型態大類別名稱', '事故位置大類別名稱',\n",
    "    '車道劃分設施-分向設施大類別名稱',\n",
    "    '事故類型及型態大類別名稱', '肇因研判大類別名稱-主要', '當事者區分-類別-大類別名稱-車種', '當事者行動狀態大類別名稱',\n",
    "    '車輛撞擊部位大類別名稱-最初', '車輛撞擊部位大類別名稱-其他', '肇因研判大類別名稱-個別',\n",
    "]\n",
    "\n",
    "def preprocess(input_data, select_lst):\n",
    "    # 篩選到第一個順位，因為注重的是單次事故的情況\n",
    "    sample_data = input_data[input_data['當事者順位'] == 1].reset_index(drop=True, inplace=False)\n",
    "    sample_data = sample_data[sample_data['發生月份'] < 11]\n",
    "    dataA = sample_data[select_lst]\n",
    "    \n",
    "    # 將資料分出死亡和受傷，合併到原本的資料後去除多餘的死亡受傷人數\n",
    "    death_injury_data = split_death_injury(dataA['死亡受傷人數'])\n",
    "    dist_df = pd.concat([dataA, death_injury_data], axis=1)\n",
    "    # 補齊缺失值\n",
    "    dist_df[select_lst] = dist_df[select_lst].fillna('未紀錄')\n",
    "\n",
    "    dist_df.drop(columns=['死亡受傷人數'], inplace=True)\n",
    "    \n",
    "    return dist_df\n",
    "\n",
    "dist_dfA1 = preprocess(dataA1, select_lst)\n",
    "dist_dfA2 = preprocess(dataA2, select_lst)\n",
    "\n",
    "# 每個月各取2萬筆\n",
    "dist_dfA2 = dist_dfA2.groupby('發生月份').apply(lambda x: x.sample(n=min(len(x), 20000), random_state=42)).reset_index(drop=True)\n",
    "\n",
    "# Concat\n",
    "rbind_data = pd.concat([dist_dfA1, dist_dfA2], axis=0, ignore_index=True)\n",
    "rbind_data.drop(columns=['發生月份'], inplace=True)"
   ]
  },
  {
   "cell_type": "code",
   "execution_count": 27,
   "metadata": {},
   "outputs": [
    {
     "name": "stdout",
     "output_type": "stream",
     "text": [
      "dummy_data: (201383, 175)\n"
     ]
    }
   ],
   "source": [
    "bins_age = [0, 14, 24, 34, 44, 54, 64, 74, float('inf')]\n",
    "labels_age = ['未滿15歲', '15~24', '25~34', '35~44', '45~54', '55~64', '65~74', '75+']\n",
    "\n",
    "rbind_data['當事者事故發生時年齡'] = pd.cut(rbind_data['當事者事故發生時年齡'], bins=bins_age, labels=labels_age, right=False)\n",
    "\n",
    "rbind_data['當事者事故發生時年齡'] = rbind_data['當事者事故發生時年齡'].cat.add_categories('未知')\n",
    "rbind_data['當事者事故發生時年齡'] = rbind_data['當事者事故發生時年齡'].fillna('未知')\n",
    "\n",
    "bins_speed = [0, 10, 20, 30, 40, 50, 60, 70, 80, 90, 100, 110, float('inf')]\n",
    "labels_speed = ['0-10', '11-20', '21-30', '31-40', '41-50', '51-60', '61-70', '71-80', '81-90', '91-100', '101-110', '110+']\n",
    "\n",
    "rbind_data['速限-第1當事者'] = pd.cut(rbind_data['速限-第1當事者'], bins=bins_speed, labels=labels_speed, right=False)\n",
    "\n",
    "# assert rbind_data.shape[0] == dist_dfA1.shape[0] + dist_dfA2.shape[0]\n",
    "# Dummy\n",
    "rbind_data[\"速限-第1當事者\"] = rbind_data[\"速限-第1當事者\"].astype(str)\n",
    "dummy_data = pd.get_dummies(rbind_data)\n",
    "\n",
    "print('dummy_data:', dummy_data.shape)\n",
    "\n",
    "data_to_map = dummy_data.drop(['死亡', '受傷'], axis=1)\n",
    "mapper_numpy = data_to_map.to_numpy()"
   ]
  },
  {
   "attachments": {},
   "cell_type": "markdown",
   "metadata": {},
   "source": [
    "### Multiple correspondence analysis (MCA)\n",
    "多重對應分析是專門針對dummy來進行降維的，所以使用它作為主要方法沒有問題"
   ]
  },
  {
   "cell_type": "code",
   "execution_count": 33,
   "metadata": {},
   "outputs": [
    {
     "name": "stdout",
     "output_type": "stream",
     "text": [
      "          eigenvalue % of variance % of variance (cumulative)\n",
      "component                                                    \n",
      "0              0.266         5.58%                      5.58%\n",
      "1              0.195         4.09%                      9.68%\n",
      "2              0.117         2.46%                     12.14%\n",
      "3              0.110         2.30%                     14.44%\n",
      "4              0.098         2.06%                     16.50%\n",
      "5              0.083         1.74%                     18.23%\n",
      "6              0.076         1.60%                     19.83%\n"
     ]
    }
   ],
   "source": [
    "import prince\n",
    "\n",
    "mca = prince.MCA(\n",
    "    one_hot=False,\n",
    "    n_components=7,\n",
    "    n_iter=30,\n",
    "    copy=True,\n",
    "    check_input=True,\n",
    "    random_state=42\n",
    ")\n",
    "\n",
    "mca.fit(data_to_map)\n",
    "lens = mca.transform(data_to_map)\n",
    "\n",
    "print(mca.eigenvalues_summary)"
   ]
  },
  {
   "cell_type": "code",
   "execution_count": 32,
   "metadata": {},
   "outputs": [
    {
     "data": {
      "image/png": "[encoded data removed]",
      "text/plain": [
       "<Figure size 1000x600 with 1 Axes>"
      ]
     },
     "metadata": {},
     "output_type": "display_data"
    }
   ],
   "source": [
    "eigenvalues = mca.eigenvalues_\n",
    "\n",
    "components = range(0, len(eigenvalues))\n",
    "\n",
    "variance = mca.eigenvalues_summary['% of variance']\n",
    "\n",
    "plt.figure(figsize=(10, 6))\n",
    "plt.plot(components, eigenvalues, marker='o', linestyle='--')\n",
    "plt.title(\"Scree Plot\")\n",
    "plt.xlabel(\"Component\")\n",
    "plt.ylabel(\"Eigenvalue\")\n",
    "plt.xticks(components)\n",
    "plt.grid(True)\n",
    "plt.show()"
   ]
  },
  {
   "cell_type": "code",
   "execution_count": 34,
   "metadata": {},
   "outputs": [
    {
     "data": {
      "text/plain": [
       "0.1982517482517472"
      ]
     },
     "execution_count": 34,
     "metadata": {},
     "output_type": "execute_result"
    }
   ],
   "source": [
    "eigenvalues = mca.eigenvalues_summary\n",
    "eigenvalues['eigenvalue'] = eigenvalues['eigenvalue'].astype(float)\n",
    "eigenvalues['eigenvalue'].sum()/mca.total_inertia_"
   ]
  },
  {
   "attachments": {},
   "cell_type": "markdown",
   "metadata": {},
   "source": [
    "1. lens：以component為8對所有資料做MCA"
   ]
  },
  {
   "cell_type": "code",
   "execution_count": 9,
   "metadata": {},
   "outputs": [],
   "source": [
    "# lens.to_csv('./Version3/Calculated/lens.csv', index=False)\n",
    "\n",
    "# lens = pd.read_csv(\"./Version3/Calculated/lens.csv\")\n",
    "# lens"
   ]
  },
  {
   "attachments": {},
   "cell_type": "markdown",
   "metadata": {},
   "source": [
    "# Find the best mapper"
   ]
  },
  {
   "cell_type": "code",
   "execution_count": 35,
   "metadata": {},
   "outputs": [],
   "source": [
    "from Version3.tdamapper.core import MapperAlgorithm\n",
    "from Version3.tdamapper.cover import CubicalCover\n",
    "from Version3.tdamapper.clustering import FailSafeClustering\n",
    "from Version3.tdamapper.plot import MapperLayoutInteractive"
   ]
  },
  {
   "cell_type": "code",
   "execution_count": 36,
   "metadata": {},
   "outputs": [
    {
     "name": "stdout",
     "output_type": "stream",
     "text": [
      "overlap: 3, interval: 10\n"
     ]
    },
    {
     "ename": "KeyboardInterrupt",
     "evalue": "",
     "output_type": "error",
     "traceback": [
      "\u001b[0;31m---------------------------------------------------------------------------\u001b[0m",
      "\u001b[0;31mKeyboardInterrupt\u001b[0m                         Traceback (most recent call last)",
      "Cell \u001b[0;32mIn[36], line 24\u001b[0m\n\u001b[1;32m      9\u001b[0m \u001b[39mprint\u001b[39m(\u001b[39mf\u001b[39m\u001b[39m'\u001b[39m\u001b[39moverlap: \u001b[39m\u001b[39m{\u001b[39;00moverlap\u001b[39m}\u001b[39;00m\u001b[39m, interval: \u001b[39m\u001b[39m{\u001b[39;00minterval\u001b[39m}\u001b[39;00m\u001b[39m'\u001b[39m)\n\u001b[1;32m     10\u001b[0m mapper_algo \u001b[39m=\u001b[39m MapperAlgorithm(\n\u001b[1;32m     11\u001b[0m     cover\u001b[39m=\u001b[39mCubicalCover(\n\u001b[1;32m     12\u001b[0m         n_intervals\u001b[39m=\u001b[39minterval,\n\u001b[0;32m   (...)\u001b[0m\n\u001b[1;32m     21\u001b[0m     n_jobs\u001b[39m=\u001b[39m\u001b[39m5\u001b[39m\n\u001b[1;32m     22\u001b[0m )\n\u001b[0;32m---> 24\u001b[0m mapper_info \u001b[39m=\u001b[39m mapper_algo\u001b[39m.\u001b[39;49mfit_transform(mapper_numpy, lens)\n\u001b[1;32m     25\u001b[0m silhouette_for_intervals\u001b[39m.\u001b[39mappend(mapper_info[\u001b[39m1\u001b[39m])\n\u001b[1;32m     27\u001b[0m detailed_results\u001b[39m.\u001b[39mappend({\n\u001b[1;32m     28\u001b[0m     \u001b[39m\"\u001b[39m\u001b[39moverlap\u001b[39m\u001b[39m\"\u001b[39m: overlap,\n\u001b[1;32m     29\u001b[0m     \u001b[39m\"\u001b[39m\u001b[39minterval\u001b[39m\u001b[39m\"\u001b[39m: interval,\n\u001b[1;32m     30\u001b[0m     \u001b[39m\"\u001b[39m\u001b[39msilhouette\u001b[39m\u001b[39m\"\u001b[39m: mapper_info[\u001b[39m1\u001b[39m],\n\u001b[1;32m     31\u001b[0m     \u001b[39m\"\u001b[39m\u001b[39mmapper_info\u001b[39m\u001b[39m\"\u001b[39m: mapper_info\n\u001b[1;32m     32\u001b[0m })\n",
      "File \u001b[0;32m~/Desktop/TrafficTDApython/Version3/tdamapper/core.py:472\u001b[0m, in \u001b[0;36mMapperAlgorithm.fit_transform\u001b[0;34m(self, X, y)\u001b[0m\n\u001b[1;32m    458\u001b[0m \u001b[39mdef\u001b[39;00m \u001b[39mfit_transform\u001b[39m(\u001b[39mself\u001b[39m, X, y):\n\u001b[1;32m    459\u001b[0m \u001b[39m    \u001b[39m\u001b[39m\"\"\"\u001b[39;00m\n\u001b[1;32m    460\u001b[0m \u001b[39m    Create the Mapper graph.\u001b[39;00m\n\u001b[1;32m    461\u001b[0m \n\u001b[0;32m   (...)\u001b[0m\n\u001b[1;32m    470\u001b[0m \u001b[39m    :rtype: :class:`networkx.Graph`\u001b[39;00m\n\u001b[1;32m    471\u001b[0m \u001b[39m    \"\"\"\u001b[39;00m\n\u001b[0;32m--> 472\u001b[0m     \u001b[39mself\u001b[39;49m\u001b[39m.\u001b[39;49mfit(X, y)\n\u001b[1;32m    473\u001b[0m     \u001b[39mreturn\u001b[39;00m \u001b[39mself\u001b[39m\u001b[39m.\u001b[39mgraph_\n",
      "File \u001b[0;32m~/Desktop/TrafficTDApython/Version3/tdamapper/core.py:448\u001b[0m, in \u001b[0;36mMapperAlgorithm.fit\u001b[0;34m(self, X, y)\u001b[0m\n\u001b[1;32m    446\u001b[0m \u001b[39mself\u001b[39m\u001b[39m.\u001b[39m__n_jobs \u001b[39m=\u001b[39m \u001b[39mself\u001b[39m\u001b[39m.\u001b[39mn_jobs\n\u001b[1;32m    447\u001b[0m y \u001b[39m=\u001b[39m X \u001b[39mif\u001b[39;00m y \u001b[39mis\u001b[39;00m \u001b[39mNone\u001b[39;00m \u001b[39melse\u001b[39;00m y\n\u001b[0;32m--> 448\u001b[0m \u001b[39mself\u001b[39m\u001b[39m.\u001b[39mgraph_\u001b[39m=\u001b[39m mapper_graph(\n\u001b[1;32m    449\u001b[0m     X,\n\u001b[1;32m    450\u001b[0m     y,\n\u001b[1;32m    451\u001b[0m     \u001b[39mself\u001b[39;49m\u001b[39m.\u001b[39;49m__cover,\n\u001b[1;32m    452\u001b[0m     \u001b[39mself\u001b[39;49m\u001b[39m.\u001b[39;49m__clustering,\n\u001b[1;32m    453\u001b[0m     n_jobs\u001b[39m=\u001b[39;49m\u001b[39mself\u001b[39;49m\u001b[39m.\u001b[39;49m__n_jobs,\n\u001b[1;32m    454\u001b[0m )\n\u001b[1;32m    455\u001b[0m \u001b[39mself\u001b[39m\u001b[39m.\u001b[39m_set_n_features_in(X)\n\u001b[1;32m    456\u001b[0m \u001b[39mreturn\u001b[39;00m \u001b[39mself\u001b[39m\n",
      "File \u001b[0;32m~/Desktop/TrafficTDApython/Version3/tdamapper/core.py:189\u001b[0m, in \u001b[0;36mmapper_graph\u001b[0;34m(X, y, cover, clustering, n_jobs)\u001b[0m\n\u001b[1;32m    157\u001b[0m \u001b[39mdef\u001b[39;00m \u001b[39mmapper_graph\u001b[39m(X, y, cover, clustering, n_jobs\u001b[39m=\u001b[39m\u001b[39m5\u001b[39m):\n\u001b[1;32m    158\u001b[0m \u001b[39m    \u001b[39m\u001b[39m\"\"\"\u001b[39;00m\n\u001b[1;32m    159\u001b[0m \u001b[39m    Create the Mapper graph.\u001b[39;00m\n\u001b[1;32m    160\u001b[0m \n\u001b[0;32m   (...)\u001b[0m\n\u001b[1;32m    187\u001b[0m \u001b[39m    :rtype: :class:`networkx.Graph`\u001b[39;00m\n\u001b[1;32m    188\u001b[0m \u001b[39m    \"\"\"\u001b[39;00m\n\u001b[0;32m--> 189\u001b[0m     itm_lbls, avg_CH \u001b[39m=\u001b[39m mapper_labels(X, y, cover, clustering, n_jobs\u001b[39m=\u001b[39;49mn_jobs)\n\u001b[1;32m    190\u001b[0m     graph \u001b[39m=\u001b[39m nx\u001b[39m.\u001b[39mGraph()\n\u001b[1;32m    191\u001b[0m     \u001b[39mfor\u001b[39;00m n, lbls \u001b[39min\u001b[39;00m \u001b[39menumerate\u001b[39m(itm_lbls):\n",
      "File \u001b[0;32m~/Desktop/TrafficTDApython/Version3/tdamapper/core.py:82\u001b[0m, in \u001b[0;36mmapper_labels\u001b[0;34m(X, y, cover, clustering, n_jobs)\u001b[0m\n\u001b[1;32m     78\u001b[0m     score \u001b[39m=\u001b[39m calinski_harabasz_score(local_X, local_lbls)\n\u001b[1;32m     80\u001b[0m     \u001b[39mreturn\u001b[39;00m local_ids, local_lbls, score\n\u001b[0;32m---> 82\u001b[0m cover_result \u001b[39m=\u001b[39m \u001b[39mlist\u001b[39;49m(cover\u001b[39m.\u001b[39;49mapply(y))\n\u001b[1;32m     83\u001b[0m _lbls \u001b[39m=\u001b[39m Parallel(n_jobs)(\n\u001b[1;32m     84\u001b[0m     \u001b[39m# delayed(_run_clustering)(local_ids) for local_ids in cover.apply(y)\u001b[39;00m\n\u001b[1;32m     85\u001b[0m     delayed(_run_clustering)(local_ids) \n\u001b[1;32m     86\u001b[0m     \u001b[39mfor\u001b[39;00m local_ids \u001b[39min\u001b[39;00m tqdm(cover_result, desc\u001b[39m=\u001b[39m\u001b[39m\"\u001b[39m\u001b[39mProcessing Clusters\u001b[39m\u001b[39m\"\u001b[39m)\n\u001b[1;32m     87\u001b[0m )\n\u001b[1;32m     88\u001b[0m itm_lbls \u001b[39m=\u001b[39m [[] \u001b[39mfor\u001b[39;00m _ \u001b[39min\u001b[39;00m X]\n",
      "File \u001b[0;32m~/Desktop/TrafficTDApython/Version3/tdamapper/core.py:335\u001b[0m, in \u001b[0;36mProximity.apply\u001b[0;34m(self, X)\u001b[0m\n\u001b[1;32m    315\u001b[0m \u001b[39m\u001b[39m\u001b[39m\"\"\"\u001b[39;00m\n\u001b[1;32m    316\u001b[0m \u001b[39mCovers the dataset using proximity-net.\u001b[39;00m\n\u001b[1;32m    317\u001b[0m \n\u001b[0;32m   (...)\u001b[0m\n\u001b[1;32m    332\u001b[0m \u001b[39m:rtype: generator of lists of ints\u001b[39;00m\n\u001b[1;32m    333\u001b[0m \u001b[39m\"\"\"\u001b[39;00m\n\u001b[1;32m    334\u001b[0m covered_ids \u001b[39m=\u001b[39m \u001b[39mset\u001b[39m()\n\u001b[0;32m--> 335\u001b[0m \u001b[39mself\u001b[39;49m\u001b[39m.\u001b[39;49mfit(X)\n\u001b[1;32m    336\u001b[0m \u001b[39mfor\u001b[39;00m i, xi \u001b[39min\u001b[39;00m \u001b[39menumerate\u001b[39m(X):\n\u001b[1;32m    337\u001b[0m     \u001b[39mif\u001b[39;00m i \u001b[39mnot\u001b[39;00m \u001b[39min\u001b[39;00m covered_ids:\n",
      "File \u001b[0;32m~/Desktop/TrafficTDApython/Version3/tdamapper/cover.py:318\u001b[0m, in \u001b[0;36mProximityCubicalCover.fit\u001b[0;34m(self, X)\u001b[0m\n\u001b[1;32m    309\u001b[0m radius \u001b[39m=\u001b[39m \u001b[39m1.0\u001b[39m \u001b[39m/\u001b[39m (\u001b[39m2.0\u001b[39m \u001b[39m-\u001b[39m \u001b[39m2.0\u001b[39m \u001b[39m*\u001b[39m \u001b[39mself\u001b[39m\u001b[39m.\u001b[39m__overlap_frac)\n\u001b[1;32m    310\u001b[0m \u001b[39mself\u001b[39m\u001b[39m.\u001b[39m__cover \u001b[39m=\u001b[39m BallCover(\n\u001b[1;32m    311\u001b[0m     radius,\n\u001b[1;32m    312\u001b[0m     metric\u001b[39m=\u001b[39m_Pullback(\u001b[39mself\u001b[39m\u001b[39m.\u001b[39m_gamma_n, chebyshev()),\n\u001b[0;32m   (...)\u001b[0m\n\u001b[1;32m    316\u001b[0m     pivoting\u001b[39m=\u001b[39m\u001b[39mself\u001b[39m\u001b[39m.\u001b[39mpivoting,\n\u001b[1;32m    317\u001b[0m )\n\u001b[0;32m--> 318\u001b[0m \u001b[39mself\u001b[39;49m\u001b[39m.\u001b[39;49m__cover\u001b[39m.\u001b[39;49mfit(X)\n\u001b[1;32m    319\u001b[0m \u001b[39mreturn\u001b[39;00m \u001b[39mself\u001b[39m\n",
      "File \u001b[0;32m~/Desktop/TrafficTDApython/Version3/tdamapper/cover.py:102\u001b[0m, in \u001b[0;36mBallCover.fit\u001b[0;34m(self, X)\u001b[0m\n\u001b[1;32m    100\u001b[0m \u001b[39mself\u001b[39m\u001b[39m.\u001b[39m__radius \u001b[39m=\u001b[39m \u001b[39mself\u001b[39m\u001b[39m.\u001b[39mradius\n\u001b[1;32m    101\u001b[0m \u001b[39mself\u001b[39m\u001b[39m.\u001b[39m__data \u001b[39m=\u001b[39m \u001b[39mlist\u001b[39m(\u001b[39menumerate\u001b[39m(X))\n\u001b[0;32m--> 102\u001b[0m \u001b[39mself\u001b[39m\u001b[39m.\u001b[39m__vptree \u001b[39m=\u001b[39m VPTree(\n\u001b[1;32m    103\u001b[0m     \u001b[39mself\u001b[39;49m\u001b[39m.\u001b[39;49m__data,\n\u001b[1;32m    104\u001b[0m     metric\u001b[39m=\u001b[39;49m_Pullback(_snd, metric),\n\u001b[1;32m    105\u001b[0m     metric_params\u001b[39m=\u001b[39;49m\u001b[39mNone\u001b[39;49;00m,\n\u001b[1;32m    106\u001b[0m     kind\u001b[39m=\u001b[39;49m\u001b[39mself\u001b[39;49m\u001b[39m.\u001b[39;49mkind,\n\u001b[1;32m    107\u001b[0m     leaf_capacity\u001b[39m=\u001b[39;49m\u001b[39mself\u001b[39;49m\u001b[39m.\u001b[39;49mleaf_capacity,\n\u001b[1;32m    108\u001b[0m     leaf_radius\u001b[39m=\u001b[39;49m\u001b[39mself\u001b[39;49m\u001b[39m.\u001b[39;49mleaf_radius \u001b[39mor\u001b[39;49;00m \u001b[39mself\u001b[39;49m\u001b[39m.\u001b[39;49mradius,\n\u001b[1;32m    109\u001b[0m     pivoting\u001b[39m=\u001b[39;49m\u001b[39mself\u001b[39;49m\u001b[39m.\u001b[39;49mpivoting,\n\u001b[1;32m    110\u001b[0m )\n\u001b[1;32m    111\u001b[0m \u001b[39mreturn\u001b[39;00m \u001b[39mself\u001b[39m\n",
      "File \u001b[0;32m~/Desktop/TrafficTDApython/Version3/tdamapper/utils/vptree.py:54\u001b[0m, in \u001b[0;36mVPTree.__init__\u001b[0;34m(self, X, metric, metric_params, kind, leaf_capacity, leaf_radius, pivoting)\u001b[0m\n\u001b[1;32m     52\u001b[0m \u001b[39melse\u001b[39;00m:\n\u001b[1;32m     53\u001b[0m     \u001b[39mraise\u001b[39;00m \u001b[39mValueError\u001b[39;00m(\u001b[39mf\u001b[39m\u001b[39m'\u001b[39m\u001b[39mUnknown kind of vptree: \u001b[39m\u001b[39m{\u001b[39;00mkind\u001b[39m}\u001b[39;00m\u001b[39m'\u001b[39m)\n\u001b[0;32m---> 54\u001b[0m \u001b[39mself\u001b[39m\u001b[39m.\u001b[39m__vpt \u001b[39m=\u001b[39m builder(\n\u001b[1;32m     55\u001b[0m     X,\n\u001b[1;32m     56\u001b[0m     metric\u001b[39m=\u001b[39;49mmetric,\n\u001b[1;32m     57\u001b[0m     metric_params\u001b[39m=\u001b[39;49mmetric_params,\n\u001b[1;32m     58\u001b[0m     leaf_capacity\u001b[39m=\u001b[39;49mleaf_capacity,\n\u001b[1;32m     59\u001b[0m     leaf_radius\u001b[39m=\u001b[39;49mleaf_radius,\n\u001b[1;32m     60\u001b[0m     pivoting\u001b[39m=\u001b[39;49mpivoting\n\u001b[1;32m     61\u001b[0m )\n",
      "File \u001b[0;32m~/Desktop/TrafficTDApython/Version3/tdamapper/utils/vptree_flat.py:56\u001b[0m, in \u001b[0;36mVPTree.__init__\u001b[0;34m(self, X, metric, metric_params, leaf_capacity, leaf_radius, pivoting)\u001b[0m\n\u001b[1;32m     54\u001b[0m \u001b[39mself\u001b[39m\u001b[39m.\u001b[39m__leaf_radius \u001b[39m=\u001b[39m leaf_radius\n\u001b[1;32m     55\u001b[0m \u001b[39mself\u001b[39m\u001b[39m.\u001b[39m__pivoting \u001b[39m=\u001b[39m pivoting\n\u001b[0;32m---> 56\u001b[0m \u001b[39mself\u001b[39m\u001b[39m.\u001b[39m__dataset \u001b[39m=\u001b[39m \u001b[39mself\u001b[39;49m\u001b[39m.\u001b[39;49m_Build(\u001b[39mself\u001b[39;49m, X)\u001b[39m.\u001b[39;49mbuild()\n",
      "File \u001b[0;32m~/Desktop/TrafficTDApython/Version3/tdamapper/utils/vptree_flat.py:133\u001b[0m, in \u001b[0;36mVPTree._Build.build\u001b[0;34m(self)\u001b[0m\n\u001b[1;32m    132\u001b[0m \u001b[39mdef\u001b[39;00m \u001b[39mbuild\u001b[39m(\u001b[39mself\u001b[39m):\n\u001b[0;32m--> 133\u001b[0m     \u001b[39mself\u001b[39;49m\u001b[39m.\u001b[39;49m_build_iter()\n\u001b[1;32m    134\u001b[0m     \u001b[39mreturn\u001b[39;00m \u001b[39mself\u001b[39m\u001b[39m.\u001b[39m__dataset\n",
      "File \u001b[0;32m~/Desktop/TrafficTDApython/Version3/tdamapper/utils/vptree_flat.py:141\u001b[0m, in \u001b[0;36mVPTree._Build._build_iter\u001b[0;34m(self)\u001b[0m\n\u001b[1;32m    139\u001b[0m start, end \u001b[39m=\u001b[39m stack\u001b[39m.\u001b[39mpop()\n\u001b[1;32m    140\u001b[0m mid \u001b[39m=\u001b[39m _mid(start, end)\n\u001b[0;32m--> 141\u001b[0m \u001b[39mself\u001b[39;49m\u001b[39m.\u001b[39;49m_update(start, end)\n\u001b[1;32m    142\u001b[0m _, v_point, _ \u001b[39m=\u001b[39m \u001b[39mself\u001b[39m\u001b[39m.\u001b[39m__dataset[start]\n\u001b[1;32m    143\u001b[0m _quickselect(\u001b[39mself\u001b[39m\u001b[39m.\u001b[39m__dataset, start \u001b[39m+\u001b[39m \u001b[39m1\u001b[39m, end, mid)\n",
      "File \u001b[0;32m~/Desktop/TrafficTDApython/Version3/tdamapper/utils/vptree_flat.py:130\u001b[0m, in \u001b[0;36mVPTree._Build._update\u001b[0;34m(self, start, end)\u001b[0m\n\u001b[1;32m    128\u001b[0m \u001b[39mfor\u001b[39;00m i \u001b[39min\u001b[39;00m \u001b[39mrange\u001b[39m(start \u001b[39m+\u001b[39m \u001b[39m1\u001b[39m, end):\n\u001b[1;32m    129\u001b[0m     _, point, _ \u001b[39m=\u001b[39m \u001b[39mself\u001b[39m\u001b[39m.\u001b[39m__dataset[i]\n\u001b[0;32m--> 130\u001b[0m     \u001b[39mself\u001b[39m\u001b[39m.\u001b[39m__dataset[i] \u001b[39m=\u001b[39m \u001b[39mself\u001b[39;49m\u001b[39m.\u001b[39;49m__distance(v_point, point), point, is_terminal\n",
      "File \u001b[0;32m~/Desktop/TrafficTDApython/Version3/tdamapper/cover.py:26\u001b[0m, in \u001b[0;36m_Pullback.__call__\u001b[0;34m(self, x, y)\u001b[0m\n\u001b[1;32m     25\u001b[0m \u001b[39mdef\u001b[39;00m \u001b[39m__call__\u001b[39m(\u001b[39mself\u001b[39m, x, y):\n\u001b[0;32m---> 26\u001b[0m     \u001b[39mreturn\u001b[39;00m \u001b[39mself\u001b[39;49m\u001b[39m.\u001b[39;49mdist(\u001b[39mself\u001b[39;49m\u001b[39m.\u001b[39;49mfun(x), \u001b[39mself\u001b[39;49m\u001b[39m.\u001b[39;49mfun(y))\n",
      "File \u001b[0;32m~/Desktop/TrafficTDApython/Version3/tdamapper/cover.py:26\u001b[0m, in \u001b[0;36m_Pullback.__call__\u001b[0;34m(self, x, y)\u001b[0m\n\u001b[1;32m     25\u001b[0m \u001b[39mdef\u001b[39;00m \u001b[39m__call__\u001b[39m(\u001b[39mself\u001b[39m, x, y):\n\u001b[0;32m---> 26\u001b[0m     \u001b[39mreturn\u001b[39;00m \u001b[39mself\u001b[39m\u001b[39m.\u001b[39mdist(\u001b[39mself\u001b[39m\u001b[39m.\u001b[39mfun(x), \u001b[39mself\u001b[39;49m\u001b[39m.\u001b[39;49mfun(y))\n",
      "\u001b[0;31mKeyboardInterrupt\u001b[0m: "
     ]
    }
   ],
   "source": [
    "detailed_results = []\n",
    "\n",
    "for overlap in range(3, 6):\n",
    "# for overlap in range(5, 6):\n",
    "    silhouette_for_intervals = []\n",
    "\n",
    "    # for interval in range(5, 11):\n",
    "    for interval in range(10, 11):\n",
    "        print(f'overlap: {overlap}, interval: {interval}')\n",
    "        mapper_algo = MapperAlgorithm(\n",
    "            cover=CubicalCover(\n",
    "                n_intervals=interval,\n",
    "                overlap_frac=overlap / 10\n",
    "            ),\n",
    "            clustering=FailSafeClustering(\n",
    "                AgglomerativeClustering(\n",
    "                n_clusters=2,\n",
    "                linkage='ward'\n",
    "                )\n",
    "            ),\n",
    "            n_jobs=5\n",
    "        )\n",
    "\n",
    "        mapper_info = mapper_algo.fit_transform(mapper_numpy, lens)\n",
    "        silhouette_for_intervals.append(mapper_info[1])\n",
    "\n",
    "        detailed_results.append({\n",
    "            \"overlap\": overlap,\n",
    "            \"interval\": interval,\n",
    "            \"silhouette\": mapper_info[1],\n",
    "            \"mapper_info\": mapper_info\n",
    "        })"
   ]
  },
  {
   "attachments": {},
   "cell_type": "markdown",
   "metadata": {},
   "source": [
    "### 未增加天氣\n",
    "1. full_grid：使用Interval優化的前兩個月grid search\n",
    "2. full_grid_sample：抽樣30%資料且沒有使用Interval優化\n",
    "3. full_grid_sample_r2：和第二點一樣但是第二回合\n",
    "4. full_grid_fulldata_o5i6：整筆資料的拓樸使用覆蓋為5區間數為6\n",
    "5. full_grid_fulldata_o345i10：區間數固定為10的情況下覆蓋為345的資料"
   ]
  },
  {
   "cell_type": "code",
   "execution_count": null,
   "metadata": {},
   "outputs": [],
   "source": [
    "# detailed_results_df = pd.DataFrame(detailed_results)\n",
    "# detailed_results_df.to_csv(\"/Users/wangqiqian/Desktop/TrafficTDApython/Version3/GridSearch/full_grid_fulldata_o345i10.csv\", index=False)\n",
    "\n",
    "# output_file = '/Users/wangqiqian/Desktop/TrafficTDApython/Version3/GridSearch/full_grid_fulldata_o345i10.pkl'\n",
    "# with open(output_file, 'wb') as f:\n",
    "#     pickle.dump(detailed_results_df, f)\n",
    "\n",
    "# print(f\"Results saved to {output_file}\")"
   ]
  }
 ],
 "metadata": {
  "kernelspec": {
   "display_name": "Cllava",
   "language": "python",
   "name": "python3"
  },
  "language_info": {
   "codemirror_mode": {
    "name": "ipython",
    "version": 3
   },
   "file_extension": ".py",
   "mimetype": "text/x-python",
   "name": "python",
   "nbconvert_exporter": "python",
   "pygments_lexer": "ipython3",
   "version": "3.10.13"
  },
  "orig_nbformat": 4
 },
 "nbformat": 4,
 "nbformat_minor": 2
}

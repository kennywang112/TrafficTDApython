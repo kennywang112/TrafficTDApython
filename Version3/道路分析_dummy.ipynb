{
 "cells": [
  {
   "cell_type": "code",
   "execution_count": 1,
   "id": "f86ea7dc-6799-42a5-8e84-aa0f6422f5f9",
   "metadata": {},
   "outputs": [
    {
     "name": "stdout",
     "output_type": "stream",
     "text": [
      "C:\\Users\\USER\\Desktop\\TrafficTDApython\n"
     ]
    }
   ],
   "source": [
    "import os\n",
    "\n",
    "current_dir_path = os.getcwd()\n",
    "current_file_path = os.path.abspath(current_dir_path)\n",
    "current_dir_path = os.path.dirname(current_file_path)\n",
    "parent_dir_path = os.path.dirname(current_dir_path)\n",
    "\n",
    "# os.chdir(current_dir_path + '\\\\ultils')\n",
    "os.chdir(current_dir_path + '/ultils')\n",
    "print(current_dir_path)\n",
    "\n",
    "import pickle\n",
    "import time\n",
    "import numpy as np\n",
    "import pandas as pd\n",
    "import seaborn as sns\n",
    "import matplotlib.pyplot as plt\n",
    "import plotly.graph_objects as go\n",
    "\n",
    "from sklearn.decomposition import PCA\n",
    "from sklearn.cluster import DBSCAN, AgglomerativeClustering\n",
    "from sklearn.preprocessing import MinMaxScaler\n",
    "\n",
    "from sklearn import metrics\n",
    "\n",
    "from functions import *\n",
    "from chi import *\n",
    "from regressionP import *\n",
    "from models import *\n",
    "from utils_v3 import *\n",
    "\n",
    "# os.chdir('/Users/wangqiqian/Desktop/TrafficTDApython/')\n",
    "os.chdir('C:/Users/USER/Desktop/TrafficTDApython/')\n",
    "\n",
    "from Version3.tdamapper.core import MapperAlgorithm\n",
    "from Version3.tdamapper.cover import CubicalCover\n",
    "from Version3.tdamapper.clustering import FailSafeClustering\n",
    "from Version3.tdamapper.plot import MapperLayoutInteractive, MapperLayoutStatic"
   ]
  },
  {
   "cell_type": "code",
   "execution_count": 2,
   "id": "2d35c7e7-b928-434e-b417-3e3e7b30a96e",
   "metadata": {},
   "outputs": [],
   "source": [
    "data1 = pd.read_csv(\"Data/NPA_TMA2_1.csv\", low_memory=False)[:-2]\n",
    "data2 = pd.read_csv(\"Data/NPA_TMA2_2.csv\", low_memory=False)[:-2]\n",
    "data3 = pd.read_csv(\"Data/NPA_TMA2_3.csv\", low_memory=False)[:-2]\n",
    "data4 = pd.read_csv(\"Data/NPA_TMA2_4_new.csv\", low_memory=False)[:-2]\n",
    "data5 = pd.read_csv(\"Data/NPA_TMA2_5.csv\", low_memory=False)[:-2]\n",
    "data6 = pd.read_csv(\"Data/NPA_TMA2_6_new.csv\", low_memory=False)[:-2]\n",
    "data7 = pd.read_csv(\"Data/NPA_TMA2_7.csv\", low_memory=False)[:-2]\n",
    "data8 = pd.read_csv(\"Data/NPA_TMA2_8.csv\", low_memory=False)[:-2]\n",
    "data9 = pd.read_csv(\"Data/NPA_TMA2_9.csv\", low_memory=False)[:-2]\n",
    "data10 = pd.read_csv(\"Data/NPA_TMA2_10.csv\", low_memory=False)[:-2]\n",
    "\n",
    "dataA2 = pd.concat([data1, data2, data3, data4, data5, data6, data7, data8, data9, data10], ignore_index=True)\n",
    "# dataA2 = pd.concat([data1, data2, data3, data4, data5], ignore_index=True)\n",
    "\n",
    "dataA1 = pd.read_csv(\"Data/NPA_TMA1_V3.csv\")[:-2]"
   ]
  },
  {
   "cell_type": "code",
   "execution_count": 3,
   "id": "4c2893a2-e2d8-4f96-baf0-8e21c99fddbe",
   "metadata": {},
   "outputs": [
    {
     "name": "stdout",
     "output_type": "stream",
     "text": [
      "(3631, 51)\n",
      "(664995, 51)\n",
      "Index(['發生年度', '發生月份', '發生日期', '發生時間', '事故類別名稱', '處理單位名稱警局層', '發生地點', '天候名稱',\n",
      "       '光線名稱', '道路類別-第1當事者-名稱', '速限-第1當事者', '道路型態大類別名稱', '道路型態子類別名稱',\n",
      "       '事故位置大類別名稱', '事故位置子類別名稱', '路面狀況-路面鋪裝名稱', '路面狀況-路面狀態名稱', '路面狀況-路面缺陷名稱',\n",
      "       '道路障礙-障礙物名稱', '道路障礙-視距品質名稱', '道路障礙-視距名稱', '號誌-號誌種類名稱', '號誌-號誌動作名稱',\n",
      "       '車道劃分設施-分向設施大類別名稱', '車道劃分設施-分向設施子類別名稱', '車道劃分設施-分道設施-快車道或一般車道間名稱',\n",
      "       '車道劃分設施-分道設施-快慢車道間名稱', '車道劃分設施-分道設施-路面邊線名稱', '事故類型及型態大類別名稱',\n",
      "       '事故類型及型態子類別名稱', '肇因研判大類別名稱-主要', '肇因研判子類別名稱-主要', '死亡受傷人數', '當事者順位',\n",
      "       '當事者區分-類別-大類別名稱-車種', '當事者區分-類別-子類別名稱-車種', '當事者屬-性-別名稱', '當事者事故發生時年齡',\n",
      "       '保護裝備名稱', '行動電話或電腦或其他相類功能裝置名稱', '當事者行動狀態大類別名稱', '當事者行動狀態子類別名稱',\n",
      "       '車輛撞擊部位大類別名稱-最初', '車輛撞擊部位子類別名稱-最初', '車輛撞擊部位大類別名稱-其他', '車輛撞擊部位子類別名稱-其他',\n",
      "       '肇因研判大類別名稱-個別', '肇因研判子類別名稱-個別', '肇事逃逸類別名稱-是否肇逃', '經度', '緯度'],\n",
      "      dtype='object')\n"
     ]
    }
   ],
   "source": [
    "print(dataA1.shape)\n",
    "print(dataA2.shape)\n",
    "\n",
    "print(dataA2.columns)"
   ]
  },
  {
   "cell_type": "code",
   "execution_count": 4,
   "id": "67f48fe7-015a-4852-b473-50c5bd763c78",
   "metadata": {
    "tags": []
   },
   "outputs": [
    {
     "name": "stdout",
     "output_type": "stream",
     "text": [
      "22\n"
     ]
    }
   ],
   "source": [
    "# select_lst = [\n",
    "#     '路面狀況-路面鋪裝名稱', '路面狀況-路面狀態名稱', '路面狀況-路面缺陷名稱',\n",
    "#     '道路障礙-障礙物名稱', '道路障礙-視距品質名稱', '道路障礙-視距名稱', \n",
    "#     '號誌-號誌種類名稱', '號誌-號誌動作名稱',\n",
    "#     '車道劃分設施-分向設施大類別名稱', '車道劃分設施-分道設施-快車道或一般車道間名稱', \n",
    "#     '車道劃分設施-分道設施-快慢車道間名稱', '車道劃分設施-分道設施-路面邊線名稱', \n",
    "#     '道路類別-第1當事者-名稱', '速限-第1當事者', '道路型態大類別名稱', '事故類型及型態大類別名稱', '事故位置大類別名稱',\n",
    "#     '死亡受傷人數',\n",
    "# ]\n",
    "# print(len(select_lst))\n",
    "select_lst = [\n",
    "    '道路類別-第1當事者-名稱', '速限-第1當事者', '道路型態大類別名稱', '道路型態子類別名稱',\n",
    "    '事故位置大類別名稱', '事故位置子類別名稱', '路面狀況-路面鋪裝名稱', '路面狀況-路面狀態名稱', '路面狀況-路面缺陷名稱',\n",
    "    '道路障礙-障礙物名稱', '道路障礙-視距品質名稱', '道路障礙-視距名稱', '號誌-號誌種類名稱', '號誌-號誌動作名稱',\n",
    "    '車道劃分設施-分向設施大類別名稱', '車道劃分設施-分向設施子類別名稱', '車道劃分設施-分道設施-快車道或一般車道間名稱',\n",
    "    '車道劃分設施-分道設施-快慢車道間名稱', '車道劃分設施-分道設施-路面邊線名稱', '事故類型及型態大類別名稱',\n",
    "    '事故類型及型態子類別名稱', '死亡受傷人數',\n",
    "    # '經度', '緯度'\n",
    "]\n",
    "print(len(select_lst))\n",
    "\n",
    "def preprocess(input_data, select_lst):\n",
    "    \n",
    "    sample_data = input_data[input_data['當事者順位'] == 1].reset_index(drop=True, inplace=False)\n",
    "    sample_data = sample_data[sample_data['發生月份'] < 4]\n",
    "    dataA = sample_data[select_lst]\n",
    "    \n",
    "    # 將資料分出死亡和受傷，合併到原本的資料後去除多餘的死亡受傷人數\n",
    "    death_injury_data = split_death_injury(dataA['死亡受傷人數'])\n",
    "    dist_df = pd.concat([dataA, death_injury_data], axis=1)\n",
    "    dist_df.drop(columns=['死亡受傷人數'], inplace=True)\n",
    "    \n",
    "    return dist_df\n",
    "\n",
    "dist_dfA1 = preprocess(dataA1, select_lst)\n",
    "dist_dfA2 = preprocess(dataA2, select_lst)"
   ]
  },
  {
   "cell_type": "code",
   "execution_count": 5,
   "id": "c056f615-c338-4bb5-a9d2-2c659d00f454",
   "metadata": {},
   "outputs": [
    {
     "name": "stdout",
     "output_type": "stream",
     "text": [
      "(96846, 192)\n"
     ]
    }
   ],
   "source": [
    "rbind_data = pd.concat([dist_dfA1, dist_dfA2], axis=0, ignore_index=True)\n",
    "assert rbind_data.shape[0] == dist_dfA1.shape[0] + dist_dfA2.shape[0]\n",
    "\n",
    "rbind_data[\"速限-第1當事者\"] = rbind_data[\"速限-第1當事者\"].astype(str)\n",
    "dummy_data = pd.get_dummies(rbind_data)\n",
    "\n",
    "print(dummy_data.shape)"
   ]
  },
  {
   "cell_type": "code",
   "execution_count": 7,
   "id": "cbf3b8be-8455-44ea-abda-59837183de66",
   "metadata": {},
   "outputs": [
    {
     "name": "stdout",
     "output_type": "stream",
     "text": [
      "[0.2285175  0.34289305 0.40947325 0.46745708 0.5152317 ]\n",
      "0.515231700878357\n",
      "[0.2285175  0.11437556 0.0665802  0.05798383 0.04777462]\n"
     ]
    }
   ],
   "source": [
    "data_to_map = dummy_data.drop(['死亡', '受傷'], axis=1)\n",
    "mapper_numpy = data_to_map.to_numpy()\n",
    "\n",
    "pca = PCA(n_components=5)\n",
    "lens1 = pca.fit_transform(mapper_numpy)\n",
    "\n",
    "# 查看每個主成分保留的變異量比例\n",
    "explained_variance_ratio  = pca.explained_variance_ratio_\n",
    "cumulative_variance_ratio = np.cumsum(explained_variance_ratio)\n",
    "print(cumulative_variance_ratio)\n",
    "print(sum(explained_variance_ratio))\n",
    "print(explained_variance_ratio)"
   ]
  },
  {
   "cell_type": "markdown",
   "id": "3449f519-424b-4a9f-9aaf-0be325b7f3d5",
   "metadata": {},
   "source": [
    "PCA視覺化效果不好"
   ]
  },
  {
   "cell_type": "code",
   "execution_count": null,
   "id": "70925de6-91ca-444e-951b-d3dec2c1e1aa",
   "metadata": {
    "jupyter": {
     "source_hidden": true
    },
    "tags": []
   },
   "outputs": [],
   "source": [
    "# import plotly.express as px\n",
    "\n",
    "# df = pd.DataFrame(lens1, columns=['PC1', 'PC2', 'PC3'])\n",
    "# fig = px.scatter_3d(df, x='PC1', y='PC2', z='PC3', title=\"PCA 3D Scatter Plot\")\n",
    "# fig.show()"
   ]
  },
  {
   "cell_type": "markdown",
   "id": "22d527ce-0de6-4d66-9dcf-8269b8f0531d",
   "metadata": {},
   "source": [
    "n_neighbors越大越注重全局結構，5 到 50 ，5~15適合高維度<br/>\n",
    "min_dist影響緊密程度，越大越稀疏，通常在0.0 到 0.5"
   ]
  },
  {
   "cell_type": "code",
   "execution_count": 9,
   "id": "a943fc0b-32fb-426f-bf04-3aa744b5b710",
   "metadata": {
    "jupyter": {
     "source_hidden": true
    },
    "tags": []
   },
   "outputs": [],
   "source": [
    "# import umap\n",
    "\n",
    "# n_neighbors_range = range(5, 21, 5)  # 5 to 20 inclusive\n",
    "# min_dist_range = np.linspace(0.1, 0.5, 5)  # 0.1 to 0.5 inclusive with 5 steps\n",
    "\n",
    "# for n_neighbors in n_neighbors_range:\n",
    "#     for min_dist in min_dist_range:\n",
    "#         start_time = time.time()\n",
    "\n",
    "#         reducer = umap.UMAP(\n",
    "#             n_jobs=-1, \n",
    "#             n_neighbors=n_neighbors, \n",
    "#             min_dist=min_dist, \n",
    "#             n_components=10, \n",
    "#             metric=\"hamming\")\n",
    "        \n",
    "#         lens1_umap = reducer.fit_transform(mapper_numpy)\n",
    "\n",
    "#         end_time = time.time()\n",
    "#         elapsed_time = end_time - start_time\n",
    "#         print(elapsed_time)\n",
    "\n",
    "#         # 將嵌入結果轉換為 DataFrame\n",
    "#         embedding_df = pd.DataFrame(lens1_umap, columns=[f'UMAP{i}' for i in range(1, lens1_umap.shape[1]+1)])\n",
    "#         embedding_df['label'] = dummy_data['死亡']\n",
    "\n",
    "#         # 視覺化結果\n",
    "#         plt.figure(figsize=(10, 8))\n",
    "#         sns.scatterplot(\n",
    "#             x='UMAP1', y='UMAP2',\n",
    "#             hue='label',  # 以 label 分類顏色\n",
    "#             palette='tab10',  # 色盤\n",
    "#             data=embedding_df,\n",
    "#             legend='full',\n",
    "#             alpha=0.8\n",
    "#         )\n",
    "#         plt.title('UMAP Projection of the Dataset')\n",
    "\n",
    "#         # Save plot\n",
    "#         plot_path = os.path.join(\"Version3/GridSearch/UMAP/hamming\", f\"UMAP_n{n_neighbors}_d{min_dist:.2f}.png\")\n",
    "#         plt.savefig(plot_path)\n",
    "#         plt.close()"
   ]
  },
  {
   "cell_type": "code",
   "execution_count": 10,
   "id": "4291cecc-2184-4da4-81f1-0cfb79c6ef17",
   "metadata": {},
   "outputs": [
    {
     "name": "stderr",
     "output_type": "stream",
     "text": [
      "C:\\Users\\USER\\anaconda3\\lib\\site-packages\\umap\\umap_.py:1887: UserWarning: gradient function is not yet implemented for hamming distance metric; inverse_transform will be unavailable\n",
      "  warn(\n"
     ]
    },
    {
     "name": "stdout",
     "output_type": "stream",
     "text": [
      "202.7934136390686\n"
     ]
    }
   ],
   "source": [
    "import umap\n",
    "\n",
    "start_time = time.time()\n",
    "\n",
    "reducer = umap.UMAP(\n",
    "    n_jobs=-1, \n",
    "    n_neighbors=100, \n",
    "    min_dist=0.25, \n",
    "    n_components=10, \n",
    "    metric=\"hamming\")\n",
    "\n",
    "lens1_umap = reducer.fit_transform(mapper_numpy)\n",
    "\n",
    "end_time = time.time()\n",
    "elapsed_time = end_time - start_time\n",
    "print(elapsed_time)"
   ]
  },
  {
   "cell_type": "code",
   "execution_count": 94,
   "id": "2c1ee35d-3e5f-4e5f-9a4e-e86ad18a1f31",
   "metadata": {},
   "outputs": [],
   "source": [
    "# # 將嵌入結果轉換為 DataFrame\n",
    "# embedding_df = pd.DataFrame(lens1_umap, columns=[f'UMAP{i}' for i in range(1, lens1_umap.shape[1]+1)])\n",
    "# embedding_df['label'] = dummy_data['死亡']\n",
    "\n",
    "# # 視覺化結果\n",
    "# plt.figure(figsize=(10, 8))\n",
    "# sns.scatterplot(\n",
    "#     x='UMAP1', y='UMAP2',\n",
    "#     hue='label',  # 以 label 分類顏色\n",
    "#     palette='tab10',  # 色盤\n",
    "#     data=embedding_df,\n",
    "#     legend='full',\n",
    "#     alpha=0.8\n",
    "# )\n",
    "# plt.title('UMAP Projection of the Dataset')\n",
    "# plt.show()"
   ]
  },
  {
   "cell_type": "markdown",
   "id": "9d2281c9-a8eb-4775-9df7-3467dc4938d4",
   "metadata": {},
   "source": [
    "### 目前最佳參數為interval=10, overlap=0.6, cluster=10 (PCA)"
   ]
  },
  {
   "cell_type": "code",
   "execution_count": 11,
   "id": "60bf03be-a562-4ed8-9414-4dc5d7dd8c95",
   "metadata": {},
   "outputs": [],
   "source": [
    "import sys\n",
    "import os\n",
    "\n",
    "# 將專案的根目錄加入 sys.path\n",
    "project_path = os.path.abspath(os.path.dirname('/Users/wangqiqian/Desktop/TrafficTDApython/Version3'))  # 專案的根目錄\n",
    "sys.path.append(project_path)"
   ]
  },
  {
   "cell_type": "code",
   "execution_count": 15,
   "id": "62ebfe06-7d7d-4fd9-b985-931fc2900963",
   "metadata": {},
   "outputs": [
    {
     "ename": "BrokenProcessPool",
     "evalue": "A task has failed to un-serialize. Please ensure that the arguments of the function are all picklable.",
     "output_type": "error",
     "traceback": [
      "\u001b[1;31m---------------------------------------------------------------------------\u001b[0m",
      "\u001b[1;31m_RemoteTraceback\u001b[0m                          Traceback (most recent call last)",
      "\u001b[1;31m_RemoteTraceback\u001b[0m: \n\"\"\"\nTraceback (most recent call last):\n  File \"C:\\Users\\USER\\anaconda3\\lib\\site-packages\\joblib\\externals\\loky\\process_executor.py\", line 426, in _process_worker\n    call_item = call_queue.get(block=True, timeout=timeout)\n  File \"C:\\Users\\USER\\anaconda3\\lib\\multiprocessing\\queues.py\", line 122, in get\n    return _ForkingPickler.loads(res)\nModuleNotFoundError: No module named 'Version3'\n\"\"\"",
      "\nThe above exception was the direct cause of the following exception:\n",
      "\u001b[1;31mBrokenProcessPool\u001b[0m                         Traceback (most recent call last)",
      "Cell \u001b[1;32mIn[15], line 14\u001b[0m\n\u001b[0;32m      3\u001b[0m mapper_algo1 \u001b[38;5;241m=\u001b[39m MapperAlgorithm(\n\u001b[0;32m      4\u001b[0m     cover \u001b[38;5;241m=\u001b[39m CubicalCover(\n\u001b[0;32m      5\u001b[0m         n_intervals \u001b[38;5;241m=\u001b[39m \u001b[38;5;241m5\u001b[39m,\n\u001b[1;32m   (...)\u001b[0m\n\u001b[0;32m     10\u001b[0m         verbose \u001b[38;5;241m=\u001b[39m \u001b[38;5;28;01mTrue\u001b[39;00m)\n\u001b[0;32m     11\u001b[0m )\n\u001b[0;32m     13\u001b[0m \u001b[38;5;66;03m# mapper_graph1 = mapper_algo1.fit_transform(mapper_numpy, lens1)\u001b[39;00m\n\u001b[1;32m---> 14\u001b[0m mapper_graph1 \u001b[38;5;241m=\u001b[39m \u001b[43mmapper_algo1\u001b[49m\u001b[38;5;241;43m.\u001b[39;49m\u001b[43mfit_transform\u001b[49m\u001b[43m(\u001b[49m\u001b[43mmapper_numpy\u001b[49m\u001b[43m,\u001b[49m\u001b[43m \u001b[49m\u001b[43mlens1_umap\u001b[49m\u001b[43m)\u001b[49m\n\u001b[0;32m     16\u001b[0m end_time \u001b[38;5;241m=\u001b[39m time\u001b[38;5;241m.\u001b[39mtime()\n\u001b[0;32m     17\u001b[0m elapsed_time \u001b[38;5;241m=\u001b[39m end_time \u001b[38;5;241m-\u001b[39m start_time\n",
      "File \u001b[1;32m~\\Desktop\\TrafficTDApython\\Version3\\tdamapper\\core.py:478\u001b[0m, in \u001b[0;36mMapperAlgorithm.fit_transform\u001b[1;34m(self, X, y)\u001b[0m\n\u001b[0;32m    464\u001b[0m \u001b[38;5;28;01mdef\u001b[39;00m \u001b[38;5;21mfit_transform\u001b[39m(\u001b[38;5;28mself\u001b[39m, X, y):\n\u001b[0;32m    465\u001b[0m \u001b[38;5;250m    \u001b[39m\u001b[38;5;124;03m\"\"\"\u001b[39;00m\n\u001b[0;32m    466\u001b[0m \u001b[38;5;124;03m    Create the Mapper graph.\u001b[39;00m\n\u001b[0;32m    467\u001b[0m \n\u001b[1;32m   (...)\u001b[0m\n\u001b[0;32m    476\u001b[0m \u001b[38;5;124;03m    :rtype: :class:`networkx.Graph`\u001b[39;00m\n\u001b[0;32m    477\u001b[0m \u001b[38;5;124;03m    \"\"\"\u001b[39;00m\n\u001b[1;32m--> 478\u001b[0m     \u001b[38;5;28;43mself\u001b[39;49m\u001b[38;5;241;43m.\u001b[39;49m\u001b[43mfit\u001b[49m\u001b[43m(\u001b[49m\u001b[43mX\u001b[49m\u001b[43m,\u001b[49m\u001b[43m \u001b[49m\u001b[43my\u001b[49m\u001b[43m)\u001b[49m\n\u001b[0;32m    479\u001b[0m     \u001b[38;5;28;01mreturn\u001b[39;00m \u001b[38;5;28mself\u001b[39m\u001b[38;5;241m.\u001b[39mgraph_\n",
      "File \u001b[1;32m~\\Desktop\\TrafficTDApython\\Version3\\tdamapper\\core.py:454\u001b[0m, in \u001b[0;36mMapperAlgorithm.fit\u001b[1;34m(self, X, y)\u001b[0m\n\u001b[0;32m    452\u001b[0m \u001b[38;5;28mself\u001b[39m\u001b[38;5;241m.\u001b[39m__n_jobs \u001b[38;5;241m=\u001b[39m \u001b[38;5;28mself\u001b[39m\u001b[38;5;241m.\u001b[39mn_jobs\n\u001b[0;32m    453\u001b[0m y \u001b[38;5;241m=\u001b[39m X \u001b[38;5;28;01mif\u001b[39;00m y \u001b[38;5;129;01mis\u001b[39;00m \u001b[38;5;28;01mNone\u001b[39;00m \u001b[38;5;28;01melse\u001b[39;00m y\n\u001b[1;32m--> 454\u001b[0m \u001b[38;5;28mself\u001b[39m\u001b[38;5;241m.\u001b[39mgraph_ \u001b[38;5;241m=\u001b[39m \u001b[43mmapper_graph\u001b[49m\u001b[43m(\u001b[49m\n\u001b[0;32m    455\u001b[0m \u001b[43m    \u001b[49m\u001b[43mX\u001b[49m\u001b[43m,\u001b[49m\n\u001b[0;32m    456\u001b[0m \u001b[43m    \u001b[49m\u001b[43my\u001b[49m\u001b[43m,\u001b[49m\n\u001b[0;32m    457\u001b[0m \u001b[43m    \u001b[49m\u001b[38;5;28;43mself\u001b[39;49m\u001b[38;5;241;43m.\u001b[39;49m\u001b[43m__cover\u001b[49m\u001b[43m,\u001b[49m\n\u001b[0;32m    458\u001b[0m \u001b[43m    \u001b[49m\u001b[38;5;28;43mself\u001b[39;49m\u001b[38;5;241;43m.\u001b[39;49m\u001b[43m__clustering\u001b[49m\u001b[43m,\u001b[49m\n\u001b[0;32m    459\u001b[0m \u001b[43m    \u001b[49m\u001b[43mn_jobs\u001b[49m\u001b[38;5;241;43m=\u001b[39;49m\u001b[38;5;28;43mself\u001b[39;49m\u001b[38;5;241;43m.\u001b[39;49m\u001b[43m__n_jobs\u001b[49m\u001b[43m,\u001b[49m\n\u001b[0;32m    460\u001b[0m \u001b[43m\u001b[49m\u001b[43m)\u001b[49m\n\u001b[0;32m    461\u001b[0m \u001b[38;5;28mself\u001b[39m\u001b[38;5;241m.\u001b[39m_set_n_features_in(X)\n\u001b[0;32m    462\u001b[0m \u001b[38;5;28;01mreturn\u001b[39;00m \u001b[38;5;28mself\u001b[39m\n",
      "File \u001b[1;32m~\\Desktop\\TrafficTDApython\\Version3\\tdamapper\\core.py:195\u001b[0m, in \u001b[0;36mmapper_graph\u001b[1;34m(X, y, cover, clustering, n_jobs)\u001b[0m\n\u001b[0;32m    163\u001b[0m \u001b[38;5;28;01mdef\u001b[39;00m \u001b[38;5;21mmapper_graph\u001b[39m(X, y, cover, clustering, n_jobs\u001b[38;5;241m=\u001b[39m\u001b[38;5;241m-\u001b[39m\u001b[38;5;241m1\u001b[39m):\n\u001b[0;32m    164\u001b[0m \u001b[38;5;250m    \u001b[39m\u001b[38;5;124;03m\"\"\"\u001b[39;00m\n\u001b[0;32m    165\u001b[0m \u001b[38;5;124;03m    Create the Mapper graph.\u001b[39;00m\n\u001b[0;32m    166\u001b[0m \n\u001b[1;32m   (...)\u001b[0m\n\u001b[0;32m    193\u001b[0m \u001b[38;5;124;03m    :rtype: :class:`networkx.Graph`\u001b[39;00m\n\u001b[0;32m    194\u001b[0m \u001b[38;5;124;03m    \"\"\"\u001b[39;00m\n\u001b[1;32m--> 195\u001b[0m     itm_lbls \u001b[38;5;241m=\u001b[39m \u001b[43mmapper_labels\u001b[49m\u001b[43m(\u001b[49m\u001b[43mX\u001b[49m\u001b[43m,\u001b[49m\u001b[43m \u001b[49m\u001b[43my\u001b[49m\u001b[43m,\u001b[49m\u001b[43m \u001b[49m\u001b[43mcover\u001b[49m\u001b[43m,\u001b[49m\u001b[43m \u001b[49m\u001b[43mclustering\u001b[49m\u001b[43m,\u001b[49m\u001b[43m \u001b[49m\u001b[43mn_jobs\u001b[49m\u001b[38;5;241;43m=\u001b[39;49m\u001b[43mn_jobs\u001b[49m\u001b[43m)\u001b[49m\n\u001b[0;32m    196\u001b[0m     graph \u001b[38;5;241m=\u001b[39m nx\u001b[38;5;241m.\u001b[39mGraph()\n\u001b[0;32m    197\u001b[0m     \u001b[38;5;28;01mfor\u001b[39;00m n, lbls \u001b[38;5;129;01min\u001b[39;00m \u001b[38;5;28menumerate\u001b[39m(itm_lbls):\n",
      "File \u001b[1;32m~\\Desktop\\TrafficTDApython\\Version3\\tdamapper\\core.py:98\u001b[0m, in \u001b[0;36mmapper_labels\u001b[1;34m(X, y, cover, clustering, n_jobs)\u001b[0m\n\u001b[0;32m     89\u001b[0m     \u001b[38;5;28;01mreturn\u001b[39;00m local_ids, local_lbls\n\u001b[0;32m     91\u001b[0m \u001b[38;5;66;03m# def _run_clustering(local_ids):\u001b[39;00m\n\u001b[0;32m     92\u001b[0m \u001b[38;5;66;03m#     local_X = [X[j] for j in local_ids]\u001b[39;00m\n\u001b[0;32m     93\u001b[0m \u001b[38;5;66;03m#     best_k = elbow_method(local_X)\u001b[39;00m\n\u001b[0;32m     94\u001b[0m \u001b[38;5;66;03m#     clust = AgglomerativeClustering(n_clusters=best_k)\u001b[39;00m\n\u001b[0;32m     95\u001b[0m \u001b[38;5;66;03m#     local_lbls = clust.fit(local_X).labels_\u001b[39;00m\n\u001b[0;32m     96\u001b[0m \u001b[38;5;66;03m#     return local_ids, local_lbls\u001b[39;00m\n\u001b[1;32m---> 98\u001b[0m _lbls \u001b[38;5;241m=\u001b[39m \u001b[43mParallel\u001b[49m\u001b[43m(\u001b[49m\u001b[43mn_jobs\u001b[49m\u001b[43m)\u001b[49m\u001b[43m(\u001b[49m\n\u001b[0;32m     99\u001b[0m \u001b[43m    \u001b[49m\u001b[43mdelayed\u001b[49m\u001b[43m(\u001b[49m\u001b[43m_run_clustering\u001b[49m\u001b[43m)\u001b[49m\u001b[43m(\u001b[49m\u001b[43mlocal_ids\u001b[49m\u001b[43m)\u001b[49m\u001b[43m \u001b[49m\u001b[38;5;28;43;01mfor\u001b[39;49;00m\u001b[43m \u001b[49m\u001b[43mlocal_ids\u001b[49m\u001b[43m \u001b[49m\u001b[38;5;129;43;01min\u001b[39;49;00m\u001b[43m \u001b[49m\u001b[43mcover\u001b[49m\u001b[38;5;241;43m.\u001b[39;49m\u001b[43mapply\u001b[49m\u001b[43m(\u001b[49m\u001b[43my\u001b[49m\u001b[43m)\u001b[49m\n\u001b[0;32m    100\u001b[0m \u001b[43m\u001b[49m\u001b[43m)\u001b[49m\n\u001b[0;32m    101\u001b[0m itm_lbls \u001b[38;5;241m=\u001b[39m [[] \u001b[38;5;28;01mfor\u001b[39;00m _ \u001b[38;5;129;01min\u001b[39;00m X]\n\u001b[0;32m    102\u001b[0m max_lbl \u001b[38;5;241m=\u001b[39m \u001b[38;5;241m0\u001b[39m\n",
      "File \u001b[1;32m~\\anaconda3\\lib\\site-packages\\joblib\\parallel.py:1950\u001b[0m, in \u001b[0;36mParallel.__call__\u001b[1;34m(self, iterable)\u001b[0m\n\u001b[0;32m   1944\u001b[0m \u001b[38;5;28mself\u001b[39m\u001b[38;5;241m.\u001b[39m_call_ref \u001b[38;5;241m=\u001b[39m weakref\u001b[38;5;241m.\u001b[39mref(output)\n\u001b[0;32m   1946\u001b[0m \u001b[38;5;66;03m# The first item from the output is blank, but it makes the interpreter\u001b[39;00m\n\u001b[0;32m   1947\u001b[0m \u001b[38;5;66;03m# progress until it enters the Try/Except block of the generator and\u001b[39;00m\n\u001b[0;32m   1948\u001b[0m \u001b[38;5;66;03m# reach the first `yield` statement. This starts the aynchronous\u001b[39;00m\n\u001b[0;32m   1949\u001b[0m \u001b[38;5;66;03m# dispatch of the tasks to the workers.\u001b[39;00m\n\u001b[1;32m-> 1950\u001b[0m \u001b[38;5;28;43mnext\u001b[39;49m\u001b[43m(\u001b[49m\u001b[43moutput\u001b[49m\u001b[43m)\u001b[49m\n\u001b[0;32m   1952\u001b[0m \u001b[38;5;28;01mreturn\u001b[39;00m output \u001b[38;5;28;01mif\u001b[39;00m \u001b[38;5;28mself\u001b[39m\u001b[38;5;241m.\u001b[39mreturn_generator \u001b[38;5;28;01melse\u001b[39;00m \u001b[38;5;28mlist\u001b[39m(output)\n",
      "File \u001b[1;32m~\\anaconda3\\lib\\site-packages\\joblib\\parallel.py:1588\u001b[0m, in \u001b[0;36mParallel._get_outputs\u001b[1;34m(self, iterator, pre_dispatch)\u001b[0m\n\u001b[0;32m   1586\u001b[0m detach_generator_exit \u001b[38;5;241m=\u001b[39m \u001b[38;5;28;01mFalse\u001b[39;00m\n\u001b[0;32m   1587\u001b[0m \u001b[38;5;28;01mtry\u001b[39;00m:\n\u001b[1;32m-> 1588\u001b[0m     \u001b[38;5;28;43mself\u001b[39;49m\u001b[38;5;241;43m.\u001b[39;49m\u001b[43m_start\u001b[49m\u001b[43m(\u001b[49m\u001b[43miterator\u001b[49m\u001b[43m,\u001b[49m\u001b[43m \u001b[49m\u001b[43mpre_dispatch\u001b[49m\u001b[43m)\u001b[49m\n\u001b[0;32m   1589\u001b[0m     \u001b[38;5;66;03m# first yield returns None, for internal use only. This ensures\u001b[39;00m\n\u001b[0;32m   1590\u001b[0m     \u001b[38;5;66;03m# that we enter the try/except block and start dispatching the\u001b[39;00m\n\u001b[0;32m   1591\u001b[0m     \u001b[38;5;66;03m# tasks.\u001b[39;00m\n\u001b[0;32m   1592\u001b[0m     \u001b[38;5;28;01myield\u001b[39;00m\n",
      "File \u001b[1;32m~\\anaconda3\\lib\\site-packages\\joblib\\parallel.py:1574\u001b[0m, in \u001b[0;36mParallel._start\u001b[1;34m(self, iterator, pre_dispatch)\u001b[0m\n\u001b[0;32m   1571\u001b[0m \u001b[38;5;28;01mif\u001b[39;00m \u001b[38;5;28mself\u001b[39m\u001b[38;5;241m.\u001b[39mdispatch_one_batch(iterator):\n\u001b[0;32m   1572\u001b[0m     \u001b[38;5;28mself\u001b[39m\u001b[38;5;241m.\u001b[39m_iterating \u001b[38;5;241m=\u001b[39m \u001b[38;5;28mself\u001b[39m\u001b[38;5;241m.\u001b[39m_original_iterator \u001b[38;5;129;01mis\u001b[39;00m \u001b[38;5;129;01mnot\u001b[39;00m \u001b[38;5;28;01mNone\u001b[39;00m\n\u001b[1;32m-> 1574\u001b[0m \u001b[38;5;28;01mwhile\u001b[39;00m \u001b[38;5;28;43mself\u001b[39;49m\u001b[38;5;241;43m.\u001b[39;49m\u001b[43mdispatch_one_batch\u001b[49m\u001b[43m(\u001b[49m\u001b[43miterator\u001b[49m\u001b[43m)\u001b[49m:\n\u001b[0;32m   1575\u001b[0m     \u001b[38;5;28;01mpass\u001b[39;00m\n\u001b[0;32m   1577\u001b[0m \u001b[38;5;28;01mif\u001b[39;00m pre_dispatch \u001b[38;5;241m==\u001b[39m \u001b[38;5;124m\"\u001b[39m\u001b[38;5;124mall\u001b[39m\u001b[38;5;124m\"\u001b[39m:\n\u001b[0;32m   1578\u001b[0m     \u001b[38;5;66;03m# The iterable was consumed all at once by the above for loop.\u001b[39;00m\n\u001b[0;32m   1579\u001b[0m     \u001b[38;5;66;03m# No need to wait for async callbacks to trigger to\u001b[39;00m\n\u001b[0;32m   1580\u001b[0m     \u001b[38;5;66;03m# consumption.\u001b[39;00m\n",
      "File \u001b[1;32m~\\anaconda3\\lib\\site-packages\\joblib\\parallel.py:1462\u001b[0m, in \u001b[0;36mParallel.dispatch_one_batch\u001b[1;34m(self, iterator)\u001b[0m\n\u001b[0;32m   1460\u001b[0m     \u001b[38;5;28;01mreturn\u001b[39;00m \u001b[38;5;28;01mFalse\u001b[39;00m\n\u001b[0;32m   1461\u001b[0m \u001b[38;5;28;01melse\u001b[39;00m:\n\u001b[1;32m-> 1462\u001b[0m     \u001b[38;5;28;43mself\u001b[39;49m\u001b[38;5;241;43m.\u001b[39;49m\u001b[43m_dispatch\u001b[49m\u001b[43m(\u001b[49m\u001b[43mtasks\u001b[49m\u001b[43m)\u001b[49m\n\u001b[0;32m   1463\u001b[0m     \u001b[38;5;28;01mreturn\u001b[39;00m \u001b[38;5;28;01mTrue\u001b[39;00m\n",
      "File \u001b[1;32m~\\anaconda3\\lib\\site-packages\\joblib\\parallel.py:1384\u001b[0m, in \u001b[0;36mParallel._dispatch\u001b[1;34m(self, batch)\u001b[0m\n\u001b[0;32m   1379\u001b[0m batch_tracker \u001b[38;5;241m=\u001b[39m BatchCompletionCallBack(\n\u001b[0;32m   1380\u001b[0m     dispatch_timestamp, batch_size, \u001b[38;5;28mself\u001b[39m\n\u001b[0;32m   1381\u001b[0m )\n\u001b[0;32m   1382\u001b[0m \u001b[38;5;28mself\u001b[39m\u001b[38;5;241m.\u001b[39m_jobs\u001b[38;5;241m.\u001b[39mappend(batch_tracker)\n\u001b[1;32m-> 1384\u001b[0m job \u001b[38;5;241m=\u001b[39m \u001b[38;5;28;43mself\u001b[39;49m\u001b[38;5;241;43m.\u001b[39;49m\u001b[43m_backend\u001b[49m\u001b[38;5;241;43m.\u001b[39;49m\u001b[43mapply_async\u001b[49m\u001b[43m(\u001b[49m\u001b[43mbatch\u001b[49m\u001b[43m,\u001b[49m\u001b[43m \u001b[49m\u001b[43mcallback\u001b[49m\u001b[38;5;241;43m=\u001b[39;49m\u001b[43mbatch_tracker\u001b[49m\u001b[43m)\u001b[49m\n\u001b[0;32m   1385\u001b[0m batch_tracker\u001b[38;5;241m.\u001b[39mregister_job(job)\n",
      "File \u001b[1;32m~\\anaconda3\\lib\\site-packages\\joblib\\_parallel_backends.py:600\u001b[0m, in \u001b[0;36mLokyBackend.apply_async\u001b[1;34m(self, func, callback)\u001b[0m\n\u001b[0;32m    598\u001b[0m \u001b[38;5;28;01mdef\u001b[39;00m \u001b[38;5;21mapply_async\u001b[39m(\u001b[38;5;28mself\u001b[39m, func, callback\u001b[38;5;241m=\u001b[39m\u001b[38;5;28;01mNone\u001b[39;00m):\n\u001b[0;32m    599\u001b[0m \u001b[38;5;250m    \u001b[39m\u001b[38;5;124;03m\"\"\"Schedule a func to be run\"\"\"\u001b[39;00m\n\u001b[1;32m--> 600\u001b[0m     future \u001b[38;5;241m=\u001b[39m \u001b[38;5;28;43mself\u001b[39;49m\u001b[38;5;241;43m.\u001b[39;49m\u001b[43m_workers\u001b[49m\u001b[38;5;241;43m.\u001b[39;49m\u001b[43msubmit\u001b[49m\u001b[43m(\u001b[49m\u001b[43mfunc\u001b[49m\u001b[43m)\u001b[49m\n\u001b[0;32m    601\u001b[0m     \u001b[38;5;28;01mif\u001b[39;00m callback \u001b[38;5;129;01mis\u001b[39;00m \u001b[38;5;129;01mnot\u001b[39;00m \u001b[38;5;28;01mNone\u001b[39;00m:\n\u001b[0;32m    602\u001b[0m         future\u001b[38;5;241m.\u001b[39madd_done_callback(callback)\n",
      "File \u001b[1;32m~\\anaconda3\\lib\\site-packages\\joblib\\externals\\loky\\reusable_executor.py:225\u001b[0m, in \u001b[0;36m_ReusablePoolExecutor.submit\u001b[1;34m(self, fn, *args, **kwargs)\u001b[0m\n\u001b[0;32m    223\u001b[0m \u001b[38;5;28;01mdef\u001b[39;00m \u001b[38;5;21msubmit\u001b[39m(\u001b[38;5;28mself\u001b[39m, fn, \u001b[38;5;241m*\u001b[39margs, \u001b[38;5;241m*\u001b[39m\u001b[38;5;241m*\u001b[39mkwargs):\n\u001b[0;32m    224\u001b[0m     \u001b[38;5;28;01mwith\u001b[39;00m \u001b[38;5;28mself\u001b[39m\u001b[38;5;241m.\u001b[39m_submit_resize_lock:\n\u001b[1;32m--> 225\u001b[0m         \u001b[38;5;28;01mreturn\u001b[39;00m \u001b[38;5;28msuper\u001b[39m()\u001b[38;5;241m.\u001b[39msubmit(fn, \u001b[38;5;241m*\u001b[39margs, \u001b[38;5;241m*\u001b[39m\u001b[38;5;241m*\u001b[39mkwargs)\n",
      "File \u001b[1;32m~\\anaconda3\\lib\\site-packages\\joblib\\externals\\loky\\process_executor.py:1226\u001b[0m, in \u001b[0;36mProcessPoolExecutor.submit\u001b[1;34m(self, fn, *args, **kwargs)\u001b[0m\n\u001b[0;32m   1224\u001b[0m \u001b[38;5;28;01mwith\u001b[39;00m \u001b[38;5;28mself\u001b[39m\u001b[38;5;241m.\u001b[39m_flags\u001b[38;5;241m.\u001b[39mshutdown_lock:\n\u001b[0;32m   1225\u001b[0m     \u001b[38;5;28;01mif\u001b[39;00m \u001b[38;5;28mself\u001b[39m\u001b[38;5;241m.\u001b[39m_flags\u001b[38;5;241m.\u001b[39mbroken \u001b[38;5;129;01mis\u001b[39;00m \u001b[38;5;129;01mnot\u001b[39;00m \u001b[38;5;28;01mNone\u001b[39;00m:\n\u001b[1;32m-> 1226\u001b[0m         \u001b[38;5;28;01mraise\u001b[39;00m \u001b[38;5;28mself\u001b[39m\u001b[38;5;241m.\u001b[39m_flags\u001b[38;5;241m.\u001b[39mbroken\n\u001b[0;32m   1227\u001b[0m     \u001b[38;5;28;01mif\u001b[39;00m \u001b[38;5;28mself\u001b[39m\u001b[38;5;241m.\u001b[39m_flags\u001b[38;5;241m.\u001b[39mshutdown:\n\u001b[0;32m   1228\u001b[0m         \u001b[38;5;28;01mraise\u001b[39;00m ShutdownExecutorError(\n\u001b[0;32m   1229\u001b[0m             \u001b[38;5;124m\"\u001b[39m\u001b[38;5;124mcannot schedule new futures after shutdown\u001b[39m\u001b[38;5;124m\"\u001b[39m\n\u001b[0;32m   1230\u001b[0m         )\n",
      "\u001b[1;31mBrokenProcessPool\u001b[0m: A task has failed to un-serialize. Please ensure that the arguments of the function are all picklable."
     ]
    }
   ],
   "source": [
    "start_time = time.time()\n",
    "\n",
    "mapper_algo1 = MapperAlgorithm(\n",
    "    cover = CubicalCover(\n",
    "        n_intervals = 5,\n",
    "        overlap_frac = 0.5\n",
    "    ),\n",
    "    clustering = FailSafeClustering(\n",
    "        clustering = AgglomerativeClustering(5, linkage='ward'),\n",
    "        verbose = True)\n",
    ")\n",
    "\n",
    "# mapper_graph1 = mapper_algo1.fit_transform(mapper_numpy, lens1)\n",
    "mapper_graph1 = mapper_algo1.fit_transform(mapper_numpy, lens1_umap)\n",
    "\n",
    "end_time = time.time()\n",
    "elapsed_time = end_time - start_time\n",
    "print(elapsed_time)"
   ]
  },
  {
   "cell_type": "code",
   "execution_count": 18,
   "id": "7378f777-4701-4a73-99f1-82a61ec14739",
   "metadata": {
    "tags": []
   },
   "outputs": [],
   "source": [
    "mapper_plot1 = MapperLayoutInteractive(\n",
    "    mapper_graph1,\n",
    "    # colors = data_to_map[['號誌-號誌種類名稱_無號誌']].to_numpy(),\n",
    "    colors=rbind_data['死亡'].to_numpy(),\n",
    "    cmap = 'jet',\n",
    "    # agg = np.nanmean,\n",
    "    # agg = most_frequent_nonan,\n",
    "    agg = average_encoded_label,\n",
    "    dim = 3,\n",
    "    iterations = 200,\n",
    "    seed = 6,\n",
    "    width = 800,\n",
    "    height = 500)"
   ]
  },
  {
   "cell_type": "code",
   "execution_count": 16,
   "id": "8c2d4b32-5829-4c5d-971c-68cf2c931b36",
   "metadata": {},
   "outputs": [],
   "source": [
    "# fig_mean1 = mapper_plot1.plot()\n",
    "# fig_mean1.show(config={'scrollZoom': True})"
   ]
  },
  {
   "cell_type": "code",
   "execution_count": 31,
   "id": "12ce97d2-a6f2-4ab7-b976-666a486d3625",
   "metadata": {},
   "outputs": [
    {
     "data": {
      "text/plain": [
       "0    0.995284\n",
       "1    0.004624\n",
       "2    0.000077\n",
       "3    0.000015\n",
       "Name: 死亡, dtype: float64"
      ]
     },
     "execution_count": 31,
     "metadata": {},
     "output_type": "execute_result"
    }
   ],
   "source": [
    "rbind_data['死亡'].value_counts(normalize=True)"
   ]
  },
  {
   "cell_type": "code",
   "execution_count": 78,
   "id": "e5169998-6b3e-4f02-b8d1-5b1e66d56676",
   "metadata": {},
   "outputs": [],
   "source": [
    "# mapper_plot1.update(\n",
    "#     colors=rbind_data['死亡'].to_numpy(),\n",
    "#     cmap='jet', \n",
    "#     # agg=average_encoded_label,\n",
    "#     # agg = np.nanmean,\n",
    "#     agg = average_encoded_label,\n",
    "# )\n",
    "\n",
    "# fig_std = mapper_plot1.plot()\n",
    "# fig_std.show(config={'scrollZoom': True})"
   ]
  },
  {
   "cell_type": "code",
   "execution_count": 75,
   "id": "59a7eaeb-cdab-4dce-97fb-e0649a249085",
   "metadata": {},
   "outputs": [
    {
     "data": {
      "text/plain": [
       "Index(['道路類別-第1當事者-名稱', '速限-第1當事者', '道路型態大類別名稱', '道路型態子類別名稱', '事故位置大類別名稱',\n",
       "       '事故位置子類別名稱', '路面狀況-路面鋪裝名稱', '路面狀況-路面狀態名稱', '路面狀況-路面缺陷名稱', '道路障礙-障礙物名稱',\n",
       "       '道路障礙-視距品質名稱', '道路障礙-視距名稱', '號誌-號誌種類名稱', '號誌-號誌動作名稱',\n",
       "       '車道劃分設施-分向設施大類別名稱', '車道劃分設施-分向設施子類別名稱', '車道劃分設施-分道設施-快車道或一般車道間名稱',\n",
       "       '車道劃分設施-分道設施-快慢車道間名稱', '車道劃分設施-分道設施-路面邊線名稱', '事故類型及型態大類別名稱',\n",
       "       '事故類型及型態子類別名稱', '死亡', '受傷'],\n",
       "      dtype='object')"
      ]
     },
     "execution_count": 75,
     "metadata": {},
     "output_type": "execute_result"
    }
   ],
   "source": [
    "rbind_data.columns"
   ]
  },
  {
   "cell_type": "markdown",
   "id": "97942c2f-666c-43dd-b148-089d7da3ad6e",
   "metadata": {},
   "source": [
    "## Get data info"
   ]
  },
  {
   "cell_type": "code",
   "execution_count": 40,
   "id": "1094011c-6b04-4ec1-8745-41c810c117c0",
   "metadata": {},
   "outputs": [],
   "source": [
    "x = vars(mapper_plot1._MapperLayoutInteractive__fig)['_data_objs'][1]['x']\n",
    "y = vars(mapper_plot1._MapperLayoutInteractive__fig)['_data_objs'][1]['y']\n",
    "z = vars(mapper_plot1._MapperLayoutInteractive__fig)['_data_objs'][1]['z']\n",
    "\n",
    "threeDimData = pd.DataFrame({'x': x, 'y': y, 'z': z})\n",
    "\n",
    "import re\n",
    "data_tuple = vars(mapper_plot1._MapperLayoutInteractive__fig)['_data_objs'][1]['text']\n",
    "\n",
    "data = []\n",
    "for item in data_tuple:\n",
    "    color = int(re.search(r'color: (-?\\d+)', item).group(1))\n",
    "    node = int(re.search(r'node: (\\d+)', item).group(1))\n",
    "    size = int(re.search(r'size: (\\d+)', item).group(1))\n",
    "    data.append({'color': color, 'node': node, 'size': size})\n",
    "component_info = pd.DataFrame(data)\n",
    "\n",
    "full_info = pd.concat([component_info, threeDimData], axis=1)\n",
    "\n",
    "mp_content_origin = vars(mapper_plot1._MapperLayoutInteractive__graph)['_node']\n",
    "\n",
    "mp_content = pd.DataFrame.from_dict(mp_content_origin, orient='index')\n",
    "mp_content.reset_index(inplace=True)\n",
    "mp_content.rename(columns={'index': 'node'}, inplace=True)\n",
    "\n",
    "full_info = pd.merge(full_info, mp_content, on=['node', 'size'], how='inner')"
   ]
  },
  {
   "cell_type": "code",
   "execution_count": 45,
   "id": "376adaa5-9cbf-45ff-8b32-369dbaed3b6a",
   "metadata": {},
   "outputs": [
    {
     "name": "stdout",
     "output_type": "stream",
     "text": [
      "11\n",
      "01連接點數量 0\n"
     ]
    },
    {
     "data": {
      "text/plain": [
       "False"
      ]
     },
     "execution_count": 45,
     "metadata": {},
     "output_type": "execute_result"
    }
   ],
   "source": [
    "calinski_data = get_calinski_from_db(full_info, 0.02)\n",
    "labels = calinski_data[3]\n",
    "db = calinski_data[2]\n",
    "n_clusters_ = calinski_data[4]\n",
    "\n",
    "print(n_clusters_)\n",
    "\n",
    "# do_plot(full_info, calinski_data, labels, db, n_clusters_)\n",
    "\n",
    "label_0 = full_info[full_info['label'] == 0]\n",
    "label_1 = full_info[full_info['label'] == 1]\n",
    "label_out = full_info[(full_info['label'] != 1) & (full_info['label'] != 0)]\n",
    "\n",
    "count_0 = get_count_dict(label_0)\n",
    "count_1 = get_count_dict(label_1)\n",
    "count_out = get_count_dict(label_out)\n",
    "full_0 = rbind_data.loc[count_0.keys()]\n",
    "full_1 = rbind_data.loc[count_1.keys()]\n",
    "full_out = rbind_data.loc[count_out.keys()]\n",
    "# 重疊\n",
    "lst01 = list(count_0.keys() & count_1.keys())\n",
    "full_01 = full_0.loc[lst01]\n",
    "\n",
    "full_0 = full_0.drop(lst01)\n",
    "full_1 = full_1.drop(lst01)\n",
    "\n",
    "print('01連接點數量', len(lst01))\n",
    "\n",
    "full_01.shape[0] + full_0.shape[0] + full_1.shape[0] == rbind_data.shape[0]"
   ]
  },
  {
   "cell_type": "markdown",
   "id": "9892b3b5-aaa6-429d-a548-2b36d5e9d341",
   "metadata": {},
   "source": [
    "## Chi test"
   ]
  },
  {
   "cell_type": "code",
   "execution_count": 162,
   "id": "449bbb3b-bbf3-442d-9cf3-b0aacaf7200a",
   "metadata": {},
   "outputs": [],
   "source": [
    "# full_1#.drop(['緯度'], axis=1)"
   ]
  },
  {
   "cell_type": "code",
   "execution_count": 242,
   "id": "ad28fcc0-75b2-4468-b7af-efb4a2a0392b",
   "metadata": {},
   "outputs": [
    {
     "data": {
      "text/html": [
       "<div>\n",
       "<style scoped>\n",
       "    .dataframe tbody tr th:only-of-type {\n",
       "        vertical-align: middle;\n",
       "    }\n",
       "\n",
       "    .dataframe tbody tr th {\n",
       "        vertical-align: top;\n",
       "    }\n",
       "\n",
       "    .dataframe thead th {\n",
       "        text-align: right;\n",
       "    }\n",
       "</style>\n",
       "<table border=\"1\" class=\"dataframe\">\n",
       "  <thead>\n",
       "    <tr style=\"text-align: right;\">\n",
       "      <th></th>\n",
       "      <th>chi2</th>\n",
       "      <th>p_value</th>\n",
       "    </tr>\n",
       "  </thead>\n",
       "  <tbody>\n",
       "    <tr>\n",
       "      <th>號誌-號誌動作名稱</th>\n",
       "      <td>64834.874228</td>\n",
       "      <td>0.000000e+00</td>\n",
       "    </tr>\n",
       "    <tr>\n",
       "      <th>號誌-號誌種類名稱</th>\n",
       "      <td>64834.636850</td>\n",
       "      <td>0.000000e+00</td>\n",
       "    </tr>\n",
       "    <tr>\n",
       "      <th>道路型態子類別名稱</th>\n",
       "      <td>18483.013539</td>\n",
       "      <td>0.000000e+00</td>\n",
       "    </tr>\n",
       "    <tr>\n",
       "      <th>道路型態大類別名稱</th>\n",
       "      <td>15501.660564</td>\n",
       "      <td>0.000000e+00</td>\n",
       "    </tr>\n",
       "    <tr>\n",
       "      <th>事故位置子類別名稱</th>\n",
       "      <td>14824.813827</td>\n",
       "      <td>0.000000e+00</td>\n",
       "    </tr>\n",
       "    <tr>\n",
       "      <th>事故位置大類別名稱</th>\n",
       "      <td>14186.974231</td>\n",
       "      <td>0.000000e+00</td>\n",
       "    </tr>\n",
       "    <tr>\n",
       "      <th>事故類型及型態子類別名稱</th>\n",
       "      <td>2402.656097</td>\n",
       "      <td>0.000000e+00</td>\n",
       "    </tr>\n",
       "    <tr>\n",
       "      <th>車道劃分設施-分向設施大類別名稱</th>\n",
       "      <td>1308.721667</td>\n",
       "      <td>4.277415e-282</td>\n",
       "    </tr>\n",
       "    <tr>\n",
       "      <th>事故類型及型態大類別名稱</th>\n",
       "      <td>1010.165255</td>\n",
       "      <td>4.419794e-220</td>\n",
       "    </tr>\n",
       "    <tr>\n",
       "      <th>道路類別-第1當事者-名稱</th>\n",
       "      <td>903.112977</td>\n",
       "      <td>1.203323e-189</td>\n",
       "    </tr>\n",
       "    <tr>\n",
       "      <th>車道劃分設施-分道設施-快車道或一般車道間名稱</th>\n",
       "      <td>808.323074</td>\n",
       "      <td>1.209213e-173</td>\n",
       "    </tr>\n",
       "    <tr>\n",
       "      <th>車道劃分設施-分向設施子類別名稱</th>\n",
       "      <td>793.279054</td>\n",
       "      <td>3.290344e-169</td>\n",
       "    </tr>\n",
       "    <tr>\n",
       "      <th>車道劃分設施-分道設施-路面邊線名稱</th>\n",
       "      <td>482.901175</td>\n",
       "      <td>4.994114e-107</td>\n",
       "    </tr>\n",
       "    <tr>\n",
       "      <th>道路障礙-障礙物名稱</th>\n",
       "      <td>145.145254</td>\n",
       "      <td>1.440711e-29</td>\n",
       "    </tr>\n",
       "    <tr>\n",
       "      <th>車道劃分設施-分道設施-快慢車道間名稱</th>\n",
       "      <td>142.332476</td>\n",
       "      <td>8.937778e-30</td>\n",
       "    </tr>\n",
       "    <tr>\n",
       "      <th>道路障礙-視距名稱</th>\n",
       "      <td>125.486460</td>\n",
       "      <td>2.157825e-25</td>\n",
       "    </tr>\n",
       "    <tr>\n",
       "      <th>路面狀況-路面鋪裝名稱</th>\n",
       "      <td>117.018373</td>\n",
       "      <td>2.314021e-24</td>\n",
       "    </tr>\n",
       "    <tr>\n",
       "      <th>道路障礙-視距品質名稱</th>\n",
       "      <td>90.872154</td>\n",
       "      <td>1.532614e-21</td>\n",
       "    </tr>\n",
       "    <tr>\n",
       "      <th>路面狀況-路面缺陷名稱</th>\n",
       "      <td>43.335795</td>\n",
       "      <td>2.088386e-09</td>\n",
       "    </tr>\n",
       "    <tr>\n",
       "      <th>受傷</th>\n",
       "      <td>23.382917</td>\n",
       "      <td>1.560105e-02</td>\n",
       "    </tr>\n",
       "    <tr>\n",
       "      <th>死亡</th>\n",
       "      <td>20.532757</td>\n",
       "      <td>1.316189e-04</td>\n",
       "    </tr>\n",
       "    <tr>\n",
       "      <th>路面狀況-路面狀態名稱</th>\n",
       "      <td>8.037425</td>\n",
       "      <td>9.021684e-02</td>\n",
       "    </tr>\n",
       "  </tbody>\n",
       "</table>\n",
       "</div>"
      ],
      "text/plain": [
       "                                 chi2        p_value\n",
       "號誌-號誌動作名稱                64834.874228   0.000000e+00\n",
       "號誌-號誌種類名稱                64834.636850   0.000000e+00\n",
       "道路型態子類別名稱                18483.013539   0.000000e+00\n",
       "道路型態大類別名稱                15501.660564   0.000000e+00\n",
       "事故位置子類別名稱                14824.813827   0.000000e+00\n",
       "事故位置大類別名稱                14186.974231   0.000000e+00\n",
       "事故類型及型態子類別名稱              2402.656097   0.000000e+00\n",
       "車道劃分設施-分向設施大類別名稱          1308.721667  4.277415e-282\n",
       "事故類型及型態大類別名稱              1010.165255  4.419794e-220\n",
       "道路類別-第1當事者-名稱              903.112977  1.203323e-189\n",
       "車道劃分設施-分道設施-快車道或一般車道間名稱    808.323074  1.209213e-173\n",
       "車道劃分設施-分向設施子類別名稱           793.279054  3.290344e-169\n",
       "車道劃分設施-分道設施-路面邊線名稱         482.901175  4.994114e-107\n",
       "道路障礙-障礙物名稱                 145.145254   1.440711e-29\n",
       "車道劃分設施-分道設施-快慢車道間名稱        142.332476   8.937778e-30\n",
       "道路障礙-視距名稱                  125.486460   2.157825e-25\n",
       "路面狀況-路面鋪裝名稱                117.018373   2.314021e-24\n",
       "道路障礙-視距品質名稱                 90.872154   1.532614e-21\n",
       "路面狀況-路面缺陷名稱                 43.335795   2.088386e-09\n",
       "受傷                          23.382917   1.560105e-02\n",
       "死亡                          20.532757   1.316189e-04\n",
       "路面狀況-路面狀態名稱                  8.037425   9.021684e-02"
      ]
     },
     "execution_count": 242,
     "metadata": {},
     "output_type": "execute_result"
    }
   ],
   "source": [
    "result = compare_categorical_features(full_0.drop(['緯度', '經度', '速限-第1當事者'], axis=1), \n",
    "                                      full_1.drop(['緯度', '經度', '速限-第1當事者'], axis=1))\n",
    "result.sort_values(by=\"chi2\", ascending=False)"
   ]
  },
  {
   "cell_type": "markdown",
   "id": "ffb2c06f-8ad1-4a0c-a10d-4174f2c1201a",
   "metadata": {},
   "source": [
    "## 四分位圖"
   ]
  },
  {
   "cell_type": "code",
   "execution_count": 167,
   "id": "0e43c014-8bee-4e1c-a47b-296fe3b1852e",
   "metadata": {},
   "outputs": [],
   "source": [
    "# latitude_data_full_0 = full_0['經度']\n",
    "# latitude_data_full_1 = full_1['經度']\n",
    "\n",
    "# # 繪製四分位圖\n",
    "# plt.figure(figsize=(10, 6))\n",
    "# plt.boxplot([latitude_data_full_0, latitude_data_full_1], labels=['full_0', 'full_1'])\n",
    "# plt.title('緯度的四分位圖')\n",
    "# plt.ylabel('緯度')\n",
    "# plt.grid(True)\n",
    "# plt.show()"
   ]
  },
  {
   "cell_type": "markdown",
   "id": "185c7494-6835-4140-8f9f-635983019632",
   "metadata": {},
   "source": [
    "## 計數圖"
   ]
  },
  {
   "cell_type": "code",
   "execution_count": 243,
   "id": "c33357f8-0bc0-4afe-ae02-ac9dccc63e83",
   "metadata": {},
   "outputs": [
    {
     "name": "stdout",
     "output_type": "stream",
     "text": [
      "       full_0    full_1\n",
      "不正常  0.000026  0.001680\n",
      "正常        NaN  0.994512\n",
      "無動作  0.000053  0.003808\n",
      "無號誌  0.999921       NaN\n"
     ]
    },
    {
     "data": {
      "image/png": "[encoded data removed]",
      "text/plain": [
       "<Figure size 1000x600 with 1 Axes>"
      ]
     },
     "metadata": {},
     "output_type": "display_data"
    }
   ],
   "source": [
    "plt.rcParams['font.sans-serif'] = ['Microsoft YaHei'] # Window\n",
    "# plt.rcParams['font.sans-serif']=['Arial Unicode Ms'] # Mac\n",
    "plt.rcParams['axes.unicode_minus'] = False\n",
    "\n",
    "injury_distribution = pd.DataFrame({\n",
    "    'full_0': full_0['號誌-號誌動作名稱'].value_counts(normalize=True),\n",
    "    'full_1': full_1['號誌-號誌動作名稱'].value_counts(normalize=True)\n",
    "})\n",
    "\n",
    "print(injury_distribution)\n",
    "\n",
    "# 可視化分布差異\n",
    "injury_distribution.plot(kind='bar', figsize=(10, 6))\n",
    "plt.title('distribution')\n",
    "plt.xlabel('injured state')\n",
    "plt.ylabel('ratio')\n",
    "plt.show()"
   ]
  },
  {
   "cell_type": "markdown",
   "id": "e34903f8-cb79-4d93-b14f-36b1781bbe4e",
   "metadata": {},
   "source": [
    "## Pickle save"
   ]
  },
  {
   "cell_type": "code",
   "execution_count": 15,
   "id": "80968938-b915-4b08-a38e-3a6d90a1f41e",
   "metadata": {},
   "outputs": [],
   "source": [
    "# import pickle\n",
    "\n",
    "# with open('../Version3/GridSearch/全部mapper資料.pkl', 'wb') as f:\n",
    "#     pickle.dump(results, f)"
   ]
  },
  {
   "cell_type": "markdown",
   "id": "4bd14fb4-f987-4cd4-8605-0d2f9017685f",
   "metadata": {},
   "source": [
    "# Grid search"
   ]
  },
  {
   "cell_type": "code",
   "execution_count": 14,
   "id": "c88cc7cd-4cb2-4e9d-a0d1-79d7916ac923",
   "metadata": {
    "collapsed": true,
    "jupyter": {
     "outputs_hidden": true
    },
    "tags": []
   },
   "outputs": [
    {
     "name": "stdout",
     "output_type": "stream",
     "text": [
      "range(3, 6)\n",
      "[0.4, 0.45, 0.5, 0.55, 0.6]\n",
      "312.017689704895\n",
      "Added parameters: n_intervals=3, overlap_frac=0.4\n",
      "350.89471220970154\n",
      "Added parameters: n_intervals=3, overlap_frac=0.45\n",
      "365.489159822464\n",
      "Added parameters: n_intervals=3, overlap_frac=0.5\n",
      "609.3233876228333\n",
      "Added parameters: n_intervals=3, overlap_frac=0.55\n",
      "942.5379445552826\n",
      "Added parameters: n_intervals=3, overlap_frac=0.6\n",
      "222.39931416511536\n",
      "Added parameters: n_intervals=4, overlap_frac=0.4\n",
      "245.39600348472595\n",
      "Added parameters: n_intervals=4, overlap_frac=0.45\n",
      "217.80010890960693\n",
      "Added parameters: n_intervals=4, overlap_frac=0.5\n",
      "203.29131937026978\n",
      "Added parameters: n_intervals=4, overlap_frac=0.55\n",
      "293.76072430610657\n",
      "Added parameters: n_intervals=4, overlap_frac=0.6\n",
      "190.67405200004578\n",
      "Added parameters: n_intervals=5, overlap_frac=0.4\n",
      "178.24561524391174\n",
      "Added parameters: n_intervals=5, overlap_frac=0.45\n",
      "161.37064266204834\n",
      "Added parameters: n_intervals=5, overlap_frac=0.5\n",
      "170.47949314117432\n",
      "Added parameters: n_intervals=5, overlap_frac=0.55\n",
      "186.61380624771118\n",
      "Added parameters: n_intervals=5, overlap_frac=0.6\n"
     ]
    }
   ],
   "source": [
    "n_intervals_range = range(3, 6)\n",
    "overlap_frac_range = [round(0.4 + i * 0.05, 2) for i in range(5)]\n",
    "\n",
    "print(n_intervals_range)\n",
    "print(overlap_frac_range)\n",
    "\n",
    "results = []\n",
    "\n",
    "for n_intervals in n_intervals_range:\n",
    "    for overlap_frac in overlap_frac_range:\n",
    "        \n",
    "        start_time = time.time()\n",
    "\n",
    "        mapper_algo = MapperAlgorithm(\n",
    "            cover=CubicalCover(\n",
    "                n_intervals=n_intervals,\n",
    "                overlap_frac=overlap_frac\n",
    "            ),\n",
    "            clustering=FailSafeClustering(\n",
    "                clustering=AgglomerativeClustering(5, linkage='single'),\n",
    "                verbose=False\n",
    "            )\n",
    "        )\n",
    "\n",
    "        mapper_graph = mapper_algo.fit_transform(mapper_numpy, lens1)\n",
    "        \n",
    "        end_time = time.time()\n",
    "        elapsed_time = end_time - start_time\n",
    "        print(elapsed_time)\n",
    "        \n",
    "        results.append({\n",
    "            'n_intervals': n_intervals,\n",
    "            'overlap_frac': overlap_frac,\n",
    "            'graph': mapper_graph\n",
    "        })\n",
    "        \n",
    "        print(f\"Added parameters: n_intervals={n_intervals}, overlap_frac={overlap_frac}\")"
   ]
  },
  {
   "cell_type": "code",
   "execution_count": 26,
   "id": "496922fe-2c69-4173-9808-d58630119211",
   "metadata": {},
   "outputs": [],
   "source": [
    "# for idx, graph in enumerate(results):\n",
    "#     mapper_plot = MapperLayoutInteractive(\n",
    "#         graph['graph'],\n",
    "#         colors=dummy_data[['死亡']].to_numpy(),\n",
    "#         cmap='jet',\n",
    "#         agg=np.nanmean,\n",
    "#         dim=3,\n",
    "#         iterations=30,\n",
    "#         seed=6,\n",
    "#         width=800,\n",
    "#         height=500\n",
    "#     )\n",
    "\n",
    "#     fig = mapper_plot.plot()\n",
    "\n",
    "#     fig.show(config={'scrollZoom': True})\n",
    "\n",
    "#     fig.write_html(f\"mapper_plot_{idx}.html\")"
   ]
  },
  {
   "cell_type": "markdown",
   "id": "27019743-8d59-4dae-8f76-72e1cc69363e",
   "metadata": {},
   "source": [
    "# Example parameters"
   ]
  },
  {
   "cell_type": "markdown",
   "id": "f851fe44-0e96-4c14-9e5d-f5dd9668a1cd",
   "metadata": {},
   "source": [
    "1. 以圖像為例，較高的interval(10)配上較高的overlap(0.65)有較直觀的效果，而使用clustering方法設為10的華德法也較好，同時範例將PCA設為2。[連結](https://pypi.org/project/tda-mapper/0.2.0/)\n",
    "2. 但是將PCA調高雖然增加計算量，但是也在interval不設置大麼多的情況下得到好的結果\n",
    "3. 設置高的clsustering數量可以得出較好的捕捉局部資料lens = PCA(2).fit_transform(X)"
   ]
  },
  {
   "cell_type": "code",
   "execution_count": 41,
   "id": "8a1c93f8-2d7b-4772-b7af-9779eee0e983",
   "metadata": {},
   "outputs": [
    {
     "name": "stdout",
     "output_type": "stream",
     "text": [
      "0.2850936482369889\n",
      "[0.14890594 0.13618771]\n"
     ]
    }
   ],
   "source": [
    "from sklearn.datasets import load_digits\n",
    "\n",
    "X, y = load_digits(return_X_y=True) \n",
    "\n",
    "pca = PCA(n_components=2)\n",
    "lens = pca.fit_transform(X)\n",
    "\n",
    "explained_variance_ratio  = pca.explained_variance_ratio_\n",
    "print(sum(explained_variance_ratio))\n",
    "print(explained_variance_ratio)"
   ]
  },
  {
   "cell_type": "code",
   "execution_count": 3,
   "id": "35a91b66-ffe1-429f-90ce-bffb52f14711",
   "metadata": {},
   "outputs": [],
   "source": [
    "# mapper_algo = MapperAlgorithm(\n",
    "#     cover=CubicalCover(\n",
    "#         n_intervals=10,\n",
    "#         overlap_frac=0.65),\n",
    "#     clustering = FailSafeClustering(\n",
    "#         clustering = AgglomerativeClustering(10, linkage='ward'),\n",
    "#         verbose = False)\n",
    "# )\n",
    "# mapper_graph = mapper_algo.fit_transform(X, lens)\n",
    "\n",
    "# mapper_plot = MapperLayoutInteractive(\n",
    "#     mapper_graph,\n",
    "#     colors=y,                       \n",
    "#     cmap='jet',\n",
    "#     agg=np.nanmean,\n",
    "#     dim=3,\n",
    "#     iterations=400,\n",
    "#     seed=42,\n",
    "#     title='digit (mean)',\n",
    "#     width=600,\n",
    "#     height=600)\n",
    "\n",
    "# fig_mean1 = mapper_plot.plot()\n",
    "# fig_mean1.show(config={'scrollZoom': True})"
   ]
  }
 ],
 "metadata": {
  "kernelspec": {
   "display_name": "Python 3 (ipykernel)",
   "language": "python",
   "name": "python3"
  },
  "language_info": {
   "codemirror_mode": {
    "name": "ipython",
    "version": 3
   },
   "file_extension": ".py",
   "mimetype": "text/x-python",
   "name": "python",
   "nbconvert_exporter": "python",
   "pygments_lexer": "ipython3",
   "version": "3.9.12"
  }
 },
 "nbformat": 4,
 "nbformat_minor": 5
}

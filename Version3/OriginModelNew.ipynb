{
 "cells": [
  {
   "cell_type": "code",
   "execution_count": 1,
   "metadata": {},
   "outputs": [
    {
     "name": "stdout",
     "output_type": "stream",
     "text": [
      "[Errno 2] No such file or directory: 'C:\\\\System\\\\Library\\\\Fonts\\\\PingFang.ttc'\n"
     ]
    }
   ],
   "source": [
    "import os\n",
    "import numpy as np\n",
    "import pandas as pd\n",
    "import seaborn as sns\n",
    "import matplotlib.pyplot as plt\n",
    "import matplotlib.cm as cm\n",
    "from matplotlib.cm import get_cmap\n",
    "from matplotlib.font_manager import FontProperties\n",
    "\n",
    "# 獲取當前工作目錄\n",
    "current_dir = os.getcwd()\n",
    "version3_path = os.path.join(current_dir, \"TrafficTDApython\", \"Version3\", \"tdamapper\", \"core_old.py\")\n",
    "\n",
    "from utils.models import *\n",
    "from utils.utils_v3 import *\n",
    "from utils.plots import *\n",
    "\n",
    "try:\n",
    "    myfont = FontProperties(fname=r\"/System/Library/Fonts/PingFang.ttc\")\n",
    "    sns.set(style=\"whitegrid\", font=myfont.get_name())\n",
    "except Exception as e:\n",
    "    print(e)\n",
    "\n",
    "plt.rcParams['font.sans-serif'] = ['Microsoft YaHei']\n",
    "plt.rcParams['axes.unicode_minus'] = False\n",
    "\n",
    "dataA2 = pd.read_csv(\"./Data/A2.csv\", low_memory=False)\n",
    "dataA1 = pd.read_csv(\"./Data/A1.csv\")"
   ]
  },
  {
   "cell_type": "code",
   "execution_count": 124,
   "metadata": {},
   "outputs": [],
   "source": [
    "# car data\n",
    "car_data = pd.read_csv(os.path.join(current_dir, \"Data/CarDataNew/full_1.csv\"), encoding='utf-8')\n",
    "motor_data = pd.read_csv(os.path.join(current_dir, \"Data/CarDataNew/full_2.csv\"), encoding='utf-8')\n",
    "overlap_data = pd.read_csv(os.path.join(current_dir, \"Data/CarDataNew/full_out.csv\"), encoding='utf-8')\n",
    "outlier_data = pd.read_csv(os.path.join(current_dir, \"Data/CarDataNew/overlap_data.csv\"), encoding='utf-8')\n",
    "# pass data\n",
    "pass_data0 = pd.read_csv(os.path.join(current_dir, \"Data/PassData/full_0.csv\"), encoding='utf-8')\n",
    "pass_data1 = pd.read_csv(os.path.join(current_dir, \"Data/PassData/full_1.csv\"), encoding='utf-8')\n",
    "pass_data2 = pd.read_csv(os.path.join(current_dir, \"Data/PassData/full_2.csv\"), encoding='utf-8')\n",
    "pass_data3 = pd.read_csv(os.path.join(current_dir, \"Data/PassData/full_3.csv\"), encoding='utf-8')\n",
    "pass_data_overlap = pd.read_csv(os.path.join(current_dir, \"Data/PassData/overlap_data.csv\"), encoding='utf-8')\n",
    "pass_data_out = pd.read_csv(os.path.join(current_dir, \"Data/PassData/full_out.csv\"), encoding='utf-8')\n",
    "\n",
    "# 合併模型輸入資料，總共有 5 種資料\n",
    "# car_data\n",
    "# motor_data\n",
    "car_motor_outlier_overlap = pd.concat([outlier_data, overlap_data], axis=0)\n",
    "pass_data = pd.concat([pass_data0, pass_data1, pass_data2, pass_data3], axis=0)\n",
    "pass_outlier_overlap = pd.concat([pass_data_out, pass_data_overlap], axis=0)\n",
    "\n",
    "# 補回當事者行動狀態大類別名稱\n",
    "car_data['當事者行動狀態大類別名稱'] = '車的狀態'\n",
    "motor_data['當事者行動狀態大類別名稱'] = '車的狀態'\n",
    "car_motor_outlier_overlap['當事者行動狀態大類別名稱'] = '車的狀態'\n",
    "pass_data['當事者行動狀態大類別名稱'] = '人的狀態'\n",
    "pass_outlier_overlap['當事者行動狀態大類別名稱'] = '人的狀態'\n",
    "\n",
    "full_data = pd.concat([car_data, motor_data, car_motor_outlier_overlap, pass_data, pass_outlier_overlap], axis=0)\n",
    "car_data.drop(columns=['當事者行動狀態大類別名稱'], inplace=True)\n",
    "motor_data.drop(columns=['當事者行動狀態大類別名稱'], inplace=True)\n",
    "car_motor_outlier_overlap.drop(columns=['當事者行動狀態大類別名稱'], inplace=True)\n",
    "pass_data.drop(columns=['當事者行動狀態大類別名稱'], inplace=True)\n",
    "pass_outlier_overlap.drop(columns=['當事者行動狀態大類別名稱'], inplace=True)"
   ]
  },
  {
   "cell_type": "code",
   "execution_count": 134,
   "metadata": {},
   "outputs": [],
   "source": [
    "select_lst = [\n",
    "    '天候名稱', '光線名稱', \n",
    "    '道路類別-第1當事者-名稱', '速限-第1當事者', \n",
    "    \n",
    "    # 路面狀況\n",
    "    '路面狀況-路面鋪裝名稱', '路面狀況-路面狀態名稱', '路面狀況-路面缺陷名稱',\n",
    "    '道路障礙-障礙物名稱', '道路障礙-視距品質名稱', '道路障礙-視距名稱',\n",
    "    # 號誌\n",
    "    '號誌-號誌種類名稱', '號誌-號誌動作名稱',\n",
    "    # 車道\n",
    "    '車道劃分設施-分道設施-快車道或一般車道間名稱', '車道劃分設施-分道設施-快慢車道間名稱', '車道劃分設施-分道設施-路面邊線名稱',\n",
    "    # 當事人\n",
    "    '當事者屬-性-別名稱', '當事者事故發生時年齡',\n",
    "    '保護裝備名稱', '行動電話或電腦或其他相類功能裝置名稱',\n",
    "    '肇事逃逸類別名稱-是否肇逃',\n",
    "\n",
    "    # 大類別\n",
    "    '道路型態大類別名稱', '事故位置大類別名稱',\n",
    "    '車道劃分設施-分向設施大類別名稱',\n",
    "    '事故類型及型態大類別名稱', '當事者區分-類別-大類別名稱-車種',\n",
    "    '車輛撞擊部位大類別名稱-最初', \n",
    "    '車輛撞擊部位大類別名稱-其他',\n",
    "\n",
    "    # 兩個欄位只有兩個觀察值不同\n",
    "    '肇因研判大類別名稱-主要',\n",
    "    # '肇因研判大類別名稱-個別',\n",
    "    '受傷', '死亡',\n",
    "    \n",
    "    # 子類別\n",
    "    '道路型態子類別名稱', '事故位置子類別名稱', '事故類型及型態子類別名稱', '肇因研判子類別名稱-主要',\n",
    "    '當事者區分-類別-子類別名稱-車種', '當事者行動狀態子類別名稱', '車輛撞擊部位子類別名稱-最初',\n",
    "    '車輛撞擊部位子類別名稱-其他', '肇因研判子類別名稱-個別'\n",
    "]\n",
    "\n",
    "# select data\n",
    "full_data = full_data[select_lst]\n",
    "car_data = car_data[select_lst]\n",
    "motor_data = motor_data[select_lst]\n",
    "car_motor_outlier_overlap = car_motor_outlier_overlap[select_lst]\n",
    "select_lst.remove('車輛撞擊部位大類別名稱-最初')\n",
    "select_lst.remove('行動電話或電腦或其他相類功能裝置名稱')\n",
    "select_lst.remove('當事者區分-類別-大類別名稱-車種')\n",
    "pass_data = pass_data[select_lst]\n",
    "pass_outlier_overlap = pass_outlier_overlap[select_lst]"
   ]
  },
  {
   "cell_type": "code",
   "execution_count": 135,
   "metadata": {},
   "outputs": [],
   "source": [
    "full_data = pd.get_dummies(full_data)\n",
    "car_data = pd.get_dummies(car_data)\n",
    "motor_data = pd.get_dummies(motor_data)\n",
    "car_motor_outlier_overlap = pd.get_dummies(car_motor_outlier_overlap)\n",
    "pass_data = pd.get_dummies(pass_data)\n",
    "pass_outlier_overlap = pd.get_dummies(pass_outlier_overlap)\n",
    "\n",
    "full_data_X, full_data_y = get_train_test_data(full_data)\n",
    "car_data_X, car_data_y = get_train_test_data(car_data)\n",
    "motor_data_X, motor_data_y = get_train_test_data(motor_data)\n",
    "car_motor_outlier_overlap_X, car_motor_outlier_overlap_y = get_train_test_data(car_motor_outlier_overlap)\n",
    "pass_data_X, pass_data_y = get_train_test_data(pass_data)\n",
    "pass_outlier_overlap_X, pass_outlier_overlap_y = get_train_test_data(pass_outlier_overlap)\n",
    "\n",
    "assert car_data_X.shape[0] + pass_data_X.shape[0] + motor_data_X.shape[0] + car_motor_outlier_overlap_X.shape[0] + pass_outlier_overlap_X.shape[0] == full_data_X.shape[0]"
   ]
  },
  {
   "cell_type": "markdown",
   "metadata": {},
   "source": [
    "ModelPerformanceNew 為大類別模型 <br/>\n",
    "ModelPerformanceNewV2 為子類別的納入"
   ]
  },
  {
   "cell_type": "code",
   "execution_count": 136,
   "metadata": {},
   "outputs": [
    {
     "name": "stdout",
     "output_type": "stream",
     "text": [
      "pass_outlier_overlap logistic start\n",
      "Best parameters for this fold: {'C': 10, 'penalty': 'l2'}\n",
      "Best parameters for this fold: {'C': 10, 'penalty': 'l2'}\n",
      "Best parameters for this fold: {'C': 10, 'penalty': 'l2'}\n",
      "Best parameters for this fold: {'C': 0.1, 'penalty': 'l2'}\n",
      "Best parameters for this fold: {'C': 10, 'penalty': 'l2'}\n",
      "pass_outlier_overlap logistic done\n",
      "pass logistic start\n",
      "Best parameters for this fold: {'C': 10, 'penalty': 'l1'}\n",
      "Best parameters for this fold: {'C': 10, 'penalty': 'l1'}\n",
      "Best parameters for this fold: {'C': 10, 'penalty': 'l1'}\n",
      "Best parameters for this fold: {'C': 10, 'penalty': 'l1'}\n",
      "Best parameters for this fold: {'C': 10, 'penalty': 'l1'}\n",
      "pass logistic done\n",
      "car_motor_outlier_overlap logistic start\n",
      "Best parameters for this fold: {'C': 10, 'penalty': 'l1'}\n",
      "Best parameters for this fold: {'C': 10, 'penalty': 'l1'}\n",
      "Best parameters for this fold: {'C': 10, 'penalty': 'l1'}\n",
      "Best parameters for this fold: {'C': 10, 'penalty': 'l1'}\n",
      "Best parameters for this fold: {'C': 10, 'penalty': 'l1'}\n",
      "car_motor_outlier_overlap logistic done\n",
      "motor logistic start\n",
      "Best parameters for this fold: {'C': 10, 'penalty': 'l1'}\n",
      "Best parameters for this fold: {'C': 10, 'penalty': 'l1'}\n",
      "Best parameters for this fold: {'C': 10, 'penalty': 'l1'}\n",
      "Best parameters for this fold: {'C': 10, 'penalty': 'l1'}\n",
      "Best parameters for this fold: {'C': 10, 'penalty': 'l1'}\n",
      "motor logistic done\n",
      "car logistic start\n",
      "Best parameters for this fold: {'C': 10, 'penalty': 'l1'}\n",
      "Best parameters for this fold: {'C': 10, 'penalty': 'l1'}\n",
      "Best parameters for this fold: {'C': 10, 'penalty': 'l1'}\n",
      "Best parameters for this fold: {'C': 10, 'penalty': 'l1'}\n",
      "Best parameters for this fold: {'C': 10, 'penalty': 'l1'}\n",
      "car logistic done\n",
      "full logistic start\n",
      "Best parameters for this fold: {'C': 10, 'penalty': 'l2'}\n",
      "Best parameters for this fold: {'C': 10, 'penalty': 'l2'}\n",
      "Best parameters for this fold: {'C': 10, 'penalty': 'l1'}\n",
      "Best parameters for this fold: {'C': 10, 'penalty': 'l2'}\n",
      "Best parameters for this fold: {'C': 10, 'penalty': 'l2'}\n",
      "full logistic done\n",
      "pass_outlier_overlap svc start\n",
      "Best parameters for this fold: {'C': 100, 'loss': 'squared_hinge'}\n",
      "Best parameters for this fold: {'C': 0.1, 'loss': 'hinge'}\n",
      "Best parameters for this fold: {'C': 1, 'loss': 'hinge'}\n",
      "Best parameters for this fold: {'C': 0.1, 'loss': 'hinge'}\n",
      "Best parameters for this fold: {'C': 100, 'loss': 'squared_hinge'}\n",
      "pass_outlier_overlap svc done\n",
      "pass svc start\n"
     ]
    },
    {
     "name": "stderr",
     "output_type": "stream",
     "text": [
      "c:\\Users\\USER\\anaconda3\\lib\\site-packages\\sklearn\\svm\\_base.py:1235: ConvergenceWarning: Liblinear failed to converge, increase the number of iterations.\n",
      "  warnings.warn(\n"
     ]
    },
    {
     "name": "stdout",
     "output_type": "stream",
     "text": [
      "Best parameters for this fold: {'C': 10, 'loss': 'hinge'}\n"
     ]
    },
    {
     "name": "stderr",
     "output_type": "stream",
     "text": [
      "c:\\Users\\USER\\anaconda3\\lib\\site-packages\\sklearn\\svm\\_base.py:1235: ConvergenceWarning: Liblinear failed to converge, increase the number of iterations.\n",
      "  warnings.warn(\n"
     ]
    },
    {
     "name": "stdout",
     "output_type": "stream",
     "text": [
      "Best parameters for this fold: {'C': 10, 'loss': 'hinge'}\n",
      "Best parameters for this fold: {'C': 100, 'loss': 'squared_hinge'}\n"
     ]
    },
    {
     "name": "stderr",
     "output_type": "stream",
     "text": [
      "c:\\Users\\USER\\anaconda3\\lib\\site-packages\\sklearn\\svm\\_base.py:1235: ConvergenceWarning: Liblinear failed to converge, increase the number of iterations.\n",
      "  warnings.warn(\n"
     ]
    },
    {
     "name": "stdout",
     "output_type": "stream",
     "text": [
      "Best parameters for this fold: {'C': 10, 'loss': 'hinge'}\n"
     ]
    },
    {
     "name": "stderr",
     "output_type": "stream",
     "text": [
      "c:\\Users\\USER\\anaconda3\\lib\\site-packages\\sklearn\\svm\\_base.py:1235: ConvergenceWarning: Liblinear failed to converge, increase the number of iterations.\n",
      "  warnings.warn(\n"
     ]
    },
    {
     "name": "stdout",
     "output_type": "stream",
     "text": [
      "Best parameters for this fold: {'C': 100, 'loss': 'hinge'}\n",
      "pass svc done\n",
      "car_motor_outlier_overlap svc start\n",
      "Best parameters for this fold: {'C': 1, 'loss': 'hinge'}\n",
      "Best parameters for this fold: {'C': 100, 'loss': 'squared_hinge'}\n",
      "Best parameters for this fold: {'C': 1, 'loss': 'squared_hinge'}\n",
      "Best parameters for this fold: {'C': 1, 'loss': 'hinge'}\n",
      "Best parameters for this fold: {'C': 100, 'loss': 'squared_hinge'}\n",
      "car_motor_outlier_overlap svc done\n",
      "motor svc start\n"
     ]
    },
    {
     "name": "stderr",
     "output_type": "stream",
     "text": [
      "c:\\Users\\USER\\anaconda3\\lib\\site-packages\\sklearn\\svm\\_base.py:1235: ConvergenceWarning: Liblinear failed to converge, increase the number of iterations.\n",
      "  warnings.warn(\n"
     ]
    },
    {
     "name": "stdout",
     "output_type": "stream",
     "text": [
      "Best parameters for this fold: {'C': 100, 'loss': 'hinge'}\n"
     ]
    },
    {
     "name": "stderr",
     "output_type": "stream",
     "text": [
      "c:\\Users\\USER\\anaconda3\\lib\\site-packages\\sklearn\\svm\\_base.py:1235: ConvergenceWarning: Liblinear failed to converge, increase the number of iterations.\n",
      "  warnings.warn(\n"
     ]
    },
    {
     "name": "stdout",
     "output_type": "stream",
     "text": [
      "Best parameters for this fold: {'C': 100, 'loss': 'hinge'}\n"
     ]
    },
    {
     "name": "stderr",
     "output_type": "stream",
     "text": [
      "c:\\Users\\USER\\anaconda3\\lib\\site-packages\\sklearn\\svm\\_base.py:1235: ConvergenceWarning: Liblinear failed to converge, increase the number of iterations.\n",
      "  warnings.warn(\n"
     ]
    },
    {
     "name": "stdout",
     "output_type": "stream",
     "text": [
      "Best parameters for this fold: {'C': 100, 'loss': 'hinge'}\n"
     ]
    },
    {
     "name": "stderr",
     "output_type": "stream",
     "text": [
      "c:\\Users\\USER\\anaconda3\\lib\\site-packages\\sklearn\\svm\\_base.py:1235: ConvergenceWarning: Liblinear failed to converge, increase the number of iterations.\n",
      "  warnings.warn(\n"
     ]
    },
    {
     "name": "stdout",
     "output_type": "stream",
     "text": [
      "Best parameters for this fold: {'C': 100, 'loss': 'hinge'}\n"
     ]
    },
    {
     "name": "stderr",
     "output_type": "stream",
     "text": [
      "c:\\Users\\USER\\anaconda3\\lib\\site-packages\\sklearn\\svm\\_base.py:1235: ConvergenceWarning: Liblinear failed to converge, increase the number of iterations.\n",
      "  warnings.warn(\n"
     ]
    },
    {
     "name": "stdout",
     "output_type": "stream",
     "text": [
      "Best parameters for this fold: {'C': 100, 'loss': 'hinge'}\n",
      "motor svc done\n",
      "car svc start\n"
     ]
    },
    {
     "name": "stderr",
     "output_type": "stream",
     "text": [
      "c:\\Users\\USER\\anaconda3\\lib\\site-packages\\sklearn\\svm\\_base.py:1235: ConvergenceWarning: Liblinear failed to converge, increase the number of iterations.\n",
      "  warnings.warn(\n"
     ]
    },
    {
     "name": "stdout",
     "output_type": "stream",
     "text": [
      "Best parameters for this fold: {'C': 100, 'loss': 'hinge'}\n"
     ]
    },
    {
     "name": "stderr",
     "output_type": "stream",
     "text": [
      "c:\\Users\\USER\\anaconda3\\lib\\site-packages\\sklearn\\svm\\_base.py:1235: ConvergenceWarning: Liblinear failed to converge, increase the number of iterations.\n",
      "  warnings.warn(\n"
     ]
    },
    {
     "name": "stdout",
     "output_type": "stream",
     "text": [
      "Best parameters for this fold: {'C': 10, 'loss': 'hinge'}\n"
     ]
    },
    {
     "name": "stderr",
     "output_type": "stream",
     "text": [
      "c:\\Users\\USER\\anaconda3\\lib\\site-packages\\sklearn\\svm\\_base.py:1235: ConvergenceWarning: Liblinear failed to converge, increase the number of iterations.\n",
      "  warnings.warn(\n"
     ]
    },
    {
     "name": "stdout",
     "output_type": "stream",
     "text": [
      "Best parameters for this fold: {'C': 100, 'loss': 'hinge'}\n"
     ]
    },
    {
     "name": "stderr",
     "output_type": "stream",
     "text": [
      "c:\\Users\\USER\\anaconda3\\lib\\site-packages\\sklearn\\svm\\_base.py:1235: ConvergenceWarning: Liblinear failed to converge, increase the number of iterations.\n",
      "  warnings.warn(\n"
     ]
    },
    {
     "name": "stdout",
     "output_type": "stream",
     "text": [
      "Best parameters for this fold: {'C': 100, 'loss': 'hinge'}\n"
     ]
    },
    {
     "name": "stderr",
     "output_type": "stream",
     "text": [
      "c:\\Users\\USER\\anaconda3\\lib\\site-packages\\sklearn\\svm\\_base.py:1235: ConvergenceWarning: Liblinear failed to converge, increase the number of iterations.\n",
      "  warnings.warn(\n"
     ]
    },
    {
     "name": "stdout",
     "output_type": "stream",
     "text": [
      "Best parameters for this fold: {'C': 100, 'loss': 'hinge'}\n",
      "car svc done\n",
      "full svc start\n"
     ]
    },
    {
     "name": "stderr",
     "output_type": "stream",
     "text": [
      "c:\\Users\\USER\\anaconda3\\lib\\site-packages\\sklearn\\svm\\_base.py:1235: ConvergenceWarning: Liblinear failed to converge, increase the number of iterations.\n",
      "  warnings.warn(\n"
     ]
    },
    {
     "name": "stdout",
     "output_type": "stream",
     "text": [
      "Best parameters for this fold: {'C': 100, 'loss': 'hinge'}\n"
     ]
    },
    {
     "name": "stderr",
     "output_type": "stream",
     "text": [
      "c:\\Users\\USER\\anaconda3\\lib\\site-packages\\sklearn\\svm\\_base.py:1235: ConvergenceWarning: Liblinear failed to converge, increase the number of iterations.\n",
      "  warnings.warn(\n"
     ]
    },
    {
     "name": "stdout",
     "output_type": "stream",
     "text": [
      "Best parameters for this fold: {'C': 1, 'loss': 'hinge'}\n"
     ]
    },
    {
     "name": "stderr",
     "output_type": "stream",
     "text": [
      "c:\\Users\\USER\\anaconda3\\lib\\site-packages\\sklearn\\svm\\_base.py:1235: ConvergenceWarning: Liblinear failed to converge, increase the number of iterations.\n",
      "  warnings.warn(\n"
     ]
    },
    {
     "name": "stdout",
     "output_type": "stream",
     "text": [
      "Best parameters for this fold: {'C': 1, 'loss': 'hinge'}\n"
     ]
    },
    {
     "name": "stderr",
     "output_type": "stream",
     "text": [
      "c:\\Users\\USER\\anaconda3\\lib\\site-packages\\sklearn\\svm\\_base.py:1235: ConvergenceWarning: Liblinear failed to converge, increase the number of iterations.\n",
      "  warnings.warn(\n"
     ]
    },
    {
     "name": "stdout",
     "output_type": "stream",
     "text": [
      "Best parameters for this fold: {'C': 10, 'loss': 'hinge'}\n",
      "Best parameters for this fold: {'C': 1, 'loss': 'hinge'}\n",
      "full svc done\n"
     ]
    },
    {
     "name": "stderr",
     "output_type": "stream",
     "text": [
      "c:\\Users\\USER\\anaconda3\\lib\\site-packages\\sklearn\\svm\\_base.py:1235: ConvergenceWarning: Liblinear failed to converge, increase the number of iterations.\n",
      "  warnings.warn(\n"
     ]
    }
   ],
   "source": [
    "import pickle\n",
    "\n",
    "# Define the data for each model\n",
    "models = [\n",
    "    (\"pass_outlier_overlap\", pass_outlier_overlap_X, pass_outlier_overlap_y),\n",
    "    (\"pass\", pass_data_X, pass_data_y),\n",
    "    (\"car_motor_outlier_overlap\", car_motor_outlier_overlap_X, car_motor_outlier_overlap_y),\n",
    "    (\"motor\", motor_data_X, motor_data_y),\n",
    "    (\"car\", car_data_X, car_data_y),\n",
    "    (\"full\", full_data_X, full_data_y)\n",
    "]\n",
    "\n",
    "# Logistic\n",
    "for name, X, y in models:\n",
    "    print(f'{name} logistic start')\n",
    "    y_log, decision_scores_log, indices_log = logistic_cm_kfold(X.astype(float), y)\n",
    "    with open(f\"./ModelPerformanceNewV2/{name}_performance_log.pkl\", \"wb\") as f:\n",
    "        pickle.dump({\n",
    "            'y': y_log,\n",
    "            'decision_scores': decision_scores_log,\n",
    "            'indices': indices_log\n",
    "        }, f)\n",
    "    print(f'{name} logistic done')\n",
    "\n",
    "# SVC\n",
    "for name, X, y in models:\n",
    "    print(f'{name} svc start')\n",
    "    y_svc, decision_scores_svc, indices_svc = linear_svc_kfold(X.astype(float), y)\n",
    "    with open(f\"./ModelPerformanceNewV2/{name}_performance_svc.pkl\", \"wb\") as f:\n",
    "        pickle.dump({\n",
    "            'y': y_svc,\n",
    "            'decision_scores': decision_scores_svc,\n",
    "            'indices': indices_svc\n",
    "        }, f)\n",
    "    print(f'{name} svc done')"
   ]
  }
 ],
 "metadata": {
  "kernelspec": {
   "display_name": "base",
   "language": "python",
   "name": "python3"
  },
  "language_info": {
   "codemirror_mode": {
    "name": "ipython",
    "version": 3
   },
   "file_extension": ".py",
   "mimetype": "text/x-python",
   "name": "python",
   "nbconvert_exporter": "python",
   "pygments_lexer": "ipython3",
   "version": "3.9.12"
  }
 },
 "nbformat": 4,
 "nbformat_minor": 2
}

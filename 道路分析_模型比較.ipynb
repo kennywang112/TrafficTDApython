{
 "cells": [
  {
   "cell_type": "code",
   "execution_count": 1,
   "id": "eb98f91b-c2f3-4219-b28a-44e793c5ac5a",
   "metadata": {},
   "outputs": [],
   "source": [
    "import pickle\n",
    "import time\n",
    "import numpy as np\n",
    "import pandas as pd\n",
    "import matplotlib.pyplot as plt\n",
    "import plotly.graph_objects as go\n",
    "\n",
    "from sklearn.decomposition import PCA\n",
    "from sklearn.cluster import DBSCAN, AgglomerativeClustering\n",
    "from sklearn.preprocessing import StandardScaler\n",
    "from sklearn.metrics import silhouette_score, confusion_matrix, accuracy_score, precision_score, recall_score, f1_score\n",
    "from sklearn.model_selection import train_test_split, GridSearchCV\n",
    "from sklearn.svm import LinearSVC\n",
    "from sklearn.ensemble import RandomForestClassifier\n",
    "from sklearn.linear_model import LogisticRegression\n",
    "\n",
    "from tdamapper.core import MapperAlgorithm\n",
    "from tdamapper.cover import CubicalCover\n",
    "from tdamapper.plot import MapperLayoutInteractive, MapperLayoutStatic\n",
    "from tdamapper.clustering import FailSafeClustering\n",
    "from sklearn import metrics\n",
    "\n",
    "from functions import *\n",
    "from chi import *\n",
    "from regressionP import *\n",
    "from models import *"
   ]
  },
  {
   "cell_type": "code",
   "execution_count": 2,
   "id": "d07eda9f-993f-4c59-9a58-0e18e2a04edc",
   "metadata": {},
   "outputs": [],
   "source": [
    "data1 = pd.read_csv(\"./Data/NPA_TMA2_1.csv\", low_memory=False)[:-2]\n",
    "data2 = pd.read_csv(\"./Data/NPA_TMA2_2.csv\", low_memory=False)[:-2]\n",
    "data3 = pd.read_csv(\"./Data/NPA_TMA2_3.csv\", low_memory=False)[:-2]\n",
    "data4 = pd.read_csv(\"./Data/NPA_TMA2_4.csv\", low_memory=False)[:-2]\n",
    "dataA2 = pd.concat([data1, data2, data3, data4], ignore_index=True)\n",
    "\n",
    "dataA1 = pd.read_csv(\"./Data/NPA_TMA1.csv\")[:-2]"
   ]
  },
  {
   "cell_type": "code",
   "execution_count": 3,
   "id": "f4c4dd2b-2b5e-4e91-a2b5-ab66bcccca26",
   "metadata": {},
   "outputs": [
    {
     "data": {
      "text/html": [
       "<div>\n",
       "<style scoped>\n",
       "    .dataframe tbody tr th:only-of-type {\n",
       "        vertical-align: middle;\n",
       "    }\n",
       "\n",
       "    .dataframe tbody tr th {\n",
       "        vertical-align: top;\n",
       "    }\n",
       "\n",
       "    .dataframe thead th {\n",
       "        text-align: right;\n",
       "    }\n",
       "</style>\n",
       "<table border=\"1\" class=\"dataframe\">\n",
       "  <thead>\n",
       "    <tr style=\"text-align: right;\">\n",
       "      <th></th>\n",
       "      <th>天候名稱</th>\n",
       "      <th>路面狀況-路面狀態名稱</th>\n",
       "      <th>肇因研判大類別名稱-主要</th>\n",
       "      <th>當事者屬-性-別名稱</th>\n",
       "      <th>當事者事故發生時年齡</th>\n",
       "      <th>車輛撞擊部位大類別名稱-最初</th>\n",
       "      <th>光線名稱</th>\n",
       "      <th>道路類別-第1當事者-名稱</th>\n",
       "      <th>速限-第1當事者</th>\n",
       "      <th>道路型態大類別名稱</th>\n",
       "      <th>...</th>\n",
       "      <th>肇因研判大類別名稱-個別</th>\n",
       "      <th>肇事逃逸類別名稱-是否肇逃</th>\n",
       "      <th>路面狀況-路面鋪裝名稱</th>\n",
       "      <th>路面狀況-路面缺陷名稱</th>\n",
       "      <th>道路障礙-障礙物名稱</th>\n",
       "      <th>道路障礙-視距品質名稱</th>\n",
       "      <th>道路障礙-視距名稱</th>\n",
       "      <th>號誌-號誌動作名稱</th>\n",
       "      <th>死亡</th>\n",
       "      <th>受傷</th>\n",
       "    </tr>\n",
       "  </thead>\n",
       "  <tbody>\n",
       "    <tr>\n",
       "      <th>0</th>\n",
       "      <td>-0.447747</td>\n",
       "      <td>-0.331183</td>\n",
       "      <td>0.509425</td>\n",
       "      <td>0.739901</td>\n",
       "      <td>-1.261265</td>\n",
       "      <td>-0.372169</td>\n",
       "      <td>0.146102</td>\n",
       "      <td>2.120706</td>\n",
       "      <td>-0.531626</td>\n",
       "      <td>1.210906</td>\n",
       "      <td>...</td>\n",
       "      <td>0.508523</td>\n",
       "      <td>-0.135001</td>\n",
       "      <td>-0.045604</td>\n",
       "      <td>-0.029347</td>\n",
       "      <td>0.001515</td>\n",
       "      <td>0.118545</td>\n",
       "      <td>0.060048</td>\n",
       "      <td>0.837867</td>\n",
       "      <td>13.660843</td>\n",
       "      <td>-2.188172</td>\n",
       "    </tr>\n",
       "    <tr>\n",
       "      <th>1</th>\n",
       "      <td>-0.447747</td>\n",
       "      <td>-0.331183</td>\n",
       "      <td>0.509425</td>\n",
       "      <td>0.739901</td>\n",
       "      <td>0.778508</td>\n",
       "      <td>1.175119</td>\n",
       "      <td>1.465217</td>\n",
       "      <td>-0.251720</td>\n",
       "      <td>-1.391959</td>\n",
       "      <td>-0.814068</td>\n",
       "      <td>...</td>\n",
       "      <td>0.508523</td>\n",
       "      <td>-0.135001</td>\n",
       "      <td>-0.045604</td>\n",
       "      <td>-0.029347</td>\n",
       "      <td>0.001515</td>\n",
       "      <td>0.118545</td>\n",
       "      <td>0.060048</td>\n",
       "      <td>-1.192531</td>\n",
       "      <td>13.660843</td>\n",
       "      <td>-0.552999</td>\n",
       "    </tr>\n",
       "    <tr>\n",
       "      <th>2</th>\n",
       "      <td>1.201000</td>\n",
       "      <td>-0.331183</td>\n",
       "      <td>0.509425</td>\n",
       "      <td>0.739901</td>\n",
       "      <td>1.100577</td>\n",
       "      <td>-0.372169</td>\n",
       "      <td>-1.173013</td>\n",
       "      <td>2.911514</td>\n",
       "      <td>0.328707</td>\n",
       "      <td>1.210906</td>\n",
       "      <td>...</td>\n",
       "      <td>0.508523</td>\n",
       "      <td>-0.135001</td>\n",
       "      <td>-0.045604</td>\n",
       "      <td>-0.029347</td>\n",
       "      <td>0.001515</td>\n",
       "      <td>0.118545</td>\n",
       "      <td>0.060048</td>\n",
       "      <td>0.837867</td>\n",
       "      <td>13.660843</td>\n",
       "      <td>-2.188172</td>\n",
       "    </tr>\n",
       "    <tr>\n",
       "      <th>3</th>\n",
       "      <td>-0.447747</td>\n",
       "      <td>-0.331183</td>\n",
       "      <td>0.509425</td>\n",
       "      <td>0.739901</td>\n",
       "      <td>-0.563448</td>\n",
       "      <td>-0.372169</td>\n",
       "      <td>-1.173013</td>\n",
       "      <td>-0.251720</td>\n",
       "      <td>-1.391959</td>\n",
       "      <td>-0.814068</td>\n",
       "      <td>...</td>\n",
       "      <td>0.508523</td>\n",
       "      <td>-0.135001</td>\n",
       "      <td>-0.045604</td>\n",
       "      <td>-0.029347</td>\n",
       "      <td>0.001515</td>\n",
       "      <td>0.118545</td>\n",
       "      <td>0.060048</td>\n",
       "      <td>-1.192531</td>\n",
       "      <td>13.660843</td>\n",
       "      <td>-0.552999</td>\n",
       "    </tr>\n",
       "    <tr>\n",
       "      <th>4</th>\n",
       "      <td>1.201000</td>\n",
       "      <td>-0.331183</td>\n",
       "      <td>0.509425</td>\n",
       "      <td>0.739901</td>\n",
       "      <td>-1.046552</td>\n",
       "      <td>-0.372169</td>\n",
       "      <td>1.465217</td>\n",
       "      <td>2.120706</td>\n",
       "      <td>0.328707</td>\n",
       "      <td>1.210906</td>\n",
       "      <td>...</td>\n",
       "      <td>0.508523</td>\n",
       "      <td>-0.135001</td>\n",
       "      <td>-0.045604</td>\n",
       "      <td>-0.029347</td>\n",
       "      <td>0.001515</td>\n",
       "      <td>0.118545</td>\n",
       "      <td>0.060048</td>\n",
       "      <td>0.837867</td>\n",
       "      <td>13.660843</td>\n",
       "      <td>-2.188172</td>\n",
       "    </tr>\n",
       "  </tbody>\n",
       "</table>\n",
       "<p>5 rows × 43 columns</p>\n",
       "</div>"
      ],
      "text/plain": [
       "       天候名稱  路面狀況-路面狀態名稱  肇因研判大類別名稱-主要  當事者屬-性-別名稱  當事者事故發生時年齡  \\\n",
       "0 -0.447747    -0.331183      0.509425    0.739901   -1.261265   \n",
       "1 -0.447747    -0.331183      0.509425    0.739901    0.778508   \n",
       "2  1.201000    -0.331183      0.509425    0.739901    1.100577   \n",
       "3 -0.447747    -0.331183      0.509425    0.739901   -0.563448   \n",
       "4  1.201000    -0.331183      0.509425    0.739901   -1.046552   \n",
       "\n",
       "   車輛撞擊部位大類別名稱-最初      光線名稱  道路類別-第1當事者-名稱  速限-第1當事者  道路型態大類別名稱  ...  \\\n",
       "0       -0.372169  0.146102       2.120706 -0.531626   1.210906  ...   \n",
       "1        1.175119  1.465217      -0.251720 -1.391959  -0.814068  ...   \n",
       "2       -0.372169 -1.173013       2.911514  0.328707   1.210906  ...   \n",
       "3       -0.372169 -1.173013      -0.251720 -1.391959  -0.814068  ...   \n",
       "4       -0.372169  1.465217       2.120706  0.328707   1.210906  ...   \n",
       "\n",
       "   肇因研判大類別名稱-個別  肇事逃逸類別名稱-是否肇逃  路面狀況-路面鋪裝名稱  路面狀況-路面缺陷名稱  道路障礙-障礙物名稱  \\\n",
       "0      0.508523      -0.135001    -0.045604    -0.029347    0.001515   \n",
       "1      0.508523      -0.135001    -0.045604    -0.029347    0.001515   \n",
       "2      0.508523      -0.135001    -0.045604    -0.029347    0.001515   \n",
       "3      0.508523      -0.135001    -0.045604    -0.029347    0.001515   \n",
       "4      0.508523      -0.135001    -0.045604    -0.029347    0.001515   \n",
       "\n",
       "   道路障礙-視距品質名稱  道路障礙-視距名稱  號誌-號誌動作名稱         死亡        受傷  \n",
       "0     0.118545   0.060048   0.837867  13.660843 -2.188172  \n",
       "1     0.118545   0.060048  -1.192531  13.660843 -0.552999  \n",
       "2     0.118545   0.060048   0.837867  13.660843 -2.188172  \n",
       "3     0.118545   0.060048  -1.192531  13.660843 -0.552999  \n",
       "4     0.118545   0.060048   0.837867  13.660843 -2.188172  \n",
       "\n",
       "[5 rows x 43 columns]"
      ]
     },
     "execution_count": 3,
     "metadata": {},
     "output_type": "execute_result"
    }
   ],
   "source": [
    "def preprocess(input_data, select_lst, sample = 592):\n",
    "    sample_data = input_data[input_data['當事者順位'] == 1].reset_index(drop=True, inplace=False)\n",
    "    dataA = sample_data[select_lst]\n",
    "    \n",
    "    death_injury_data = split_death_injury(dataA['死亡受傷人數'])\n",
    "    dist_df = pd.concat([dataA, death_injury_data], axis=1)\n",
    "    dist_df.drop(columns=['死亡受傷人數'], inplace=True)\n",
    "    \n",
    "    return dist_df, sample_data\n",
    "\n",
    "# List of columns to select\n",
    "select_lst = [\n",
    "    '天候名稱', \n",
    "    '路面狀況-路面狀態名稱',\n",
    "    '肇因研判大類別名稱-主要', '當事者屬-性-別名稱', '當事者事故發生時年齡', \n",
    "    '車輛撞擊部位大類別名稱-最初',\n",
    "    '光線名稱',\n",
    "    '道路類別-第1當事者-名稱',\n",
    "    '速限-第1當事者', \n",
    "    '道路型態大類別名稱',\n",
    "    '事故位置大類別名稱', \n",
    "    '號誌-號誌種類名稱',\n",
    "    '車道劃分設施-分向設施大類別名稱', '車道劃分設施-分道設施-快車道或一般車道間名稱',\n",
    "    '車道劃分設施-分道設施-快慢車道間名稱', '車道劃分設施-分道設施-路面邊線名稱',\n",
    "    '事故類型及型態大類別名稱',\n",
    "    '死亡受傷人數',\n",
    "    '經度', '緯度',\n",
    "    '道路型態子類別名稱', '事故位置子類別名稱', '車道劃分設施-分向設施子類別名稱', '事故類型及型態子類別名稱', \n",
    "    '當事者行動狀態子類別名稱', '車輛撞擊部位子類別名稱-最初', '車輛撞擊部位子類別名稱-其他', '肇因研判子類別名稱-個別',\n",
    "    \n",
    "    '當事者區分-類別-大類別名稱-車種', '當事者區分-類別-子類別名稱-車種',\n",
    "    '保護裝備名稱', '行動電話或電腦或其他相類功能裝置名稱', '當事者行動狀態大類別名稱',\n",
    "    '車輛撞擊部位大類別名稱-其他', '肇因研判大類別名稱-個別', '肇事逃逸類別名稱-是否肇逃',\n",
    "    '路面狀況-路面鋪裝名稱', '路面狀況-路面缺陷名稱',\n",
    "    '道路障礙-障礙物名稱', '道路障礙-視距品質名稱', '道路障礙-視距名稱','號誌-號誌動作名稱',\n",
    "]\n",
    "\n",
    "dist_dfA1 = preprocess(dataA1, select_lst, sample = 592)\n",
    "dist_dfA2 = preprocess(dataA2, select_lst, sample = 11840) # 120420\n",
    "\n",
    "    \n",
    "rbind_data = pd.concat([dist_dfA1[0], dist_dfA2[0]], axis=0, ignore_index=True)\n",
    "\n",
    "# rbind_data.loc[rbind_data['受傷'] > 1, '受傷'] = 2\n",
    "# rbind_data['速限-第1當事者'] = rbind_data['速限-第1當事者'].apply(lambda x: 1 if x > 60 else 0)\n",
    "# rbind_data = process_age(rbind_data)\n",
    "\n",
    "dist_df = process_data(rbind_data)\n",
    "scaler = StandardScaler()\n",
    "\n",
    "full_dist = pd.DataFrame(scaler.fit_transform(dist_df), columns = dist_df.columns)\n",
    "X1 = full_dist.drop(['受傷', '死亡', '經度', '緯度'], axis=1).to_numpy()\n",
    "\n",
    "full_dist.head()"
   ]
  },
  {
   "cell_type": "code",
   "execution_count": 123,
   "id": "8291f814-8a2a-4da2-afe0-d6259271f54d",
   "metadata": {},
   "outputs": [],
   "source": [
    "import pickle\n",
    "\n",
    "with open('CalculatedData/mapper_graph1.pkl', 'rb') as f:\n",
    "    mapper_graph1 = pickle.load(f)\n",
    "    \n",
    "mapper_plot1 = MapperLayoutInteractive(\n",
    "    mapper_graph1,\n",
    "    colors = dist_df[['速限-第1當事者']].to_numpy(),\n",
    "    cmap = 'jet',\n",
    "    # agg = np.nanmean,\n",
    "    agg = most_frequent_nonan,\n",
    "    dim = 3,\n",
    "    iterations = 30,\n",
    "    seed = 6,\n",
    "    width = 800,\n",
    "    height = 500)\n",
    "\n",
    "# fig_mean1 = mapper_plot1.plot()\n",
    "# fig_mean1.show(config={'scrollZoom': True})"
   ]
  },
  {
   "cell_type": "code",
   "execution_count": 124,
   "id": "e910bdd0-7964-4245-99d3-a41a6034f0d3",
   "metadata": {},
   "outputs": [],
   "source": [
    "x = vars(mapper_plot1._MapperLayoutInteractive__fig)['_data_objs'][1]['x']\n",
    "y = vars(mapper_plot1._MapperLayoutInteractive__fig)['_data_objs'][1]['y']\n",
    "z = vars(mapper_plot1._MapperLayoutInteractive__fig)['_data_objs'][1]['z']\n",
    "\n",
    "threeDimData = pd.DataFrame({'x': x, 'y': y, 'z': z})\n",
    "\n",
    "import re\n",
    "data_tuple = vars(mapper_plot1._MapperLayoutInteractive__fig)['_data_objs'][1]['text']\n",
    "\n",
    "data = []\n",
    "for item in data_tuple:\n",
    "    color = int(re.search(r'color: (-?\\d+)', item).group(1))\n",
    "    node = int(re.search(r'node: (\\d+)', item).group(1))\n",
    "    size = int(re.search(r'size: (\\d+)', item).group(1))\n",
    "    data.append({'color': color, 'node': node, 'size': size})\n",
    "component_info = pd.DataFrame(data)\n",
    "\n",
    "full_info = pd.concat([component_info, threeDimData], axis=1)\n",
    "\n",
    "mp_content_origin = vars(mapper_plot1._MapperLayoutInteractive__graph)['_node']\n",
    "\n",
    "mp_content = pd.DataFrame.from_dict(mp_content_origin, orient='index')\n",
    "mp_content.reset_index(inplace=True)\n",
    "mp_content.rename(columns={'index': 'node'}, inplace=True)\n",
    "\n",
    "full_info = pd.merge(full_info, mp_content, on=['node', 'size'], how='inner')"
   ]
  },
  {
   "cell_type": "markdown",
   "id": "96076d3f-7b1c-4330-a7a5-1fce1d7c8e6b",
   "metadata": {},
   "source": [
    "## 分群後進行預測"
   ]
  },
  {
   "cell_type": "code",
   "execution_count": 4,
   "id": "ffc9c91c-1aee-4fbe-b009-3b9b31273769",
   "metadata": {
    "tags": []
   },
   "outputs": [
    {
     "ename": "NameError",
     "evalue": "name 'full_info' is not defined",
     "output_type": "error",
     "traceback": [
      "\u001b[0;31m---------------------------------------------------------------------------\u001b[0m",
      "\u001b[0;31mNameError\u001b[0m                                 Traceback (most recent call last)",
      "Input \u001b[0;32mIn [4]\u001b[0m, in \u001b[0;36m<cell line: 2>\u001b[0;34m()\u001b[0m\n\u001b[1;32m      1\u001b[0m \u001b[38;5;66;03m# 0.03 預測最好\u001b[39;00m\n\u001b[0;32m----> 2\u001b[0m calinski_data \u001b[38;5;241m=\u001b[39m get_calinski_from_db(\u001b[43mfull_info\u001b[49m, \u001b[38;5;241m0.03\u001b[39m)\n\u001b[1;32m      3\u001b[0m labels \u001b[38;5;241m=\u001b[39m calinski_data[\u001b[38;5;241m3\u001b[39m]\n\u001b[1;32m      4\u001b[0m db \u001b[38;5;241m=\u001b[39m calinski_data[\u001b[38;5;241m2\u001b[39m]\n",
      "\u001b[0;31mNameError\u001b[0m: name 'full_info' is not defined"
     ]
    }
   ],
   "source": [
    "# 0.03 預測最好\n",
    "calinski_data = get_calinski_from_db(full_info, 0.03)\n",
    "labels = calinski_data[3]\n",
    "db = calinski_data[2]\n",
    "n_clusters_ = calinski_data[4]\n",
    "\n",
    "unique_labels = set(labels)\n",
    "core_samples_mask = np.zeros_like(labels, dtype=bool)\n",
    "core_samples_mask[db.core_sample_indices_] = True\n",
    "\n",
    "def matplotlib_to_plotly(cmap, alpha=1):\n",
    "    \"\"\"rgba\"\"\"\n",
    "    return f'rgba({int(cmap[0]*200)}, {int(cmap[1]*200)}, {int(cmap[2]*200)}, {alpha})'\n",
    "\n",
    "colors = [matplotlib_to_plotly(plt.cm.Spectral(each), alpha=0.8) for each in np.linspace(0, 1, len(unique_labels))]\n",
    "fig = go.Figure()\n",
    "\n",
    "for k, col in zip(unique_labels, colors):\n",
    "    if k == -1:\n",
    "        col = 'rgba(0,0,0,0)'\n",
    "\n",
    "    class_member_mask = labels == k\n",
    "\n",
    "    core_samples = full_info.iloc[:, 3:6][class_member_mask & core_samples_mask]\n",
    "    fig.add_trace(go.Scatter3d(\n",
    "        x=core_samples.iloc[:, 0],\n",
    "        y=core_samples.iloc[:, 1],\n",
    "        z=core_samples.iloc[:, 2],\n",
    "        mode='markers',\n",
    "        marker=dict(\n",
    "            size=6,\n",
    "            color=col,\n",
    "            opacity=0.8\n",
    "        ),\n",
    "        name=f'Cluster {k} Core'\n",
    "    ))\n",
    "\n",
    "    non_core_samples = full_info.iloc[:, 3:6][class_member_mask & ~core_samples_mask]\n",
    "    fig.add_trace(go.Scatter3d(\n",
    "        x=non_core_samples.iloc[:, 0],\n",
    "        y=non_core_samples.iloc[:, 1],\n",
    "        z=non_core_samples.iloc[:, 2],\n",
    "        mode='markers',\n",
    "        marker=dict(\n",
    "            size=6,\n",
    "            color=col,\n",
    "            opacity=0.5\n",
    "        ),\n",
    "        name=f'Cluster {k} Non-Core'\n",
    "    ))\n",
    "\n",
    "fig.update_layout(\n",
    "    title=f\"Estimated number of clusters: {n_clusters_}\",\n",
    "    margin=dict(l=0, r=0, b=0, t=0)\n",
    ")\n",
    "\n",
    "fig.show()"
   ]
  },
  {
   "cell_type": "markdown",
   "id": "c49f0cdd-619a-43a7-bcbf-d69d3720f81f",
   "metadata": {},
   "source": [
    "分群應該要：\n",
    "1. 三個主要群體\n",
    "2. 離群值\n",
    "3. 重複資料點\n",
    "\n",
    "其中離群值和重複資料點合併進行預測，總共為四個群體分別訓練"
   ]
  },
  {
   "cell_type": "code",
   "execution_count": 126,
   "id": "93ad12dc-e96c-45ad-bbc7-2040399ba1f4",
   "metadata": {},
   "outputs": [
    {
     "name": "stdout",
     "output_type": "stream",
     "text": [
      "[ 0  1  2 -1]\n"
     ]
    },
    {
     "data": {
      "text/plain": [
       "538"
      ]
     },
     "execution_count": 126,
     "metadata": {},
     "output_type": "execute_result"
    }
   ],
   "source": [
    "# 0.03 預測最好\n",
    "calinski_data = get_calinski_from_db(full_info, 0.03)\n",
    "\n",
    "label_0 = full_info[full_info['label'] == 0]\n",
    "label_1 = full_info[full_info['label'] == 1]\n",
    "label_2 = full_info[full_info['label'] == 2]\n",
    "label_out = full_info[(full_info['label'] != 1) & (full_info['label'] != 2) & (full_info['label'] != 0)]\n",
    "\n",
    "count_0 = get_count_dict(label_0)\n",
    "count_1 = get_count_dict(label_1)\n",
    "count_2 = get_count_dict(label_2)\n",
    "count_out = get_count_dict(label_out)\n",
    "\n",
    "print(full_info['label'].unique())\n",
    "\n",
    "len(count_out)"
   ]
  },
  {
   "cell_type": "code",
   "execution_count": 127,
   "id": "80da4fd5-6c42-44a1-a043-beb94bc13388",
   "metadata": {},
   "outputs": [
    {
     "name": "stdout",
     "output_type": "stream",
     "text": [
      "01連接點數量 220\n",
      "02連接點數量 0\n",
      "12連接點數量 0\n",
      "o0連接點數量 117\n",
      "o1連接點數量 57\n",
      "o2連接點數量 207\n",
      "離群值數量 538\n"
     ]
    },
    {
     "data": {
      "text/plain": [
       "True"
      ]
     },
     "execution_count": 127,
     "metadata": {},
     "output_type": "execute_result"
    }
   ],
   "source": [
    "full_0 = rbind_data.loc[count_0.keys()]\n",
    "full_1 = rbind_data.loc[count_1.keys()]\n",
    "full_2 = rbind_data.loc[count_2.keys()]\n",
    "\n",
    "# full_0['weight'] = full_0.index.map(count_0)\n",
    "# full_1['weight'] = full_1.index.map(count_1)\n",
    "# full_2['weight'] = full_2.index.map(count_2)\n",
    "\n",
    "# 離群值不需要被處理\n",
    "full_out = rbind_data.loc[count_out.keys()]\n",
    "\n",
    "lst01 = list(count_0.keys() & count_1.keys())\n",
    "lst02 = list(count_0.keys() & count_2.keys())\n",
    "lst12 = list(count_1.keys() & count_2.keys())\n",
    "lsto0 = list(count_out.keys() & count_0.keys())\n",
    "lsto1 = list(count_out.keys() & count_1.keys())\n",
    "lsto2 = list(count_out.keys() & count_2.keys())\n",
    "\n",
    "# 將重複的key另外拉出進行分析，這裡drop是為了符合卡方的獨立性前提假設\n",
    "full_01 = full_0.loc[lst01]\n",
    "full_02 = full_0.loc[lst02]\n",
    "full_12 = full_1.loc[lst12]\n",
    "\n",
    "full_combine = pd.concat([full_01, full_02, full_12, full_out], axis=0)\n",
    "full_combine = full_combine.reset_index()\n",
    "full_combine = full_combine.drop_duplicates(subset='index', keep='first')\n",
    "full_combine = full_combine.drop('index', axis=1)\n",
    "# 四掉連接點，使分析更嚴謹\n",
    "full_0 = full_0.drop(lst01, errors='ignore')\n",
    "full_0 = full_0.drop(lst02, errors='ignore')\n",
    "full_0 = full_0.drop(lsto0, errors='ignore')\n",
    "\n",
    "full_1 = full_1.drop(lst01, errors='ignore')\n",
    "full_1 = full_1.drop(lst12, errors='ignore')\n",
    "full_1 = full_1.drop(lsto1, errors='ignore')\n",
    "\n",
    "full_2 = full_2.drop(lst02, errors='ignore')\n",
    "full_2 = full_2.drop(lst12, errors='ignore')\n",
    "full_2 = full_2.drop(lsto2, errors='ignore')\n",
    "\n",
    "print('01連接點數量', len(lst01))\n",
    "print('02連接點數量', len(lst02))\n",
    "print('12連接點數量', len(lst12))\n",
    "print('o0連接點數量', len(lsto0))\n",
    "print('o1連接點數量', len(lsto1))\n",
    "print('o2連接點數量', len(lsto2))\n",
    "print('離群值數量', full_out.shape[0])\n",
    "\n",
    "full_combine.shape[0] + full_0.shape[0] + full_1.shape[0] + full_2.shape[0] == rbind_data.shape[0]"
   ]
  },
  {
   "cell_type": "markdown",
   "id": "041c61df-8d5e-498f-80c3-9bcf19a1e4a3",
   "metadata": {},
   "source": [
    "## 分別做預測"
   ]
  },
  {
   "cell_type": "code",
   "execution_count": 218,
   "id": "d6d91bcd-378e-47d2-98ea-97439c1e1ff6",
   "metadata": {
    "tags": []
   },
   "outputs": [
    {
     "name": "stdout",
     "output_type": "stream",
     "text": [
      "0    491\n",
      "1    266\n",
      "dtype: int64\n",
      "0    80101\n",
      "1    32269\n",
      "dtype: int64\n",
      "0    3590\n",
      "1    2071\n",
      "dtype: int64\n",
      "0    1472\n",
      "1     752\n",
      "dtype: int64\n"
     ]
    }
   ],
   "source": [
    "lst_logit = [\n",
    "    '路面狀況-路面狀態名稱',\n",
    "    # '肇因研判大類別名稱-主要', # 降低預測值\n",
    "    '當事者屬-性-別名稱', '當事者事故發生時年齡', \n",
    "    '車輛撞擊部位大類別名稱-最初',\n",
    "    '光線名稱',\n",
    "    '道路類別-第1當事者-名稱',\n",
    "    '速限-第1當事者',\n",
    "    '道路型態大類別名稱',\n",
    "    '事故位置大類別名稱', \n",
    "    '號誌-號誌種類名稱',\n",
    "    '車道劃分設施-分向設施大類別名稱', '車道劃分設施-分道設施-快車道或一般車道間名稱',\n",
    "    '車道劃分設施-分道設施-快慢車道間名稱', '車道劃分設施-分道設施-路面邊線名稱',\n",
    "    '事故類型及型態大類別名稱',\n",
    "    '事故位置子類別名稱', '事故類型及型態子類別名稱', \n",
    "    '當事者行動狀態子類別名稱', '車輛撞擊部位子類別名稱-最初', '肇因研判子類別名稱-個別',\n",
    "    # '當事者區分-類別-大類別名稱-車種', \n",
    "    '當事者區分-類別-子類別名稱-車種',\n",
    "    '保護裝備名稱', '行動電話或電腦或其他相類功能裝置名稱', '當事者行動狀態大類別名稱',\n",
    "    '車輛撞擊部位大類別名稱-其他', '肇因研判大類別名稱-個別', '肇事逃逸類別名稱-是否肇逃',\n",
    "    '號誌-號誌動作名稱',\n",
    "    # '路面狀況-路面鋪裝名稱', '道路障礙-視距名稱', '車道劃分設施-分向設施子類別名稱', '車道劃分設施-分道設施-快慢車道間名稱', '車輛撞擊部位大類別名稱-其他',\n",
    "    # '道路障礙-障礙物名稱', '道路型態子類別名稱', '路面狀況-路面缺陷名稱', '天候名稱', '車輛撞擊部位子類別名稱-其他', \n",
    "]\n",
    "\n",
    "def get_clusterN_logit(cluster_data, lst):\n",
    "    scaler = StandardScaler()\n",
    "    \n",
    "    c0_for_lm = process_data(cluster_data)\n",
    "    c0_for_lm_X = pd.DataFrame(scaler.fit_transform(c0_for_lm), columns=c0_for_lm.columns).reset_index(drop=True, inplace=False)\n",
    "    \n",
    "    # 設置三個等級的label\n",
    "    # c0_for_lm_y = cluster_data['受傷']\n",
    "    # c0_for_lm_y = cluster_data.apply(lambda row: 2 if row['受傷'] >= 2 else 1, axis=1)\n",
    "    c0_for_lm_y = cluster_data.apply(lambda row: 1 if row['死亡'] != 0 else (1 if row['受傷'] >= 2 else 0), axis=1).reset_index(drop=True, inplace=False)\n",
    "    # c0_for_lm_y = cluster_data.apply(lambda row: '非常嚴重' if row['死亡'] != 0 else ('嚴重' if row['受傷'] > 1 else '正常'), axis=1)\n",
    "        \n",
    "    c0_for_lm_X = c0_for_lm_X[lst]\n",
    "    \n",
    "    return c0_for_lm_X, c0_for_lm_y\n",
    "\n",
    "\n",
    "full_combine_X,  full_combine_y = get_clusterN_logit(full_combine, lst_logit)\n",
    "full_0_X, full_0_y = get_clusterN_logit(full_0, lst_logit)\n",
    "full_1_X, full_1_y = get_clusterN_logit(full_1, lst_logit)\n",
    "full_2_X, full_2_y = get_clusterN_logit(full_2, lst_logit)\n",
    "\n",
    "print(full_combine_y.value_counts())\n",
    "print(full_0_y.value_counts())\n",
    "print(full_1_y.value_counts())\n",
    "print(full_2_y.value_counts())"
   ]
  },
  {
   "cell_type": "code",
   "execution_count": 260,
   "id": "f1f9c1da-8b4b-4797-83f9-cee7c93e5216",
   "metadata": {},
   "outputs": [],
   "source": [
    "# X = pd.concat([full_combine_X, full_2_X], axis=0)\n",
    "# y = pd.concat([full_combine_y, full_2_y], axis=0)"
   ]
  },
  {
   "cell_type": "markdown",
   "id": "ce766684-9099-4f2a-b12d-a451f14ccd5e",
   "metadata": {},
   "source": [
    "### 分為連接點預測、最大群預測、低速限預測、高速限預測"
   ]
  },
  {
   "cell_type": "markdown",
   "id": "6d7e0b42-305f-4496-a310-bfa5152bcc6d",
   "metadata": {
    "tags": []
   },
   "source": [
    "## logistic 加權平均準確"
   ]
  },
  {
   "cell_type": "code",
   "execution_count": 239,
   "id": "5dfa4d00-e6e3-41ae-9cf5-37f631e3b8c0",
   "metadata": {},
   "outputs": [
    {
     "name": "stdout",
     "output_type": "stream",
     "text": [
      "0.6052631578947368 0.6440331049212423 0.7343336275375111 0.5662921348314607\n",
      "71.94625782966614\n"
     ]
    }
   ],
   "source": [
    "start_time = time.time()\n",
    "matrix_combine, score_combine, cm_combine = logistic_cm_gridsearch(full_combine_X,  full_combine_y)\n",
    "matrix_0, score_0, cm_0 = logistic_cm_gridsearch(full_0_X, full_0_y)\n",
    "matrix_1, score_1, cm_1 = logistic_cm_gridsearch(full_1_X, full_1_y)\n",
    "matrix_2, score_2, cm_2 = logistic_cm_gridsearch(full_2_X, full_2_y)\n",
    "print(score_combine, score_0, score_1, score_2)\n",
    "end_time = time.time()\n",
    "elapsed_time = end_time - start_time\n",
    "print(elapsed_time)"
   ]
  },
  {
   "cell_type": "code",
   "execution_count": 247,
   "id": "97ac1be6-6ae4-42a6-b7eb-84292a4dad81",
   "metadata": {},
   "outputs": [
    {
     "name": "stdout",
     "output_type": "stream",
     "text": [
      "[[59 44]\n",
      " [16 33]]\n"
     ]
    },
    {
     "data": {
      "text/html": [
       "<div>\n",
       "<style scoped>\n",
       "    .dataframe tbody tr th:only-of-type {\n",
       "        vertical-align: middle;\n",
       "    }\n",
       "\n",
       "    .dataframe tbody tr th {\n",
       "        vertical-align: top;\n",
       "    }\n",
       "\n",
       "    .dataframe thead th {\n",
       "        text-align: right;\n",
       "    }\n",
       "</style>\n",
       "<table border=\"1\" class=\"dataframe\">\n",
       "  <thead>\n",
       "    <tr style=\"text-align: right;\">\n",
       "      <th></th>\n",
       "      <th>Label</th>\n",
       "      <th>Precision</th>\n",
       "      <th>Recall</th>\n",
       "      <th>F1 Score</th>\n",
       "    </tr>\n",
       "  </thead>\n",
       "  <tbody>\n",
       "    <tr>\n",
       "      <th>0</th>\n",
       "      <td>Class_0</td>\n",
       "      <td>0.786667</td>\n",
       "      <td>0.572816</td>\n",
       "      <td>0.662921</td>\n",
       "    </tr>\n",
       "    <tr>\n",
       "      <th>1</th>\n",
       "      <td>Class_1</td>\n",
       "      <td>0.428571</td>\n",
       "      <td>0.673469</td>\n",
       "      <td>0.523810</td>\n",
       "    </tr>\n",
       "  </tbody>\n",
       "</table>\n",
       "</div>"
      ],
      "text/plain": [
       "     Label  Precision    Recall  F1 Score\n",
       "0  Class_0   0.786667  0.572816  0.662921\n",
       "1  Class_1   0.428571  0.673469  0.523810"
      ]
     },
     "execution_count": 247,
     "metadata": {},
     "output_type": "execute_result"
    }
   ],
   "source": [
    "print(cm_combine)\n",
    "matrix_combine"
   ]
  },
  {
   "cell_type": "code",
   "execution_count": 244,
   "id": "3ce80058-6fe9-4a9b-ab1d-31a89e2c657b",
   "metadata": {},
   "outputs": [
    {
     "name": "stdout",
     "output_type": "stream",
     "text": [
      "[[9584 6402]\n",
      " [1598 4890]]\n"
     ]
    },
    {
     "data": {
      "text/html": [
       "<div>\n",
       "<style scoped>\n",
       "    .dataframe tbody tr th:only-of-type {\n",
       "        vertical-align: middle;\n",
       "    }\n",
       "\n",
       "    .dataframe tbody tr th {\n",
       "        vertical-align: top;\n",
       "    }\n",
       "\n",
       "    .dataframe thead th {\n",
       "        text-align: right;\n",
       "    }\n",
       "</style>\n",
       "<table border=\"1\" class=\"dataframe\">\n",
       "  <thead>\n",
       "    <tr style=\"text-align: right;\">\n",
       "      <th></th>\n",
       "      <th>Label</th>\n",
       "      <th>Precision</th>\n",
       "      <th>Recall</th>\n",
       "      <th>F1 Score</th>\n",
       "    </tr>\n",
       "  </thead>\n",
       "  <tbody>\n",
       "    <tr>\n",
       "      <th>0</th>\n",
       "      <td>Class_0</td>\n",
       "      <td>0.857092</td>\n",
       "      <td>0.599525</td>\n",
       "      <td>0.705536</td>\n",
       "    </tr>\n",
       "    <tr>\n",
       "      <th>1</th>\n",
       "      <td>Class_1</td>\n",
       "      <td>0.433050</td>\n",
       "      <td>0.753699</td>\n",
       "      <td>0.550056</td>\n",
       "    </tr>\n",
       "  </tbody>\n",
       "</table>\n",
       "</div>"
      ],
      "text/plain": [
       "     Label  Precision    Recall  F1 Score\n",
       "0  Class_0   0.857092  0.599525  0.705536\n",
       "1  Class_1   0.433050  0.753699  0.550056"
      ]
     },
     "execution_count": 244,
     "metadata": {},
     "output_type": "execute_result"
    }
   ],
   "source": [
    "print(cm_0)\n",
    "matrix_0"
   ]
  },
  {
   "cell_type": "code",
   "execution_count": 242,
   "id": "be483cc1-7ef4-4a38-94ce-5cf941046c5d",
   "metadata": {},
   "outputs": [
    {
     "name": "stdout",
     "output_type": "stream",
     "text": [
      "[[487 253]\n",
      " [ 48 345]]\n"
     ]
    },
    {
     "data": {
      "text/html": [
       "<div>\n",
       "<style scoped>\n",
       "    .dataframe tbody tr th:only-of-type {\n",
       "        vertical-align: middle;\n",
       "    }\n",
       "\n",
       "    .dataframe tbody tr th {\n",
       "        vertical-align: top;\n",
       "    }\n",
       "\n",
       "    .dataframe thead th {\n",
       "        text-align: right;\n",
       "    }\n",
       "</style>\n",
       "<table border=\"1\" class=\"dataframe\">\n",
       "  <thead>\n",
       "    <tr style=\"text-align: right;\">\n",
       "      <th></th>\n",
       "      <th>Label</th>\n",
       "      <th>Precision</th>\n",
       "      <th>Recall</th>\n",
       "      <th>F1 Score</th>\n",
       "    </tr>\n",
       "  </thead>\n",
       "  <tbody>\n",
       "    <tr>\n",
       "      <th>0</th>\n",
       "      <td>Class_0</td>\n",
       "      <td>0.910280</td>\n",
       "      <td>0.658108</td>\n",
       "      <td>0.763922</td>\n",
       "    </tr>\n",
       "    <tr>\n",
       "      <th>1</th>\n",
       "      <td>Class_1</td>\n",
       "      <td>0.576923</td>\n",
       "      <td>0.877863</td>\n",
       "      <td>0.696266</td>\n",
       "    </tr>\n",
       "  </tbody>\n",
       "</table>\n",
       "</div>"
      ],
      "text/plain": [
       "     Label  Precision    Recall  F1 Score\n",
       "0  Class_0   0.910280  0.658108  0.763922\n",
       "1  Class_1   0.576923  0.877863  0.696266"
      ]
     },
     "execution_count": 242,
     "metadata": {},
     "output_type": "execute_result"
    }
   ],
   "source": [
    "print(cm_1)\n",
    "matrix_1"
   ]
  },
  {
   "cell_type": "code",
   "execution_count": 243,
   "id": "d33e20a5-4517-4b39-b046-b6e471cb4e62",
   "metadata": {},
   "outputs": [
    {
     "name": "stdout",
     "output_type": "stream",
     "text": [
      "[[172 128]\n",
      " [ 65  80]]\n"
     ]
    },
    {
     "data": {
      "text/html": [
       "<div>\n",
       "<style scoped>\n",
       "    .dataframe tbody tr th:only-of-type {\n",
       "        vertical-align: middle;\n",
       "    }\n",
       "\n",
       "    .dataframe tbody tr th {\n",
       "        vertical-align: top;\n",
       "    }\n",
       "\n",
       "    .dataframe thead th {\n",
       "        text-align: right;\n",
       "    }\n",
       "</style>\n",
       "<table border=\"1\" class=\"dataframe\">\n",
       "  <thead>\n",
       "    <tr style=\"text-align: right;\">\n",
       "      <th></th>\n",
       "      <th>Label</th>\n",
       "      <th>Precision</th>\n",
       "      <th>Recall</th>\n",
       "      <th>F1 Score</th>\n",
       "    </tr>\n",
       "  </thead>\n",
       "  <tbody>\n",
       "    <tr>\n",
       "      <th>0</th>\n",
       "      <td>Class_0</td>\n",
       "      <td>0.725738</td>\n",
       "      <td>0.573333</td>\n",
       "      <td>0.640596</td>\n",
       "    </tr>\n",
       "    <tr>\n",
       "      <th>1</th>\n",
       "      <td>Class_1</td>\n",
       "      <td>0.384615</td>\n",
       "      <td>0.551724</td>\n",
       "      <td>0.453258</td>\n",
       "    </tr>\n",
       "  </tbody>\n",
       "</table>\n",
       "</div>"
      ],
      "text/plain": [
       "     Label  Precision    Recall  F1 Score\n",
       "0  Class_0   0.725738  0.573333  0.640596\n",
       "1  Class_1   0.384615  0.551724  0.453258"
      ]
     },
     "execution_count": 243,
     "metadata": {},
     "output_type": "execute_result"
    }
   ],
   "source": [
    "print(cm_2)\n",
    "matrix_2"
   ]
  },
  {
   "cell_type": "code",
   "execution_count": 249,
   "id": "8699d013-fcc4-477c-8764-77c13e4f6d41",
   "metadata": {},
   "outputs": [
    {
     "name": "stdout",
     "output_type": "stream",
     "text": [
      "0.6483640964279711\n"
     ]
    }
   ],
   "source": [
    "de = full_0_X.shape[0] + full_1_X.shape[0]\n",
    "logit_avg_score = (full_0_X.shape[0]/de)*score_0 + (full_1_X.shape[0]/de)*score_1\n",
    "print(logit_avg_score)"
   ]
  },
  {
   "cell_type": "code",
   "execution_count": 231,
   "id": "3c42e1fc-3e27-4fe3-9d07-654560fbedfc",
   "metadata": {},
   "outputs": [
    {
     "name": "stdout",
     "output_type": "stream",
     "text": [
      "0.6465861285151996\n"
     ]
    }
   ],
   "source": [
    "de = full_combine_X.shape[0] + full_0_X.shape[0] + full_1_X.shape[0] + full_2_X.shape[0]\n",
    "logit_avg_score = (full_combine_X.shape[0]/de)*score_combine + (full_0_X.shape[0]/de)*score_0 + (full_1_X.shape[0]/de)*score_1 + (full_2_X.shape[0]/de)*score_2\n",
    "print(logit_avg_score)"
   ]
  },
  {
   "cell_type": "code",
   "execution_count": 160,
   "id": "ce29233e-97f1-4b76-9005-792b12295379",
   "metadata": {},
   "outputs": [
    {
     "data": {
      "text/html": [
       "<div>\n",
       "<style scoped>\n",
       "    .dataframe tbody tr th:only-of-type {\n",
       "        vertical-align: middle;\n",
       "    }\n",
       "\n",
       "    .dataframe tbody tr th {\n",
       "        vertical-align: top;\n",
       "    }\n",
       "\n",
       "    .dataframe thead th {\n",
       "        text-align: right;\n",
       "    }\n",
       "</style>\n",
       "<table border=\"1\" class=\"dataframe\">\n",
       "  <thead>\n",
       "    <tr style=\"text-align: right;\">\n",
       "      <th></th>\n",
       "      <th>Metric</th>\n",
       "      <th>LR Mapper</th>\n",
       "      <th>LR Origin</th>\n",
       "    </tr>\n",
       "  </thead>\n",
       "  <tbody>\n",
       "    <tr>\n",
       "      <th>0</th>\n",
       "      <td>Accuracy</td>\n",
       "      <td>0.645802</td>\n",
       "      <td>0.632814</td>\n",
       "    </tr>\n",
       "    <tr>\n",
       "      <th>1</th>\n",
       "      <td>Precision</td>\n",
       "      <td>0.438697</td>\n",
       "      <td>0.424084</td>\n",
       "    </tr>\n",
       "    <tr>\n",
       "      <th>2</th>\n",
       "      <td>Recall</td>\n",
       "      <td>0.757597</td>\n",
       "      <td>0.708421</td>\n",
       "    </tr>\n",
       "    <tr>\n",
       "      <th>3</th>\n",
       "      <td>F1 Score</td>\n",
       "      <td>0.555642</td>\n",
       "      <td>0.530558</td>\n",
       "    </tr>\n",
       "  </tbody>\n",
       "</table>\n",
       "</div>"
      ],
      "text/plain": [
       "      Metric  LR Mapper  LR Origin\n",
       "0   Accuracy   0.645802   0.632814\n",
       "1  Precision   0.438697   0.424084\n",
       "2     Recall   0.757597   0.708421\n",
       "3   F1 Score   0.555642   0.530558"
      ]
     },
     "execution_count": 160,
     "metadata": {},
     "output_type": "execute_result"
    }
   ],
   "source": [
    "logistic_metrics = calculate_metrics(cm_combine + cm_0 + cm_1 + cm_2)\n",
    "logistic_metrics_origin = calculate_metrics(cm_origin)\n",
    "data = {\n",
    "    \"Metric\": [\"Accuracy\", \"Precision\", \"Recall\", \"F1 Score\"],\n",
    "    \"LR Mapper\": logistic_metrics,\n",
    "    \"LR Origin\": logistic_metrics_origin,\n",
    "}\n",
    "\n",
    "metrics_df = pd.DataFrame(data)\n",
    "metrics_df"
   ]
  },
  {
   "cell_type": "markdown",
   "id": "2fea64bc-9de8-4194-a61c-2af60bbdca94",
   "metadata": {},
   "source": [
    "## rf 加權平均準確"
   ]
  },
  {
   "cell_type": "code",
   "execution_count": 12,
   "id": "8d44c579-03c5-4bd1-8bb1-39df26b4063f",
   "metadata": {},
   "outputs": [],
   "source": [
    "# start_time = time.time()\n",
    "# rf_combine_X, rf_combine_y,  rf_cm_combine = rf_with_gridsearch(full_combine_X,  full_combine_y)\n",
    "# rf_matrix_0, rf_score_0, rf_cm_0 = rf_with_gridsearch(full_0_X, full_0_y)\n",
    "# rf_matrix_1, rf_score_1, rf_cm_1 = rf_with_gridsearch(full_1_X, full_1_y)\n",
    "# rf_matrix_2, rf_score_2, rf_cm_2 = rf_with_gridsearch(full_2_X, full_2_y)\n",
    "# print(rf_combine_y, rf_score_0, rf_score_1)\n",
    "# end_time = time.time()\n",
    "# elapsed_time = end_time - start_time\n",
    "# print(elapsed_time)"
   ]
  },
  {
   "cell_type": "code",
   "execution_count": 130,
   "id": "4549a329-36f5-43a4-8615-a481a1b09c17",
   "metadata": {},
   "outputs": [],
   "source": [
    "# de = full_combine_X.shape[0] + full_0_X.shape[0] + full_1_X.shape[0] + full_2_X.shape[0]\n",
    "# rf_avg_score = (full_combine_X.shape[0]/de)*rf_score_combine + (full_0_X.shape[0]/de)*rf_score_0 + (full_1_X.shape[0]/de)*rf_score_1 + (full_2_X.shape[0]/de)*rf_score_2\n",
    "# print(round(rf_avg_score, 3))"
   ]
  },
  {
   "cell_type": "markdown",
   "id": "46c14a3d-9773-450c-96e1-e9c9c575ec47",
   "metadata": {},
   "source": [
    "## svm 加權平均準確"
   ]
  },
  {
   "cell_type": "code",
   "execution_count": null,
   "id": "1f8ab38a-c198-40d3-8031-de64669024ae",
   "metadata": {},
   "outputs": [
    {
     "name": "stderr",
     "output_type": "stream",
     "text": [
      "/Users/wangqiqian/opt/anaconda3/lib/python3.9/site-packages/sklearn/svm/_base.py:1250: ConvergenceWarning:\n",
      "\n",
      "Liblinear failed to converge, increase the number of iterations.\n",
      "\n"
     ]
    }
   ],
   "source": [
    "start_time = time.time()\n",
    "svc_matrix_com, svc_score_com, svc_cm_combine = svc_cm_with_grid_search(full_combine_X, full_combine_y)\n",
    "svc_matrix_0, svc_score_0, svc_cm_0 = svc_cm_with_grid_search(full_0_X, full_0_y)\n",
    "svc_matrix_1, svc_score_1, svc_cm_1 = svc_cm_with_grid_search(full_1_X, full_1_y)\n",
    "svc_matrix_2, svc_score_2, svc_cm_2 = svc_cm_with_grid_search(full_2_X, full_2_y)\n",
    "print(svc_score_com, svc_score_0, svc_score_1)\n",
    "end_time = time.time()\n",
    "elapsed_time = end_time - start_time\n",
    "print(elapsed_time)"
   ]
  },
  {
   "cell_type": "code",
   "execution_count": null,
   "id": "f3f4d3d2-2360-4615-bee7-9910121e265f",
   "metadata": {},
   "outputs": [],
   "source": [
    "de = full_combine_X.shape[0] + full_0_X.shape[0] + full_1_X.shape[0] + full_2_X.shape[0]\n",
    "svm_avg_score = (full_combine_X.shape[0]/de)*svc_score_com + (full_0_X.shape[0]/de)*svc_score_0 + (full_1_X.shape[0]/de)*svc_score_1 + (full_2_X.shape[0]/de)*svc_score_2\n",
    "print(round(svm_avg_score, 3))"
   ]
  },
  {
   "cell_type": "code",
   "execution_count": 23,
   "id": "883f0250-531b-403d-b8e8-0c50c86b6100",
   "metadata": {},
   "outputs": [],
   "source": [
    "svm_avg_score = 0.6126657690217555\n",
    "logit_avg_score = 0.634398104029132"
   ]
  },
  {
   "cell_type": "markdown",
   "id": "76c0ac48-b7e5-43d7-81df-17ea191f9027",
   "metadata": {},
   "source": [
    "## 原始資料預測"
   ]
  },
  {
   "cell_type": "code",
   "execution_count": 180,
   "id": "a46dddba-8701-481a-9912-008fd8734d38",
   "metadata": {},
   "outputs": [],
   "source": [
    "origin_X, origin_y = get_clusterN_logit(rbind_data, lst_logit)\n",
    "\n",
    "matrix_origin, score_origin, cm_origin = logistic_cm_gridsearch(origin_X, origin_y)\n",
    "# rf_matrix_origin, rf_score_origin, rf_cm_origin = rf_with_gridsearch(origin_X, origin_y)\n",
    "# svc_matrix_origin, svc_score_origin, svc_cm_origin = svc_cm_with_grid_search(origin_X, origin_y)\n",
    "# print(round(score_origin, 3), round(rf_score_origin, 3), round(svc_score_origin, 3))\n",
    "# print(matrix_origin)\n",
    "# print(rf_matrix_origin)\n",
    "# print(svc_matrix_origin)"
   ]
  },
  {
   "cell_type": "code",
   "execution_count": 181,
   "id": "3369c9c6-50f3-477d-a95c-7a2c9935e74b",
   "metadata": {},
   "outputs": [
    {
     "data": {
      "text/plain": [
       "0.6329793827211503"
      ]
     },
     "execution_count": 181,
     "metadata": {},
     "output_type": "execute_result"
    }
   ],
   "source": [
    "score_origin"
   ]
  },
  {
   "cell_type": "code",
   "execution_count": 136,
   "id": "bcfc7f1b-411f-49d6-a74b-86bc91279fd2",
   "metadata": {},
   "outputs": [],
   "source": [
    "def calculate_metrics(confusion_matrix):\n",
    "    TP = confusion_matrix[1, 1]\n",
    "    TN = confusion_matrix[0, 0]\n",
    "    FP = confusion_matrix[0, 1]\n",
    "    FN = confusion_matrix[1, 0]\n",
    "    \n",
    "    precision = TP / (TP + FP)\n",
    "    recall = TP / (TP + FN)\n",
    "    accuracy = (TP + TN) / (TP + TN + FP + FN)\n",
    "    f1_score = 2 * (precision * recall) / (precision + recall)\n",
    "    \n",
    "    return accuracy, precision, recall, f1_score"
   ]
  },
  {
   "cell_type": "code",
   "execution_count": 79,
   "id": "d4cfe17e-c72c-4fc6-bea0-8dabcd305cf8",
   "metadata": {},
   "outputs": [
    {
     "data": {
      "text/html": [
       "<div>\n",
       "<style scoped>\n",
       "    .dataframe tbody tr th:only-of-type {\n",
       "        vertical-align: middle;\n",
       "    }\n",
       "\n",
       "    .dataframe tbody tr th {\n",
       "        vertical-align: top;\n",
       "    }\n",
       "\n",
       "    .dataframe thead th {\n",
       "        text-align: right;\n",
       "    }\n",
       "</style>\n",
       "<table border=\"1\" class=\"dataframe\">\n",
       "  <thead>\n",
       "    <tr style=\"text-align: right;\">\n",
       "      <th></th>\n",
       "      <th>Metric</th>\n",
       "      <th>Logistic Regression</th>\n",
       "      <th>Random Forest</th>\n",
       "      <th>SVC</th>\n",
       "    </tr>\n",
       "  </thead>\n",
       "  <tbody>\n",
       "    <tr>\n",
       "      <th>0</th>\n",
       "      <td>Accuracy</td>\n",
       "      <td>0.634441</td>\n",
       "      <td>0.712692</td>\n",
       "      <td>0.612667</td>\n",
       "    </tr>\n",
       "    <tr>\n",
       "      <th>1</th>\n",
       "      <td>Precision</td>\n",
       "      <td>0.425653</td>\n",
       "      <td>0.509541</td>\n",
       "      <td>0.416090</td>\n",
       "    </tr>\n",
       "    <tr>\n",
       "      <th>2</th>\n",
       "      <td>Recall</td>\n",
       "      <td>0.718891</td>\n",
       "      <td>0.445560</td>\n",
       "      <td>0.807410</td>\n",
       "    </tr>\n",
       "    <tr>\n",
       "      <th>3</th>\n",
       "      <td>F1 Score</td>\n",
       "      <td>0.534708</td>\n",
       "      <td>0.475407</td>\n",
       "      <td>0.549170</td>\n",
       "    </tr>\n",
       "  </tbody>\n",
       "</table>\n",
       "</div>"
      ],
      "text/plain": [
       "      Metric  Logistic Regression  Random Forest       SVC\n",
       "0   Accuracy             0.634441       0.712692  0.612667\n",
       "1  Precision             0.425653       0.509541  0.416090\n",
       "2     Recall             0.718891       0.445560  0.807410\n",
       "3   F1 Score             0.534708       0.475407  0.549170"
      ]
     },
     "execution_count": 79,
     "metadata": {},
     "output_type": "execute_result"
    }
   ],
   "source": [
    "# print(\"Logistic \\n\", cm_combine + cm_0 + cm_1 + cm_2)\n",
    "# print(\"RF \\n\", rf_cm_combine + rf_cm_0 + rf_cm_1 + rf_cm_2)\n",
    "# print(\"SVC \\n\", svc_cm_combine + svc_cm_0 + svc_cm_1 + svc_cm_2)\n",
    "\n",
    "logistic_metrics = calculate_metrics(cm_combine + cm_0 + cm_1 + cm_2)\n",
    "rf_metrics = calculate_metrics(rf_cm_combine + rf_cm_0 + rf_cm_1 + rf_cm_2)\n",
    "svc_metrics = calculate_metrics(svc_cm_combine + svc_cm_0 + svc_cm_1 + svc_cm_2)\n",
    "\n",
    "data = {\n",
    "    \"Metric\": [\"Accuracy\", \"Precision\", \"Recall\", \"F1 Score\"],\n",
    "    \"Logistic Regression\": logistic_metrics,\n",
    "    \"Random Forest\": rf_metrics,\n",
    "    \"SVC\": svc_metrics\n",
    "}\n",
    "\n",
    "metrics_df = pd.DataFrame(data)\n",
    "metrics_df"
   ]
  },
  {
   "cell_type": "code",
   "execution_count": 81,
   "id": "d43b4ce5-65cb-4e2a-9fcb-cd36fa3826fc",
   "metadata": {},
   "outputs": [
    {
     "data": {
      "text/html": [
       "<div>\n",
       "<style scoped>\n",
       "    .dataframe tbody tr th:only-of-type {\n",
       "        vertical-align: middle;\n",
       "    }\n",
       "\n",
       "    .dataframe tbody tr th {\n",
       "        vertical-align: top;\n",
       "    }\n",
       "\n",
       "    .dataframe thead th {\n",
       "        text-align: right;\n",
       "    }\n",
       "</style>\n",
       "<table border=\"1\" class=\"dataframe\">\n",
       "  <thead>\n",
       "    <tr style=\"text-align: right;\">\n",
       "      <th></th>\n",
       "      <th>Metric</th>\n",
       "      <th>Logistic Regression</th>\n",
       "      <th>Random Forest</th>\n",
       "      <th>SVC</th>\n",
       "    </tr>\n",
       "  </thead>\n",
       "  <tbody>\n",
       "    <tr>\n",
       "      <th>0</th>\n",
       "      <td>Accuracy</td>\n",
       "      <td>0.620873</td>\n",
       "      <td>0.709581</td>\n",
       "      <td>0.600297</td>\n",
       "    </tr>\n",
       "    <tr>\n",
       "      <th>1</th>\n",
       "      <td>Precision</td>\n",
       "      <td>0.408409</td>\n",
       "      <td>0.504869</td>\n",
       "      <td>0.397461</td>\n",
       "    </tr>\n",
       "    <tr>\n",
       "      <th>2</th>\n",
       "      <td>Recall</td>\n",
       "      <td>0.656369</td>\n",
       "      <td>0.438849</td>\n",
       "      <td>0.706729</td>\n",
       "    </tr>\n",
       "    <tr>\n",
       "      <th>3</th>\n",
       "      <td>F1 Score</td>\n",
       "      <td>0.503517</td>\n",
       "      <td>0.469549</td>\n",
       "      <td>0.508784</td>\n",
       "    </tr>\n",
       "  </tbody>\n",
       "</table>\n",
       "</div>"
      ],
      "text/plain": [
       "      Metric  Logistic Regression  Random Forest       SVC\n",
       "0   Accuracy             0.620873       0.709581  0.600297\n",
       "1  Precision             0.408409       0.504869  0.397461\n",
       "2     Recall             0.656369       0.438849  0.706729\n",
       "3   F1 Score             0.503517       0.469549  0.508784"
      ]
     },
     "execution_count": 81,
     "metadata": {},
     "output_type": "execute_result"
    }
   ],
   "source": [
    "logistic_metrics = calculate_metrics(cm_origin)\n",
    "rf_metrics = calculate_metrics(rf_cm_origin)\n",
    "svc_metrics = calculate_metrics(svc_cm_origin)\n",
    "\n",
    "data = {\n",
    "    \"Metric\": [\"Accuracy\", \"Precision\", \"Recall\", \"F1 Score\"],\n",
    "    \"Logistic Regression\": logistic_metrics,\n",
    "    \"Random Forest\": rf_metrics,\n",
    "    \"SVC\": svc_metrics\n",
    "}\n",
    "\n",
    "metrics_df = pd.DataFrame(data)\n",
    "metrics_df"
   ]
  },
  {
   "cell_type": "code",
   "execution_count": 60,
   "id": "bcc6c951-e6f0-4e6d-a7fd-8b5c547581c5",
   "metadata": {},
   "outputs": [],
   "source": [
    "score_origin = 0.6208734454406478\n",
    "rf_score_origin = 0.7095814568441928\n",
    "svc_score_origin = 0.6002974837830021"
   ]
  },
  {
   "cell_type": "code",
   "execution_count": 67,
   "id": "15c88f1a-c29c-420f-8cc5-90216d68f2e3",
   "metadata": {},
   "outputs": [
    {
     "data": {
      "image/png": "[encoded data removed]",
      "text/plain": [
       "<Figure size 640x480 with 1 Axes>"
      ]
     },
     "metadata": {},
     "output_type": "display_data"
    }
   ],
   "source": [
    "categories = ['Mapper', 'Origin']\n",
    "logit_scores = [logit_avg_score, score_origin]\n",
    "svm_scores = [svm_avg_score, svc_score_origin]\n",
    "\n",
    "x = np.arange(len(categories))  # the label locations\n",
    "width = 0.35  # the width of the bars, adjusted for better visualization\n",
    "\n",
    "fig, ax = plt.subplots()\n",
    "rects1 = ax.bar(x - width/2, logit_scores, width, label='Logit')\n",
    "rects3 = ax.bar(x + width/2, svm_scores, width, label='SVM')\n",
    "\n",
    "ax.set_xlabel('Models')\n",
    "ax.set_ylabel('Scores')\n",
    "ax.set_title('Scores by different models and data origins')\n",
    "ax.set_xticks(x)\n",
    "ax.set_xticklabels(categories)\n",
    "ax.legend(loc='upper center', bbox_to_anchor=(0.5, -0.15), ncol=2)  # adjusted legend positioning\n",
    "\n",
    "# Attach a text label above each bar in *rects*, displaying its height.\n",
    "def autolabel(rects):\n",
    "    for rect in rects:\n",
    "        height = rect.get_height()\n",
    "        ax.annotate(f'{height:.3f}',\n",
    "                    xy=(rect.get_x() + rect.get_width() / 2, height),\n",
    "                    xytext=(0, 2),  # slight vertical offset\n",
    "                    textcoords=\"offset points\",\n",
    "                    ha='center', va='bottom')\n",
    "\n",
    "autolabel(rects1)\n",
    "autolabel(rects3)\n",
    "\n",
    "fig.tight_layout()\n",
    "\n",
    "plt.show()\n",
    "\n",
    "fig.savefig('CalculatedData/道路分析.png')"
   ]
  }
 ],
 "metadata": {
  "kernelspec": {
   "display_name": "Python 3 (ipykernel)",
   "language": "python",
   "name": "python3"
  },
  "language_info": {
   "codemirror_mode": {
    "name": "ipython",
    "version": 3
   },
   "file_extension": ".py",
   "mimetype": "text/x-python",
   "name": "python",
   "nbconvert_exporter": "python",
   "pygments_lexer": "ipython3",
   "version": "3.9.12"
  }
 },
 "nbformat": 4,
 "nbformat_minor": 5
}

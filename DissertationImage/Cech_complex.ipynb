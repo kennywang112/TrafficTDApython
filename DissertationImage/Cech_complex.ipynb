{
 "cells": [
  {
   "cell_type": "code",
   "execution_count": 9,
   "id": "e94b29f5-a0d3-4ed9-acd9-21d4418bc84b",
   "metadata": {},
   "outputs": [],
   "source": [
    "import matplotlib.pyplot as plt\n",
    "import networkx as nx\n",
    "import numpy as np\n",
    "from itertools import combinations"
   ]
  },
  {
   "cell_type": "code",
   "execution_count": 12,
   "id": "1d238742-c72f-4f7d-8271-2cefdde98d62",
   "metadata": {},
   "outputs": [
    {
     "data": {
      "text/plain": [
       "array([[0.        , 0.        ],\n",
       "       [0.8       , 0.        ],\n",
       "       [0.4       , 0.69282032],\n",
       "       [1.2       , 0.69282032],\n",
       "       [1.7       , 0.        ],\n",
       "       [2.7       , 0.        ],\n",
       "       [2.2       , 0.8660254 ]])"
      ]
     },
     "execution_count": 12,
     "metadata": {},
     "output_type": "execute_result"
    }
   ],
   "source": [
    "def rotate_point(point, center, angle):\n",
    "    angle_rad = np.radians(angle)\n",
    "    rotation_matrix = np.array([[np.cos(angle_rad), -np.sin(angle_rad)], \n",
    "                                [np.sin(angle_rad), np.cos(angle_rad)]])\n",
    "    return np.dot(rotation_matrix, point - center) + center\n",
    "\n",
    "points = np.array([[0, 0], [0.8, 0], [0.4, np.sqrt(3)/2 * 0.8], [1.2, np.sqrt(3)/2 * 0.8],\n",
    "                   [1.7, 0], [2.7, 0], [2.2, np.sqrt(3)/2]])\n",
    "\n",
    "points"
   ]
  },
  {
   "cell_type": "code",
   "execution_count": 7,
   "id": "36eab97b-8da5-4277-8b14-1dcdecb7a489",
   "metadata": {},
   "outputs": [],
   "source": [
    "points = np.array([[0, 0], [0.8, 0],\n",
    "                    [0.4, 0.69282032], [1.2, 0.69282032],\n",
    "                    [3.0660254, 0.3660254],\n",
    "                    [3.0660254, 1.3660254],\n",
    "                    [2.2, 0.8660254]])\n",
    "\n",
    "threshold = 1.1\n",
    "\n",
    "G_final = nx.Graph()\n",
    "\n",
    "for i, point in enumerate(points):\n",
    "    G_final.add_node(i, pos=point)\n",
    "\n",
    "for i, j in combinations(range(len(points)), 2):\n",
    "    distance = np.linalg.norm(points[i] - points[j])\n",
    "    if distance <= threshold:\n",
    "        G_final.add_edge(i, j)"
   ]
  },
  {
   "cell_type": "code",
   "execution_count": 8,
   "id": "db95eca9-60ae-4679-8e5a-ad314e1261a6",
   "metadata": {},
   "outputs": [
    {
     "data": {
      "image/png": "[encoded data removed]",
      "text/plain": [
       "<Figure size 432x288 with 1 Axes>"
      ]
     },
     "metadata": {},
     "output_type": "display_data"
    }
   ],
   "source": [
    "fig, ax = plt.subplots()\n",
    "pos_final = nx.get_node_attributes(G_final, 'pos')\n",
    "nx.draw(G_final, pos_final, with_labels=False, node_color='lightblue', node_size=150, edge_color='gray', ax=ax)\n",
    "\n",
    "# radius plot\n",
    "radius = threshold / 2\n",
    "for point in points:\n",
    "    circle = plt.Circle(point, radius, color='lightcoral', fill=False, linestyle='dashed')\n",
    "    ax.add_artist(circle)\n",
    "\n",
    "# check simplex dimension\n",
    "triangles = []\n",
    "for i, j, k in combinations(range(4), 3):\n",
    "    if G_final.has_edge(i, j) and G_final.has_edge(i, k) and G_final.has_edge(j, k):\n",
    "        triangles.append([points[i], points[j], points[k]])\n",
    "\n",
    "# plot face\n",
    "for triangle in triangles:\n",
    "    triangle = np.array(triangle)\n",
    "    plt.fill(triangle[:, 0], triangle[:, 1], color='lightgreen', alpha=0.5)\n",
    "\n",
    "# set edges\n",
    "padding = 0.5\n",
    "all_x_final = points[:, 0]\n",
    "all_y_final = points[:, 1]\n",
    "ax.set_xlim([min(all_x_final) - radius - padding, max(all_x_final) + radius + padding])\n",
    "ax.set_ylim([min(all_y_final) - radius - padding, max(all_y_final) + radius + padding])\n",
    "\n",
    "plt.gca().set_aspect('equal', adjustable='box')\n",
    "plt.show()"
   ]
  }
 ],
 "metadata": {
  "kernelspec": {
   "display_name": "Python 3 (ipykernel)",
   "language": "python",
   "name": "python3"
  },
  "language_info": {
   "codemirror_mode": {
    "name": "ipython",
    "version": 3
   },
   "file_extension": ".py",
   "mimetype": "text/x-python",
   "name": "python",
   "nbconvert_exporter": "python",
   "pygments_lexer": "ipython3",
   "version": "3.10.6"
  }
 },
 "nbformat": 4,
 "nbformat_minor": 5
}

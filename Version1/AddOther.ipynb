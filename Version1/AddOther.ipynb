{
 "cells": [
  {
   "cell_type": "code",
   "execution_count": 1,
   "id": "e07defc8-93eb-4662-b71e-08db58313eec",
   "metadata": {},
   "outputs": [],
   "source": [
    "import requests\n",
    "from bs4 import BeautifulSoup\n",
    "import time"
   ]
  },
  {
   "cell_type": "code",
   "execution_count": 2,
   "id": "7f224f6f-4a83-4fc8-aa5c-fcad6861a725",
   "metadata": {},
   "outputs": [],
   "source": [
    "school_url = 'https://school.qmap.tw/'  # 學校\n",
    "train_url = 'https://train.qmap.tw/'  # 火車站地圖\n",
    "post_url = 'https://post.qmap.tw/'  # 郵局地圖\n",
    "museum_url = 'https://museum.qmap.tw/'  # 博物館地圖\n",
    "guesthouse_url = 'https://guesthouse.qmap.tw/'  # 民宿地圖\n",
    "themepark_url = 'https://themepark.qmap.tw/'  # 遊樂園地圖\n",
    "supermarket_url = 'https://supermarket.qmap.tw/'  # 大賣場地圖\n",
    "coffee_url = 'https://coffee.qmap.tw/'  # 咖啡店地圖\n",
    "fastfood_url = 'https://fastfood.qmap.tw/'  # 速食店地圖\n",
    "rtc_url = 'https://rtc.qmap.tw/'  # 捷運車站地圖\n",
    "thsrc_url = 'https://thsrc.qmap.tw/'  # 高鐵車站地圖\n",
    "baseball_url = 'https://baseball.qmap.tw/'  # 棒球場地圖\n",
    "night_url = 'https://night.qmap.tw/'  # 夜市地圖\n",
    "port_url = 'https://port.qmap.tw/'  # 漁港地圖\n",
    "library_url = 'https://library.qmap.tw/'  # 圖書館地圖\n",
    "bank_url = 'https://bank.qmap.tw/'  # 銀行地圖\n",
    "hospital_url = 'https://hospital.qmap.tw/'  # 醫院地圖\n",
    "temple_url = 'https://temple.qmap.tw/'  # 寺廟地圖\n",
    "police_url = 'https://police.qmap.tw/'  # 警察局地圖\n",
    "gas_url = 'https://gas.qmap.tw/'  # 加油站地圖\n",
    "town_office_url = 'https://town-office.qmap.tw/'  # 公所地圖\n",
    "hr_office_url = 'https://hr-office.qmap.tw/'  # 戶政事務所地圖\n",
    "mv_url = 'https://mv.qmap.tw/'  # 監理站地圖\n",
    "ntb_url = 'https://ntb.qmap.tw/'  # 國稅局地圖\n",
    "\n",
    "\n",
    "def facility(url):\n",
    "    # 發送HTTP GET請求以獲取網頁內容\n",
    "    response = requests.get(url)\n",
    "    html_content = response.text\n",
    "    # print(html_content)\n",
    "\n",
    "    soup = BeautifulSoup(html_content, 'html.parser')\n",
    "    table_div = soup.find('div', class_='table-responsive')\n",
    "\n",
    "    lst = []\n",
    "    if table_div:\n",
    "        # 查找表格\n",
    "        table = table_div.find('table', class_='table')\n",
    "        if table:\n",
    "            # 查找所有行\n",
    "            rows = table.find_all('tr')\n",
    "            for row in rows:\n",
    "                # 查找所有單元格\n",
    "                cells = row.find_all('td')\n",
    "                if len(cells) == 4:\n",
    "                    # 提取地址（第四個單元格）\n",
    "                    address = cells[3].text.strip()\n",
    "                    lst.append(address)\n",
    "    return lst"
   ]
  },
  {
   "cell_type": "code",
   "execution_count": 4,
   "id": "2b0e9052-09e7-40c1-9cfe-d6930d5cafcd",
   "metadata": {},
   "outputs": [
    {
     "name": "stdout",
     "output_type": "stream",
     "text": [
      "所花時間: 2.0650 秒\n"
     ]
    }
   ],
   "source": [
    "start_time = time.time()\n",
    "\n",
    "school = facility('https://school.qmap.tw/')  # 學校\n",
    "# train = facility('https://train.qmap.tw/')  # 火車站地圖\n",
    "# post = facility('https://post.qmap.tw/')  # 郵局地圖\n",
    "# museum = facility('https://museum.qmap.tw/')  # 博物館地圖\n",
    "# guesthouse = facility('https://guesthouse.qmap.tw/')  # 民宿地圖\n",
    "# themepark = facility('https://themepark.qmap.tw/')  # 遊樂園地圖\n",
    "# supermarket = facility('https://supermarket.qmap.tw/')  # 大賣場地圖\n",
    "# coffee = facility('https://coffee.qmap.tw/')  # 咖啡店地圖\n",
    "# fastfood = facility('https://fastfood.qmap.tw/')  # 速食店地圖\n",
    "# rtc = facility('https://rtc.qmap.tw/')  # 捷運車站地圖\n",
    "# thsrc = facility('https://thsrc.qmap.tw/')  # 高鐵車站地圖\n",
    "# baseball = facility('https://baseball.qmap.tw/')  # 棒球場地圖\n",
    "# night = facility('https://night.qmap.tw/')  # 夜市地圖\n",
    "# port = facility('https://port.qmap.tw/')  # 漁港地圖\n",
    "# library = facility('https://library.qmap.tw/')  # 圖書館地圖\n",
    "# bank = facility('https://bank.qmap.tw/')  # 銀行地圖\n",
    "# hospital = facility('https://hospital.qmap.tw/')  # 醫院地圖\n",
    "# temple = facility('https://temple.qmap.tw/')  # 寺廟地圖\n",
    "# police = facility('https://police.qmap.tw/')  # 警察局地圖\n",
    "# gas = facility('https://gas.qmap.tw/')  # 加油站地圖\n",
    "# town_office = facility('https://town-office.qmap.tw/')  # 公所地圖\n",
    "# hr_office = facility('https://hr-office.qmap.tw/')  # 戶政事務所地圖\n",
    "# mv = facility('https://mv.qmap.tw/')  # 監理站地圖\n",
    "# ntb = facility('https://ntb.qmap.tw/')  # 國稅局地圖\n",
    "\n",
    "end_time = time.time()\n",
    "elapsed_time = end_time - start_time\n",
    "print(f\"所花時間: {elapsed_time:.4f} 秒\")"
   ]
  },
  {
   "cell_type": "code",
   "execution_count": 6,
   "id": "56c94758-86ed-4beb-ba9b-4d37cc7c2367",
   "metadata": {},
   "outputs": [],
   "source": [
    "from geopy.geocoders import GoogleV3\n",
    "import pandas as pd\n",
    "import config\n",
    "\n",
    "geolocator = GoogleV3(api_key=config.GOOGLE_MAPS_API_KEY)"
   ]
  },
  {
   "cell_type": "code",
   "execution_count": 7,
   "id": "5708cb96-57d5-4e21-879c-08c4841b6de6",
   "metadata": {},
   "outputs": [],
   "source": [
    "def get_coordinate(addr):\n",
    "    df = pd.DataFrame(columns=['地址', '經度', '緯度'])\n",
    "    data = []\n",
    "    for address in addr:\n",
    "        location = geolocator.geocode(address)\n",
    "        if location:\n",
    "            lat, lon = location.latitude, location.longitude\n",
    "        else:\n",
    "            lat, lon = None, None\n",
    "\n",
    "        # 將數據添加到列表中\n",
    "        data.append({'地址': address, '經度': lon, '緯度': lat})\n",
    "        # time.sleep(1)  # 延遲以避免API請求過多\n",
    "\n",
    "    # 將列表轉換為DataFrame\n",
    "    df = pd.concat([df, pd.DataFrame(data)], ignore_index=True)\n",
    "    \n",
    "    return df"
   ]
  },
  {
   "cell_type": "code",
   "execution_count": 10,
   "id": "d2ea85ba-7e17-4794-9496-fec6607ccfe5",
   "metadata": {},
   "outputs": [
    {
     "name": "stdout",
     "output_type": "stream",
     "text": [
      "所花時間: 0.0001 秒\n"
     ]
    }
   ],
   "source": [
    "start_time = time.time()\n",
    "\n",
    "# school_data = get_coordinate(school)\n",
    "# train_data = get_coordinate(train)\n",
    "# post_data = get_coordinate(post)\n",
    "# museum_data = get_coordinate(museum)\n",
    "# guesthouse_data = get_coordinate(guesthouse)\n",
    "# themepark_data = get_coordinate(themepark)\n",
    "# supermarket_data = get_coordinate(supermarket)\n",
    "# coffee_data = get_coordinate(coffee)\n",
    "# fastfood_data = get_coordinate(fastfood)\n",
    "# rtc_data = get_coordinate(rtc)\n",
    "# thsrc_data = get_coordinate(thsrc)\n",
    "# baseball_data = get_coordinate(baseball)\n",
    "# night_data = get_coordinate(night)\n",
    "# port_data = get_coordinate(port)\n",
    "# library_data = get_coordinate(library)\n",
    "# bank_data = get_coordinate(bank)\n",
    "# hospital_data = get_coordinate(hospital)\n",
    "# temple_data = get_coordinate(temple)\n",
    "# police_data = get_coordinate(police)\n",
    "# gas_data = get_coordinate(gas)\n",
    "# town_office_data = get_coordinate(town_office)\n",
    "# hr_office_data = get_coordinate(hr_office)\n",
    "# mv_data = get_coordinate(mv)\n",
    "# ntb_data = get_coordinate(ntb)\n",
    "\n",
    "end_time = time.time()\n",
    "elapsed_time = end_time - start_time\n",
    "print(f\"所花時間: {elapsed_time:.4f} 秒\")"
   ]
  },
  {
   "cell_type": "code",
   "execution_count": 43,
   "id": "aabf459d-d37d-4a2a-9c78-0f9f1f1bbfa5",
   "metadata": {},
   "outputs": [],
   "source": [
    "# school_data.to_csv('CalculatedData/coord/school_data.csv', index=False, encoding='utf-8-sig')\n",
    "# train_data.to_csv('CalculatedData/coord/train_data.csv', index=False, encoding='utf-8-sig')\n",
    "# post_data.to_csv('CalculatedData/coord/post_data.csv', index=False, encoding='utf-8-sig')\n",
    "# museum_data.to_csv('CalculatedData/coord/museum_data.csv', index=False, encoding='utf-8-sig')\n",
    "# guesthouse_data.to_csv('CalculatedData/coord/guesthouse_data.csv', index=False, encoding='utf-8-sig')\n",
    "# themepark_data.to_csv('CalculatedData/coord/themepark_data.csv', index=False, encoding='utf-8-sig')\n",
    "# supermarket_data.to_csv('CalculatedData/coord/supermarket_data.csv', index=False, encoding='utf-8-sig')\n",
    "# coffee_data.to_csv('CalculatedData/coord/coffee_data.csv', index=False, encoding='utf-8-sig')\n",
    "# fastfood_data.to_csv('CalculatedData/coord/fastfood_data.csv', index=False, encoding='utf-8-sig')\n",
    "# rtc_data.to_csv('CalculatedData/coord/rtc_data.csv', index=False, encoding='utf-8-sig')\n",
    "# thsrc_data.to_csv('CalculatedData/coord/thsrc_data.csv', index=False, encoding='utf-8-sig')\n",
    "# baseball_data.to_csv('CalculatedData/coord/baseball_data.csv', index=False, encoding='utf-8-sig')\n",
    "# night_data.to_csv('CalculatedData/coord/night_data.csv', index=False, encoding='utf-8-sig')\n",
    "# port_data.to_csv('CalculatedData/coord/port_data.csv', index=False, encoding='utf-8-sig')\n",
    "# library_data.to_csv('CalculatedData/coord/library_data.csv', index=False, encoding='utf-8-sig')\n",
    "# bank_data.to_csv('CalculatedData/coord/bank_data.csv', index=False, encoding='utf-8-sig')\n",
    "# hospital_data.to_csv('CalculatedData/coord/hospital_data.csv', index=False, encoding='utf-8-sig')\n",
    "# temple_data.to_csv('CalculatedData/coord/temple_data.csv', index=False, encoding='utf-8-sig')\n",
    "# police_data.to_csv('CalculatedData/coord/police_data.csv', index=False, encoding='utf-8-sig')\n",
    "# gas_data.to_csv('CalculatedData/coord/gas_data.csv', index=False, encoding='utf-8-sig')\n",
    "# town_office_data.to_csv('CalculatedData/coord/town_office_data.csv', index=False, encoding='utf-8-sig')\n",
    "# hr_office_data.to_csv('CalculatedData/coord/hr_office_data.csv', index=False, encoding='utf-8-sig')\n",
    "# mv_data.to_csv('CalculatedData/coord/mv_data.csv', index=False, encoding='utf-8-sig')\n",
    "# ntb_data.to_csv('CalculatedData/coord/ntb_data.csv', index=False, encoding='utf-8-sig')"
   ]
  }
 ],
 "metadata": {
  "kernelspec": {
   "display_name": "Python 3 (ipykernel)",
   "language": "python",
   "name": "python3"
  },
  "language_info": {
   "codemirror_mode": {
    "name": "ipython",
    "version": 3
   },
   "file_extension": ".py",
   "mimetype": "text/x-python",
   "name": "python",
   "nbconvert_exporter": "python",
   "pygments_lexer": "ipython3",
   "version": "3.9.12"
  }
 },
 "nbformat": 4,
 "nbformat_minor": 5
}

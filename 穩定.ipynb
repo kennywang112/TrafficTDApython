{
 "cells": [
  {
   "cell_type": "markdown",
   "id": "8f6ab509-351c-42c0-9100-ccd86db2d982",
   "metadata": {},
   "source": [
    "## Tunning\n",
    "- https://arxiv.org/pdf/2309.06634"
   ]
  },
  {
   "cell_type": "code",
   "execution_count": 1,
   "id": "76fd4a57-57f1-43e4-8230-5334a7dac51f",
   "metadata": {},
   "outputs": [
    {
     "name": "stderr",
     "output_type": "stream",
     "text": [
      "python(62586) MallocStackLogging: can't turn off malloc stack logging because it was not enabled.\n",
      "python(62587) MallocStackLogging: can't turn off malloc stack logging because it was not enabled.\n",
      "python(62588) MallocStackLogging: can't turn off malloc stack logging because it was not enabled.\n"
     ]
    }
   ],
   "source": [
    "import numpy as np\n",
    "import pandas as pd\n",
    "import matplotlib.pyplot as plt\n",
    "from collections import Counter\n",
    "\n",
    "from sklearn.decomposition import PCA\n",
    "from sklearn.cluster import DBSCAN\n",
    "\n",
    "from tdamapper.core import MapperAlgorithm\n",
    "from tdamapper.cover import CubicalCover, BallCover, KNNCover, TrivialCover\n",
    "from tdamapper.plot import MapperLayoutInteractive, MapperLayoutStatic\n",
    "from tdamapper.clustering import FailSafeClustering\n",
    "from sklearn.cluster import AgglomerativeClustering\n",
    "from sklearn.preprocessing import StandardScaler\n",
    "import scipy.cluster.hierarchy as shc\n",
    "\n",
    "from functions import *\n",
    "\n",
    "from sklearn.cluster import DBSCAN, KMeans\n",
    "from sklearn import metrics"
   ]
  },
  {
   "cell_type": "code",
   "execution_count": 2,
   "id": "2551ede8-84ba-48da-8919-1339e17ead5f",
   "metadata": {},
   "outputs": [],
   "source": [
    "data1 = pd.read_csv(\"./Data/NPA_TMA2_1.csv\", low_memory=False)[:-2]\n",
    "data2 = pd.read_csv(\"./Data/NPA_TMA2_2.csv\", low_memory=False)[:-2]\n",
    "data3 = pd.read_csv(\"./Data/NPA_TMA2_3.csv\", low_memory=False)[:-2]\n",
    "data4 = pd.read_csv(\"./Data/NPA_TMA2_4.csv\", low_memory=False)[:-2]\n",
    "dataA2 = pd.concat([data1, data2, data3, data4], ignore_index=True)\n",
    "dataA1 = pd.read_csv(\"./Data/NPA_TMA1.csv\")[:-2]"
   ]
  },
  {
   "cell_type": "code",
   "execution_count": 37,
   "id": "6ea89f0d-f3c5-483a-9210-260cd1bccd1d",
   "metadata": {},
   "outputs": [],
   "source": [
    "def preprocess(input_data, select_lst, sample = 592):\n",
    "    sample_data = input_data[input_data['當事者順位'] == 1].reset_index(drop=True, inplace=False).sample(sample).reset_index(drop=True)\n",
    "    dataA = sample_data[select_lst]\n",
    "    \n",
    "    death_injury_data = split_death_injury(dataA['死亡受傷人數'])\n",
    "    dist_df = pd.concat([dataA, death_injury_data], axis=1)\n",
    "    dist_df.drop(columns=['死亡受傷人數'], inplace=True)\n",
    "    \n",
    "    return dist_df, sample_data"
   ]
  },
  {
   "cell_type": "code",
   "execution_count": 102,
   "id": "f74e59bd-5f3a-4f8f-ada9-e6c2a1c63412",
   "metadata": {},
   "outputs": [
    {
     "data": {
      "text/html": [
       "<div>\n",
       "<style scoped>\n",
       "    .dataframe tbody tr th:only-of-type {\n",
       "        vertical-align: middle;\n",
       "    }\n",
       "\n",
       "    .dataframe tbody tr th {\n",
       "        vertical-align: top;\n",
       "    }\n",
       "\n",
       "    .dataframe thead th {\n",
       "        text-align: right;\n",
       "    }\n",
       "</style>\n",
       "<table border=\"1\" class=\"dataframe\">\n",
       "  <thead>\n",
       "    <tr style=\"text-align: right;\">\n",
       "      <th></th>\n",
       "      <th>光線名稱</th>\n",
       "      <th>道路類別-第1當事者-名稱</th>\n",
       "      <th>速限-第1當事者</th>\n",
       "      <th>道路型態大類別名稱</th>\n",
       "      <th>事故位置大類別名稱</th>\n",
       "      <th>號誌-號誌種類名稱</th>\n",
       "      <th>車道劃分設施-分向設施大類別名稱</th>\n",
       "      <th>車道劃分設施-分道設施-快車道或一般車道間名稱</th>\n",
       "      <th>車道劃分設施-分道設施-快慢車道間名稱</th>\n",
       "      <th>車道劃分設施-分道設施-路面邊線名稱</th>\n",
       "      <th>事故類型及型態大類別名稱</th>\n",
       "      <th>經度</th>\n",
       "      <th>緯度</th>\n",
       "      <th>死亡</th>\n",
       "      <th>受傷</th>\n",
       "    </tr>\n",
       "  </thead>\n",
       "  <tbody>\n",
       "    <tr>\n",
       "      <th>0</th>\n",
       "      <td>0.164031</td>\n",
       "      <td>-0.238809</td>\n",
       "      <td>-0.155973</td>\n",
       "      <td>-0.823857</td>\n",
       "      <td>-0.884725</td>\n",
       "      <td>0.459947</td>\n",
       "      <td>1.179138</td>\n",
       "      <td>1.147815</td>\n",
       "      <td>-1.635504</td>\n",
       "      <td>-0.910494</td>\n",
       "      <td>-0.168285</td>\n",
       "      <td>-0.689692</td>\n",
       "      <td>-0.442043</td>\n",
       "      <td>9.323858</td>\n",
       "      <td>-0.603438</td>\n",
       "    </tr>\n",
       "    <tr>\n",
       "      <th>1</th>\n",
       "      <td>0.164031</td>\n",
       "      <td>-0.238809</td>\n",
       "      <td>-0.155973</td>\n",
       "      <td>1.197830</td>\n",
       "      <td>1.151368</td>\n",
       "      <td>-0.702362</td>\n",
       "      <td>-1.603051</td>\n",
       "      <td>1.147815</td>\n",
       "      <td>0.431433</td>\n",
       "      <td>1.098305</td>\n",
       "      <td>-0.168285</td>\n",
       "      <td>0.346310</td>\n",
       "      <td>0.815256</td>\n",
       "      <td>9.323858</td>\n",
       "      <td>-2.756155</td>\n",
       "    </tr>\n",
       "    <tr>\n",
       "      <th>2</th>\n",
       "      <td>0.164031</td>\n",
       "      <td>1.338045</td>\n",
       "      <td>-0.155973</td>\n",
       "      <td>-0.823857</td>\n",
       "      <td>-0.884725</td>\n",
       "      <td>2.784566</td>\n",
       "      <td>-0.211956</td>\n",
       "      <td>-0.805725</td>\n",
       "      <td>0.431433</td>\n",
       "      <td>1.098305</td>\n",
       "      <td>-0.168285</td>\n",
       "      <td>-1.067200</td>\n",
       "      <td>-0.587754</td>\n",
       "      <td>9.323858</td>\n",
       "      <td>-2.756155</td>\n",
       "    </tr>\n",
       "    <tr>\n",
       "      <th>3</th>\n",
       "      <td>0.164031</td>\n",
       "      <td>1.338045</td>\n",
       "      <td>-0.155973</td>\n",
       "      <td>-0.823857</td>\n",
       "      <td>-0.884725</td>\n",
       "      <td>-0.702362</td>\n",
       "      <td>-0.211956</td>\n",
       "      <td>-0.805725</td>\n",
       "      <td>0.431433</td>\n",
       "      <td>1.098305</td>\n",
       "      <td>-0.168285</td>\n",
       "      <td>-1.301993</td>\n",
       "      <td>-1.203266</td>\n",
       "      <td>9.323858</td>\n",
       "      <td>-2.756155</td>\n",
       "    </tr>\n",
       "    <tr>\n",
       "      <th>4</th>\n",
       "      <td>0.164031</td>\n",
       "      <td>-0.238809</td>\n",
       "      <td>-0.155973</td>\n",
       "      <td>1.197830</td>\n",
       "      <td>1.151368</td>\n",
       "      <td>-0.702362</td>\n",
       "      <td>0.483591</td>\n",
       "      <td>-0.805725</td>\n",
       "      <td>0.431433</td>\n",
       "      <td>1.098305</td>\n",
       "      <td>-2.696365</td>\n",
       "      <td>1.345797</td>\n",
       "      <td>1.051146</td>\n",
       "      <td>9.323858</td>\n",
       "      <td>-2.756155</td>\n",
       "    </tr>\n",
       "  </tbody>\n",
       "</table>\n",
       "</div>"
      ],
      "text/plain": [
       "       光線名稱  道路類別-第1當事者-名稱  速限-第1當事者  道路型態大類別名稱  事故位置大類別名稱  號誌-號誌種類名稱  \\\n",
       "0  0.164031      -0.238809 -0.155973  -0.823857  -0.884725   0.459947   \n",
       "1  0.164031      -0.238809 -0.155973   1.197830   1.151368  -0.702362   \n",
       "2  0.164031       1.338045 -0.155973  -0.823857  -0.884725   2.784566   \n",
       "3  0.164031       1.338045 -0.155973  -0.823857  -0.884725  -0.702362   \n",
       "4  0.164031      -0.238809 -0.155973   1.197830   1.151368  -0.702362   \n",
       "\n",
       "   車道劃分設施-分向設施大類別名稱  車道劃分設施-分道設施-快車道或一般車道間名稱  車道劃分設施-分道設施-快慢車道間名稱  \\\n",
       "0          1.179138                 1.147815            -1.635504   \n",
       "1         -1.603051                 1.147815             0.431433   \n",
       "2         -0.211956                -0.805725             0.431433   \n",
       "3         -0.211956                -0.805725             0.431433   \n",
       "4          0.483591                -0.805725             0.431433   \n",
       "\n",
       "   車道劃分設施-分道設施-路面邊線名稱  事故類型及型態大類別名稱        經度        緯度        死亡        受傷  \n",
       "0           -0.910494     -0.168285 -0.689692 -0.442043  9.323858 -0.603438  \n",
       "1            1.098305     -0.168285  0.346310  0.815256  9.323858 -2.756155  \n",
       "2            1.098305     -0.168285 -1.067200 -0.587754  9.323858 -2.756155  \n",
       "3            1.098305     -0.168285 -1.301993 -1.203266  9.323858 -2.756155  \n",
       "4            1.098305     -2.696365  1.345797  1.051146  9.323858 -2.756155  "
      ]
     },
     "execution_count": 102,
     "metadata": {},
     "output_type": "execute_result"
    }
   ],
   "source": [
    "# List of columns to select\n",
    "select_lst = [\n",
    "    '光線名稱',\n",
    "    '道路類別-第1當事者-名稱',\n",
    "    '速限-第1當事者', # '道路障礙-視距品質名稱', # 和速限共線\n",
    "    '道路型態大類別名稱', '事故位置大類別名稱',\n",
    "    '號誌-號誌種類名稱',\n",
    "    '車道劃分設施-分向設施大類別名稱', '車道劃分設施-分道設施-快車道或一般車道間名稱',\n",
    "    '車道劃分設施-分道設施-快慢車道間名稱', '車道劃分設施-分道設施-路面邊線名稱',\n",
    "    '事故類型及型態大類別名稱',\n",
    "    '死亡受傷人數',\n",
    "    '經度', '緯度',\n",
    "]\n",
    "\n",
    "dist_dfA1 = preprocess(dataA1, select_lst, 59)\n",
    "dist_dfA2 = preprocess(dataA2, select_lst, 5920) # 120420\n",
    "\n",
    "    \n",
    "rbind_data = pd.concat([dist_dfA1[0], dist_dfA2[0]], axis=0, ignore_index=True)\n",
    "\n",
    "rbind_data.loc[rbind_data['受傷'] > 1, '受傷'] = 2\n",
    "rbind_data['速限-第1當事者'] = rbind_data['速限-第1當事者'].apply(lambda x: 1 if x > 60 else 0)\n",
    "# rbind_data = process_age(rbind_data)\n",
    "\n",
    "dist_df = process_data(rbind_data)\n",
    "scaler = StandardScaler()\n",
    "\n",
    "full_dist = pd.DataFrame(scaler.fit_transform(dist_df), columns = dist_df.columns)\n",
    "X1 = full_dist.drop(['受傷', '死亡', '經度', '緯度'], axis=1).to_numpy()\n",
    "\n",
    "full_dist.head()"
   ]
  },
  {
   "cell_type": "code",
   "execution_count": 1,
   "id": "102a49ff-e1c9-4465-ab29-c7849dc4a091",
   "metadata": {},
   "outputs": [],
   "source": [
    "# lens1 = PCA(10).fit_transform(X1)\n",
    "\n",
    "# mapper_algo1 = MapperAlgorithm(\n",
    "#     cover = CubicalCover(\n",
    "#         n_intervals = 3,\n",
    "#         overlap_frac = 0.4\n",
    "#     ),\n",
    "#     clustering = FailSafeClustering(\n",
    "#         clustering = AgglomerativeClustering(3, affinity='euclidean', linkage='ward'),\n",
    "#         verbose = False)\n",
    "# )\n",
    "# mapper_graph1 = mapper_algo1.fit_transform(X1, lens1)\n",
    "\n",
    "# mapper_plot1 = MapperLayoutInteractive(\n",
    "#     mapper_graph1,\n",
    "#     colors = rbind_data[['死亡']].to_numpy(),\n",
    "#     cmap = 'jet',\n",
    "#     agg = np.nanmean,\n",
    "#     # agg = most_frequent_nonan,\n",
    "#     dim = 3,\n",
    "#     iterations = 30,\n",
    "#     seed = 15,\n",
    "#     width = 800,\n",
    "#     height = 500)\n",
    "\n",
    "# fig_mean1 = mapper_plot1.plot()\n",
    "# fig_mean1.show(config={'scrollZoom': True})"
   ]
  },
  {
   "cell_type": "code",
   "execution_count": 158,
   "id": "27dfc62c-0926-48cf-b11a-a1dbb6e4bf46",
   "metadata": {},
   "outputs": [],
   "source": [
    "def resample_plot(A1, A2, selected, p_age = False):\n",
    "    dist_dfA1 = preprocess(dataA1, selected, sample = 59)\n",
    "    dist_dfA2 = preprocess(dataA2, selected, sample = 5920)\n",
    "\n",
    "    rbind_data = pd.concat([dist_dfA1[0], dist_dfA2[0]], axis=0, ignore_index=True)\n",
    "    \n",
    "    rbind_data.loc[rbind_data['受傷'] > 1, '受傷'] = 2\n",
    "    rbind_data['速限-第1當事者'] = rbind_data['速限-第1當事者'].apply(lambda x: 1 if x > 60 else 0)\n",
    "    if p_age == True:\n",
    "        rbind_data = process_age(rbind_data)\n",
    "\n",
    "    dist_df = process_data(rbind_data)\n",
    "    scaler = StandardScaler()\n",
    "\n",
    "    full_dist = pd.DataFrame(scaler.fit_transform(dist_df), columns = dist_df.columns)\n",
    "    X1 = full_dist.drop(['受傷', '死亡', '經度', '緯度'], axis=1).to_numpy()\n",
    "\n",
    "    lens1 = PCA(10).fit_transform(X1)\n",
    "\n",
    "    mapper_algo1 = MapperAlgorithm(\n",
    "        cover = CubicalCover(\n",
    "            n_intervals = 3,\n",
    "            overlap_frac = 0.4\n",
    "        ),\n",
    "        clustering = FailSafeClustering(\n",
    "            clustering = AgglomerativeClustering(3, affinity='euclidean', linkage='ward'),\n",
    "            verbose = False)\n",
    "    )\n",
    "    mapper_graph1 = mapper_algo1.fit_transform(X1, lens1)\n",
    "\n",
    "    mapper_plot1 = MapperLayoutInteractive(\n",
    "        mapper_graph1,\n",
    "        colors = rbind_data[['速限-第1當事者']].to_numpy(),\n",
    "        cmap = 'jet',\n",
    "        agg = np.nanmean,\n",
    "        # agg = most_frequent_nonan,\n",
    "        dim = 3,\n",
    "        iterations = 30,\n",
    "        seed = 15,\n",
    "        width = 800,\n",
    "        height = 500)\n",
    "    \n",
    "    return mapper_plot1"
   ]
  },
  {
   "cell_type": "code",
   "execution_count": 100,
   "id": "eb5e384f-1178-4ed2-8250-6b4661898f1d",
   "metadata": {},
   "outputs": [],
   "source": [
    "def get_full_info(mapper_plot):\n",
    "    x = vars(mapper_plot._MapperLayoutInteractive__fig)['_data_objs'][1]['x']\n",
    "    y = vars(mapper_plot._MapperLayoutInteractive__fig)['_data_objs'][1]['y']\n",
    "    z = vars(mapper_plot._MapperLayoutInteractive__fig)['_data_objs'][1]['z']\n",
    "\n",
    "    threeDimData = pd.DataFrame({'x': x, 'y': y, 'z': z})\n",
    "\n",
    "    import re\n",
    "    data_tuple = vars(mapper_plot._MapperLayoutInteractive__fig)['_data_objs'][1]['text']\n",
    "\n",
    "    data = []\n",
    "    for item in data_tuple:\n",
    "        color = int(re.search(r'color: (\\d+)', item).group(1))\n",
    "        node = int(re.search(r'node: (\\d+)', item).group(1))\n",
    "        size = int(re.search(r'size: (\\d+)', item).group(1))\n",
    "        data.append({'color': color, 'node': node, 'size': size})\n",
    "    component_info = pd.DataFrame(data)\n",
    "\n",
    "    full_info = pd.concat([component_info, threeDimData], axis=1)\n",
    "\n",
    "    mp_content_origin = vars(mapper_plot._MapperLayoutInteractive__graph)['_node']\n",
    "\n",
    "    mp_content = pd.DataFrame.from_dict(mp_content_origin, orient='index')\n",
    "    mp_content.reset_index(inplace=True)\n",
    "    mp_content.rename(columns={'index': 'node'}, inplace=True)\n",
    "\n",
    "    full_info = pd.merge(full_info, mp_content, on=['node', 'size'], how='inner')\n",
    "    full_info.iloc[:, 3:6]\n",
    "    \n",
    "    return full_info"
   ]
  },
  {
   "cell_type": "markdown",
   "id": "db6b85ef-c642-4903-903b-75a8de083fda",
   "metadata": {},
   "source": [
    "## 步驟: 先算DBSCAN再算calinski，最後檢測常態"
   ]
  },
  {
   "cell_type": "code",
   "execution_count": 101,
   "id": "ea02c3f6-d6b1-48e6-9c64-58562431e64a",
   "metadata": {},
   "outputs": [],
   "source": [
    "from sklearn.metrics import calinski_harabasz_score, silhouette_score\n",
    "\n",
    "def get_calinski_from_db(input_data, eps):\n",
    "    X = input_data.iloc[:, 3:6]\n",
    "\n",
    "    db = DBSCAN(eps=eps, min_samples=10).fit(X)\n",
    "    labels = db.labels_\n",
    "    n_clusters_ = len(set(labels)) - (1 if -1 in labels else 0)\n",
    "\n",
    "    input_data['label'] = labels\n",
    "    # Cluster大於1才會計算\n",
    "    if n_clusters_ > 1:\n",
    "        filtered_labels = labels[labels != -1]\n",
    "        filtered_X = X[labels != -1]\n",
    "        score = calinski_harabasz_score(filtered_X, filtered_labels)\n",
    "        silhouette_score_value = silhouette_score(filtered_X, filtered_labels)\n",
    "    else:\n",
    "        score = -1\n",
    "        silhouette_score_value = -1\n",
    "        \n",
    "    return score, input_data, db, labels, n_clusters_, silhouette_score_value\n",
    "# print('calinski: ', calinski_data[0])\n",
    "# print('clusters: ', calinski_data[4])\n",
    "# print('silhouette: ', calinski_data[5])"
   ]
  },
  {
   "cell_type": "code",
   "execution_count": 2,
   "id": "2945dfbb-b0b1-455d-bc72-b9855257e4ac",
   "metadata": {},
   "outputs": [],
   "source": [
    "# import plotly.graph_objects as go\n",
    "\n",
    "# mapper_plot1 = resample_plot(dataA1, dataA2, select_lst)\n",
    "# full_info = get_full_info(mapper_plot1)\n",
    "# calinski_data = get_calinski_from_db(full_info, 0.07)\n",
    "# print(calinski_data[0])\n",
    "\n",
    "# labels = calinski_data[3]\n",
    "# db = calinski_data[2]\n",
    "# n_clusters_ = calinski_data[4]\n",
    "\n",
    "# unique_labels = set(labels)\n",
    "# core_samples_mask = np.zeros_like(labels, dtype=bool)\n",
    "# core_samples_mask[db.core_sample_indices_] = True\n",
    "\n",
    "# def matplotlib_to_plotly(cmap, alpha=1):\n",
    "#     \"\"\"rgba\"\"\"\n",
    "#     return f'rgba({int(cmap[0]*255)}, {int(cmap[1]*255)}, {int(cmap[2]*255)}, {alpha})'\n",
    "\n",
    "# # colors = [plt.cm.Spectral(each) for each in np.linspace(0, 1, len(unique_labels))]  \n",
    "# colors = [matplotlib_to_plotly(plt.cm.Spectral(each), alpha=0.8) for each in np.linspace(0, 1, len(unique_labels))]\n",
    "# fig = go.Figure()\n",
    "\n",
    "# for k, col in zip(unique_labels, colors):\n",
    "#     if k == -1:\n",
    "#         # col = 'rgba(0,0,0,0)'\n",
    "#         col = 'rgba(0,0,0,0)'\n",
    "\n",
    "#     class_member_mask = labels == k\n",
    "\n",
    "#     core_samples = full_info.iloc[:, 3:6][class_member_mask & core_samples_mask]\n",
    "#     fig.add_trace(go.Scatter3d(\n",
    "#         x=core_samples.iloc[:, 0],\n",
    "#         y=core_samples.iloc[:, 1],\n",
    "#         z=core_samples.iloc[:, 2],\n",
    "#         mode='markers',\n",
    "#         marker=dict(\n",
    "#             size=6,\n",
    "#             color=col,\n",
    "#             opacity=0.8\n",
    "#         ),\n",
    "#         name=f'Cluster {k} Core'\n",
    "#     ))\n",
    "\n",
    "#     non_core_samples = full_info.iloc[:, 3:6][class_member_mask & ~core_samples_mask]\n",
    "#     fig.add_trace(go.Scatter3d(\n",
    "#         x=non_core_samples.iloc[:, 0],\n",
    "#         y=non_core_samples.iloc[:, 1],\n",
    "#         z=non_core_samples.iloc[:, 2],\n",
    "#         mode='markers',\n",
    "#         marker=dict(\n",
    "#             size=6,\n",
    "#             color=col,\n",
    "#             opacity=0.5\n",
    "#         ),\n",
    "#         name=f'Cluster {k} Non-Core'\n",
    "#     ))\n",
    "\n",
    "# fig.update_layout(\n",
    "#     title=f\"Estimated number of clusters: {n_clusters_}\",\n",
    "#     margin=dict(l=0, r=0, b=0, t=0)\n",
    "# )\n",
    "\n",
    "# fig.show()"
   ]
  },
  {
   "cell_type": "markdown",
   "id": "09eb5630-634b-433c-9f9f-23a545efcd1b",
   "metadata": {},
   "source": [
    "## 常態性檢測"
   ]
  },
  {
   "cell_type": "code",
   "execution_count": 129,
   "id": "42a2cc56-b2d4-44a9-9a6d-c8a05c0a10d5",
   "metadata": {
    "tags": []
   },
   "outputs": [
    {
     "name": "stdout",
     "output_type": "stream",
     "text": [
      "0\n",
      "10\n",
      "20\n",
      "30\n",
      "40\n",
      "Execution Time: 690.8470149040222\n"
     ]
    }
   ],
   "source": [
    "calinski_lst = []\n",
    "cluster_lst = []\n",
    "silhouette_lst = []\n",
    "\n",
    "import time\n",
    "\n",
    "start_time = time.time()\n",
    "for i in range(50):\n",
    "    if i%10 == 0:\n",
    "        print(i)\n",
    "    \n",
    "    mapper_plot1 = resample_plot(dataA1, dataA2, select_lst)\n",
    "    full_info = get_full_info(mapper_plot1)\n",
    "    calinski_data = get_calinski_from_db(full_info, 0.07)\n",
    "    \n",
    "    calinski_lst.append(calinski_data[0])\n",
    "    cluster_lst.append(calinski_data[4])\n",
    "    silhouette_lst.append(calinski_data[5])\n",
    "    \n",
    "end_time = time.time()\n",
    "execution_time = end_time - start_time\n",
    "print(\"Execution Time:\", execution_time)"
   ]
  },
  {
   "cell_type": "code",
   "execution_count": 130,
   "id": "6117fb16-1842-4c93-8825-fab816a35475",
   "metadata": {},
   "outputs": [
    {
     "data": {
      "image/png": "[encoded data removed]",
      "text/plain": [
       "<Figure size 432x288 with 1 Axes>"
      ]
     },
     "metadata": {
      "needs_background": "light"
     },
     "output_type": "display_data"
    }
   ],
   "source": [
    "plt.hist(cluster_lst, bins=10)\n",
    "plt.show()"
   ]
  },
  {
   "cell_type": "markdown",
   "id": "fcb932a3-300a-4143-9cad-412a1c5ee5af",
   "metadata": {},
   "source": [
    "## 檢定常態"
   ]
  },
  {
   "cell_type": "code",
   "execution_count": 131,
   "id": "7e5dc519-c3d6-4f4a-a02e-5aef844a039e",
   "metadata": {},
   "outputs": [
    {
     "name": "stdout",
     "output_type": "stream",
     "text": [
      "Cluster 1: 4.00%\n",
      "Cluster 2: 68.00%\n",
      "Cluster 3: 24.00%\n",
      "Cluster 4: 4.00%\n"
     ]
    }
   ],
   "source": [
    "from collections import Counter\n",
    "count = Counter(cluster_lst)\n",
    "\n",
    "# 計算總數\n",
    "total = len(cluster_lst)\n",
    "\n",
    "# 打印每個元素的百分比\n",
    "for key in sorted(count):\n",
    "    percent = (count[key] / total) * 100\n",
    "    print(f\"Cluster {key}: {percent:.2f}%\")"
   ]
  },
  {
   "cell_type": "code",
   "execution_count": 132,
   "id": "a66373af-0744-4470-9de1-dca3735c13ed",
   "metadata": {},
   "outputs": [
    {
     "data": {
      "image/png": "[encoded data removed]",
      "text/plain": [
       "<Figure size 720x432 with 1 Axes>"
      ]
     },
     "metadata": {},
     "output_type": "display_data"
    }
   ],
   "source": [
    "filtered_silhouettes = [x for x in silhouette_lst if x > 0]\n",
    "# filtered_silhouettes = [x for x in filtered_silhouettes if x > 0.2]\n",
    "\n",
    "import matplotlib.pyplot as plt\n",
    "import seaborn as sns\n",
    "# plt.hist(silhouette_lst, bins=30)\n",
    "# plt.show()\n",
    "sns.set(style=\"whitegrid\")\n",
    "plt.figure(figsize=(10, 6))\n",
    "sns.histplot(filtered_silhouettes, bins=10, kde=True, color=\"blue\")\n",
    "\n",
    "# 添加標題和標籤\n",
    "plt.title(\"Distribution of Silhouette Scores\", fontsize=15)\n",
    "plt.xlabel(\"Silhouette Score\", fontsize=12)\n",
    "plt.ylabel(\"Frequency\", fontsize=12)\n",
    "\n",
    "# 顯示圖表\n",
    "plt.show()"
   ]
  },
  {
   "cell_type": "code",
   "execution_count": 137,
   "id": "63a0a353-86f7-4ded-b003-ebc92361a3b6",
   "metadata": {},
   "outputs": [
    {
     "name": "stdout",
     "output_type": "stream",
     "text": [
      "統計量: 82.00692771475649\n",
      "P值: 1.55747795348672e-18\n",
      "數據不符合常態分佈\n"
     ]
    }
   ],
   "source": [
    "from scipy import stats\n",
    "k2, p = stats.normaltest(silhouette_lst)\n",
    "\n",
    "print(\"統計量:\", k2)\n",
    "print(\"P值:\", p)\n",
    "\n",
    "if p < 0.01:\n",
    "    print(\"數據不符合常態分佈\")\n",
    "else:\n",
    "    print(\"數據符合常態分佈\")"
   ]
  },
  {
   "cell_type": "code",
   "execution_count": 150,
   "id": "5c162696-6c56-4365-b9c6-4d96d3e3dc69",
   "metadata": {},
   "outputs": [
    {
     "name": "stdout",
     "output_type": "stream",
     "text": [
      "平均值: 0.8340038219101491\n",
      "標準差: 0.03374711115718759\n"
     ]
    }
   ],
   "source": [
    "import statistics\n",
    "mean_score = statistics.mean(filtered_silhouettes)\n",
    "stdev_score = statistics.stdev(filtered_silhouettes)\n",
    "\n",
    "print(f\"平均值: {mean_score}\")\n",
    "print(f\"標準差: {stdev_score}\")"
   ]
  },
  {
   "cell_type": "code",
   "execution_count": 151,
   "id": "482e717d-42ee-4842-98fe-cc77930f61fd",
   "metadata": {},
   "outputs": [
    {
     "data": {
      "text/plain": [
       "0.18490509746413697"
      ]
     },
     "execution_count": 151,
     "metadata": {},
     "output_type": "execute_result"
    }
   ],
   "source": [
    "ks_statistic, p_value = stats.kstest(filtered_silhouettes, 'norm', args=(mean_score, stdev_score))\n",
    "p_value"
   ]
  },
  {
   "cell_type": "code",
   "execution_count": 142,
   "id": "7ede57d3-a190-4df8-a732-83dbcdc28126",
   "metadata": {},
   "outputs": [],
   "source": [
    "import os\n",
    "# silhouette_path = os.path.join('CalculatedData/抽樣分布/silhouette_lst.txt')\n",
    "filtered_silhouettes_path = os.path.join('CalculatedData/抽樣分布/道路輪廓.txt')\n",
    "\n",
    "# 將列表保存到文件中\n",
    "# with open(silhouette_path, \"w\") as file:\n",
    "#     for item in silhouette_lst:\n",
    "#         file.write(\"%s\\n\" % item)\n",
    "with open(filtered_silhouettes_path, \"w\") as file:\n",
    "    for item in filtered_silhouettes:\n",
    "        file.write(\"%s\\n\" % item)"
   ]
  },
  {
   "cell_type": "markdown",
   "id": "176143a1-8926-4d9e-9aab-1aa6c23ba917",
   "metadata": {},
   "source": [
    "## 所有資料集的常態性檢定"
   ]
  },
  {
   "cell_type": "code",
   "execution_count": 152,
   "id": "b4b1f19d-dba7-4e9f-8b7e-400c7c9d6b91",
   "metadata": {},
   "outputs": [],
   "source": [
    "select_lst_full = [\n",
    "    '天候名稱', '路面狀況-路面狀態名稱',\n",
    "    '肇因研判大類別名稱-主要', '當事者屬-性-別名稱', '當事者事故發生時年齡',\n",
    "    '車輛撞擊部位大類別名稱-最初', '光線名稱','道路類別-第1當事者-名稱',\n",
    "    '速限-第1當事者','道路型態大類別名稱', '事故位置大類別名稱', \n",
    "    '號誌-號誌種類名稱', '車道劃分設施-分向設施大類別名稱', '車道劃分設施-分道設施-快車道或一般車道間名稱',\n",
    "    '車道劃分設施-分道設施-快慢車道間名稱', '車道劃分設施-分道設施-路面邊線名稱',\n",
    "    '事故類型及型態大類別名稱', '死亡受傷人數','經度', '緯度',\n",
    "]"
   ]
  },
  {
   "cell_type": "code",
   "execution_count": 184,
   "id": "2540390b-b291-482c-be69-8528ce87ca74",
   "metadata": {},
   "outputs": [
    {
     "name": "stdout",
     "output_type": "stream",
     "text": [
      "0\n",
      "10\n",
      "20\n",
      "30\n",
      "40\n",
      "Execution Time: 1081.0324258804321\n"
     ]
    }
   ],
   "source": [
    "calinski_lst = []\n",
    "cluster_lst = []\n",
    "silhouette_lst = []\n",
    "\n",
    "import time\n",
    "\n",
    "start_time = time.time()\n",
    "for i in range(50):\n",
    "    if i%10 == 0:\n",
    "        print(i)\n",
    "    \n",
    "    mapper_plot1 = resample_plot(dataA1, dataA2, select_lst_full, p_age = True)\n",
    "    full_info = get_full_info(mapper_plot1)\n",
    "    calinski_data = get_calinski_from_db(full_info, 0.08)\n",
    "    \n",
    "    calinski_lst.append(calinski_data[0])\n",
    "    cluster_lst.append(calinski_data[4])\n",
    "    silhouette_lst.append(calinski_data[5])\n",
    "    \n",
    "end_time = time.time()\n",
    "execution_time = end_time - start_time\n",
    "print(\"Execution Time:\", execution_time)"
   ]
  },
  {
   "cell_type": "code",
   "execution_count": 185,
   "id": "4ae53148-a10f-43ec-b0f7-2a71cbd3d03c",
   "metadata": {},
   "outputs": [
    {
     "data": {
      "image/png": "[encoded data removed]",
      "text/plain": [
       "<Figure size 432x288 with 1 Axes>"
      ]
     },
     "metadata": {},
     "output_type": "display_data"
    }
   ],
   "source": [
    "plt.hist(cluster_lst, bins=10)\n",
    "plt.show()"
   ]
  },
  {
   "cell_type": "code",
   "execution_count": 186,
   "id": "2df3b766-ef20-4e64-8569-27898525d77b",
   "metadata": {},
   "outputs": [
    {
     "name": "stdout",
     "output_type": "stream",
     "text": [
      "Cluster 1: 12.00%\n",
      "Cluster 2: 68.00%\n",
      "Cluster 3: 18.00%\n",
      "Cluster 4: 2.00%\n"
     ]
    }
   ],
   "source": [
    "from collections import Counter\n",
    "count = Counter(cluster_lst)\n",
    "\n",
    "# 計算總數\n",
    "total = len(cluster_lst)\n",
    "\n",
    "# 打印每個元素的百分比\n",
    "for key in sorted(count):\n",
    "    percent = (count[key] / total) * 100\n",
    "    print(f\"Cluster {key}: {percent:.2f}%\")"
   ]
  },
  {
   "cell_type": "code",
   "execution_count": 187,
   "id": "a3cc86dc-11a6-47c0-8115-4ab18ebe9866",
   "metadata": {},
   "outputs": [
    {
     "data": {
      "image/png": "[encoded data removed]",
      "text/plain": [
       "<Figure size 720x432 with 1 Axes>"
      ]
     },
     "metadata": {},
     "output_type": "display_data"
    }
   ],
   "source": [
    "filtered_silhouettes = [x for x in silhouette_lst if x > 0]\n",
    "# filtered_silhouettes = [x for x in filtered_silhouettes if x > 0.2]\n",
    "\n",
    "import matplotlib.pyplot as plt\n",
    "import seaborn as sns\n",
    "# plt.hist(silhouette_lst, bins=30)\n",
    "# plt.show()\n",
    "sns.set(style=\"whitegrid\")\n",
    "plt.figure(figsize=(10, 6))\n",
    "sns.histplot(filtered_silhouettes, bins=10, kde=True, color=\"blue\")\n",
    "\n",
    "# 添加標題和標籤\n",
    "plt.title(\"Distribution of Silhouette Scores\", fontsize=15)\n",
    "plt.xlabel(\"Silhouette Score\", fontsize=12)\n",
    "plt.ylabel(\"Frequency\", fontsize=12)\n",
    "\n",
    "# 顯示圖表\n",
    "plt.show()"
   ]
  },
  {
   "cell_type": "code",
   "execution_count": 188,
   "id": "64b1fac2-4c2f-49f1-9897-bbe9a94448c7",
   "metadata": {},
   "outputs": [
    {
     "name": "stdout",
     "output_type": "stream",
     "text": [
      "平均值: 0.729130519283943\n",
      "標準差: 0.07380456088076236\n"
     ]
    }
   ],
   "source": [
    "import statistics\n",
    "mean_score = statistics.mean(filtered_silhouettes)\n",
    "stdev_score = statistics.stdev(filtered_silhouettes)\n",
    "\n",
    "print(f\"平均值: {mean_score}\")\n",
    "print(f\"標準差: {stdev_score}\")"
   ]
  },
  {
   "cell_type": "code",
   "execution_count": 189,
   "id": "ab3ad4e7-c55b-485d-88d2-edd2c0504f2b",
   "metadata": {},
   "outputs": [
    {
     "data": {
      "text/plain": [
       "0.1701627107168603"
      ]
     },
     "execution_count": 189,
     "metadata": {},
     "output_type": "execute_result"
    }
   ],
   "source": [
    "ks_statistic, p_value = stats.kstest(filtered_silhouettes, 'norm', args=(mean_score, stdev_score))\n",
    "p_value"
   ]
  }
 ],
 "metadata": {
  "kernelspec": {
   "display_name": "Python 3 (ipykernel)",
   "language": "python",
   "name": "python3"
  },
  "language_info": {
   "codemirror_mode": {
    "name": "ipython",
    "version": 3
   },
   "file_extension": ".py",
   "mimetype": "text/x-python",
   "name": "python",
   "nbconvert_exporter": "python",
   "pygments_lexer": "ipython3",
   "version": "3.9.12"
  }
 },
 "nbformat": 4,
 "nbformat_minor": 5
}
